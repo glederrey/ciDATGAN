{
 "cells": [
  {
   "cell_type": "code",
   "execution_count": 1,
   "metadata": {
    "collapsed": true
   },
   "outputs": [],
   "source": [
    "import pandas as pd\n",
    "import numpy as np\n",
    "import matplotlib.pyplot as plt\n",
    "import random\n",
    "from tqdm import tqdm\n",
    "import time\n",
    "\n",
    "\n",
    "import seaborn as sns\n",
    "sns.set_style(\"whitegrid\")\n",
    "\n",
    "from scipy.spatial.distance import jensenshannon\n",
    "\n",
    "import urllib3\n",
    "import json\n",
    "\n",
    "# For the Python notebook\n",
    "%matplotlib inline\n",
    "%reload_ext autoreload\n",
    "%autoreload 2"
   ]
  },
  {
   "cell_type": "markdown",
   "source": [
    "# Update data from nomis"
   ],
   "metadata": {
    "collapsed": false,
    "pycharm": {
     "name": "#%% md\n"
    }
   }
  },
  {
   "cell_type": "code",
   "execution_count": 2,
   "outputs": [],
   "source": [
    "df = pd.read_csv('../../data/testing/nomis/hh_size.csv', index_col=0)"
   ],
   "metadata": {
    "collapsed": false,
    "pycharm": {
     "name": "#%%\n"
    }
   }
  },
  {
   "cell_type": "code",
   "execution_count": 3,
   "outputs": [],
   "source": [
    "boroughs = ['City of London', 'Westminster', 'Kingston upon Thames', 'Bromley', 'Greenwich', 'Havering', 'Barnet', 'Enfield', 'Hillingdon', 'Brent']"
   ],
   "metadata": {
    "collapsed": false,
    "pycharm": {
     "name": "#%%\n"
    }
   }
  },
  {
   "cell_type": "code",
   "execution_count": 4,
   "outputs": [],
   "source": [
    "dct = {}\n",
    "\n",
    "for b in boroughs:\n",
    "    dct[b] = df[b].values"
   ],
   "metadata": {
    "collapsed": false,
    "pycharm": {
     "name": "#%%\n"
    }
   }
  },
  {
   "cell_type": "code",
   "execution_count": 5,
   "outputs": [],
   "source": [
    "idx = ['Total', '1', '2', '3', '4', '5', '6', '7', '8+']"
   ],
   "metadata": {
    "collapsed": false,
    "pycharm": {
     "name": "#%%\n"
    }
   }
  },
  {
   "cell_type": "code",
   "execution_count": 6,
   "outputs": [],
   "source": [
    "df = pd.DataFrame(dct, index=idx)"
   ],
   "metadata": {
    "collapsed": false,
    "pycharm": {
     "name": "#%%\n"
    }
   }
  },
  {
   "cell_type": "code",
   "execution_count": 7,
   "outputs": [],
   "source": [
    "df.to_csv('../../data/testing_select/nomis/hh_size.csv')"
   ],
   "metadata": {
    "collapsed": false,
    "pycharm": {
     "name": "#%%\n"
    }
   }
  },
  {
   "cell_type": "markdown",
   "source": [
    "# Compute values for synthetic data"
   ],
   "metadata": {
    "collapsed": false,
    "pycharm": {
     "name": "#%% md\n"
    }
   }
  },
  {
   "cell_type": "code",
   "execution_count": 8,
   "outputs": [],
   "source": [
    "boroughs = ['City of London', 'Westminster', 'Kingston upon Thames', 'Bromley', 'Greenwich', 'Havering', 'Barnet', 'Enfield', 'Hillingdon', 'Brent']\n",
    "idx = ['Total', '1', '2', '3', '4', '5', '6', '7', '8+']"
   ],
   "metadata": {
    "collapsed": false,
    "pycharm": {
     "name": "#%%\n"
    }
   }
  },
  {
   "cell_type": "code",
   "execution_count": 9,
   "outputs": [],
   "source": [
    "# ciDATGAN\n",
    "dct = {}\n",
    "\n",
    "for b in boroughs:\n",
    "    df = pd.read_csv('../../data/ciDATGAN_select/{}.csv'.format(b))\n",
    "\n",
    "    vals = []\n",
    "    vals.append(np.sum(1/df['hh_people']))\n",
    "    for i in range(1, 8):\n",
    "        vals.append(np.sum(1/df[df['hh_people'] == i]['hh_people']))\n",
    "    vals.append(np.sum(1/df[df['hh_people'] >= 8]['hh_people']))\n",
    "\n",
    "    dct[b] = vals"
   ],
   "metadata": {
    "collapsed": false,
    "pycharm": {
     "name": "#%%\n"
    }
   }
  },
  {
   "cell_type": "code",
   "execution_count": 10,
   "outputs": [],
   "source": [
    "df = pd.DataFrame(dct, index=idx)\n",
    "df.to_csv('../../data/testing_select/ciDATGAN/hh_size.csv')"
   ],
   "metadata": {
    "collapsed": false,
    "pycharm": {
     "name": "#%%\n"
    }
   }
  },
  {
   "cell_type": "code",
   "execution_count": 11,
   "outputs": [],
   "source": [
    "# DATGAN\n",
    "dct = {}\n",
    "\n",
    "for b in boroughs:\n",
    "    df = pd.read_csv('../../data/DATGAN_select/{}.csv'.format(b))\n",
    "\n",
    "    vals = []\n",
    "    vals.append(np.sum(1/df['hh_people']))\n",
    "    for i in range(1, 8):\n",
    "        vals.append(np.sum(1/df[df['hh_people'] == i]['hh_people']))\n",
    "    vals.append(np.sum(1/df[df['hh_people'] >= 8]['hh_people']))\n",
    "\n",
    "    dct[b] = vals"
   ],
   "metadata": {
    "collapsed": false,
    "pycharm": {
     "name": "#%%\n"
    }
   }
  },
  {
   "cell_type": "code",
   "execution_count": 12,
   "outputs": [],
   "source": [
    "df = pd.DataFrame(dct, index=idx)\n",
    "df.to_csv('../../data/testing_select/DATGAN/hh_size.csv')"
   ],
   "metadata": {
    "collapsed": false,
    "pycharm": {
     "name": "#%%\n"
    }
   }
  },
  {
   "cell_type": "code",
   "execution_count": 13,
   "outputs": [],
   "source": [
    "# oversample\n",
    "dct = {}\n",
    "\n",
    "for b in boroughs:\n",
    "    df = pd.read_csv('../../data/oversample/{}.csv'.format(b))\n",
    "\n",
    "    vals = []\n",
    "    vals.append(np.sum(1/df['hh_people']))\n",
    "    for i in range(1, 8):\n",
    "        vals.append(np.sum(1/df[df['hh_people'] == i]['hh_people']))\n",
    "    vals.append(np.sum(1/df[df['hh_people'] >= 8]['hh_people']))\n",
    "\n",
    "    dct[b] = vals"
   ],
   "metadata": {
    "collapsed": false,
    "pycharm": {
     "name": "#%%\n"
    }
   }
  },
  {
   "cell_type": "code",
   "execution_count": 14,
   "outputs": [],
   "source": [
    "df = pd.DataFrame(dct, index=idx)\n",
    "df.to_csv('../../data/testing_select/oversample/hh_size.csv')"
   ],
   "metadata": {
    "collapsed": false,
    "pycharm": {
     "name": "#%%\n"
    }
   }
  },
  {
   "cell_type": "markdown",
   "source": [
    "# Compare"
   ],
   "metadata": {
    "collapsed": false,
    "pycharm": {
     "name": "#%% md\n"
    }
   }
  },
  {
   "cell_type": "code",
   "execution_count": 27,
   "outputs": [],
   "source": [
    "orig = pd.read_csv('../../data/testing_select/nomis/hh_size.csv', index_col=0)"
   ],
   "metadata": {
    "collapsed": false,
    "pycharm": {
     "name": "#%%\n"
    }
   }
  },
  {
   "cell_type": "code",
   "execution_count": 28,
   "outputs": [],
   "source": [
    "files = [\n",
    "    '../../data/testing_select/DATGAN/hh_size.csv',\n",
    "    '../../data/testing_select/ciDATGAN/hh_size.csv',\n",
    "    '../../data/testing_select/oversample/hh_size.csv'\n",
    "]\n",
    "\n",
    "dfs = [pd.read_csv(f, index_col=0) for f in files]\n",
    "labels = ['DATGAN', 'ciDATGAN', 'Oversample LTDS']"
   ],
   "metadata": {
    "collapsed": false,
    "pycharm": {
     "name": "#%%\n"
    }
   }
  },
  {
   "cell_type": "code",
   "execution_count": 29,
   "outputs": [],
   "source": [
    "orig = orig/orig.iloc[0]\n",
    "orig = orig.iloc[1:-1]\n",
    "\n",
    "errors = {}\n",
    "\n",
    "for (df, l) in zip(dfs, labels):\n",
    "    df = df/df.iloc[0]\n",
    "    df = df.iloc[1:-1]\n",
    "\n",
    "    errors[l] = []\n",
    "\n",
    "    for c in orig.columns:\n",
    "        errors[l].append(jensenshannon(df[c], orig[c]))"
   ],
   "metadata": {
    "collapsed": false,
    "pycharm": {
     "name": "#%%\n"
    }
   }
  },
  {
   "cell_type": "code",
   "execution_count": 30,
   "outputs": [
    {
     "name": "stdout",
     "output_type": "stream",
     "text": [
      "DATGAN: 5.94e-02 \\pm 2.13e-02\n",
      "ciDATGAN: 6.38e-02 \\pm 4.32e-02\n",
      "Oversample LTDS: 6.21e-02 \\pm 3.49e-02\n"
     ]
    }
   ],
   "source": [
    "for l in labels:\n",
    "    print('{}: {:.2e} \\pm {:.2e}'.format(l, np.mean(errors[l]), np.std(errors[l])))"
   ],
   "metadata": {
    "collapsed": false,
    "pycharm": {
     "name": "#%%\n"
    }
   }
  },
  {
   "cell_type": "code",
   "execution_count": 31,
   "outputs": [
    {
     "data": {
      "text/plain": "<AxesSubplot:>"
     },
     "execution_count": 31,
     "metadata": {},
     "output_type": "execute_result"
    },
    {
     "data": {
      "text/plain": "<Figure size 720x504 with 1 Axes>",
      "image/png": "[encoded data removed]"
     },
     "metadata": {
      "needs_background": "light"
     },
     "output_type": "display_data"
    }
   ],
   "source": [
    "df = pd.DataFrame(errors)\n",
    "\n",
    "plt.figure(figsize=(10,7))\n",
    "\n",
    "sns.boxplot(data=df,showmeans=True,\n",
    "            meanprops={\"marker\":\"o\",\n",
    "                       \"markerfacecolor\":\"white\",\n",
    "                       \"markeredgecolor\":\"black\",\n",
    "                      \"markersize\":\"10\"})"
   ],
   "metadata": {
    "collapsed": false,
    "pycharm": {
     "name": "#%%\n"
    }
   }
  },
  {
   "cell_type": "code",
   "execution_count": 32,
   "outputs": [
    {
     "data": {
      "text/plain": "array([[0.10896281, 0.18826708, 0.16000496],\n       [0.04911919, 0.03829456, 0.05811446],\n       [0.05752197, 0.05435497, 0.0604463 ],\n       [0.05121399, 0.05221604, 0.055871  ],\n       [0.07452886, 0.05511319, 0.05230066],\n       [0.04216732, 0.06872116, 0.07647091],\n       [0.03346262, 0.02634648, 0.03209593],\n       [0.03867245, 0.03774445, 0.04065203],\n       [0.06308586, 0.05436825, 0.04969332],\n       [0.07545791, 0.06280984, 0.03554225]])"
     },
     "execution_count": 32,
     "metadata": {},
     "output_type": "execute_result"
    }
   ],
   "source": [
    "df.values"
   ],
   "metadata": {
    "collapsed": false,
    "pycharm": {
     "name": "#%%\n"
    }
   }
  },
  {
   "cell_type": "code",
   "execution_count": null,
   "outputs": [],
   "source": [],
   "metadata": {
    "collapsed": false,
    "pycharm": {
     "name": "#%%\n"
    }
   }
  }
 ],
 "metadata": {
  "kernelspec": {
   "display_name": "Python 3",
   "language": "python",
   "name": "python3"
  },
  "language_info": {
   "codemirror_mode": {
    "name": "ipython",
    "version": 2
   },
   "file_extension": ".py",
   "mimetype": "text/x-python",
   "name": "python",
   "nbconvert_exporter": "python",
   "pygments_lexer": "ipython2",
   "version": "2.7.6"
  }
 },
 "nbformat": 4,
 "nbformat_minor": 0
}