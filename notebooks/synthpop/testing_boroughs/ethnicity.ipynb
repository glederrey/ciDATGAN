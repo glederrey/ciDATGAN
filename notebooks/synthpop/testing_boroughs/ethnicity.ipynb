{
 "cells": [
  {
   "cell_type": "code",
   "execution_count": 1,
   "metadata": {
    "collapsed": true
   },
   "outputs": [],
   "source": [
    "import pandas as pd\n",
    "import numpy as np\n",
    "import matplotlib.pyplot as plt\n",
    "import random\n",
    "from tqdm import tqdm\n",
    "import time\n",
    "from scipy.spatial.distance import jensenshannon\n",
    "\n",
    "\n",
    "import seaborn as sns\n",
    "sns.set_style(\"whitegrid\")\n",
    "\n",
    "\n",
    "import urllib3\n",
    "import json\n",
    "\n",
    "# For the Python notebook\n",
    "%matplotlib inline\n",
    "%reload_ext autoreload\n",
    "%autoreload 2"
   ]
  },
  {
   "cell_type": "markdown",
   "source": [
    "# Get data from nomis"
   ],
   "metadata": {
    "collapsed": false,
    "pycharm": {
     "name": "#%% md\n"
    }
   }
  },
  {
   "cell_type": "code",
   "execution_count": 27,
   "outputs": [],
   "source": [
    "boroughs = {\n",
    "    'Camden': 1946157246,\n",
    "    'City of London': 1946157247,\n",
    "    'Hackney': 1946157248,\n",
    "    'Haringey': 1946157250,\n",
    "    'Islington': 1946157251,\n",
    "    'Kensington and Chelsea': 1946157252,\n",
    "    'Lambeth': 1946157253,\n",
    "    'Lewisham': 1946157254,\n",
    "    'Newham': 1946157255,\n",
    "    'Southwark': 1946157256,\n",
    "    'Tower Hamlets': 1946157257,\n",
    "    'Wandsworth': 1946157258,\n",
    "    'Westminster': 1946157259,\n",
    "    'Barking and Dagenham': 1946157260,\n",
    "    'Barnet': 1946157261,\n",
    "    'Bexley': 1946157262,\n",
    "    'Brent': 1946157263,\n",
    "    'Bromley': 1946157264,\n",
    "    'Croydon': 1946157265,\n",
    "    'Ealing': 1946157266,\n",
    "    'Enfield': 1946157267,\n",
    "    'Greenwich': 1946157268,\n",
    "    'Harrow': 1946157269,\n",
    "    'Havering': 1946157270,\n",
    "    'Hillingdon': 1946157271,\n",
    "    'Hounslow': 1946157272,\n",
    "    'Kingston upon Thames': 1946157273,\n",
    "    'Merton': 1946157274,\n",
    "    'Redbridge': 1946157275,\n",
    "    'Richmond upon Thames': 1946157276,\n",
    "    'Sutton': 1946157277,\n",
    "    'Waltham Forest': 1946157278,\n",
    "    'Hammersmith and Fulham': 1946157249,\n",
    "}"
   ],
   "metadata": {
    "collapsed": false,
    "pycharm": {
     "name": "#%%\n"
    }
   }
  },
  {
   "cell_type": "code",
   "execution_count": 28,
   "outputs": [],
   "source": [
    "http = urllib3.PoolManager()"
   ],
   "metadata": {
    "collapsed": false,
    "pycharm": {
     "name": "#%%\n"
    }
   }
  },
  {
   "cell_type": "code",
   "execution_count": 29,
   "outputs": [
    {
     "name": "stderr",
     "output_type": "stream",
     "text": [
      "  0%|          | 0/33 [00:00<?, ?it/s]D:\\Users\\glede\\anaconda3\\envs\\dev\\lib\\site-packages\\urllib3\\connectionpool.py:842: InsecureRequestWarning: Unverified HTTPS request is being made. Adding certificate verification is strongly advised. See: https://urllib3.readthedocs.io/en/latest/advanced-usage.html#ssl-warnings\n",
      "  warnings.warn((\n",
      "  3%|▎         | 1/33 [00:01<00:48,  1.50s/it]D:\\Users\\glede\\anaconda3\\envs\\dev\\lib\\site-packages\\urllib3\\connectionpool.py:842: InsecureRequestWarning: Unverified HTTPS request is being made. Adding certificate verification is strongly advised. See: https://urllib3.readthedocs.io/en/latest/advanced-usage.html#ssl-warnings\n",
      "  warnings.warn((\n",
      "  6%|▌         | 2/33 [00:02<00:40,  1.31s/it]D:\\Users\\glede\\anaconda3\\envs\\dev\\lib\\site-packages\\urllib3\\connectionpool.py:842: InsecureRequestWarning: Unverified HTTPS request is being made. Adding certificate verification is strongly advised. See: https://urllib3.readthedocs.io/en/latest/advanced-usage.html#ssl-warnings\n",
      "  warnings.warn((\n",
      "  9%|▉         | 3/33 [00:03<00:37,  1.26s/it]D:\\Users\\glede\\anaconda3\\envs\\dev\\lib\\site-packages\\urllib3\\connectionpool.py:842: InsecureRequestWarning: Unverified HTTPS request is being made. Adding certificate verification is strongly advised. See: https://urllib3.readthedocs.io/en/latest/advanced-usage.html#ssl-warnings\n",
      "  warnings.warn((\n",
      " 12%|█▏        | 4/33 [00:05<00:35,  1.22s/it]D:\\Users\\glede\\anaconda3\\envs\\dev\\lib\\site-packages\\urllib3\\connectionpool.py:842: InsecureRequestWarning: Unverified HTTPS request is being made. Adding certificate verification is strongly advised. See: https://urllib3.readthedocs.io/en/latest/advanced-usage.html#ssl-warnings\n",
      "  warnings.warn((\n",
      " 15%|█▌        | 5/33 [00:06<00:33,  1.20s/it]D:\\Users\\glede\\anaconda3\\envs\\dev\\lib\\site-packages\\urllib3\\connectionpool.py:842: InsecureRequestWarning: Unverified HTTPS request is being made. Adding certificate verification is strongly advised. See: https://urllib3.readthedocs.io/en/latest/advanced-usage.html#ssl-warnings\n",
      "  warnings.warn((\n",
      " 18%|█▊        | 6/33 [00:07<00:32,  1.20s/it]D:\\Users\\glede\\anaconda3\\envs\\dev\\lib\\site-packages\\urllib3\\connectionpool.py:842: InsecureRequestWarning: Unverified HTTPS request is being made. Adding certificate verification is strongly advised. See: https://urllib3.readthedocs.io/en/latest/advanced-usage.html#ssl-warnings\n",
      "  warnings.warn((\n",
      " 21%|██        | 7/33 [00:08<00:30,  1.18s/it]D:\\Users\\glede\\anaconda3\\envs\\dev\\lib\\site-packages\\urllib3\\connectionpool.py:842: InsecureRequestWarning: Unverified HTTPS request is being made. Adding certificate verification is strongly advised. See: https://urllib3.readthedocs.io/en/latest/advanced-usage.html#ssl-warnings\n",
      "  warnings.warn((\n",
      " 24%|██▍       | 8/33 [00:09<00:29,  1.17s/it]D:\\Users\\glede\\anaconda3\\envs\\dev\\lib\\site-packages\\urllib3\\connectionpool.py:842: InsecureRequestWarning: Unverified HTTPS request is being made. Adding certificate verification is strongly advised. See: https://urllib3.readthedocs.io/en/latest/advanced-usage.html#ssl-warnings\n",
      "  warnings.warn((\n",
      " 27%|██▋       | 9/33 [00:10<00:28,  1.17s/it]D:\\Users\\glede\\anaconda3\\envs\\dev\\lib\\site-packages\\urllib3\\connectionpool.py:842: InsecureRequestWarning: Unverified HTTPS request is being made. Adding certificate verification is strongly advised. See: https://urllib3.readthedocs.io/en/latest/advanced-usage.html#ssl-warnings\n",
      "  warnings.warn((\n",
      " 30%|███       | 10/33 [00:12<00:28,  1.26s/it]D:\\Users\\glede\\anaconda3\\envs\\dev\\lib\\site-packages\\urllib3\\connectionpool.py:842: InsecureRequestWarning: Unverified HTTPS request is being made. Adding certificate verification is strongly advised. See: https://urllib3.readthedocs.io/en/latest/advanced-usage.html#ssl-warnings\n",
      "  warnings.warn((\n",
      " 33%|███▎      | 11/33 [00:13<00:28,  1.28s/it]D:\\Users\\glede\\anaconda3\\envs\\dev\\lib\\site-packages\\urllib3\\connectionpool.py:842: InsecureRequestWarning: Unverified HTTPS request is being made. Adding certificate verification is strongly advised. See: https://urllib3.readthedocs.io/en/latest/advanced-usage.html#ssl-warnings\n",
      "  warnings.warn((\n",
      " 36%|███▋      | 12/33 [00:14<00:26,  1.28s/it]D:\\Users\\glede\\anaconda3\\envs\\dev\\lib\\site-packages\\urllib3\\connectionpool.py:842: InsecureRequestWarning: Unverified HTTPS request is being made. Adding certificate verification is strongly advised. See: https://urllib3.readthedocs.io/en/latest/advanced-usage.html#ssl-warnings\n",
      "  warnings.warn((\n",
      " 39%|███▉      | 13/33 [00:16<00:25,  1.28s/it]D:\\Users\\glede\\anaconda3\\envs\\dev\\lib\\site-packages\\urllib3\\connectionpool.py:842: InsecureRequestWarning: Unverified HTTPS request is being made. Adding certificate verification is strongly advised. See: https://urllib3.readthedocs.io/en/latest/advanced-usage.html#ssl-warnings\n",
      "  warnings.warn((\n",
      " 42%|████▏     | 14/33 [00:17<00:24,  1.28s/it]D:\\Users\\glede\\anaconda3\\envs\\dev\\lib\\site-packages\\urllib3\\connectionpool.py:842: InsecureRequestWarning: Unverified HTTPS request is being made. Adding certificate verification is strongly advised. See: https://urllib3.readthedocs.io/en/latest/advanced-usage.html#ssl-warnings\n",
      "  warnings.warn((\n",
      " 45%|████▌     | 15/33 [00:18<00:22,  1.28s/it]D:\\Users\\glede\\anaconda3\\envs\\dev\\lib\\site-packages\\urllib3\\connectionpool.py:842: InsecureRequestWarning: Unverified HTTPS request is being made. Adding certificate verification is strongly advised. See: https://urllib3.readthedocs.io/en/latest/advanced-usage.html#ssl-warnings\n",
      "  warnings.warn((\n",
      " 48%|████▊     | 16/33 [00:19<00:21,  1.26s/it]D:\\Users\\glede\\anaconda3\\envs\\dev\\lib\\site-packages\\urllib3\\connectionpool.py:842: InsecureRequestWarning: Unverified HTTPS request is being made. Adding certificate verification is strongly advised. See: https://urllib3.readthedocs.io/en/latest/advanced-usage.html#ssl-warnings\n",
      "  warnings.warn((\n",
      " 52%|█████▏    | 17/33 [00:21<00:20,  1.26s/it]D:\\Users\\glede\\anaconda3\\envs\\dev\\lib\\site-packages\\urllib3\\connectionpool.py:842: InsecureRequestWarning: Unverified HTTPS request is being made. Adding certificate verification is strongly advised. See: https://urllib3.readthedocs.io/en/latest/advanced-usage.html#ssl-warnings\n",
      "  warnings.warn((\n",
      " 55%|█████▍    | 18/33 [00:22<00:18,  1.26s/it]D:\\Users\\glede\\anaconda3\\envs\\dev\\lib\\site-packages\\urllib3\\connectionpool.py:842: InsecureRequestWarning: Unverified HTTPS request is being made. Adding certificate verification is strongly advised. See: https://urllib3.readthedocs.io/en/latest/advanced-usage.html#ssl-warnings\n",
      "  warnings.warn((\n",
      " 58%|█████▊    | 19/33 [00:23<00:17,  1.26s/it]D:\\Users\\glede\\anaconda3\\envs\\dev\\lib\\site-packages\\urllib3\\connectionpool.py:842: InsecureRequestWarning: Unverified HTTPS request is being made. Adding certificate verification is strongly advised. See: https://urllib3.readthedocs.io/en/latest/advanced-usage.html#ssl-warnings\n",
      "  warnings.warn((\n",
      " 61%|██████    | 20/33 [00:25<00:16,  1.28s/it]D:\\Users\\glede\\anaconda3\\envs\\dev\\lib\\site-packages\\urllib3\\connectionpool.py:842: InsecureRequestWarning: Unverified HTTPS request is being made. Adding certificate verification is strongly advised. See: https://urllib3.readthedocs.io/en/latest/advanced-usage.html#ssl-warnings\n",
      "  warnings.warn((\n",
      " 64%|██████▎   | 21/33 [00:26<00:15,  1.29s/it]D:\\Users\\glede\\anaconda3\\envs\\dev\\lib\\site-packages\\urllib3\\connectionpool.py:842: InsecureRequestWarning: Unverified HTTPS request is being made. Adding certificate verification is strongly advised. See: https://urllib3.readthedocs.io/en/latest/advanced-usage.html#ssl-warnings\n",
      "  warnings.warn((\n",
      " 67%|██████▋   | 22/33 [00:27<00:14,  1.28s/it]D:\\Users\\glede\\anaconda3\\envs\\dev\\lib\\site-packages\\urllib3\\connectionpool.py:842: InsecureRequestWarning: Unverified HTTPS request is being made. Adding certificate verification is strongly advised. See: https://urllib3.readthedocs.io/en/latest/advanced-usage.html#ssl-warnings\n",
      "  warnings.warn((\n",
      " 70%|██████▉   | 23/33 [00:28<00:12,  1.27s/it]D:\\Users\\glede\\anaconda3\\envs\\dev\\lib\\site-packages\\urllib3\\connectionpool.py:842: InsecureRequestWarning: Unverified HTTPS request is being made. Adding certificate verification is strongly advised. See: https://urllib3.readthedocs.io/en/latest/advanced-usage.html#ssl-warnings\n",
      "  warnings.warn((\n",
      " 73%|███████▎  | 24/33 [00:30<00:11,  1.27s/it]D:\\Users\\glede\\anaconda3\\envs\\dev\\lib\\site-packages\\urllib3\\connectionpool.py:842: InsecureRequestWarning: Unverified HTTPS request is being made. Adding certificate verification is strongly advised. See: https://urllib3.readthedocs.io/en/latest/advanced-usage.html#ssl-warnings\n",
      "  warnings.warn((\n",
      " 76%|███████▌  | 25/33 [00:31<00:10,  1.26s/it]D:\\Users\\glede\\anaconda3\\envs\\dev\\lib\\site-packages\\urllib3\\connectionpool.py:842: InsecureRequestWarning: Unverified HTTPS request is being made. Adding certificate verification is strongly advised. See: https://urllib3.readthedocs.io/en/latest/advanced-usage.html#ssl-warnings\n",
      "  warnings.warn((\n",
      " 79%|███████▉  | 26/33 [00:32<00:08,  1.26s/it]D:\\Users\\glede\\anaconda3\\envs\\dev\\lib\\site-packages\\urllib3\\connectionpool.py:842: InsecureRequestWarning: Unverified HTTPS request is being made. Adding certificate verification is strongly advised. See: https://urllib3.readthedocs.io/en/latest/advanced-usage.html#ssl-warnings\n",
      "  warnings.warn((\n",
      " 82%|████████▏ | 27/33 [00:33<00:07,  1.26s/it]D:\\Users\\glede\\anaconda3\\envs\\dev\\lib\\site-packages\\urllib3\\connectionpool.py:842: InsecureRequestWarning: Unverified HTTPS request is being made. Adding certificate verification is strongly advised. See: https://urllib3.readthedocs.io/en/latest/advanced-usage.html#ssl-warnings\n",
      "  warnings.warn((\n",
      " 85%|████████▍ | 28/33 [00:35<00:06,  1.27s/it]D:\\Users\\glede\\anaconda3\\envs\\dev\\lib\\site-packages\\urllib3\\connectionpool.py:842: InsecureRequestWarning: Unverified HTTPS request is being made. Adding certificate verification is strongly advised. See: https://urllib3.readthedocs.io/en/latest/advanced-usage.html#ssl-warnings\n",
      "  warnings.warn((\n",
      " 88%|████████▊ | 29/33 [00:36<00:05,  1.27s/it]D:\\Users\\glede\\anaconda3\\envs\\dev\\lib\\site-packages\\urllib3\\connectionpool.py:842: InsecureRequestWarning: Unverified HTTPS request is being made. Adding certificate verification is strongly advised. See: https://urllib3.readthedocs.io/en/latest/advanced-usage.html#ssl-warnings\n",
      "  warnings.warn((\n",
      " 91%|█████████ | 30/33 [00:37<00:03,  1.27s/it]D:\\Users\\glede\\anaconda3\\envs\\dev\\lib\\site-packages\\urllib3\\connectionpool.py:842: InsecureRequestWarning: Unverified HTTPS request is being made. Adding certificate verification is strongly advised. See: https://urllib3.readthedocs.io/en/latest/advanced-usage.html#ssl-warnings\n",
      "  warnings.warn((\n",
      " 94%|█████████▍| 31/33 [00:38<00:02,  1.26s/it]D:\\Users\\glede\\anaconda3\\envs\\dev\\lib\\site-packages\\urllib3\\connectionpool.py:842: InsecureRequestWarning: Unverified HTTPS request is being made. Adding certificate verification is strongly advised. See: https://urllib3.readthedocs.io/en/latest/advanced-usage.html#ssl-warnings\n",
      "  warnings.warn((\n",
      " 97%|█████████▋| 32/33 [00:40<00:01,  1.27s/it]D:\\Users\\glede\\anaconda3\\envs\\dev\\lib\\site-packages\\urllib3\\connectionpool.py:842: InsecureRequestWarning: Unverified HTTPS request is being made. Adding certificate verification is strongly advised. See: https://urllib3.readthedocs.io/en/latest/advanced-usage.html#ssl-warnings\n",
      "  warnings.warn((\n",
      "100%|██████████| 33/33 [00:41<00:00,  1.26s/it]\n"
     ]
    }
   ],
   "source": [
    "dct = {}\n",
    "\n",
    "for b in tqdm(boroughs):\n",
    "\n",
    "    res = http.request(\"GET\", \"https://www.nomisweb.co.uk/api/v01/dataset/NM_608_1.data.csv?geography={}&measures=20100\".format(boroughs[b]))\n",
    "\n",
    "    with open('tmp.txt', 'w') as f:\n",
    "        f.write(res.data.decode('utf-8'))\n",
    "\n",
    "    df = pd.read_csv('tmp.txt')\n",
    "\n",
    "    white = df['OBS_VALUE'].iloc[1]\n",
    "    mixed = df['OBS_VALUE'].iloc[6]\n",
    "    asian = df['OBS_VALUE'].iloc[11]\n",
    "    black = df['OBS_VALUE'].iloc[17]\n",
    "    other = df['OBS_VALUE'].iloc[21]\n",
    "\n",
    "    vals = [0, white, mixed, asian, black, other]\n",
    "    vals[0] = np.sum(vals[1:])\n",
    "\n",
    "    dct[b] = vals\n",
    "\n",
    "    time.sleep(1)"
   ],
   "metadata": {
    "collapsed": false,
    "pycharm": {
     "name": "#%%\n"
    }
   }
  },
  {
   "cell_type": "code",
   "execution_count": 30,
   "outputs": [],
   "source": [
    "idx = ['Total', 'White', 'Mixed', 'Asian', 'Black', 'Other']"
   ],
   "metadata": {
    "collapsed": false,
    "pycharm": {
     "name": "#%%\n"
    }
   }
  },
  {
   "cell_type": "code",
   "execution_count": 31,
   "outputs": [],
   "source": [
    "df = pd.DataFrame(dct, index=idx)"
   ],
   "metadata": {
    "collapsed": false,
    "pycharm": {
     "name": "#%%\n"
    }
   }
  },
  {
   "cell_type": "code",
   "execution_count": 32,
   "outputs": [],
   "source": [
    "df.to_csv('../../data/testing/nomis/ethnicity.csv')"
   ],
   "metadata": {
    "collapsed": false,
    "pycharm": {
     "name": "#%%\n"
    }
   }
  },
  {
   "cell_type": "markdown",
   "source": [
    "# Compute values for synthetic data"
   ],
   "metadata": {
    "collapsed": false,
    "pycharm": {
     "name": "#%% md\n"
    }
   }
  },
  {
   "cell_type": "code",
   "execution_count": 2,
   "outputs": [],
   "source": [
    "boroughs = ['Camden', 'City of London', 'Hackney', 'Haringey', 'Islington', 'Kensington and Chelsea', 'Lambeth', 'Lewisham', 'Newham', 'Southwark', 'Tower Hamlets', 'Wandsworth', 'Westminster', 'Barking and Dagenham', 'Barnet', 'Bexley', 'Brent', 'Bromley', 'Croydon', 'Ealing', 'Enfield', 'Greenwich', 'Harrow', 'Havering', 'Hillingdon', 'Hounslow', 'Kingston upon Thames', 'Merton', 'Redbridge', 'Richmond upon Thames', 'Sutton', 'Waltham Forest', 'Hammersmith and Fulham']\n",
    "idx = ['Total', 'White', 'Mixed', 'Asian', 'Black', 'Other']"
   ],
   "metadata": {
    "collapsed": false,
    "pycharm": {
     "name": "#%%\n"
    }
   }
  },
  {
   "cell_type": "code",
   "execution_count": 3,
   "outputs": [],
   "source": [
    "# ciDATGAN\n",
    "dct = {}\n",
    "\n",
    "for b in boroughs:\n",
    "    df = pd.read_csv('../../data/ciDATGAN/{}.csv'.format(b))\n",
    "\n",
    "    vals = [len(df)]\n",
    "    for i in idx[1:]:\n",
    "        vals.append(len(df[df['ethnicity'] == i]))\n",
    "\n",
    "    dct[b] = vals"
   ],
   "metadata": {
    "collapsed": false,
    "pycharm": {
     "name": "#%%\n"
    }
   }
  },
  {
   "cell_type": "code",
   "execution_count": 4,
   "outputs": [],
   "source": [
    "df = pd.DataFrame(dct, index=idx)\n",
    "df.to_csv('../../data/testing/ciDATGAN/ethnicity.csv')"
   ],
   "metadata": {
    "collapsed": false,
    "pycharm": {
     "name": "#%%\n"
    }
   }
  },
  {
   "cell_type": "code",
   "execution_count": 5,
   "outputs": [],
   "source": [
    "# DATGAN\n",
    "dct = {}\n",
    "\n",
    "for b in boroughs:\n",
    "    df = pd.read_csv('../../data/DATGAN/{}.csv'.format(b))\n",
    "\n",
    "    vals = [len(df)]\n",
    "    for i in idx[1:]:\n",
    "        vals.append(len(df[df['ethnicity'] == i]))\n",
    "\n",
    "    dct[b] = vals"
   ],
   "metadata": {
    "collapsed": false,
    "pycharm": {
     "name": "#%%\n"
    }
   }
  },
  {
   "cell_type": "code",
   "execution_count": 6,
   "outputs": [],
   "source": [
    "df = pd.DataFrame(dct, index=idx)\n",
    "df.to_csv('../../data/testing/DATGAN/ethnicity.csv')"
   ],
   "metadata": {
    "collapsed": false,
    "pycharm": {
     "name": "#%%\n"
    }
   }
  },
  {
   "cell_type": "code",
   "execution_count": 40,
   "outputs": [],
   "source": [
    "# oversample\n",
    "dct = {}\n",
    "\n",
    "for b in boroughs:\n",
    "    df = pd.read_csv('../../data/oversample/{}.csv'.format(b))\n",
    "\n",
    "    vals = [len(df)]\n",
    "    for i in idx[1:]:\n",
    "        vals.append(len(df[df['ethnicity'] == i]))\n",
    "\n",
    "    dct[b] = vals"
   ],
   "metadata": {
    "collapsed": false,
    "pycharm": {
     "name": "#%%\n"
    }
   }
  },
  {
   "cell_type": "code",
   "execution_count": 41,
   "outputs": [],
   "source": [
    "df = pd.DataFrame(dct, index=idx)\n",
    "df.to_csv('../../data/testing/oversample/ethnicity.csv')"
   ],
   "metadata": {
    "collapsed": false,
    "pycharm": {
     "name": "#%%\n"
    }
   }
  },
  {
   "cell_type": "markdown",
   "source": [
    "# Compare"
   ],
   "metadata": {
    "collapsed": false,
    "pycharm": {
     "name": "#%% md\n"
    }
   }
  },
  {
   "cell_type": "code",
   "execution_count": 2,
   "outputs": [],
   "source": [
    "orig = pd.read_csv('../../data/testing/nomis/ethnicity.csv', index_col=0)"
   ],
   "metadata": {
    "collapsed": false,
    "pycharm": {
     "name": "#%%\n"
    }
   }
  },
  {
   "cell_type": "code",
   "execution_count": 3,
   "outputs": [],
   "source": [
    "files = [\n",
    "    '../../data/testing/ciDATGAN/ethnicity.csv',\n",
    "    '../../data/testing/DATGAN/ethnicity.csv',\n",
    "    '../../data/testing/oversample/ethnicity.csv'\n",
    "]\n",
    "\n",
    "dfs = [pd.read_csv(f, index_col=0) for f in files]\n",
    "labels = ['ciDATGAN', 'DATGAN', 'Oversample LTDS']"
   ],
   "metadata": {
    "collapsed": false,
    "pycharm": {
     "name": "#%%\n"
    }
   }
  },
  {
   "cell_type": "code",
   "execution_count": 4,
   "outputs": [],
   "source": [
    "orig = orig/orig.iloc[0]\n",
    "orig = orig.iloc[1:-1]\n",
    "\n",
    "errors = {}\n",
    "\n",
    "for (df, l) in zip(dfs, labels):\n",
    "    df = df/df.iloc[0]\n",
    "    df = df.iloc[1:-1]\n",
    "\n",
    "    errors[l] = []\n",
    "\n",
    "    for c in orig.columns:\n",
    "        errors[l].append(jensenshannon(df[c], orig[c]))"
   ],
   "metadata": {
    "collapsed": false,
    "pycharm": {
     "name": "#%%\n"
    }
   }
  },
  {
   "cell_type": "code",
   "execution_count": 5,
   "outputs": [
    {
     "name": "stdout",
     "output_type": "stream",
     "text": [
      "ciDATGAN: 1.32e-01 \\pm 5.57e-02\n",
      "DATGAN: 1.30e-01 \\pm 5.68e-02\n",
      "Oversample LTDS: 5.90e-02 \\pm 1.90e-02\n"
     ]
    }
   ],
   "source": [
    "for l in labels:\n",
    "    print('{}: {:.2e} \\pm {:.2e}'.format(l, np.mean(errors[l]), np.std(errors[l])))"
   ],
   "metadata": {
    "collapsed": false,
    "pycharm": {
     "name": "#%%\n"
    }
   }
  }
 ],
 "metadata": {
  "kernelspec": {
   "display_name": "Python 3",
   "language": "python",
   "name": "python3"
  },
  "language_info": {
   "codemirror_mode": {
    "name": "ipython",
    "version": 2
   },
   "file_extension": ".py",
   "mimetype": "text/x-python",
   "name": "python",
   "nbconvert_exporter": "python",
   "pygments_lexer": "ipython2",
   "version": "2.7.6"
  }
 },
 "nbformat": 4,
 "nbformat_minor": 0
}