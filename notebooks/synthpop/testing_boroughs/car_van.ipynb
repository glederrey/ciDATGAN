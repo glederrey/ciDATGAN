{
 "cells": [
  {
   "cell_type": "code",
   "execution_count": 1,
   "metadata": {
    "collapsed": true
   },
   "outputs": [],
   "source": [
    "import pandas as pd\n",
    "import numpy as np\n",
    "import matplotlib.pyplot as plt\n",
    "import random\n",
    "from tqdm import tqdm\n",
    "import time\n",
    "\n",
    "\n",
    "import seaborn as sns\n",
    "sns.set_style(\"whitegrid\")\n",
    "\n",
    "\n",
    "import urllib3\n",
    "import json\n",
    "\n",
    "# For the Python notebook\n",
    "%matplotlib inline\n",
    "%reload_ext autoreload\n",
    "%autoreload 2"
   ]
  },
  {
   "cell_type": "markdown",
   "source": [
    "# Get data from nomis"
   ],
   "metadata": {
    "collapsed": false,
    "pycharm": {
     "name": "#%% md\n"
    }
   }
  },
  {
   "cell_type": "code",
   "execution_count": 2,
   "outputs": [],
   "source": [
    "boroughs = {\n",
    "    'Camden': 1946157246,\n",
    "    'City of London': 1946157247,\n",
    "    'Hackney': 1946157248,\n",
    "    'Haringey': 1946157250,\n",
    "    'Islington': 1946157251,\n",
    "    'Kensington and Chelsea': 1946157252,\n",
    "    'Lambeth': 1946157253,\n",
    "    'Lewisham': 1946157254,\n",
    "    'Newham': 1946157255,\n",
    "    'Southwark': 1946157256,\n",
    "    'Tower Hamlets': 1946157257,\n",
    "    'Wandsworth': 1946157258,\n",
    "    'Westminster': 1946157259,\n",
    "    'Barking and Dagenham': 1946157260,\n",
    "    'Barnet': 1946157261,\n",
    "    'Bexley': 1946157262,\n",
    "    'Brent': 1946157263,\n",
    "    'Bromley': 1946157264,\n",
    "    'Croydon': 1946157265,\n",
    "    'Ealing': 1946157266,\n",
    "    'Enfield': 1946157267,\n",
    "    'Greenwich': 1946157268,\n",
    "    'Harrow': 1946157269,\n",
    "    'Havering': 1946157270,\n",
    "    'Hillingdon': 1946157271,\n",
    "    'Hounslow': 1946157272,\n",
    "    'Kingston upon Thames': 1946157273,\n",
    "    'Merton': 1946157274,\n",
    "    'Redbridge': 1946157275,\n",
    "    'Richmond upon Thames': 1946157276,\n",
    "    'Sutton': 1946157277,\n",
    "    'Waltham Forest': 1946157278,\n",
    "    'Hammersmith and Fulham': 1946157249,\n",
    "}"
   ],
   "metadata": {
    "collapsed": false,
    "pycharm": {
     "name": "#%%\n"
    }
   }
  },
  {
   "cell_type": "code",
   "execution_count": 3,
   "outputs": [],
   "source": [
    "http = urllib3.PoolManager()"
   ],
   "metadata": {
    "collapsed": false,
    "pycharm": {
     "name": "#%%\n"
    }
   }
  },
  {
   "cell_type": "code",
   "execution_count": 4,
   "outputs": [
    {
     "name": "stderr",
     "output_type": "stream",
     "text": [
      "  0%|          | 0/33 [00:00<?, ?it/s]D:\\Users\\glede\\anaconda3\\envs\\dev\\lib\\site-packages\\urllib3\\connectionpool.py:842: InsecureRequestWarning: Unverified HTTPS request is being made. Adding certificate verification is strongly advised. See: https://urllib3.readthedocs.io/en/latest/advanced-usage.html#ssl-warnings\n",
      "  warnings.warn((\n",
      "  3%|▎         | 1/33 [00:01<00:47,  1.48s/it]D:\\Users\\glede\\anaconda3\\envs\\dev\\lib\\site-packages\\urllib3\\connectionpool.py:842: InsecureRequestWarning: Unverified HTTPS request is being made. Adding certificate verification is strongly advised. See: https://urllib3.readthedocs.io/en/latest/advanced-usage.html#ssl-warnings\n",
      "  warnings.warn((\n",
      "  6%|▌         | 2/33 [00:02<00:39,  1.28s/it]D:\\Users\\glede\\anaconda3\\envs\\dev\\lib\\site-packages\\urllib3\\connectionpool.py:842: InsecureRequestWarning: Unverified HTTPS request is being made. Adding certificate verification is strongly advised. See: https://urllib3.readthedocs.io/en/latest/advanced-usage.html#ssl-warnings\n",
      "  warnings.warn((\n",
      "  9%|▉         | 3/33 [00:03<00:36,  1.20s/it]D:\\Users\\glede\\anaconda3\\envs\\dev\\lib\\site-packages\\urllib3\\connectionpool.py:842: InsecureRequestWarning: Unverified HTTPS request is being made. Adding certificate verification is strongly advised. See: https://urllib3.readthedocs.io/en/latest/advanced-usage.html#ssl-warnings\n",
      "  warnings.warn((\n",
      " 12%|█▏        | 4/33 [00:04<00:33,  1.16s/it]D:\\Users\\glede\\anaconda3\\envs\\dev\\lib\\site-packages\\urllib3\\connectionpool.py:842: InsecureRequestWarning: Unverified HTTPS request is being made. Adding certificate verification is strongly advised. See: https://urllib3.readthedocs.io/en/latest/advanced-usage.html#ssl-warnings\n",
      "  warnings.warn((\n",
      " 15%|█▌        | 5/33 [00:05<00:32,  1.14s/it]D:\\Users\\glede\\anaconda3\\envs\\dev\\lib\\site-packages\\urllib3\\connectionpool.py:842: InsecureRequestWarning: Unverified HTTPS request is being made. Adding certificate verification is strongly advised. See: https://urllib3.readthedocs.io/en/latest/advanced-usage.html#ssl-warnings\n",
      "  warnings.warn((\n",
      " 18%|█▊        | 6/33 [00:07<00:30,  1.14s/it]D:\\Users\\glede\\anaconda3\\envs\\dev\\lib\\site-packages\\urllib3\\connectionpool.py:842: InsecureRequestWarning: Unverified HTTPS request is being made. Adding certificate verification is strongly advised. See: https://urllib3.readthedocs.io/en/latest/advanced-usage.html#ssl-warnings\n",
      "  warnings.warn((\n",
      " 21%|██        | 7/33 [00:08<00:29,  1.13s/it]D:\\Users\\glede\\anaconda3\\envs\\dev\\lib\\site-packages\\urllib3\\connectionpool.py:842: InsecureRequestWarning: Unverified HTTPS request is being made. Adding certificate verification is strongly advised. See: https://urllib3.readthedocs.io/en/latest/advanced-usage.html#ssl-warnings\n",
      "  warnings.warn((\n",
      " 24%|██▍       | 8/33 [00:09<00:28,  1.12s/it]D:\\Users\\glede\\anaconda3\\envs\\dev\\lib\\site-packages\\urllib3\\connectionpool.py:842: InsecureRequestWarning: Unverified HTTPS request is being made. Adding certificate verification is strongly advised. See: https://urllib3.readthedocs.io/en/latest/advanced-usage.html#ssl-warnings\n",
      "  warnings.warn((\n",
      " 27%|██▋       | 9/33 [00:10<00:26,  1.12s/it]D:\\Users\\glede\\anaconda3\\envs\\dev\\lib\\site-packages\\urllib3\\connectionpool.py:842: InsecureRequestWarning: Unverified HTTPS request is being made. Adding certificate verification is strongly advised. See: https://urllib3.readthedocs.io/en/latest/advanced-usage.html#ssl-warnings\n",
      "  warnings.warn((\n",
      " 30%|███       | 10/33 [00:11<00:25,  1.11s/it]D:\\Users\\glede\\anaconda3\\envs\\dev\\lib\\site-packages\\urllib3\\connectionpool.py:842: InsecureRequestWarning: Unverified HTTPS request is being made. Adding certificate verification is strongly advised. See: https://urllib3.readthedocs.io/en/latest/advanced-usage.html#ssl-warnings\n",
      "  warnings.warn((\n",
      " 33%|███▎      | 11/33 [00:12<00:24,  1.11s/it]D:\\Users\\glede\\anaconda3\\envs\\dev\\lib\\site-packages\\urllib3\\connectionpool.py:842: InsecureRequestWarning: Unverified HTTPS request is being made. Adding certificate verification is strongly advised. See: https://urllib3.readthedocs.io/en/latest/advanced-usage.html#ssl-warnings\n",
      "  warnings.warn((\n",
      " 36%|███▋      | 12/33 [00:13<00:23,  1.11s/it]D:\\Users\\glede\\anaconda3\\envs\\dev\\lib\\site-packages\\urllib3\\connectionpool.py:842: InsecureRequestWarning: Unverified HTTPS request is being made. Adding certificate verification is strongly advised. See: https://urllib3.readthedocs.io/en/latest/advanced-usage.html#ssl-warnings\n",
      "  warnings.warn((\n",
      " 39%|███▉      | 13/33 [00:14<00:22,  1.11s/it]D:\\Users\\glede\\anaconda3\\envs\\dev\\lib\\site-packages\\urllib3\\connectionpool.py:842: InsecureRequestWarning: Unverified HTTPS request is being made. Adding certificate verification is strongly advised. See: https://urllib3.readthedocs.io/en/latest/advanced-usage.html#ssl-warnings\n",
      "  warnings.warn((\n",
      " 42%|████▏     | 14/33 [00:15<00:21,  1.11s/it]D:\\Users\\glede\\anaconda3\\envs\\dev\\lib\\site-packages\\urllib3\\connectionpool.py:842: InsecureRequestWarning: Unverified HTTPS request is being made. Adding certificate verification is strongly advised. See: https://urllib3.readthedocs.io/en/latest/advanced-usage.html#ssl-warnings\n",
      "  warnings.warn((\n",
      " 45%|████▌     | 15/33 [00:17<00:19,  1.11s/it]D:\\Users\\glede\\anaconda3\\envs\\dev\\lib\\site-packages\\urllib3\\connectionpool.py:842: InsecureRequestWarning: Unverified HTTPS request is being made. Adding certificate verification is strongly advised. See: https://urllib3.readthedocs.io/en/latest/advanced-usage.html#ssl-warnings\n",
      "  warnings.warn((\n",
      " 48%|████▊     | 16/33 [00:18<00:18,  1.11s/it]D:\\Users\\glede\\anaconda3\\envs\\dev\\lib\\site-packages\\urllib3\\connectionpool.py:842: InsecureRequestWarning: Unverified HTTPS request is being made. Adding certificate verification is strongly advised. See: https://urllib3.readthedocs.io/en/latest/advanced-usage.html#ssl-warnings\n",
      "  warnings.warn((\n",
      " 52%|█████▏    | 17/33 [00:19<00:17,  1.11s/it]D:\\Users\\glede\\anaconda3\\envs\\dev\\lib\\site-packages\\urllib3\\connectionpool.py:842: InsecureRequestWarning: Unverified HTTPS request is being made. Adding certificate verification is strongly advised. See: https://urllib3.readthedocs.io/en/latest/advanced-usage.html#ssl-warnings\n",
      "  warnings.warn((\n",
      " 55%|█████▍    | 18/33 [00:20<00:16,  1.11s/it]D:\\Users\\glede\\anaconda3\\envs\\dev\\lib\\site-packages\\urllib3\\connectionpool.py:842: InsecureRequestWarning: Unverified HTTPS request is being made. Adding certificate verification is strongly advised. See: https://urllib3.readthedocs.io/en/latest/advanced-usage.html#ssl-warnings\n",
      "  warnings.warn((\n",
      " 58%|█████▊    | 19/33 [00:21<00:15,  1.11s/it]D:\\Users\\glede\\anaconda3\\envs\\dev\\lib\\site-packages\\urllib3\\connectionpool.py:842: InsecureRequestWarning: Unverified HTTPS request is being made. Adding certificate verification is strongly advised. See: https://urllib3.readthedocs.io/en/latest/advanced-usage.html#ssl-warnings\n",
      "  warnings.warn((\n",
      " 61%|██████    | 20/33 [00:22<00:14,  1.11s/it]D:\\Users\\glede\\anaconda3\\envs\\dev\\lib\\site-packages\\urllib3\\connectionpool.py:842: InsecureRequestWarning: Unverified HTTPS request is being made. Adding certificate verification is strongly advised. See: https://urllib3.readthedocs.io/en/latest/advanced-usage.html#ssl-warnings\n",
      "  warnings.warn((\n",
      " 64%|██████▎   | 21/33 [00:23<00:13,  1.11s/it]D:\\Users\\glede\\anaconda3\\envs\\dev\\lib\\site-packages\\urllib3\\connectionpool.py:842: InsecureRequestWarning: Unverified HTTPS request is being made. Adding certificate verification is strongly advised. See: https://urllib3.readthedocs.io/en/latest/advanced-usage.html#ssl-warnings\n",
      "  warnings.warn((\n",
      " 67%|██████▋   | 22/33 [00:24<00:12,  1.11s/it]D:\\Users\\glede\\anaconda3\\envs\\dev\\lib\\site-packages\\urllib3\\connectionpool.py:842: InsecureRequestWarning: Unverified HTTPS request is being made. Adding certificate verification is strongly advised. See: https://urllib3.readthedocs.io/en/latest/advanced-usage.html#ssl-warnings\n",
      "  warnings.warn((\n",
      " 70%|██████▉   | 23/33 [00:25<00:11,  1.11s/it]D:\\Users\\glede\\anaconda3\\envs\\dev\\lib\\site-packages\\urllib3\\connectionpool.py:842: InsecureRequestWarning: Unverified HTTPS request is being made. Adding certificate verification is strongly advised. See: https://urllib3.readthedocs.io/en/latest/advanced-usage.html#ssl-warnings\n",
      "  warnings.warn((\n",
      " 73%|███████▎  | 24/33 [00:26<00:09,  1.11s/it]D:\\Users\\glede\\anaconda3\\envs\\dev\\lib\\site-packages\\urllib3\\connectionpool.py:842: InsecureRequestWarning: Unverified HTTPS request is being made. Adding certificate verification is strongly advised. See: https://urllib3.readthedocs.io/en/latest/advanced-usage.html#ssl-warnings\n",
      "  warnings.warn((\n",
      " 76%|███████▌  | 25/33 [00:28<00:08,  1.11s/it]D:\\Users\\glede\\anaconda3\\envs\\dev\\lib\\site-packages\\urllib3\\connectionpool.py:842: InsecureRequestWarning: Unverified HTTPS request is being made. Adding certificate verification is strongly advised. See: https://urllib3.readthedocs.io/en/latest/advanced-usage.html#ssl-warnings\n",
      "  warnings.warn((\n",
      " 79%|███████▉  | 26/33 [00:29<00:07,  1.11s/it]D:\\Users\\glede\\anaconda3\\envs\\dev\\lib\\site-packages\\urllib3\\connectionpool.py:842: InsecureRequestWarning: Unverified HTTPS request is being made. Adding certificate verification is strongly advised. See: https://urllib3.readthedocs.io/en/latest/advanced-usage.html#ssl-warnings\n",
      "  warnings.warn((\n",
      " 82%|████████▏ | 27/33 [00:30<00:06,  1.11s/it]D:\\Users\\glede\\anaconda3\\envs\\dev\\lib\\site-packages\\urllib3\\connectionpool.py:842: InsecureRequestWarning: Unverified HTTPS request is being made. Adding certificate verification is strongly advised. See: https://urllib3.readthedocs.io/en/latest/advanced-usage.html#ssl-warnings\n",
      "  warnings.warn((\n",
      " 85%|████████▍ | 28/33 [00:31<00:05,  1.11s/it]D:\\Users\\glede\\anaconda3\\envs\\dev\\lib\\site-packages\\urllib3\\connectionpool.py:842: InsecureRequestWarning: Unverified HTTPS request is being made. Adding certificate verification is strongly advised. See: https://urllib3.readthedocs.io/en/latest/advanced-usage.html#ssl-warnings\n",
      "  warnings.warn((\n",
      " 88%|████████▊ | 29/33 [00:32<00:04,  1.11s/it]D:\\Users\\glede\\anaconda3\\envs\\dev\\lib\\site-packages\\urllib3\\connectionpool.py:842: InsecureRequestWarning: Unverified HTTPS request is being made. Adding certificate verification is strongly advised. See: https://urllib3.readthedocs.io/en/latest/advanced-usage.html#ssl-warnings\n",
      "  warnings.warn((\n",
      " 91%|█████████ | 30/33 [00:33<00:03,  1.11s/it]D:\\Users\\glede\\anaconda3\\envs\\dev\\lib\\site-packages\\urllib3\\connectionpool.py:842: InsecureRequestWarning: Unverified HTTPS request is being made. Adding certificate verification is strongly advised. See: https://urllib3.readthedocs.io/en/latest/advanced-usage.html#ssl-warnings\n",
      "  warnings.warn((\n",
      " 94%|█████████▍| 31/33 [00:34<00:02,  1.11s/it]D:\\Users\\glede\\anaconda3\\envs\\dev\\lib\\site-packages\\urllib3\\connectionpool.py:842: InsecureRequestWarning: Unverified HTTPS request is being made. Adding certificate verification is strongly advised. See: https://urllib3.readthedocs.io/en/latest/advanced-usage.html#ssl-warnings\n",
      "  warnings.warn((\n",
      " 97%|█████████▋| 32/33 [00:35<00:01,  1.11s/it]D:\\Users\\glede\\anaconda3\\envs\\dev\\lib\\site-packages\\urllib3\\connectionpool.py:842: InsecureRequestWarning: Unverified HTTPS request is being made. Adding certificate verification is strongly advised. See: https://urllib3.readthedocs.io/en/latest/advanced-usage.html#ssl-warnings\n",
      "  warnings.warn((\n",
      "100%|██████████| 33/33 [00:36<00:00,  1.12s/it]\n"
     ]
    }
   ],
   "source": [
    "dct = {}\n",
    "\n",
    "for b in tqdm(boroughs):\n",
    "\n",
    "    res = http.request(\"GET\", \"https://www.nomisweb.co.uk/api/v01/dataset/NM_621_1.data.csv?geography={}&measures=20100\".format(boroughs[b]))\n",
    "\n",
    "    with open('tmp.txt', 'w') as f:\n",
    "        f.write(res.data.decode('utf-8'))\n",
    "\n",
    "    df = pd.read_csv('tmp.txt')\n",
    "\n",
    "    vals = df['OBS_VALUE'].iloc[0:7].values\n",
    "\n",
    "    dct[b] = vals\n",
    "\n",
    "    time.sleep(1)"
   ],
   "metadata": {
    "collapsed": false,
    "pycharm": {
     "name": "#%%\n"
    }
   }
  },
  {
   "cell_type": "code",
   "execution_count": 5,
   "outputs": [],
   "source": [
    "idx = ['Total', '0', '1', '2', '3', '4+', '#vehicles']"
   ],
   "metadata": {
    "collapsed": false,
    "pycharm": {
     "name": "#%%\n"
    }
   }
  },
  {
   "cell_type": "code",
   "execution_count": 6,
   "outputs": [],
   "source": [
    "df = pd.DataFrame(dct, index=idx)"
   ],
   "metadata": {
    "collapsed": false,
    "pycharm": {
     "name": "#%%\n"
    }
   }
  },
  {
   "cell_type": "code",
   "execution_count": 7,
   "outputs": [],
   "source": [
    "df.to_csv('../../data/testing/nomis/car_van.csv')"
   ],
   "metadata": {
    "collapsed": false,
    "pycharm": {
     "name": "#%%\n"
    }
   }
  },
  {
   "cell_type": "markdown",
   "source": [
    "# Compute values for synthetic data"
   ],
   "metadata": {
    "collapsed": false,
    "pycharm": {
     "name": "#%% md\n"
    }
   }
  },
  {
   "cell_type": "code",
   "execution_count": 2,
   "outputs": [],
   "source": [
    "boroughs = ['Camden', 'City of London', 'Hackney', 'Haringey', 'Islington', 'Kensington and Chelsea', 'Lambeth', 'Lewisham', 'Newham', 'Southwark', 'Tower Hamlets', 'Wandsworth', 'Westminster', 'Barking and Dagenham', 'Barnet', 'Bexley', 'Brent', 'Bromley', 'Croydon', 'Ealing', 'Enfield', 'Greenwich', 'Harrow', 'Havering', 'Hillingdon', 'Hounslow', 'Kingston upon Thames', 'Merton', 'Redbridge', 'Richmond upon Thames', 'Sutton', 'Waltham Forest', 'Hammersmith and Fulham']\n",
    "idx = ['Total', '0', '1', '2', '3', '4+', '#vehicles']"
   ],
   "metadata": {
    "collapsed": false,
    "pycharm": {
     "name": "#%%\n"
    }
   }
  },
  {
   "cell_type": "code",
   "execution_count": 3,
   "outputs": [],
   "source": [
    "# ciDATGAN\n",
    "dct = {}\n",
    "\n",
    "for b in boroughs:\n",
    "    df = pd.read_csv('../../data/ciDATGAN/{}.csv'.format(b))\n",
    "\n",
    "    vals = []\n",
    "    vals.append(np.sum(1/df['hh_people']))\n",
    "    for i in range(0, 4):\n",
    "        vals.append(np.sum(1/df[df['hh_carvan'] == i]['hh_people']))\n",
    "    vals.append(np.sum(1/df[df['hh_carvan'] >= 4]['hh_people']))\n",
    "\n",
    "    vals.append(np.sum(df['hh_carvan']/df['hh_people']))\n",
    "\n",
    "    dct[b] = vals"
   ],
   "metadata": {
    "collapsed": false,
    "pycharm": {
     "name": "#%%\n"
    }
   }
  },
  {
   "cell_type": "code",
   "execution_count": 4,
   "outputs": [],
   "source": [
    "df = pd.DataFrame(dct, index=idx)\n",
    "df.to_csv('../../data/testing/ciDATGAN/car_van.csv')"
   ],
   "metadata": {
    "collapsed": false,
    "pycharm": {
     "name": "#%%\n"
    }
   }
  },
  {
   "cell_type": "code",
   "execution_count": 5,
   "outputs": [],
   "source": [
    "# DATGAN\n",
    "dct = {}\n",
    "\n",
    "for b in boroughs:\n",
    "    df = pd.read_csv('../../data/DATGAN/{}.csv'.format(b))\n",
    "\n",
    "    vals = []\n",
    "    vals.append(np.sum(1/df['hh_people']))\n",
    "    for i in range(0, 4):\n",
    "        vals.append(np.sum(1/df[df['hh_carvan'] == i]['hh_people']))\n",
    "    vals.append(np.sum(1/df[df['hh_carvan'] >= 4]['hh_people']))\n",
    "\n",
    "    vals.append(np.sum(df['hh_carvan']/df['hh_people']))\n",
    "\n",
    "    dct[b] = vals"
   ],
   "metadata": {
    "collapsed": false,
    "pycharm": {
     "name": "#%%\n"
    }
   }
  },
  {
   "cell_type": "code",
   "execution_count": 6,
   "outputs": [],
   "source": [
    "df = pd.DataFrame(dct, index=idx)\n",
    "df.to_csv('../../data/testing/DATGAN/car_van.csv')"
   ],
   "metadata": {
    "collapsed": false,
    "pycharm": {
     "name": "#%%\n"
    }
   }
  },
  {
   "cell_type": "code",
   "execution_count": 41,
   "outputs": [],
   "source": [
    "# oversample\n",
    "dct = {}\n",
    "\n",
    "for b in boroughs:\n",
    "    df = pd.read_csv('../../data/oversample/{}.csv'.format(b))\n",
    "\n",
    "    vals = []\n",
    "    vals.append(np.sum(1/df['hh_people']))\n",
    "    for i in range(0, 4):\n",
    "        vals.append(np.sum(1/df[df['hh_carvan'] == i]['hh_people']))\n",
    "    vals.append(np.sum(1/df[df['hh_carvan'] >= 4]['hh_people']))\n",
    "\n",
    "    vals.append(np.sum(df['hh_carvan']/df['hh_people']))\n",
    "\n",
    "    dct[b] = vals"
   ],
   "metadata": {
    "collapsed": false,
    "pycharm": {
     "name": "#%%\n"
    }
   }
  },
  {
   "cell_type": "code",
   "execution_count": 42,
   "outputs": [],
   "source": [
    "df = pd.DataFrame(dct, index=idx)\n",
    "df.to_csv('../../data/testing/oversample/car_van.csv')"
   ],
   "metadata": {
    "collapsed": false,
    "pycharm": {
     "name": "#%%\n"
    }
   }
  },
  {
   "cell_type": "markdown",
   "source": [
    "# Compare"
   ],
   "metadata": {
    "collapsed": false,
    "pycharm": {
     "name": "#%% md\n"
    }
   }
  },
  {
   "cell_type": "code",
   "execution_count": 7,
   "outputs": [],
   "source": [
    "orig = pd.read_csv('../../data/testing/nomis/car_van.csv', index_col=0)"
   ],
   "metadata": {
    "collapsed": false,
    "pycharm": {
     "name": "#%%\n"
    }
   }
  },
  {
   "cell_type": "code",
   "execution_count": 9,
   "outputs": [],
   "source": [
    "files = [\n",
    "    '../../data/testing/ciDATGAN/car_van.csv',\n",
    "    '../../data/testing/DATGAN/car_van.csv',\n",
    "    '../../data/testing/oversample/car_van.csv'\n",
    "]\n",
    "\n",
    "dfs = [pd.read_csv(f, index_col=0) for f in files]\n",
    "labels = ['ciDATGAN', 'DATGAN', 'Oversample LTDS']"
   ],
   "metadata": {
    "collapsed": false,
    "pycharm": {
     "name": "#%%\n"
    }
   }
  },
  {
   "cell_type": "code",
   "execution_count": 10,
   "outputs": [],
   "source": [
    "orig = orig/orig.iloc[0]*100\n",
    "\n",
    "errors = {}\n",
    "\n",
    "for (df, l) in zip(dfs, labels):\n",
    "    df = df/df.iloc[0]*100\n",
    "    diff = np.abs(orig-df)\n",
    "\n",
    "    errors[l] = np.mean(diff, axis=1)"
   ],
   "metadata": {
    "collapsed": false,
    "pycharm": {
     "name": "#%%\n"
    }
   }
  },
  {
   "cell_type": "code",
   "execution_count": 11,
   "outputs": [
    {
     "data": {
      "text/plain": "            ciDATGAN     DATGAN  Oversample LTDS\nTotal       0.000000   0.000000         0.000000\n0          13.892897  13.361371        11.451661\n1          10.280735   9.694071        11.147323\n2           4.573041   4.018242         1.941138\n3           0.492025   0.984506         0.749958\n4+          0.203231   0.440105         0.421912\n#vehicles  17.591870  17.925355        10.038484",
      "text/html": "<div>\n<style scoped>\n    .dataframe tbody tr th:only-of-type {\n        vertical-align: middle;\n    }\n\n    .dataframe tbody tr th {\n        vertical-align: top;\n    }\n\n    .dataframe thead th {\n        text-align: right;\n    }\n</style>\n<table border=\"1\" class=\"dataframe\">\n  <thead>\n    <tr style=\"text-align: right;\">\n      <th></th>\n      <th>ciDATGAN</th>\n      <th>DATGAN</th>\n      <th>Oversample LTDS</th>\n    </tr>\n  </thead>\n  <tbody>\n    <tr>\n      <th>Total</th>\n      <td>0.000000</td>\n      <td>0.000000</td>\n      <td>0.000000</td>\n    </tr>\n    <tr>\n      <th>0</th>\n      <td>13.892897</td>\n      <td>13.361371</td>\n      <td>11.451661</td>\n    </tr>\n    <tr>\n      <th>1</th>\n      <td>10.280735</td>\n      <td>9.694071</td>\n      <td>11.147323</td>\n    </tr>\n    <tr>\n      <th>2</th>\n      <td>4.573041</td>\n      <td>4.018242</td>\n      <td>1.941138</td>\n    </tr>\n    <tr>\n      <th>3</th>\n      <td>0.492025</td>\n      <td>0.984506</td>\n      <td>0.749958</td>\n    </tr>\n    <tr>\n      <th>4+</th>\n      <td>0.203231</td>\n      <td>0.440105</td>\n      <td>0.421912</td>\n    </tr>\n    <tr>\n      <th>#vehicles</th>\n      <td>17.591870</td>\n      <td>17.925355</td>\n      <td>10.038484</td>\n    </tr>\n  </tbody>\n</table>\n</div>"
     },
     "execution_count": 11,
     "metadata": {},
     "output_type": "execute_result"
    }
   ],
   "source": [
    "err = pd.DataFrame(errors)\n",
    "err"
   ],
   "metadata": {
    "collapsed": false,
    "pycharm": {
     "name": "#%%\n"
    }
   }
  },
  {
   "cell_type": "code",
   "execution_count": 12,
   "outputs": [
    {
     "data": {
      "text/plain": "ciDATGAN           6.719114\nDATGAN             6.631950\nOversample LTDS    5.107211\ndtype: float64"
     },
     "execution_count": 12,
     "metadata": {},
     "output_type": "execute_result"
    }
   ],
   "source": [
    "err.mean()"
   ],
   "metadata": {
    "collapsed": false,
    "pycharm": {
     "name": "#%%\n"
    }
   }
  }
 ],
 "metadata": {
  "kernelspec": {
   "display_name": "Python 3",
   "language": "python",
   "name": "python3"
  },
  "language_info": {
   "codemirror_mode": {
    "name": "ipython",
    "version": 2
   },
   "file_extension": ".py",
   "mimetype": "text/x-python",
   "name": "python",
   "nbconvert_exporter": "python",
   "pygments_lexer": "ipython2",
   "version": "2.7.6"
  }
 },
 "nbformat": 4,
 "nbformat_minor": 0
}