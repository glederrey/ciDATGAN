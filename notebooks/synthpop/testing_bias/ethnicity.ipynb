{
 "cells": [
  {
   "cell_type": "code",
   "execution_count": 1,
   "metadata": {},
   "outputs": [],
   "source": [
    "import pandas as pd\n",
    "import numpy as np\n",
    "import matplotlib.pyplot as plt\n",
    "import random\n",
    "from tqdm import tqdm\n",
    "import time\n",
    "\n",
    "\n",
    "import seaborn as sns\n",
    "sns.set_style(\"whitegrid\")\n",
    "\n",
    "from scipy.spatial.distance import jensenshannon\n",
    "\n",
    "import urllib3\n",
    "import json\n",
    "\n",
    "# For the Python notebook\n",
    "%matplotlib inline\n",
    "%reload_ext autoreload\n",
    "%autoreload 2"
   ]
  },
  {
   "cell_type": "markdown",
   "metadata": {
    "pycharm": {
     "name": "#%% md\n"
    }
   },
   "source": [
    "# Update data from nomis"
   ]
  },
  {
   "cell_type": "code",
   "execution_count": 2,
   "metadata": {
    "pycharm": {
     "name": "#%%\n"
    }
   },
   "outputs": [],
   "source": [
    "df = pd.read_csv('../../data/testing/nomis/ethnicity.csv', index_col=0)"
   ]
  },
  {
   "cell_type": "code",
   "execution_count": 3,
   "metadata": {
    "pycharm": {
     "name": "#%%\n"
    }
   },
   "outputs": [],
   "source": [
    "boroughs = ['City of London', 'Westminster', 'Kingston upon Thames', 'Bromley', 'Greenwich', 'Havering', 'Barnet', 'Enfield', 'Hillingdon', 'Brent']"
   ]
  },
  {
   "cell_type": "code",
   "execution_count": 4,
   "metadata": {
    "pycharm": {
     "name": "#%%\n"
    }
   },
   "outputs": [],
   "source": [
    "dct = {}\n",
    "\n",
    "for b in boroughs:\n",
    "    dct[b] = df[b].values"
   ]
  },
  {
   "cell_type": "code",
   "execution_count": 5,
   "metadata": {
    "pycharm": {
     "name": "#%%\n"
    }
   },
   "outputs": [],
   "source": [
    "df = pd.DataFrame(dct, index=df.index)"
   ]
  },
  {
   "cell_type": "code",
   "execution_count": 6,
   "metadata": {
    "pycharm": {
     "name": "#%%\n"
    }
   },
   "outputs": [],
   "source": [
    "df.to_csv('../../data/testing_bias/nomis/ethnicity.csv')"
   ]
  },
  {
   "cell_type": "markdown",
   "metadata": {
    "pycharm": {
     "name": "#%% md\n"
    }
   },
   "source": [
    "# Compute values for synthetic data"
   ]
  },
  {
   "cell_type": "code",
   "execution_count": 7,
   "metadata": {
    "pycharm": {
     "name": "#%%\n"
    }
   },
   "outputs": [],
   "source": [
    "boroughs = ['City of London', 'Westminster', 'Kingston upon Thames', 'Bromley', 'Greenwich', 'Havering', 'Barnet', 'Enfield', 'Hillingdon', 'Brent']\n",
    "idx = ['Total', 'White', 'Mixed', 'Asian', 'Black', 'Other']"
   ]
  },
  {
   "cell_type": "code",
   "execution_count": 8,
   "metadata": {
    "pycharm": {
     "name": "#%%\n"
    }
   },
   "outputs": [],
   "source": [
    "# ciDATGAN\n",
    "dct = {}\n",
    "\n",
    "for b in boroughs:\n",
    "    df = pd.read_csv('../../data/ciDATGAN_bias/{}.csv'.format(b))\n",
    "\n",
    "    vals = [len(df)]\n",
    "    for i in idx[1:]:\n",
    "        vals.append(len(df[df['ethnicity'] == i]))\n",
    "\n",
    "    dct[b] = vals"
   ]
  },
  {
   "cell_type": "code",
   "execution_count": 9,
   "metadata": {
    "pycharm": {
     "name": "#%%\n"
    }
   },
   "outputs": [],
   "source": [
    "df = pd.DataFrame(dct, index=idx)\n",
    "df.to_csv('../../data/testing_bias/ciDATGAN/ethnicity.csv')"
   ]
  },
  {
   "cell_type": "code",
   "execution_count": 10,
   "metadata": {
    "pycharm": {
     "name": "#%%\n"
    }
   },
   "outputs": [],
   "source": [
    "# DATGAN\n",
    "dct = {}\n",
    "\n",
    "for b in boroughs:\n",
    "    df = pd.read_csv('../../data/DATGAN_bias/{}.csv'.format(b))\n",
    "\n",
    "    vals = [len(df)]\n",
    "    for i in idx[1:]:\n",
    "        vals.append(len(df[df['ethnicity'] == i]))\n",
    "\n",
    "    dct[b] = vals"
   ]
  },
  {
   "cell_type": "code",
   "execution_count": 11,
   "metadata": {
    "pycharm": {
     "name": "#%%\n"
    }
   },
   "outputs": [],
   "source": [
    "df = pd.DataFrame(dct, index=idx)\n",
    "df.to_csv('../../data/testing_bias/DATGAN/ethnicity.csv')"
   ]
  },
  {
   "cell_type": "code",
   "execution_count": 12,
   "metadata": {
    "pycharm": {
     "name": "#%%\n"
    }
   },
   "outputs": [],
   "source": [
    "# oversample\n",
    "dct = {}\n",
    "\n",
    "for b in boroughs:\n",
    "    df = pd.read_csv('../../data/oversample_bias/{}.csv'.format(b))\n",
    "\n",
    "    vals = [len(df)]\n",
    "    for i in idx[1:]:\n",
    "        vals.append(len(df[df['ethnicity'] == i]))\n",
    "\n",
    "    dct[b] = vals"
   ]
  },
  {
   "cell_type": "code",
   "execution_count": 13,
   "metadata": {
    "pycharm": {
     "name": "#%%\n"
    }
   },
   "outputs": [],
   "source": [
    "df = pd.DataFrame(dct, index=idx)\n",
    "df.to_csv('../../data/testing_bias/oversample/ethnicity.csv')"
   ]
  },
  {
   "cell_type": "markdown",
   "metadata": {
    "pycharm": {
     "name": "#%% md\n"
    }
   },
   "source": [
    "# Compare"
   ]
  },
  {
   "cell_type": "code",
   "execution_count": 2,
   "metadata": {
    "pycharm": {
     "name": "#%%\n"
    }
   },
   "outputs": [],
   "source": [
    "orig = pd.read_csv('../../data/testing_bias/nomis/ethnicity.csv', index_col=0)"
   ]
  },
  {
   "cell_type": "code",
   "execution_count": 3,
   "metadata": {
    "pycharm": {
     "name": "#%%\n"
    }
   },
   "outputs": [],
   "source": [
    "files = [\n",
    "    '../../data/testing_bias/ciDATGAN/ethnicity.csv',\n",
    "    '../../data/testing_bias/DATGAN/ethnicity.csv',\n",
    "    '../../data/testing_bias/oversample/ethnicity.csv'\n",
    "]\n",
    "\n",
    "dfs = [pd.read_csv(f, index_col=0) for f in files]\n",
    "labels = ['ciDATGAN', 'DATGAN', 'Oversample LTDS']"
   ]
  },
  {
   "cell_type": "code",
   "execution_count": 4,
   "metadata": {
    "pycharm": {
     "name": "#%%\n"
    }
   },
   "outputs": [],
   "source": [
    "orig = orig/orig.iloc[0]\n",
    "orig = orig.iloc[1:-1]\n",
    "\n",
    "errors = {}\n",
    "\n",
    "for (df, l) in zip(dfs, labels):\n",
    "    df = df/df.iloc[0]\n",
    "    df = df.iloc[1:-1]\n",
    "\n",
    "    errors[l] = []\n",
    "\n",
    "    for c in orig.columns:\n",
    "        errors[l].append(jensenshannon(df[c], orig[c]))"
   ]
  },
  {
   "cell_type": "code",
   "execution_count": 5,
   "metadata": {
    "pycharm": {
     "name": "#%%\n"
    }
   },
   "outputs": [
    {
     "name": "stdout",
     "output_type": "stream",
     "text": [
      "ciDATGAN: 1.15e-01 \\pm 5.34e-02\n",
      "DATGAN: 1.15e-01 \\pm 5.29e-02\n",
      "Oversample LTDS: 6.04e-02 \\pm 2.29e-02\n"
     ]
    }
   ],
   "source": [
    "for l in labels:\n",
    "    print('{}: {:.2e} \\pm {:.2e}'.format(l, np.mean(errors[l]), np.std(errors[l])))"
   ]
  },
  {
   "cell_type": "code",
   "execution_count": 38,
   "metadata": {
    "pycharm": {
     "name": "#%%\n"
    }
   },
   "outputs": [],
   "source": []
  }
 ],
 "metadata": {
  "kernelspec": {
   "display_name": "Python 3",
   "language": "python",
   "name": "python3"
  },
  "language_info": {
   "codemirror_mode": {
    "name": "ipython",
    "version": 3
   },
   "file_extension": ".py",
   "mimetype": "text/x-python",
   "name": "python",
   "nbconvert_exporter": "python",
   "pygments_lexer": "ipython3",
   "version": "3.7.9"
  }
 },
 "nbformat": 4,
 "nbformat_minor": 1
}