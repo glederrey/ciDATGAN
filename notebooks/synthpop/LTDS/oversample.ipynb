{
 "cells": [
  {
   "cell_type": "code",
   "execution_count": 1,
   "metadata": {},
   "outputs": [],
   "source": [
    "import pandas as pd\n",
    "import numpy as np\n",
    "import matplotlib.pyplot as plt\n",
    "import random\n",
    "from tqdm import tqdm\n",
    "import time\n",
    "\n",
    "\n",
    "import seaborn as sns\n",
    "sns.set_style(\"whitegrid\")\n",
    "\n",
    "\n",
    "import urllib3\n",
    "import json\n",
    "\n",
    "# For the Python notebook\n",
    "%matplotlib inline\n",
    "%reload_ext autoreload\n",
    "%autoreload 2"
   ]
  },
  {
   "cell_type": "code",
   "execution_count": 11,
   "metadata": {
    "pycharm": {
     "name": "#%%\n"
    }
   },
   "outputs": [],
   "source": [
    "lpmc = pd.read_csv('../../data/LTDS/cleaned.csv')"
   ]
  },
  {
   "cell_type": "code",
   "execution_count": 12,
   "metadata": {
    "pycharm": {
     "name": "#%%\n"
    }
   },
   "outputs": [],
   "source": [
    "for r in lpmc.hh_borough.unique():\n",
    "\n",
    "    tmp = pd.read_csv('../../data/nomis/{}.csv'.format(r))\n",
    "\n",
    "    nbr = len(tmp)\n",
    "\n",
    "    # Sample with replacement from lpmc\n",
    "    df = lpmc[lpmc.hh_borough==r].sample(n=nbr, replace=True)\n",
    "\n",
    "    df.to_csv('../../data/oversample/{}.csv'.format(r), index=False)"
   ]
  },
  {
   "cell_type": "code",
   "execution_count": 8,
   "metadata": {
    "pycharm": {
     "name": "#%%\n"
    }
   },
   "outputs": [],
   "source": [
    "lpmc = pd.read_csv('../../data/LTDS/cleaned_region.csv')"
   ]
  },
  {
   "cell_type": "code",
   "execution_count": 10,
   "metadata": {
    "pycharm": {
     "name": "#%%\n"
    }
   },
   "outputs": [
    {
     "ename": "AttributeError",
     "evalue": "'DataFrame' object has no attribute 'hh_region'",
     "output_type": "error",
     "traceback": [
      "\u001B[1;31m---------------------------------------------------------------------------\u001B[0m",
      "\u001B[1;31mAttributeError\u001B[0m                            Traceback (most recent call last)",
      "Input \u001B[1;32mIn [10]\u001B[0m, in \u001B[0;36m<module>\u001B[1;34m\u001B[0m\n\u001B[0;32m      5\u001B[0m nbr \u001B[38;5;241m=\u001B[39m \u001B[38;5;28mlen\u001B[39m(tmp)\n\u001B[0;32m      7\u001B[0m \u001B[38;5;66;03m# Sample with replacement from lpmc\u001B[39;00m\n\u001B[1;32m----> 8\u001B[0m df \u001B[38;5;241m=\u001B[39m lpmc[\u001B[43mlpmc\u001B[49m\u001B[38;5;241;43m.\u001B[39;49m\u001B[43mhh_region\u001B[49m\u001B[38;5;241m==\u001B[39mr]\u001B[38;5;241m.\u001B[39msample(n\u001B[38;5;241m=\u001B[39mnbr, replace\u001B[38;5;241m=\u001B[39m\u001B[38;5;28;01mTrue\u001B[39;00m)\n\u001B[0;32m     10\u001B[0m df\u001B[38;5;241m.\u001B[39mto_csv(\u001B[38;5;124m'\u001B[39m\u001B[38;5;124m../../data/oversample/\u001B[39m\u001B[38;5;132;01m{}\u001B[39;00m\u001B[38;5;124m.csv\u001B[39m\u001B[38;5;124m'\u001B[39m\u001B[38;5;241m.\u001B[39mformat(r), index\u001B[38;5;241m=\u001B[39m\u001B[38;5;28;01mFalse\u001B[39;00m)\n",
      "File \u001B[1;32m~\\AppData\\Roaming\\Python\\Python39\\site-packages\\pandas\\core\\generic.py:5575\u001B[0m, in \u001B[0;36mNDFrame.__getattr__\u001B[1;34m(self, name)\u001B[0m\n\u001B[0;32m   5568\u001B[0m \u001B[38;5;28;01mif\u001B[39;00m (\n\u001B[0;32m   5569\u001B[0m     name \u001B[38;5;129;01mnot\u001B[39;00m \u001B[38;5;129;01min\u001B[39;00m \u001B[38;5;28mself\u001B[39m\u001B[38;5;241m.\u001B[39m_internal_names_set\n\u001B[0;32m   5570\u001B[0m     \u001B[38;5;129;01mand\u001B[39;00m name \u001B[38;5;129;01mnot\u001B[39;00m \u001B[38;5;129;01min\u001B[39;00m \u001B[38;5;28mself\u001B[39m\u001B[38;5;241m.\u001B[39m_metadata\n\u001B[0;32m   5571\u001B[0m     \u001B[38;5;129;01mand\u001B[39;00m name \u001B[38;5;129;01mnot\u001B[39;00m \u001B[38;5;129;01min\u001B[39;00m \u001B[38;5;28mself\u001B[39m\u001B[38;5;241m.\u001B[39m_accessors\n\u001B[0;32m   5572\u001B[0m     \u001B[38;5;129;01mand\u001B[39;00m \u001B[38;5;28mself\u001B[39m\u001B[38;5;241m.\u001B[39m_info_axis\u001B[38;5;241m.\u001B[39m_can_hold_identifiers_and_holds_name(name)\n\u001B[0;32m   5573\u001B[0m ):\n\u001B[0;32m   5574\u001B[0m     \u001B[38;5;28;01mreturn\u001B[39;00m \u001B[38;5;28mself\u001B[39m[name]\n\u001B[1;32m-> 5575\u001B[0m \u001B[38;5;28;01mreturn\u001B[39;00m \u001B[38;5;28;43mobject\u001B[39;49m\u001B[38;5;241;43m.\u001B[39;49m\u001B[38;5;21;43m__getattribute__\u001B[39;49m\u001B[43m(\u001B[49m\u001B[38;5;28;43mself\u001B[39;49m\u001B[43m,\u001B[49m\u001B[43m \u001B[49m\u001B[43mname\u001B[49m\u001B[43m)\u001B[49m\n",
      "\u001B[1;31mAttributeError\u001B[0m: 'DataFrame' object has no attribute 'hh_region'"
     ]
    }
   ],
   "source": [
    "for r in lpmc.hh_region.unique():\n",
    "\n",
    "    tmp = pd.read_csv('../../data/nomis/{}.csv'.format(r))\n",
    "\n",
    "    nbr = len(tmp)\n",
    "\n",
    "    # Sample with replacement from lpmc\n",
    "    df = lpmc[lpmc.hh_region==r].sample(n=nbr, replace=True)\n",
    "\n",
    "    df.to_csv('../../data/oversample/{}.csv'.format(r), index=False)"
   ]
  },
  {
   "cell_type": "code",
   "execution_count": 2,
   "metadata": {
    "pycharm": {
     "name": "#%%\n"
    }
   },
   "outputs": [],
   "source": [
    "lpmc = pd.read_csv('../../data/LTDS/cleaned_bias.csv')"
   ]
  },
  {
   "cell_type": "code",
   "execution_count": 3,
   "metadata": {
    "pycharm": {
     "name": "#%%\n"
    }
   },
   "outputs": [],
   "source": [
    "for r in lpmc.hh_borough.unique():\n",
    "\n",
    "    tmp = pd.read_csv('../../data/nomis/{}.csv'.format(r))\n",
    "\n",
    "    nbr = len(tmp)\n",
    "\n",
    "    # Sample with replacement from lpmc\n",
    "    df = lpmc[lpmc.hh_borough==r].sample(n=nbr, replace=True)\n",
    "\n",
    "    df.to_csv('../../data/oversample_bias/{}.csv'.format(r), index=False)"
   ]
  },
  {
   "cell_type": "code",
   "execution_count": 2,
   "metadata": {
    "pycharm": {
     "name": "#%%\n"
    }
   },
   "outputs": [],
   "source": [
    "lpmc = pd.read_csv('../../data/LTDS/cleaned_del.csv')"
   ]
  },
  {
   "cell_type": "code",
   "execution_count": 3,
   "outputs": [],
   "source": [
    "for r in lpmc.hh_borough.unique():\n",
    "\n",
    "    tmp = pd.read_csv('../../data/nomis/{}.csv'.format(r))\n",
    "\n",
    "    nbr = len(tmp)\n",
    "\n",
    "    # Sample with replacement from lpmc\n",
    "    df = lpmc[lpmc.hh_borough==r].sample(n=nbr, replace=True)\n",
    "\n",
    "    df.to_csv('../../data/oversample_del/{}.csv'.format(r), index=False)"
   ],
   "metadata": {
    "collapsed": false,
    "pycharm": {
     "name": "#%%\n"
    }
   }
  },
  {
   "cell_type": "code",
   "execution_count": null,
   "outputs": [],
   "source": [],
   "metadata": {
    "collapsed": false,
    "pycharm": {
     "name": "#%%\n"
    }
   }
  }
 ],
 "metadata": {
  "kernelspec": {
   "display_name": "Python 3",
   "language": "python",
   "name": "python3"
  },
  "language_info": {
   "codemirror_mode": {
    "name": "ipython",
    "version": 3
   },
   "file_extension": ".py",
   "mimetype": "text/x-python",
   "name": "python",
   "nbconvert_exporter": "python",
   "pygments_lexer": "ipython3",
   "version": "3.7.9"
  }
 },
 "nbformat": 4,
 "nbformat_minor": 1
}