{
 "cells": [
  {
   "cell_type": "code",
   "execution_count": 1,
   "metadata": {},
   "outputs": [],
   "source": [
    "import pandas as pd\n",
    "import numpy as np\n",
    "import matplotlib.pyplot as plt\n",
    "import random\n",
    "from tqdm import tqdm\n",
    "\n",
    "import seaborn as sns\n",
    "sns.set_style(\"whitegrid\")\n",
    "\n",
    "from sklearn.preprocessing import LabelEncoder\n",
    "\n",
    "import random\n",
    "import operator\n",
    "\n",
    "from functools import reduce\n",
    "\n",
    "\n",
    "# For the Python notebook\n",
    "%matplotlib inline\n",
    "%reload_ext autoreload\n",
    "%autoreload 2"
   ]
  },
  {
   "cell_type": "code",
   "execution_count": 3,
   "metadata": {
    "pycharm": {
     "name": "#%%\n"
    }
   },
   "outputs": [
    {
     "name": "stderr",
     "output_type": "stream",
     "text": [
      "C:\\Users\\glede\\AppData\\Local\\Temp\\ipykernel_13352\\2331876740.py:1: DtypeWarning: Columns (22,38,40,107,119,122,150,151) have mixed types. Specify dtype option on import or set low_memory=False.\n",
      "  dfi = pd.read_csv('../../data/LTDS/Person.csv')\n",
      "C:\\Users\\glede\\AppData\\Local\\Temp\\ipykernel_13352\\2331876740.py:2: DtypeWarning: Columns (25,32,39,52,59) have mixed types. Specify dtype option on import or set low_memory=False.\n",
      "  dfh = pd.read_csv('../../data/LTDS/Household.csv')\n"
     ]
    }
   ],
   "source": [
    "dfi = pd.read_csv('../../data/LTDS/Person.csv')\n",
    "dfh = pd.read_csv('../../data/LTDS/Household.csv')"
   ]
  },
  {
   "cell_type": "code",
   "execution_count": 34,
   "metadata": {
    "pycharm": {
     "name": "#%%\n"
    }
   },
   "outputs": [],
   "source": [
    "dfh['phid'] = dfh['hhid']"
   ]
  },
  {
   "cell_type": "code",
   "execution_count": 35,
   "metadata": {
    "pycharm": {
     "name": "#%%\n"
    }
   },
   "outputs": [],
   "source": [
    "df = pd.merge(dfi, dfh, on=\"phid\", how=\"left\")"
   ]
  },
  {
   "cell_type": "code",
   "execution_count": 36,
   "metadata": {
    "pycharm": {
     "name": "#%%\n"
    }
   },
   "outputs": [],
   "source": [
    "to_keep = ['ppid', 'phid', 'phaboro', 'psex', 'psexi', 'page', 'pagei', 'pegroup', 'hhaboro', 'hresnon', 'hcarnan', 'hsvnan', 'hovnan', 'hincome', 'hincomei']"
   ]
  },
  {
   "cell_type": "code",
   "execution_count": 37,
   "metadata": {
    "pycharm": {
     "name": "#%%\n"
    }
   },
   "outputs": [],
   "source": [
    "df = df[to_keep]"
   ]
  },
  {
   "cell_type": "code",
   "execution_count": 38,
   "metadata": {
    "pycharm": {
     "name": "#%%\n"
    }
   },
   "outputs": [
    {
     "data": {
      "text/plain": [
       "181393"
      ]
     },
     "execution_count": 38,
     "metadata": {},
     "output_type": "execute_result"
    }
   ],
   "source": [
    "len(df)"
   ]
  },
  {
   "cell_type": "code",
   "execution_count": 39,
   "metadata": {
    "pycharm": {
     "name": "#%%\n"
    }
   },
   "outputs": [],
   "source": [
    "# Remove the imputed values\n",
    "df = df[(df['psex'] == df['psexi']) & (df['page'] == df['pagei']) & (df['hincome'] == df['hincomei'])]"
   ]
  },
  {
   "cell_type": "code",
   "execution_count": 40,
   "metadata": {
    "pycharm": {
     "name": "#%%\n"
    }
   },
   "outputs": [
    {
     "data": {
      "text/plain": [
       "109209"
      ]
     },
     "execution_count": 40,
     "metadata": {},
     "output_type": "execute_result"
    }
   ],
   "source": [
    "len(df)"
   ]
  },
  {
   "cell_type": "code",
   "execution_count": 41,
   "metadata": {
    "pycharm": {
     "name": "#%%\n"
    }
   },
   "outputs": [],
   "source": [
    "# Remove rows when the borough for the hh is different than from the individual\n",
    "df = df[df['phaboro'] == df['hhaboro']]"
   ]
  },
  {
   "cell_type": "code",
   "execution_count": 42,
   "metadata": {
    "pycharm": {
     "name": "#%%\n"
    }
   },
   "outputs": [
    {
     "data": {
      "text/plain": [
       "109023"
      ]
     },
     "execution_count": 42,
     "metadata": {},
     "output_type": "execute_result"
    }
   ],
   "source": [
    "len(df)"
   ]
  },
  {
   "cell_type": "code",
   "execution_count": 43,
   "metadata": {
    "pycharm": {
     "name": "#%%\n"
    }
   },
   "outputs": [],
   "source": [
    "# Remove hh where we don't know the number of vehicles\n",
    "df = df[(df['hcarnan'] != -1) & (df['hsvnan'] != -1) & (df['hovnan'] != -1)]"
   ]
  },
  {
   "cell_type": "code",
   "execution_count": 44,
   "metadata": {
    "pycharm": {
     "name": "#%%\n"
    }
   },
   "outputs": [
    {
     "data": {
      "text/plain": [
       "93806"
      ]
     },
     "execution_count": 44,
     "metadata": {},
     "output_type": "execute_result"
    }
   ],
   "source": [
    "len(df)"
   ]
  },
  {
   "cell_type": "code",
   "execution_count": 45,
   "metadata": {
    "pycharm": {
     "name": "#%%\n"
    }
   },
   "outputs": [],
   "source": [
    "df['hh_carvan'] = df['hcarnan'] + df['hsvnan'] + df['hovnan']"
   ]
  },
  {
   "cell_type": "code",
   "execution_count": 46,
   "metadata": {
    "pycharm": {
     "name": "#%%\n"
    }
   },
   "outputs": [],
   "source": [
    "# Remove people without ethnic group\n",
    "df = df[(df['pegroup'] > 0) & (df['pegroup'] < 20)]"
   ]
  },
  {
   "cell_type": "code",
   "execution_count": 47,
   "metadata": {
    "pycharm": {
     "name": "#%%\n"
    }
   },
   "outputs": [],
   "source": [
    "to_keep = ['ppid', 'phid', 'psex', 'page', 'pegroup', 'hhaboro', 'hresnon', 'hincome', 'hh_carvan']\n",
    "\n",
    "df = df[to_keep]"
   ]
  },
  {
   "cell_type": "markdown",
   "metadata": {
    "pycharm": {
     "name": "#%% md\n"
    }
   },
   "source": [
    "# Transform the values"
   ]
  },
  {
   "cell_type": "code",
   "execution_count": 48,
   "metadata": {
    "pycharm": {
     "name": "#%%\n"
    }
   },
   "outputs": [],
   "source": [
    "# Transform the numerical boroughs to names\n",
    "boroughs = {\n",
    "    1: \"Camden\",\n",
    "    2: \"City of London\",\n",
    "    3: \"Hackney\",\n",
    "    4: \"Hammersmith and Fulham\",\n",
    "    5: \"Haringey\",\n",
    "    6: \"Islington\",\n",
    "    7: \"Kensington and Chelsea\",\n",
    "    8: \"Lambeth\",\n",
    "    9: \"Lewisham\",\n",
    "    10: \"Newham\",\n",
    "    11: \"Southwark\",\n",
    "    12: \"Tower Hamlets\",\n",
    "    13: \"Wandsworth\",\n",
    "    14: \"Westminster\",\n",
    "    15: \"Barking and Dagenham\",\n",
    "    16: \"Barnet\",\n",
    "    17: \"Bexley\",\n",
    "    18: \"Brent\",\n",
    "    19: \"Bromley\",\n",
    "    20: \"Croydon\",\n",
    "    21: \"Ealing\",\n",
    "    22: \"Enfield\",\n",
    "    23: \"Greenwich\",\n",
    "    24: \"Harrow\",\n",
    "    25: \"Havering\",\n",
    "    26: \"Hillingdon\",\n",
    "    27: \"Hounslow\",\n",
    "    28: \"Kingston upon Thames\",\n",
    "    29: \"Merton\",\n",
    "    30: \"Redbridge\",\n",
    "    31: \"Richmond upon Thames\",\n",
    "    32: \"Sutton\",\n",
    "    33: \"Waltham Forest\",\n",
    "    34: \"Dartford\",\n",
    "    35: \"Elmbridge\",\n",
    "    36: \"Epping Forest\",\n",
    "    37: \"Epsom and Ewell\",\n",
    "    38: \"Hertsmere\",\n",
    "    39: \"Mole Valley\",\n",
    "    40: \"Reigate and Banstead\",\n",
    "    41: \"Runnymede\",\n",
    "    42: \"Sevenoaks\",\n",
    "    43: \"South Bucks\",\n",
    "    44: \"Spelthorne\",\n",
    "    45: \"St Albans\",\n",
    "    46: \"Tandridge\",\n",
    "    47: \"Three Rivers\",\n",
    "    48: \"Thurrock\",\n",
    "    49: \"Watford\",\n",
    "    50: \"Woking\",\n",
    "}\n",
    "\n",
    "df['hhaboro'] = df['hhaboro'].map(boroughs)"
   ]
  },
  {
   "cell_type": "code",
   "execution_count": 49,
   "metadata": {
    "pycharm": {
     "name": "#%%\n"
    }
   },
   "outputs": [],
   "source": [
    "# Only keep the 33 boroughs\n",
    "real_boroughs = ['Camden', 'City of London', 'Hackney', 'Haringey', 'Islington', 'Kensington and Chelsea', 'Lambeth', 'Lewisham', 'Newham', 'Southwark', 'Tower Hamlets', 'Wandsworth', 'Westminster', 'Barking and Dagenham', 'Barnet', 'Bexley', 'Brent', 'Bromley', 'Croydon', 'Ealing', 'Enfield', 'Greenwich', 'Harrow', 'Havering', 'Hillingdon', 'Hounslow', 'Kingston upon Thames', 'Merton', 'Redbridge', 'Richmond upon Thames', 'Sutton', 'Waltham Forest', 'Hammersmith and Fulham']\n",
    "\n",
    "df = df[df['hhaboro'].isin(real_boroughs)]"
   ]
  },
  {
   "cell_type": "code",
   "execution_count": 50,
   "metadata": {
    "pycharm": {
     "name": "#%%\n"
    }
   },
   "outputs": [],
   "source": [
    "ethnic_groups = {\n",
    "    17: 'White',\n",
    "    18: 'White',\n",
    "    1: 'White',\n",
    "    2: 'White',\n",
    "    3: 'White',\n",
    "    4: 'Mixed',\n",
    "    5: 'Mixed',\n",
    "    6: 'Mixed',\n",
    "    7: 'Mixed',\n",
    "    8: 'Asian',\n",
    "    9: 'Asian',\n",
    "    10: 'Asian',\n",
    "    15: 'Asian',\n",
    "    11: 'Asian',\n",
    "    12: 'Black',\n",
    "    13: 'Black',\n",
    "    14: 'Black',\n",
    "    19: 'Other',\n",
    "    16: 'Other'\n",
    "}\n",
    "\n",
    "df['pegroup'] = df['pegroup'].map(ethnic_groups)"
   ]
  },
  {
   "cell_type": "code",
   "execution_count": 51,
   "metadata": {
    "pycharm": {
     "name": "#%%\n"
    }
   },
   "outputs": [
    {
     "data": {
      "text/html": [
       "<div>\n",
       "<style scoped>\n",
       "    .dataframe tbody tr th:only-of-type {\n",
       "        vertical-align: middle;\n",
       "    }\n",
       "\n",
       "    .dataframe tbody tr th {\n",
       "        vertical-align: top;\n",
       "    }\n",
       "\n",
       "    .dataframe thead th {\n",
       "        text-align: right;\n",
       "    }\n",
       "</style>\n",
       "<table border=\"1\" class=\"dataframe\">\n",
       "  <thead>\n",
       "    <tr style=\"text-align: right;\">\n",
       "      <th></th>\n",
       "      <th>ppid</th>\n",
       "      <th>phid</th>\n",
       "      <th>psex</th>\n",
       "      <th>page</th>\n",
       "      <th>pegroup</th>\n",
       "      <th>hhaboro</th>\n",
       "      <th>hresnon</th>\n",
       "      <th>hincome</th>\n",
       "      <th>hh_carvan</th>\n",
       "    </tr>\n",
       "  </thead>\n",
       "  <tbody>\n",
       "    <tr>\n",
       "      <th>8</th>\n",
       "      <td>5.002091e+08</td>\n",
       "      <td>5002091</td>\n",
       "      <td>2</td>\n",
       "      <td>36</td>\n",
       "      <td>Asian</td>\n",
       "      <td>Barking and Dagenham</td>\n",
       "      <td>5</td>\n",
       "      <td>6</td>\n",
       "      <td>2</td>\n",
       "    </tr>\n",
       "    <tr>\n",
       "      <th>9</th>\n",
       "      <td>5.002091e+08</td>\n",
       "      <td>5002091</td>\n",
       "      <td>1</td>\n",
       "      <td>35</td>\n",
       "      <td>Asian</td>\n",
       "      <td>Barking and Dagenham</td>\n",
       "      <td>5</td>\n",
       "      <td>6</td>\n",
       "      <td>2</td>\n",
       "    </tr>\n",
       "    <tr>\n",
       "      <th>10</th>\n",
       "      <td>5.002091e+08</td>\n",
       "      <td>5002091</td>\n",
       "      <td>2</td>\n",
       "      <td>9</td>\n",
       "      <td>Asian</td>\n",
       "      <td>Barking and Dagenham</td>\n",
       "      <td>5</td>\n",
       "      <td>6</td>\n",
       "      <td>2</td>\n",
       "    </tr>\n",
       "    <tr>\n",
       "      <th>11</th>\n",
       "      <td>5.002091e+08</td>\n",
       "      <td>5002091</td>\n",
       "      <td>2</td>\n",
       "      <td>6</td>\n",
       "      <td>Asian</td>\n",
       "      <td>Barking and Dagenham</td>\n",
       "      <td>5</td>\n",
       "      <td>6</td>\n",
       "      <td>2</td>\n",
       "    </tr>\n",
       "    <tr>\n",
       "      <th>12</th>\n",
       "      <td>5.002091e+08</td>\n",
       "      <td>5002091</td>\n",
       "      <td>2</td>\n",
       "      <td>0</td>\n",
       "      <td>Asian</td>\n",
       "      <td>Barking and Dagenham</td>\n",
       "      <td>5</td>\n",
       "      <td>6</td>\n",
       "      <td>2</td>\n",
       "    </tr>\n",
       "    <tr>\n",
       "      <th>...</th>\n",
       "      <td>...</td>\n",
       "      <td>...</td>\n",
       "      <td>...</td>\n",
       "      <td>...</td>\n",
       "      <td>...</td>\n",
       "      <td>...</td>\n",
       "      <td>...</td>\n",
       "      <td>...</td>\n",
       "      <td>...</td>\n",
       "    </tr>\n",
       "    <tr>\n",
       "      <th>181382</th>\n",
       "      <td>9.850122e+09</td>\n",
       "      <td>98501222</td>\n",
       "      <td>2</td>\n",
       "      <td>23</td>\n",
       "      <td>White</td>\n",
       "      <td>Wandsworth</td>\n",
       "      <td>1</td>\n",
       "      <td>4</td>\n",
       "      <td>0</td>\n",
       "    </tr>\n",
       "    <tr>\n",
       "      <th>181383</th>\n",
       "      <td>9.850512e+09</td>\n",
       "      <td>98505121</td>\n",
       "      <td>2</td>\n",
       "      <td>70</td>\n",
       "      <td>Asian</td>\n",
       "      <td>Wandsworth</td>\n",
       "      <td>1</td>\n",
       "      <td>2</td>\n",
       "      <td>0</td>\n",
       "    </tr>\n",
       "    <tr>\n",
       "      <th>181384</th>\n",
       "      <td>9.850513e+09</td>\n",
       "      <td>98505131</td>\n",
       "      <td>2</td>\n",
       "      <td>54</td>\n",
       "      <td>Mixed</td>\n",
       "      <td>Wandsworth</td>\n",
       "      <td>1</td>\n",
       "      <td>2</td>\n",
       "      <td>1</td>\n",
       "    </tr>\n",
       "    <tr>\n",
       "      <th>181385</th>\n",
       "      <td>9.850520e+09</td>\n",
       "      <td>98505201</td>\n",
       "      <td>2</td>\n",
       "      <td>60</td>\n",
       "      <td>Black</td>\n",
       "      <td>Wandsworth</td>\n",
       "      <td>2</td>\n",
       "      <td>3</td>\n",
       "      <td>1</td>\n",
       "    </tr>\n",
       "    <tr>\n",
       "      <th>181386</th>\n",
       "      <td>9.850520e+09</td>\n",
       "      <td>98505201</td>\n",
       "      <td>1</td>\n",
       "      <td>60</td>\n",
       "      <td>Black</td>\n",
       "      <td>Wandsworth</td>\n",
       "      <td>2</td>\n",
       "      <td>3</td>\n",
       "      <td>1</td>\n",
       "    </tr>\n",
       "  </tbody>\n",
       "</table>\n",
       "<p>82268 rows × 9 columns</p>\n",
       "</div>"
      ],
      "text/plain": [
       "                ppid      phid  psex  page pegroup               hhaboro  \\\n",
       "8       5.002091e+08   5002091     2    36   Asian  Barking and Dagenham   \n",
       "9       5.002091e+08   5002091     1    35   Asian  Barking and Dagenham   \n",
       "10      5.002091e+08   5002091     2     9   Asian  Barking and Dagenham   \n",
       "11      5.002091e+08   5002091     2     6   Asian  Barking and Dagenham   \n",
       "12      5.002091e+08   5002091     2     0   Asian  Barking and Dagenham   \n",
       "...              ...       ...   ...   ...     ...                   ...   \n",
       "181382  9.850122e+09  98501222     2    23   White            Wandsworth   \n",
       "181383  9.850512e+09  98505121     2    70   Asian            Wandsworth   \n",
       "181384  9.850513e+09  98505131     2    54   Mixed            Wandsworth   \n",
       "181385  9.850520e+09  98505201     2    60   Black            Wandsworth   \n",
       "181386  9.850520e+09  98505201     1    60   Black            Wandsworth   \n",
       "\n",
       "        hresnon  hincome  hh_carvan  \n",
       "8             5        6          2  \n",
       "9             5        6          2  \n",
       "10            5        6          2  \n",
       "11            5        6          2  \n",
       "12            5        6          2  \n",
       "...         ...      ...        ...  \n",
       "181382        1        4          0  \n",
       "181383        1        2          0  \n",
       "181384        1        2          1  \n",
       "181385        2        3          1  \n",
       "181386        2        3          1  \n",
       "\n",
       "[82268 rows x 9 columns]"
      ]
     },
     "execution_count": 51,
     "metadata": {},
     "output_type": "execute_result"
    }
   ],
   "source": [
    "df"
   ]
  },
  {
   "cell_type": "code",
   "execution_count": 52,
   "metadata": {
    "pycharm": {
     "name": "#%%\n"
    }
   },
   "outputs": [],
   "source": [
    "income = {\n",
    "    1: '0-5k',\n",
    "    2: '05-10k',\n",
    "    3: '10-15k',\n",
    "    4: '15-20k',\n",
    "    5: '20-25k',\n",
    "    6: '25-35k',\n",
    "    7: '35-50k',\n",
    "    8: '50-75k',\n",
    "    9: '75-100k',\n",
    "    10: '+100k'\n",
    "}\n",
    "\n",
    "df['hincome'] = df['hincome'].map(income)"
   ]
  },
  {
   "cell_type": "code",
   "execution_count": 53,
   "metadata": {
    "pycharm": {
     "name": "#%%\n"
    }
   },
   "outputs": [],
   "source": [
    "gender = {\n",
    "    1: 'male',\n",
    "    2: 'female'\n",
    "}\n",
    "\n",
    "df['psex'] = df['psex'].map(gender)"
   ]
  },
  {
   "cell_type": "code",
   "execution_count": 54,
   "metadata": {
    "pycharm": {
     "name": "#%%\n"
    }
   },
   "outputs": [
    {
     "data": {
      "text/html": [
       "<div>\n",
       "<style scoped>\n",
       "    .dataframe tbody tr th:only-of-type {\n",
       "        vertical-align: middle;\n",
       "    }\n",
       "\n",
       "    .dataframe tbody tr th {\n",
       "        vertical-align: top;\n",
       "    }\n",
       "\n",
       "    .dataframe thead th {\n",
       "        text-align: right;\n",
       "    }\n",
       "</style>\n",
       "<table border=\"1\" class=\"dataframe\">\n",
       "  <thead>\n",
       "    <tr style=\"text-align: right;\">\n",
       "      <th></th>\n",
       "      <th>ppid</th>\n",
       "      <th>phid</th>\n",
       "      <th>psex</th>\n",
       "      <th>page</th>\n",
       "      <th>pegroup</th>\n",
       "      <th>hhaboro</th>\n",
       "      <th>hresnon</th>\n",
       "      <th>hincome</th>\n",
       "      <th>hh_carvan</th>\n",
       "    </tr>\n",
       "  </thead>\n",
       "  <tbody>\n",
       "    <tr>\n",
       "      <th>8</th>\n",
       "      <td>5.002091e+08</td>\n",
       "      <td>5002091</td>\n",
       "      <td>female</td>\n",
       "      <td>36</td>\n",
       "      <td>Asian</td>\n",
       "      <td>Barking and Dagenham</td>\n",
       "      <td>5</td>\n",
       "      <td>25-35k</td>\n",
       "      <td>2</td>\n",
       "    </tr>\n",
       "    <tr>\n",
       "      <th>9</th>\n",
       "      <td>5.002091e+08</td>\n",
       "      <td>5002091</td>\n",
       "      <td>male</td>\n",
       "      <td>35</td>\n",
       "      <td>Asian</td>\n",
       "      <td>Barking and Dagenham</td>\n",
       "      <td>5</td>\n",
       "      <td>25-35k</td>\n",
       "      <td>2</td>\n",
       "    </tr>\n",
       "    <tr>\n",
       "      <th>10</th>\n",
       "      <td>5.002091e+08</td>\n",
       "      <td>5002091</td>\n",
       "      <td>female</td>\n",
       "      <td>9</td>\n",
       "      <td>Asian</td>\n",
       "      <td>Barking and Dagenham</td>\n",
       "      <td>5</td>\n",
       "      <td>25-35k</td>\n",
       "      <td>2</td>\n",
       "    </tr>\n",
       "    <tr>\n",
       "      <th>11</th>\n",
       "      <td>5.002091e+08</td>\n",
       "      <td>5002091</td>\n",
       "      <td>female</td>\n",
       "      <td>6</td>\n",
       "      <td>Asian</td>\n",
       "      <td>Barking and Dagenham</td>\n",
       "      <td>5</td>\n",
       "      <td>25-35k</td>\n",
       "      <td>2</td>\n",
       "    </tr>\n",
       "    <tr>\n",
       "      <th>12</th>\n",
       "      <td>5.002091e+08</td>\n",
       "      <td>5002091</td>\n",
       "      <td>female</td>\n",
       "      <td>0</td>\n",
       "      <td>Asian</td>\n",
       "      <td>Barking and Dagenham</td>\n",
       "      <td>5</td>\n",
       "      <td>25-35k</td>\n",
       "      <td>2</td>\n",
       "    </tr>\n",
       "    <tr>\n",
       "      <th>...</th>\n",
       "      <td>...</td>\n",
       "      <td>...</td>\n",
       "      <td>...</td>\n",
       "      <td>...</td>\n",
       "      <td>...</td>\n",
       "      <td>...</td>\n",
       "      <td>...</td>\n",
       "      <td>...</td>\n",
       "      <td>...</td>\n",
       "    </tr>\n",
       "    <tr>\n",
       "      <th>181382</th>\n",
       "      <td>9.850122e+09</td>\n",
       "      <td>98501222</td>\n",
       "      <td>female</td>\n",
       "      <td>23</td>\n",
       "      <td>White</td>\n",
       "      <td>Wandsworth</td>\n",
       "      <td>1</td>\n",
       "      <td>15-20k</td>\n",
       "      <td>0</td>\n",
       "    </tr>\n",
       "    <tr>\n",
       "      <th>181383</th>\n",
       "      <td>9.850512e+09</td>\n",
       "      <td>98505121</td>\n",
       "      <td>female</td>\n",
       "      <td>70</td>\n",
       "      <td>Asian</td>\n",
       "      <td>Wandsworth</td>\n",
       "      <td>1</td>\n",
       "      <td>05-10k</td>\n",
       "      <td>0</td>\n",
       "    </tr>\n",
       "    <tr>\n",
       "      <th>181384</th>\n",
       "      <td>9.850513e+09</td>\n",
       "      <td>98505131</td>\n",
       "      <td>female</td>\n",
       "      <td>54</td>\n",
       "      <td>Mixed</td>\n",
       "      <td>Wandsworth</td>\n",
       "      <td>1</td>\n",
       "      <td>05-10k</td>\n",
       "      <td>1</td>\n",
       "    </tr>\n",
       "    <tr>\n",
       "      <th>181385</th>\n",
       "      <td>9.850520e+09</td>\n",
       "      <td>98505201</td>\n",
       "      <td>female</td>\n",
       "      <td>60</td>\n",
       "      <td>Black</td>\n",
       "      <td>Wandsworth</td>\n",
       "      <td>2</td>\n",
       "      <td>10-15k</td>\n",
       "      <td>1</td>\n",
       "    </tr>\n",
       "    <tr>\n",
       "      <th>181386</th>\n",
       "      <td>9.850520e+09</td>\n",
       "      <td>98505201</td>\n",
       "      <td>male</td>\n",
       "      <td>60</td>\n",
       "      <td>Black</td>\n",
       "      <td>Wandsworth</td>\n",
       "      <td>2</td>\n",
       "      <td>10-15k</td>\n",
       "      <td>1</td>\n",
       "    </tr>\n",
       "  </tbody>\n",
       "</table>\n",
       "<p>82268 rows × 9 columns</p>\n",
       "</div>"
      ],
      "text/plain": [
       "                ppid      phid    psex  page pegroup               hhaboro  \\\n",
       "8       5.002091e+08   5002091  female    36   Asian  Barking and Dagenham   \n",
       "9       5.002091e+08   5002091    male    35   Asian  Barking and Dagenham   \n",
       "10      5.002091e+08   5002091  female     9   Asian  Barking and Dagenham   \n",
       "11      5.002091e+08   5002091  female     6   Asian  Barking and Dagenham   \n",
       "12      5.002091e+08   5002091  female     0   Asian  Barking and Dagenham   \n",
       "...              ...       ...     ...   ...     ...                   ...   \n",
       "181382  9.850122e+09  98501222  female    23   White            Wandsworth   \n",
       "181383  9.850512e+09  98505121  female    70   Asian            Wandsworth   \n",
       "181384  9.850513e+09  98505131  female    54   Mixed            Wandsworth   \n",
       "181385  9.850520e+09  98505201  female    60   Black            Wandsworth   \n",
       "181386  9.850520e+09  98505201    male    60   Black            Wandsworth   \n",
       "\n",
       "        hresnon hincome  hh_carvan  \n",
       "8             5  25-35k          2  \n",
       "9             5  25-35k          2  \n",
       "10            5  25-35k          2  \n",
       "11            5  25-35k          2  \n",
       "12            5  25-35k          2  \n",
       "...         ...     ...        ...  \n",
       "181382        1  15-20k          0  \n",
       "181383        1  05-10k          0  \n",
       "181384        1  05-10k          1  \n",
       "181385        2  10-15k          1  \n",
       "181386        2  10-15k          1  \n",
       "\n",
       "[82268 rows x 9 columns]"
      ]
     },
     "execution_count": 54,
     "metadata": {},
     "output_type": "execute_result"
    }
   ],
   "source": [
    "df"
   ]
  },
  {
   "cell_type": "code",
   "execution_count": 55,
   "metadata": {
    "pycharm": {
     "name": "#%%\n"
    }
   },
   "outputs": [],
   "source": [
    "comp = []\n",
    "\n",
    "for hid in df['phid'].unique():\n",
    "\n",
    "    rows = df[df['phid'] == hid]\n",
    "\n",
    "    if len(rows) == 1:\n",
    "        comp.append('Single')\n",
    "    else:\n",
    "\n",
    "        adults = rows[rows['page'] >= 18]\n",
    "\n",
    "        if len(adults) == 0:\n",
    "            for i in range(len(rows)):\n",
    "                comp.append('Other')\n",
    "        elif len(adults) == 1:\n",
    "            for i in range(len(rows)):\n",
    "                comp.append('Lone parent')\n",
    "        else:\n",
    "\n",
    "            ages = list(rows['page'])\n",
    "            ages.sort(reverse=True)\n",
    "\n",
    "            # If the difference between the oldest and second-oldest adult is bigger than 16 => it's a lone parent\n",
    "            if ages[0]-ages[1] >= 16:\n",
    "                for i in range(len(rows)):\n",
    "                    comp.append('Lone parent')\n",
    "            else:\n",
    "                # If there are 2 adults with close age => it's a couple without kids\n",
    "                if len(adults) == 2:\n",
    "                    for i in range(len(rows)):\n",
    "                        comp.append('Couple family')\n",
    "                else:\n",
    "                    # We suppose that it's either a couple with kids or something else.\n",
    "                    # Thus, both parents should be older to the first kid by at least 16 yo\n",
    "                    if ages[1]-ages[2] >= 16:\n",
    "                        for i in range(len(rows)):\n",
    "                            comp.append('Couple family')\n",
    "                    else:\n",
    "                        # Most likely multiple adults in a same household\n",
    "                        for i in range(len(rows)):\n",
    "                            comp.append('Other')"
   ]
  },
  {
   "cell_type": "code",
   "execution_count": 56,
   "metadata": {
    "pycharm": {
     "name": "#%%\n"
    }
   },
   "outputs": [],
   "source": [
    "df['hh_comp'] = comp"
   ]
  },
  {
   "cell_type": "code",
   "execution_count": 57,
   "metadata": {
    "pycharm": {
     "name": "#%%\n"
    }
   },
   "outputs": [],
   "source": [
    "df = df.rename(columns={'psex': 'gender', 'page': 'age', 'pegroup': 'ethnicity', 'hhaboro': 'hh_borough', 'hresnon': 'hh_people', 'hincome': 'hh_income'})"
   ]
  },
  {
   "cell_type": "code",
   "execution_count": 58,
   "metadata": {
    "pycharm": {
     "name": "#%%\n"
    }
   },
   "outputs": [],
   "source": [
    "df.index = range(len(df))"
   ]
  },
  {
   "cell_type": "code",
   "execution_count": 59,
   "metadata": {
    "pycharm": {
     "name": "#%%\n"
    }
   },
   "outputs": [],
   "source": [
    "df.to_csv('../../data/LTDS/cleaned_id.csv', index=False)"
   ]
  },
  {
   "cell_type": "code",
   "execution_count": 60,
   "metadata": {
    "pycharm": {
     "name": "#%%\n"
    }
   },
   "outputs": [],
   "source": [
    "df.drop(['ppid', 'phid'], axis=1, inplace=True)"
   ]
  },
  {
   "cell_type": "code",
   "execution_count": 61,
   "metadata": {
    "pycharm": {
     "name": "#%%\n"
    }
   },
   "outputs": [],
   "source": [
    "df.to_csv('../../data/LTDS/cleaned.csv', index=False)"
   ]
  },
  {
   "cell_type": "markdown",
   "metadata": {
    "pycharm": {
     "name": "#%% md\n"
    }
   },
   "source": [
    "# Change from boroughs to regions"
   ]
  },
  {
   "cell_type": "code",
   "execution_count": 8,
   "metadata": {
    "pycharm": {
     "name": "#%%\n"
    }
   },
   "outputs": [],
   "source": [
    "df = pd.read_csv('../../data/LTDS/cleaned.csv')"
   ]
  },
  {
   "cell_type": "code",
   "execution_count": 9,
   "metadata": {
    "pycharm": {
     "name": "#%%\n"
    }
   },
   "outputs": [],
   "source": [
    "regions = {\n",
    "    'Central London': ['City of London', 'Camden', 'Kensington and Chelsea', 'Islington', 'Westminster', 'Southwark', 'Lambeth'],\n",
    "    'South London': ['Bromley', 'Croydon', 'Kingston upon Thames', 'Merton', 'Sutton', 'Wandsworth'],\n",
    "    'East London': ['Barking and Dagenham', 'Bexley', 'Greenwich', 'Hackney', 'Havering', 'Lewisham', 'Newham', 'Tower Hamlets', 'Waltham Forest'],\n",
    "    'North London': ['Barnet', 'Enfield', 'Haringey'],\n",
    "    'West London': ['Brent', 'Ealing', 'Hammersmith & Fulham', 'Harrow', 'Hillingdon', 'Hounslow', 'Redbridge', 'Richmond upon Thames']\n",
    "}\n",
    "\n",
    "rr = {}\n",
    "for k in regions.keys():\n",
    "    for v in regions[k]:\n",
    "        rr[v] = k"
   ]
  },
  {
   "cell_type": "code",
   "execution_count": 10,
   "metadata": {
    "pycharm": {
     "name": "#%%\n"
    }
   },
   "outputs": [],
   "source": [
    "df['hh_region'] = df['hh_borough'].map(rr)"
   ]
  },
  {
   "cell_type": "code",
   "execution_count": 11,
   "metadata": {
    "pycharm": {
     "name": "#%%\n"
    }
   },
   "outputs": [],
   "source": [
    "df.drop(['hh_borough'], axis=1, inplace=True)"
   ]
  },
  {
   "cell_type": "code",
   "execution_count": 12,
   "metadata": {
    "pycharm": {
     "name": "#%%\n"
    }
   },
   "outputs": [],
   "source": [
    "df.to_csv('../../data/LTDS/cleaned_region.csv', index=False)"
   ]
  },
  {
   "cell_type": "markdown",
   "metadata": {
    "pycharm": {
     "name": "#%% md\n"
    }
   },
   "source": [
    "# Select specific boroughs"
   ]
  },
  {
   "cell_type": "code",
   "execution_count": 3,
   "metadata": {
    "pycharm": {
     "name": "#%%\n"
    }
   },
   "outputs": [],
   "source": [
    "df = pd.read_csv('../../data/LTDS/cleaned.csv')"
   ]
  },
  {
   "cell_type": "code",
   "execution_count": 4,
   "metadata": {
    "pycharm": {
     "name": "#%%\n"
    }
   },
   "outputs": [],
   "source": [
    "boroughs = ['Camden', 'Westminster', 'Kingston upon Thames', 'Bromley', 'Greenwich', 'Havering', 'Barnet', 'Enfield', 'Hillingdon', 'Brent']"
   ]
  },
  {
   "cell_type": "code",
   "execution_count": 5,
   "metadata": {
    "pycharm": {
     "name": "#%%\n"
    }
   },
   "outputs": [],
   "source": [
    "df = df[df['hh_borough'].isin(boroughs)]"
   ]
  },
  {
   "cell_type": "code",
   "execution_count": 6,
   "metadata": {
    "pycharm": {
     "name": "#%%\n"
    }
   },
   "outputs": [],
   "source": [
    "df.to_csv('../../data/LTDS/cleaned_select.csv', index=False)"
   ]
  },
  {
   "cell_type": "markdown",
   "metadata": {
    "pycharm": {
     "name": "#%% md\n"
    }
   },
   "source": [
    "# Bias data"
   ]
  },
  {
   "cell_type": "code",
   "execution_count": 4,
   "metadata": {
    "pycharm": {
     "name": "#%%\n"
    }
   },
   "outputs": [],
   "source": [
    "df = pd.read_csv('../../data/LTDS/cleaned_select.csv')"
   ]
  },
  {
   "cell_type": "code",
   "execution_count": 12,
   "metadata": {
    "pycharm": {
     "name": "#%%\n"
    }
   },
   "outputs": [
    {
     "name": "stdout",
     "output_type": "stream",
     "text": [
      "Barnet 4\n",
      "Brent 2\n",
      "Bromley 2\n",
      "City of London 2\n",
      "Enfield 2\n",
      "Greenwich 2\n",
      "Havering 2\n",
      "Hillingdon 2\n",
      "Kingston upon Thames 2\n",
      "Westminster 2\n"
     ]
    }
   ],
   "source": [
    "idx_to_remove = []\n",
    "for b in df.hh_borough.unique():\n",
    "    proba = np.random.random()\n",
    "\n",
    "    tmp = df[df['hh_borough'] == b]\n",
    "\n",
    "    type_ = np.random.randint(1, 5)\n",
    "\n",
    "    perc = 0.8\n",
    "        \n",
    "    print(b, type_)\n",
    "\n",
    "    if type_ == 1:\n",
    "\n",
    "        gender = 'female' if np.random.random() <= 0.5 else 'male'\n",
    "\n",
    "        idx = list(tmp[(tmp['gender'] == gender)].index)\n",
    "\n",
    "    elif type_ == 2:\n",
    "        idx = list(tmp[(tmp['age'] <= 20)].index)\n",
    "    elif type_ == 3:\n",
    "        idx = list(tmp[(tmp['age'] > 20) & (df['age'] < 50)].index)\n",
    "    else:\n",
    "        idx = list(tmp[(tmp['age'] >= 50)].index)\n",
    "\n",
    "    idx_to_remove.append(random.sample(idx, int(len(idx)*perc)))\n",
    "\n",
    "out = reduce(operator.concat, idx_to_remove)\n",
    "biased_df = df.drop(out)\n",
    "biased_df.index = range(len(biased_df))"
   ]
  },
  {
   "cell_type": "code",
   "execution_count": 15,
   "outputs": [
    {
     "data": {
      "text/plain": "19420"
     },
     "execution_count": 15,
     "metadata": {},
     "output_type": "execute_result"
    }
   ],
   "source": [
    "len(biased_df)"
   ],
   "metadata": {
    "collapsed": false,
    "pycharm": {
     "name": "#%%\n"
    }
   }
  },
  {
   "cell_type": "code",
   "execution_count": 19,
   "metadata": {
    "pycharm": {
     "name": "#%%\n"
    }
   },
   "outputs": [],
   "source": [
    "biased_df.to_csv('../../data/LTDS/cleaned_bias.csv', index=False)"
   ]
  },
  {
   "cell_type": "markdown",
   "source": [
    "# Del data"
   ],
   "metadata": {
    "collapsed": false,
    "pycharm": {
     "name": "#%% md\n"
    }
   }
  },
  {
   "cell_type": "code",
   "execution_count": 2,
   "outputs": [],
   "source": [
    "df = pd.read_csv('../../data/LTDS/cleaned_select.csv')"
   ],
   "metadata": {
    "collapsed": false,
    "pycharm": {
     "name": "#%%\n"
    }
   }
  },
  {
   "cell_type": "code",
   "execution_count": 3,
   "outputs": [
    {
     "data": {
      "text/plain": "8"
     },
     "execution_count": 3,
     "metadata": {},
     "output_type": "execute_result"
    }
   ],
   "source": [
    "len(df.columns)"
   ],
   "metadata": {
    "collapsed": false,
    "pycharm": {
     "name": "#%%\n"
    }
   }
  },
  {
   "cell_type": "code",
   "execution_count": 4,
   "outputs": [
    {
     "data": {
      "text/plain": "29158"
     },
     "execution_count": 4,
     "metadata": {},
     "output_type": "execute_result"
    }
   ],
   "source": [
    "len(df)"
   ],
   "metadata": {
    "collapsed": false,
    "pycharm": {
     "name": "#%%\n"
    }
   }
  },
  {
   "cell_type": "code",
   "execution_count": 9,
   "outputs": [
    {
     "name": "stderr",
     "output_type": "stream",
     "text": [
      "C:\\Users\\glede\\AppData\\Local\\Temp\\ipykernel_22924\\2136040398.py:11: UserWarning: Boolean Series key will be reindexed to match DataFrame index.\n",
      "  idx = list(tmp[~((tmp['age'] > 25) & (df['age'] < 55))].index)\n",
      "C:\\Users\\glede\\AppData\\Local\\Temp\\ipykernel_22924\\2136040398.py:11: UserWarning: Boolean Series key will be reindexed to match DataFrame index.\n",
      "  idx = list(tmp[~((tmp['age'] > 25) & (df['age'] < 55))].index)\n"
     ]
    }
   ],
   "source": [
    "idx_to_remove = []\n",
    "for b in df.hh_borough.unique():\n",
    "\n",
    "    tmp = df[df['hh_borough'] == b]\n",
    "\n",
    "    type_ = np.random.randint(1, 5)\n",
    "\n",
    "    if type_ == 1:\n",
    "        idx = list(tmp[~(tmp['age'] <= 25)].index)\n",
    "    elif type_ == 2:\n",
    "        idx = list(tmp[~((tmp['age'] > 25) & (df['age'] < 55))].index)\n",
    "    else:\n",
    "        idx = list(tmp[~(tmp['age'] >= 55)].index)\n",
    "\n",
    "    idx_to_remove.append(random.sample(idx, int(len(idx)*0.95)))\n",
    "\n",
    "out = reduce(operator.concat, idx_to_remove)\n",
    "biased_df = df.drop(out)\n",
    "biased_df.index = range(len(biased_df))"
   ],
   "metadata": {
    "collapsed": false,
    "pycharm": {
     "name": "#%%\n"
    }
   }
  },
  {
   "cell_type": "code",
   "execution_count": 10,
   "outputs": [
    {
     "data": {
      "text/plain": "10009"
     },
     "execution_count": 10,
     "metadata": {},
     "output_type": "execute_result"
    }
   ],
   "source": [
    "len(biased_df)"
   ],
   "metadata": {
    "collapsed": false,
    "pycharm": {
     "name": "#%%\n"
    }
   }
  },
  {
   "cell_type": "code",
   "execution_count": 11,
   "outputs": [
    {
     "data": {
      "text/plain": "<AxesSubplot:>"
     },
     "execution_count": 11,
     "metadata": {},
     "output_type": "execute_result"
    },
    {
     "data": {
      "text/plain": "<Figure size 432x288 with 1 Axes>",
      "image/png": "[encoded data removed]"
     },
     "metadata": {
      "needs_background": "light"
     },
     "output_type": "display_data"
    }
   ],
   "source": [
    "biased_df.age.hist()\n",
    "df.age.hist(alpha=0.3)"
   ],
   "metadata": {
    "collapsed": false,
    "pycharm": {
     "name": "#%%\n"
    }
   }
  },
  {
   "cell_type": "code",
   "execution_count": 12,
   "outputs": [],
   "source": [
    "biased_df.to_csv('../../data/LTDS/cleaned_del.csv', index=False)"
   ],
   "metadata": {
    "collapsed": false,
    "pycharm": {
     "name": "#%%\n"
    }
   }
  },
  {
   "cell_type": "markdown",
   "metadata": {
    "pycharm": {
     "name": "#%% md\n"
    }
   },
   "source": [
    "# Check data"
   ]
  },
  {
   "cell_type": "code",
   "execution_count": 9,
   "outputs": [],
   "source": [
    "df = biased_df"
   ],
   "metadata": {
    "collapsed": false,
    "pycharm": {
     "name": "#%%\n"
    }
   }
  },
  {
   "cell_type": "code",
   "execution_count": 20,
   "outputs": [],
   "source": [
    "df = df.sample(int(0.1*len(df)))"
   ],
   "metadata": {
    "collapsed": false,
    "pycharm": {
     "name": "#%%\n"
    }
   }
  },
  {
   "cell_type": "code",
   "execution_count": 3,
   "metadata": {
    "pycharm": {
     "name": "#%%\n"
    }
   },
   "outputs": [],
   "source": [
    "num_data = {}\n",
    "\n",
    "le = LabelEncoder()\n",
    "\n",
    "for c in df.columns:\n",
    "    if df[c].dtype == 'object':\n",
    "        num_data[c] = le.fit_transform(df[c])\n",
    "    else:\n",
    "        num_data[c] = df[c]"
   ]
  },
  {
   "cell_type": "code",
   "execution_count": 4,
   "metadata": {
    "pycharm": {
     "name": "#%%\n"
    }
   },
   "outputs": [],
   "source": [
    "df_num = pd.DataFrame(num_data)"
   ]
  },
  {
   "cell_type": "code",
   "execution_count": 18,
   "metadata": {
    "pycharm": {
     "name": "#%%\n"
    }
   },
   "outputs": [],
   "source": [
    "matrix = df_num.corr('spearman')"
   ]
  },
  {
   "cell_type": "code",
   "execution_count": 19,
   "outputs": [
    {
     "name": "stdout",
     "output_type": "stream",
     "text": [
      "0 0 1.00\n",
      "1 0 -0.02\n",
      "2 0 0.01\n",
      "3 0 -0.00\n",
      "4 0 0.02\n",
      "5 0 0.03\n",
      "6 0 0.04\n",
      "7 0 -0.06\n",
      "\n",
      "0 1 -0.02\n",
      "1 1 1.00\n",
      "2 1 0.17\n",
      "3 1 0.03\n",
      "4 1 -0.48\n",
      "5 1 -0.05\n",
      "6 1 -0.03\n",
      "7 1 0.08\n",
      "\n",
      "0 2 0.01\n",
      "1 2 0.17\n",
      "2 2 1.00\n",
      "3 2 0.15\n",
      "4 2 -0.24\n",
      "5 2 0.06\n",
      "6 2 0.08\n",
      "7 2 -0.04\n",
      "\n",
      "0 3 -0.00\n",
      "1 3 0.03\n",
      "2 3 0.15\n",
      "3 3 1.00\n",
      "4 3 -0.08\n",
      "5 3 0.04\n",
      "6 3 0.00\n",
      "7 3 -0.01\n",
      "\n",
      "0 4 0.02\n",
      "1 4 -0.48\n",
      "2 4 -0.24\n",
      "3 4 -0.08\n",
      "4 4 1.00\n",
      "5 4 0.11\n",
      "6 4 0.31\n",
      "7 4 -0.37\n",
      "\n",
      "0 5 0.03\n",
      "1 5 -0.05\n",
      "2 5 0.06\n",
      "3 5 0.04\n",
      "4 5 0.11\n",
      "5 5 1.00\n",
      "6 5 0.30\n",
      "7 5 -0.25\n",
      "\n",
      "0 6 0.04\n",
      "1 6 -0.03\n",
      "2 6 0.08\n",
      "3 6 0.00\n",
      "4 6 0.31\n",
      "5 6 0.30\n",
      "6 6 1.00\n",
      "7 6 -0.35\n",
      "\n",
      "0 7 -0.06\n",
      "1 7 0.08\n",
      "2 7 -0.04\n",
      "3 7 -0.01\n",
      "4 7 -0.37\n",
      "5 7 -0.25\n",
      "6 7 -0.35\n",
      "7 7 1.00\n",
      "\n"
     ]
    }
   ],
   "source": [
    "for i, n in enumerate(matrix.columns):\n",
    "    for j, m in enumerate(matrix.columns):\n",
    "        print('{} {} {:.2f}'.format(j, i, matrix[m].loc[n]))\n",
    "    print()"
   ],
   "metadata": {
    "collapsed": false,
    "pycharm": {
     "name": "#%%\n"
    }
   }
  },
  {
   "cell_type": "code",
   "execution_count": 20,
   "outputs": [
    {
     "data": {
      "text/plain": "              gender       age  ethnicity  hh_borough  hh_people  hh_income  \\\ngender      1.000000 -0.019507   0.012176   -0.000828   0.017551   0.032416   \nage        -0.019507  1.000000   0.169354    0.028027  -0.484659  -0.054417   \nethnicity   0.012176  0.169354   1.000000    0.149751  -0.236416   0.062135   \nhh_borough -0.000828  0.028027   0.149751    1.000000  -0.080935   0.041878   \nhh_people   0.017551 -0.484659  -0.236416   -0.080935   1.000000   0.114675   \nhh_income   0.032416 -0.054417   0.062135    0.041878   0.114675   1.000000   \nhh_carvan   0.040203 -0.025299   0.077987    0.001272   0.308690   0.300904   \nhh_comp    -0.056317  0.081458  -0.038931   -0.009586  -0.365750  -0.250590   \n\n            hh_carvan   hh_comp  \ngender       0.040203 -0.056317  \nage         -0.025299  0.081458  \nethnicity    0.077987 -0.038931  \nhh_borough   0.001272 -0.009586  \nhh_people    0.308690 -0.365750  \nhh_income    0.300904 -0.250590  \nhh_carvan    1.000000 -0.350512  \nhh_comp     -0.350512  1.000000  ",
      "text/html": "<div>\n<style scoped>\n    .dataframe tbody tr th:only-of-type {\n        vertical-align: middle;\n    }\n\n    .dataframe tbody tr th {\n        vertical-align: top;\n    }\n\n    .dataframe thead th {\n        text-align: right;\n    }\n</style>\n<table border=\"1\" class=\"dataframe\">\n  <thead>\n    <tr style=\"text-align: right;\">\n      <th></th>\n      <th>gender</th>\n      <th>age</th>\n      <th>ethnicity</th>\n      <th>hh_borough</th>\n      <th>hh_people</th>\n      <th>hh_income</th>\n      <th>hh_carvan</th>\n      <th>hh_comp</th>\n    </tr>\n  </thead>\n  <tbody>\n    <tr>\n      <th>gender</th>\n      <td>1.000000</td>\n      <td>-0.019507</td>\n      <td>0.012176</td>\n      <td>-0.000828</td>\n      <td>0.017551</td>\n      <td>0.032416</td>\n      <td>0.040203</td>\n      <td>-0.056317</td>\n    </tr>\n    <tr>\n      <th>age</th>\n      <td>-0.019507</td>\n      <td>1.000000</td>\n      <td>0.169354</td>\n      <td>0.028027</td>\n      <td>-0.484659</td>\n      <td>-0.054417</td>\n      <td>-0.025299</td>\n      <td>0.081458</td>\n    </tr>\n    <tr>\n      <th>ethnicity</th>\n      <td>0.012176</td>\n      <td>0.169354</td>\n      <td>1.000000</td>\n      <td>0.149751</td>\n      <td>-0.236416</td>\n      <td>0.062135</td>\n      <td>0.077987</td>\n      <td>-0.038931</td>\n    </tr>\n    <tr>\n      <th>hh_borough</th>\n      <td>-0.000828</td>\n      <td>0.028027</td>\n      <td>0.149751</td>\n      <td>1.000000</td>\n      <td>-0.080935</td>\n      <td>0.041878</td>\n      <td>0.001272</td>\n      <td>-0.009586</td>\n    </tr>\n    <tr>\n      <th>hh_people</th>\n      <td>0.017551</td>\n      <td>-0.484659</td>\n      <td>-0.236416</td>\n      <td>-0.080935</td>\n      <td>1.000000</td>\n      <td>0.114675</td>\n      <td>0.308690</td>\n      <td>-0.365750</td>\n    </tr>\n    <tr>\n      <th>hh_income</th>\n      <td>0.032416</td>\n      <td>-0.054417</td>\n      <td>0.062135</td>\n      <td>0.041878</td>\n      <td>0.114675</td>\n      <td>1.000000</td>\n      <td>0.300904</td>\n      <td>-0.250590</td>\n    </tr>\n    <tr>\n      <th>hh_carvan</th>\n      <td>0.040203</td>\n      <td>-0.025299</td>\n      <td>0.077987</td>\n      <td>0.001272</td>\n      <td>0.308690</td>\n      <td>0.300904</td>\n      <td>1.000000</td>\n      <td>-0.350512</td>\n    </tr>\n    <tr>\n      <th>hh_comp</th>\n      <td>-0.056317</td>\n      <td>0.081458</td>\n      <td>-0.038931</td>\n      <td>-0.009586</td>\n      <td>-0.365750</td>\n      <td>-0.250590</td>\n      <td>-0.350512</td>\n      <td>1.000000</td>\n    </tr>\n  </tbody>\n</table>\n</div>"
     },
     "execution_count": 20,
     "metadata": {},
     "output_type": "execute_result"
    }
   ],
   "source": [
    "matrix"
   ],
   "metadata": {
    "collapsed": false,
    "pycharm": {
     "name": "#%%\n"
    }
   }
  },
  {
   "cell_type": "code",
   "execution_count": 13,
   "metadata": {
    "pycharm": {
     "name": "#%%\n"
    }
   },
   "outputs": [
    {
     "data": {
      "text/plain": "<Figure size 936x720 with 2 Axes>",
      "image/png": "[encoded data removed]"
     },
     "metadata": {
      "needs_background": "light"
     },
     "output_type": "display_data"
    }
   ],
   "source": [
    "plt.figure(figsize=(13,10))\n",
    "sns.heatmap(matrix, annot=True)\n",
    "plt.show()"
   ]
  },
  {
   "cell_type": "code",
   "execution_count": 21,
   "metadata": {
    "pycharm": {
     "name": "#%%\n"
    }
   },
   "outputs": [
    {
     "data": {
      "text/plain": "<Figure size 936x720 with 2 Axes>",
      "image/png": "[encoded data removed]"
     },
     "metadata": {
      "needs_background": "light"
     },
     "output_type": "display_data"
    }
   ],
   "source": [
    "plt.figure(figsize=(13,10))\n",
    "sns.heatmap(matrix, annot=True)\n",
    "plt.show()"
   ]
  },
  {
   "cell_type": "code",
   "execution_count": null,
   "outputs": [],
   "source": [],
   "metadata": {
    "collapsed": false,
    "pycharm": {
     "name": "#%%\n"
    }
   }
  }
 ],
 "metadata": {
  "kernelspec": {
   "display_name": "Python 3",
   "language": "python",
   "name": "python3"
  },
  "language_info": {
   "codemirror_mode": {
    "name": "ipython",
    "version": 3
   },
   "file_extension": ".py",
   "mimetype": "text/x-python",
   "name": "python",
   "nbconvert_exporter": "python",
   "pygments_lexer": "ipython3",
   "version": "3.7.9"
  }
 },
 "nbformat": 4,
 "nbformat_minor": 1
}