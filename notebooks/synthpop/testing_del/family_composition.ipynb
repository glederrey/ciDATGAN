{
 "cells": [
  {
   "cell_type": "code",
   "execution_count": 1,
   "metadata": {},
   "outputs": [],
   "source": [
    "import pandas as pd\n",
    "import numpy as np\n",
    "import matplotlib.pyplot as plt\n",
    "import random\n",
    "from tqdm import tqdm\n",
    "import time\n",
    "\n",
    "\n",
    "import seaborn as sns\n",
    "sns.set_style(\"whitegrid\")\n",
    "\n",
    "from scipy.spatial.distance import jensenshannon\n",
    "\n",
    "import urllib3\n",
    "import json\n",
    "\n",
    "# For the Python notebook\n",
    "%matplotlib inline\n",
    "%reload_ext autoreload\n",
    "%autoreload 2"
   ]
  },
  {
   "cell_type": "markdown",
   "metadata": {
    "pycharm": {
     "name": "#%% md\n"
    }
   },
   "source": [
    "# Get data from nomis"
   ]
  },
  {
   "cell_type": "code",
   "execution_count": 2,
   "metadata": {
    "pycharm": {
     "name": "#%%\n"
    }
   },
   "outputs": [],
   "source": [
    "df = pd.read_csv('../../data/testing/nomis/fam_comp.csv', index_col=0)"
   ]
  },
  {
   "cell_type": "code",
   "execution_count": 3,
   "metadata": {
    "pycharm": {
     "name": "#%%\n"
    }
   },
   "outputs": [],
   "source": [
    "boroughs = ['Camden', 'Westminster', 'Kingston upon Thames', 'Bromley', 'Greenwich', 'Havering', 'Barnet', 'Enfield', 'Hillingdon', 'Brent']"
   ]
  },
  {
   "cell_type": "code",
   "execution_count": 4,
   "metadata": {
    "pycharm": {
     "name": "#%%\n"
    }
   },
   "outputs": [],
   "source": [
    "dct = {}\n",
    "\n",
    "for b in boroughs:\n",
    "    dct[b] = df[b].values"
   ]
  },
  {
   "cell_type": "code",
   "execution_count": 5,
   "metadata": {
    "pycharm": {
     "name": "#%%\n"
    }
   },
   "outputs": [],
   "source": [
    "df = pd.DataFrame(dct, index=df.index)"
   ]
  },
  {
   "cell_type": "code",
   "execution_count": 6,
   "metadata": {
    "pycharm": {
     "name": "#%%\n"
    }
   },
   "outputs": [],
   "source": [
    "df.to_csv('../../data/testing_del/nomis/fam_comp.csv')"
   ]
  },
  {
   "cell_type": "markdown",
   "metadata": {
    "pycharm": {
     "name": "#%% md\n"
    }
   },
   "source": [
    "# Compute values for synthetic data"
   ]
  },
  {
   "cell_type": "code",
   "execution_count": 7,
   "metadata": {
    "pycharm": {
     "name": "#%%\n"
    }
   },
   "outputs": [],
   "source": [
    "boroughs = ['Camden', 'Westminster', 'Kingston upon Thames', 'Bromley', 'Greenwich', 'Havering', 'Barnet', 'Enfield', 'Hillingdon', 'Brent']\n",
    "idx = ['Total', 'Single', 'Couple family', 'Lone parent', 'Other']"
   ]
  },
  {
   "cell_type": "code",
   "execution_count": 8,
   "metadata": {
    "pycharm": {
     "name": "#%%\n"
    }
   },
   "outputs": [],
   "source": [
    "# ciDATGAN\n",
    "dct = {}\n",
    "\n",
    "for b in boroughs:\n",
    "    df = pd.read_csv('../../data/ciDATGAN_del/{}.csv'.format(b))\n",
    "\n",
    "    vals = [0]\n",
    "\n",
    "    for c in idx[1:]:\n",
    "        vals.append(np.sum(1/df[df['hh_comp'] == c]['hh_people']))\n",
    "\n",
    "    vals[0] = np.sum(vals[1:])\n",
    "\n",
    "    dct[b] = vals"
   ]
  },
  {
   "cell_type": "code",
   "execution_count": 9,
   "metadata": {
    "pycharm": {
     "name": "#%%\n"
    }
   },
   "outputs": [],
   "source": [
    "df = pd.DataFrame(dct, index=idx)\n",
    "df.to_csv('../../data/testing_del/ciDATGAN/fam_comp.csv')"
   ]
  },
  {
   "cell_type": "code",
   "execution_count": 10,
   "metadata": {
    "pycharm": {
     "name": "#%%\n"
    }
   },
   "outputs": [],
   "source": [
    "# DATGAN\n",
    "dct = {}\n",
    "\n",
    "for b in boroughs:\n",
    "    df = pd.read_csv('../../data/DATGAN_del/{}.csv'.format(b))\n",
    "\n",
    "    vals = [0]\n",
    "\n",
    "    for c in idx[1:]:\n",
    "        vals.append(np.sum(1/df[df['hh_comp'] == c]['hh_people']))\n",
    "\n",
    "    vals[0] = np.sum(vals[1:])\n",
    "\n",
    "    dct[b] = vals"
   ]
  },
  {
   "cell_type": "code",
   "execution_count": 11,
   "metadata": {
    "pycharm": {
     "name": "#%%\n"
    }
   },
   "outputs": [],
   "source": [
    "df = pd.DataFrame(dct, index=idx)\n",
    "df.to_csv('../../data/testing_del/DATGAN/fam_comp.csv')"
   ]
  },
  {
   "cell_type": "code",
   "execution_count": 12,
   "metadata": {
    "pycharm": {
     "name": "#%%\n"
    }
   },
   "outputs": [],
   "source": [
    "# oversample\n",
    "dct = {}\n",
    "\n",
    "for b in boroughs:\n",
    "    df = pd.read_csv('../../data/oversample_del/{}.csv'.format(b))\n",
    "\n",
    "    vals = [0]\n",
    "\n",
    "    for c in idx[1:]:\n",
    "        vals.append(np.sum(1/df[df['hh_comp'] == c]['hh_people']))\n",
    "\n",
    "    vals[0] = np.sum(vals[1:])\n",
    "\n",
    "    dct[b] = vals"
   ]
  },
  {
   "cell_type": "code",
   "execution_count": 13,
   "metadata": {
    "pycharm": {
     "name": "#%%\n"
    }
   },
   "outputs": [],
   "source": [
    "df = pd.DataFrame(dct, index=idx)\n",
    "df.to_csv('../../data/testing_del/oversample/fam_comp.csv')"
   ]
  },
  {
   "cell_type": "markdown",
   "metadata": {
    "pycharm": {
     "name": "#%% md\n"
    }
   },
   "source": [
    "# Compare"
   ]
  },
  {
   "cell_type": "code",
   "execution_count": 19,
   "metadata": {
    "pycharm": {
     "name": "#%%\n"
    }
   },
   "outputs": [],
   "source": [
    "orig = pd.read_csv('../../data/testing_del/nomis/fam_comp.csv', index_col=0)"
   ]
  },
  {
   "cell_type": "code",
   "execution_count": 20,
   "metadata": {
    "pycharm": {
     "name": "#%%\n"
    }
   },
   "outputs": [],
   "source": [
    "files = [\n",
    "    '../../data/testing_del/DATGAN/fam_comp.csv',\n",
    "    '../../data/testing_del/ciDATGAN/fam_comp.csv',\n",
    "    '../../data/testing_del/oversample/fam_comp.csv'\n",
    "]\n",
    "\n",
    "dfs = [pd.read_csv(f, index_col=0) for f in files]\n",
    "labels = ['DATGAN', 'ciDATGAN', 'Oversample LTDS']"
   ]
  },
  {
   "cell_type": "code",
   "execution_count": 21,
   "metadata": {
    "pycharm": {
     "name": "#%%\n"
    }
   },
   "outputs": [],
   "source": [
    "orig = orig/orig.iloc[0]\n",
    "orig = orig.iloc[1:-1]\n",
    "\n",
    "errors = {}\n",
    "\n",
    "for (df, l) in zip(dfs, labels):\n",
    "    df = df/df.iloc[0]\n",
    "    df = df.iloc[1:-1]\n",
    "\n",
    "    errors[l] = []\n",
    "\n",
    "    for c in orig.columns:\n",
    "        errors[l].append(jensenshannon(df[c], orig[c]))"
   ]
  },
  {
   "cell_type": "code",
   "execution_count": 22,
   "metadata": {
    "pycharm": {
     "name": "#%%\n"
    }
   },
   "outputs": [
    {
     "name": "stdout",
     "output_type": "stream",
     "text": [
      "DATGAN: 1.24e-01 \\pm 7.62e-02\n",
      "ciDATGAN: 8.15e-02 \\pm 4.10e-02\n",
      "Oversample LTDS: 1.22e-01 \\pm 5.40e-02\n"
     ]
    }
   ],
   "source": [
    "for l in labels:\n",
    "    print('{}: {:.2e} \\pm {:.2e}'.format(l, np.mean(errors[l]), np.std(errors[l])))"
   ]
  },
  {
   "cell_type": "code",
   "execution_count": 23,
   "metadata": {
    "pycharm": {
     "name": "#%%\n"
    }
   },
   "outputs": [
    {
     "data": {
      "text/plain": "<AxesSubplot:>"
     },
     "execution_count": 23,
     "metadata": {},
     "output_type": "execute_result"
    },
    {
     "data": {
      "text/plain": "<Figure size 720x504 with 1 Axes>",
      "image/png": "[encoded data removed]"
     },
     "metadata": {
      "needs_background": "light"
     },
     "output_type": "display_data"
    }
   ],
   "source": [
    "df = pd.DataFrame(errors)\n",
    "\n",
    "plt.figure(figsize=(10,7))\n",
    "\n",
    "sns.boxplot(data=df,showmeans=True,\n",
    "            meanprops={\"marker\":\"o\",\n",
    "                       \"markerfacecolor\":\"white\",\n",
    "                       \"markeredgecolor\":\"black\",\n",
    "                      \"markersize\":\"10\"})"
   ]
  },
  {
   "cell_type": "code",
   "execution_count": 24,
   "outputs": [
    {
     "data": {
      "text/plain": "     DATGAN  ciDATGAN  Oversample LTDS\n0  0.221102  0.144214         0.104627\n1  0.094450  0.170194         0.195766\n2  0.122186  0.065750         0.100531\n3  0.201426  0.055730         0.063838\n4  0.028002  0.087196         0.183597\n5  0.082457  0.055715         0.068451\n6  0.205444  0.040966         0.096516\n7  0.049847  0.058782         0.174457\n8  0.020485  0.047401         0.183563\n9  0.213188  0.088875         0.046551",
      "text/html": "<div>\n<style scoped>\n    .dataframe tbody tr th:only-of-type {\n        vertical-align: middle;\n    }\n\n    .dataframe tbody tr th {\n        vertical-align: top;\n    }\n\n    .dataframe thead th {\n        text-align: right;\n    }\n</style>\n<table border=\"1\" class=\"dataframe\">\n  <thead>\n    <tr style=\"text-align: right;\">\n      <th></th>\n      <th>DATGAN</th>\n      <th>ciDATGAN</th>\n      <th>Oversample LTDS</th>\n    </tr>\n  </thead>\n  <tbody>\n    <tr>\n      <th>0</th>\n      <td>0.221102</td>\n      <td>0.144214</td>\n      <td>0.104627</td>\n    </tr>\n    <tr>\n      <th>1</th>\n      <td>0.094450</td>\n      <td>0.170194</td>\n      <td>0.195766</td>\n    </tr>\n    <tr>\n      <th>2</th>\n      <td>0.122186</td>\n      <td>0.065750</td>\n      <td>0.100531</td>\n    </tr>\n    <tr>\n      <th>3</th>\n      <td>0.201426</td>\n      <td>0.055730</td>\n      <td>0.063838</td>\n    </tr>\n    <tr>\n      <th>4</th>\n      <td>0.028002</td>\n      <td>0.087196</td>\n      <td>0.183597</td>\n    </tr>\n    <tr>\n      <th>5</th>\n      <td>0.082457</td>\n      <td>0.055715</td>\n      <td>0.068451</td>\n    </tr>\n    <tr>\n      <th>6</th>\n      <td>0.205444</td>\n      <td>0.040966</td>\n      <td>0.096516</td>\n    </tr>\n    <tr>\n      <th>7</th>\n      <td>0.049847</td>\n      <td>0.058782</td>\n      <td>0.174457</td>\n    </tr>\n    <tr>\n      <th>8</th>\n      <td>0.020485</td>\n      <td>0.047401</td>\n      <td>0.183563</td>\n    </tr>\n    <tr>\n      <th>9</th>\n      <td>0.213188</td>\n      <td>0.088875</td>\n      <td>0.046551</td>\n    </tr>\n  </tbody>\n</table>\n</div>"
     },
     "execution_count": 24,
     "metadata": {},
     "output_type": "execute_result"
    }
   ],
   "source": [
    "df"
   ],
   "metadata": {
    "collapsed": false,
    "pycharm": {
     "name": "#%%\n"
    }
   }
  },
  {
   "cell_type": "code",
   "execution_count": null,
   "outputs": [],
   "source": [],
   "metadata": {
    "collapsed": false,
    "pycharm": {
     "name": "#%%\n"
    }
   }
  }
 ],
 "metadata": {
  "kernelspec": {
   "display_name": "Python 3",
   "language": "python",
   "name": "python3"
  },
  "language_info": {
   "codemirror_mode": {
    "name": "ipython",
    "version": 3
   },
   "file_extension": ".py",
   "mimetype": "text/x-python",
   "name": "python",
   "nbconvert_exporter": "python",
   "pygments_lexer": "ipython3",
   "version": "3.7.9"
  }
 },
 "nbformat": 4,
 "nbformat_minor": 1
}