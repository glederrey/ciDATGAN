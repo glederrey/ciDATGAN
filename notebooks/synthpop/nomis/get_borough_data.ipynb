{
 "cells": [
  {
   "cell_type": "code",
   "execution_count": 11,
   "metadata": {
    "collapsed": true
   },
   "outputs": [],
   "source": [
    "import pandas as pd\n",
    "import numpy as np\n",
    "import matplotlib.pyplot as plt\n",
    "import random\n",
    "from tqdm import tqdm\n",
    "import time\n",
    "\n",
    "\n",
    "import seaborn as sns\n",
    "sns.set_style(\"whitegrid\")\n",
    "\n",
    "\n",
    "import urllib3\n",
    "import json\n",
    "\n",
    "# For the Python notebook\n",
    "%matplotlib inline\n",
    "%reload_ext autoreload\n",
    "%autoreload 2"
   ]
  },
  {
   "cell_type": "code",
   "execution_count": 12,
   "outputs": [
    {
     "data": {
      "text/plain": "'1.24'"
     },
     "execution_count": 12,
     "metadata": {},
     "output_type": "execute_result"
    }
   ],
   "source": [
    "urllib3.__version__"
   ],
   "metadata": {
    "collapsed": false,
    "pycharm": {
     "name": "#%%\n"
    }
   }
  },
  {
   "cell_type": "code",
   "execution_count": 9,
   "outputs": [
    {
     "name": "stdout",
     "output_type": "stream",
     "text": [
      "Collecting urllib3==1.24\n",
      "  Using cached urllib3-1.24-py2.py3-none-any.whl (117 kB)\n",
      "Installing collected packages: urllib3\n",
      "  Attempting uninstall: urllib3\n",
      "    Found existing installation: urllib3 1.26.9\n",
      "    Uninstalling urllib3-1.26.9:\n",
      "      Successfully uninstalled urllib3-1.26.9\n",
      "Successfully installed urllib3-1.24\n"
     ]
    },
    {
     "name": "stderr",
     "output_type": "stream",
     "text": [
      "ERROR: pip's dependency resolver does not currently take into account all the packages that are installed. This behaviour is the source of the following dependency conflicts.\n",
      "twine 3.8.0 requires urllib3>=1.26.0, but you have urllib3 1.24 which is incompatible.\n"
     ]
    }
   ],
   "source": [
    "!pip install urllib3==1.24"
   ],
   "metadata": {
    "collapsed": false,
    "pycharm": {
     "name": "#%%\n"
    }
   }
  },
  {
   "cell_type": "code",
   "execution_count": 2,
   "outputs": [],
   "source": [
    "# Get all dataset on nomis: https://www.nomisweb.co.uk/api/v01/dataset/def.htm"
   ],
   "metadata": {
    "collapsed": false,
    "pycharm": {
     "name": "#%%\n"
    }
   }
  },
  {
   "cell_type": "code",
   "execution_count": 3,
   "outputs": [],
   "source": [
    "# Age and sex by region: NM_792_1\n",
    "# Age only: NM_503_1\n",
    "\n",
    "regions = {\n",
    "    'Camden': 1946157246,\n",
    "    'City of London': 1946157247,\n",
    "    'Hackney': 1946157248,\n",
    "    'Haringey': 1946157250,\n",
    "    'Islington': 1946157251,\n",
    "    'Kensington and Chelsea': 1946157252,\n",
    "    'Lambeth': 1946157253,\n",
    "    'Lewisham': 1946157254,\n",
    "    'Newham': 1946157255,\n",
    "    'Southwark': 1946157256,\n",
    "    'Tower Hamlets': 1946157257,\n",
    "    'Wandsworth': 1946157258,\n",
    "    'Westminster': 1946157259,\n",
    "    'Barking and Dagenham': 1946157260,\n",
    "    'Barnet': 1946157261,\n",
    "    'Bexley': 1946157262,\n",
    "    'Brent': 1946157263,\n",
    "    'Bromley': 1946157264,\n",
    "    'Croydon': 1946157265,\n",
    "    'Ealing': 1946157266,\n",
    "    'Enfield': 1946157267,\n",
    "    'Greenwich': 1946157268,\n",
    "    'Harrow': 1946157269,\n",
    "    'Havering': 1946157270,\n",
    "    'Hillingdon': 1946157271,\n",
    "    'Hounslow': 1946157272,\n",
    "    'Kingston upon Thames': 1946157273,\n",
    "    'Merton': 1946157274,\n",
    "    'Redbridge': 1946157275,\n",
    "    'Richmond upon Thames': 1946157276,\n",
    "    'Sutton': 1946157277,\n",
    "    'Waltham Forest': 1946157278,\n",
    "    'Hammersmith and Fulham': 1946157249,\n",
    "}"
   ],
   "metadata": {
    "collapsed": false,
    "pycharm": {
     "name": "#%%\n"
    }
   }
  },
  {
   "cell_type": "code",
   "execution_count": 13,
   "outputs": [],
   "source": [
    "http = urllib3.PoolManager()"
   ],
   "metadata": {
    "collapsed": false,
    "pycharm": {
     "name": "#%%\n"
    }
   }
  },
  {
   "cell_type": "code",
   "execution_count": 14,
   "outputs": [
    {
     "name": "stderr",
     "output_type": "stream",
     "text": [
      "  0%|          | 0/33 [00:00<?, ?it/s]D:\\Users\\glede\\anaconda3\\envs\\dev\\lib\\site-packages\\urllib3\\connectionpool.py:842: InsecureRequestWarning: Unverified HTTPS request is being made. Adding certificate verification is strongly advised. See: https://urllib3.readthedocs.io/en/latest/advanced-usage.html#ssl-warnings\n",
      "  \n",
      "D:\\Users\\glede\\anaconda3\\envs\\dev\\lib\\site-packages\\urllib3\\connectionpool.py:842: InsecureRequestWarning: Unverified HTTPS request is being made. Adding certificate verification is strongly advised. See: https://urllib3.readthedocs.io/en/latest/advanced-usage.html#ssl-warnings\n",
      "  \n",
      "  3%|▎         | 1/33 [00:01<01:01,  1.93s/it]D:\\Users\\glede\\anaconda3\\envs\\dev\\lib\\site-packages\\urllib3\\connectionpool.py:842: InsecureRequestWarning: Unverified HTTPS request is being made. Adding certificate verification is strongly advised. See: https://urllib3.readthedocs.io/en/latest/advanced-usage.html#ssl-warnings\n",
      "  \n",
      "D:\\Users\\glede\\anaconda3\\envs\\dev\\lib\\site-packages\\urllib3\\connectionpool.py:842: InsecureRequestWarning: Unverified HTTPS request is being made. Adding certificate verification is strongly advised. See: https://urllib3.readthedocs.io/en/latest/advanced-usage.html#ssl-warnings\n",
      "  \n",
      "  6%|▌         | 2/33 [00:03<00:55,  1.79s/it]D:\\Users\\glede\\anaconda3\\envs\\dev\\lib\\site-packages\\urllib3\\connectionpool.py:842: InsecureRequestWarning: Unverified HTTPS request is being made. Adding certificate verification is strongly advised. See: https://urllib3.readthedocs.io/en/latest/advanced-usage.html#ssl-warnings\n",
      "  \n",
      "D:\\Users\\glede\\anaconda3\\envs\\dev\\lib\\site-packages\\urllib3\\connectionpool.py:842: InsecureRequestWarning: Unverified HTTPS request is being made. Adding certificate verification is strongly advised. See: https://urllib3.readthedocs.io/en/latest/advanced-usage.html#ssl-warnings\n",
      "  \n",
      "  9%|▉         | 3/33 [00:05<00:52,  1.75s/it]D:\\Users\\glede\\anaconda3\\envs\\dev\\lib\\site-packages\\urllib3\\connectionpool.py:842: InsecureRequestWarning: Unverified HTTPS request is being made. Adding certificate verification is strongly advised. See: https://urllib3.readthedocs.io/en/latest/advanced-usage.html#ssl-warnings\n",
      "  \n",
      "D:\\Users\\glede\\anaconda3\\envs\\dev\\lib\\site-packages\\urllib3\\connectionpool.py:842: InsecureRequestWarning: Unverified HTTPS request is being made. Adding certificate verification is strongly advised. See: https://urllib3.readthedocs.io/en/latest/advanced-usage.html#ssl-warnings\n",
      "  \n",
      " 12%|█▏        | 4/33 [00:07<00:50,  1.74s/it]D:\\Users\\glede\\anaconda3\\envs\\dev\\lib\\site-packages\\urllib3\\connectionpool.py:842: InsecureRequestWarning: Unverified HTTPS request is being made. Adding certificate verification is strongly advised. See: https://urllib3.readthedocs.io/en/latest/advanced-usage.html#ssl-warnings\n",
      "  \n",
      "D:\\Users\\glede\\anaconda3\\envs\\dev\\lib\\site-packages\\urllib3\\connectionpool.py:842: InsecureRequestWarning: Unverified HTTPS request is being made. Adding certificate verification is strongly advised. See: https://urllib3.readthedocs.io/en/latest/advanced-usage.html#ssl-warnings\n",
      "  \n",
      " 15%|█▌        | 5/33 [00:08<00:50,  1.80s/it]D:\\Users\\glede\\anaconda3\\envs\\dev\\lib\\site-packages\\urllib3\\connectionpool.py:842: InsecureRequestWarning: Unverified HTTPS request is being made. Adding certificate verification is strongly advised. See: https://urllib3.readthedocs.io/en/latest/advanced-usage.html#ssl-warnings\n",
      "  \n",
      "D:\\Users\\glede\\anaconda3\\envs\\dev\\lib\\site-packages\\urllib3\\connectionpool.py:842: InsecureRequestWarning: Unverified HTTPS request is being made. Adding certificate verification is strongly advised. See: https://urllib3.readthedocs.io/en/latest/advanced-usage.html#ssl-warnings\n",
      "  \n",
      " 18%|█▊        | 6/33 [00:10<00:48,  1.81s/it]D:\\Users\\glede\\anaconda3\\envs\\dev\\lib\\site-packages\\urllib3\\connectionpool.py:842: InsecureRequestWarning: Unverified HTTPS request is being made. Adding certificate verification is strongly advised. See: https://urllib3.readthedocs.io/en/latest/advanced-usage.html#ssl-warnings\n",
      "  \n",
      "D:\\Users\\glede\\anaconda3\\envs\\dev\\lib\\site-packages\\urllib3\\connectionpool.py:842: InsecureRequestWarning: Unverified HTTPS request is being made. Adding certificate verification is strongly advised. See: https://urllib3.readthedocs.io/en/latest/advanced-usage.html#ssl-warnings\n",
      "  \n",
      " 21%|██        | 7/33 [00:12<00:47,  1.81s/it]D:\\Users\\glede\\anaconda3\\envs\\dev\\lib\\site-packages\\urllib3\\connectionpool.py:842: InsecureRequestWarning: Unverified HTTPS request is being made. Adding certificate verification is strongly advised. See: https://urllib3.readthedocs.io/en/latest/advanced-usage.html#ssl-warnings\n",
      "  \n",
      "D:\\Users\\glede\\anaconda3\\envs\\dev\\lib\\site-packages\\urllib3\\connectionpool.py:842: InsecureRequestWarning: Unverified HTTPS request is being made. Adding certificate verification is strongly advised. See: https://urllib3.readthedocs.io/en/latest/advanced-usage.html#ssl-warnings\n",
      "  \n",
      " 24%|██▍       | 8/33 [00:14<00:45,  1.81s/it]D:\\Users\\glede\\anaconda3\\envs\\dev\\lib\\site-packages\\urllib3\\connectionpool.py:842: InsecureRequestWarning: Unverified HTTPS request is being made. Adding certificate verification is strongly advised. See: https://urllib3.readthedocs.io/en/latest/advanced-usage.html#ssl-warnings\n",
      "  \n",
      "D:\\Users\\glede\\anaconda3\\envs\\dev\\lib\\site-packages\\urllib3\\connectionpool.py:842: InsecureRequestWarning: Unverified HTTPS request is being made. Adding certificate verification is strongly advised. See: https://urllib3.readthedocs.io/en/latest/advanced-usage.html#ssl-warnings\n",
      "  \n",
      " 27%|██▋       | 9/33 [00:16<00:43,  1.79s/it]D:\\Users\\glede\\anaconda3\\envs\\dev\\lib\\site-packages\\urllib3\\connectionpool.py:842: InsecureRequestWarning: Unverified HTTPS request is being made. Adding certificate verification is strongly advised. See: https://urllib3.readthedocs.io/en/latest/advanced-usage.html#ssl-warnings\n",
      "  \n",
      "D:\\Users\\glede\\anaconda3\\envs\\dev\\lib\\site-packages\\urllib3\\connectionpool.py:842: InsecureRequestWarning: Unverified HTTPS request is being made. Adding certificate verification is strongly advised. See: https://urllib3.readthedocs.io/en/latest/advanced-usage.html#ssl-warnings\n",
      "  \n",
      " 30%|███       | 10/33 [00:17<00:40,  1.78s/it]D:\\Users\\glede\\anaconda3\\envs\\dev\\lib\\site-packages\\urllib3\\connectionpool.py:842: InsecureRequestWarning: Unverified HTTPS request is being made. Adding certificate verification is strongly advised. See: https://urllib3.readthedocs.io/en/latest/advanced-usage.html#ssl-warnings\n",
      "  \n",
      "D:\\Users\\glede\\anaconda3\\envs\\dev\\lib\\site-packages\\urllib3\\connectionpool.py:842: InsecureRequestWarning: Unverified HTTPS request is being made. Adding certificate verification is strongly advised. See: https://urllib3.readthedocs.io/en/latest/advanced-usage.html#ssl-warnings\n",
      "  \n",
      " 33%|███▎      | 11/33 [00:19<00:38,  1.76s/it]D:\\Users\\glede\\anaconda3\\envs\\dev\\lib\\site-packages\\urllib3\\connectionpool.py:842: InsecureRequestWarning: Unverified HTTPS request is being made. Adding certificate verification is strongly advised. See: https://urllib3.readthedocs.io/en/latest/advanced-usage.html#ssl-warnings\n",
      "  \n",
      "D:\\Users\\glede\\anaconda3\\envs\\dev\\lib\\site-packages\\urllib3\\connectionpool.py:842: InsecureRequestWarning: Unverified HTTPS request is being made. Adding certificate verification is strongly advised. See: https://urllib3.readthedocs.io/en/latest/advanced-usage.html#ssl-warnings\n",
      "  \n",
      " 36%|███▋      | 12/33 [00:21<00:37,  1.77s/it]D:\\Users\\glede\\anaconda3\\envs\\dev\\lib\\site-packages\\urllib3\\connectionpool.py:842: InsecureRequestWarning: Unverified HTTPS request is being made. Adding certificate verification is strongly advised. See: https://urllib3.readthedocs.io/en/latest/advanced-usage.html#ssl-warnings\n",
      "  \n",
      "D:\\Users\\glede\\anaconda3\\envs\\dev\\lib\\site-packages\\urllib3\\connectionpool.py:842: InsecureRequestWarning: Unverified HTTPS request is being made. Adding certificate verification is strongly advised. See: https://urllib3.readthedocs.io/en/latest/advanced-usage.html#ssl-warnings\n",
      "  \n",
      " 39%|███▉      | 13/33 [00:23<00:35,  1.78s/it]D:\\Users\\glede\\anaconda3\\envs\\dev\\lib\\site-packages\\urllib3\\connectionpool.py:842: InsecureRequestWarning: Unverified HTTPS request is being made. Adding certificate verification is strongly advised. See: https://urllib3.readthedocs.io/en/latest/advanced-usage.html#ssl-warnings\n",
      "  \n",
      "D:\\Users\\glede\\anaconda3\\envs\\dev\\lib\\site-packages\\urllib3\\connectionpool.py:842: InsecureRequestWarning: Unverified HTTPS request is being made. Adding certificate verification is strongly advised. See: https://urllib3.readthedocs.io/en/latest/advanced-usage.html#ssl-warnings\n",
      "  \n",
      " 42%|████▏     | 14/33 [00:25<00:33,  1.79s/it]D:\\Users\\glede\\anaconda3\\envs\\dev\\lib\\site-packages\\urllib3\\connectionpool.py:842: InsecureRequestWarning: Unverified HTTPS request is being made. Adding certificate verification is strongly advised. See: https://urllib3.readthedocs.io/en/latest/advanced-usage.html#ssl-warnings\n",
      "  \n",
      "D:\\Users\\glede\\anaconda3\\envs\\dev\\lib\\site-packages\\urllib3\\connectionpool.py:842: InsecureRequestWarning: Unverified HTTPS request is being made. Adding certificate verification is strongly advised. See: https://urllib3.readthedocs.io/en/latest/advanced-usage.html#ssl-warnings\n",
      "  \n",
      " 45%|████▌     | 15/33 [00:26<00:31,  1.77s/it]D:\\Users\\glede\\anaconda3\\envs\\dev\\lib\\site-packages\\urllib3\\connectionpool.py:842: InsecureRequestWarning: Unverified HTTPS request is being made. Adding certificate verification is strongly advised. See: https://urllib3.readthedocs.io/en/latest/advanced-usage.html#ssl-warnings\n",
      "  \n",
      "D:\\Users\\glede\\anaconda3\\envs\\dev\\lib\\site-packages\\urllib3\\connectionpool.py:842: InsecureRequestWarning: Unverified HTTPS request is being made. Adding certificate verification is strongly advised. See: https://urllib3.readthedocs.io/en/latest/advanced-usage.html#ssl-warnings\n",
      "  \n",
      " 48%|████▊     | 16/33 [00:28<00:29,  1.75s/it]D:\\Users\\glede\\anaconda3\\envs\\dev\\lib\\site-packages\\urllib3\\connectionpool.py:842: InsecureRequestWarning: Unverified HTTPS request is being made. Adding certificate verification is strongly advised. See: https://urllib3.readthedocs.io/en/latest/advanced-usage.html#ssl-warnings\n",
      "  \n",
      "D:\\Users\\glede\\anaconda3\\envs\\dev\\lib\\site-packages\\urllib3\\connectionpool.py:842: InsecureRequestWarning: Unverified HTTPS request is being made. Adding certificate verification is strongly advised. See: https://urllib3.readthedocs.io/en/latest/advanced-usage.html#ssl-warnings\n",
      "  \n",
      " 52%|█████▏    | 17/33 [00:30<00:27,  1.73s/it]D:\\Users\\glede\\anaconda3\\envs\\dev\\lib\\site-packages\\urllib3\\connectionpool.py:842: InsecureRequestWarning: Unverified HTTPS request is being made. Adding certificate verification is strongly advised. See: https://urllib3.readthedocs.io/en/latest/advanced-usage.html#ssl-warnings\n",
      "  \n",
      "D:\\Users\\glede\\anaconda3\\envs\\dev\\lib\\site-packages\\urllib3\\connectionpool.py:842: InsecureRequestWarning: Unverified HTTPS request is being made. Adding certificate verification is strongly advised. See: https://urllib3.readthedocs.io/en/latest/advanced-usage.html#ssl-warnings\n",
      "  \n",
      " 55%|█████▍    | 18/33 [00:31<00:25,  1.72s/it]D:\\Users\\glede\\anaconda3\\envs\\dev\\lib\\site-packages\\urllib3\\connectionpool.py:842: InsecureRequestWarning: Unverified HTTPS request is being made. Adding certificate verification is strongly advised. See: https://urllib3.readthedocs.io/en/latest/advanced-usage.html#ssl-warnings\n",
      "  \n",
      "D:\\Users\\glede\\anaconda3\\envs\\dev\\lib\\site-packages\\urllib3\\connectionpool.py:842: InsecureRequestWarning: Unverified HTTPS request is being made. Adding certificate verification is strongly advised. See: https://urllib3.readthedocs.io/en/latest/advanced-usage.html#ssl-warnings\n",
      "  \n",
      " 58%|█████▊    | 19/33 [00:33<00:23,  1.70s/it]D:\\Users\\glede\\anaconda3\\envs\\dev\\lib\\site-packages\\urllib3\\connectionpool.py:842: InsecureRequestWarning: Unverified HTTPS request is being made. Adding certificate verification is strongly advised. See: https://urllib3.readthedocs.io/en/latest/advanced-usage.html#ssl-warnings\n",
      "  \n",
      "D:\\Users\\glede\\anaconda3\\envs\\dev\\lib\\site-packages\\urllib3\\connectionpool.py:842: InsecureRequestWarning: Unverified HTTPS request is being made. Adding certificate verification is strongly advised. See: https://urllib3.readthedocs.io/en/latest/advanced-usage.html#ssl-warnings\n",
      "  \n",
      " 61%|██████    | 20/33 [00:35<00:22,  1.75s/it]D:\\Users\\glede\\anaconda3\\envs\\dev\\lib\\site-packages\\urllib3\\connectionpool.py:842: InsecureRequestWarning: Unverified HTTPS request is being made. Adding certificate verification is strongly advised. See: https://urllib3.readthedocs.io/en/latest/advanced-usage.html#ssl-warnings\n",
      "  \n",
      "D:\\Users\\glede\\anaconda3\\envs\\dev\\lib\\site-packages\\urllib3\\connectionpool.py:842: InsecureRequestWarning: Unverified HTTPS request is being made. Adding certificate verification is strongly advised. See: https://urllib3.readthedocs.io/en/latest/advanced-usage.html#ssl-warnings\n",
      "  \n",
      " 64%|██████▎   | 21/33 [00:37<00:20,  1.73s/it]D:\\Users\\glede\\anaconda3\\envs\\dev\\lib\\site-packages\\urllib3\\connectionpool.py:842: InsecureRequestWarning: Unverified HTTPS request is being made. Adding certificate verification is strongly advised. See: https://urllib3.readthedocs.io/en/latest/advanced-usage.html#ssl-warnings\n",
      "  \n",
      "D:\\Users\\glede\\anaconda3\\envs\\dev\\lib\\site-packages\\urllib3\\connectionpool.py:842: InsecureRequestWarning: Unverified HTTPS request is being made. Adding certificate verification is strongly advised. See: https://urllib3.readthedocs.io/en/latest/advanced-usage.html#ssl-warnings\n",
      "  \n",
      " 67%|██████▋   | 22/33 [00:38<00:18,  1.72s/it]D:\\Users\\glede\\anaconda3\\envs\\dev\\lib\\site-packages\\urllib3\\connectionpool.py:842: InsecureRequestWarning: Unverified HTTPS request is being made. Adding certificate verification is strongly advised. See: https://urllib3.readthedocs.io/en/latest/advanced-usage.html#ssl-warnings\n",
      "  \n",
      "D:\\Users\\glede\\anaconda3\\envs\\dev\\lib\\site-packages\\urllib3\\connectionpool.py:842: InsecureRequestWarning: Unverified HTTPS request is being made. Adding certificate verification is strongly advised. See: https://urllib3.readthedocs.io/en/latest/advanced-usage.html#ssl-warnings\n",
      "  \n",
      " 70%|██████▉   | 23/33 [00:40<00:17,  1.74s/it]D:\\Users\\glede\\anaconda3\\envs\\dev\\lib\\site-packages\\urllib3\\connectionpool.py:842: InsecureRequestWarning: Unverified HTTPS request is being made. Adding certificate verification is strongly advised. See: https://urllib3.readthedocs.io/en/latest/advanced-usage.html#ssl-warnings\n",
      "  \n",
      "D:\\Users\\glede\\anaconda3\\envs\\dev\\lib\\site-packages\\urllib3\\connectionpool.py:842: InsecureRequestWarning: Unverified HTTPS request is being made. Adding certificate verification is strongly advised. See: https://urllib3.readthedocs.io/en/latest/advanced-usage.html#ssl-warnings\n",
      "  \n",
      " 73%|███████▎  | 24/33 [00:42<00:15,  1.73s/it]D:\\Users\\glede\\anaconda3\\envs\\dev\\lib\\site-packages\\urllib3\\connectionpool.py:842: InsecureRequestWarning: Unverified HTTPS request is being made. Adding certificate verification is strongly advised. See: https://urllib3.readthedocs.io/en/latest/advanced-usage.html#ssl-warnings\n",
      "  \n",
      "D:\\Users\\glede\\anaconda3\\envs\\dev\\lib\\site-packages\\urllib3\\connectionpool.py:842: InsecureRequestWarning: Unverified HTTPS request is being made. Adding certificate verification is strongly advised. See: https://urllib3.readthedocs.io/en/latest/advanced-usage.html#ssl-warnings\n",
      "  \n",
      " 76%|███████▌  | 25/33 [00:43<00:13,  1.74s/it]D:\\Users\\glede\\anaconda3\\envs\\dev\\lib\\site-packages\\urllib3\\connectionpool.py:842: InsecureRequestWarning: Unverified HTTPS request is being made. Adding certificate verification is strongly advised. See: https://urllib3.readthedocs.io/en/latest/advanced-usage.html#ssl-warnings\n",
      "  \n",
      "D:\\Users\\glede\\anaconda3\\envs\\dev\\lib\\site-packages\\urllib3\\connectionpool.py:842: InsecureRequestWarning: Unverified HTTPS request is being made. Adding certificate verification is strongly advised. See: https://urllib3.readthedocs.io/en/latest/advanced-usage.html#ssl-warnings\n",
      "  \n",
      " 79%|███████▉  | 26/33 [00:45<00:12,  1.78s/it]D:\\Users\\glede\\anaconda3\\envs\\dev\\lib\\site-packages\\urllib3\\connectionpool.py:842: InsecureRequestWarning: Unverified HTTPS request is being made. Adding certificate verification is strongly advised. See: https://urllib3.readthedocs.io/en/latest/advanced-usage.html#ssl-warnings\n",
      "  \n",
      "D:\\Users\\glede\\anaconda3\\envs\\dev\\lib\\site-packages\\urllib3\\connectionpool.py:842: InsecureRequestWarning: Unverified HTTPS request is being made. Adding certificate verification is strongly advised. See: https://urllib3.readthedocs.io/en/latest/advanced-usage.html#ssl-warnings\n",
      "  \n",
      " 82%|████████▏ | 27/33 [00:47<00:10,  1.80s/it]D:\\Users\\glede\\anaconda3\\envs\\dev\\lib\\site-packages\\urllib3\\connectionpool.py:842: InsecureRequestWarning: Unverified HTTPS request is being made. Adding certificate verification is strongly advised. See: https://urllib3.readthedocs.io/en/latest/advanced-usage.html#ssl-warnings\n",
      "  \n",
      "D:\\Users\\glede\\anaconda3\\envs\\dev\\lib\\site-packages\\urllib3\\connectionpool.py:842: InsecureRequestWarning: Unverified HTTPS request is being made. Adding certificate verification is strongly advised. See: https://urllib3.readthedocs.io/en/latest/advanced-usage.html#ssl-warnings\n",
      "  \n",
      " 85%|████████▍ | 28/33 [00:49<00:08,  1.79s/it]D:\\Users\\glede\\anaconda3\\envs\\dev\\lib\\site-packages\\urllib3\\connectionpool.py:842: InsecureRequestWarning: Unverified HTTPS request is being made. Adding certificate verification is strongly advised. See: https://urllib3.readthedocs.io/en/latest/advanced-usage.html#ssl-warnings\n",
      "  \n",
      "D:\\Users\\glede\\anaconda3\\envs\\dev\\lib\\site-packages\\urllib3\\connectionpool.py:842: InsecureRequestWarning: Unverified HTTPS request is being made. Adding certificate verification is strongly advised. See: https://urllib3.readthedocs.io/en/latest/advanced-usage.html#ssl-warnings\n",
      "  \n",
      " 88%|████████▊ | 29/33 [00:51<00:07,  1.77s/it]D:\\Users\\glede\\anaconda3\\envs\\dev\\lib\\site-packages\\urllib3\\connectionpool.py:842: InsecureRequestWarning: Unverified HTTPS request is being made. Adding certificate verification is strongly advised. See: https://urllib3.readthedocs.io/en/latest/advanced-usage.html#ssl-warnings\n",
      "  \n",
      "D:\\Users\\glede\\anaconda3\\envs\\dev\\lib\\site-packages\\urllib3\\connectionpool.py:842: InsecureRequestWarning: Unverified HTTPS request is being made. Adding certificate verification is strongly advised. See: https://urllib3.readthedocs.io/en/latest/advanced-usage.html#ssl-warnings\n",
      "  \n",
      " 91%|█████████ | 30/33 [00:52<00:05,  1.77s/it]D:\\Users\\glede\\anaconda3\\envs\\dev\\lib\\site-packages\\urllib3\\connectionpool.py:842: InsecureRequestWarning: Unverified HTTPS request is being made. Adding certificate verification is strongly advised. See: https://urllib3.readthedocs.io/en/latest/advanced-usage.html#ssl-warnings\n",
      "  \n",
      "D:\\Users\\glede\\anaconda3\\envs\\dev\\lib\\site-packages\\urllib3\\connectionpool.py:842: InsecureRequestWarning: Unverified HTTPS request is being made. Adding certificate verification is strongly advised. See: https://urllib3.readthedocs.io/en/latest/advanced-usage.html#ssl-warnings\n",
      "  \n",
      " 94%|█████████▍| 31/33 [00:54<00:03,  1.75s/it]D:\\Users\\glede\\anaconda3\\envs\\dev\\lib\\site-packages\\urllib3\\connectionpool.py:842: InsecureRequestWarning: Unverified HTTPS request is being made. Adding certificate verification is strongly advised. See: https://urllib3.readthedocs.io/en/latest/advanced-usage.html#ssl-warnings\n",
      "  \n",
      "D:\\Users\\glede\\anaconda3\\envs\\dev\\lib\\site-packages\\urllib3\\connectionpool.py:842: InsecureRequestWarning: Unverified HTTPS request is being made. Adding certificate verification is strongly advised. See: https://urllib3.readthedocs.io/en/latest/advanced-usage.html#ssl-warnings\n",
      "  \n",
      " 97%|█████████▋| 32/33 [00:56<00:01,  1.77s/it]D:\\Users\\glede\\anaconda3\\envs\\dev\\lib\\site-packages\\urllib3\\connectionpool.py:842: InsecureRequestWarning: Unverified HTTPS request is being made. Adding certificate verification is strongly advised. See: https://urllib3.readthedocs.io/en/latest/advanced-usage.html#ssl-warnings\n",
      "  \n",
      "D:\\Users\\glede\\anaconda3\\envs\\dev\\lib\\site-packages\\urllib3\\connectionpool.py:842: InsecureRequestWarning: Unverified HTTPS request is being made. Adding certificate verification is strongly advised. See: https://urllib3.readthedocs.io/en/latest/advanced-usage.html#ssl-warnings\n",
      "  \n",
      "100%|██████████| 33/33 [00:58<00:00,  1.77s/it]\n"
     ]
    }
   ],
   "source": [
    "for r in tqdm(regions):\n",
    "    # Deal with age and sex table\n",
    "    res = http.request(\"GET\", \"https://www.nomisweb.co.uk/api/v01/dataset/NM_792_1.data.csv?geography={}&rows=c_age&cols=c_sex\".format(regions[r]))\n",
    "\n",
    "    with open('tmp.txt', 'w') as f:\n",
    "        f.write(res.data.decode('utf-8'))\n",
    "\n",
    "    df = pd.read_csv('tmp.txt')\n",
    "    df = df.sort_values('C_AGE')\n",
    "    df = df.iloc[1:, :]\n",
    "    df.index = list(range(len(df)))\n",
    "\n",
    "    df = df[['GROUP 1: OBS_VALUE', 'GROUP 2: OBS_VALUE', 'GROUP 3: OBS_VALUE']]\n",
    "\n",
    "    df.rename(columns={'GROUP 1: OBS_VALUE': 'All', 'GROUP 2: OBS_VALUE': 'Males', 'GROUP 3: OBS_VALUE': 'Females'}, inplace=True)\n",
    "\n",
    "    df.to_csv('../../data/nomis/tmp/{}_age_sex.csv'.format(r), index=False)\n",
    "\n",
    "    # Deal with age table\n",
    "    res = http.request(\"GET\", \"https://www.nomisweb.co.uk/api/v01/dataset/NM_503_1.data.csv?geography={}&rows=c_age&cols=rural_urban&measures=20100\".format(regions[r]))\n",
    "\n",
    "    with open('tmp.txt', 'w') as f:\n",
    "        f.write(res.data.decode('utf-8'))\n",
    "\n",
    "    df = pd.read_csv('tmp.txt')\n",
    "\n",
    "    df = df.sort_values('C_AGE')\n",
    "    df = df.iloc[1:, :]\n",
    "    df.index = list(range(len(df)))\n",
    "\n",
    "    df = df['GROUP 1: OBS_VALUE']\n",
    "\n",
    "    df.rename('count', inplace=True)\n",
    "\n",
    "    df.to_csv('../../data/nomis/tmp/{}_age.csv'.format(r), index=False)\n",
    "\n",
    "    time.sleep(1)"
   ],
   "metadata": {
    "collapsed": false,
    "pycharm": {
     "name": "#%%\n"
    }
   }
  },
  {
   "cell_type": "code",
   "execution_count": null,
   "outputs": [],
   "source": [],
   "metadata": {
    "collapsed": false,
    "pycharm": {
     "name": "#%%\n"
    }
   }
  }
 ],
 "metadata": {
  "kernelspec": {
   "display_name": "Python 3",
   "language": "python",
   "name": "python3"
  },
  "language_info": {
   "codemirror_mode": {
    "name": "ipython",
    "version": 2
   },
   "file_extension": ".py",
   "mimetype": "text/x-python",
   "name": "python",
   "nbconvert_exporter": "python",
   "pygments_lexer": "ipython2",
   "version": "2.7.6"
  }
 },
 "nbformat": 4,
 "nbformat_minor": 0
}