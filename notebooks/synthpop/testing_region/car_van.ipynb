{
 "cells": [
  {
   "cell_type": "code",
   "execution_count": 1,
   "metadata": {
    "collapsed": true
   },
   "outputs": [],
   "source": [
    "import pandas as pd\n",
    "import numpy as np\n",
    "import matplotlib.pyplot as plt\n",
    "import random\n",
    "from tqdm import tqdm\n",
    "import time\n",
    "\n",
    "\n",
    "import seaborn as sns\n",
    "sns.set_style(\"whitegrid\")\n",
    "\n",
    "\n",
    "import urllib3\n",
    "import json\n",
    "\n",
    "# For the Python notebook\n",
    "%matplotlib inline\n",
    "%reload_ext autoreload\n",
    "%autoreload 2"
   ]
  },
  {
   "cell_type": "markdown",
   "source": [
    "# Update data from nomis"
   ],
   "metadata": {
    "collapsed": false,
    "pycharm": {
     "name": "#%% md\n"
    }
   }
  },
  {
   "cell_type": "code",
   "execution_count": 15,
   "outputs": [],
   "source": [
    "df = pd.read_csv('../../data/testing/nomis/car_van.csv', index_col=0)"
   ],
   "metadata": {
    "collapsed": false,
    "pycharm": {
     "name": "#%%\n"
    }
   }
  },
  {
   "cell_type": "code",
   "execution_count": 16,
   "outputs": [],
   "source": [
    "regions = {\n",
    "    'Central London': ['City of London', 'Camden', 'Kensington and Chelsea', 'Islington', 'Westminster', 'Southwark', 'Lambeth'],\n",
    "    'South London': ['Bromley', 'Croydon', 'Kingston upon Thames', 'Merton', 'Sutton', 'Wandsworth'],\n",
    "    'East London': ['Barking and Dagenham', 'Bexley', 'Greenwich', 'Hackney', 'Havering', 'Lewisham', 'Newham', 'Tower Hamlets', 'Waltham Forest'],\n",
    "    'North London': ['Barnet', 'Enfield', 'Haringey'],\n",
    "    'West London': ['Brent', 'Ealing', 'Hammersmith and Fulham', 'Harrow', 'Hillingdon', 'Hounslow', 'Redbridge', 'Richmond upon Thames']\n",
    "}"
   ],
   "metadata": {
    "collapsed": false,
    "pycharm": {
     "name": "#%%\n"
    }
   }
  },
  {
   "cell_type": "code",
   "execution_count": 17,
   "outputs": [],
   "source": [
    "dct = {}\n",
    "\n",
    "for r in regions:\n",
    "    dct[r] = df[regions[r]].sum(axis=1).values"
   ],
   "metadata": {
    "collapsed": false,
    "pycharm": {
     "name": "#%%\n"
    }
   }
  },
  {
   "cell_type": "code",
   "execution_count": 18,
   "outputs": [],
   "source": [
    "df = pd.DataFrame(dct, index=df.index)"
   ],
   "metadata": {
    "collapsed": false,
    "pycharm": {
     "name": "#%%\n"
    }
   }
  },
  {
   "cell_type": "code",
   "execution_count": 19,
   "outputs": [],
   "source": [
    "df.to_csv('../../data/testing_region/nomis/car_van.csv')"
   ],
   "metadata": {
    "collapsed": false,
    "pycharm": {
     "name": "#%%\n"
    }
   }
  },
  {
   "cell_type": "markdown",
   "source": [
    "# Compute values for synthetic data"
   ],
   "metadata": {
    "collapsed": false,
    "pycharm": {
     "name": "#%% md\n"
    }
   }
  },
  {
   "cell_type": "code",
   "execution_count": 7,
   "outputs": [],
   "source": [
    "regions = ['Central London', 'South London', 'East London', 'North London', 'West London']\n",
    "idx = ['Total', '0', '1', '2', '3', '4+', '#vehicles']"
   ],
   "metadata": {
    "collapsed": false,
    "pycharm": {
     "name": "#%%\n"
    }
   }
  },
  {
   "cell_type": "code",
   "execution_count": 8,
   "outputs": [],
   "source": [
    "# ciDATGAN\n",
    "dct = {}\n",
    "\n",
    "for b in regions:\n",
    "    df = pd.read_csv('../../data/ciDATGAN/{}.csv'.format(b))\n",
    "\n",
    "    vals = []\n",
    "    vals.append(np.sum(1/df['hh_people']))\n",
    "    for i in range(0, 4):\n",
    "        vals.append(np.sum(1/df[df['hh_carvan'] == i]['hh_people']))\n",
    "    vals.append(np.sum(1/df[df['hh_carvan'] >= 4]['hh_people']))\n",
    "\n",
    "    vals.append(np.sum(df['hh_carvan']/df['hh_people']))\n",
    "\n",
    "    dct[b] = vals"
   ],
   "metadata": {
    "collapsed": false,
    "pycharm": {
     "name": "#%%\n"
    }
   }
  },
  {
   "cell_type": "code",
   "execution_count": 9,
   "outputs": [],
   "source": [
    "df = pd.DataFrame(dct, index=idx)\n",
    "df.to_csv('../../data/testing_region/ciDATGAN/car_van.csv')"
   ],
   "metadata": {
    "collapsed": false,
    "pycharm": {
     "name": "#%%\n"
    }
   }
  },
  {
   "cell_type": "code",
   "execution_count": 10,
   "outputs": [],
   "source": [
    "# DATGAN\n",
    "dct = {}\n",
    "\n",
    "for b in regions:\n",
    "    df = pd.read_csv('../../data/DATGAN/{}.csv'.format(b))\n",
    "\n",
    "    vals = []\n",
    "    vals.append(np.sum(1/df['hh_people']))\n",
    "    for i in range(0, 4):\n",
    "        vals.append(np.sum(1/df[df['hh_carvan'] == i]['hh_people']))\n",
    "    vals.append(np.sum(1/df[df['hh_carvan'] >= 4]['hh_people']))\n",
    "\n",
    "    vals.append(np.sum(df['hh_carvan']/df['hh_people']))\n",
    "\n",
    "    dct[b] = vals"
   ],
   "metadata": {
    "collapsed": false,
    "pycharm": {
     "name": "#%%\n"
    }
   }
  },
  {
   "cell_type": "code",
   "execution_count": 11,
   "outputs": [],
   "source": [
    "df = pd.DataFrame(dct, index=idx)\n",
    "df.to_csv('../../data/testing_region/DATGAN/car_van.csv')"
   ],
   "metadata": {
    "collapsed": false,
    "pycharm": {
     "name": "#%%\n"
    }
   }
  },
  {
   "cell_type": "code",
   "execution_count": 12,
   "outputs": [],
   "source": [
    "# oversample\n",
    "dct = {}\n",
    "\n",
    "for b in regions:\n",
    "    df = pd.read_csv('../../data/oversample/{}.csv'.format(b))\n",
    "\n",
    "    vals = []\n",
    "    vals.append(np.sum(1/df['hh_people']))\n",
    "    for i in range(0, 4):\n",
    "        vals.append(np.sum(1/df[df['hh_carvan'] == i]['hh_people']))\n",
    "    vals.append(np.sum(1/df[df['hh_carvan'] >= 4]['hh_people']))\n",
    "\n",
    "    vals.append(np.sum(df['hh_carvan']/df['hh_people']))\n",
    "\n",
    "    dct[b] = vals"
   ],
   "metadata": {
    "collapsed": false,
    "pycharm": {
     "name": "#%%\n"
    }
   }
  },
  {
   "cell_type": "code",
   "execution_count": 13,
   "outputs": [],
   "source": [
    "df = pd.DataFrame(dct, index=idx)\n",
    "df.to_csv('../../data/testing_region/oversample/car_van.csv')"
   ],
   "metadata": {
    "collapsed": false,
    "pycharm": {
     "name": "#%%\n"
    }
   }
  },
  {
   "cell_type": "markdown",
   "source": [
    "# Compare"
   ],
   "metadata": {
    "collapsed": false,
    "pycharm": {
     "name": "#%% md\n"
    }
   }
  },
  {
   "cell_type": "code",
   "execution_count": 20,
   "outputs": [],
   "source": [
    "orig = pd.read_csv('../../data/testing_region/nomis/car_van.csv', index_col=0)"
   ],
   "metadata": {
    "collapsed": false,
    "pycharm": {
     "name": "#%%\n"
    }
   }
  },
  {
   "cell_type": "code",
   "execution_count": 21,
   "outputs": [],
   "source": [
    "files = [\n",
    "    '../../data/testing_region/ciDATGAN/car_van.csv',\n",
    "    '../../data/testing_region/DATGAN/car_van.csv',\n",
    "    '../../data/testing_region/oversample/car_van.csv'\n",
    "]\n",
    "\n",
    "dfs = [pd.read_csv(f, index_col=0) for f in files]\n",
    "labels = ['ciDATGAN', 'DATGAN', 'Oversample LTDS']"
   ],
   "metadata": {
    "collapsed": false,
    "pycharm": {
     "name": "#%%\n"
    }
   }
  },
  {
   "cell_type": "code",
   "execution_count": 22,
   "outputs": [],
   "source": [
    "orig = orig/orig.iloc[0]*100\n",
    "\n",
    "errors = {}\n",
    "\n",
    "for (df, l) in zip(dfs, labels):\n",
    "    df = df/df.iloc[0]*100\n",
    "    diff = np.abs(orig-df)\n",
    "\n",
    "    errors[l] = np.mean(diff, axis=1)"
   ],
   "metadata": {
    "collapsed": false,
    "pycharm": {
     "name": "#%%\n"
    }
   }
  },
  {
   "cell_type": "code",
   "execution_count": 25,
   "outputs": [
    {
     "data": {
      "text/plain": "        ciDATGAN     DATGAN  Oversample LTDS\nTotal   0.000000   0.000000         0.000000\n0      14.251139  11.697497        11.880066\n1      11.642472  10.224689        10.684633\n2       3.037803   2.307669         2.094477\n3       0.327124   0.525101         0.546865\n4+      0.177579   0.234215         0.352180",
      "text/html": "<div>\n<style scoped>\n    .dataframe tbody tr th:only-of-type {\n        vertical-align: middle;\n    }\n\n    .dataframe tbody tr th {\n        vertical-align: top;\n    }\n\n    .dataframe thead th {\n        text-align: right;\n    }\n</style>\n<table border=\"1\" class=\"dataframe\">\n  <thead>\n    <tr style=\"text-align: right;\">\n      <th></th>\n      <th>ciDATGAN</th>\n      <th>DATGAN</th>\n      <th>Oversample LTDS</th>\n    </tr>\n  </thead>\n  <tbody>\n    <tr>\n      <th>Total</th>\n      <td>0.000000</td>\n      <td>0.000000</td>\n      <td>0.000000</td>\n    </tr>\n    <tr>\n      <th>0</th>\n      <td>14.251139</td>\n      <td>11.697497</td>\n      <td>11.880066</td>\n    </tr>\n    <tr>\n      <th>1</th>\n      <td>11.642472</td>\n      <td>10.224689</td>\n      <td>10.684633</td>\n    </tr>\n    <tr>\n      <th>2</th>\n      <td>3.037803</td>\n      <td>2.307669</td>\n      <td>2.094477</td>\n    </tr>\n    <tr>\n      <th>3</th>\n      <td>0.327124</td>\n      <td>0.525101</td>\n      <td>0.546865</td>\n    </tr>\n    <tr>\n      <th>4+</th>\n      <td>0.177579</td>\n      <td>0.234215</td>\n      <td>0.352180</td>\n    </tr>\n  </tbody>\n</table>\n</div>"
     },
     "execution_count": 25,
     "metadata": {},
     "output_type": "execute_result"
    }
   ],
   "source": [
    "err = pd.DataFrame(errors)\n",
    "err = err.drop(err.index[len(err)-1])\n",
    "err"
   ],
   "metadata": {
    "collapsed": false,
    "pycharm": {
     "name": "#%%\n"
    }
   }
  },
  {
   "cell_type": "code",
   "execution_count": 26,
   "outputs": [
    {
     "data": {
      "text/plain": "ciDATGAN           4.906019\nDATGAN             4.164862\nOversample LTDS    4.259703\ndtype: float64"
     },
     "execution_count": 26,
     "metadata": {},
     "output_type": "execute_result"
    }
   ],
   "source": [
    "err.mean()"
   ],
   "metadata": {
    "collapsed": false,
    "pycharm": {
     "name": "#%%\n"
    }
   }
  },
  {
   "cell_type": "code",
   "execution_count": null,
   "outputs": [],
   "source": [],
   "metadata": {
    "collapsed": false,
    "pycharm": {
     "name": "#%%\n"
    }
   }
  }
 ],
 "metadata": {
  "kernelspec": {
   "display_name": "Python 3",
   "language": "python",
   "name": "python3"
  },
  "language_info": {
   "codemirror_mode": {
    "name": "ipython",
    "version": 2
   },
   "file_extension": ".py",
   "mimetype": "text/x-python",
   "name": "python",
   "nbconvert_exporter": "python",
   "pygments_lexer": "ipython2",
   "version": "2.7.6"
  }
 },
 "nbformat": 4,
 "nbformat_minor": 0
}