{
 "cells": [
  {
   "cell_type": "code",
   "execution_count": 1,
   "metadata": {
    "collapsed": true
   },
   "outputs": [],
   "source": [
    "import pandas as pd\n",
    "import numpy as np\n",
    "import matplotlib.pyplot as plt\n",
    "import random\n",
    "from tqdm import tqdm\n",
    "import time\n",
    "\n",
    "\n",
    "import seaborn as sns\n",
    "sns.set_style(\"whitegrid\")\n",
    "\n",
    "\n",
    "import urllib3\n",
    "import json\n",
    "\n",
    "# For the Python notebook\n",
    "%matplotlib inline\n",
    "%reload_ext autoreload\n",
    "%autoreload 2"
   ]
  },
  {
   "cell_type": "markdown",
   "source": [
    "# Get data from nomis"
   ],
   "metadata": {
    "collapsed": false,
    "pycharm": {
     "name": "#%% md\n"
    }
   }
  },
  {
   "cell_type": "code",
   "execution_count": 11,
   "outputs": [],
   "source": [
    "df = pd.read_csv('../../data/testing/nomis/fam_comp.csv', index_col=0)"
   ],
   "metadata": {
    "collapsed": false,
    "pycharm": {
     "name": "#%%\n"
    }
   }
  },
  {
   "cell_type": "code",
   "execution_count": 12,
   "outputs": [],
   "source": [
    "regions = {\n",
    "    'Central London': ['City of London', 'Camden', 'Kensington and Chelsea', 'Islington', 'Westminster', 'Southwark', 'Lambeth'],\n",
    "    'South London': ['Bromley', 'Croydon', 'Kingston upon Thames', 'Merton', 'Sutton', 'Wandsworth'],\n",
    "    'East London': ['Barking and Dagenham', 'Bexley', 'Greenwich', 'Hackney', 'Havering', 'Lewisham', 'Newham', 'Tower Hamlets', 'Waltham Forest'],\n",
    "    'North London': ['Barnet', 'Enfield', 'Haringey'],\n",
    "    'West London': ['Brent', 'Ealing', 'Hammersmith and Fulham', 'Harrow', 'Hillingdon', 'Hounslow', 'Redbridge', 'Richmond upon Thames']\n",
    "}"
   ],
   "metadata": {
    "collapsed": false,
    "pycharm": {
     "name": "#%%\n"
    }
   }
  },
  {
   "cell_type": "code",
   "execution_count": 13,
   "outputs": [],
   "source": [
    "dct = {}\n",
    "\n",
    "for r in regions:\n",
    "    dct[r] = df[regions[r]].sum(axis=1).values"
   ],
   "metadata": {
    "collapsed": false,
    "pycharm": {
     "name": "#%%\n"
    }
   }
  },
  {
   "cell_type": "code",
   "execution_count": 14,
   "outputs": [],
   "source": [
    "df = pd.DataFrame(dct, index=df.index)"
   ],
   "metadata": {
    "collapsed": false,
    "pycharm": {
     "name": "#%%\n"
    }
   }
  },
  {
   "cell_type": "code",
   "execution_count": 15,
   "outputs": [],
   "source": [
    "df.to_csv('../../data/testing_region/nomis/fam_comp.csv')"
   ],
   "metadata": {
    "collapsed": false,
    "pycharm": {
     "name": "#%%\n"
    }
   }
  },
  {
   "cell_type": "markdown",
   "source": [
    "# Compute values for synthetic data"
   ],
   "metadata": {
    "collapsed": false,
    "pycharm": {
     "name": "#%% md\n"
    }
   }
  },
  {
   "cell_type": "code",
   "execution_count": 2,
   "outputs": [],
   "source": [
    "regions = ['Central London', 'South London', 'East London', 'North London', 'West London']\n",
    "idx = ['Total', 'Single', 'Couple family', 'Lone parent', 'Other']"
   ],
   "metadata": {
    "collapsed": false,
    "pycharm": {
     "name": "#%%\n"
    }
   }
  },
  {
   "cell_type": "code",
   "execution_count": 3,
   "outputs": [],
   "source": [
    "# ciDATGAN\n",
    "dct = {}\n",
    "\n",
    "for b in regions:\n",
    "    df = pd.read_csv('../../data/ciDATGAN/{}.csv'.format(b))\n",
    "\n",
    "    vals = [0]\n",
    "\n",
    "    for c in idx[1:]:\n",
    "        vals.append(np.sum(1/df[df['hh_comp'] == c]['hh_people']))\n",
    "\n",
    "    vals[0] = np.sum(vals[1:])\n",
    "\n",
    "    dct[b] = vals"
   ],
   "metadata": {
    "collapsed": false,
    "pycharm": {
     "name": "#%%\n"
    }
   }
  },
  {
   "cell_type": "code",
   "execution_count": 4,
   "outputs": [],
   "source": [
    "df = pd.DataFrame(dct, index=idx)\n",
    "df.to_csv('../../data/testing_region/ciDATGAN/fam_comp.csv')"
   ],
   "metadata": {
    "collapsed": false,
    "pycharm": {
     "name": "#%%\n"
    }
   }
  },
  {
   "cell_type": "code",
   "execution_count": 5,
   "outputs": [],
   "source": [
    "# DATGAN\n",
    "dct = {}\n",
    "\n",
    "for b in regions:\n",
    "    df = pd.read_csv('../../data/DATGAN/{}.csv'.format(b))\n",
    "\n",
    "    vals = [0]\n",
    "\n",
    "    for c in idx[1:]:\n",
    "        vals.append(np.sum(1/df[df['hh_comp'] == c]['hh_people']))\n",
    "\n",
    "    vals[0] = np.sum(vals[1:])\n",
    "\n",
    "    dct[b] = vals"
   ],
   "metadata": {
    "collapsed": false,
    "pycharm": {
     "name": "#%%\n"
    }
   }
  },
  {
   "cell_type": "code",
   "execution_count": 6,
   "outputs": [],
   "source": [
    "df = pd.DataFrame(dct, index=idx)\n",
    "df.to_csv('../../data/testing_region/DATGAN/fam_comp.csv')"
   ],
   "metadata": {
    "collapsed": false,
    "pycharm": {
     "name": "#%%\n"
    }
   }
  },
  {
   "cell_type": "code",
   "execution_count": 7,
   "outputs": [],
   "source": [
    "# oversample\n",
    "dct = {}\n",
    "\n",
    "for b in regions:\n",
    "    df = pd.read_csv('../../data/oversample/{}.csv'.format(b))\n",
    "\n",
    "    vals = [0]\n",
    "\n",
    "    for c in idx[1:]:\n",
    "        vals.append(np.sum(1/df[df['hh_comp'] == c]['hh_people']))\n",
    "\n",
    "    vals[0] = np.sum(vals[1:])\n",
    "\n",
    "    dct[b] = vals"
   ],
   "metadata": {
    "collapsed": false,
    "pycharm": {
     "name": "#%%\n"
    }
   }
  },
  {
   "cell_type": "code",
   "execution_count": 8,
   "outputs": [],
   "source": [
    "df = pd.DataFrame(dct, index=idx)\n",
    "df.to_csv('../../data/testing_region/oversample/fam_comp.csv')"
   ],
   "metadata": {
    "collapsed": false,
    "pycharm": {
     "name": "#%%\n"
    }
   }
  },
  {
   "cell_type": "markdown",
   "source": [
    "# Compare"
   ],
   "metadata": {
    "collapsed": false,
    "pycharm": {
     "name": "#%% md\n"
    }
   }
  },
  {
   "cell_type": "code",
   "execution_count": 16,
   "outputs": [],
   "source": [
    "orig = pd.read_csv('../../data/testing_region/nomis/fam_comp.csv', index_col=0)"
   ],
   "metadata": {
    "collapsed": false,
    "pycharm": {
     "name": "#%%\n"
    }
   }
  },
  {
   "cell_type": "code",
   "execution_count": 17,
   "outputs": [],
   "source": [
    "files = [\n",
    "    '../../data/testing_region/ciDATGAN/fam_comp.csv',\n",
    "    '../../data/testing_region/DATGAN/fam_comp.csv',\n",
    "    '../../data/testing_region/oversample/fam_comp.csv'\n",
    "]\n",
    "\n",
    "dfs = [pd.read_csv(f, index_col=0) for f in files]\n",
    "labels = ['ciDATGAN', 'DATGAN', 'Oversample LTDS']"
   ],
   "metadata": {
    "collapsed": false,
    "pycharm": {
     "name": "#%%\n"
    }
   }
  },
  {
   "cell_type": "code",
   "execution_count": 18,
   "outputs": [],
   "source": [
    "orig = orig/orig.iloc[0]*100"
   ],
   "metadata": {
    "collapsed": false,
    "pycharm": {
     "name": "#%%\n"
    }
   }
  },
  {
   "cell_type": "code",
   "execution_count": 19,
   "outputs": [],
   "source": [
    "errors = {}\n",
    "\n",
    "for (df, l) in zip(dfs, labels):\n",
    "    df = df/df.iloc[0]*100\n",
    "    diff = np.abs(orig-df)\n",
    "\n",
    "    errors[l] = np.mean(diff, axis=1)"
   ],
   "metadata": {
    "collapsed": false,
    "pycharm": {
     "name": "#%%\n"
    }
   }
  },
  {
   "cell_type": "code",
   "execution_count": 20,
   "outputs": [
    {
     "data": {
      "text/plain": "                ciDATGAN     DATGAN  Oversample LTDS\nTotal           0.000000   0.000000         0.000000\nSingle          3.047033   4.189346         1.241999\nCouple family  12.869149  11.831018        12.124618\nLone parent     2.554695   1.899944         1.989063\nOther          12.007357  12.521151        12.915923",
      "text/html": "<div>\n<style scoped>\n    .dataframe tbody tr th:only-of-type {\n        vertical-align: middle;\n    }\n\n    .dataframe tbody tr th {\n        vertical-align: top;\n    }\n\n    .dataframe thead th {\n        text-align: right;\n    }\n</style>\n<table border=\"1\" class=\"dataframe\">\n  <thead>\n    <tr style=\"text-align: right;\">\n      <th></th>\n      <th>ciDATGAN</th>\n      <th>DATGAN</th>\n      <th>Oversample LTDS</th>\n    </tr>\n  </thead>\n  <tbody>\n    <tr>\n      <th>Total</th>\n      <td>0.000000</td>\n      <td>0.000000</td>\n      <td>0.000000</td>\n    </tr>\n    <tr>\n      <th>Single</th>\n      <td>3.047033</td>\n      <td>4.189346</td>\n      <td>1.241999</td>\n    </tr>\n    <tr>\n      <th>Couple family</th>\n      <td>12.869149</td>\n      <td>11.831018</td>\n      <td>12.124618</td>\n    </tr>\n    <tr>\n      <th>Lone parent</th>\n      <td>2.554695</td>\n      <td>1.899944</td>\n      <td>1.989063</td>\n    </tr>\n    <tr>\n      <th>Other</th>\n      <td>12.007357</td>\n      <td>12.521151</td>\n      <td>12.915923</td>\n    </tr>\n  </tbody>\n</table>\n</div>"
     },
     "execution_count": 20,
     "metadata": {},
     "output_type": "execute_result"
    }
   ],
   "source": [
    "err = pd.DataFrame(errors)\n",
    "err"
   ],
   "metadata": {
    "collapsed": false,
    "pycharm": {
     "name": "#%%\n"
    }
   }
  },
  {
   "cell_type": "code",
   "execution_count": 21,
   "outputs": [
    {
     "data": {
      "text/plain": "ciDATGAN           6.095647\nDATGAN             6.088292\nOversample LTDS    5.654320\ndtype: float64"
     },
     "execution_count": 21,
     "metadata": {},
     "output_type": "execute_result"
    }
   ],
   "source": [
    "err.mean()"
   ],
   "metadata": {
    "collapsed": false,
    "pycharm": {
     "name": "#%%\n"
    }
   }
  },
  {
   "cell_type": "code",
   "execution_count": null,
   "outputs": [],
   "source": [],
   "metadata": {
    "collapsed": false,
    "pycharm": {
     "name": "#%%\n"
    }
   }
  }
 ],
 "metadata": {
  "kernelspec": {
   "display_name": "Python 3",
   "language": "python",
   "name": "python3"
  },
  "language_info": {
   "codemirror_mode": {
    "name": "ipython",
    "version": 2
   },
   "file_extension": ".py",
   "mimetype": "text/x-python",
   "name": "python",
   "nbconvert_exporter": "python",
   "pygments_lexer": "ipython2",
   "version": "2.7.6"
  }
 },
 "nbformat": 4,
 "nbformat_minor": 0
}