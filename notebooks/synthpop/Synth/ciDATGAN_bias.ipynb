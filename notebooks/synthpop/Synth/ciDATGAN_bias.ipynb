{
 "cells": [
  {
   "cell_type": "code",
   "execution_count": 1,
   "metadata": {},
   "outputs": [],
   "source": [
    "from datgan import DATGAN\n",
    "import datgan\n",
    "\n",
    "import numpy as np\n",
    "import pandas as pd\n",
    "import networkx as nx\n",
    "\n",
    "# For the Python notebook\n",
    "%matplotlib inline\n",
    "%reload_ext autoreload\n",
    "%autoreload 2\n",
    "\n",
    "import tensorflow as tf\n",
    "\n",
    "#tf.config.run_functions_eagerly(True)"
   ]
  },
  {
   "cell_type": "code",
   "execution_count": 4,
   "metadata": {
    "pycharm": {
     "name": "#%%\n"
    }
   },
   "outputs": [],
   "source": [
    "df = pd.read_csv('../../data/LTDS/cleaned_bias.csv')"
   ]
  },
  {
   "cell_type": "code",
   "execution_count": 5,
   "metadata": {
    "pycharm": {
     "name": "#%%\n"
    }
   },
   "outputs": [
    {
     "data": {
      "text/html": [
       "<div>\n",
       "<style scoped>\n",
       "    .dataframe tbody tr th:only-of-type {\n",
       "        vertical-align: middle;\n",
       "    }\n",
       "\n",
       "    .dataframe tbody tr th {\n",
       "        vertical-align: top;\n",
       "    }\n",
       "\n",
       "    .dataframe thead th {\n",
       "        text-align: right;\n",
       "    }\n",
       "</style>\n",
       "<table border=\"1\" class=\"dataframe\">\n",
       "  <thead>\n",
       "    <tr style=\"text-align: right;\">\n",
       "      <th></th>\n",
       "      <th>gender</th>\n",
       "      <th>age</th>\n",
       "      <th>ethnicity</th>\n",
       "      <th>hh_borough</th>\n",
       "      <th>hh_people</th>\n",
       "      <th>hh_income</th>\n",
       "      <th>hh_carvan</th>\n",
       "      <th>hh_comp</th>\n",
       "    </tr>\n",
       "  </thead>\n",
       "  <tbody>\n",
       "    <tr>\n",
       "      <th>0</th>\n",
       "      <td>male</td>\n",
       "      <td>20</td>\n",
       "      <td>White</td>\n",
       "      <td>Barnet</td>\n",
       "      <td>5</td>\n",
       "      <td>75-100k</td>\n",
       "      <td>4</td>\n",
       "      <td>Couple family</td>\n",
       "    </tr>\n",
       "    <tr>\n",
       "      <th>1</th>\n",
       "      <td>male</td>\n",
       "      <td>14</td>\n",
       "      <td>White</td>\n",
       "      <td>Barnet</td>\n",
       "      <td>5</td>\n",
       "      <td>75-100k</td>\n",
       "      <td>4</td>\n",
       "      <td>Couple family</td>\n",
       "    </tr>\n",
       "    <tr>\n",
       "      <th>2</th>\n",
       "      <td>male</td>\n",
       "      <td>59</td>\n",
       "      <td>White</td>\n",
       "      <td>Barnet</td>\n",
       "      <td>3</td>\n",
       "      <td>10-15k</td>\n",
       "      <td>3</td>\n",
       "      <td>Couple family</td>\n",
       "    </tr>\n",
       "    <tr>\n",
       "      <th>3</th>\n",
       "      <td>female</td>\n",
       "      <td>56</td>\n",
       "      <td>White</td>\n",
       "      <td>Barnet</td>\n",
       "      <td>3</td>\n",
       "      <td>10-15k</td>\n",
       "      <td>3</td>\n",
       "      <td>Couple family</td>\n",
       "    </tr>\n",
       "    <tr>\n",
       "      <th>4</th>\n",
       "      <td>female</td>\n",
       "      <td>53</td>\n",
       "      <td>White</td>\n",
       "      <td>Barnet</td>\n",
       "      <td>5</td>\n",
       "      <td>50-75k</td>\n",
       "      <td>1</td>\n",
       "      <td>Couple family</td>\n",
       "    </tr>\n",
       "  </tbody>\n",
       "</table>\n",
       "</div>"
      ],
      "text/plain": [
       "   gender  age ethnicity hh_borough  hh_people hh_income  hh_carvan  \\\n",
       "0    male   20     White     Barnet          5   75-100k          4   \n",
       "1    male   14     White     Barnet          5   75-100k          4   \n",
       "2    male   59     White     Barnet          3    10-15k          3   \n",
       "3  female   56     White     Barnet          3    10-15k          3   \n",
       "4  female   53     White     Barnet          5    50-75k          1   \n",
       "\n",
       "         hh_comp  \n",
       "0  Couple family  \n",
       "1  Couple family  \n",
       "2  Couple family  \n",
       "3  Couple family  \n",
       "4  Couple family  "
      ]
     },
     "execution_count": 5,
     "metadata": {},
     "output_type": "execute_result"
    }
   ],
   "source": [
    "df.head()"
   ]
  },
  {
   "cell_type": "code",
   "execution_count": 6,
   "metadata": {
    "pycharm": {
     "name": "#%%\n"
    }
   },
   "outputs": [],
   "source": [
    "data_info = {\n",
    "    'age': {\n",
    "        'type': 'continuous',\n",
    "        'bounds': [0, 100],\n",
    "        'discrete': True\n",
    "    }\n",
    "}\n",
    "\n",
    "# Add the other variables as categorical\n",
    "for c in df.columns:\n",
    "    if c not in data_info.keys():\n",
    "        data_info[c] = {'type': 'categorical'}"
   ]
  },
  {
   "cell_type": "code",
   "execution_count": 11,
   "metadata": {
    "pycharm": {
     "name": "#%%\n"
    }
   },
   "outputs": [],
   "source": [
    "graph = nx.DiGraph()\n",
    "\n",
    "graph.add_edges_from([\n",
    "    ('age', 'hh_comp'),\n",
    "    ('gender', 'hh_comp'),\n",
    "    ('ethnicity', 'hh_people'),\n",
    "    ('hh_borough', 'hh_comp'),\n",
    "    ('hh_borough', 'hh_carvan'),\n",
    "    ('hh_borough', 'hh_income'),\n",
    "    ('hh_comp', 'hh_income'),\n",
    "    ('hh_comp', 'hh_people'),\n",
    "    ('hh_income', 'hh_carvan'),\n",
    "    ('hh_people', 'hh_carvan')\n",
    "])"
   ]
  },
  {
   "cell_type": "code",
   "execution_count": 12,
   "metadata": {
    "pycharm": {
     "name": "#%%\n"
    }
   },
   "outputs": [
    {
     "name": "stdout",
     "output_type": "stream",
     "text": [
      "Preparing advice...\n",
      "You might want to add the following edges in your DAG (direction not given here):\n",
      "  - age <-> hh_people\n",
      "  - hh_carvan <-> hh_comp\n"
     ]
    },
    {
     "data": {
      "image/png": "[encoded data removed]",
      "text/plain": [
       "<Figure size 720x504 with 1 Axes>"
      ]
     },
     "metadata": {
      "needs_background": "light"
     },
     "output_type": "display_data"
    },
    {
     "data": {
      "image/png": "[encoded data removed]",
      "text/plain": [
       "<Figure size 720x504 with 1 Axes>"
      ]
     },
     "metadata": {
      "needs_background": "light"
     },
     "output_type": "display_data"
    }
   ],
   "source": [
    "datgan.advise(df, graph, plot_graphs=True)"
   ]
  },
  {
   "cell_type": "code",
   "execution_count": 13,
   "metadata": {
    "pycharm": {
     "name": "#%%\n"
    }
   },
   "outputs": [],
   "source": [
    "name = 'ciDATGAN_bias'"
   ]
  },
  {
   "cell_type": "code",
   "execution_count": 14,
   "metadata": {
    "pycharm": {
     "name": "#%%\n"
    }
   },
   "outputs": [],
   "source": [
    "output_folder = './output/{}/'.format(name)"
   ]
  },
  {
   "cell_type": "code",
   "execution_count": 15,
   "metadata": {
    "pycharm": {
     "name": "#%%\n"
    }
   },
   "outputs": [],
   "source": [
    "datgan = DATGAN(output=output_folder,\n",
    "                loss_function='WGAN',\n",
    "                conditional_inputs=['age', 'gender', 'hh_borough'],\n",
    "                batch_size=1878,\n",
    "                num_epochs=1000)"
   ]
  },
  {
   "cell_type": "code",
   "execution_count": 16,
   "metadata": {
    "pycharm": {
     "name": "#%%\n"
    }
   },
   "outputs": [
    {
     "name": "stdout",
     "output_type": "stream",
     "text": [
      "Preprocessed data have been loaded!\n",
      "Start training DATGAN with the WGAN loss (28/06/2022 15:35:19).\n"
     ]
    },
    {
     "name": "stderr",
     "output_type": "stream",
     "text": [
      "Training DATGAN: 100%|█████████████████████████████████████████████████████████████| 1000/1000 [15:46<00:00,  1.06it/s]"
     ]
    },
    {
     "name": "stdout",
     "output_type": "stream",
     "text": [
      "DATGAN has finished training (28/06/2022 15:51:05) - Training time: 15 minutes and 46 seconds\n"
     ]
    },
    {
     "name": "stderr",
     "output_type": "stream",
     "text": [
      "\n"
     ]
    }
   ],
   "source": [
    "datgan.fit(df, data_info, graph, preprocessed_data_path='./output/encoded_bias')"
   ]
  },
  {
   "cell_type": "markdown",
   "metadata": {
    "pycharm": {
     "name": "#%% md\n"
    }
   },
   "source": [
    "# Sampling"
   ]
  },
  {
   "cell_type": "code",
   "execution_count": 17,
   "metadata": {
    "pycharm": {
     "name": "#%%\n"
    }
   },
   "outputs": [
    {
     "name": "stderr",
     "output_type": "stream",
     "text": [
      "Sampling from DATGAN: 100%|███████████████████████████████████████████████████| 18783/18783 [00:00<00:00, 44196.29it/s]\n"
     ]
    }
   ],
   "source": [
    "samp = datgan.sample(len(df), inputs=df[datgan.conditional_inputs], randomize=False)\n",
    "samp.to_csv('../../data/synthetic/ciDATGAN_bias.csv', index=False)"
   ]
  },
  {
   "cell_type": "code",
   "execution_count": 18,
   "metadata": {
    "pycharm": {
     "name": "#%%\n"
    }
   },
   "outputs": [],
   "source": [
    "boroughs = ['City of London', 'Westminster', 'Kingston upon Thames', 'Bromley', 'Greenwich', 'Havering', 'Barnet', 'Enfield', 'Hillingdon', 'Brent']"
   ]
  },
  {
   "cell_type": "code",
   "execution_count": 19,
   "metadata": {
    "pycharm": {
     "name": "#%%\n"
    }
   },
   "outputs": [
    {
     "name": "stdout",
     "output_type": "stream",
     "text": [
      "Sampling for City of London (1/10)\n"
     ]
    },
    {
     "name": "stderr",
     "output_type": "stream",
     "text": [
      "Sampling from DATGAN: 100%|█████████████████████████████████████████████████████| 7375/7375 [00:00<00:00, 49337.04it/s]\n"
     ]
    },
    {
     "name": "stdout",
     "output_type": "stream",
     "text": [
      "Sampling for Westminster (2/10)\n"
     ]
    },
    {
     "name": "stderr",
     "output_type": "stream",
     "text": [
      "Sampling from DATGAN: 100%|█████████████████████████████████████████████████| 219396/219396 [00:05<00:00, 36875.50it/s]\n"
     ]
    },
    {
     "name": "stdout",
     "output_type": "stream",
     "text": [
      "Sampling for Kingston upon Thames (3/10)\n"
     ]
    },
    {
     "name": "stderr",
     "output_type": "stream",
     "text": [
      "Sampling from DATGAN: 100%|█████████████████████████████████████████████████| 160060/160060 [00:04<00:00, 38245.24it/s]\n"
     ]
    },
    {
     "name": "stdout",
     "output_type": "stream",
     "text": [
      "Sampling for Bromley (4/10)\n"
     ]
    },
    {
     "name": "stderr",
     "output_type": "stream",
     "text": [
      "Sampling from DATGAN: 100%|█████████████████████████████████████████████████| 309392/309392 [00:09<00:00, 32670.92it/s]\n"
     ]
    },
    {
     "name": "stdout",
     "output_type": "stream",
     "text": [
      "Sampling for Greenwich (5/10)\n"
     ]
    },
    {
     "name": "stderr",
     "output_type": "stream",
     "text": [
      "Sampling from DATGAN: 100%|█████████████████████████████████████████████████| 254557/254557 [00:07<00:00, 33696.51it/s]\n"
     ]
    },
    {
     "name": "stdout",
     "output_type": "stream",
     "text": [
      "Sampling for Havering (6/10)\n"
     ]
    },
    {
     "name": "stderr",
     "output_type": "stream",
     "text": [
      "Sampling from DATGAN: 100%|█████████████████████████████████████████████████| 237232/237232 [00:06<00:00, 34416.32it/s]\n"
     ]
    },
    {
     "name": "stdout",
     "output_type": "stream",
     "text": [
      "Sampling for Barnet (7/10)\n"
     ]
    },
    {
     "name": "stderr",
     "output_type": "stream",
     "text": [
      "Sampling from DATGAN: 100%|█████████████████████████████████████████████████| 356386/356386 [00:11<00:00, 29854.88it/s]\n"
     ]
    },
    {
     "name": "stdout",
     "output_type": "stream",
     "text": [
      "Sampling for Enfield (8/10)\n"
     ]
    },
    {
     "name": "stderr",
     "output_type": "stream",
     "text": [
      "Sampling from DATGAN: 100%|█████████████████████████████████████████████████| 312466/312466 [00:10<00:00, 30777.34it/s]\n"
     ]
    },
    {
     "name": "stdout",
     "output_type": "stream",
     "text": [
      "Sampling for Hillingdon (9/10)\n"
     ]
    },
    {
     "name": "stderr",
     "output_type": "stream",
     "text": [
      "Sampling from DATGAN: 100%|█████████████████████████████████████████████████| 273936/273936 [00:08<00:00, 32915.31it/s]\n"
     ]
    },
    {
     "name": "stdout",
     "output_type": "stream",
     "text": [
      "Sampling for Brent (10/10)\n"
     ]
    },
    {
     "name": "stderr",
     "output_type": "stream",
     "text": [
      "Sampling from DATGAN: 100%|█████████████████████████████████████████████████| 311215/311215 [00:09<00:00, 31240.41it/s]\n"
     ]
    }
   ],
   "source": [
    "count = 1\n",
    "for b in boroughs:\n",
    "\n",
    "    tmp = pd.read_csv('../../data/nomis/{}.csv'.format(b))\n",
    "\n",
    "    print('Sampling for {} ({}/{})'.format(b, count, len(boroughs)))\n",
    "\n",
    "    samp = datgan.sample(len(tmp), inputs=tmp, randomize=False)\n",
    "\n",
    "    samp.to_csv('../../data/ciDATGAN_bias/{}.csv'.format(b), index=False)\n",
    "\n",
    "    count += 1"
   ]
  },
  {
   "cell_type": "code",
   "execution_count": 20,
   "metadata": {
    "pycharm": {
     "name": "#%%\n"
    }
   },
   "outputs": [
    {
     "data": {
      "text/plain": [
       "18783"
      ]
     },
     "execution_count": 20,
     "metadata": {},
     "output_type": "execute_result"
    }
   ],
   "source": [
    "len(df)"
   ]
  },
  {
   "cell_type": "code",
   "execution_count": null,
   "metadata": {},
   "outputs": [],
   "source": []
  }
 ],
 "metadata": {
  "kernelspec": {
   "display_name": "dev",
   "language": "python",
   "name": "dev"
  },
  "language_info": {
   "codemirror_mode": {
    "name": "ipython",
    "version": 3
   },
   "file_extension": ".py",
   "mimetype": "text/x-python",
   "name": "python",
   "nbconvert_exporter": "python",
   "pygments_lexer": "ipython3",
   "version": "3.9.7"
  }
 },
 "nbformat": 4,
 "nbformat_minor": 1
}