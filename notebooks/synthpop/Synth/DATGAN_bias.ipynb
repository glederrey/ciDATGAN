{
 "cells": [
  {
   "cell_type": "code",
   "execution_count": null,
   "metadata": {},
   "outputs": [],
   "source": [
    "from datgan import DATGAN\n",
    "import datgan\n",
    "\n",
    "import numpy as np\n",
    "import pandas as pd\n",
    "import networkx as nx\n",
    "\n",
    "# For the Python notebook\n",
    "%matplotlib inline\n",
    "%reload_ext autoreload\n",
    "%autoreload 2\n",
    "\n",
    "import tensorflow as tf\n",
    "\n",
    "#tf.config.run_functions_eagerly(True)"
   ]
  },
  {
   "cell_type": "code",
   "execution_count": null,
   "metadata": {
    "pycharm": {
     "name": "#%%\n"
    }
   },
   "outputs": [],
   "source": [
    "df = pd.read_csv('../../data/LTDS/cleaned_bias.csv')"
   ]
  },
  {
   "cell_type": "code",
   "execution_count": null,
   "metadata": {
    "pycharm": {
     "name": "#%%\n"
    }
   },
   "outputs": [],
   "source": [
    "df.head()"
   ]
  },
  {
   "cell_type": "code",
   "execution_count": null,
   "metadata": {
    "pycharm": {
     "name": "#%%\n"
    }
   },
   "outputs": [],
   "source": [
    "data_info = {\n",
    "    'age': {\n",
    "        'type': 'continuous',\n",
    "        'bounds': [0, 100],\n",
    "        'discrete': True\n",
    "    }\n",
    "}\n",
    "\n",
    "# Add the other variables as categorical\n",
    "for c in df.columns:\n",
    "    if c not in data_info.keys():\n",
    "        data_info[c] = {'type': 'categorical'}"
   ]
  },
  {
   "cell_type": "code",
   "execution_count": null,
   "metadata": {
    "pycharm": {
     "name": "#%%\n"
    }
   },
   "outputs": [],
   "source": [
    "graph = nx.DiGraph()\n",
    "\n",
    "graph.add_edges_from([\n",
    "    ('age', 'hh_comp'),\n",
    "    ('gender', 'hh_comp'),\n",
    "    ('ethnicity', 'hh_people'),\n",
    "    ('hh_borough', 'hh_comp'),\n",
    "    ('hh_borough', 'hh_carvan'),\n",
    "    ('hh_borough', 'hh_income'),\n",
    "    ('hh_comp', 'hh_income'),\n",
    "    ('hh_comp', 'hh_people'),\n",
    "    ('hh_income', 'hh_carvan'),\n",
    "    ('hh_people', 'hh_carvan')\n",
    "])"
   ]
  },
  {
   "cell_type": "code",
   "execution_count": null,
   "metadata": {
    "pycharm": {
     "name": "#%%\n"
    }
   },
   "outputs": [],
   "source": [
    "datgan.advise(df, graph, plot_graphs=True)"
   ]
  },
  {
   "cell_type": "code",
   "execution_count": null,
   "metadata": {
    "pycharm": {
     "name": "#%%\n"
    }
   },
   "outputs": [],
   "source": [
    "name = 'DATGAN_bias'"
   ]
  },
  {
   "cell_type": "code",
   "execution_count": null,
   "metadata": {
    "pycharm": {
     "name": "#%%\n"
    }
   },
   "outputs": [],
   "source": [
    "output_folder = './output/{}/'.format(name)"
   ]
  },
  {
   "cell_type": "code",
   "execution_count": null,
   "metadata": {
    "pycharm": {
     "name": "#%%\n"
    }
   },
   "outputs": [],
   "source": [
    "datgan = DATGAN(output=output_folder,\n",
    "                loss_function='WGAN',\n",
    "                batch_size=1878,\n",
    "                num_epochs=1000)"
   ]
  },
  {
   "cell_type": "code",
   "execution_count": null,
   "metadata": {
    "pycharm": {
     "name": "#%%\n"
    }
   },
   "outputs": [],
   "source": [
    "datgan.fit(df, data_info, graph, preprocessed_data_path='./output/encoded_bias')"
   ]
  },
  {
   "cell_type": "code",
   "execution_count": null,
   "metadata": {
    "pycharm": {
     "name": "#%%\n"
    }
   },
   "outputs": [],
   "source": [
    "samp = datgan.sample(len(df))\n",
    "samp.to_csv('../../data/synthetic/DATGAN_bias.csv', index=False)"
   ]
  },
  {
   "cell_type": "markdown",
   "metadata": {
    "pycharm": {
     "name": "#%% md\n"
    }
   },
   "source": [
    "# Sampling"
   ]
  },
  {
   "cell_type": "code",
   "execution_count": null,
   "metadata": {
    "pycharm": {
     "name": "#%%\n"
    }
   },
   "outputs": [],
   "source": [
    "boroughs = ['City of London', 'Westminster', 'Kingston upon Thames', 'Bromley', 'Greenwich', 'Havering', 'Barnet', 'Enfield', 'Hillingdon', 'Brent']"
   ]
  },
  {
   "cell_type": "code",
   "execution_count": null,
   "metadata": {
    "pycharm": {
     "name": "#%%\n"
    }
   },
   "outputs": [],
   "source": [
    "nbrs = {}\n",
    "dct = {}\n",
    "\n",
    "for r in boroughs:\n",
    "    tmp = pd.read_csv('../../data/nomis/{}.csv'.format(r))\n",
    "\n",
    "    nbrs[r] = len(tmp)\n",
    "    dct[r] = []"
   ]
  },
  {
   "cell_type": "code",
   "execution_count": null,
   "metadata": {
    "pycharm": {
     "name": "#%%\n"
    }
   },
   "outputs": [],
   "source": [
    "remaining_boroughs = set(boroughs)\n",
    "\n",
    "count = 1\n",
    "while remaining_boroughs:\n",
    "\n",
    "    print(\"Pass {} - Remaining boroughs: {}\".format(count, len(remaining_boroughs)))\n",
    "\n",
    "    samp = datgan.sample(100000)\n",
    "\n",
    "    region_to_remove = []\n",
    "\n",
    "    for r in remaining_boroughs:\n",
    "        tmp = samp[samp.hh_borough == r]\n",
    "\n",
    "        if len(tmp) > nbrs[r]:\n",
    "            tmp = tmp.sample(nbrs[r], replace=False)\n",
    "\n",
    "        nbrs[r] -= len(tmp)\n",
    "        dct[r].append(tmp)\n",
    "\n",
    "        if nbrs[r] == 0:\n",
    "            region_to_remove.append(r)\n",
    "\n",
    "\n",
    "    for r in region_to_remove:\n",
    "        remaining_boroughs.remove(r)\n",
    "\n",
    "    count += 1"
   ]
  },
  {
   "cell_type": "code",
   "execution_count": null,
   "metadata": {
    "pycharm": {
     "name": "#%%\n"
    }
   },
   "outputs": [],
   "source": [
    "for r in dct.keys():\n",
    "    tmp = pd.concat(dct[r])\n",
    "    tmp.to_csv('../../data/DATGAN_bias/{}.csv'.format(r), index=False)"
   ]
  },
  {
   "cell_type": "markdown",
   "metadata": {
    "pycharm": {
     "name": "#%% md\n"
    }
   },
   "source": [
    "# Sampling and correcting for all boroughs"
   ]
  },
  {
   "cell_type": "code",
   "execution_count": null,
   "metadata": {
    "pycharm": {
     "name": "#%%\n"
    }
   },
   "outputs": [],
   "source": [
    "boroughs = ['City of London', 'Westminster', 'Kingston upon Thames', 'Bromley', 'Greenwich', 'Havering', 'Barnet', 'Enfield', 'Hillingdon', 'Brent']"
   ]
  },
  {
   "cell_type": "code",
   "execution_count": null,
   "metadata": {
    "pycharm": {
     "name": "#%%\n"
    }
   },
   "outputs": [],
   "source": [
    "%%time\n",
    "nbrs = {}\n",
    "dct = {}\n",
    "\n",
    "for r in boroughs:\n",
    "    tot = 0\n",
    "\n",
    "    tmp = pd.read_csv('../../data/nomis/{}.csv'.format(r))\n",
    "\n",
    "    nbrs[r] = tmp.groupby(['age','gender']).size().unstack(fill_value=0)\n",
    "\n",
    "    dct[r] = []"
   ]
  },
  {
   "cell_type": "code",
   "execution_count": null,
   "metadata": {
    "pycharm": {
     "name": "#%%\n"
    },
    "scrolled": true
   },
   "outputs": [],
   "source": [
    "%%time\n",
    "remaining_boroughs = set(boroughs)\n",
    "\n",
    "count = 1\n",
    "while remaining_boroughs:\n",
    "\n",
    "    print(\"Pass {} - Remaining boroughs: {}\".format(count, len(remaining_boroughs)))\n",
    "\n",
    "    samp = datgan.sample(1000000)\n",
    "\n",
    "    region_to_remove = []\n",
    "\n",
    "    for r in remaining_boroughs:\n",
    "        tmp = samp[samp.hh_borough == r]\n",
    "\n",
    "        grps = tmp.groupby(['age','gender']).size().unstack(fill_value=0)\n",
    "        \n",
    "        for g in grps.columns:\n",
    "            for a in grps.index:\n",
    "                if nbrs[r][g].loc[a] > 0:\n",
    "                    if grps[g].loc[a] <= nbrs[r][g].loc[a]:\n",
    "                        dct[r].append(tmp[(tmp['gender'] == g) & (tmp['age'] == a)])\n",
    "                        nbrs[r][g].loc[a] = nbrs[r][g].loc[a] - grps[g].loc[a]\n",
    "                    else:\n",
    "                        small = tmp[(tmp['gender'] == g) & (tmp['age'] == a)].sample(nbrs[r][g].loc[a], replace=False)\n",
    "                        nbrs[r][g].loc[a] = 0\n",
    "                        dct[r].append(small)\n",
    "\n",
    "        if nbrs[r].sum().sum() == 0:\n",
    "            region_to_remove.append(r)\n",
    "\n",
    "    for r in region_to_remove:\n",
    "        remaining_boroughs.remove(r)\n",
    "\n",
    "    count += 1"
   ]
  },
  {
   "cell_type": "code",
   "execution_count": null,
   "metadata": {},
   "outputs": [],
   "source": [
    "nbrs['City of London']"
   ]
  },
  {
   "cell_type": "code",
   "execution_count": null,
   "metadata": {},
   "outputs": [],
   "source": []
  }
 ],
 "metadata": {
  "kernelspec": {
   "display_name": "dev",
   "language": "python",
   "name": "dev"
  },
  "language_info": {
   "codemirror_mode": {
    "name": "ipython",
    "version": 3
   },
   "file_extension": ".py",
   "mimetype": "text/x-python",
   "name": "python",
   "nbconvert_exporter": "python",
   "pygments_lexer": "ipython3",
   "version": "3.9.7"
  }
 },
 "nbformat": 4,
 "nbformat_minor": 1
}