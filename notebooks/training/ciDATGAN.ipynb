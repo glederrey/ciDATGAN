{
 "cells": [
  {
   "cell_type": "code",
   "execution_count": 1,
   "metadata": {
    "collapsed": true
   },
   "outputs": [],
   "source": [
    "from datgan import DATGAN\n",
    "import datgan\n",
    "\n",
    "import numpy as np\n",
    "import pandas as pd\n",
    "import networkx as nx\n",
    "\n",
    "# For the Python notebook\n",
    "%matplotlib inline\n",
    "%reload_ext autoreload\n",
    "%autoreload 2\n",
    "\n",
    "import tensorflow as tf\n",
    "\n",
    "#tf.config.run_functions_eagerly(True)"
   ]
  },
  {
   "cell_type": "code",
   "execution_count": 2,
   "outputs": [],
   "source": [
    "df = pd.read_csv('../../data/LPMC/trips.csv', index_col=False)"
   ],
   "metadata": {
    "collapsed": false,
    "pycharm": {
     "name": "#%%\n"
    }
   }
  },
  {
   "cell_type": "code",
   "execution_count": 3,
   "outputs": [
    {
     "data": {
      "text/plain": "  travel_mode purpose faretype  day_of_week  start_time_linear  age  female  \\\n0        walk     HBO     full            6          15.833333   30       0   \n1          pt     HBO     full            7          10.000000   50       1   \n2          pt     HBW     full            5          17.000000   55       1   \n3       drive     HBO     full            6          16.883333   51       1   \n4          pt     HBW     full            3           7.500000   39       1   \n\n   driving_license  distance  dur_walking  dur_cycling  dur_driving  \\\n0                1      2145     0.553056     0.157500     0.158333   \n1                1      1789     0.473333     0.160556     0.135000   \n2                1     10036     2.411667     0.761389     0.638056   \n3                1      1531     0.423889     0.168611     0.110556   \n4                1      1124     0.275833     0.123611     0.081667   \n\n   driving_traffic_percent  hh_vehicles hh_income  hh_people    dur_pt  \\\n0                 0.473684            0    35-50k          2  0.436389   \n1                 0.547325            0    15-20k          5  0.271111   \n2                 0.543317            2   75-100k          2  0.830833   \n3                 0.268844            1     >100k          2  0.295556   \n4                 0.156463            1     >100k          4  0.124722   \n\n        hh_region  \n0  Central London  \n1  Central London  \n2    South London  \n3     East London  \n4    South London  ",
      "text/html": "<div>\n<style scoped>\n    .dataframe tbody tr th:only-of-type {\n        vertical-align: middle;\n    }\n\n    .dataframe tbody tr th {\n        vertical-align: top;\n    }\n\n    .dataframe thead th {\n        text-align: right;\n    }\n</style>\n<table border=\"1\" class=\"dataframe\">\n  <thead>\n    <tr style=\"text-align: right;\">\n      <th></th>\n      <th>travel_mode</th>\n      <th>purpose</th>\n      <th>faretype</th>\n      <th>day_of_week</th>\n      <th>start_time_linear</th>\n      <th>age</th>\n      <th>female</th>\n      <th>driving_license</th>\n      <th>distance</th>\n      <th>dur_walking</th>\n      <th>dur_cycling</th>\n      <th>dur_driving</th>\n      <th>driving_traffic_percent</th>\n      <th>hh_vehicles</th>\n      <th>hh_income</th>\n      <th>hh_people</th>\n      <th>dur_pt</th>\n      <th>hh_region</th>\n    </tr>\n  </thead>\n  <tbody>\n    <tr>\n      <th>0</th>\n      <td>walk</td>\n      <td>HBO</td>\n      <td>full</td>\n      <td>6</td>\n      <td>15.833333</td>\n      <td>30</td>\n      <td>0</td>\n      <td>1</td>\n      <td>2145</td>\n      <td>0.553056</td>\n      <td>0.157500</td>\n      <td>0.158333</td>\n      <td>0.473684</td>\n      <td>0</td>\n      <td>35-50k</td>\n      <td>2</td>\n      <td>0.436389</td>\n      <td>Central London</td>\n    </tr>\n    <tr>\n      <th>1</th>\n      <td>pt</td>\n      <td>HBO</td>\n      <td>full</td>\n      <td>7</td>\n      <td>10.000000</td>\n      <td>50</td>\n      <td>1</td>\n      <td>1</td>\n      <td>1789</td>\n      <td>0.473333</td>\n      <td>0.160556</td>\n      <td>0.135000</td>\n      <td>0.547325</td>\n      <td>0</td>\n      <td>15-20k</td>\n      <td>5</td>\n      <td>0.271111</td>\n      <td>Central London</td>\n    </tr>\n    <tr>\n      <th>2</th>\n      <td>pt</td>\n      <td>HBW</td>\n      <td>full</td>\n      <td>5</td>\n      <td>17.000000</td>\n      <td>55</td>\n      <td>1</td>\n      <td>1</td>\n      <td>10036</td>\n      <td>2.411667</td>\n      <td>0.761389</td>\n      <td>0.638056</td>\n      <td>0.543317</td>\n      <td>2</td>\n      <td>75-100k</td>\n      <td>2</td>\n      <td>0.830833</td>\n      <td>South London</td>\n    </tr>\n    <tr>\n      <th>3</th>\n      <td>drive</td>\n      <td>HBO</td>\n      <td>full</td>\n      <td>6</td>\n      <td>16.883333</td>\n      <td>51</td>\n      <td>1</td>\n      <td>1</td>\n      <td>1531</td>\n      <td>0.423889</td>\n      <td>0.168611</td>\n      <td>0.110556</td>\n      <td>0.268844</td>\n      <td>1</td>\n      <td>&gt;100k</td>\n      <td>2</td>\n      <td>0.295556</td>\n      <td>East London</td>\n    </tr>\n    <tr>\n      <th>4</th>\n      <td>pt</td>\n      <td>HBW</td>\n      <td>full</td>\n      <td>3</td>\n      <td>7.500000</td>\n      <td>39</td>\n      <td>1</td>\n      <td>1</td>\n      <td>1124</td>\n      <td>0.275833</td>\n      <td>0.123611</td>\n      <td>0.081667</td>\n      <td>0.156463</td>\n      <td>1</td>\n      <td>&gt;100k</td>\n      <td>4</td>\n      <td>0.124722</td>\n      <td>South London</td>\n    </tr>\n  </tbody>\n</table>\n</div>"
     },
     "execution_count": 3,
     "metadata": {},
     "output_type": "execute_result"
    }
   ],
   "source": [
    "df.head()"
   ],
   "metadata": {
    "collapsed": false,
    "pycharm": {
     "name": "#%%\n"
    }
   }
  },
  {
   "cell_type": "code",
   "execution_count": 4,
   "outputs": [],
   "source": [
    "# First, define the specificities of continuous variables\n",
    "data_info = {\n",
    "    'start_time_linear': {\n",
    "        'type': 'continuous',\n",
    "        'bounds': [0.0, 23.999],\n",
    "        'discrete': False,\n",
    "    },\n",
    "    'age': {\n",
    "        'type': 'continuous',\n",
    "        'bounds': [0, 100],\n",
    "        'discrete': True\n",
    "    },\n",
    "    'distance': {\n",
    "        'type': 'continuous',\n",
    "        'bounds': [0, np.infty],\n",
    "        'discrete': True,\n",
    "        'apply_func': (lambda x: np.log(x+1))\n",
    "    },\n",
    "    'dur_walking': {\n",
    "        'type': 'continuous',\n",
    "        'bounds': [0, np.infty],\n",
    "        'enforce_bounds': True,\n",
    "        'discrete': False,\n",
    "        'apply_func': (lambda x: np.log(x+1))\n",
    "    },\n",
    "    'dur_cycling': {\n",
    "        'type': 'continuous',\n",
    "        'bounds': [0, np.infty],\n",
    "        'enforce_bounds': True,\n",
    "        'discrete': False,\n",
    "        'apply_func': (lambda x: np.log(x+1))\n",
    "    },\n",
    "    'dur_pt': {\n",
    "        'type': 'continuous',\n",
    "        'bounds': [0, np.infty],\n",
    "        'enforce_bounds': True,\n",
    "        'discrete': False,\n",
    "        'apply_func': (lambda x: np.log(x+1))\n",
    "    },\n",
    "    'dur_driving': {\n",
    "        'type': 'continuous',\n",
    "        'bounds': [0, np.infty],\n",
    "        'enforce_bounds': True,\n",
    "        'discrete': False,\n",
    "        'apply_func': (lambda x: np.log(x+1))\n",
    "    },\n",
    "    'driving_traffic_percent': {\n",
    "        'type': 'continuous',\n",
    "        'bounds': [0, np.infty],\n",
    "        'discrete': False,\n",
    "    },\n",
    "}\n",
    "\n",
    "# Add the other variables as categorical\n",
    "for c in df.columns:\n",
    "    if c not in data_info.keys():\n",
    "        data_info[c] = {'type': 'categorical'}"
   ],
   "metadata": {
    "collapsed": false,
    "pycharm": {
     "name": "#%%\n"
    }
   }
  },
  {
   "cell_type": "code",
   "execution_count": 5,
   "outputs": [
    {
     "data": {
      "text/plain": "Index(['travel_mode', 'purpose', 'faretype', 'day_of_week',\n       'start_time_linear', 'age', 'female', 'driving_license', 'distance',\n       'dur_walking', 'dur_cycling', 'dur_driving', 'driving_traffic_percent',\n       'hh_vehicles', 'hh_income', 'hh_people', 'dur_pt', 'hh_region'],\n      dtype='object')"
     },
     "execution_count": 5,
     "metadata": {},
     "output_type": "execute_result"
    }
   ],
   "source": [
    "df.columns"
   ],
   "metadata": {
    "collapsed": false,
    "pycharm": {
     "name": "#%%\n"
    }
   }
  },
  {
   "cell_type": "code",
   "execution_count": 7,
   "outputs": [],
   "source": [
    "# personalised graph\n",
    "graph = nx.DiGraph()\n",
    "\n",
    "graph.add_edges_from([\n",
    "    ('hh_region', 'hh_people'),\n",
    "    ('hh_region', 'distance'),\n",
    "    ('hh_region', 'hh_income'),\n",
    "    ('hh_region', 'travel_mode'),\n",
    "    ('hh_income', 'hh_vehicles'),\n",
    "    ('hh_people', 'hh_vehicles'),\n",
    "    ('age', 'hh_people'),\n",
    "    ('age', 'faretype'),\n",
    "    ('age', 'driving_license'),\n",
    "    ('age', 'purpose'),\n",
    "    ('age', 'travel_mode'),\n",
    "    ('female', 'driving_license'),\n",
    "    ('female', 'hh_people'),\n",
    "    ('driving_license', 'travel_mode'),\n",
    "    ('hh_vehicles', 'driving_license'),\n",
    "    ('hh_vehicles', 'travel_mode'),\n",
    "    ('faretype', 'travel_mode'),\n",
    "    ('day_of_week', 'purpose'),\n",
    "    ('day_of_week', 'start_time_linear'),\n",
    "    ('day_of_week', 'driving_traffic_percent'),\n",
    "    ('purpose', 'start_time_linear'),\n",
    "    ('purpose', 'travel_mode'),\n",
    "    ('purpose', 'distance'),\n",
    "    ('start_time_linear', 'driving_traffic_percent'),\n",
    "    ('driving_traffic_percent', 'dur_driving'),\n",
    "    ('distance', 'driving_traffic_percent'),\n",
    "    ('distance', 'dur_walking'),\n",
    "    ('distance', 'dur_cycling'),\n",
    "    ('distance', 'dur_pt'),\n",
    "    ('distance', 'dur_driving'),\n",
    "    ('distance', 'travel_mode')\n",
    "])"
   ],
   "metadata": {
    "collapsed": false,
    "pycharm": {
     "name": "#%%\n"
    }
   }
  },
  {
   "cell_type": "code",
   "execution_count": 8,
   "outputs": [],
   "source": [
    "name = 'ciDATGAN'"
   ],
   "metadata": {
    "collapsed": false,
    "pycharm": {
     "name": "#%%\n"
    }
   }
  },
  {
   "cell_type": "code",
   "execution_count": 9,
   "outputs": [],
   "source": [
    "output_folder = '../output/{}/'.format(name)"
   ],
   "metadata": {
    "collapsed": false,
    "pycharm": {
     "name": "#%%\n"
    }
   }
  },
  {
   "cell_type": "code",
   "execution_count": 10,
   "outputs": [],
   "source": [
    "datgan = DATGAN(output=output_folder,\n",
    "                loss_function='WGGP',\n",
    "                conditional_inputs=['age', 'female', 'hh_region'],\n",
    "                batch_size=1101,\n",
    "                num_epochs=1000)"
   ],
   "metadata": {
    "collapsed": false,
    "pycharm": {
     "name": "#%%\n"
    }
   }
  },
  {
   "cell_type": "code",
   "execution_count": 11,
   "outputs": [
    {
     "name": "stdout",
     "output_type": "stream",
     "text": [
      "Preprocessed data have been loaded!\n",
      "Start training DATGAN with the WGGP loss (12/05/2022 16:18:08).\n",
      "Restored models from epoch 1000.\n"
     ]
    },
    {
     "name": "stderr",
     "output_type": "stream",
     "text": [
      "Training DATGAN: 0it [00:00, ?it/s]"
     ]
    },
    {
     "name": "stdout",
     "output_type": "stream",
     "text": [
      "DATGAN has finished training (12/05/2022 16:18:08) - Training time: 00 second\n"
     ]
    },
    {
     "name": "stderr",
     "output_type": "stream",
     "text": [
      "\n"
     ]
    }
   ],
   "source": [
    "datgan.fit(df, data_info, graph, preprocessed_data_path='../output/encoded_LPMC')"
   ],
   "metadata": {
    "collapsed": false,
    "pycharm": {
     "name": "#%%\n"
    }
   }
  },
  {
   "cell_type": "code",
   "execution_count": 12,
   "outputs": [
    {
     "name": "stderr",
     "output_type": "stream",
     "text": [
      "Sampling from DATGAN: 100%|██████████| 16904/16904 [00:33<00:00, 499.15it/s] \n",
      "Sampling from DATGAN: 100%|██████████| 16904/16904 [00:41<00:00, 404.94it/s]\n",
      "Sampling from DATGAN: 100%|██████████| 16904/16904 [00:16<00:00, 1002.95it/s]\n",
      "Sampling from DATGAN: 100%|██████████| 16904/16904 [00:17<00:00, 970.27it/s] \n",
      "Sampling from DATGAN: 100%|██████████| 16904/16904 [00:17<00:00, 963.79it/s] \n"
     ]
    }
   ],
   "source": [
    "for i in range(5):\n",
    "    samp = datgan.sample(len(df), inputs=df[datgan.conditional_inputs])\n",
    "    samp.to_csv('../../data/synthetic/test/ciDATGAN_{:02d}.csv'.format(i+1), index=False)"
   ],
   "metadata": {
    "collapsed": false,
    "pycharm": {
     "name": "#%%\n"
    }
   }
  },
  {
   "cell_type": "markdown",
   "source": [
    "# All the regions"
   ],
   "metadata": {
    "collapsed": false,
    "pycharm": {
     "name": "#%% md\n"
    }
   }
  },
  {
   "cell_type": "code",
   "execution_count": 12,
   "outputs": [
    {
     "name": "stdout",
     "output_type": "stream",
     "text": [
      "Sampling for Central London (1/5)\n"
     ]
    },
    {
     "name": "stderr",
     "output_type": "stream",
     "text": [
      "Sampling from DATGAN: 100%|██████████| 1314313/1314313 [22:57<00:00, 954.18it/s] \n"
     ]
    },
    {
     "name": "stdout",
     "output_type": "stream",
     "text": [
      "Sampling for South London (2/5)\n"
     ]
    },
    {
     "name": "stderr",
     "output_type": "stream",
     "text": [
      "Sampling from DATGAN: 100%|██████████| 1421383/1421383 [25:15<00:00, 937.78it/s] \n"
     ]
    }
   ],
   "source": [
    "count = 1\n",
    "for r in df.hh_region.unique()[:2]:\n",
    "\n",
    "    tmp = pd.read_csv('../../data/nomis/{}.csv'.format(r))\n",
    "\n",
    "    print('Sampling for {} ({}/{})'.format(r, count, len(df.hh_region.unique())))\n",
    "\n",
    "    samp = datgan.sample(len(tmp), inputs=tmp, randomize=False)\n",
    "\n",
    "    samp.to_csv('../../data/synthetic/regions/ciDATGAN_ALL/{}.csv'.format(r), index=False)\n",
    "\n",
    "    count += 1"
   ],
   "metadata": {
    "collapsed": false,
    "pycharm": {
     "name": "#%%\n"
    }
   }
  },
  {
   "cell_type": "markdown",
   "source": [],
   "metadata": {
    "collapsed": false
   }
  },
  {
   "cell_type": "markdown",
   "source": [
    "# All the boroughs"
   ],
   "metadata": {
    "collapsed": false,
    "pycharm": {
     "name": "#%% md\n"
    }
   }
  },
  {
   "cell_type": "code",
   "execution_count": 11,
   "outputs": [
    {
     "name": "stdout",
     "output_type": "stream",
     "text": [
      "Sampling for Southwark (1/33)\n"
     ]
    },
    {
     "name": "stderr",
     "output_type": "stream",
     "text": [
      "Sampling from DATGAN: 100%|██████████| 288283/288283 [04:52<00:00, 985.98it/s] \n"
     ]
    },
    {
     "name": "stdout",
     "output_type": "stream",
     "text": [
      "Sampling for Westminster (2/33)\n"
     ]
    },
    {
     "name": "stderr",
     "output_type": "stream",
     "text": [
      "Sampling from DATGAN: 100%|██████████| 219396/219396 [03:35<00:00, 1017.09it/s]\n"
     ]
    },
    {
     "name": "stdout",
     "output_type": "stream",
     "text": [
      "Sampling for Merton (3/33)\n"
     ]
    },
    {
     "name": "stderr",
     "output_type": "stream",
     "text": [
      "Sampling from DATGAN: 100%|██████████| 199693/199693 [03:18<00:00, 1004.75it/s]\n"
     ]
    },
    {
     "name": "stdout",
     "output_type": "stream",
     "text": [
      "Sampling for Lewisham (4/33)\n"
     ]
    },
    {
     "name": "stderr",
     "output_type": "stream",
     "text": [
      "Sampling from DATGAN: 100%|██████████| 275885/275885 [04:34<00:00, 1005.91it/s]\n"
     ]
    },
    {
     "name": "stdout",
     "output_type": "stream",
     "text": [
      "Sampling for Bromley (5/33)\n"
     ]
    },
    {
     "name": "stderr",
     "output_type": "stream",
     "text": [
      "Sampling from DATGAN: 100%|██████████| 309392/309392 [05:13<00:00, 987.80it/s] \n"
     ]
    },
    {
     "name": "stdout",
     "output_type": "stream",
     "text": [
      "Sampling for Tower Hamlets (6/33)\n"
     ]
    },
    {
     "name": "stderr",
     "output_type": "stream",
     "text": [
      "Sampling from DATGAN: 100%|██████████| 254096/254096 [04:15<00:00, 994.94it/s] \n"
     ]
    },
    {
     "name": "stdout",
     "output_type": "stream",
     "text": [
      "Sampling for Lambeth (7/33)\n"
     ]
    },
    {
     "name": "stderr",
     "output_type": "stream",
     "text": [
      "Sampling from DATGAN: 100%|██████████| 303086/303086 [05:05<00:00, 990.52it/s] \n"
     ]
    },
    {
     "name": "stdout",
     "output_type": "stream",
     "text": [
      "Sampling for Hackney (8/33)\n"
     ]
    },
    {
     "name": "stderr",
     "output_type": "stream",
     "text": [
      "Sampling from DATGAN: 100%|██████████| 246270/246270 [04:07<00:00, 997.01it/s] \n"
     ]
    },
    {
     "name": "stdout",
     "output_type": "stream",
     "text": [
      "Sampling for Wandsworth (9/33)\n"
     ]
    },
    {
     "name": "stderr",
     "output_type": "stream",
     "text": [
      "Sampling from DATGAN: 100%|██████████| 306995/306995 [05:08<00:00, 995.08it/s] \n"
     ]
    },
    {
     "name": "stdout",
     "output_type": "stream",
     "text": [
      "Sampling for Enfield (10/33)\n"
     ]
    },
    {
     "name": "stderr",
     "output_type": "stream",
     "text": [
      "Sampling from DATGAN: 100%|██████████| 312466/312466 [05:14<00:00, 992.15it/s] \n"
     ]
    },
    {
     "name": "stdout",
     "output_type": "stream",
     "text": [
      "Sampling for Bexley (11/33)\n"
     ]
    },
    {
     "name": "stderr",
     "output_type": "stream",
     "text": [
      "Sampling from DATGAN: 100%|██████████| 231997/231997 [03:50<00:00, 1006.49it/s]\n"
     ]
    },
    {
     "name": "stdout",
     "output_type": "stream",
     "text": [
      "Sampling for City of London (12/33)\n"
     ]
    },
    {
     "name": "stderr",
     "output_type": "stream",
     "text": [
      "Sampling from DATGAN: 100%|██████████| 7375/7375 [00:08<00:00, 852.62it/s] \n"
     ]
    },
    {
     "name": "stdout",
     "output_type": "stream",
     "text": [
      "Sampling for Greenwich (13/33)\n"
     ]
    },
    {
     "name": "stderr",
     "output_type": "stream",
     "text": [
      "Sampling from DATGAN: 100%|██████████| 254557/254557 [04:13<00:00, 1002.87it/s]\n"
     ]
    },
    {
     "name": "stdout",
     "output_type": "stream",
     "text": [
      "Sampling for Hillingdon (14/33)\n"
     ]
    },
    {
     "name": "stderr",
     "output_type": "stream",
     "text": [
      "Sampling from DATGAN: 100%|██████████| 273936/273936 [04:31<00:00, 1008.31it/s]\n"
     ]
    },
    {
     "name": "stdout",
     "output_type": "stream",
     "text": [
      "Sampling for Brent (15/33)\n"
     ]
    },
    {
     "name": "stderr",
     "output_type": "stream",
     "text": [
      "Sampling from DATGAN: 100%|██████████| 311215/311215 [05:10<00:00, 1002.89it/s]\n"
     ]
    },
    {
     "name": "stdout",
     "output_type": "stream",
     "text": [
      "Sampling for Havering (16/33)\n"
     ]
    },
    {
     "name": "stderr",
     "output_type": "stream",
     "text": [
      "Sampling from DATGAN: 100%|██████████| 237232/237232 [03:55<00:00, 1009.39it/s]\n"
     ]
    },
    {
     "name": "stdout",
     "output_type": "stream",
     "text": [
      "Sampling for Croydon (17/33)\n"
     ]
    },
    {
     "name": "stderr",
     "output_type": "stream",
     "text": [
      "Sampling from DATGAN: 100%|██████████| 363378/363378 [06:07<00:00, 988.33it/s] \n"
     ]
    },
    {
     "name": "stdout",
     "output_type": "stream",
     "text": [
      "Sampling for Hounslow (18/33)\n"
     ]
    },
    {
     "name": "stderr",
     "output_type": "stream",
     "text": [
      "Sampling from DATGAN: 100%|██████████| 253957/253957 [04:15<00:00, 993.09it/s] \n"
     ]
    },
    {
     "name": "stdout",
     "output_type": "stream",
     "text": [
      "Sampling for Harrow (19/33)\n"
     ]
    },
    {
     "name": "stderr",
     "output_type": "stream",
     "text": [
      "Sampling from DATGAN: 100%|██████████| 239056/239056 [03:59<00:00, 996.18it/s] \n"
     ]
    },
    {
     "name": "stdout",
     "output_type": "stream",
     "text": [
      "Sampling for Richmond upon Thames (20/33)\n"
     ]
    },
    {
     "name": "stderr",
     "output_type": "stream",
     "text": [
      "Sampling from DATGAN: 100%|██████████| 186990/186990 [03:07<00:00, 995.50it/s] \n"
     ]
    },
    {
     "name": "stdout",
     "output_type": "stream",
     "text": [
      "Sampling for Hammersmith & Fulham (21/33)\n"
     ]
    },
    {
     "name": "stderr",
     "output_type": "stream",
     "text": [
      "Sampling from DATGAN: 100%|██████████| 182493/182493 [03:04<00:00, 987.49it/s] \n"
     ]
    },
    {
     "name": "stdout",
     "output_type": "stream",
     "text": [
      "Sampling for Islington (22/33)\n"
     ]
    },
    {
     "name": "stderr",
     "output_type": "stream",
     "text": [
      "Sampling from DATGAN: 100%|██████████| 206125/206125 [03:28<00:00, 990.52it/s] \n"
     ]
    },
    {
     "name": "stdout",
     "output_type": "stream",
     "text": [
      "Sampling for Sutton (23/33)\n"
     ]
    },
    {
     "name": "stderr",
     "output_type": "stream",
     "text": [
      "Sampling from DATGAN: 100%|██████████| 190146/190146 [03:13<00:00, 984.24it/s] \n"
     ]
    },
    {
     "name": "stdout",
     "output_type": "stream",
     "text": [
      "Sampling for Haringey (24/33)\n"
     ]
    },
    {
     "name": "stderr",
     "output_type": "stream",
     "text": [
      "Sampling from DATGAN: 100%|██████████| 254926/254926 [04:17<00:00, 989.42it/s] \n"
     ]
    },
    {
     "name": "stdout",
     "output_type": "stream",
     "text": [
      "Sampling for Kensington and Chelsea (25/33)\n"
     ]
    },
    {
     "name": "stderr",
     "output_type": "stream",
     "text": [
      "Sampling from DATGAN: 100%|██████████| 158649/158649 [02:39<00:00, 992.76it/s] \n"
     ]
    },
    {
     "name": "stdout",
     "output_type": "stream",
     "text": [
      "Sampling for Barnet (26/33)\n"
     ]
    },
    {
     "name": "stderr",
     "output_type": "stream",
     "text": [
      "Sampling from DATGAN: 100%|██████████| 356386/356386 [05:59<00:00, 991.82it/s] \n"
     ]
    },
    {
     "name": "stdout",
     "output_type": "stream",
     "text": [
      "Sampling for Camden (27/33)\n"
     ]
    },
    {
     "name": "stderr",
     "output_type": "stream",
     "text": [
      "Sampling from DATGAN: 100%|██████████| 220338/220338 [03:38<00:00, 1007.22it/s]\n"
     ]
    },
    {
     "name": "stdout",
     "output_type": "stream",
     "text": [
      "Sampling for Barking and Dagenham (28/33)\n"
     ]
    },
    {
     "name": "stderr",
     "output_type": "stream",
     "text": [
      "Sampling from DATGAN: 100%|██████████| 185911/185911 [03:05<00:00, 1000.23it/s]\n"
     ]
    },
    {
     "name": "stdout",
     "output_type": "stream",
     "text": [
      "Sampling for Ealing (29/33)\n"
     ]
    },
    {
     "name": "stderr",
     "output_type": "stream",
     "text": [
      "Sampling from DATGAN: 100%|██████████| 338449/338449 [05:38<00:00, 999.03it/s] \n"
     ]
    },
    {
     "name": "stdout",
     "output_type": "stream",
     "text": [
      "Sampling for Waltham Forest (30/33)\n"
     ]
    },
    {
     "name": "stderr",
     "output_type": "stream",
     "text": [
      "Sampling from DATGAN: 100%|██████████| 258249/258249 [04:16<00:00, 1006.43it/s]\n"
     ]
    },
    {
     "name": "stdout",
     "output_type": "stream",
     "text": [
      "Sampling for Newham (31/33)\n"
     ]
    },
    {
     "name": "stderr",
     "output_type": "stream",
     "text": [
      "Sampling from DATGAN: 100%|██████████| 307984/307984 [05:08<00:00, 998.28it/s] \n"
     ]
    },
    {
     "name": "stdout",
     "output_type": "stream",
     "text": [
      "Sampling for Kingston upon Thames (32/33)\n"
     ]
    },
    {
     "name": "stderr",
     "output_type": "stream",
     "text": [
      "Sampling from DATGAN: 100%|██████████| 160060/160060 [02:39<00:00, 1003.74it/s]\n"
     ]
    },
    {
     "name": "stdout",
     "output_type": "stream",
     "text": [
      "Sampling for Redbridge (33/33)\n"
     ]
    },
    {
     "name": "stderr",
     "output_type": "stream",
     "text": [
      "Sampling from DATGAN: 100%|██████████| 278970/278970 [04:43<00:00, 984.34it/s] \n"
     ]
    }
   ],
   "source": [
    "count = 1\n",
    "for r in df.hh_borough.unique():\n",
    "\n",
    "    tmp = pd.read_csv('../../data/nomis/{}.csv'.format(r))\n",
    "\n",
    "    print('Sampling for {} ({}/{})'.format(r, count, len(df.hh_borough.unique())))\n",
    "\n",
    "    samp = datgan.sample(len(tmp), inputs=tmp, randomize=False)\n",
    "\n",
    "    samp.to_csv('../../data/synthetic/ciDATGAN/{}.csv'.format(r), index=False)\n",
    "\n",
    "    count += 1"
   ],
   "metadata": {
    "collapsed": false,
    "pycharm": {
     "name": "#%%\n"
    }
   }
  },
  {
   "cell_type": "code",
   "execution_count": null,
   "outputs": [],
   "source": [],
   "metadata": {
    "collapsed": false,
    "pycharm": {
     "name": "#%%\n"
    }
   }
  }
 ],
 "metadata": {
  "kernelspec": {
   "display_name": "Python 3",
   "language": "python",
   "name": "python3"
  },
  "language_info": {
   "codemirror_mode": {
    "name": "ipython",
    "version": 2
   },
   "file_extension": ".py",
   "mimetype": "text/x-python",
   "name": "python",
   "nbconvert_exporter": "python",
   "pygments_lexer": "ipython2",
   "version": "2.7.6"
  }
 },
 "nbformat": 4,
 "nbformat_minor": 0
}