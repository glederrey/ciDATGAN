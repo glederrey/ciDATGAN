{
 "cells": [
  {
   "cell_type": "code",
   "execution_count": 1,
   "metadata": {
    "collapsed": true
   },
   "outputs": [],
   "source": [
    "from datgan import DATGAN\n",
    "import datgan\n",
    "\n",
    "import numpy as np\n",
    "import pandas as pd\n",
    "import networkx as nx\n",
    "\n",
    "# For the Python notebook\n",
    "%matplotlib inline\n",
    "%reload_ext autoreload\n",
    "%autoreload 2"
   ]
  },
  {
   "cell_type": "code",
   "execution_count": 2,
   "outputs": [],
   "source": [
    "df = pd.read_csv('../../data/LPMC/trips.csv', index_col=False)"
   ],
   "metadata": {
    "collapsed": false,
    "pycharm": {
     "name": "#%%\n"
    }
   }
  },
  {
   "cell_type": "code",
   "execution_count": 3,
   "outputs": [
    {
     "data": {
      "text/plain": "  travel_mode purpose     fueltype faretype  bus_scale  travel_year  \\\n0       drive     HBO   Diesel_Car     full        1.0         2012   \n1       drive     HBW   Diesel_Car     full        1.0         2013   \n2          pt     HBO  Average_Car     full        0.5         2014   \n3          pt     HBE  Average_Car      dis        0.5         2014   \n4        walk     HBW   Petrol_Car     full        1.0         2013   \n\n   travel_month  travel_date  day_of_week  start_time_linear  ...  \\\n0             8            7            2          20.000000  ...   \n1             2            8            5          15.000000  ...   \n2            10            8            3          14.000000  ...   \n3             3           10            1          10.500000  ...   \n4             1           24            4          16.833333  ...   \n\n   dur_driving  cost_transit  cost_driving_fuel  cost_driving_con_charge  \\\n0     0.208611          1.50               0.57                      0.0   \n1     0.471944          3.00               1.62                      0.0   \n2     0.238333          0.75               0.62                      0.0   \n3     0.308889          0.75               0.60                     10.5   \n4     0.077500          1.50               0.19                      0.0   \n\n   driving_traffic_percent  hh_vehicles  hh_borough  hh_income  hh_people  \\\n0                 0.098535            1      Bexley     35-50k          2   \n1                 0.354915            1      Harrow      5-10k          3   \n2                 0.212121            0     Lambeth     50-75k          4   \n3                 0.684353            0     Hackney     10-15k          2   \n4                 0.046595            2     Lambeth     50-75k          5   \n\n   dur_pt_int  \n0    0.000000  \n1    0.133333  \n2    0.000000  \n3    0.000000  \n4    0.000000  \n\n[5 rows x 30 columns]",
      "text/html": "<div>\n<style scoped>\n    .dataframe tbody tr th:only-of-type {\n        vertical-align: middle;\n    }\n\n    .dataframe tbody tr th {\n        vertical-align: top;\n    }\n\n    .dataframe thead th {\n        text-align: right;\n    }\n</style>\n<table border=\"1\" class=\"dataframe\">\n  <thead>\n    <tr style=\"text-align: right;\">\n      <th></th>\n      <th>travel_mode</th>\n      <th>purpose</th>\n      <th>fueltype</th>\n      <th>faretype</th>\n      <th>bus_scale</th>\n      <th>travel_year</th>\n      <th>travel_month</th>\n      <th>travel_date</th>\n      <th>day_of_week</th>\n      <th>start_time_linear</th>\n      <th>...</th>\n      <th>dur_driving</th>\n      <th>cost_transit</th>\n      <th>cost_driving_fuel</th>\n      <th>cost_driving_con_charge</th>\n      <th>driving_traffic_percent</th>\n      <th>hh_vehicles</th>\n      <th>hh_borough</th>\n      <th>hh_income</th>\n      <th>hh_people</th>\n      <th>dur_pt_int</th>\n    </tr>\n  </thead>\n  <tbody>\n    <tr>\n      <th>0</th>\n      <td>drive</td>\n      <td>HBO</td>\n      <td>Diesel_Car</td>\n      <td>full</td>\n      <td>1.0</td>\n      <td>2012</td>\n      <td>8</td>\n      <td>7</td>\n      <td>2</td>\n      <td>20.000000</td>\n      <td>...</td>\n      <td>0.208611</td>\n      <td>1.50</td>\n      <td>0.57</td>\n      <td>0.0</td>\n      <td>0.098535</td>\n      <td>1</td>\n      <td>Bexley</td>\n      <td>35-50k</td>\n      <td>2</td>\n      <td>0.000000</td>\n    </tr>\n    <tr>\n      <th>1</th>\n      <td>drive</td>\n      <td>HBW</td>\n      <td>Diesel_Car</td>\n      <td>full</td>\n      <td>1.0</td>\n      <td>2013</td>\n      <td>2</td>\n      <td>8</td>\n      <td>5</td>\n      <td>15.000000</td>\n      <td>...</td>\n      <td>0.471944</td>\n      <td>3.00</td>\n      <td>1.62</td>\n      <td>0.0</td>\n      <td>0.354915</td>\n      <td>1</td>\n      <td>Harrow</td>\n      <td>5-10k</td>\n      <td>3</td>\n      <td>0.133333</td>\n    </tr>\n    <tr>\n      <th>2</th>\n      <td>pt</td>\n      <td>HBO</td>\n      <td>Average_Car</td>\n      <td>full</td>\n      <td>0.5</td>\n      <td>2014</td>\n      <td>10</td>\n      <td>8</td>\n      <td>3</td>\n      <td>14.000000</td>\n      <td>...</td>\n      <td>0.238333</td>\n      <td>0.75</td>\n      <td>0.62</td>\n      <td>0.0</td>\n      <td>0.212121</td>\n      <td>0</td>\n      <td>Lambeth</td>\n      <td>50-75k</td>\n      <td>4</td>\n      <td>0.000000</td>\n    </tr>\n    <tr>\n      <th>3</th>\n      <td>pt</td>\n      <td>HBE</td>\n      <td>Average_Car</td>\n      <td>dis</td>\n      <td>0.5</td>\n      <td>2014</td>\n      <td>3</td>\n      <td>10</td>\n      <td>1</td>\n      <td>10.500000</td>\n      <td>...</td>\n      <td>0.308889</td>\n      <td>0.75</td>\n      <td>0.60</td>\n      <td>10.5</td>\n      <td>0.684353</td>\n      <td>0</td>\n      <td>Hackney</td>\n      <td>10-15k</td>\n      <td>2</td>\n      <td>0.000000</td>\n    </tr>\n    <tr>\n      <th>4</th>\n      <td>walk</td>\n      <td>HBW</td>\n      <td>Petrol_Car</td>\n      <td>full</td>\n      <td>1.0</td>\n      <td>2013</td>\n      <td>1</td>\n      <td>24</td>\n      <td>4</td>\n      <td>16.833333</td>\n      <td>...</td>\n      <td>0.077500</td>\n      <td>1.50</td>\n      <td>0.19</td>\n      <td>0.0</td>\n      <td>0.046595</td>\n      <td>2</td>\n      <td>Lambeth</td>\n      <td>50-75k</td>\n      <td>5</td>\n      <td>0.000000</td>\n    </tr>\n  </tbody>\n</table>\n<p>5 rows × 30 columns</p>\n</div>"
     },
     "execution_count": 3,
     "metadata": {},
     "output_type": "execute_result"
    }
   ],
   "source": [
    "df.head()"
   ],
   "metadata": {
    "collapsed": false,
    "pycharm": {
     "name": "#%%\n"
    }
   }
  },
  {
   "cell_type": "code",
   "execution_count": 4,
   "outputs": [],
   "source": [
    "# First, define the specificities of continuous variables\n",
    "data_info = {\n",
    "    'start_time_linear': {\n",
    "        'type': 'continuous',\n",
    "        'bounds': [0.0, 23.999],\n",
    "        'discrete': False,\n",
    "    },\n",
    "    'age': {\n",
    "        'type': 'continuous',\n",
    "        'bounds': [0, 100],\n",
    "        'discrete': True\n",
    "    },\n",
    "    'distance': {\n",
    "        'type': 'continuous',\n",
    "        'bounds': [0, np.infty],\n",
    "        'discrete': True,\n",
    "        'apply_func': (lambda x: np.log(x+1))\n",
    "    },\n",
    "    'dur_walking': {\n",
    "        'type': 'continuous',\n",
    "        'bounds': [0, np.infty],\n",
    "        'enforce_bounds': True,\n",
    "        'discrete': False,\n",
    "        'apply_func': (lambda x: np.log(x+1))\n",
    "    },\n",
    "    'dur_cycling': {\n",
    "        'type': 'continuous',\n",
    "        'bounds': [0, np.infty],\n",
    "        'enforce_bounds': True,\n",
    "        'discrete': False,\n",
    "        'apply_func': (lambda x: np.log(x+1))\n",
    "    },\n",
    "    'dur_pt_access': {\n",
    "        'type': 'continuous',\n",
    "        'bounds': [0, np.infty],\n",
    "        'enforce_bounds': True,\n",
    "        'discrete': False,\n",
    "        'apply_func': (lambda x: np.log(x+1))\n",
    "    },\n",
    "    'dur_pt_rail': {\n",
    "        'type': 'continuous',\n",
    "        'bounds': [0, np.infty],\n",
    "        'enforce_bounds': True,\n",
    "        'discrete': False,\n",
    "    },\n",
    "    'dur_pt_bus': {\n",
    "        'type': 'continuous',\n",
    "        'bounds': [0, np.infty],\n",
    "        'enforce_bounds': True,\n",
    "        'discrete': False,\n",
    "    },\n",
    "    'dur_pt_int': {\n",
    "        'type': 'continuous',\n",
    "        'bounds': [0, np.infty],\n",
    "        'enforce_bounds': True,\n",
    "        'discrete': False,\n",
    "    },\n",
    "    'dur_driving': {\n",
    "        'type': 'continuous',\n",
    "        'bounds': [0, np.infty],\n",
    "        'enforce_bounds': True,\n",
    "        'discrete': False,\n",
    "        'apply_func': (lambda x: np.log(x+1))\n",
    "    },\n",
    "    'cost_transit': {\n",
    "        'type': 'continuous',\n",
    "        'bounds': [0, np.infty],\n",
    "        'enforce_bounds': True,\n",
    "        'discrete': False,\n",
    "    },\n",
    "    'cost_driving_fuel': {\n",
    "        'type': 'continuous',\n",
    "        'bounds': [0, np.infty],\n",
    "        'enforce_bounds': True,\n",
    "        'discrete': False,\n",
    "        'apply_func': (lambda x: np.log(x+1))\n",
    "    },\n",
    "    'driving_traffic_percent': {\n",
    "        'type': 'continuous',\n",
    "        'bounds': [0, np.infty],\n",
    "        'discrete': False,\n",
    "    },\n",
    "}\n",
    "\n",
    "# Add the other variables as categorical\n",
    "for c in df.columns:\n",
    "    if c not in data_info.keys():\n",
    "        data_info[c] = {'type': 'categorical'}"
   ],
   "metadata": {
    "collapsed": false,
    "pycharm": {
     "name": "#%%\n"
    }
   }
  },
  {
   "cell_type": "code",
   "execution_count": 5,
   "outputs": [],
   "source": [
    "# personalised graph\n",
    "graph = nx.DiGraph()\n",
    "\n",
    "graph.add_edges_from([\n",
    "    (\"travel_year\", \"travel_month\"),\n",
    "    (\"travel_date\", \"day_of_week\"),\n",
    "    (\"travel_month\", \"travel_date\"),\n",
    "    (\"travel_month\", \"driving_traffic_percent\"),\n",
    "    (\"travel_month\", \"day_of_week\"),\n",
    "    (\"travel_month\", \"travel_mode\"),\n",
    "    (\"travel_date\", \"day_of_week\"),\n",
    "    (\"day_of_week\", \"driving_traffic_percent\"),\n",
    "    (\"day_of_week\", \"cost_driving_con_charge\"),\n",
    "    (\"day_of_week\", \"purpose\"),\n",
    "    (\"day_of_week\", \"start_time_linear\"),\n",
    "    (\"day_of_week\", \"travel_mode\"),\n",
    "    (\"purpose\", \"distance\"),\n",
    "    (\"purpose\", \"start_time_linear\"),\n",
    "    (\"purpose\", \"travel_mode\"),\n",
    "    (\"start_time_linear\", \"driving_traffic_percent\"),\n",
    "    (\"start_time_linear\", \"cost_driving_con_charge\"),\n",
    "    (\"start_time_linear\", \"travel_mode\"),\n",
    "    (\"hh_vehicles\", \"fueltype\"),\n",
    "    (\"hh_vehicles\", \"driving_license\"),\n",
    "    (\"hh_vehicles\", \"travel_mode\"),\n",
    "    (\"fueltype\", \"cost_driving_con_charge\"),\n",
    "    (\"fueltype\", \"cost_driving_fuel\"),\n",
    "    (\"female\", \"driving_license\"),\n",
    "    (\"female\", \"travel_mode\"),\n",
    "    (\"age\", \"bus_scale\"),\n",
    "    (\"age\", \"driving_license\"),\n",
    "    (\"age\", \"faretype\"),\n",
    "    (\"age\", \"travel_mode\"),\n",
    "    (\"driving_license\", \"travel_mode\"),\n",
    "    (\"faretype\", \"cost_transit\"),\n",
    "    (\"faretype\", \"bus_scale\"),\n",
    "    (\"faretype\", \"travel_mode\"),\n",
    "    (\"bus_scale\", \"cost_transit\"),\n",
    "    (\"distance\", \"cost_driving_fuel\"),\n",
    "    (\"distance\", \"dur_driving\"),\n",
    "    (\"distance\", \"dur_walking\"),\n",
    "    (\"distance\", \"dur_cycling\"),\n",
    "    (\"distance\", \"dur_pt_access\"),\n",
    "    (\"distance\", \"dur_pt_rail\"),\n",
    "    (\"distance\", \"dur_pt_bus\"),\n",
    "    (\"distance\", \"dur_pt_int\"),\n",
    "    (\"distance\", \"pt_n_interchanges\"),\n",
    "    (\"distance\", \"travel_mode\"),\n",
    "    (\"pt_n_interchanges\", \"dur_pt_rail\"),\n",
    "    (\"pt_n_interchanges\", \"dur_pt_bus\"),\n",
    "    (\"pt_n_interchanges\", \"dur_pt_int\"),\n",
    "    (\"pt_n_interchanges\", \"cost_transit\"),\n",
    "    (\"driving_traffic_percent\", \"cost_driving_con_charge\"),\n",
    "    (\"driving_traffic_percent\", \"travel_mode\"),\n",
    "    (\"cost_driving_fuel\", \"cost_driving_con_charge\"),\n",
    "    (\"cost_driving_fuel\", \"travel_mode\"),\n",
    "    (\"cost_driving_con_charge\", \"travel_mode\"),\n",
    "    (\"dur_driving\", \"travel_mode\"),\n",
    "    (\"dur_walking\", \"travel_mode\"),\n",
    "    (\"dur_cycling\", \"travel_mode\"),\n",
    "    (\"dur_pt_access\", \"travel_mode\"),\n",
    "    (\"dur_pt_rail\", \"cost_transit\"),\n",
    "    (\"dur_pt_rail\", \"travel_mode\"),\n",
    "    (\"dur_pt_bus\", \"cost_transit\"),\n",
    "    (\"dur_pt_bus\", \"travel_mode\"),\n",
    "    (\"dur_pt_int\", \"travel_mode\"),\n",
    "    (\"cost_transit\", \"travel_mode\"),\n",
    "    (\"hh_borough\", \"hh_income\"),\n",
    "    (\"hh_borough\", \"travel_mode\"),\n",
    "    (\"hh_borough\", \"distance\"),\n",
    "    (\"hh_borough\", \"hh_people\"),\n",
    "    (\"hh_income\", \"hh_vehicles\"),\n",
    "    (\"hh_income\", \"age\"),\n",
    "    (\"hh_income\", \"hh_people\"),\n",
    "    (\"hh_people\", \"age\"),\n",
    "    (\"hh_people\", \"female\"),\n",
    "    (\"hh_people\", \"hh_vehicles\")\n",
    "])"
   ],
   "metadata": {
    "collapsed": false,
    "pycharm": {
     "name": "#%%\n"
    }
   }
  },
  {
   "cell_type": "code",
   "execution_count": 6,
   "outputs": [],
   "source": [
    "name = 'LPMC_cond'"
   ],
   "metadata": {
    "collapsed": false,
    "pycharm": {
     "name": "#%%\n"
    }
   }
  },
  {
   "cell_type": "code",
   "execution_count": 7,
   "outputs": [],
   "source": [
    "output_folder = '../output/{}/'.format(name)"
   ],
   "metadata": {
    "collapsed": false,
    "pycharm": {
     "name": "#%%\n"
    }
   }
  },
  {
   "cell_type": "code",
   "execution_count": 8,
   "outputs": [],
   "source": [
    "datgan = DATGAN(output=output_folder,\n",
    "                loss_function='WGGP',\n",
    "                conditional_inputs=['age', 'female', 'hh_borough'],\n",
    "                batch_size=1101,\n",
    "                num_epochs=1000)"
   ],
   "metadata": {
    "collapsed": false,
    "pycharm": {
     "name": "#%%\n"
    }
   }
  },
  {
   "cell_type": "code",
   "execution_count": 9,
   "outputs": [
    {
     "name": "stdout",
     "output_type": "stream",
     "text": [
      "Preprocessed data have been loaded!\n",
      "Start training DATGAN with the WGGP loss (05/05/2022 13:17:25).\n",
      "Restored models from epoch 1000.\n"
     ]
    },
    {
     "name": "stderr",
     "output_type": "stream",
     "text": [
      "Training DATGAN: 0it [00:00, ?it/s]"
     ]
    },
    {
     "name": "stdout",
     "output_type": "stream",
     "text": [
      "DATGAN has finished training (05/05/2022 13:17:28) - Training time: 03 seconds\n"
     ]
    },
    {
     "name": "stderr",
     "output_type": "stream",
     "text": [
      "\n"
     ]
    }
   ],
   "source": [
    "datgan.fit(df, data_info, graph, preprocessed_data_path='../output/encoded_LPMC')"
   ],
   "metadata": {
    "collapsed": false,
    "pycharm": {
     "name": "#%%\n"
    }
   }
  },
  {
   "cell_type": "code",
   "execution_count": 11,
   "outputs": [
    {
     "name": "stderr",
     "output_type": "stream",
     "text": [
      "\n",
      "Sampling from DATGAN:   0%|          | 0/16904 [00:00<?, ?it/s]\u001B[A\n",
      "Sampling from DATGAN:   6%|▋         | 1095/16904 [00:01<00:18, 836.87it/s]\u001B[A\n",
      "Sampling from DATGAN:  13%|█▎        | 2189/16904 [00:02<00:17, 838.29it/s]\u001B[A\n",
      "Sampling from DATGAN:  19%|█▉        | 3278/16904 [00:03<00:16, 835.28it/s]\u001B[A\n",
      "Sampling from DATGAN:  26%|██▌       | 4374/16904 [00:05<00:14, 840.74it/s]\u001B[A\n",
      "Sampling from DATGAN:  32%|███▏      | 5464/16904 [00:06<00:13, 842.54it/s]\u001B[A\n",
      "Sampling from DATGAN:  39%|███▉      | 6559/16904 [00:08<00:12, 798.56it/s]\u001B[A\n",
      "Sampling from DATGAN:  45%|████▌     | 7656/16904 [00:09<00:11, 810.31it/s]\u001B[A\n",
      "Sampling from DATGAN:  52%|█████▏    | 8749/16904 [00:10<00:09, 819.46it/s]\u001B[A\n",
      "Sampling from DATGAN:  58%|█████▊    | 9839/16904 [00:11<00:08, 825.78it/s]\u001B[A\n",
      "Sampling from DATGAN:  65%|██████▍   | 10935/16904 [00:13<00:07, 833.76it/s]\u001B[A\n",
      "Sampling from DATGAN:  71%|███████   | 12027/16904 [00:14<00:05, 839.65it/s]\u001B[A\n",
      "Sampling from DATGAN:  78%|███████▊  | 13124/16904 [00:15<00:04, 843.66it/s]\u001B[A\n",
      "Sampling from DATGAN:  84%|████████▍ | 14219/16904 [00:17<00:03, 843.25it/s]\u001B[A\n",
      "Sampling from DATGAN:  91%|█████████ | 15307/16904 [00:18<00:01, 834.59it/s]\u001B[A\n",
      "Sampling from DATGAN:  97%|█████████▋| 16401/16904 [00:19<00:00, 837.82it/s]\u001B[A\n",
      "Sampling from DATGAN: 100%|██████████| 16904/16904 [00:22<00:00, 760.04it/s]\u001B[A\n",
      "\n",
      "Sampling from DATGAN:   0%|          | 0/16904 [00:00<?, ?it/s]\u001B[A\n",
      "Sampling from DATGAN:   6%|▋         | 1094/16904 [00:01<00:18, 859.88it/s]\u001B[A\n",
      "Sampling from DATGAN:  13%|█▎        | 2185/16904 [00:02<00:17, 853.22it/s]\u001B[A\n",
      "Sampling from DATGAN:  19%|█▉        | 3280/16904 [00:03<00:16, 838.31it/s]\u001B[A\n",
      "Sampling from DATGAN:  26%|██▌       | 4373/16904 [00:05<00:15, 832.39it/s]\u001B[A\n",
      "Sampling from DATGAN:  32%|███▏      | 5468/16904 [00:06<00:13, 840.54it/s]\u001B[A\n",
      "Sampling from DATGAN:  39%|███▉      | 6561/16904 [00:07<00:12, 845.10it/s]\u001B[A\n",
      "Sampling from DATGAN:  45%|████▌     | 7652/16904 [00:09<00:10, 848.38it/s]\u001B[A\n",
      "Sampling from DATGAN:  52%|█████▏    | 8745/16904 [00:10<00:09, 841.01it/s]\u001B[A\n",
      "Sampling from DATGAN:  58%|█████▊    | 9838/16904 [00:11<00:08, 838.83it/s]\u001B[A\n",
      "Sampling from DATGAN:  65%|██████▍   | 10928/16904 [00:12<00:07, 845.98it/s]\u001B[A\n",
      "Sampling from DATGAN:  71%|███████   | 12018/16904 [00:14<00:05, 848.69it/s]\u001B[A\n",
      "Sampling from DATGAN:  78%|███████▊  | 13113/16904 [00:15<00:04, 852.61it/s]\u001B[A\n",
      "Sampling from DATGAN:  84%|████████▍ | 14200/16904 [00:16<00:03, 852.05it/s]\u001B[A\n",
      "Sampling from DATGAN:  90%|█████████ | 15297/16904 [00:18<00:01, 852.12it/s]\u001B[A\n",
      "Sampling from DATGAN:  97%|█████████▋| 16394/16904 [00:19<00:00, 855.08it/s]\u001B[A\n",
      "Sampling from DATGAN: 100%|██████████| 16904/16904 [00:21<00:00, 770.87it/s]\u001B[A\n",
      "\n",
      "Sampling from DATGAN:   0%|          | 0/16904 [00:00<?, ?it/s]\u001B[A\n",
      "Sampling from DATGAN:   6%|▋         | 1093/16904 [00:01<00:18, 861.46it/s]\u001B[A\n",
      "Sampling from DATGAN:  13%|█▎        | 2190/16904 [00:02<00:17, 852.14it/s]\u001B[A\n",
      "Sampling from DATGAN:  19%|█▉        | 3281/16904 [00:03<00:16, 847.54it/s]\u001B[A\n",
      "Sampling from DATGAN:  26%|██▌       | 4374/16904 [00:05<00:14, 847.54it/s]\u001B[A\n",
      "Sampling from DATGAN:  32%|███▏      | 5464/16904 [00:06<00:13, 847.76it/s]\u001B[A\n",
      "Sampling from DATGAN:  39%|███▉      | 6557/16904 [00:07<00:12, 841.76it/s]\u001B[A\n",
      "Sampling from DATGAN:  45%|████▌     | 7653/16904 [00:09<00:10, 845.04it/s]\u001B[A\n",
      "Sampling from DATGAN:  52%|█████▏    | 8746/16904 [00:10<00:09, 853.26it/s]\u001B[A\n",
      "Sampling from DATGAN:  58%|█████▊    | 9830/16904 [00:11<00:08, 854.74it/s]\u001B[A\n",
      "Sampling from DATGAN:  65%|██████▍   | 10927/16904 [00:12<00:06, 860.53it/s]\u001B[A\n",
      "Sampling from DATGAN:  71%|███████   | 12022/16904 [00:14<00:05, 862.95it/s]\u001B[A\n",
      "Sampling from DATGAN:  78%|███████▊  | 13117/16904 [00:15<00:04, 864.89it/s]\u001B[A\n",
      "Sampling from DATGAN:  84%|████████▍ | 14213/16904 [00:16<00:03, 864.52it/s]\u001B[A\n",
      "Sampling from DATGAN:  91%|█████████ | 15306/16904 [00:17<00:01, 857.81it/s]\u001B[A\n",
      "Sampling from DATGAN:  97%|█████████▋| 16396/16904 [00:19<00:00, 859.00it/s]\u001B[A\n",
      "Sampling from DATGAN: 100%|██████████| 16904/16904 [00:21<00:00, 778.59it/s]\u001B[A\n",
      "\n",
      "Sampling from DATGAN:   0%|          | 0/16904 [00:00<?, ?it/s]\u001B[A\n",
      "Sampling from DATGAN:   6%|▋         | 1094/16904 [00:01<00:18, 862.25it/s]\u001B[A\n",
      "Sampling from DATGAN:  13%|█▎        | 2189/16904 [00:02<00:17, 852.09it/s]\u001B[A\n",
      "Sampling from DATGAN:  19%|█▉        | 3283/16904 [00:03<00:15, 852.17it/s]\u001B[A\n",
      "Sampling from DATGAN:  26%|██▌       | 4382/16904 [00:05<00:14, 851.28it/s]\u001B[A\n",
      "Sampling from DATGAN:  32%|███▏      | 5476/16904 [00:06<00:13, 843.89it/s]\u001B[A\n",
      "Sampling from DATGAN:  39%|███▉      | 6572/16904 [00:07<00:12, 844.27it/s]\u001B[A\n",
      "Sampling from DATGAN:  45%|████▌     | 7672/16904 [00:09<00:10, 853.41it/s]\u001B[A\n",
      "Sampling from DATGAN:  52%|█████▏    | 8766/16904 [00:10<00:09, 857.36it/s]\u001B[A\n",
      "Sampling from DATGAN:  58%|█████▊    | 9863/16904 [00:11<00:08, 858.37it/s]\u001B[A\n",
      "Sampling from DATGAN:  65%|██████▍   | 10958/16904 [00:12<00:06, 860.22it/s]\u001B[A\n",
      "Sampling from DATGAN:  71%|███████▏  | 12051/16904 [00:14<00:05, 861.11it/s]\u001B[A\n",
      "Sampling from DATGAN:  78%|███████▊  | 13146/16904 [00:15<00:04, 859.99it/s]\u001B[A\n",
      "Sampling from DATGAN:  84%|████████▍ | 14241/16904 [00:16<00:03, 861.11it/s]\u001B[A\n",
      "Sampling from DATGAN:  91%|█████████ | 15331/16904 [00:17<00:01, 859.23it/s]\u001B[A\n",
      "Sampling from DATGAN:  97%|█████████▋| 16424/16904 [00:19<00:00, 855.18it/s]\u001B[A\n",
      "Sampling from DATGAN: 100%|██████████| 16904/16904 [00:21<00:00, 777.16it/s]\u001B[A\n",
      "\n",
      "Sampling from DATGAN:   0%|          | 0/16904 [00:00<?, ?it/s]\u001B[A\n",
      "Sampling from DATGAN:   6%|▋         | 1092/16904 [00:01<00:18, 849.88it/s]\u001B[A\n",
      "Sampling from DATGAN:  13%|█▎        | 2188/16904 [00:02<00:17, 843.38it/s]\u001B[A\n",
      "Sampling from DATGAN:  19%|█▉        | 3280/16904 [00:03<00:16, 841.68it/s]\u001B[A\n",
      "Sampling from DATGAN:  26%|██▌       | 4373/16904 [00:05<00:15, 829.44it/s]\u001B[A\n",
      "Sampling from DATGAN:  32%|███▏      | 5469/16904 [00:06<00:14, 811.51it/s]\u001B[A\n",
      "Sampling from DATGAN:  39%|███▉      | 6561/16904 [00:08<00:15, 674.43it/s]\u001B[A\n",
      "Sampling from DATGAN:  45%|████▌     | 7660/16904 [00:10<00:13, 674.99it/s]\u001B[A\n",
      "Sampling from DATGAN:  52%|█████▏    | 8752/16904 [00:11<00:11, 692.23it/s]\u001B[A\n",
      "Sampling from DATGAN:  58%|█████▊    | 9850/16904 [00:13<00:09, 710.82it/s]\u001B[A\n",
      "Sampling from DATGAN:  65%|██████▍   | 10941/16904 [00:14<00:08, 720.31it/s]\u001B[A\n",
      "Sampling from DATGAN:  71%|███████   | 12032/16904 [00:16<00:06, 731.19it/s]\u001B[A\n",
      "Sampling from DATGAN:  78%|███████▊  | 13121/16904 [00:17<00:05, 748.64it/s]\u001B[A\n",
      "Sampling from DATGAN:  84%|████████▍ | 14217/16904 [00:19<00:03, 732.26it/s]\u001B[A\n",
      "Sampling from DATGAN:  91%|█████████ | 15311/16904 [00:20<00:02, 751.80it/s]\u001B[A\n",
      "Sampling from DATGAN:  97%|█████████▋| 16404/16904 [00:21<00:00, 776.23it/s]\u001B[A\n",
      "Sampling from DATGAN: 100%|██████████| 16904/16904 [00:24<00:00, 687.26it/s]\u001B[A\n"
     ]
    }
   ],
   "source": [
    "for i in range(5):\n",
    "    samp = datgan.sample(len(df), inputs=df[datgan.conditional_inputs], randomize=False)\n",
    "    samp.to_csv('../../data/synthetic/test/ciDATGAN_{:02d}.csv'.format(i+1), index=False)"
   ],
   "metadata": {
    "collapsed": false,
    "pycharm": {
     "name": "#%%\n"
    }
   }
  },
  {
   "cell_type": "markdown",
   "source": [
    "## All the boroughs"
   ],
   "metadata": {
    "collapsed": false,
    "pycharm": {
     "name": "#%% md\n"
    }
   }
  },
  {
   "cell_type": "code",
   "execution_count": 10,
   "outputs": [
    {
     "name": "stdout",
     "output_type": "stream",
     "text": [
      "Sampling for Bexley (1/33)\n"
     ]
    },
    {
     "name": "stderr",
     "output_type": "stream",
     "text": [
      "Sampling from DATGAN: 100%|██████████| 231997/231997 [04:44<00:00, 815.27it/s]\n"
     ]
    },
    {
     "name": "stdout",
     "output_type": "stream",
     "text": [
      "Sampling for Harrow (2/33)\n"
     ]
    },
    {
     "name": "stderr",
     "output_type": "stream",
     "text": [
      "Sampling from DATGAN: 100%|██████████| 239056/239056 [04:47<00:00, 830.07it/s]\n"
     ]
    },
    {
     "name": "stdout",
     "output_type": "stream",
     "text": [
      "Sampling for Lambeth (3/33)\n"
     ]
    },
    {
     "name": "stderr",
     "output_type": "stream",
     "text": [
      "Sampling from DATGAN: 100%|██████████| 303086/303086 [06:04<00:00, 831.90it/s]\n"
     ]
    },
    {
     "name": "stdout",
     "output_type": "stream",
     "text": [
      "Sampling for Hackney (4/33)\n"
     ]
    },
    {
     "name": "stderr",
     "output_type": "stream",
     "text": [
      "Sampling from DATGAN: 100%|██████████| 246270/246270 [04:55<00:00, 833.26it/s]\n"
     ]
    },
    {
     "name": "stdout",
     "output_type": "stream",
     "text": [
      "Sampling for Bromley (5/33)\n"
     ]
    },
    {
     "name": "stderr",
     "output_type": "stream",
     "text": [
      "Sampling from DATGAN: 100%|██████████| 309392/309392 [06:10<00:00, 835.55it/s]\n"
     ]
    },
    {
     "name": "stdout",
     "output_type": "stream",
     "text": [
      "Sampling for Haringey (6/33)\n"
     ]
    },
    {
     "name": "stderr",
     "output_type": "stream",
     "text": [
      "Sampling from DATGAN: 100%|██████████| 254926/254926 [05:02<00:00, 842.60it/s]\n"
     ]
    },
    {
     "name": "stdout",
     "output_type": "stream",
     "text": [
      "Sampling for Hounslow (7/33)\n"
     ]
    },
    {
     "name": "stderr",
     "output_type": "stream",
     "text": [
      "Sampling from DATGAN: 100%|██████████| 253957/253957 [05:02<00:00, 838.94it/s]\n"
     ]
    },
    {
     "name": "stdout",
     "output_type": "stream",
     "text": [
      "Sampling for Tower Hamlets (8/33)\n"
     ]
    },
    {
     "name": "stderr",
     "output_type": "stream",
     "text": [
      "Sampling from DATGAN: 100%|██████████| 254096/254096 [05:02<00:00, 840.17it/s]\n"
     ]
    },
    {
     "name": "stdout",
     "output_type": "stream",
     "text": [
      "Sampling for Richmond upon Thames (9/33)\n"
     ]
    },
    {
     "name": "stderr",
     "output_type": "stream",
     "text": [
      "Sampling from DATGAN: 100%|██████████| 186990/186990 [03:42<00:00, 842.27it/s]\n"
     ]
    },
    {
     "name": "stdout",
     "output_type": "stream",
     "text": [
      "Sampling for Camden (10/33)\n"
     ]
    },
    {
     "name": "stderr",
     "output_type": "stream",
     "text": [
      "Sampling from DATGAN: 100%|██████████| 220338/220338 [04:22<00:00, 840.13it/s]\n"
     ]
    },
    {
     "name": "stdout",
     "output_type": "stream",
     "text": [
      "Sampling for Merton (11/33)\n"
     ]
    },
    {
     "name": "stderr",
     "output_type": "stream",
     "text": [
      "Sampling from DATGAN: 100%|██████████| 199693/199693 [03:56<00:00, 842.80it/s]\n"
     ]
    },
    {
     "name": "stdout",
     "output_type": "stream",
     "text": [
      "Sampling for Kingston upon Thames (12/33)\n"
     ]
    },
    {
     "name": "stderr",
     "output_type": "stream",
     "text": [
      "Sampling from DATGAN: 100%|██████████| 160060/160060 [03:10<00:00, 839.84it/s]\n"
     ]
    },
    {
     "name": "stdout",
     "output_type": "stream",
     "text": [
      "Sampling for Brent (13/33)\n"
     ]
    },
    {
     "name": "stderr",
     "output_type": "stream",
     "text": [
      "Sampling from DATGAN: 100%|██████████| 311215/311215 [06:11<00:00, 838.26it/s]\n"
     ]
    },
    {
     "name": "stdout",
     "output_type": "stream",
     "text": [
      "Sampling for Hillingdon (14/33)\n"
     ]
    },
    {
     "name": "stderr",
     "output_type": "stream",
     "text": [
      "Sampling from DATGAN: 100%|██████████| 273936/273936 [05:26<00:00, 840.16it/s]\n"
     ]
    },
    {
     "name": "stdout",
     "output_type": "stream",
     "text": [
      "Sampling for Croydon (15/33)\n"
     ]
    },
    {
     "name": "stderr",
     "output_type": "stream",
     "text": [
      "Sampling from DATGAN: 100%|██████████| 363378/363378 [07:14<00:00, 836.14it/s]\n"
     ]
    },
    {
     "name": "stdout",
     "output_type": "stream",
     "text": [
      "Sampling for Barnet (16/33)\n"
     ]
    },
    {
     "name": "stderr",
     "output_type": "stream",
     "text": [
      "Sampling from DATGAN: 100%|██████████| 356386/356386 [07:06<00:00, 834.89it/s]\n"
     ]
    },
    {
     "name": "stdout",
     "output_type": "stream",
     "text": [
      "Sampling for Havering (17/33)\n"
     ]
    },
    {
     "name": "stderr",
     "output_type": "stream",
     "text": [
      "Sampling from DATGAN: 100%|██████████| 237232/237232 [04:43<00:00, 838.05it/s]\n"
     ]
    },
    {
     "name": "stdout",
     "output_type": "stream",
     "text": [
      "Sampling for Enfield (18/33)\n"
     ]
    },
    {
     "name": "stderr",
     "output_type": "stream",
     "text": [
      "Sampling from DATGAN: 100%|██████████| 312466/312466 [06:13<00:00, 837.70it/s]\n"
     ]
    },
    {
     "name": "stdout",
     "output_type": "stream",
     "text": [
      "Sampling for Southwark (19/33)\n"
     ]
    },
    {
     "name": "stderr",
     "output_type": "stream",
     "text": [
      "Sampling from DATGAN: 100%|██████████| 288283/288283 [05:43<00:00, 838.47it/s]\n"
     ]
    },
    {
     "name": "stdout",
     "output_type": "stream",
     "text": [
      "Sampling for Hammersmith & Fulham (20/33)\n"
     ]
    },
    {
     "name": "stderr",
     "output_type": "stream",
     "text": [
      "Sampling from DATGAN: 100%|██████████| 182493/182493 [03:37<00:00, 840.37it/s]\n"
     ]
    },
    {
     "name": "stdout",
     "output_type": "stream",
     "text": [
      "Sampling for Wandsworth (21/33)\n"
     ]
    },
    {
     "name": "stderr",
     "output_type": "stream",
     "text": [
      "Sampling from DATGAN: 100%|██████████| 306995/306995 [06:07<00:00, 834.89it/s]\n"
     ]
    },
    {
     "name": "stdout",
     "output_type": "stream",
     "text": [
      "Sampling for Newham (22/33)\n"
     ]
    },
    {
     "name": "stderr",
     "output_type": "stream",
     "text": [
      "Sampling from DATGAN: 100%|██████████| 307984/307984 [06:07<00:00, 838.14it/s]\n"
     ]
    },
    {
     "name": "stdout",
     "output_type": "stream",
     "text": [
      "Sampling for Barking and Dagenham (23/33)\n"
     ]
    },
    {
     "name": "stderr",
     "output_type": "stream",
     "text": [
      "Sampling from DATGAN: 100%|██████████| 185911/185911 [03:41<00:00, 841.18it/s]\n"
     ]
    },
    {
     "name": "stdout",
     "output_type": "stream",
     "text": [
      "Sampling for Ealing (24/33)\n"
     ]
    },
    {
     "name": "stderr",
     "output_type": "stream",
     "text": [
      "Sampling from DATGAN: 100%|██████████| 338449/338449 [06:45<00:00, 835.32it/s]\n"
     ]
    },
    {
     "name": "stdout",
     "output_type": "stream",
     "text": [
      "Sampling for Kensington and Chelsea (25/33)\n"
     ]
    },
    {
     "name": "stderr",
     "output_type": "stream",
     "text": [
      "Sampling from DATGAN: 100%|██████████| 158649/158649 [03:08<00:00, 843.23it/s]\n"
     ]
    },
    {
     "name": "stdout",
     "output_type": "stream",
     "text": [
      "Sampling for Redbridge (26/33)\n"
     ]
    },
    {
     "name": "stderr",
     "output_type": "stream",
     "text": [
      "Sampling from DATGAN: 100%|██████████| 278970/278970 [05:32<00:00, 839.15it/s]\n"
     ]
    },
    {
     "name": "stdout",
     "output_type": "stream",
     "text": [
      "Sampling for Waltham Forest (27/33)\n"
     ]
    },
    {
     "name": "stderr",
     "output_type": "stream",
     "text": [
      "Sampling from DATGAN: 100%|██████████| 258249/258249 [05:08<00:00, 838.24it/s]\n"
     ]
    },
    {
     "name": "stdout",
     "output_type": "stream",
     "text": [
      "Sampling for Islington (28/33)\n"
     ]
    },
    {
     "name": "stderr",
     "output_type": "stream",
     "text": [
      "Sampling from DATGAN: 100%|██████████| 206125/206125 [04:06<00:00, 835.74it/s]\n"
     ]
    },
    {
     "name": "stdout",
     "output_type": "stream",
     "text": [
      "Sampling for Sutton (29/33)\n"
     ]
    },
    {
     "name": "stderr",
     "output_type": "stream",
     "text": [
      "Sampling from DATGAN: 100%|██████████| 190146/190146 [03:46<00:00, 839.85it/s]\n"
     ]
    },
    {
     "name": "stdout",
     "output_type": "stream",
     "text": [
      "Sampling for Greenwich (30/33)\n"
     ]
    },
    {
     "name": "stderr",
     "output_type": "stream",
     "text": [
      "Sampling from DATGAN: 100%|██████████| 254557/254557 [05:02<00:00, 840.47it/s]\n"
     ]
    },
    {
     "name": "stdout",
     "output_type": "stream",
     "text": [
      "Sampling for City of London (31/33)\n"
     ]
    },
    {
     "name": "stderr",
     "output_type": "stream",
     "text": [
      "Sampling from DATGAN: 100%|██████████| 7375/7375 [00:11<00:00, 635.93it/s]\n"
     ]
    },
    {
     "name": "stdout",
     "output_type": "stream",
     "text": [
      "Sampling for Lewisham (32/33)\n"
     ]
    },
    {
     "name": "stderr",
     "output_type": "stream",
     "text": [
      "Sampling from DATGAN: 100%|██████████| 275885/275885 [05:31<00:00, 833.24it/s]\n"
     ]
    },
    {
     "name": "stdout",
     "output_type": "stream",
     "text": [
      "Sampling for Westminster (33/33)\n"
     ]
    },
    {
     "name": "stderr",
     "output_type": "stream",
     "text": [
      "Sampling from DATGAN: 100%|██████████| 219396/219396 [04:21<00:00, 839.07it/s]\n"
     ]
    }
   ],
   "source": [
    "count = 1\n",
    "for r in df.hh_borough.unique():\n",
    "\n",
    "    tmp = pd.read_csv('../../data/nomis/{}.csv'.format(r))\n",
    "\n",
    "    print('Sampling for {} ({}/{})'.format(r, count, len(df.hh_borough.unique())))\n",
    "\n",
    "    samp = datgan.sample(len(tmp), inputs=tmp, randomize=False)\n",
    "\n",
    "    samp.to_csv('../../data/synthetic/ciDATGAN/{}.csv'.format(r), index=False)\n",
    "\n",
    "    count += 1"
   ],
   "metadata": {
    "collapsed": false,
    "pycharm": {
     "name": "#%%\n"
    }
   }
  },
  {
   "cell_type": "code",
   "execution_count": null,
   "outputs": [],
   "source": [],
   "metadata": {
    "collapsed": false,
    "pycharm": {
     "name": "#%%\n"
    }
   }
  }
 ],
 "metadata": {
  "kernelspec": {
   "name": "dev",
   "language": "python",
   "display_name": "dev"
  },
  "language_info": {
   "codemirror_mode": {
    "name": "ipython",
    "version": 2
   },
   "file_extension": ".py",
   "mimetype": "text/x-python",
   "name": "python",
   "nbconvert_exporter": "python",
   "pygments_lexer": "ipython2",
   "version": "2.7.6"
  }
 },
 "nbformat": 4,
 "nbformat_minor": 0
}