{
 "cells": [
  {
   "cell_type": "code",
   "execution_count": 1,
   "metadata": {
    "collapsed": true
   },
   "outputs": [],
   "source": [
    "from datgan import DATGAN\n",
    "import datgan\n",
    "\n",
    "import numpy as np\n",
    "import pandas as pd\n",
    "import networkx as nx\n",
    "\n",
    "# For the Python notebook\n",
    "%matplotlib inline\n",
    "%reload_ext autoreload\n",
    "%autoreload 2"
   ]
  },
  {
   "cell_type": "code",
   "execution_count": 2,
   "outputs": [],
   "source": [
    "df = pd.read_csv('../../data/LPMC/trips.csv', index_col=False)"
   ],
   "metadata": {
    "collapsed": false,
    "pycharm": {
     "name": "#%%\n"
    }
   }
  },
  {
   "cell_type": "code",
   "execution_count": 3,
   "outputs": [
    {
     "data": {
      "text/plain": "  travel_mode purpose     fueltype faretype  bus_scale  travel_year  \\\n0       drive     HBO   Diesel_Car     full        1.0         2012   \n1       drive     HBW   Diesel_Car     full        1.0         2013   \n2          pt     HBO  Average_Car     full        0.5         2014   \n3          pt     HBE  Average_Car      dis        0.5         2014   \n4        walk     HBW   Petrol_Car     full        1.0         2013   \n\n   travel_month  travel_date  day_of_week  start_time_linear  ...  \\\n0             8            7            2          20.000000  ...   \n1             2            8            5          15.000000  ...   \n2            10            8            3          14.000000  ...   \n3             3           10            1          10.500000  ...   \n4             1           24            4          16.833333  ...   \n\n   dur_driving  cost_transit  cost_driving_fuel  cost_driving_con_charge  \\\n0     0.208611          1.50               0.57                      0.0   \n1     0.471944          3.00               1.62                      0.0   \n2     0.238333          0.75               0.62                      0.0   \n3     0.308889          0.75               0.60                     10.5   \n4     0.077500          1.50               0.19                      0.0   \n\n   driving_traffic_percent  hh_vehicles  hh_borough  hh_income  hh_people  \\\n0                 0.098535            1      Bexley     35-50k          2   \n1                 0.354915            1      Harrow      5-10k          3   \n2                 0.212121            0     Lambeth     50-75k          4   \n3                 0.684353            0     Hackney     10-15k          2   \n4                 0.046595            2     Lambeth     50-75k          5   \n\n   dur_pt_int  \n0    0.000000  \n1    0.133333  \n2    0.000000  \n3    0.000000  \n4    0.000000  \n\n[5 rows x 30 columns]",
      "text/html": "<div>\n<style scoped>\n    .dataframe tbody tr th:only-of-type {\n        vertical-align: middle;\n    }\n\n    .dataframe tbody tr th {\n        vertical-align: top;\n    }\n\n    .dataframe thead th {\n        text-align: right;\n    }\n</style>\n<table border=\"1\" class=\"dataframe\">\n  <thead>\n    <tr style=\"text-align: right;\">\n      <th></th>\n      <th>travel_mode</th>\n      <th>purpose</th>\n      <th>fueltype</th>\n      <th>faretype</th>\n      <th>bus_scale</th>\n      <th>travel_year</th>\n      <th>travel_month</th>\n      <th>travel_date</th>\n      <th>day_of_week</th>\n      <th>start_time_linear</th>\n      <th>...</th>\n      <th>dur_driving</th>\n      <th>cost_transit</th>\n      <th>cost_driving_fuel</th>\n      <th>cost_driving_con_charge</th>\n      <th>driving_traffic_percent</th>\n      <th>hh_vehicles</th>\n      <th>hh_borough</th>\n      <th>hh_income</th>\n      <th>hh_people</th>\n      <th>dur_pt_int</th>\n    </tr>\n  </thead>\n  <tbody>\n    <tr>\n      <th>0</th>\n      <td>drive</td>\n      <td>HBO</td>\n      <td>Diesel_Car</td>\n      <td>full</td>\n      <td>1.0</td>\n      <td>2012</td>\n      <td>8</td>\n      <td>7</td>\n      <td>2</td>\n      <td>20.000000</td>\n      <td>...</td>\n      <td>0.208611</td>\n      <td>1.50</td>\n      <td>0.57</td>\n      <td>0.0</td>\n      <td>0.098535</td>\n      <td>1</td>\n      <td>Bexley</td>\n      <td>35-50k</td>\n      <td>2</td>\n      <td>0.000000</td>\n    </tr>\n    <tr>\n      <th>1</th>\n      <td>drive</td>\n      <td>HBW</td>\n      <td>Diesel_Car</td>\n      <td>full</td>\n      <td>1.0</td>\n      <td>2013</td>\n      <td>2</td>\n      <td>8</td>\n      <td>5</td>\n      <td>15.000000</td>\n      <td>...</td>\n      <td>0.471944</td>\n      <td>3.00</td>\n      <td>1.62</td>\n      <td>0.0</td>\n      <td>0.354915</td>\n      <td>1</td>\n      <td>Harrow</td>\n      <td>5-10k</td>\n      <td>3</td>\n      <td>0.133333</td>\n    </tr>\n    <tr>\n      <th>2</th>\n      <td>pt</td>\n      <td>HBO</td>\n      <td>Average_Car</td>\n      <td>full</td>\n      <td>0.5</td>\n      <td>2014</td>\n      <td>10</td>\n      <td>8</td>\n      <td>3</td>\n      <td>14.000000</td>\n      <td>...</td>\n      <td>0.238333</td>\n      <td>0.75</td>\n      <td>0.62</td>\n      <td>0.0</td>\n      <td>0.212121</td>\n      <td>0</td>\n      <td>Lambeth</td>\n      <td>50-75k</td>\n      <td>4</td>\n      <td>0.000000</td>\n    </tr>\n    <tr>\n      <th>3</th>\n      <td>pt</td>\n      <td>HBE</td>\n      <td>Average_Car</td>\n      <td>dis</td>\n      <td>0.5</td>\n      <td>2014</td>\n      <td>3</td>\n      <td>10</td>\n      <td>1</td>\n      <td>10.500000</td>\n      <td>...</td>\n      <td>0.308889</td>\n      <td>0.75</td>\n      <td>0.60</td>\n      <td>10.5</td>\n      <td>0.684353</td>\n      <td>0</td>\n      <td>Hackney</td>\n      <td>10-15k</td>\n      <td>2</td>\n      <td>0.000000</td>\n    </tr>\n    <tr>\n      <th>4</th>\n      <td>walk</td>\n      <td>HBW</td>\n      <td>Petrol_Car</td>\n      <td>full</td>\n      <td>1.0</td>\n      <td>2013</td>\n      <td>1</td>\n      <td>24</td>\n      <td>4</td>\n      <td>16.833333</td>\n      <td>...</td>\n      <td>0.077500</td>\n      <td>1.50</td>\n      <td>0.19</td>\n      <td>0.0</td>\n      <td>0.046595</td>\n      <td>2</td>\n      <td>Lambeth</td>\n      <td>50-75k</td>\n      <td>5</td>\n      <td>0.000000</td>\n    </tr>\n  </tbody>\n</table>\n<p>5 rows × 30 columns</p>\n</div>"
     },
     "execution_count": 3,
     "metadata": {},
     "output_type": "execute_result"
    }
   ],
   "source": [
    "df.head()"
   ],
   "metadata": {
    "collapsed": false,
    "pycharm": {
     "name": "#%%\n"
    }
   }
  },
  {
   "cell_type": "code",
   "execution_count": 4,
   "outputs": [],
   "source": [
    "# First, define the specificities of continuous variables\n",
    "data_info = {\n",
    "    'start_time_linear': {\n",
    "        'type': 'continuous',\n",
    "        'bounds': [0.0, 23.999],\n",
    "        'discrete': False,\n",
    "    },\n",
    "    'age': {\n",
    "        'type': 'continuous',\n",
    "        'bounds': [0, 100],\n",
    "        'discrete': True\n",
    "    },\n",
    "    'distance': {\n",
    "        'type': 'continuous',\n",
    "        'bounds': [0, np.infty],\n",
    "        'discrete': True,\n",
    "        'apply_func': (lambda x: np.log(x+1))\n",
    "    },\n",
    "    'dur_walking': {\n",
    "        'type': 'continuous',\n",
    "        'bounds': [0, np.infty],\n",
    "        'enforce_bounds': True,\n",
    "        'discrete': False,\n",
    "        'apply_func': (lambda x: np.log(x+1))\n",
    "    },\n",
    "    'dur_cycling': {\n",
    "        'type': 'continuous',\n",
    "        'bounds': [0, np.infty],\n",
    "        'enforce_bounds': True,\n",
    "        'discrete': False,\n",
    "        'apply_func': (lambda x: np.log(x+1))\n",
    "    },\n",
    "    'dur_pt_access': {\n",
    "        'type': 'continuous',\n",
    "        'bounds': [0, np.infty],\n",
    "        'enforce_bounds': True,\n",
    "        'discrete': False,\n",
    "        'apply_func': (lambda x: np.log(x+1))\n",
    "    },\n",
    "    'dur_pt_rail': {\n",
    "        'type': 'continuous',\n",
    "        'bounds': [0, np.infty],\n",
    "        'enforce_bounds': True,\n",
    "        'discrete': False,\n",
    "    },\n",
    "    'dur_pt_bus': {\n",
    "        'type': 'continuous',\n",
    "        'bounds': [0, np.infty],\n",
    "        'enforce_bounds': True,\n",
    "        'discrete': False,\n",
    "    },\n",
    "    'dur_pt_int': {\n",
    "        'type': 'continuous',\n",
    "        'bounds': [0, np.infty],\n",
    "        'enforce_bounds': True,\n",
    "        'discrete': False,\n",
    "    },\n",
    "    'dur_driving': {\n",
    "        'type': 'continuous',\n",
    "        'bounds': [0, np.infty],\n",
    "        'enforce_bounds': True,\n",
    "        'discrete': False,\n",
    "        'apply_func': (lambda x: np.log(x+1))\n",
    "    },\n",
    "    'cost_transit': {\n",
    "        'type': 'continuous',\n",
    "        'bounds': [0, np.infty],\n",
    "        'enforce_bounds': True,\n",
    "        'discrete': False,\n",
    "    },\n",
    "    'cost_driving_fuel': {\n",
    "        'type': 'continuous',\n",
    "        'bounds': [0, np.infty],\n",
    "        'enforce_bounds': True,\n",
    "        'discrete': False,\n",
    "        'apply_func': (lambda x: np.log(x+1))\n",
    "    },\n",
    "    'driving_traffic_percent': {\n",
    "        'type': 'continuous',\n",
    "        'bounds': [0, np.infty],\n",
    "        'discrete': False,\n",
    "    },\n",
    "}\n",
    "\n",
    "# Add the other variables as categorical\n",
    "for c in df.columns:\n",
    "    if c not in data_info.keys():\n",
    "        data_info[c] = {'type': 'categorical'}"
   ],
   "metadata": {
    "collapsed": false,
    "pycharm": {
     "name": "#%%\n"
    }
   }
  },
  {
   "cell_type": "code",
   "execution_count": 5,
   "outputs": [],
   "source": [
    "# personalised graph\n",
    "graph = nx.DiGraph()\n",
    "\n",
    "graph.add_edges_from([\n",
    "    (\"travel_year\", \"travel_month\"),\n",
    "    (\"travel_date\", \"day_of_week\"),\n",
    "    (\"travel_month\", \"travel_date\"),\n",
    "    (\"travel_month\", \"driving_traffic_percent\"),\n",
    "    (\"travel_month\", \"day_of_week\"),\n",
    "    (\"travel_month\", \"travel_mode\"),\n",
    "    (\"travel_date\", \"day_of_week\"),\n",
    "    (\"day_of_week\", \"driving_traffic_percent\"),\n",
    "    (\"day_of_week\", \"cost_driving_con_charge\"),\n",
    "    (\"day_of_week\", \"purpose\"),\n",
    "    (\"day_of_week\", \"start_time_linear\"),\n",
    "    (\"day_of_week\", \"travel_mode\"),\n",
    "    (\"purpose\", \"distance\"),\n",
    "    (\"purpose\", \"start_time_linear\"),\n",
    "    (\"purpose\", \"travel_mode\"),\n",
    "    (\"start_time_linear\", \"driving_traffic_percent\"),\n",
    "    (\"start_time_linear\", \"cost_driving_con_charge\"),\n",
    "    (\"start_time_linear\", \"travel_mode\"),\n",
    "    (\"hh_vehicles\", \"fueltype\"),\n",
    "    (\"hh_vehicles\", \"driving_license\"),\n",
    "    (\"hh_vehicles\", \"travel_mode\"),\n",
    "    (\"fueltype\", \"cost_driving_con_charge\"),\n",
    "    (\"fueltype\", \"cost_driving_fuel\"),\n",
    "    (\"female\", \"driving_license\"),\n",
    "    (\"female\", \"travel_mode\"),\n",
    "    (\"age\", \"bus_scale\"),\n",
    "    (\"age\", \"driving_license\"),\n",
    "    (\"age\", \"faretype\"),\n",
    "    (\"age\", \"travel_mode\"),\n",
    "    (\"driving_license\", \"travel_mode\"),\n",
    "    (\"faretype\", \"cost_transit\"),\n",
    "    (\"faretype\", \"bus_scale\"),\n",
    "    (\"faretype\", \"travel_mode\"),\n",
    "    (\"bus_scale\", \"cost_transit\"),\n",
    "    (\"distance\", \"cost_driving_fuel\"),\n",
    "    (\"distance\", \"dur_driving\"),\n",
    "    (\"distance\", \"dur_walking\"),\n",
    "    (\"distance\", \"dur_cycling\"),\n",
    "    (\"distance\", \"dur_pt_access\"),\n",
    "    (\"distance\", \"dur_pt_rail\"),\n",
    "    (\"distance\", \"dur_pt_bus\"),\n",
    "    (\"distance\", \"dur_pt_int\"),\n",
    "    (\"distance\", \"pt_n_interchanges\"),\n",
    "    (\"distance\", \"travel_mode\"),\n",
    "    (\"pt_n_interchanges\", \"dur_pt_rail\"),\n",
    "    (\"pt_n_interchanges\", \"dur_pt_bus\"),\n",
    "    (\"pt_n_interchanges\", \"dur_pt_int\"),\n",
    "    (\"pt_n_interchanges\", \"cost_transit\"),\n",
    "    (\"driving_traffic_percent\", \"cost_driving_con_charge\"),\n",
    "    (\"driving_traffic_percent\", \"travel_mode\"),\n",
    "    (\"cost_driving_fuel\", \"cost_driving_con_charge\"),\n",
    "    (\"cost_driving_fuel\", \"travel_mode\"),\n",
    "    (\"cost_driving_con_charge\", \"travel_mode\"),\n",
    "    (\"dur_driving\", \"travel_mode\"),\n",
    "    (\"dur_walking\", \"travel_mode\"),\n",
    "    (\"dur_cycling\", \"travel_mode\"),\n",
    "    (\"dur_pt_access\", \"travel_mode\"),\n",
    "    (\"dur_pt_rail\", \"cost_transit\"),\n",
    "    (\"dur_pt_rail\", \"travel_mode\"),\n",
    "    (\"dur_pt_bus\", \"cost_transit\"),\n",
    "    (\"dur_pt_bus\", \"travel_mode\"),\n",
    "    (\"dur_pt_int\", \"travel_mode\"),\n",
    "    (\"cost_transit\", \"travel_mode\"),\n",
    "    (\"hh_borough\", \"hh_income\"),\n",
    "    (\"hh_borough\", \"travel_mode\"),\n",
    "    (\"hh_income\", \"hh_vehicles\"),\n",
    "    (\"hh_income\", \"age\"),\n",
    "    (\"hh_income\", \"hh_people\"),\n",
    "    (\"hh_people\", \"age\"),\n",
    "    (\"hh_people\", \"female\")\n",
    "])\n"
   ],
   "metadata": {
    "collapsed": false,
    "pycharm": {
     "name": "#%%\n"
    }
   }
  },
  {
   "cell_type": "code",
   "execution_count": 7,
   "outputs": [],
   "source": [
    "name = 'LPMC_cond'"
   ],
   "metadata": {
    "collapsed": false,
    "pycharm": {
     "name": "#%%\n"
    }
   }
  },
  {
   "cell_type": "code",
   "execution_count": 8,
   "outputs": [],
   "source": [
    "output_folder = '../output/{}/'.format(name)"
   ],
   "metadata": {
    "collapsed": false,
    "pycharm": {
     "name": "#%%\n"
    }
   }
  },
  {
   "cell_type": "code",
   "execution_count": 9,
   "outputs": [],
   "source": [
    "datgan = DATGAN(output=output_folder,\n",
    "                loss_function='WGGP',\n",
    "                conditional_inputs=['age', 'female', 'hh_borough'],\n",
    "                batch_size=1101,\n",
    "                num_epochs=1000)"
   ],
   "metadata": {
    "collapsed": false,
    "pycharm": {
     "name": "#%%\n"
    }
   }
  },
  {
   "cell_type": "code",
   "execution_count": null,
   "outputs": [
    {
     "name": "stdout",
     "output_type": "stream",
     "text": [
      "Preprocessed data have been loaded!\n",
      "Start training DATGAN with the WGGP loss (04/05/2022 13:47:40).\n"
     ]
    },
    {
     "name": "stderr",
     "output_type": "stream",
     "text": [
      "Training DATGAN:  51%|█████     | 512/1000 [33:41<31:21,  3.86s/it]  "
     ]
    }
   ],
   "source": [
    "datgan.fit(df, data_info, graph, preprocessed_data_path='../output/encoded_LPMC')"
   ],
   "metadata": {
    "collapsed": false,
    "pycharm": {
     "name": "#%%\n",
     "is_executing": true
    }
   }
  },
  {
   "cell_type": "code",
   "execution_count": 11,
   "outputs": [
    {
     "name": "stderr",
     "output_type": "stream",
     "text": [
      "Sampling from DATGAN: 100%|██████████| 16904/16904 [00:23<00:00, 717.82it/s]\n",
      "Sampling from DATGAN: 100%|██████████| 16904/16904 [00:21<00:00, 797.91it/s]\n",
      "Sampling from DATGAN: 100%|██████████| 16904/16904 [00:21<00:00, 773.76it/s]\n",
      "Sampling from DATGAN: 100%|██████████| 16904/16904 [00:20<00:00, 821.44it/s]\n",
      "Sampling from DATGAN: 100%|██████████| 16904/16904 [00:21<00:00, 769.14it/s]\n",
      "Sampling from DATGAN: 100%|██████████| 16904/16904 [00:20<00:00, 823.22it/s]\n",
      "Sampling from DATGAN: 100%|██████████| 16904/16904 [00:23<00:00, 727.25it/s]\n",
      "Sampling from DATGAN: 100%|██████████| 16904/16904 [00:20<00:00, 826.43it/s]\n",
      "Sampling from DATGAN: 100%|██████████| 16904/16904 [00:21<00:00, 772.81it/s]\n",
      "Sampling from DATGAN: 100%|██████████| 16904/16904 [00:20<00:00, 835.58it/s]\n"
     ]
    }
   ],
   "source": [
    "for i in range(5):\n",
    "    samp = datgan.sample(len(df), inputs=df[datgan.conditional_inputs], randomize=False)\n",
    "    samp.to_csv('../../data/synthetic/test/ciDATGAN_{:02d}.csv'.format(i+1), index=False)"
   ],
   "metadata": {
    "collapsed": false,
    "pycharm": {
     "name": "#%%\n"
    }
   }
  },
  {
   "cell_type": "markdown",
   "source": [
    "## All the boroughs"
   ],
   "metadata": {
    "collapsed": false,
    "pycharm": {
     "name": "#%% md\n"
    }
   }
  },
  {
   "cell_type": "code",
   "execution_count": 10,
   "outputs": [
    {
     "name": "stdout",
     "output_type": "stream",
     "text": [
      "Sampling for Bexley (1/33)\n"
     ]
    },
    {
     "name": "stderr",
     "output_type": "stream",
     "text": [
      "Sampling from DATGAN: 100%|██████████| 231997/231997 [04:48<00:00, 803.48it/s]\n"
     ]
    },
    {
     "name": "stdout",
     "output_type": "stream",
     "text": [
      "Sampling for Harrow (2/33)\n"
     ]
    },
    {
     "name": "stderr",
     "output_type": "stream",
     "text": [
      "Sampling from DATGAN: 100%|██████████| 239056/239056 [04:50<00:00, 823.59it/s]\n"
     ]
    },
    {
     "name": "stdout",
     "output_type": "stream",
     "text": [
      "Sampling for Lambeth (3/33)\n"
     ]
    },
    {
     "name": "stderr",
     "output_type": "stream",
     "text": [
      "Sampling from DATGAN: 100%|██████████| 303086/303086 [06:09<00:00, 820.08it/s]\n"
     ]
    },
    {
     "name": "stdout",
     "output_type": "stream",
     "text": [
      "Sampling for Hackney (4/33)\n"
     ]
    },
    {
     "name": "stderr",
     "output_type": "stream",
     "text": [
      "Sampling from DATGAN: 100%|██████████| 246270/246270 [04:57<00:00, 828.92it/s]\n"
     ]
    },
    {
     "name": "stdout",
     "output_type": "stream",
     "text": [
      "Sampling for Bromley (5/33)\n"
     ]
    },
    {
     "name": "stderr",
     "output_type": "stream",
     "text": [
      "Sampling from DATGAN: 100%|██████████| 309392/309392 [06:11<00:00, 833.25it/s]\n"
     ]
    },
    {
     "name": "stdout",
     "output_type": "stream",
     "text": [
      "Sampling for Haringey (6/33)\n"
     ]
    },
    {
     "name": "stderr",
     "output_type": "stream",
     "text": [
      "Sampling from DATGAN: 100%|██████████| 254926/254926 [05:05<00:00, 834.86it/s]\n"
     ]
    },
    {
     "name": "stdout",
     "output_type": "stream",
     "text": [
      "Sampling for Hounslow (7/33)\n"
     ]
    },
    {
     "name": "stderr",
     "output_type": "stream",
     "text": [
      "Sampling from DATGAN: 100%|██████████| 253957/253957 [05:03<00:00, 836.39it/s]\n"
     ]
    },
    {
     "name": "stdout",
     "output_type": "stream",
     "text": [
      "Sampling for Tower Hamlets (8/33)\n"
     ]
    },
    {
     "name": "stderr",
     "output_type": "stream",
     "text": [
      "Sampling from DATGAN: 100%|██████████| 254096/254096 [05:04<00:00, 834.39it/s]\n"
     ]
    },
    {
     "name": "stdout",
     "output_type": "stream",
     "text": [
      "Sampling for Richmond upon Thames (9/33)\n"
     ]
    },
    {
     "name": "stderr",
     "output_type": "stream",
     "text": [
      "Sampling from DATGAN: 100%|██████████| 186990/186990 [03:49<00:00, 816.13it/s]\n"
     ]
    },
    {
     "name": "stdout",
     "output_type": "stream",
     "text": [
      "Sampling for Camden (10/33)\n"
     ]
    },
    {
     "name": "stderr",
     "output_type": "stream",
     "text": [
      "Sampling from DATGAN: 100%|██████████| 220338/220338 [04:33<00:00, 805.62it/s]\n"
     ]
    },
    {
     "name": "stdout",
     "output_type": "stream",
     "text": [
      "Sampling for Merton (11/33)\n"
     ]
    },
    {
     "name": "stderr",
     "output_type": "stream",
     "text": [
      "Sampling from DATGAN: 100%|██████████| 199693/199693 [04:04<00:00, 817.17it/s]\n"
     ]
    },
    {
     "name": "stdout",
     "output_type": "stream",
     "text": [
      "Sampling for Kingston upon Thames (12/33)\n"
     ]
    },
    {
     "name": "stderr",
     "output_type": "stream",
     "text": [
      "Sampling from DATGAN: 100%|██████████| 160060/160060 [03:13<00:00, 826.27it/s]\n"
     ]
    },
    {
     "name": "stdout",
     "output_type": "stream",
     "text": [
      "Sampling for Brent (13/33)\n"
     ]
    },
    {
     "name": "stderr",
     "output_type": "stream",
     "text": [
      "Sampling from DATGAN: 100%|██████████| 311215/311215 [06:20<00:00, 818.29it/s]\n"
     ]
    },
    {
     "name": "stdout",
     "output_type": "stream",
     "text": [
      "Sampling for Hillingdon (14/33)\n"
     ]
    },
    {
     "name": "stderr",
     "output_type": "stream",
     "text": [
      "Sampling from DATGAN: 100%|██████████| 273936/273936 [05:32<00:00, 823.46it/s]\n"
     ]
    },
    {
     "name": "stdout",
     "output_type": "stream",
     "text": [
      "Sampling for Croydon (15/33)\n"
     ]
    },
    {
     "name": "stderr",
     "output_type": "stream",
     "text": [
      "Sampling from DATGAN: 100%|██████████| 363378/363378 [07:22<00:00, 821.93it/s]\n"
     ]
    },
    {
     "name": "stdout",
     "output_type": "stream",
     "text": [
      "Sampling for Barnet (16/33)\n"
     ]
    },
    {
     "name": "stderr",
     "output_type": "stream",
     "text": [
      "Sampling from DATGAN: 100%|██████████| 356386/356386 [07:12<00:00, 823.55it/s]\n"
     ]
    },
    {
     "name": "stdout",
     "output_type": "stream",
     "text": [
      "Sampling for Havering (17/33)\n"
     ]
    },
    {
     "name": "stderr",
     "output_type": "stream",
     "text": [
      "Sampling from DATGAN: 100%|██████████| 237232/237232 [04:44<00:00, 833.09it/s]\n"
     ]
    },
    {
     "name": "stdout",
     "output_type": "stream",
     "text": [
      "Sampling for Enfield (18/33)\n"
     ]
    },
    {
     "name": "stderr",
     "output_type": "stream",
     "text": [
      "Sampling from DATGAN: 100%|██████████| 312466/312466 [06:14<00:00, 834.65it/s]\n"
     ]
    },
    {
     "name": "stdout",
     "output_type": "stream",
     "text": [
      "Sampling for Southwark (19/33)\n"
     ]
    },
    {
     "name": "stderr",
     "output_type": "stream",
     "text": [
      "Sampling from DATGAN: 100%|██████████| 288283/288283 [05:48<00:00, 827.44it/s]\n"
     ]
    },
    {
     "name": "stdout",
     "output_type": "stream",
     "text": [
      "Sampling for Hammersmith & Fulham (20/33)\n"
     ]
    },
    {
     "name": "stderr",
     "output_type": "stream",
     "text": [
      "Sampling from DATGAN: 100%|██████████| 182493/182493 [03:41<00:00, 823.83it/s]\n"
     ]
    },
    {
     "name": "stdout",
     "output_type": "stream",
     "text": [
      "Sampling for Wandsworth (21/33)\n"
     ]
    },
    {
     "name": "stderr",
     "output_type": "stream",
     "text": [
      "Sampling from DATGAN: 100%|██████████| 306995/306995 [06:13<00:00, 822.09it/s]\n"
     ]
    },
    {
     "name": "stdout",
     "output_type": "stream",
     "text": [
      "Sampling for Newham (22/33)\n"
     ]
    },
    {
     "name": "stderr",
     "output_type": "stream",
     "text": [
      "Sampling from DATGAN: 100%|██████████| 307984/307984 [06:13<00:00, 824.80it/s]\n"
     ]
    },
    {
     "name": "stdout",
     "output_type": "stream",
     "text": [
      "Sampling for Barking and Dagenham (23/33)\n"
     ]
    },
    {
     "name": "stderr",
     "output_type": "stream",
     "text": [
      "Sampling from DATGAN: 100%|██████████| 185911/185911 [03:42<00:00, 837.01it/s]\n"
     ]
    },
    {
     "name": "stdout",
     "output_type": "stream",
     "text": [
      "Sampling for Ealing (24/33)\n"
     ]
    },
    {
     "name": "stderr",
     "output_type": "stream",
     "text": [
      "Sampling from DATGAN: 100%|██████████| 338449/338449 [06:50<00:00, 824.78it/s]\n"
     ]
    },
    {
     "name": "stdout",
     "output_type": "stream",
     "text": [
      "Sampling for Kensington and Chelsea (25/33)\n"
     ]
    },
    {
     "name": "stderr",
     "output_type": "stream",
     "text": [
      "Sampling from DATGAN: 100%|██████████| 158649/158649 [03:12<00:00, 823.08it/s]\n"
     ]
    },
    {
     "name": "stdout",
     "output_type": "stream",
     "text": [
      "Sampling for Redbridge (26/33)\n"
     ]
    },
    {
     "name": "stderr",
     "output_type": "stream",
     "text": [
      "Sampling from DATGAN: 100%|██████████| 278970/278970 [05:38<00:00, 823.32it/s]\n"
     ]
    },
    {
     "name": "stdout",
     "output_type": "stream",
     "text": [
      "Sampling for Waltham Forest (27/33)\n"
     ]
    },
    {
     "name": "stderr",
     "output_type": "stream",
     "text": [
      "Sampling from DATGAN: 100%|██████████| 258249/258249 [05:12<00:00, 826.05it/s]\n"
     ]
    },
    {
     "name": "stdout",
     "output_type": "stream",
     "text": [
      "Sampling for Islington (28/33)\n"
     ]
    },
    {
     "name": "stderr",
     "output_type": "stream",
     "text": [
      "Sampling from DATGAN: 100%|██████████| 206125/206125 [04:08<00:00, 829.28it/s]\n"
     ]
    },
    {
     "name": "stdout",
     "output_type": "stream",
     "text": [
      "Sampling for Sutton (29/33)\n"
     ]
    },
    {
     "name": "stderr",
     "output_type": "stream",
     "text": [
      "Sampling from DATGAN: 100%|██████████| 190146/190146 [03:50<00:00, 825.50it/s]\n"
     ]
    },
    {
     "name": "stdout",
     "output_type": "stream",
     "text": [
      "Sampling for Greenwich (30/33)\n"
     ]
    },
    {
     "name": "stderr",
     "output_type": "stream",
     "text": [
      "Sampling from DATGAN: 100%|██████████| 254557/254557 [05:13<00:00, 811.69it/s]\n"
     ]
    },
    {
     "name": "stdout",
     "output_type": "stream",
     "text": [
      "Sampling for City of London (31/33)\n"
     ]
    },
    {
     "name": "stderr",
     "output_type": "stream",
     "text": [
      "Sampling from DATGAN: 100%|██████████| 7375/7375 [00:11<00:00, 639.58it/s]\n"
     ]
    },
    {
     "name": "stdout",
     "output_type": "stream",
     "text": [
      "Sampling for Lewisham (32/33)\n"
     ]
    },
    {
     "name": "stderr",
     "output_type": "stream",
     "text": [
      "Sampling from DATGAN: 100%|██████████| 275885/275885 [05:35<00:00, 822.63it/s]\n"
     ]
    },
    {
     "name": "stdout",
     "output_type": "stream",
     "text": [
      "Sampling for Westminster (33/33)\n"
     ]
    },
    {
     "name": "stderr",
     "output_type": "stream",
     "text": [
      "Sampling from DATGAN: 100%|██████████| 219396/219396 [04:28<00:00, 818.02it/s]\n"
     ]
    }
   ],
   "source": [
    "count = 1\n",
    "for r in df.hh_borough.unique():\n",
    "\n",
    "    tmp = pd.read_csv('../../data/nomis/{}.csv'.format(r))\n",
    "\n",
    "    print('Sampling for {} ({}/{})'.format(r, count, len(df.hh_borough.unique())))\n",
    "\n",
    "    samp = datgan.sample(len(tmp), inputs=tmp, randomize=False)\n",
    "\n",
    "    samp.to_csv('../../data/synthetic/ciDATGAN/{}.csv'.format(r), index=False)\n",
    "\n",
    "    count += 1"
   ],
   "metadata": {
    "collapsed": false,
    "pycharm": {
     "name": "#%%\n"
    }
   }
  },
  {
   "cell_type": "code",
   "execution_count": null,
   "outputs": [],
   "source": [],
   "metadata": {
    "collapsed": false,
    "pycharm": {
     "name": "#%%\n"
    }
   }
  }
 ],
 "metadata": {
  "kernelspec": {
   "name": "dev",
   "language": "python",
   "display_name": "dev"
  },
  "language_info": {
   "codemirror_mode": {
    "name": "ipython",
    "version": 2
   },
   "file_extension": ".py",
   "mimetype": "text/x-python",
   "name": "python",
   "nbconvert_exporter": "python",
   "pygments_lexer": "ipython2",
   "version": "2.7.6"
  }
 },
 "nbformat": 4,
 "nbformat_minor": 0
}