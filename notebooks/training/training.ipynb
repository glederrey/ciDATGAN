{
 "cells": [
  {
   "cell_type": "code",
   "execution_count": 1,
   "metadata": {
    "collapsed": true
   },
   "outputs": [],
   "source": [
    "from datgan import DATGAN\n",
    "import datgan\n",
    "\n",
    "import numpy as np\n",
    "import pandas as pd\n",
    "import networkx as nx\n",
    "\n",
    "# For the Python notebook\n",
    "%matplotlib inline\n",
    "%reload_ext autoreload\n",
    "%autoreload 2"
   ]
  },
  {
   "cell_type": "code",
   "execution_count": 2,
   "outputs": [],
   "source": [
    "df = pd.read_csv('../../data/LPMC/trips.csv', index_col=False)"
   ],
   "metadata": {
    "collapsed": false,
    "pycharm": {
     "name": "#%%\n"
    }
   }
  },
  {
   "cell_type": "code",
   "execution_count": 3,
   "outputs": [
    {
     "data": {
      "text/plain": "  travel_mode purpose     fueltype faretype  bus_scale  travel_year  \\\n0       drive     HBO   Diesel_Car     full        1.0         2012   \n1       drive     HBW   Diesel_Car     full        1.0         2013   \n2          pt     HBO  Average_Car     full        0.5         2014   \n3          pt     HBE  Average_Car      dis        0.5         2014   \n4        walk     HBW   Petrol_Car     full        1.0         2013   \n\n   travel_month  travel_date  day_of_week  start_time_linear  ...  \\\n0             8            7            2          20.000000  ...   \n1             2            8            5          15.000000  ...   \n2            10            8            3          14.000000  ...   \n3             3           10            1          10.500000  ...   \n4             1           24            4          16.833333  ...   \n\n   dur_driving  cost_transit  cost_driving_fuel  cost_driving_con_charge  \\\n0     0.208611          1.50               0.57                      0.0   \n1     0.471944          3.00               1.62                      0.0   \n2     0.238333          0.75               0.62                      0.0   \n3     0.308889          0.75               0.60                     10.5   \n4     0.077500          1.50               0.19                      0.0   \n\n   driving_traffic_percent  hh_vehicles  hh_borough  hh_income  hh_people  \\\n0                 0.098535            1      Bexley     35-50k          2   \n1                 0.354915            1      Harrow      5-10k          3   \n2                 0.212121            0     Lambeth     50-75k          4   \n3                 0.684353            0     Hackney     10-15k          2   \n4                 0.046595            2     Lambeth     50-75k          5   \n\n   dur_pt_int  \n0    0.000000  \n1    0.133333  \n2    0.000000  \n3    0.000000  \n4    0.000000  \n\n[5 rows x 30 columns]",
      "text/html": "<div>\n<style scoped>\n    .dataframe tbody tr th:only-of-type {\n        vertical-align: middle;\n    }\n\n    .dataframe tbody tr th {\n        vertical-align: top;\n    }\n\n    .dataframe thead th {\n        text-align: right;\n    }\n</style>\n<table border=\"1\" class=\"dataframe\">\n  <thead>\n    <tr style=\"text-align: right;\">\n      <th></th>\n      <th>travel_mode</th>\n      <th>purpose</th>\n      <th>fueltype</th>\n      <th>faretype</th>\n      <th>bus_scale</th>\n      <th>travel_year</th>\n      <th>travel_month</th>\n      <th>travel_date</th>\n      <th>day_of_week</th>\n      <th>start_time_linear</th>\n      <th>...</th>\n      <th>dur_driving</th>\n      <th>cost_transit</th>\n      <th>cost_driving_fuel</th>\n      <th>cost_driving_con_charge</th>\n      <th>driving_traffic_percent</th>\n      <th>hh_vehicles</th>\n      <th>hh_borough</th>\n      <th>hh_income</th>\n      <th>hh_people</th>\n      <th>dur_pt_int</th>\n    </tr>\n  </thead>\n  <tbody>\n    <tr>\n      <th>0</th>\n      <td>drive</td>\n      <td>HBO</td>\n      <td>Diesel_Car</td>\n      <td>full</td>\n      <td>1.0</td>\n      <td>2012</td>\n      <td>8</td>\n      <td>7</td>\n      <td>2</td>\n      <td>20.000000</td>\n      <td>...</td>\n      <td>0.208611</td>\n      <td>1.50</td>\n      <td>0.57</td>\n      <td>0.0</td>\n      <td>0.098535</td>\n      <td>1</td>\n      <td>Bexley</td>\n      <td>35-50k</td>\n      <td>2</td>\n      <td>0.000000</td>\n    </tr>\n    <tr>\n      <th>1</th>\n      <td>drive</td>\n      <td>HBW</td>\n      <td>Diesel_Car</td>\n      <td>full</td>\n      <td>1.0</td>\n      <td>2013</td>\n      <td>2</td>\n      <td>8</td>\n      <td>5</td>\n      <td>15.000000</td>\n      <td>...</td>\n      <td>0.471944</td>\n      <td>3.00</td>\n      <td>1.62</td>\n      <td>0.0</td>\n      <td>0.354915</td>\n      <td>1</td>\n      <td>Harrow</td>\n      <td>5-10k</td>\n      <td>3</td>\n      <td>0.133333</td>\n    </tr>\n    <tr>\n      <th>2</th>\n      <td>pt</td>\n      <td>HBO</td>\n      <td>Average_Car</td>\n      <td>full</td>\n      <td>0.5</td>\n      <td>2014</td>\n      <td>10</td>\n      <td>8</td>\n      <td>3</td>\n      <td>14.000000</td>\n      <td>...</td>\n      <td>0.238333</td>\n      <td>0.75</td>\n      <td>0.62</td>\n      <td>0.0</td>\n      <td>0.212121</td>\n      <td>0</td>\n      <td>Lambeth</td>\n      <td>50-75k</td>\n      <td>4</td>\n      <td>0.000000</td>\n    </tr>\n    <tr>\n      <th>3</th>\n      <td>pt</td>\n      <td>HBE</td>\n      <td>Average_Car</td>\n      <td>dis</td>\n      <td>0.5</td>\n      <td>2014</td>\n      <td>3</td>\n      <td>10</td>\n      <td>1</td>\n      <td>10.500000</td>\n      <td>...</td>\n      <td>0.308889</td>\n      <td>0.75</td>\n      <td>0.60</td>\n      <td>10.5</td>\n      <td>0.684353</td>\n      <td>0</td>\n      <td>Hackney</td>\n      <td>10-15k</td>\n      <td>2</td>\n      <td>0.000000</td>\n    </tr>\n    <tr>\n      <th>4</th>\n      <td>walk</td>\n      <td>HBW</td>\n      <td>Petrol_Car</td>\n      <td>full</td>\n      <td>1.0</td>\n      <td>2013</td>\n      <td>1</td>\n      <td>24</td>\n      <td>4</td>\n      <td>16.833333</td>\n      <td>...</td>\n      <td>0.077500</td>\n      <td>1.50</td>\n      <td>0.19</td>\n      <td>0.0</td>\n      <td>0.046595</td>\n      <td>2</td>\n      <td>Lambeth</td>\n      <td>50-75k</td>\n      <td>5</td>\n      <td>0.000000</td>\n    </tr>\n  </tbody>\n</table>\n<p>5 rows × 30 columns</p>\n</div>"
     },
     "execution_count": 3,
     "metadata": {},
     "output_type": "execute_result"
    }
   ],
   "source": [
    "df.head()"
   ],
   "metadata": {
    "collapsed": false,
    "pycharm": {
     "name": "#%%\n"
    }
   }
  },
  {
   "cell_type": "code",
   "execution_count": 4,
   "outputs": [],
   "source": [
    "# First, define the specificities of continuous variables\n",
    "data_info = {\n",
    "    'start_time_linear': {\n",
    "        'type': 'continuous',\n",
    "        'bounds': [0.0, 23.999],\n",
    "        'discrete': False,\n",
    "    },\n",
    "    'age': {\n",
    "        'type': 'continuous',\n",
    "        'bounds': [0, 100],\n",
    "        'discrete': True\n",
    "    },\n",
    "    'distance': {\n",
    "        'type': 'continuous',\n",
    "        'bounds': [0, np.infty],\n",
    "        'discrete': True,\n",
    "        'apply_func': (lambda x: np.log(x+1))\n",
    "    },\n",
    "    'dur_walking': {\n",
    "        'type': 'continuous',\n",
    "        'bounds': [0, np.infty],\n",
    "        'enforce_bounds': True,\n",
    "        'discrete': False,\n",
    "        'apply_func': (lambda x: np.log(x+1))\n",
    "    },\n",
    "    'dur_cycling': {\n",
    "        'type': 'continuous',\n",
    "        'bounds': [0, np.infty],\n",
    "        'enforce_bounds': True,\n",
    "        'discrete': False,\n",
    "        'apply_func': (lambda x: np.log(x+1))\n",
    "    },\n",
    "    'dur_pt_access': {\n",
    "        'type': 'continuous',\n",
    "        'bounds': [0, np.infty],\n",
    "        'enforce_bounds': True,\n",
    "        'discrete': False,\n",
    "        'apply_func': (lambda x: np.log(x+1))\n",
    "    },\n",
    "    'dur_pt_rail': {\n",
    "        'type': 'continuous',\n",
    "        'bounds': [0, np.infty],\n",
    "        'enforce_bounds': True,\n",
    "        'discrete': False,\n",
    "    },\n",
    "    'dur_pt_bus': {\n",
    "        'type': 'continuous',\n",
    "        'bounds': [0, np.infty],\n",
    "        'enforce_bounds': True,\n",
    "        'discrete': False,\n",
    "    },\n",
    "    'dur_pt_int': {\n",
    "        'type': 'continuous',\n",
    "        'bounds': [0, np.infty],\n",
    "        'enforce_bounds': True,\n",
    "        'discrete': False,\n",
    "    },\n",
    "    'dur_driving': {\n",
    "        'type': 'continuous',\n",
    "        'bounds': [0, np.infty],\n",
    "        'enforce_bounds': True,\n",
    "        'discrete': False,\n",
    "        'apply_func': (lambda x: np.log(x+1))\n",
    "    },\n",
    "    'cost_transit': {\n",
    "        'type': 'continuous',\n",
    "        'bounds': [0, np.infty],\n",
    "        'enforce_bounds': True,\n",
    "        'discrete': False,\n",
    "    },\n",
    "    'cost_driving_fuel': {\n",
    "        'type': 'continuous',\n",
    "        'bounds': [0, np.infty],\n",
    "        'enforce_bounds': True,\n",
    "        'discrete': False,\n",
    "        'apply_func': (lambda x: np.log(x+1))\n",
    "    },\n",
    "    'driving_traffic_percent': {\n",
    "        'type': 'continuous',\n",
    "        'bounds': [0, np.infty],\n",
    "        'discrete': False,\n",
    "    },\n",
    "}\n",
    "\n",
    "# Add the other variables as categorical\n",
    "for c in df.columns:\n",
    "    if c not in data_info.keys():\n",
    "        data_info[c] = {'type': 'categorical'}"
   ],
   "metadata": {
    "collapsed": false,
    "pycharm": {
     "name": "#%%\n"
    }
   }
  },
  {
   "cell_type": "code",
   "execution_count": 5,
   "outputs": [],
   "source": [
    "# personalised graph\n",
    "graph = nx.DiGraph()\n",
    "\n",
    "graph.add_edges_from([\n",
    "    (\"travel_year\", \"travel_month\"),\n",
    "    (\"travel_date\", \"day_of_week\"),\n",
    "    (\"travel_month\", \"travel_date\"),\n",
    "    (\"travel_month\", \"driving_traffic_percent\"),\n",
    "    (\"travel_month\", \"day_of_week\"),\n",
    "    (\"travel_month\", \"travel_mode\"),\n",
    "    (\"travel_date\", \"day_of_week\"),\n",
    "    (\"day_of_week\", \"driving_traffic_percent\"),\n",
    "    (\"day_of_week\", \"cost_driving_con_charge\"),\n",
    "    (\"day_of_week\", \"purpose\"),\n",
    "    (\"day_of_week\", \"start_time_linear\"),\n",
    "    (\"day_of_week\", \"travel_mode\"),\n",
    "    (\"purpose\", \"distance\"),\n",
    "    (\"purpose\", \"start_time_linear\"),\n",
    "    (\"purpose\", \"travel_mode\"),\n",
    "    (\"start_time_linear\", \"driving_traffic_percent\"),\n",
    "    (\"start_time_linear\", \"cost_driving_con_charge\"),\n",
    "    (\"start_time_linear\", \"travel_mode\"),\n",
    "    (\"hh_vehicles\", \"fueltype\"),\n",
    "    (\"hh_vehicles\", \"driving_license\"),\n",
    "    (\"hh_vehicles\", \"travel_mode\"),\n",
    "    (\"fueltype\", \"cost_driving_con_charge\"),\n",
    "    (\"fueltype\", \"cost_driving_fuel\"),\n",
    "    (\"female\", \"driving_license\"),\n",
    "    (\"female\", \"travel_mode\"),\n",
    "    (\"age\", \"bus_scale\"),\n",
    "    (\"age\", \"driving_license\"),\n",
    "    (\"age\", \"faretype\"),\n",
    "    (\"age\", \"travel_mode\"),\n",
    "    (\"driving_license\", \"travel_mode\"),\n",
    "    (\"faretype\", \"cost_transit\"),\n",
    "    (\"faretype\", \"bus_scale\"),\n",
    "    (\"faretype\", \"travel_mode\"),\n",
    "    (\"bus_scale\", \"cost_transit\"),\n",
    "    (\"distance\", \"cost_driving_fuel\"),\n",
    "    (\"distance\", \"dur_driving\"),\n",
    "    (\"distance\", \"dur_walking\"),\n",
    "    (\"distance\", \"dur_cycling\"),\n",
    "    (\"distance\", \"dur_pt_access\"),\n",
    "    (\"distance\", \"dur_pt_rail\"),\n",
    "    (\"distance\", \"dur_pt_bus\"),\n",
    "    (\"distance\", \"dur_pt_int\"),\n",
    "    (\"distance\", \"pt_n_interchanges\"),\n",
    "    (\"distance\", \"travel_mode\"),\n",
    "    (\"pt_n_interchanges\", \"dur_pt_rail\"),\n",
    "    (\"pt_n_interchanges\", \"dur_pt_bus\"),\n",
    "    (\"pt_n_interchanges\", \"dur_pt_int\"),\n",
    "    (\"pt_n_interchanges\", \"cost_transit\"),\n",
    "    (\"driving_traffic_percent\", \"cost_driving_con_charge\"),\n",
    "    (\"driving_traffic_percent\", \"travel_mode\"),\n",
    "    (\"cost_driving_fuel\", \"cost_driving_con_charge\"),\n",
    "    (\"cost_driving_fuel\", \"travel_mode\"),\n",
    "    (\"cost_driving_con_charge\", \"travel_mode\"),\n",
    "    (\"dur_driving\", \"travel_mode\"),\n",
    "    (\"dur_walking\", \"travel_mode\"),\n",
    "    (\"dur_cycling\", \"travel_mode\"),\n",
    "    (\"dur_pt_access\", \"travel_mode\"),\n",
    "    (\"dur_pt_rail\", \"cost_transit\"),\n",
    "    (\"dur_pt_rail\", \"travel_mode\"),\n",
    "    (\"dur_pt_bus\", \"cost_transit\"),\n",
    "    (\"dur_pt_bus\", \"travel_mode\"),\n",
    "    (\"dur_pt_int\", \"travel_mode\"),\n",
    "    (\"cost_transit\", \"travel_mode\"),\n",
    "    (\"hh_borough\", \"hh_income\"),\n",
    "    (\"hh_borough\", \"travel_mode\"),\n",
    "    (\"hh_income\", \"hh_vehicles\"),\n",
    "    (\"hh_income\", \"age\"),\n",
    "    (\"hh_income\", \"hh_people\"),\n",
    "    (\"hh_people\", \"age\"),\n",
    "    (\"hh_people\", \"female\")\n",
    "])\n"
   ],
   "metadata": {
    "collapsed": false,
    "pycharm": {
     "name": "#%%\n"
    }
   }
  },
  {
   "cell_type": "code",
   "execution_count": 6,
   "outputs": [],
   "source": [
    "#datgan.advise(df, graph)"
   ],
   "metadata": {
    "collapsed": false,
    "pycharm": {
     "name": "#%%\n"
    }
   }
  },
  {
   "cell_type": "markdown",
   "source": [
    "# Vanilla DATGAN"
   ],
   "metadata": {
    "collapsed": false,
    "pycharm": {
     "name": "#%% md\n"
    }
   }
  },
  {
   "cell_type": "code",
   "execution_count": null,
   "outputs": [],
   "source": [
    "name = 'LPMC'"
   ],
   "metadata": {
    "collapsed": false,
    "pycharm": {
     "name": "#%%\n"
    }
   }
  },
  {
   "cell_type": "code",
   "execution_count": 8,
   "outputs": [],
   "source": [
    "output_folder = '../output/{}/'.format(name)"
   ],
   "metadata": {
    "collapsed": false,
    "pycharm": {
     "name": "#%%\n"
    }
   }
  },
  {
   "cell_type": "code",
   "execution_count": 17,
   "outputs": [],
   "source": [
    "datgan = DATGAN(output=output_folder,\n",
    "                loss_function='WGGP',\n",
    "                batch_size=1101,\n",
    "                num_epochs=1000)"
   ],
   "metadata": {
    "collapsed": false,
    "pycharm": {
     "name": "#%%\n"
    }
   }
  },
  {
   "cell_type": "code",
   "execution_count": 10,
   "outputs": [
    {
     "name": "stdout",
     "output_type": "stream",
     "text": [
      "Preprocessing the data!\n",
      "Encoding categorical variable \"travel_mode\"...\n",
      "Encoding categorical variable \"purpose\"...\n",
      "Encoding categorical variable \"fueltype\"...\n",
      "Encoding categorical variable \"faretype\"...\n",
      "Encoding categorical variable \"bus_scale\"...\n",
      "Encoding categorical variable \"travel_year\"...\n",
      "Encoding categorical variable \"travel_month\"...\n",
      "Encoding categorical variable \"travel_date\"...\n",
      "Encoding categorical variable \"day_of_week\"...\n",
      "Encoding continuous variable \"start_time_linear\"...\n",
      "Encoding continuous variable \"age\"...\n",
      "Encoding categorical variable \"female\"...\n",
      "Encoding categorical variable \"driving_license\"...\n",
      "Encoding continuous variable \"distance\"...\n",
      "Encoding continuous variable \"dur_walking\"...\n",
      "Encoding continuous variable \"dur_cycling\"...\n",
      "Encoding continuous variable \"dur_pt_access\"...\n",
      "Encoding continuous variable \"dur_pt_rail\"...\n",
      "Encoding continuous variable \"dur_pt_bus\"...\n",
      "Encoding categorical variable \"pt_n_interchanges\"...\n",
      "Encoding continuous variable \"dur_driving\"...\n",
      "Encoding continuous variable \"cost_transit\"...\n",
      "Encoding continuous variable \"cost_driving_fuel\"...\n",
      "Encoding categorical variable \"cost_driving_con_charge\"...\n",
      "Encoding continuous variable \"driving_traffic_percent\"...\n",
      "Encoding categorical variable \"hh_vehicles\"...\n",
      "Encoding categorical variable \"hh_borough\"...\n",
      "Encoding categorical variable \"hh_income\"...\n",
      "Encoding categorical variable \"hh_people\"...\n",
      "Encoding continuous variable \"dur_pt_int\"...\n",
      "Preprocessed data have been saved in '../output/encoded_LPMC'\n",
      "Start training DATGAN with the WGGP loss (29/04/2022 11:46:23).\n"
     ]
    },
    {
     "name": "stderr",
     "output_type": "stream",
     "text": [
      "Training DATGAN: 100%|██████████| 1000/1000 [1:06:32<00:00,  3.99s/it]"
     ]
    },
    {
     "name": "stdout",
     "output_type": "stream",
     "text": [
      "DATGAN has finished training (29/04/2022 12:52:57) - Training time: 01 hour, 06 minutes, and 33 seconds\n"
     ]
    },
    {
     "name": "stderr",
     "output_type": "stream",
     "text": [
      "\n"
     ]
    }
   ],
   "source": [
    "datgan.fit(df, data_info, graph, preprocessed_data_path='../output/encoded_LPMC')"
   ],
   "metadata": {
    "collapsed": false,
    "pycharm": {
     "name": "#%%\n"
    }
   }
  },
  {
   "cell_type": "code",
   "execution_count": 11,
   "outputs": [
    {
     "name": "stderr",
     "output_type": "stream",
     "text": [
      "Sampling from DATGAN: 100%|██████████| 17616/17616 [00:22<00:00, 783.18it/s]\n"
     ]
    }
   ],
   "source": [
    "samp = datgan.sample(len(df))#, inputs=df[datgan.conditional_inputs])\n",
    "samp.to_csv('../../data/synthetic/LPMC.csv', index=False)"
   ],
   "metadata": {
    "collapsed": false,
    "pycharm": {
     "name": "#%%\n"
    }
   }
  },
  {
   "cell_type": "markdown",
   "source": [
    "# DATGAN with conditional inputs"
   ],
   "metadata": {
    "collapsed": false,
    "pycharm": {
     "name": "#%% md\n"
    }
   }
  },
  {
   "cell_type": "code",
   "execution_count": 7,
   "outputs": [],
   "source": [
    "name = 'LPMC_cond'"
   ],
   "metadata": {
    "collapsed": false,
    "pycharm": {
     "name": "#%%\n"
    }
   }
  },
  {
   "cell_type": "code",
   "execution_count": 8,
   "outputs": [],
   "source": [
    "output_folder = '../output/{}/'.format(name)"
   ],
   "metadata": {
    "collapsed": false,
    "pycharm": {
     "name": "#%%\n"
    }
   }
  },
  {
   "cell_type": "code",
   "execution_count": 9,
   "outputs": [],
   "source": [
    "datgan = DATGAN(output=output_folder,\n",
    "                loss_function='WGGP',\n",
    "                conditional_inputs=['age', 'female', 'hh_borough'],\n",
    "                batch_size=1101,\n",
    "                num_epochs=1000)"
   ],
   "metadata": {
    "collapsed": false,
    "pycharm": {
     "name": "#%%\n"
    }
   }
  },
  {
   "cell_type": "code",
   "execution_count": 10,
   "outputs": [
    {
     "name": "stdout",
     "output_type": "stream",
     "text": [
      "Preprocessed data have been loaded!\n",
      "Start training DATGAN with the WGGP loss (30/04/2022 17:52:08).\n",
      "Restored models from epoch 1000.\n"
     ]
    },
    {
     "name": "stderr",
     "output_type": "stream",
     "text": [
      "Training DATGAN: 0it [00:00, ?it/s]"
     ]
    },
    {
     "name": "stdout",
     "output_type": "stream",
     "text": [
      "DATGAN has finished training (30/04/2022 17:52:09) - Training time: 00 second\n"
     ]
    },
    {
     "name": "stderr",
     "output_type": "stream",
     "text": [
      "\n"
     ]
    }
   ],
   "source": [
    "datgan.fit(df, data_info, graph, preprocessed_data_path='../output/encoded_LPMC')"
   ],
   "metadata": {
    "collapsed": false,
    "pycharm": {
     "name": "#%%\n"
    }
   }
  },
  {
   "cell_type": "code",
   "execution_count": 17,
   "outputs": [
    {
     "name": "stderr",
     "output_type": "stream",
     "text": [
      "Sampling from DATGAN: 100%|██████████| 17616/17616 [00:22<00:00, 786.86it/s]\n"
     ]
    }
   ],
   "source": [
    "samp = datgan.sample(len(df), inputs=df[datgan.conditional_inputs])\n",
    "samp.to_csv('../../data/synthetic/LPMC_cond.csv', index=False)"
   ],
   "metadata": {
    "collapsed": false,
    "pycharm": {
     "name": "#%%\n"
    }
   }
  },
  {
   "cell_type": "code",
   "execution_count": 21,
   "outputs": [],
   "source": [
    "small = pd.read_csv('../../data/nomis/100k.csv')"
   ],
   "metadata": {
    "collapsed": false,
    "pycharm": {
     "name": "#%%\n"
    }
   }
  },
  {
   "cell_type": "code",
   "execution_count": 24,
   "outputs": [
    {
     "name": "stderr",
     "output_type": "stream",
     "text": [
      "Sampling from DATGAN: 100%|██████████| 100000/100000 [02:04<00:00, 805.94it/s]\n"
     ]
    }
   ],
   "source": [
    "samp = datgan.sample(len(small), inputs=small)\n",
    "samp.to_csv('../../data/synthetic/LPMC_cond_100k.csv', index=False)"
   ],
   "metadata": {
    "collapsed": false,
    "pycharm": {
     "name": "#%%\n"
    }
   }
  },
  {
   "cell_type": "code",
   "execution_count": 25,
   "outputs": [],
   "source": [
    "large = pd.read_csv('../../data/nomis/1M.csv')"
   ],
   "metadata": {
    "collapsed": false,
    "pycharm": {
     "name": "#%%\n"
    }
   }
  },
  {
   "cell_type": "code",
   "execution_count": 26,
   "outputs": [
    {
     "name": "stderr",
     "output_type": "stream",
     "text": [
      "Sampling from DATGAN: 100%|██████████| 1000000/1000000 [21:48<00:00, 764.49it/s]\n"
     ]
    }
   ],
   "source": [
    "samp = datgan.sample(len(large), inputs=large)\n",
    "samp.to_csv('../../data/synthetic/LPMC_cond_1M.csv', index=False)"
   ],
   "metadata": {
    "collapsed": false,
    "pycharm": {
     "name": "#%%\n"
    }
   }
  },
  {
   "cell_type": "markdown",
   "source": [
    "## All the boroughs"
   ],
   "metadata": {
    "collapsed": false,
    "pycharm": {
     "name": "#%% md\n"
    }
   }
  },
  {
   "cell_type": "code",
   "execution_count": 11,
   "outputs": [
    {
     "name": "stdout",
     "output_type": "stream",
     "text": [
      "Sampling for Bexley (1/49)\n"
     ]
    },
    {
     "name": "stderr",
     "output_type": "stream",
     "text": [
      "Sampling from DATGAN: 100%|██████████| 231997/231997 [04:56<00:00, 782.63it/s]\n"
     ]
    },
    {
     "name": "stdout",
     "output_type": "stream",
     "text": [
      "Sampling for Harrow (2/49)\n"
     ]
    },
    {
     "name": "stderr",
     "output_type": "stream",
     "text": [
      "Sampling from DATGAN: 100%|██████████| 239056/239056 [05:01<00:00, 793.06it/s]\n"
     ]
    },
    {
     "name": "stdout",
     "output_type": "stream",
     "text": [
      "Sampling for Lambeth (3/49)\n"
     ]
    },
    {
     "name": "stderr",
     "output_type": "stream",
     "text": [
      "Sampling from DATGAN: 100%|██████████| 303086/303086 [06:20<00:00, 796.50it/s]\n"
     ]
    },
    {
     "name": "stdout",
     "output_type": "stream",
     "text": [
      "Sampling for Hackney (4/49)\n"
     ]
    },
    {
     "name": "stderr",
     "output_type": "stream",
     "text": [
      "Sampling from DATGAN: 100%|██████████| 246270/246270 [05:17<00:00, 774.82it/s]\n"
     ]
    },
    {
     "name": "stdout",
     "output_type": "stream",
     "text": [
      "Sampling for Bromley (5/49)\n"
     ]
    },
    {
     "name": "stderr",
     "output_type": "stream",
     "text": [
      "Sampling from DATGAN: 100%|██████████| 309392/309392 [06:34<00:00, 783.70it/s]\n"
     ]
    },
    {
     "name": "stdout",
     "output_type": "stream",
     "text": [
      "Sampling for Haringey (6/49)\n"
     ]
    },
    {
     "name": "stderr",
     "output_type": "stream",
     "text": [
      "Sampling from DATGAN: 100%|██████████| 254926/254926 [05:23<00:00, 787.55it/s]\n"
     ]
    },
    {
     "name": "stdout",
     "output_type": "stream",
     "text": [
      "Sampling for Hounslow (7/49)\n"
     ]
    },
    {
     "name": "stderr",
     "output_type": "stream",
     "text": [
      "Sampling from DATGAN: 100%|██████████| 253957/253957 [05:22<00:00, 787.37it/s]\n"
     ]
    },
    {
     "name": "stdout",
     "output_type": "stream",
     "text": [
      "Sampling for Tower Hamlets (8/49)\n"
     ]
    },
    {
     "name": "stderr",
     "output_type": "stream",
     "text": [
      "Sampling from DATGAN: 100%|██████████| 254096/254096 [05:23<00:00, 784.42it/s]\n"
     ]
    },
    {
     "name": "stdout",
     "output_type": "stream",
     "text": [
      "Sampling for Richmond upon Thames (9/49)\n"
     ]
    },
    {
     "name": "stderr",
     "output_type": "stream",
     "text": [
      "Sampling from DATGAN: 100%|██████████| 186990/186990 [03:56<00:00, 789.79it/s]\n"
     ]
    },
    {
     "name": "stdout",
     "output_type": "stream",
     "text": [
      "Sampling for Camden (10/49)\n"
     ]
    },
    {
     "name": "stderr",
     "output_type": "stream",
     "text": [
      "Sampling from DATGAN: 100%|██████████| 220338/220338 [04:39<00:00, 787.20it/s]\n"
     ]
    },
    {
     "name": "stdout",
     "output_type": "stream",
     "text": [
      "Sampling for Merton (11/49)\n"
     ]
    },
    {
     "name": "stderr",
     "output_type": "stream",
     "text": [
      "Sampling from DATGAN: 100%|██████████| 199693/199693 [04:12<00:00, 790.70it/s]\n"
     ]
    },
    {
     "name": "stdout",
     "output_type": "stream",
     "text": [
      "Sampling for Kingston upon Thames (12/49)\n"
     ]
    },
    {
     "name": "stderr",
     "output_type": "stream",
     "text": [
      "Sampling from DATGAN: 100%|██████████| 160060/160060 [03:20<00:00, 797.91it/s]\n"
     ]
    },
    {
     "name": "stdout",
     "output_type": "stream",
     "text": [
      "Sampling for Brent (13/49)\n"
     ]
    },
    {
     "name": "stderr",
     "output_type": "stream",
     "text": [
      "Sampling from DATGAN: 100%|██████████| 311215/311215 [06:32<00:00, 793.00it/s]\n"
     ]
    },
    {
     "name": "stdout",
     "output_type": "stream",
     "text": [
      "Sampling for Hillingdon (14/49)\n"
     ]
    },
    {
     "name": "stderr",
     "output_type": "stream",
     "text": [
      "Sampling from DATGAN: 100%|██████████| 273936/273936 [05:45<00:00, 793.49it/s]\n"
     ]
    },
    {
     "name": "stdout",
     "output_type": "stream",
     "text": [
      "Sampling for Croydon (15/49)\n"
     ]
    },
    {
     "name": "stderr",
     "output_type": "stream",
     "text": [
      "Sampling from DATGAN: 100%|██████████| 363378/363378 [07:49<00:00, 773.84it/s]\n"
     ]
    },
    {
     "name": "stdout",
     "output_type": "stream",
     "text": [
      "Sampling for Barnet (16/49)\n"
     ]
    },
    {
     "name": "stderr",
     "output_type": "stream",
     "text": [
      "Sampling from DATGAN: 100%|██████████| 356386/356386 [07:38<00:00, 777.13it/s]\n"
     ]
    },
    {
     "name": "stdout",
     "output_type": "stream",
     "text": [
      "Sampling for Havering (17/49)\n"
     ]
    },
    {
     "name": "stderr",
     "output_type": "stream",
     "text": [
      "Sampling from DATGAN: 100%|██████████| 237232/237232 [05:01<00:00, 785.71it/s]\n"
     ]
    },
    {
     "name": "stdout",
     "output_type": "stream",
     "text": [
      "Sampling for Enfield (18/49)\n"
     ]
    },
    {
     "name": "stderr",
     "output_type": "stream",
     "text": [
      "Sampling from DATGAN: 100%|██████████| 312466/312466 [06:39<00:00, 781.29it/s]\n"
     ]
    },
    {
     "name": "stdout",
     "output_type": "stream",
     "text": [
      "Sampling for Southwark (19/49)\n"
     ]
    },
    {
     "name": "stderr",
     "output_type": "stream",
     "text": [
      "Sampling from DATGAN: 100%|██████████| 288283/288283 [06:09<00:00, 780.91it/s]\n"
     ]
    },
    {
     "name": "stdout",
     "output_type": "stream",
     "text": [
      "Sampling for Hammersmith & Fulham (20/49)\n"
     ]
    },
    {
     "name": "stderr",
     "output_type": "stream",
     "text": [
      "Sampling from DATGAN: 100%|██████████| 182493/182493 [03:54<00:00, 779.23it/s]\n"
     ]
    },
    {
     "name": "stdout",
     "output_type": "stream",
     "text": [
      "Sampling for Dartford (21/49)\n"
     ]
    },
    {
     "name": "stderr",
     "output_type": "stream",
     "text": [
      "Sampling from DATGAN: 100%|██████████| 97365/97365 [02:05<00:00, 776.32it/s]\n"
     ]
    },
    {
     "name": "stdout",
     "output_type": "stream",
     "text": [
      "Sampling for Wandsworth (22/49)\n"
     ]
    },
    {
     "name": "stderr",
     "output_type": "stream",
     "text": [
      "Sampling from DATGAN: 100%|██████████| 306995/306995 [06:29<00:00, 789.09it/s]\n"
     ]
    },
    {
     "name": "stdout",
     "output_type": "stream",
     "text": [
      "Sampling for Newham (23/49)\n"
     ]
    },
    {
     "name": "stderr",
     "output_type": "stream",
     "text": [
      "Sampling from DATGAN: 100%|██████████| 307984/307984 [06:30<00:00, 787.77it/s]\n"
     ]
    },
    {
     "name": "stdout",
     "output_type": "stream",
     "text": [
      "Sampling for Barking and Dagenham (24/49)\n"
     ]
    },
    {
     "name": "stderr",
     "output_type": "stream",
     "text": [
      "Sampling from DATGAN: 100%|██████████| 185911/185911 [03:56<00:00, 785.41it/s]\n"
     ]
    },
    {
     "name": "stdout",
     "output_type": "stream",
     "text": [
      "Sampling for Ealing (25/49)\n"
     ]
    },
    {
     "name": "stderr",
     "output_type": "stream",
     "text": [
      "Sampling from DATGAN: 100%|██████████| 338449/338449 [07:10<00:00, 786.58it/s]\n"
     ]
    },
    {
     "name": "stdout",
     "output_type": "stream",
     "text": [
      "Sampling for Kensington and Chelsea (26/49)\n"
     ]
    },
    {
     "name": "stderr",
     "output_type": "stream",
     "text": [
      "Sampling from DATGAN: 100%|██████████| 158649/158649 [03:20<00:00, 789.62it/s]\n"
     ]
    },
    {
     "name": "stdout",
     "output_type": "stream",
     "text": [
      "Sampling for Redbridge (27/49)\n"
     ]
    },
    {
     "name": "stderr",
     "output_type": "stream",
     "text": [
      "Sampling from DATGAN: 100%|██████████| 278970/278970 [05:53<00:00, 789.43it/s]\n"
     ]
    },
    {
     "name": "stdout",
     "output_type": "stream",
     "text": [
      "Sampling for Waltham Forest (28/49)\n"
     ]
    },
    {
     "name": "stderr",
     "output_type": "stream",
     "text": [
      "Sampling from DATGAN: 100%|██████████| 258249/258249 [05:24<00:00, 794.70it/s]\n"
     ]
    },
    {
     "name": "stdout",
     "output_type": "stream",
     "text": [
      "Sampling for Islington (29/49)\n"
     ]
    },
    {
     "name": "stderr",
     "output_type": "stream",
     "text": [
      "Sampling from DATGAN: 100%|██████████| 206125/206125 [04:19<00:00, 792.97it/s]\n"
     ]
    },
    {
     "name": "stdout",
     "output_type": "stream",
     "text": [
      "Sampling for Sutton (30/49)\n"
     ]
    },
    {
     "name": "stderr",
     "output_type": "stream",
     "text": [
      "Sampling from DATGAN: 100%|██████████| 190146/190146 [04:00<00:00, 790.84it/s]\n"
     ]
    },
    {
     "name": "stdout",
     "output_type": "stream",
     "text": [
      "Sampling for Greenwich (31/49)\n"
     ]
    },
    {
     "name": "stderr",
     "output_type": "stream",
     "text": [
      "Sampling from DATGAN: 100%|██████████| 254557/254557 [05:18<00:00, 798.76it/s]\n"
     ]
    },
    {
     "name": "stdout",
     "output_type": "stream",
     "text": [
      "Sampling for City of London (32/49)\n"
     ]
    },
    {
     "name": "stderr",
     "output_type": "stream",
     "text": [
      "Sampling from DATGAN: 100%|██████████| 7375/7375 [00:11<00:00, 629.71it/s]\n"
     ]
    },
    {
     "name": "stdout",
     "output_type": "stream",
     "text": [
      "Sampling for Lewisham (33/49)\n"
     ]
    },
    {
     "name": "stderr",
     "output_type": "stream",
     "text": [
      "Sampling from DATGAN: 100%|██████████| 275885/275885 [05:49<00:00, 789.76it/s]\n"
     ]
    },
    {
     "name": "stdout",
     "output_type": "stream",
     "text": [
      "Sampling for Epping Forest (34/49)\n"
     ]
    },
    {
     "name": "stderr",
     "output_type": "stream",
     "text": [
      "Sampling from DATGAN: 100%|██████████| 124659/124659 [02:39<00:00, 781.12it/s]\n"
     ]
    },
    {
     "name": "stdout",
     "output_type": "stream",
     "text": [
      "Sampling for Westminster (35/49)\n"
     ]
    },
    {
     "name": "stderr",
     "output_type": "stream",
     "text": [
      "Sampling from DATGAN: 100%|██████████| 219396/219396 [04:33<00:00, 803.32it/s]\n"
     ]
    },
    {
     "name": "stdout",
     "output_type": "stream",
     "text": [
      "Sampling for Tandridge (36/49)\n"
     ]
    },
    {
     "name": "stderr",
     "output_type": "stream",
     "text": [
      "Sampling from DATGAN: 100%|██████████| 82998/82998 [01:44<00:00, 791.20it/s]\n"
     ]
    },
    {
     "name": "stdout",
     "output_type": "stream",
     "text": [
      "Sampling for Hertsmere (37/49)\n"
     ]
    },
    {
     "name": "stderr",
     "output_type": "stream",
     "text": [
      "Sampling from DATGAN: 100%|██████████| 100031/100031 [02:05<00:00, 794.70it/s]\n"
     ]
    },
    {
     "name": "stdout",
     "output_type": "stream",
     "text": [
      "Sampling for Three Rivers (38/49)\n"
     ]
    },
    {
     "name": "stderr",
     "output_type": "stream",
     "text": [
      "Sampling from DATGAN: 100%|██████████| 87317/87317 [01:49<00:00, 795.20it/s]\n"
     ]
    },
    {
     "name": "stdout",
     "output_type": "stream",
     "text": [
      "Sampling for Epsom and Ewell (39/49)\n"
     ]
    },
    {
     "name": "stderr",
     "output_type": "stream",
     "text": [
      "Sampling from DATGAN: 100%|██████████| 75102/75102 [01:34<00:00, 795.08it/s]\n"
     ]
    },
    {
     "name": "stdout",
     "output_type": "stream",
     "text": [
      "Sampling for Elmbridge (40/49)\n"
     ]
    },
    {
     "name": "stderr",
     "output_type": "stream",
     "text": [
      "Sampling from DATGAN: 100%|██████████| 130875/130875 [02:46<00:00, 783.84it/s]\n"
     ]
    },
    {
     "name": "stdout",
     "output_type": "stream",
     "text": [
      "Sampling for Spelthorne (41/49)\n"
     ]
    },
    {
     "name": "stderr",
     "output_type": "stream",
     "text": [
      "Sampling from DATGAN: 100%|██████████| 95598/95598 [02:00<00:00, 790.29it/s]\n"
     ]
    },
    {
     "name": "stdout",
     "output_type": "stream",
     "text": [
      "Sampling for Sevenoaks (42/49)\n"
     ]
    },
    {
     "name": "stderr",
     "output_type": "stream",
     "text": [
      "Sampling from DATGAN: 100%|██████████| 114893/114893 [02:24<00:00, 796.86it/s]\n"
     ]
    },
    {
     "name": "stdout",
     "output_type": "stream",
     "text": [
      "Sampling for South Bucks (43/49)\n"
     ]
    },
    {
     "name": "stderr",
     "output_type": "stream",
     "text": [
      "Sampling from DATGAN: 100%|██████████| 66867/66867 [01:25<00:00, 783.22it/s]\n"
     ]
    },
    {
     "name": "stdout",
     "output_type": "stream",
     "text": [
      "Sampling for Reigate and Banstead (44/49)\n"
     ]
    },
    {
     "name": "stderr",
     "output_type": "stream",
     "text": [
      "Sampling from DATGAN: 100%|██████████| 137835/137835 [02:53<00:00, 795.45it/s]\n"
     ]
    },
    {
     "name": "stdout",
     "output_type": "stream",
     "text": [
      "Sampling for Watford (45/49)\n"
     ]
    },
    {
     "name": "stderr",
     "output_type": "stream",
     "text": [
      "Sampling from DATGAN: 100%|██████████| 90301/90301 [01:54<00:00, 790.53it/s]\n"
     ]
    },
    {
     "name": "stdout",
     "output_type": "stream",
     "text": [
      "Sampling for Thurrock (46/49)\n"
     ]
    },
    {
     "name": "stderr",
     "output_type": "stream",
     "text": [
      "Sampling from DATGAN: 100%|██████████| 157705/157705 [03:18<00:00, 794.63it/s]\n"
     ]
    },
    {
     "name": "stdout",
     "output_type": "stream",
     "text": [
      "Sampling for Runnymede (47/49)\n"
     ]
    },
    {
     "name": "stderr",
     "output_type": "stream",
     "text": [
      "Sampling from DATGAN: 100%|██████████| 80510/80510 [01:42<00:00, 784.80it/s]\n"
     ]
    },
    {
     "name": "stdout",
     "output_type": "stream",
     "text": [
      "Sampling for Mole Valley (48/49)\n"
     ]
    },
    {
     "name": "stderr",
     "output_type": "stream",
     "text": [
      "Sampling from DATGAN: 100%|██████████| 85375/85375 [01:48<00:00, 788.62it/s]\n"
     ]
    },
    {
     "name": "stdout",
     "output_type": "stream",
     "text": [
      "Sampling for Woking (49/49)\n"
     ]
    },
    {
     "name": "stderr",
     "output_type": "stream",
     "text": [
      "Sampling from DATGAN: 100%|██████████| 99198/99198 [02:04<00:00, 795.61it/s]\n"
     ]
    }
   ],
   "source": [
    "count = 1\n",
    "for r in df.hh_borough.unique():\n",
    "\n",
    "    tmp = pd.read_csv('../../data/nomis/{}.csv'.format(r))\n",
    "\n",
    "    print('Sampling for {} ({}/{})'.format(r, count, len(df.hh_borough.unique())))\n",
    "\n",
    "    samp = datgan.sample(len(tmp), inputs=tmp, randomize=False)\n",
    "\n",
    "    samp.to_csv('../../data/synthetic/LPMC_cond_{}.csv'.format(r), index=False)\n",
    "\n",
    "    count += 1"
   ],
   "metadata": {
    "collapsed": false,
    "pycharm": {
     "name": "#%%\n"
    }
   }
  },
  {
   "cell_type": "code",
   "execution_count": null,
   "outputs": [],
   "source": [],
   "metadata": {
    "collapsed": false,
    "pycharm": {
     "name": "#%%\n"
    }
   }
  }
 ],
 "metadata": {
  "kernelspec": {
   "name": "dev",
   "language": "python",
   "display_name": "dev"
  },
  "language_info": {
   "codemirror_mode": {
    "name": "ipython",
    "version": 2
   },
   "file_extension": ".py",
   "mimetype": "text/x-python",
   "name": "python",
   "nbconvert_exporter": "python",
   "pygments_lexer": "ipython2",
   "version": "2.7.6"
  }
 },
 "nbformat": 4,
 "nbformat_minor": 0
}