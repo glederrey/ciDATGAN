{
 "cells": [
  {
   "cell_type": "code",
   "execution_count": null,
   "metadata": {
    "collapsed": true
   },
   "outputs": [],
   "source": [
    "from datgan import DATGAN\n",
    "import datgan\n",
    "\n",
    "import numpy as np\n",
    "import pandas as pd\n",
    "import networkx as nx\n",
    "\n",
    "# For the Python notebook\n",
    "%matplotlib inline\n",
    "%reload_ext autoreload\n",
    "%autoreload 2"
   ]
  },
  {
   "cell_type": "code",
   "execution_count": null,
   "outputs": [],
   "source": [
    "df = pd.read_csv('../../data/LPMC/trips.csv', index_col=False)"
   ],
   "metadata": {
    "collapsed": false,
    "pycharm": {
     "name": "#%%\n"
    }
   }
  },
  {
   "cell_type": "code",
   "execution_count": null,
   "outputs": [],
   "source": [
    "df.head()"
   ],
   "metadata": {
    "collapsed": false,
    "pycharm": {
     "name": "#%%\n"
    }
   }
  },
  {
   "cell_type": "code",
   "execution_count": null,
   "outputs": [],
   "source": [
    "# First, define the specificities of continuous variables\n",
    "data_info = {\n",
    "    'start_time_linear': {\n",
    "        'type': 'continuous',\n",
    "        'bounds': [0.0, 23.999],\n",
    "        'discrete': False,\n",
    "    },\n",
    "    'age': {\n",
    "        'type': 'continuous',\n",
    "        'bounds': [0, 100],\n",
    "        'discrete': True\n",
    "    },\n",
    "    'distance': {\n",
    "        'type': 'continuous',\n",
    "        'bounds': [0, np.infty],\n",
    "        'discrete': True,\n",
    "        'apply_func': (lambda x: np.log(x+1))\n",
    "    },\n",
    "    'dur_walking': {\n",
    "        'type': 'continuous',\n",
    "        'bounds': [0, np.infty],\n",
    "        'enforce_bounds': True,\n",
    "        'discrete': False,\n",
    "        'apply_func': (lambda x: np.log(x+1))\n",
    "    },\n",
    "    'dur_cycling': {\n",
    "        'type': 'continuous',\n",
    "        'bounds': [0, np.infty],\n",
    "        'enforce_bounds': True,\n",
    "        'discrete': False,\n",
    "        'apply_func': (lambda x: np.log(x+1))\n",
    "    },\n",
    "    'dur_pt_access': {\n",
    "        'type': 'continuous',\n",
    "        'bounds': [0, np.infty],\n",
    "        'enforce_bounds': True,\n",
    "        'discrete': False,\n",
    "        'apply_func': (lambda x: np.log(x+1))\n",
    "    },\n",
    "    'dur_pt_rail': {\n",
    "        'type': 'continuous',\n",
    "        'bounds': [0, np.infty],\n",
    "        'enforce_bounds': True,\n",
    "        'discrete': False,\n",
    "    },\n",
    "    'dur_pt_bus': {\n",
    "        'type': 'continuous',\n",
    "        'bounds': [0, np.infty],\n",
    "        'enforce_bounds': True,\n",
    "        'discrete': False,\n",
    "    },\n",
    "    'dur_pt_int': {\n",
    "        'type': 'continuous',\n",
    "        'bounds': [0, np.infty],\n",
    "        'enforce_bounds': True,\n",
    "        'discrete': False,\n",
    "    },\n",
    "    'dur_driving': {\n",
    "        'type': 'continuous',\n",
    "        'bounds': [0, np.infty],\n",
    "        'enforce_bounds': True,\n",
    "        'discrete': False,\n",
    "        'apply_func': (lambda x: np.log(x+1))\n",
    "    },\n",
    "    'cost_transit': {\n",
    "        'type': 'continuous',\n",
    "        'bounds': [0, np.infty],\n",
    "        'enforce_bounds': True,\n",
    "        'discrete': False,\n",
    "    },\n",
    "    'cost_driving_fuel': {\n",
    "        'type': 'continuous',\n",
    "        'bounds': [0, np.infty],\n",
    "        'enforce_bounds': True,\n",
    "        'discrete': False,\n",
    "        'apply_func': (lambda x: np.log(x+1))\n",
    "    },\n",
    "    'driving_traffic_percent': {\n",
    "        'type': 'continuous',\n",
    "        'bounds': [0, np.infty],\n",
    "        'discrete': False,\n",
    "    },\n",
    "}\n",
    "\n",
    "# Add the other variables as categorical\n",
    "for c in df.columns:\n",
    "    if c not in data_info.keys():\n",
    "        data_info[c] = {'type': 'categorical'}"
   ],
   "metadata": {
    "collapsed": false,
    "pycharm": {
     "name": "#%%\n"
    }
   }
  },
  {
   "cell_type": "code",
   "execution_count": null,
   "outputs": [],
   "source": [
    "# personalised graph\n",
    "graph = nx.DiGraph()\n",
    "\n",
    "graph.add_edges_from([\n",
    "    (\"travel_year\", \"travel_month\"),\n",
    "    (\"travel_date\", \"day_of_week\"),\n",
    "    (\"travel_month\", \"travel_date\"),\n",
    "    (\"travel_month\", \"driving_traffic_percent\"),\n",
    "    (\"travel_month\", \"day_of_week\"),\n",
    "    (\"travel_month\", \"travel_mode\"),\n",
    "    (\"travel_date\", \"day_of_week\"),\n",
    "    (\"day_of_week\", \"driving_traffic_percent\"),\n",
    "    (\"day_of_week\", \"cost_driving_con_charge\"),\n",
    "    (\"day_of_week\", \"purpose\"),\n",
    "    (\"day_of_week\", \"start_time_linear\"),\n",
    "    (\"day_of_week\", \"travel_mode\"),\n",
    "    (\"purpose\", \"distance\"),\n",
    "    (\"purpose\", \"start_time_linear\"),\n",
    "    (\"purpose\", \"travel_mode\"),\n",
    "    (\"start_time_linear\", \"driving_traffic_percent\"),\n",
    "    (\"start_time_linear\", \"cost_driving_con_charge\"),\n",
    "    (\"start_time_linear\", \"travel_mode\"),\n",
    "    (\"hh_vehicles\", \"fueltype\"),\n",
    "    (\"hh_vehicles\", \"driving_license\"),\n",
    "    (\"hh_vehicles\", \"travel_mode\"),\n",
    "    (\"fueltype\", \"cost_driving_con_charge\"),\n",
    "    (\"fueltype\", \"cost_driving_fuel\"),\n",
    "    (\"female\", \"driving_license\"),\n",
    "    (\"female\", \"travel_mode\"),\n",
    "    (\"age\", \"bus_scale\"),\n",
    "    (\"age\", \"driving_license\"),\n",
    "    (\"age\", \"faretype\"),\n",
    "    (\"age\", \"travel_mode\"),\n",
    "    (\"driving_license\", \"travel_mode\"),\n",
    "    (\"faretype\", \"cost_transit\"),\n",
    "    (\"faretype\", \"bus_scale\"),\n",
    "    (\"faretype\", \"travel_mode\"),\n",
    "    (\"bus_scale\", \"cost_transit\"),\n",
    "    (\"distance\", \"cost_driving_fuel\"),\n",
    "    (\"distance\", \"dur_driving\"),\n",
    "    (\"distance\", \"dur_walking\"),\n",
    "    (\"distance\", \"dur_cycling\"),\n",
    "    (\"distance\", \"dur_pt_access\"),\n",
    "    (\"distance\", \"dur_pt_rail\"),\n",
    "    (\"distance\", \"dur_pt_bus\"),\n",
    "    (\"distance\", \"dur_pt_int\"),\n",
    "    (\"distance\", \"pt_n_interchanges\"),\n",
    "    (\"distance\", \"travel_mode\"),\n",
    "    (\"pt_n_interchanges\", \"dur_pt_rail\"),\n",
    "    (\"pt_n_interchanges\", \"dur_pt_bus\"),\n",
    "    (\"pt_n_interchanges\", \"dur_pt_int\"),\n",
    "    (\"pt_n_interchanges\", \"cost_transit\"),\n",
    "    (\"driving_traffic_percent\", \"cost_driving_con_charge\"),\n",
    "    (\"driving_traffic_percent\", \"travel_mode\"),\n",
    "    (\"cost_driving_fuel\", \"cost_driving_con_charge\"),\n",
    "    (\"cost_driving_fuel\", \"travel_mode\"),\n",
    "    (\"cost_driving_con_charge\", \"travel_mode\"),\n",
    "    (\"dur_driving\", \"travel_mode\"),\n",
    "    (\"dur_walking\", \"travel_mode\"),\n",
    "    (\"dur_cycling\", \"travel_mode\"),\n",
    "    (\"dur_pt_access\", \"travel_mode\"),\n",
    "    (\"dur_pt_rail\", \"cost_transit\"),\n",
    "    (\"dur_pt_rail\", \"travel_mode\"),\n",
    "    (\"dur_pt_bus\", \"cost_transit\"),\n",
    "    (\"dur_pt_bus\", \"travel_mode\"),\n",
    "    (\"dur_pt_int\", \"travel_mode\"),\n",
    "    (\"cost_transit\", \"travel_mode\"),\n",
    "    (\"hh_borough\", \"hh_income\"),\n",
    "    (\"hh_borough\", \"travel_mode\"),\n",
    "    (\"hh_income\", \"hh_vehicles\"),\n",
    "    (\"hh_income\", \"age\"),\n",
    "    (\"hh_income\", \"hh_people\"),\n",
    "    (\"hh_people\", \"age\"),\n",
    "    (\"hh_people\", \"female\")\n",
    "])\n"
   ],
   "metadata": {
    "collapsed": false,
    "pycharm": {
     "name": "#%%\n"
    }
   }
  },
  {
   "cell_type": "code",
   "execution_count": null,
   "outputs": [],
   "source": [
    "name = 'LPMC'"
   ],
   "metadata": {
    "collapsed": false,
    "pycharm": {
     "name": "#%%\n"
    }
   }
  },
  {
   "cell_type": "code",
   "execution_count": null,
   "outputs": [],
   "source": [
    "output_folder = '../output/{}/'.format(name)"
   ],
   "metadata": {
    "collapsed": false,
    "pycharm": {
     "name": "#%%\n"
    }
   }
  },
  {
   "cell_type": "code",
   "execution_count": null,
   "outputs": [],
   "source": [
    "datgan = DATGAN(output=output_folder,\n",
    "                loss_function='WGGP',\n",
    "                batch_size=1101,\n",
    "                num_epochs=1000)"
   ],
   "metadata": {
    "collapsed": false,
    "pycharm": {
     "name": "#%%\n"
    }
   }
  },
  {
   "cell_type": "code",
   "execution_count": null,
   "outputs": [],
   "source": [
    "datgan.fit(df, data_info, graph, preprocessed_data_path='../output/encoded_LPMC')"
   ],
   "metadata": {
    "collapsed": false,
    "pycharm": {
     "name": "#%%\n"
    }
   }
  },
  {
   "cell_type": "code",
   "execution_count": null,
   "outputs": [],
   "source": [
    "for i in range(5):\n",
    "    samp = datgan.sample(len(df))\n",
    "    samp.to_csv('../../data/synthetic/test/DATGAN_{:02d}.csv'.format(i+1), index=False)"
   ],
   "metadata": {
    "collapsed": false,
    "pycharm": {
     "name": "#%%\n"
    }
   }
  },
  {
   "cell_type": "code",
   "execution_count": null,
   "outputs": [],
   "source": [
    "nbrs = {}\n",
    "dct = {}\n",
    "\n",
    "for r in df.hh_borough.unique():\n",
    "    tmp = pd.read_csv('../../data/nomis/{}.csv'.format(r))\n",
    "\n",
    "    nbrs[r] = len(tmp)\n",
    "    dct[r] = []"
   ],
   "metadata": {
    "collapsed": false,
    "pycharm": {
     "name": "#%%\n"
    }
   }
  },
  {
   "cell_type": "code",
   "execution_count": null,
   "outputs": [],
   "source": [
    "remaining_boroughs = set(df.hh_borough.unique())\n",
    "\n",
    "count = 1\n",
    "while remaining_boroughs:\n",
    "\n",
    "    print(\"Pass {} - Remaning boroughs: {}\".format(count, len(remaining_boroughs)))\n",
    "\n",
    "    samp = datgan.sample(100000)\n",
    "\n",
    "    borough_to_remove = []\n",
    "\n",
    "    for r in remaining_boroughs:\n",
    "        tmp = samp[samp.hh_borough == r]\n",
    "\n",
    "        if len(tmp) > nbrs[r]:\n",
    "            tmp = tmp.sample(nbrs[r], replace=False)\n",
    "\n",
    "        nbrs[r] -= len(tmp)\n",
    "        dct[r].append(tmp)\n",
    "\n",
    "        if nbrs[r] == 0:\n",
    "            borough_to_remove.append(r)\n",
    "\n",
    "\n",
    "    for r in borough_to_remove:\n",
    "        remaining_boroughs.remove(r)\n",
    "\n",
    "    count += 1"
   ],
   "metadata": {
    "collapsed": false,
    "pycharm": {
     "name": "#%%\n"
    }
   }
  },
  {
   "cell_type": "code",
   "execution_count": null,
   "outputs": [],
   "source": [
    "for r in dct.keys():\n",
    "    tmp = pd.concat(dct[r])\n",
    "    tmp.to_csv('../../data/synthetic/DATGAN/{}.csv'.format(r), index=False)"
   ],
   "metadata": {
    "collapsed": false,
    "pycharm": {
     "name": "#%%\n"
    }
   }
  }
 ],
 "metadata": {
  "kernelspec": {
   "display_name": "Python 3",
   "language": "python",
   "name": "python3"
  },
  "language_info": {
   "codemirror_mode": {
    "name": "ipython",
    "version": 2
   },
   "file_extension": ".py",
   "mimetype": "text/x-python",
   "name": "python",
   "nbconvert_exporter": "python",
   "pygments_lexer": "ipython2",
   "version": "2.7.6"
  }
 },
 "nbformat": 4,
 "nbformat_minor": 0
}