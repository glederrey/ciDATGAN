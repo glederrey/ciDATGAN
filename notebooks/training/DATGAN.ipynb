{
 "cells": [
  {
   "cell_type": "code",
   "execution_count": 1,
   "metadata": {
    "collapsed": true
   },
   "outputs": [],
   "source": [
    "from datgan import DATGAN\n",
    "import datgan\n",
    "\n",
    "import numpy as np\n",
    "import pandas as pd\n",
    "import networkx as nx\n",
    "\n",
    "# For the Python notebook\n",
    "%matplotlib inline\n",
    "%reload_ext autoreload\n",
    "%autoreload 2\n",
    "\n",
    "import tensorflow as tf\n",
    "#tf.config.run_functions_eagerly(True)"
   ]
  },
  {
   "cell_type": "code",
   "execution_count": 2,
   "outputs": [],
   "source": [
    "df = pd.read_csv('../../data/LPMC/trips.csv', index_col=False)"
   ],
   "metadata": {
    "collapsed": false,
    "pycharm": {
     "name": "#%%\n"
    }
   }
  },
  {
   "cell_type": "code",
   "execution_count": 3,
   "outputs": [
    {
     "data": {
      "text/plain": "  travel_mode purpose faretype  day_of_week  start_time_linear  age  female  \\\n0        walk     HBO     full            6          15.833333   30       0   \n1          pt     HBO     full            7          10.000000   50       1   \n2          pt     HBW     full            5          17.000000   55       1   \n3       drive     HBO     full            6          16.883333   51       1   \n4          pt     HBW     full            3           7.500000   39       1   \n\n   driving_license  distance  dur_walking  dur_cycling  dur_driving  \\\n0                1      2145     0.553056     0.157500     0.158333   \n1                1      1789     0.473333     0.160556     0.135000   \n2                1     10036     2.411667     0.761389     0.638056   \n3                1      1531     0.423889     0.168611     0.110556   \n4                1      1124     0.275833     0.123611     0.081667   \n\n   driving_traffic_percent  hh_vehicles   hh_borough hh_income  hh_people  \\\n0                 0.473684            0    Southwark    35-50k          2   \n1                 0.547325            0  Westminster    15-20k          5   \n2                 0.543317            2       Merton   75-100k          2   \n3                 0.268844            1     Lewisham     >100k          2   \n4                 0.156463            1      Bromley     >100k          4   \n\n     dur_pt  \n0  0.436389  \n1  0.271111  \n2  0.830833  \n3  0.295556  \n4  0.124722  ",
      "text/html": "<div>\n<style scoped>\n    .dataframe tbody tr th:only-of-type {\n        vertical-align: middle;\n    }\n\n    .dataframe tbody tr th {\n        vertical-align: top;\n    }\n\n    .dataframe thead th {\n        text-align: right;\n    }\n</style>\n<table border=\"1\" class=\"dataframe\">\n  <thead>\n    <tr style=\"text-align: right;\">\n      <th></th>\n      <th>travel_mode</th>\n      <th>purpose</th>\n      <th>faretype</th>\n      <th>day_of_week</th>\n      <th>start_time_linear</th>\n      <th>age</th>\n      <th>female</th>\n      <th>driving_license</th>\n      <th>distance</th>\n      <th>dur_walking</th>\n      <th>dur_cycling</th>\n      <th>dur_driving</th>\n      <th>driving_traffic_percent</th>\n      <th>hh_vehicles</th>\n      <th>hh_borough</th>\n      <th>hh_income</th>\n      <th>hh_people</th>\n      <th>dur_pt</th>\n    </tr>\n  </thead>\n  <tbody>\n    <tr>\n      <th>0</th>\n      <td>walk</td>\n      <td>HBO</td>\n      <td>full</td>\n      <td>6</td>\n      <td>15.833333</td>\n      <td>30</td>\n      <td>0</td>\n      <td>1</td>\n      <td>2145</td>\n      <td>0.553056</td>\n      <td>0.157500</td>\n      <td>0.158333</td>\n      <td>0.473684</td>\n      <td>0</td>\n      <td>Southwark</td>\n      <td>35-50k</td>\n      <td>2</td>\n      <td>0.436389</td>\n    </tr>\n    <tr>\n      <th>1</th>\n      <td>pt</td>\n      <td>HBO</td>\n      <td>full</td>\n      <td>7</td>\n      <td>10.000000</td>\n      <td>50</td>\n      <td>1</td>\n      <td>1</td>\n      <td>1789</td>\n      <td>0.473333</td>\n      <td>0.160556</td>\n      <td>0.135000</td>\n      <td>0.547325</td>\n      <td>0</td>\n      <td>Westminster</td>\n      <td>15-20k</td>\n      <td>5</td>\n      <td>0.271111</td>\n    </tr>\n    <tr>\n      <th>2</th>\n      <td>pt</td>\n      <td>HBW</td>\n      <td>full</td>\n      <td>5</td>\n      <td>17.000000</td>\n      <td>55</td>\n      <td>1</td>\n      <td>1</td>\n      <td>10036</td>\n      <td>2.411667</td>\n      <td>0.761389</td>\n      <td>0.638056</td>\n      <td>0.543317</td>\n      <td>2</td>\n      <td>Merton</td>\n      <td>75-100k</td>\n      <td>2</td>\n      <td>0.830833</td>\n    </tr>\n    <tr>\n      <th>3</th>\n      <td>drive</td>\n      <td>HBO</td>\n      <td>full</td>\n      <td>6</td>\n      <td>16.883333</td>\n      <td>51</td>\n      <td>1</td>\n      <td>1</td>\n      <td>1531</td>\n      <td>0.423889</td>\n      <td>0.168611</td>\n      <td>0.110556</td>\n      <td>0.268844</td>\n      <td>1</td>\n      <td>Lewisham</td>\n      <td>&gt;100k</td>\n      <td>2</td>\n      <td>0.295556</td>\n    </tr>\n    <tr>\n      <th>4</th>\n      <td>pt</td>\n      <td>HBW</td>\n      <td>full</td>\n      <td>3</td>\n      <td>7.500000</td>\n      <td>39</td>\n      <td>1</td>\n      <td>1</td>\n      <td>1124</td>\n      <td>0.275833</td>\n      <td>0.123611</td>\n      <td>0.081667</td>\n      <td>0.156463</td>\n      <td>1</td>\n      <td>Bromley</td>\n      <td>&gt;100k</td>\n      <td>4</td>\n      <td>0.124722</td>\n    </tr>\n  </tbody>\n</table>\n</div>"
     },
     "execution_count": 3,
     "metadata": {},
     "output_type": "execute_result"
    }
   ],
   "source": [
    "df.head()"
   ],
   "metadata": {
    "collapsed": false,
    "pycharm": {
     "name": "#%%\n"
    }
   }
  },
  {
   "cell_type": "code",
   "execution_count": 4,
   "outputs": [],
   "source": [
    "# First, define the specificities of continuous variables\n",
    "data_info = {\n",
    "    'start_time_linear': {\n",
    "        'type': 'continuous',\n",
    "        'bounds': [0.0, 23.999],\n",
    "        'discrete': False,\n",
    "    },\n",
    "    'age': {\n",
    "        'type': 'continuous',\n",
    "        'bounds': [0, 100],\n",
    "        'discrete': True\n",
    "    },\n",
    "    'distance': {\n",
    "        'type': 'continuous',\n",
    "        'bounds': [0, np.infty],\n",
    "        'discrete': True,\n",
    "        'apply_func': (lambda x: np.log(x+1))\n",
    "    },\n",
    "    'dur_walking': {\n",
    "        'type': 'continuous',\n",
    "        'bounds': [0, np.infty],\n",
    "        'enforce_bounds': True,\n",
    "        'discrete': False,\n",
    "        'apply_func': (lambda x: np.log(x+1))\n",
    "    },\n",
    "    'dur_cycling': {\n",
    "        'type': 'continuous',\n",
    "        'bounds': [0, np.infty],\n",
    "        'enforce_bounds': True,\n",
    "        'discrete': False,\n",
    "        'apply_func': (lambda x: np.log(x+1))\n",
    "    },\n",
    "    'dur_pt': {\n",
    "        'type': 'continuous',\n",
    "        'bounds': [0, np.infty],\n",
    "        'enforce_bounds': True,\n",
    "        'discrete': False,\n",
    "        'apply_func': (lambda x: np.log(x+1))\n",
    "    },\n",
    "    'dur_driving': {\n",
    "        'type': 'continuous',\n",
    "        'bounds': [0, np.infty],\n",
    "        'enforce_bounds': True,\n",
    "        'discrete': False,\n",
    "        'apply_func': (lambda x: np.log(x+1))\n",
    "    },\n",
    "    'driving_traffic_percent': {\n",
    "        'type': 'continuous',\n",
    "        'bounds': [0, np.infty],\n",
    "        'discrete': False,\n",
    "    },\n",
    "}\n",
    "\n",
    "# Add the other variables as categorical\n",
    "for c in df.columns:\n",
    "    if c not in data_info.keys():\n",
    "        data_info[c] = {'type': 'categorical'}"
   ],
   "metadata": {
    "collapsed": false,
    "pycharm": {
     "name": "#%%\n"
    }
   }
  },
  {
   "cell_type": "code",
   "execution_count": 5,
   "outputs": [
    {
     "data": {
      "text/plain": "Index(['travel_mode', 'purpose', 'faretype', 'day_of_week',\n       'start_time_linear', 'age', 'female', 'driving_license', 'distance',\n       'dur_walking', 'dur_cycling', 'dur_driving', 'driving_traffic_percent',\n       'hh_vehicles', 'hh_borough', 'hh_income', 'hh_people', 'dur_pt'],\n      dtype='object')"
     },
     "execution_count": 5,
     "metadata": {},
     "output_type": "execute_result"
    }
   ],
   "source": [
    "df.columns"
   ],
   "metadata": {
    "collapsed": false,
    "pycharm": {
     "name": "#%%\n"
    }
   }
  },
  {
   "cell_type": "code",
   "execution_count": 6,
   "outputs": [],
   "source": [
    "# personalised graph\n",
    "graph = nx.DiGraph()\n",
    "\n",
    "graph.add_edges_from([\n",
    "    ('hh_borough', 'hh_people'),\n",
    "    ('hh_borough', 'distance'),\n",
    "    ('hh_borough', 'hh_income'),\n",
    "    ('hh_borough', 'travel_mode'),\n",
    "    ('hh_income', 'hh_vehicles'),\n",
    "    ('hh_people', 'hh_vehicles'),\n",
    "    ('age', 'hh_people'),\n",
    "    ('age', 'faretype'),\n",
    "    ('age', 'driving_license'),\n",
    "    ('age', 'purpose'),\n",
    "    ('age', 'travel_mode'),\n",
    "    ('female', 'driving_license'),\n",
    "    ('female', 'hh_people'),\n",
    "    ('driving_license', 'travel_mode'),\n",
    "    ('hh_vehicles', 'driving_license'),\n",
    "    ('hh_vehicles', 'travel_mode'),\n",
    "    ('faretype', 'travel_mode'),\n",
    "    ('day_of_week', 'purpose'),\n",
    "    ('day_of_week', 'start_time_linear'),\n",
    "    ('day_of_week', 'driving_traffic_percent'),\n",
    "    ('purpose', 'start_time_linear'),\n",
    "    ('purpose', 'travel_mode'),\n",
    "    ('start_time_linear', 'driving_traffic_percent'),\n",
    "    ('driving_traffic_percent', 'dur_driving'),\n",
    "    ('distance', 'driving_traffic_percent'),\n",
    "    ('distance', 'dur_walking'),\n",
    "    ('distance', 'dur_cycling'),\n",
    "    ('distance', 'dur_pt'),\n",
    "    ('distance', 'dur_driving'),\n",
    "    ('distance', 'travel_mode')\n",
    "])"
   ],
   "metadata": {
    "collapsed": false,
    "pycharm": {
     "name": "#%%\n"
    }
   }
  },
  {
   "cell_type": "code",
   "execution_count": 7,
   "outputs": [],
   "source": [
    "name = 'DATGAN'"
   ],
   "metadata": {
    "collapsed": false,
    "pycharm": {
     "name": "#%%\n"
    }
   }
  },
  {
   "cell_type": "code",
   "execution_count": 8,
   "outputs": [],
   "source": [
    "output_folder = '../output/{}/'.format(name)"
   ],
   "metadata": {
    "collapsed": false,
    "pycharm": {
     "name": "#%%\n"
    }
   }
  },
  {
   "cell_type": "code",
   "execution_count": 9,
   "outputs": [],
   "source": [
    "datgan = DATGAN(output=output_folder,\n",
    "                loss_function='WGGP',\n",
    "                batch_size=1101,\n",
    "                num_epochs=1000)"
   ],
   "metadata": {
    "collapsed": false,
    "pycharm": {
     "name": "#%%\n"
    }
   }
  },
  {
   "cell_type": "code",
   "execution_count": 10,
   "outputs": [
    {
     "name": "stdout",
     "output_type": "stream",
     "text": [
      "Preprocessed data have been loaded!\n",
      "Start training DATGAN with the WGGP loss (08/05/2022 19:56:29).\n",
      "Restored models from epoch 1000.\n"
     ]
    },
    {
     "name": "stderr",
     "output_type": "stream",
     "text": [
      "Training DATGAN: 0it [00:00, ?it/s]"
     ]
    },
    {
     "name": "stdout",
     "output_type": "stream",
     "text": [
      "DATGAN has finished training (08/05/2022 19:56:29) - Training time: 00 second\n"
     ]
    },
    {
     "name": "stderr",
     "output_type": "stream",
     "text": [
      "\n"
     ]
    }
   ],
   "source": [
    "datgan.fit(df, data_info, graph, preprocessed_data_path='../output/encoded_LPMC')"
   ],
   "metadata": {
    "collapsed": false,
    "pycharm": {
     "name": "#%%\n"
    }
   }
  },
  {
   "cell_type": "code",
   "execution_count": 17,
   "outputs": [
    {
     "name": "stderr",
     "output_type": "stream",
     "text": [
      "\n",
      "Sampling from DATGAN:   0%|          | 0/16904 [00:00<?, ?it/s]\u001B[A\n",
      "Sampling from DATGAN:   7%|▋         | 1101/16904 [00:02<00:32, 484.35it/s]\u001B[A\n",
      "Sampling from DATGAN:  13%|█▎        | 2201/16904 [00:03<00:21, 695.72it/s]\u001B[A\n",
      "Sampling from DATGAN:  20%|█▉        | 3301/16904 [00:04<00:16, 811.70it/s]\u001B[A\n",
      "Sampling from DATGAN:  26%|██▌       | 4402/16904 [00:05<00:14, 874.56it/s]\u001B[A\n",
      "Sampling from DATGAN:  33%|███▎      | 5503/16904 [00:06<00:12, 915.02it/s]\u001B[A\n",
      "Sampling from DATGAN:  39%|███▉      | 6604/16904 [00:07<00:10, 946.32it/s]\u001B[A\n",
      "Sampling from DATGAN:  46%|████▌     | 7705/16904 [00:08<00:09, 968.97it/s]\u001B[A\n",
      "Sampling from DATGAN:  52%|█████▏    | 8806/16904 [00:09<00:08, 978.88it/s]\u001B[A\n",
      "Sampling from DATGAN:  59%|█████▊    | 9907/16904 [00:11<00:07, 987.13it/s]\u001B[A\n",
      "Sampling from DATGAN:  65%|██████▌   | 11008/16904 [00:12<00:05, 994.19it/s]\u001B[A\n",
      "Sampling from DATGAN:  72%|███████▏  | 12109/16904 [00:13<00:04, 977.93it/s]\u001B[A\n",
      "Sampling from DATGAN:  78%|███████▊  | 13209/16904 [00:14<00:03, 980.27it/s]\u001B[A\n",
      "Sampling from DATGAN:  85%|████████▍ | 14310/16904 [00:15<00:02, 982.43it/s]\u001B[A\n",
      "Sampling from DATGAN:  91%|█████████ | 15410/16904 [00:16<00:01, 921.25it/s]\u001B[A\n",
      "Sampling from DATGAN:  98%|█████████▊| 16510/16904 [00:18<00:00, 926.97it/s]\u001B[A\n",
      "Sampling from DATGAN: 100%|██████████| 16904/16904 [00:19<00:00, 877.08it/s]\u001B[A\n",
      "\n",
      "Sampling from DATGAN:   0%|          | 0/16904 [00:00<?, ?it/s]\u001B[A\n",
      "Sampling from DATGAN:   7%|▋         | 1101/16904 [00:01<00:15, 1026.03it/s]\u001B[A\n",
      "Sampling from DATGAN:  13%|█▎        | 2202/16904 [00:02<00:14, 1020.33it/s]\u001B[A\n",
      "Sampling from DATGAN:  20%|█▉        | 3303/16904 [00:03<00:14, 951.72it/s] \u001B[A\n",
      "Sampling from DATGAN:  26%|██▌       | 4404/16904 [00:04<00:13, 937.33it/s]\u001B[A\n",
      "Sampling from DATGAN:  33%|███▎      | 5505/16904 [00:05<00:11, 958.53it/s]\u001B[A\n",
      "Sampling from DATGAN:  39%|███▉      | 6606/16904 [00:06<00:10, 966.73it/s]\u001B[A\n",
      "Sampling from DATGAN:  46%|████▌     | 7707/16904 [00:08<00:09, 951.18it/s]\u001B[A\n",
      "Sampling from DATGAN:  52%|█████▏    | 8808/16904 [00:09<00:08, 966.97it/s]\u001B[A\n",
      "Sampling from DATGAN:  59%|█████▊    | 9908/16904 [00:10<00:07, 982.14it/s]\u001B[A\n",
      "Sampling from DATGAN:  65%|██████▌   | 11007/16904 [00:11<00:05, 998.53it/s]\u001B[A\n",
      "Sampling from DATGAN:  72%|███████▏  | 12108/16904 [00:12<00:04, 985.50it/s]\u001B[A\n",
      "Sampling from DATGAN:  78%|███████▊  | 13209/16904 [00:13<00:03, 989.84it/s]\u001B[A\n",
      "Sampling from DATGAN:  85%|████████▍ | 14310/16904 [00:14<00:02, 994.75it/s]\u001B[A\n",
      "Sampling from DATGAN:  91%|█████████ | 15411/16904 [00:15<00:01, 1001.32it/s]\u001B[A\n",
      "Sampling from DATGAN:  98%|█████████▊| 16512/16904 [00:16<00:00, 999.12it/s] \u001B[A\n",
      "Sampling from DATGAN: 100%|██████████| 16904/16904 [00:17<00:00, 944.84it/s]\u001B[A\n",
      "\n",
      "Sampling from DATGAN:   0%|          | 0/16904 [00:00<?, ?it/s]\u001B[A\n",
      "Sampling from DATGAN:   7%|▋         | 1101/16904 [00:01<00:15, 1018.24it/s]\u001B[A\n",
      "Sampling from DATGAN:  13%|█▎        | 2202/16904 [00:02<00:14, 1019.06it/s]\u001B[A\n",
      "Sampling from DATGAN:  20%|█▉        | 3303/16904 [00:03<00:13, 1006.86it/s]\u001B[A\n",
      "Sampling from DATGAN:  26%|██▌       | 4403/16904 [00:04<00:12, 995.57it/s] \u001B[A\n",
      "Sampling from DATGAN:  33%|███▎      | 5504/16904 [00:05<00:11, 999.39it/s]\u001B[A\n",
      "Sampling from DATGAN:  39%|███▉      | 6605/16904 [00:06<00:10, 1004.48it/s]\u001B[A\n",
      "Sampling from DATGAN:  46%|████▌     | 7706/16904 [00:07<00:09, 1005.35it/s]\u001B[A\n",
      "Sampling from DATGAN:  52%|█████▏    | 8807/16904 [00:08<00:08, 991.34it/s] \u001B[A\n",
      "Sampling from DATGAN:  59%|█████▊    | 9908/16904 [00:09<00:07, 990.25it/s]\u001B[A\n",
      "Sampling from DATGAN:  65%|██████▌   | 11009/16904 [00:11<00:05, 994.17it/s]\u001B[A\n",
      "Sampling from DATGAN:  72%|███████▏  | 12110/16904 [00:12<00:04, 992.64it/s]\u001B[A\n",
      "Sampling from DATGAN:  78%|███████▊  | 13211/16904 [00:13<00:03, 1002.92it/s]\u001B[A\n",
      "Sampling from DATGAN:  85%|████████▍ | 14312/16904 [00:14<00:02, 1001.86it/s]\u001B[A\n",
      "Sampling from DATGAN:  91%|█████████ | 15413/16904 [00:15<00:01, 1000.89it/s]\u001B[A\n",
      "Sampling from DATGAN:  98%|█████████▊| 16514/16904 [00:16<00:00, 989.69it/s] \u001B[A\n",
      "Sampling from DATGAN: 100%|██████████| 16904/16904 [00:17<00:00, 958.38it/s]\u001B[A\n",
      "\n",
      "Sampling from DATGAN:   0%|          | 0/16904 [00:00<?, ?it/s]\u001B[A\n",
      "Sampling from DATGAN:   7%|▋         | 1101/16904 [00:01<00:15, 1018.24it/s]\u001B[A\n",
      "Sampling from DATGAN:  13%|█▎        | 2202/16904 [00:02<00:14, 1014.95it/s]\u001B[A\n",
      "Sampling from DATGAN:  20%|█▉        | 3303/16904 [00:03<00:13, 1006.97it/s]\u001B[A\n",
      "Sampling from DATGAN:  26%|██▌       | 4402/16904 [00:04<00:12, 998.99it/s] \u001B[A\n",
      "Sampling from DATGAN:  33%|███▎      | 5503/16904 [00:05<00:11, 1007.58it/s]\u001B[A\n",
      "Sampling from DATGAN:  39%|███▉      | 6604/16904 [00:06<00:10, 1011.26it/s]\u001B[A\n",
      "Sampling from DATGAN:  46%|████▌     | 7705/16904 [00:07<00:09, 1014.29it/s]\u001B[A\n",
      "Sampling from DATGAN:  52%|█████▏    | 8806/16904 [00:08<00:08, 1010.83it/s]\u001B[A\n",
      "Sampling from DATGAN:  59%|█████▊    | 9905/16904 [00:09<00:06, 1014.54it/s]\u001B[A\n",
      "Sampling from DATGAN:  65%|██████▌   | 11006/16904 [00:10<00:05, 1004.46it/s]\u001B[A\n",
      "Sampling from DATGAN:  72%|███████▏  | 12107/16904 [00:12<00:04, 994.94it/s] \u001B[A\n",
      "Sampling from DATGAN:  78%|███████▊  | 13208/16904 [00:13<00:03, 998.21it/s]\u001B[A\n",
      "Sampling from DATGAN:  85%|████████▍ | 14309/16904 [00:14<00:02, 1002.96it/s]\u001B[A\n",
      "Sampling from DATGAN:  91%|█████████ | 15410/16904 [00:15<00:01, 1008.91it/s]\u001B[A\n",
      "Sampling from DATGAN:  98%|█████████▊| 16511/16904 [00:16<00:00, 1005.76it/s]\u001B[A\n",
      "Sampling from DATGAN: 100%|██████████| 16904/16904 [00:17<00:00, 966.65it/s] \u001B[A\n",
      "\n",
      "Sampling from DATGAN:   0%|          | 0/16904 [00:00<?, ?it/s]\u001B[A\n",
      "Sampling from DATGAN:   7%|▋         | 1101/16904 [00:01<00:15, 1004.87it/s]\u001B[A\n",
      "Sampling from DATGAN:  13%|█▎        | 2202/16904 [00:02<00:15, 920.32it/s] \u001B[A\n",
      "Sampling from DATGAN:  20%|█▉        | 3303/16904 [00:03<00:15, 903.88it/s]\u001B[A\n",
      "Sampling from DATGAN:  26%|██▌       | 4404/16904 [00:04<00:13, 934.66it/s]\u001B[A\n",
      "Sampling from DATGAN:  33%|███▎      | 5504/16904 [00:05<00:12, 948.60it/s]\u001B[A\n",
      "Sampling from DATGAN:  39%|███▉      | 6605/16904 [00:06<00:10, 971.04it/s]\u001B[A\n",
      "Sampling from DATGAN:  46%|████▌     | 7706/16904 [00:08<00:09, 988.43it/s]\u001B[A\n",
      "Sampling from DATGAN:  52%|█████▏    | 8807/16904 [00:09<00:08, 992.47it/s]\u001B[A\n",
      "Sampling from DATGAN:  59%|█████▊    | 9908/16904 [00:10<00:07, 971.37it/s]\u001B[A\n",
      "Sampling from DATGAN:  65%|██████▌   | 11009/16904 [00:11<00:06, 962.68it/s]\u001B[A\n",
      "Sampling from DATGAN:  72%|███████▏  | 12110/16904 [00:12<00:04, 973.12it/s]\u001B[A\n",
      "Sampling from DATGAN:  78%|███████▊  | 13211/16904 [00:13<00:03, 973.78it/s]\u001B[A\n",
      "Sampling from DATGAN:  85%|████████▍ | 14312/16904 [00:14<00:02, 988.30it/s]\u001B[A\n",
      "Sampling from DATGAN:  91%|█████████ | 15413/16904 [00:15<00:01, 995.53it/s]\u001B[A\n",
      "Sampling from DATGAN:  98%|█████████▊| 16514/16904 [00:16<00:00, 1003.36it/s]\u001B[A\n",
      "Sampling from DATGAN: 100%|██████████| 16904/16904 [00:18<00:00, 938.03it/s] \u001B[A\n"
     ]
    }
   ],
   "source": [
    "for i in range(5):\n",
    "    samp = datgan.sample(len(df))\n",
    "    samp.to_csv('../../data/synthetic/test/DATGAN_{:02d}.csv'.format(i+1), index=False)"
   ],
   "metadata": {
    "collapsed": false,
    "pycharm": {
     "name": "#%%\n"
    }
   }
  },
  {
   "cell_type": "code",
   "execution_count": 11,
   "outputs": [],
   "source": [
    "nbrs = {}\n",
    "dct = {}\n",
    "\n",
    "for r in df.hh_borough.unique():\n",
    "    tmp = pd.read_csv('../../data/nomis/{}.csv'.format(r))\n",
    "\n",
    "    nbrs[r] = len(tmp)\n",
    "    dct[r] = []"
   ],
   "metadata": {
    "collapsed": false,
    "pycharm": {
     "name": "#%%\n"
    }
   }
  },
  {
   "cell_type": "code",
   "execution_count": 12,
   "outputs": [
    {
     "name": "stdout",
     "output_type": "stream",
     "text": [
      "Pass 1 - Remaning boroughs: 33\n"
     ]
    },
    {
     "name": "stderr",
     "output_type": "stream",
     "text": [
      "Sampling from DATGAN: 100%|██████████| 100000/100000 [01:41<00:00, 981.84it/s]\n"
     ]
    },
    {
     "name": "stdout",
     "output_type": "stream",
     "text": [
      "Pass 2 - Remaning boroughs: 33\n"
     ]
    },
    {
     "name": "stderr",
     "output_type": "stream",
     "text": [
      "Sampling from DATGAN: 100%|██████████| 100000/100000 [01:37<00:00, 1024.45it/s]\n"
     ]
    },
    {
     "name": "stdout",
     "output_type": "stream",
     "text": [
      "Pass 3 - Remaning boroughs: 33\n"
     ]
    },
    {
     "name": "stderr",
     "output_type": "stream",
     "text": [
      "Sampling from DATGAN: 100%|██████████| 100000/100000 [01:37<00:00, 1020.62it/s]\n"
     ]
    },
    {
     "name": "stdout",
     "output_type": "stream",
     "text": [
      "Pass 4 - Remaning boroughs: 33\n"
     ]
    },
    {
     "name": "stderr",
     "output_type": "stream",
     "text": [
      "Sampling from DATGAN: 100%|██████████| 100000/100000 [01:37<00:00, 1022.89it/s]\n"
     ]
    },
    {
     "name": "stdout",
     "output_type": "stream",
     "text": [
      "Pass 5 - Remaning boroughs: 33\n"
     ]
    },
    {
     "name": "stderr",
     "output_type": "stream",
     "text": [
      "Sampling from DATGAN: 100%|██████████| 100000/100000 [01:38<00:00, 1012.76it/s]\n"
     ]
    },
    {
     "name": "stdout",
     "output_type": "stream",
     "text": [
      "Pass 6 - Remaning boroughs: 33\n"
     ]
    },
    {
     "name": "stderr",
     "output_type": "stream",
     "text": [
      "Sampling from DATGAN: 100%|██████████| 100000/100000 [01:37<00:00, 1028.85it/s]\n"
     ]
    },
    {
     "name": "stdout",
     "output_type": "stream",
     "text": [
      "Pass 7 - Remaning boroughs: 33\n"
     ]
    },
    {
     "name": "stderr",
     "output_type": "stream",
     "text": [
      "Sampling from DATGAN: 100%|██████████| 100000/100000 [01:37<00:00, 1026.59it/s]\n"
     ]
    },
    {
     "name": "stdout",
     "output_type": "stream",
     "text": [
      "Pass 8 - Remaning boroughs: 33\n"
     ]
    },
    {
     "name": "stderr",
     "output_type": "stream",
     "text": [
      "Sampling from DATGAN: 100%|██████████| 100000/100000 [01:37<00:00, 1026.97it/s]\n"
     ]
    },
    {
     "name": "stdout",
     "output_type": "stream",
     "text": [
      "Pass 9 - Remaning boroughs: 32\n"
     ]
    },
    {
     "name": "stderr",
     "output_type": "stream",
     "text": [
      "Sampling from DATGAN: 100%|██████████| 100000/100000 [01:35<00:00, 1042.26it/s]\n"
     ]
    },
    {
     "name": "stdout",
     "output_type": "stream",
     "text": [
      "Pass 10 - Remaning boroughs: 32\n"
     ]
    },
    {
     "name": "stderr",
     "output_type": "stream",
     "text": [
      "Sampling from DATGAN: 100%|██████████| 100000/100000 [01:36<00:00, 1032.66it/s]\n"
     ]
    },
    {
     "name": "stdout",
     "output_type": "stream",
     "text": [
      "Pass 11 - Remaning boroughs: 32\n"
     ]
    },
    {
     "name": "stderr",
     "output_type": "stream",
     "text": [
      "Sampling from DATGAN: 100%|██████████| 100000/100000 [01:36<00:00, 1038.13it/s]\n"
     ]
    },
    {
     "name": "stdout",
     "output_type": "stream",
     "text": [
      "Pass 12 - Remaning boroughs: 32\n"
     ]
    },
    {
     "name": "stderr",
     "output_type": "stream",
     "text": [
      "Sampling from DATGAN: 100%|██████████| 100000/100000 [01:36<00:00, 1040.51it/s]\n"
     ]
    },
    {
     "name": "stdout",
     "output_type": "stream",
     "text": [
      "Pass 13 - Remaning boroughs: 32\n"
     ]
    },
    {
     "name": "stderr",
     "output_type": "stream",
     "text": [
      "Sampling from DATGAN: 100%|██████████| 100000/100000 [01:36<00:00, 1039.57it/s]\n"
     ]
    },
    {
     "name": "stdout",
     "output_type": "stream",
     "text": [
      "Pass 14 - Remaning boroughs: 32\n"
     ]
    },
    {
     "name": "stderr",
     "output_type": "stream",
     "text": [
      "Sampling from DATGAN: 100%|██████████| 100000/100000 [01:37<00:00, 1029.51it/s]\n"
     ]
    },
    {
     "name": "stdout",
     "output_type": "stream",
     "text": [
      "Pass 15 - Remaning boroughs: 32\n"
     ]
    },
    {
     "name": "stderr",
     "output_type": "stream",
     "text": [
      "Sampling from DATGAN: 100%|██████████| 100000/100000 [01:36<00:00, 1040.35it/s]\n"
     ]
    },
    {
     "name": "stdout",
     "output_type": "stream",
     "text": [
      "Pass 16 - Remaning boroughs: 32\n"
     ]
    },
    {
     "name": "stderr",
     "output_type": "stream",
     "text": [
      "Sampling from DATGAN: 100%|██████████| 100000/100000 [01:36<00:00, 1038.85it/s]\n"
     ]
    },
    {
     "name": "stdout",
     "output_type": "stream",
     "text": [
      "Pass 17 - Remaning boroughs: 32\n"
     ]
    },
    {
     "name": "stderr",
     "output_type": "stream",
     "text": [
      "Sampling from DATGAN: 100%|██████████| 100000/100000 [01:36<00:00, 1035.22it/s]\n"
     ]
    },
    {
     "name": "stdout",
     "output_type": "stream",
     "text": [
      "Pass 18 - Remaning boroughs: 32\n"
     ]
    },
    {
     "name": "stderr",
     "output_type": "stream",
     "text": [
      "Sampling from DATGAN: 100%|██████████| 100000/100000 [01:36<00:00, 1038.13it/s]\n"
     ]
    },
    {
     "name": "stdout",
     "output_type": "stream",
     "text": [
      "Pass 19 - Remaning boroughs: 32\n"
     ]
    },
    {
     "name": "stderr",
     "output_type": "stream",
     "text": [
      "Sampling from DATGAN: 100%|██████████| 100000/100000 [01:37<00:00, 1026.61it/s]\n"
     ]
    },
    {
     "name": "stdout",
     "output_type": "stream",
     "text": [
      "Pass 20 - Remaning boroughs: 32\n"
     ]
    },
    {
     "name": "stderr",
     "output_type": "stream",
     "text": [
      "Sampling from DATGAN: 100%|██████████| 100000/100000 [01:37<00:00, 1023.12it/s]\n"
     ]
    },
    {
     "name": "stdout",
     "output_type": "stream",
     "text": [
      "Pass 21 - Remaning boroughs: 32\n"
     ]
    },
    {
     "name": "stderr",
     "output_type": "stream",
     "text": [
      "Sampling from DATGAN: 100%|██████████| 100000/100000 [01:37<00:00, 1028.56it/s]\n"
     ]
    },
    {
     "name": "stdout",
     "output_type": "stream",
     "text": [
      "Pass 22 - Remaning boroughs: 32\n"
     ]
    },
    {
     "name": "stderr",
     "output_type": "stream",
     "text": [
      "Sampling from DATGAN: 100%|██████████| 100000/100000 [01:36<00:00, 1033.59it/s]\n"
     ]
    },
    {
     "name": "stdout",
     "output_type": "stream",
     "text": [
      "Pass 23 - Remaning boroughs: 32\n"
     ]
    },
    {
     "name": "stderr",
     "output_type": "stream",
     "text": [
      "Sampling from DATGAN: 100%|██████████| 100000/100000 [01:37<00:00, 1024.04it/s]\n"
     ]
    },
    {
     "name": "stdout",
     "output_type": "stream",
     "text": [
      "Pass 24 - Remaning boroughs: 32\n"
     ]
    },
    {
     "name": "stderr",
     "output_type": "stream",
     "text": [
      "Sampling from DATGAN: 100%|██████████| 100000/100000 [01:41<00:00, 981.11it/s]\n"
     ]
    },
    {
     "name": "stdout",
     "output_type": "stream",
     "text": [
      "Pass 25 - Remaning boroughs: 32\n"
     ]
    },
    {
     "name": "stderr",
     "output_type": "stream",
     "text": [
      "Sampling from DATGAN: 100%|██████████| 100000/100000 [01:41<00:00, 983.14it/s]\n"
     ]
    },
    {
     "name": "stdout",
     "output_type": "stream",
     "text": [
      "Pass 26 - Remaning boroughs: 32\n"
     ]
    },
    {
     "name": "stderr",
     "output_type": "stream",
     "text": [
      "Sampling from DATGAN: 100%|██████████| 100000/100000 [01:42<00:00, 974.24it/s]\n"
     ]
    },
    {
     "name": "stdout",
     "output_type": "stream",
     "text": [
      "Pass 27 - Remaning boroughs: 32\n"
     ]
    },
    {
     "name": "stderr",
     "output_type": "stream",
     "text": [
      "Sampling from DATGAN: 100%|██████████| 100000/100000 [01:42<00:00, 976.14it/s]\n"
     ]
    },
    {
     "name": "stdout",
     "output_type": "stream",
     "text": [
      "Pass 28 - Remaning boroughs: 32\n"
     ]
    },
    {
     "name": "stderr",
     "output_type": "stream",
     "text": [
      "Sampling from DATGAN: 100%|██████████| 100000/100000 [01:41<00:00, 981.98it/s]\n"
     ]
    },
    {
     "name": "stdout",
     "output_type": "stream",
     "text": [
      "Pass 29 - Remaning boroughs: 32\n"
     ]
    },
    {
     "name": "stderr",
     "output_type": "stream",
     "text": [
      "Sampling from DATGAN: 100%|██████████| 100000/100000 [01:40<00:00, 997.67it/s]\n"
     ]
    },
    {
     "name": "stdout",
     "output_type": "stream",
     "text": [
      "Pass 30 - Remaning boroughs: 32\n"
     ]
    },
    {
     "name": "stderr",
     "output_type": "stream",
     "text": [
      "Sampling from DATGAN: 100%|██████████| 100000/100000 [01:40<00:00, 992.68it/s]\n"
     ]
    },
    {
     "name": "stdout",
     "output_type": "stream",
     "text": [
      "Pass 31 - Remaning boroughs: 32\n"
     ]
    },
    {
     "name": "stderr",
     "output_type": "stream",
     "text": [
      "Sampling from DATGAN: 100%|██████████| 100000/100000 [01:40<00:00, 998.41it/s]\n"
     ]
    },
    {
     "name": "stdout",
     "output_type": "stream",
     "text": [
      "Pass 32 - Remaning boroughs: 32\n"
     ]
    },
    {
     "name": "stderr",
     "output_type": "stream",
     "text": [
      "Sampling from DATGAN: 100%|██████████| 100000/100000 [01:40<00:00, 991.97it/s]\n"
     ]
    },
    {
     "name": "stdout",
     "output_type": "stream",
     "text": [
      "Pass 33 - Remaning boroughs: 32\n"
     ]
    },
    {
     "name": "stderr",
     "output_type": "stream",
     "text": [
      "Sampling from DATGAN: 100%|██████████| 100000/100000 [01:40<00:00, 992.37it/s]\n"
     ]
    },
    {
     "name": "stdout",
     "output_type": "stream",
     "text": [
      "Pass 34 - Remaning boroughs: 32\n"
     ]
    },
    {
     "name": "stderr",
     "output_type": "stream",
     "text": [
      "Sampling from DATGAN: 100%|██████████| 100000/100000 [01:40<00:00, 997.43it/s]\n"
     ]
    },
    {
     "name": "stdout",
     "output_type": "stream",
     "text": [
      "Pass 35 - Remaning boroughs: 32\n"
     ]
    },
    {
     "name": "stderr",
     "output_type": "stream",
     "text": [
      "Sampling from DATGAN: 100%|██████████| 100000/100000 [01:40<00:00, 999.61it/s]\n"
     ]
    },
    {
     "name": "stdout",
     "output_type": "stream",
     "text": [
      "Pass 36 - Remaning boroughs: 32\n"
     ]
    },
    {
     "name": "stderr",
     "output_type": "stream",
     "text": [
      "Sampling from DATGAN: 100%|██████████| 100000/100000 [01:41<00:00, 989.75it/s]\n"
     ]
    },
    {
     "name": "stdout",
     "output_type": "stream",
     "text": [
      "Pass 37 - Remaning boroughs: 32\n"
     ]
    },
    {
     "name": "stderr",
     "output_type": "stream",
     "text": [
      "Sampling from DATGAN: 100%|██████████| 100000/100000 [01:41<00:00, 989.87it/s]\n"
     ]
    },
    {
     "name": "stdout",
     "output_type": "stream",
     "text": [
      "Pass 38 - Remaning boroughs: 32\n"
     ]
    },
    {
     "name": "stderr",
     "output_type": "stream",
     "text": [
      "Sampling from DATGAN: 100%|██████████| 100000/100000 [01:40<00:00, 990.63it/s]\n"
     ]
    },
    {
     "name": "stdout",
     "output_type": "stream",
     "text": [
      "Pass 39 - Remaning boroughs: 32\n"
     ]
    },
    {
     "name": "stderr",
     "output_type": "stream",
     "text": [
      "Sampling from DATGAN: 100%|██████████| 100000/100000 [01:40<00:00, 993.25it/s]\n"
     ]
    },
    {
     "name": "stdout",
     "output_type": "stream",
     "text": [
      "Pass 40 - Remaning boroughs: 32\n"
     ]
    },
    {
     "name": "stderr",
     "output_type": "stream",
     "text": [
      "Sampling from DATGAN: 100%|██████████| 100000/100000 [01:40<00:00, 995.43it/s]\n"
     ]
    },
    {
     "name": "stdout",
     "output_type": "stream",
     "text": [
      "Pass 41 - Remaning boroughs: 32\n"
     ]
    },
    {
     "name": "stderr",
     "output_type": "stream",
     "text": [
      "Sampling from DATGAN: 100%|██████████| 100000/100000 [01:39<00:00, 1008.77it/s]\n"
     ]
    },
    {
     "name": "stdout",
     "output_type": "stream",
     "text": [
      "Pass 42 - Remaning boroughs: 32\n"
     ]
    },
    {
     "name": "stderr",
     "output_type": "stream",
     "text": [
      "Sampling from DATGAN: 100%|██████████| 100000/100000 [01:38<00:00, 1019.39it/s]\n"
     ]
    },
    {
     "name": "stdout",
     "output_type": "stream",
     "text": [
      "Pass 43 - Remaning boroughs: 32\n"
     ]
    },
    {
     "name": "stderr",
     "output_type": "stream",
     "text": [
      "Sampling from DATGAN: 100%|██████████| 100000/100000 [01:37<00:00, 1023.32it/s]\n"
     ]
    },
    {
     "name": "stdout",
     "output_type": "stream",
     "text": [
      "Pass 44 - Remaning boroughs: 32\n"
     ]
    },
    {
     "name": "stderr",
     "output_type": "stream",
     "text": [
      "Sampling from DATGAN: 100%|██████████| 100000/100000 [01:37<00:00, 1021.27it/s]\n"
     ]
    },
    {
     "name": "stdout",
     "output_type": "stream",
     "text": [
      "Pass 45 - Remaning boroughs: 32\n"
     ]
    },
    {
     "name": "stderr",
     "output_type": "stream",
     "text": [
      "Sampling from DATGAN: 100%|██████████| 100000/100000 [01:37<00:00, 1025.84it/s]\n"
     ]
    },
    {
     "name": "stdout",
     "output_type": "stream",
     "text": [
      "Pass 46 - Remaning boroughs: 32\n"
     ]
    },
    {
     "name": "stderr",
     "output_type": "stream",
     "text": [
      "Sampling from DATGAN: 100%|██████████| 100000/100000 [01:37<00:00, 1028.05it/s]\n"
     ]
    },
    {
     "name": "stdout",
     "output_type": "stream",
     "text": [
      "Pass 47 - Remaning boroughs: 32\n"
     ]
    },
    {
     "name": "stderr",
     "output_type": "stream",
     "text": [
      "Sampling from DATGAN: 100%|██████████| 100000/100000 [01:37<00:00, 1025.42it/s]\n"
     ]
    },
    {
     "name": "stdout",
     "output_type": "stream",
     "text": [
      "Pass 48 - Remaning boroughs: 32\n"
     ]
    },
    {
     "name": "stderr",
     "output_type": "stream",
     "text": [
      "Sampling from DATGAN: 100%|██████████| 100000/100000 [01:37<00:00, 1022.81it/s]\n"
     ]
    },
    {
     "name": "stdout",
     "output_type": "stream",
     "text": [
      "Pass 49 - Remaning boroughs: 32\n"
     ]
    },
    {
     "name": "stderr",
     "output_type": "stream",
     "text": [
      "Sampling from DATGAN: 100%|██████████| 100000/100000 [01:37<00:00, 1029.14it/s]\n"
     ]
    },
    {
     "name": "stdout",
     "output_type": "stream",
     "text": [
      "Pass 50 - Remaning boroughs: 32\n"
     ]
    },
    {
     "name": "stderr",
     "output_type": "stream",
     "text": [
      "Sampling from DATGAN: 100%|██████████| 100000/100000 [01:37<00:00, 1024.50it/s]\n"
     ]
    },
    {
     "name": "stdout",
     "output_type": "stream",
     "text": [
      "Pass 51 - Remaning boroughs: 32\n"
     ]
    },
    {
     "name": "stderr",
     "output_type": "stream",
     "text": [
      "Sampling from DATGAN: 100%|██████████| 100000/100000 [01:37<00:00, 1022.97it/s]\n"
     ]
    },
    {
     "name": "stdout",
     "output_type": "stream",
     "text": [
      "Pass 52 - Remaning boroughs: 32\n"
     ]
    },
    {
     "name": "stderr",
     "output_type": "stream",
     "text": [
      "Sampling from DATGAN: 100%|██████████| 100000/100000 [01:38<00:00, 1020.25it/s]\n"
     ]
    },
    {
     "name": "stdout",
     "output_type": "stream",
     "text": [
      "Pass 53 - Remaning boroughs: 32\n"
     ]
    },
    {
     "name": "stderr",
     "output_type": "stream",
     "text": [
      "Sampling from DATGAN: 100%|██████████| 100000/100000 [01:37<00:00, 1023.48it/s]\n"
     ]
    },
    {
     "name": "stdout",
     "output_type": "stream",
     "text": [
      "Pass 54 - Remaning boroughs: 32\n"
     ]
    },
    {
     "name": "stderr",
     "output_type": "stream",
     "text": [
      "Sampling from DATGAN: 100%|██████████| 100000/100000 [01:37<00:00, 1026.90it/s]\n"
     ]
    },
    {
     "name": "stdout",
     "output_type": "stream",
     "text": [
      "Pass 55 - Remaning boroughs: 32\n"
     ]
    },
    {
     "name": "stderr",
     "output_type": "stream",
     "text": [
      "Sampling from DATGAN: 100%|██████████| 100000/100000 [01:36<00:00, 1032.46it/s]\n"
     ]
    },
    {
     "name": "stdout",
     "output_type": "stream",
     "text": [
      "Pass 56 - Remaning boroughs: 32\n"
     ]
    },
    {
     "name": "stderr",
     "output_type": "stream",
     "text": [
      "Sampling from DATGAN: 100%|██████████| 100000/100000 [01:37<00:00, 1021.78it/s]\n"
     ]
    },
    {
     "name": "stdout",
     "output_type": "stream",
     "text": [
      "Pass 57 - Remaning boroughs: 32\n"
     ]
    },
    {
     "name": "stderr",
     "output_type": "stream",
     "text": [
      "Sampling from DATGAN: 100%|██████████| 100000/100000 [01:38<00:00, 1018.16it/s]\n"
     ]
    },
    {
     "name": "stdout",
     "output_type": "stream",
     "text": [
      "Pass 58 - Remaning boroughs: 32\n"
     ]
    },
    {
     "name": "stderr",
     "output_type": "stream",
     "text": [
      "Sampling from DATGAN: 100%|██████████| 100000/100000 [01:38<00:00, 1020.16it/s]\n"
     ]
    },
    {
     "name": "stdout",
     "output_type": "stream",
     "text": [
      "Pass 59 - Remaning boroughs: 32\n"
     ]
    },
    {
     "name": "stderr",
     "output_type": "stream",
     "text": [
      "Sampling from DATGAN: 100%|██████████| 100000/100000 [01:38<00:00, 1014.10it/s]\n"
     ]
    },
    {
     "name": "stdout",
     "output_type": "stream",
     "text": [
      "Pass 60 - Remaning boroughs: 31\n"
     ]
    },
    {
     "name": "stderr",
     "output_type": "stream",
     "text": [
      "Sampling from DATGAN: 100%|██████████| 100000/100000 [01:38<00:00, 1016.38it/s]\n"
     ]
    },
    {
     "name": "stdout",
     "output_type": "stream",
     "text": [
      "Pass 61 - Remaning boroughs: 31\n"
     ]
    },
    {
     "name": "stderr",
     "output_type": "stream",
     "text": [
      "Sampling from DATGAN: 100%|██████████| 100000/100000 [01:37<00:00, 1025.64it/s]\n"
     ]
    },
    {
     "name": "stdout",
     "output_type": "stream",
     "text": [
      "Pass 62 - Remaning boroughs: 30\n"
     ]
    },
    {
     "name": "stderr",
     "output_type": "stream",
     "text": [
      "Sampling from DATGAN: 100%|██████████| 100000/100000 [01:38<00:00, 1013.07it/s]\n"
     ]
    },
    {
     "name": "stdout",
     "output_type": "stream",
     "text": [
      "Pass 63 - Remaning boroughs: 30\n"
     ]
    },
    {
     "name": "stderr",
     "output_type": "stream",
     "text": [
      "Sampling from DATGAN: 100%|██████████| 100000/100000 [01:37<00:00, 1020.51it/s]\n"
     ]
    },
    {
     "name": "stdout",
     "output_type": "stream",
     "text": [
      "Pass 64 - Remaning boroughs: 30\n"
     ]
    },
    {
     "name": "stderr",
     "output_type": "stream",
     "text": [
      "Sampling from DATGAN: 100%|██████████| 100000/100000 [01:38<00:00, 1014.41it/s]\n"
     ]
    },
    {
     "name": "stdout",
     "output_type": "stream",
     "text": [
      "Pass 65 - Remaning boroughs: 30\n"
     ]
    },
    {
     "name": "stderr",
     "output_type": "stream",
     "text": [
      "Sampling from DATGAN: 100%|██████████| 100000/100000 [01:38<00:00, 1015.56it/s]\n"
     ]
    },
    {
     "name": "stdout",
     "output_type": "stream",
     "text": [
      "Pass 66 - Remaning boroughs: 30\n"
     ]
    },
    {
     "name": "stderr",
     "output_type": "stream",
     "text": [
      "Sampling from DATGAN: 100%|██████████| 100000/100000 [01:38<00:00, 1017.67it/s]\n"
     ]
    },
    {
     "name": "stdout",
     "output_type": "stream",
     "text": [
      "Pass 67 - Remaning boroughs: 29\n"
     ]
    },
    {
     "name": "stderr",
     "output_type": "stream",
     "text": [
      "Sampling from DATGAN: 100%|██████████| 100000/100000 [01:37<00:00, 1026.25it/s]\n"
     ]
    },
    {
     "name": "stdout",
     "output_type": "stream",
     "text": [
      "Pass 68 - Remaning boroughs: 27\n"
     ]
    },
    {
     "name": "stderr",
     "output_type": "stream",
     "text": [
      "Sampling from DATGAN: 100%|██████████| 100000/100000 [01:38<00:00, 1014.60it/s]\n"
     ]
    },
    {
     "name": "stdout",
     "output_type": "stream",
     "text": [
      "Pass 69 - Remaning boroughs: 27\n"
     ]
    },
    {
     "name": "stderr",
     "output_type": "stream",
     "text": [
      "Sampling from DATGAN: 100%|██████████| 100000/100000 [01:37<00:00, 1024.05it/s]\n"
     ]
    },
    {
     "name": "stdout",
     "output_type": "stream",
     "text": [
      "Pass 70 - Remaning boroughs: 27\n"
     ]
    },
    {
     "name": "stderr",
     "output_type": "stream",
     "text": [
      "Sampling from DATGAN: 100%|██████████| 100000/100000 [01:37<00:00, 1023.91it/s]\n"
     ]
    },
    {
     "name": "stdout",
     "output_type": "stream",
     "text": [
      "Pass 71 - Remaning boroughs: 25\n"
     ]
    },
    {
     "name": "stderr",
     "output_type": "stream",
     "text": [
      "Sampling from DATGAN: 100%|██████████| 100000/100000 [01:41<00:00, 989.00it/s]\n"
     ]
    },
    {
     "name": "stdout",
     "output_type": "stream",
     "text": [
      "Pass 72 - Remaning boroughs: 25\n"
     ]
    },
    {
     "name": "stderr",
     "output_type": "stream",
     "text": [
      "Sampling from DATGAN: 100%|██████████| 100000/100000 [01:40<00:00, 998.63it/s]\n"
     ]
    },
    {
     "name": "stdout",
     "output_type": "stream",
     "text": [
      "Pass 73 - Remaning boroughs: 25\n"
     ]
    },
    {
     "name": "stderr",
     "output_type": "stream",
     "text": [
      "Sampling from DATGAN: 100%|██████████| 100000/100000 [01:40<00:00, 996.03it/s]\n"
     ]
    },
    {
     "name": "stdout",
     "output_type": "stream",
     "text": [
      "Pass 74 - Remaning boroughs: 24\n"
     ]
    },
    {
     "name": "stderr",
     "output_type": "stream",
     "text": [
      "Sampling from DATGAN: 100%|██████████| 100000/100000 [01:41<00:00, 987.30it/s]\n"
     ]
    },
    {
     "name": "stdout",
     "output_type": "stream",
     "text": [
      "Pass 75 - Remaning boroughs: 24\n"
     ]
    },
    {
     "name": "stderr",
     "output_type": "stream",
     "text": [
      "Sampling from DATGAN: 100%|██████████| 100000/100000 [01:46<00:00, 942.79it/s]\n"
     ]
    },
    {
     "name": "stdout",
     "output_type": "stream",
     "text": [
      "Pass 76 - Remaning boroughs: 24\n"
     ]
    },
    {
     "name": "stderr",
     "output_type": "stream",
     "text": [
      "Sampling from DATGAN: 100%|██████████| 100000/100000 [01:46<00:00, 938.36it/s]\n"
     ]
    },
    {
     "name": "stdout",
     "output_type": "stream",
     "text": [
      "Pass 77 - Remaning boroughs: 22\n"
     ]
    },
    {
     "name": "stderr",
     "output_type": "stream",
     "text": [
      "Sampling from DATGAN: 100%|██████████| 100000/100000 [01:46<00:00, 937.73it/s]\n"
     ]
    },
    {
     "name": "stdout",
     "output_type": "stream",
     "text": [
      "Pass 78 - Remaning boroughs: 22\n"
     ]
    },
    {
     "name": "stderr",
     "output_type": "stream",
     "text": [
      "Sampling from DATGAN: 100%|██████████| 100000/100000 [01:46<00:00, 941.15it/s]\n"
     ]
    },
    {
     "name": "stdout",
     "output_type": "stream",
     "text": [
      "Pass 79 - Remaning boroughs: 21\n"
     ]
    },
    {
     "name": "stderr",
     "output_type": "stream",
     "text": [
      "Sampling from DATGAN: 100%|██████████| 100000/100000 [01:46<00:00, 939.50it/s]\n"
     ]
    },
    {
     "name": "stdout",
     "output_type": "stream",
     "text": [
      "Pass 80 - Remaning boroughs: 19\n"
     ]
    },
    {
     "name": "stderr",
     "output_type": "stream",
     "text": [
      "Sampling from DATGAN: 100%|██████████| 100000/100000 [01:47<00:00, 933.35it/s]\n"
     ]
    },
    {
     "name": "stdout",
     "output_type": "stream",
     "text": [
      "Pass 81 - Remaning boroughs: 18\n"
     ]
    },
    {
     "name": "stderr",
     "output_type": "stream",
     "text": [
      "Sampling from DATGAN: 100%|██████████| 100000/100000 [01:46<00:00, 935.56it/s]\n"
     ]
    },
    {
     "name": "stdout",
     "output_type": "stream",
     "text": [
      "Pass 82 - Remaning boroughs: 18\n"
     ]
    },
    {
     "name": "stderr",
     "output_type": "stream",
     "text": [
      "Sampling from DATGAN: 100%|██████████| 100000/100000 [01:46<00:00, 943.32it/s]\n"
     ]
    },
    {
     "name": "stdout",
     "output_type": "stream",
     "text": [
      "Pass 83 - Remaning boroughs: 18\n"
     ]
    },
    {
     "name": "stderr",
     "output_type": "stream",
     "text": [
      "Sampling from DATGAN: 100%|██████████| 100000/100000 [01:46<00:00, 941.16it/s]\n"
     ]
    },
    {
     "name": "stdout",
     "output_type": "stream",
     "text": [
      "Pass 84 - Remaning boroughs: 17\n"
     ]
    },
    {
     "name": "stderr",
     "output_type": "stream",
     "text": [
      "Sampling from DATGAN: 100%|██████████| 100000/100000 [01:45<00:00, 944.58it/s]\n"
     ]
    },
    {
     "name": "stdout",
     "output_type": "stream",
     "text": [
      "Pass 85 - Remaning boroughs: 16\n"
     ]
    },
    {
     "name": "stderr",
     "output_type": "stream",
     "text": [
      "Sampling from DATGAN: 100%|██████████| 100000/100000 [01:46<00:00, 936.86it/s]\n"
     ]
    },
    {
     "name": "stdout",
     "output_type": "stream",
     "text": [
      "Pass 86 - Remaning boroughs: 15\n"
     ]
    },
    {
     "name": "stderr",
     "output_type": "stream",
     "text": [
      "Sampling from DATGAN: 100%|██████████| 100000/100000 [01:47<00:00, 928.72it/s]\n"
     ]
    },
    {
     "name": "stdout",
     "output_type": "stream",
     "text": [
      "Pass 87 - Remaning boroughs: 13\n"
     ]
    },
    {
     "name": "stderr",
     "output_type": "stream",
     "text": [
      "Sampling from DATGAN: 100%|██████████| 100000/100000 [01:46<00:00, 937.88it/s]\n"
     ]
    },
    {
     "name": "stdout",
     "output_type": "stream",
     "text": [
      "Pass 88 - Remaning boroughs: 13\n"
     ]
    },
    {
     "name": "stderr",
     "output_type": "stream",
     "text": [
      "Sampling from DATGAN: 100%|██████████| 100000/100000 [01:46<00:00, 942.02it/s]\n"
     ]
    },
    {
     "name": "stdout",
     "output_type": "stream",
     "text": [
      "Pass 89 - Remaning boroughs: 12\n"
     ]
    },
    {
     "name": "stderr",
     "output_type": "stream",
     "text": [
      "Sampling from DATGAN: 100%|██████████| 100000/100000 [01:47<00:00, 928.85it/s]\n"
     ]
    },
    {
     "name": "stdout",
     "output_type": "stream",
     "text": [
      "Pass 90 - Remaning boroughs: 11\n"
     ]
    },
    {
     "name": "stderr",
     "output_type": "stream",
     "text": [
      "Sampling from DATGAN: 100%|██████████| 100000/100000 [01:46<00:00, 937.07it/s]\n"
     ]
    },
    {
     "name": "stdout",
     "output_type": "stream",
     "text": [
      "Pass 91 - Remaning boroughs: 11\n"
     ]
    },
    {
     "name": "stderr",
     "output_type": "stream",
     "text": [
      "Sampling from DATGAN: 100%|██████████| 100000/100000 [01:46<00:00, 935.22it/s]\n"
     ]
    },
    {
     "name": "stdout",
     "output_type": "stream",
     "text": [
      "Pass 92 - Remaning boroughs: 11\n"
     ]
    },
    {
     "name": "stderr",
     "output_type": "stream",
     "text": [
      "Sampling from DATGAN: 100%|██████████| 100000/100000 [01:45<00:00, 949.37it/s]\n"
     ]
    },
    {
     "name": "stdout",
     "output_type": "stream",
     "text": [
      "Pass 93 - Remaning boroughs: 10\n"
     ]
    },
    {
     "name": "stderr",
     "output_type": "stream",
     "text": [
      "Sampling from DATGAN: 100%|██████████| 100000/100000 [01:47<00:00, 933.06it/s]\n"
     ]
    },
    {
     "name": "stdout",
     "output_type": "stream",
     "text": [
      "Pass 94 - Remaning boroughs: 10\n"
     ]
    },
    {
     "name": "stderr",
     "output_type": "stream",
     "text": [
      "Sampling from DATGAN: 100%|██████████| 100000/100000 [01:46<00:00, 937.39it/s]\n"
     ]
    },
    {
     "name": "stdout",
     "output_type": "stream",
     "text": [
      "Pass 95 - Remaning boroughs: 8\n"
     ]
    },
    {
     "name": "stderr",
     "output_type": "stream",
     "text": [
      "Sampling from DATGAN: 100%|██████████| 100000/100000 [01:46<00:00, 939.88it/s]\n"
     ]
    },
    {
     "name": "stdout",
     "output_type": "stream",
     "text": [
      "Pass 96 - Remaning boroughs: 7\n"
     ]
    },
    {
     "name": "stderr",
     "output_type": "stream",
     "text": [
      "Sampling from DATGAN: 100%|██████████| 100000/100000 [01:46<00:00, 940.18it/s]\n"
     ]
    },
    {
     "name": "stdout",
     "output_type": "stream",
     "text": [
      "Pass 97 - Remaning boroughs: 6\n"
     ]
    },
    {
     "name": "stderr",
     "output_type": "stream",
     "text": [
      "Sampling from DATGAN: 100%|██████████| 100000/100000 [01:46<00:00, 935.99it/s]\n"
     ]
    },
    {
     "name": "stdout",
     "output_type": "stream",
     "text": [
      "Pass 98 - Remaning boroughs: 5\n"
     ]
    },
    {
     "name": "stderr",
     "output_type": "stream",
     "text": [
      "Sampling from DATGAN: 100%|██████████| 100000/100000 [01:47<00:00, 933.67it/s]\n"
     ]
    },
    {
     "name": "stdout",
     "output_type": "stream",
     "text": [
      "Pass 99 - Remaning boroughs: 4\n"
     ]
    },
    {
     "name": "stderr",
     "output_type": "stream",
     "text": [
      "Sampling from DATGAN: 100%|██████████| 100000/100000 [01:39<00:00, 1004.29it/s]\n"
     ]
    },
    {
     "name": "stdout",
     "output_type": "stream",
     "text": [
      "Pass 100 - Remaning boroughs: 3\n"
     ]
    },
    {
     "name": "stderr",
     "output_type": "stream",
     "text": [
      "Sampling from DATGAN: 100%|██████████| 100000/100000 [01:39<00:00, 1005.30it/s]\n"
     ]
    },
    {
     "name": "stdout",
     "output_type": "stream",
     "text": [
      "Pass 101 - Remaning boroughs: 3\n"
     ]
    },
    {
     "name": "stderr",
     "output_type": "stream",
     "text": [
      "Sampling from DATGAN: 100%|██████████| 100000/100000 [01:40<00:00, 997.14it/s]\n"
     ]
    },
    {
     "name": "stdout",
     "output_type": "stream",
     "text": [
      "Pass 102 - Remaning boroughs: 3\n"
     ]
    },
    {
     "name": "stderr",
     "output_type": "stream",
     "text": [
      "Sampling from DATGAN: 100%|██████████| 100000/100000 [01:40<00:00, 994.42it/s]\n"
     ]
    },
    {
     "name": "stdout",
     "output_type": "stream",
     "text": [
      "Pass 103 - Remaning boroughs: 3\n"
     ]
    },
    {
     "name": "stderr",
     "output_type": "stream",
     "text": [
      "Sampling from DATGAN: 100%|██████████| 100000/100000 [01:40<00:00, 996.98it/s]\n"
     ]
    },
    {
     "name": "stdout",
     "output_type": "stream",
     "text": [
      "Pass 104 - Remaning boroughs: 3\n"
     ]
    },
    {
     "name": "stderr",
     "output_type": "stream",
     "text": [
      "Sampling from DATGAN: 100%|██████████| 100000/100000 [01:38<00:00, 1016.38it/s]\n"
     ]
    },
    {
     "name": "stdout",
     "output_type": "stream",
     "text": [
      "Pass 105 - Remaning boroughs: 2\n"
     ]
    },
    {
     "name": "stderr",
     "output_type": "stream",
     "text": [
      "Sampling from DATGAN: 100%|██████████| 100000/100000 [01:38<00:00, 1019.05it/s]\n"
     ]
    },
    {
     "name": "stdout",
     "output_type": "stream",
     "text": [
      "Pass 106 - Remaning boroughs: 2\n"
     ]
    },
    {
     "name": "stderr",
     "output_type": "stream",
     "text": [
      "Sampling from DATGAN: 100%|██████████| 100000/100000 [01:37<00:00, 1022.21it/s]\n"
     ]
    },
    {
     "name": "stdout",
     "output_type": "stream",
     "text": [
      "Pass 107 - Remaning boroughs: 2\n"
     ]
    },
    {
     "name": "stderr",
     "output_type": "stream",
     "text": [
      "Sampling from DATGAN: 100%|██████████| 100000/100000 [01:38<00:00, 1015.92it/s]\n"
     ]
    },
    {
     "name": "stdout",
     "output_type": "stream",
     "text": [
      "Pass 108 - Remaning boroughs: 2\n"
     ]
    },
    {
     "name": "stderr",
     "output_type": "stream",
     "text": [
      "Sampling from DATGAN: 100%|██████████| 100000/100000 [01:38<00:00, 1015.92it/s]\n"
     ]
    },
    {
     "name": "stdout",
     "output_type": "stream",
     "text": [
      "Pass 109 - Remaning boroughs: 2\n"
     ]
    },
    {
     "name": "stderr",
     "output_type": "stream",
     "text": [
      "Sampling from DATGAN: 100%|██████████| 100000/100000 [01:37<00:00, 1021.91it/s]\n"
     ]
    },
    {
     "name": "stdout",
     "output_type": "stream",
     "text": [
      "Pass 110 - Remaning boroughs: 2\n"
     ]
    },
    {
     "name": "stderr",
     "output_type": "stream",
     "text": [
      "Sampling from DATGAN: 100%|██████████| 100000/100000 [01:37<00:00, 1021.84it/s]\n"
     ]
    },
    {
     "name": "stdout",
     "output_type": "stream",
     "text": [
      "Pass 111 - Remaning boroughs: 2\n"
     ]
    },
    {
     "name": "stderr",
     "output_type": "stream",
     "text": [
      "Sampling from DATGAN: 100%|██████████| 100000/100000 [01:37<00:00, 1022.97it/s]\n"
     ]
    },
    {
     "name": "stdout",
     "output_type": "stream",
     "text": [
      "Pass 112 - Remaning boroughs: 2\n"
     ]
    },
    {
     "name": "stderr",
     "output_type": "stream",
     "text": [
      "Sampling from DATGAN: 100%|██████████| 100000/100000 [01:37<00:00, 1028.12it/s]\n"
     ]
    },
    {
     "name": "stdout",
     "output_type": "stream",
     "text": [
      "Pass 113 - Remaning boroughs: 2\n"
     ]
    },
    {
     "name": "stderr",
     "output_type": "stream",
     "text": [
      "Sampling from DATGAN: 100%|██████████| 100000/100000 [01:37<00:00, 1020.68it/s]\n"
     ]
    },
    {
     "name": "stdout",
     "output_type": "stream",
     "text": [
      "Pass 114 - Remaning boroughs: 2\n"
     ]
    },
    {
     "name": "stderr",
     "output_type": "stream",
     "text": [
      "Sampling from DATGAN: 100%|██████████| 100000/100000 [01:38<00:00, 1018.27it/s]\n"
     ]
    },
    {
     "name": "stdout",
     "output_type": "stream",
     "text": [
      "Pass 115 - Remaning boroughs: 2\n"
     ]
    },
    {
     "name": "stderr",
     "output_type": "stream",
     "text": [
      "Sampling from DATGAN: 100%|██████████| 100000/100000 [01:37<00:00, 1025.72it/s]\n"
     ]
    },
    {
     "name": "stdout",
     "output_type": "stream",
     "text": [
      "Pass 116 - Remaning boroughs: 2\n"
     ]
    },
    {
     "name": "stderr",
     "output_type": "stream",
     "text": [
      "Sampling from DATGAN: 100%|██████████| 100000/100000 [01:34<00:00, 1060.38it/s]\n"
     ]
    },
    {
     "name": "stdout",
     "output_type": "stream",
     "text": [
      "Pass 117 - Remaning boroughs: 1\n"
     ]
    },
    {
     "name": "stderr",
     "output_type": "stream",
     "text": [
      "Sampling from DATGAN: 100%|██████████| 100000/100000 [01:34<00:00, 1062.63it/s]\n"
     ]
    },
    {
     "name": "stdout",
     "output_type": "stream",
     "text": [
      "Pass 118 - Remaning boroughs: 1\n"
     ]
    },
    {
     "name": "stderr",
     "output_type": "stream",
     "text": [
      "Sampling from DATGAN: 100%|██████████| 100000/100000 [01:34<00:00, 1059.09it/s]\n"
     ]
    },
    {
     "name": "stdout",
     "output_type": "stream",
     "text": [
      "Pass 119 - Remaning boroughs: 1\n"
     ]
    },
    {
     "name": "stderr",
     "output_type": "stream",
     "text": [
      "Sampling from DATGAN: 100%|██████████| 100000/100000 [01:34<00:00, 1057.84it/s]\n"
     ]
    },
    {
     "name": "stdout",
     "output_type": "stream",
     "text": [
      "Pass 120 - Remaning boroughs: 1\n"
     ]
    },
    {
     "name": "stderr",
     "output_type": "stream",
     "text": [
      "Sampling from DATGAN: 100%|██████████| 100000/100000 [01:34<00:00, 1058.00it/s]\n"
     ]
    },
    {
     "name": "stdout",
     "output_type": "stream",
     "text": [
      "Pass 121 - Remaning boroughs: 1\n"
     ]
    },
    {
     "name": "stderr",
     "output_type": "stream",
     "text": [
      "Sampling from DATGAN: 100%|██████████| 100000/100000 [01:34<00:00, 1059.11it/s]\n"
     ]
    },
    {
     "name": "stdout",
     "output_type": "stream",
     "text": [
      "Pass 122 - Remaning boroughs: 1\n"
     ]
    },
    {
     "name": "stderr",
     "output_type": "stream",
     "text": [
      "Sampling from DATGAN: 100%|██████████| 100000/100000 [01:34<00:00, 1060.92it/s]\n"
     ]
    }
   ],
   "source": [
    "remaining_boroughs = set(df.hh_borough.unique())\n",
    "\n",
    "count = 1\n",
    "while remaining_boroughs:\n",
    "\n",
    "    print(\"Pass {} - Remaning boroughs: {}\".format(count, len(remaining_boroughs)))\n",
    "\n",
    "    samp = datgan.sample(100000)\n",
    "\n",
    "    borough_to_remove = []\n",
    "\n",
    "    for r in remaining_boroughs:\n",
    "        tmp = samp[samp.hh_borough == r]\n",
    "\n",
    "        if len(tmp) > nbrs[r]:\n",
    "            tmp = tmp.sample(nbrs[r], replace=False)\n",
    "\n",
    "        nbrs[r] -= len(tmp)\n",
    "        dct[r].append(tmp)\n",
    "\n",
    "        if nbrs[r] == 0:\n",
    "            borough_to_remove.append(r)\n",
    "\n",
    "\n",
    "    for r in borough_to_remove:\n",
    "        remaining_boroughs.remove(r)\n",
    "\n",
    "    count += 1"
   ],
   "metadata": {
    "collapsed": false,
    "pycharm": {
     "name": "#%%\n"
    }
   }
  },
  {
   "cell_type": "code",
   "execution_count": 13,
   "outputs": [],
   "source": [
    "for r in dct.keys():\n",
    "    tmp = pd.concat(dct[r])\n",
    "    tmp.to_csv('../../data/synthetic/DATGAN/{}.csv'.format(r), index=False)"
   ],
   "metadata": {
    "collapsed": false,
    "pycharm": {
     "name": "#%%\n"
    }
   }
  },
  {
   "cell_type": "code",
   "execution_count": null,
   "outputs": [],
   "source": [],
   "metadata": {
    "collapsed": false,
    "pycharm": {
     "name": "#%%\n"
    }
   }
  }
 ],
 "metadata": {
  "kernelspec": {
   "display_name": "Python 3",
   "language": "python",
   "name": "python3"
  },
  "language_info": {
   "codemirror_mode": {
    "name": "ipython",
    "version": 2
   },
   "file_extension": ".py",
   "mimetype": "text/x-python",
   "name": "python",
   "nbconvert_exporter": "python",
   "pygments_lexer": "ipython2",
   "version": "2.7.6"
  }
 },
 "nbformat": 4,
 "nbformat_minor": 0
}