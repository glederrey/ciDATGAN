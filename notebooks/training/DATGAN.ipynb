{
 "cells": [
  {
   "cell_type": "code",
   "execution_count": 1,
   "metadata": {
    "collapsed": true
   },
   "outputs": [],
   "source": [
    "from datgan import DATGAN\n",
    "import datgan\n",
    "\n",
    "import numpy as np\n",
    "import pandas as pd\n",
    "import networkx as nx\n",
    "\n",
    "# For the Python notebook\n",
    "%matplotlib inline\n",
    "%reload_ext autoreload\n",
    "%autoreload 2\n",
    "\n",
    "import tensorflow as tf\n",
    "#tf.config.run_functions_eagerly(True)"
   ]
  },
  {
   "cell_type": "code",
   "execution_count": 11,
   "outputs": [],
   "source": [
    "df = pd.read_csv('../../data/LPMC/trips_small_bias.csv', index_col=False)"
   ],
   "metadata": {
    "collapsed": false,
    "pycharm": {
     "name": "#%%\n"
    }
   }
  },
  {
   "cell_type": "code",
   "execution_count": 12,
   "outputs": [
    {
     "data": {
      "text/plain": "10520"
     },
     "execution_count": 12,
     "metadata": {},
     "output_type": "execute_result"
    }
   ],
   "source": [
    "len(df)"
   ],
   "metadata": {
    "collapsed": false,
    "pycharm": {
     "name": "#%%\n"
    }
   }
  },
  {
   "cell_type": "code",
   "execution_count": 5,
   "outputs": [
    {
     "data": {
      "text/plain": "  travel_mode purpose faretype  day_of_week  start_time_linear  age  female  \\\n0        walk     HBO     full            6          15.833333   30       0   \n1          pt     HBO     full            7          10.000000   50       1   \n2          pt     HBW     full            5          17.000000   55       1   \n3       drive     HBO     full            6          16.883333   51       1   \n4          pt     HBW     full            3           7.500000   39       1   \n\n   driving_license  distance  dur_walking  dur_cycling  dur_driving  \\\n0                1      2145     0.553056     0.157500     0.158333   \n1                1      1789     0.473333     0.160556     0.135000   \n2                1     10036     2.411667     0.761389     0.638056   \n3                1      1531     0.423889     0.168611     0.110556   \n4                1      1124     0.275833     0.123611     0.081667   \n\n   driving_traffic_percent  hh_vehicles hh_income  hh_people    dur_pt  \\\n0                 0.473684            0    35-50k          2  0.436389   \n1                 0.547325            0    15-20k          5  0.271111   \n2                 0.543317            2   75-100k          2  0.830833   \n3                 0.268844            1     >100k          2  0.295556   \n4                 0.156463            1     >100k          4  0.124722   \n\n        hh_region  \n0  Central London  \n1  Central London  \n2    South London  \n3     East London  \n4    South London  ",
      "text/html": "<div>\n<style scoped>\n    .dataframe tbody tr th:only-of-type {\n        vertical-align: middle;\n    }\n\n    .dataframe tbody tr th {\n        vertical-align: top;\n    }\n\n    .dataframe thead th {\n        text-align: right;\n    }\n</style>\n<table border=\"1\" class=\"dataframe\">\n  <thead>\n    <tr style=\"text-align: right;\">\n      <th></th>\n      <th>travel_mode</th>\n      <th>purpose</th>\n      <th>faretype</th>\n      <th>day_of_week</th>\n      <th>start_time_linear</th>\n      <th>age</th>\n      <th>female</th>\n      <th>driving_license</th>\n      <th>distance</th>\n      <th>dur_walking</th>\n      <th>dur_cycling</th>\n      <th>dur_driving</th>\n      <th>driving_traffic_percent</th>\n      <th>hh_vehicles</th>\n      <th>hh_income</th>\n      <th>hh_people</th>\n      <th>dur_pt</th>\n      <th>hh_region</th>\n    </tr>\n  </thead>\n  <tbody>\n    <tr>\n      <th>0</th>\n      <td>walk</td>\n      <td>HBO</td>\n      <td>full</td>\n      <td>6</td>\n      <td>15.833333</td>\n      <td>30</td>\n      <td>0</td>\n      <td>1</td>\n      <td>2145</td>\n      <td>0.553056</td>\n      <td>0.157500</td>\n      <td>0.158333</td>\n      <td>0.473684</td>\n      <td>0</td>\n      <td>35-50k</td>\n      <td>2</td>\n      <td>0.436389</td>\n      <td>Central London</td>\n    </tr>\n    <tr>\n      <th>1</th>\n      <td>pt</td>\n      <td>HBO</td>\n      <td>full</td>\n      <td>7</td>\n      <td>10.000000</td>\n      <td>50</td>\n      <td>1</td>\n      <td>1</td>\n      <td>1789</td>\n      <td>0.473333</td>\n      <td>0.160556</td>\n      <td>0.135000</td>\n      <td>0.547325</td>\n      <td>0</td>\n      <td>15-20k</td>\n      <td>5</td>\n      <td>0.271111</td>\n      <td>Central London</td>\n    </tr>\n    <tr>\n      <th>2</th>\n      <td>pt</td>\n      <td>HBW</td>\n      <td>full</td>\n      <td>5</td>\n      <td>17.000000</td>\n      <td>55</td>\n      <td>1</td>\n      <td>1</td>\n      <td>10036</td>\n      <td>2.411667</td>\n      <td>0.761389</td>\n      <td>0.638056</td>\n      <td>0.543317</td>\n      <td>2</td>\n      <td>75-100k</td>\n      <td>2</td>\n      <td>0.830833</td>\n      <td>South London</td>\n    </tr>\n    <tr>\n      <th>3</th>\n      <td>drive</td>\n      <td>HBO</td>\n      <td>full</td>\n      <td>6</td>\n      <td>16.883333</td>\n      <td>51</td>\n      <td>1</td>\n      <td>1</td>\n      <td>1531</td>\n      <td>0.423889</td>\n      <td>0.168611</td>\n      <td>0.110556</td>\n      <td>0.268844</td>\n      <td>1</td>\n      <td>&gt;100k</td>\n      <td>2</td>\n      <td>0.295556</td>\n      <td>East London</td>\n    </tr>\n    <tr>\n      <th>4</th>\n      <td>pt</td>\n      <td>HBW</td>\n      <td>full</td>\n      <td>3</td>\n      <td>7.500000</td>\n      <td>39</td>\n      <td>1</td>\n      <td>1</td>\n      <td>1124</td>\n      <td>0.275833</td>\n      <td>0.123611</td>\n      <td>0.081667</td>\n      <td>0.156463</td>\n      <td>1</td>\n      <td>&gt;100k</td>\n      <td>4</td>\n      <td>0.124722</td>\n      <td>South London</td>\n    </tr>\n  </tbody>\n</table>\n</div>"
     },
     "execution_count": 5,
     "metadata": {},
     "output_type": "execute_result"
    }
   ],
   "source": [
    "df.head()"
   ],
   "metadata": {
    "collapsed": false,
    "pycharm": {
     "name": "#%%\n"
    }
   }
  },
  {
   "cell_type": "code",
   "execution_count": 6,
   "outputs": [],
   "source": [
    "# First, define the specificities of continuous variables\n",
    "data_info = {\n",
    "    'start_time_linear': {\n",
    "        'type': 'continuous',\n",
    "        'bounds': [0.0, 23.999],\n",
    "        'discrete': False,\n",
    "    },\n",
    "    'age': {\n",
    "        'type': 'continuous',\n",
    "        'bounds': [0, 100],\n",
    "        'discrete': True\n",
    "    },\n",
    "    'distance': {\n",
    "        'type': 'continuous',\n",
    "        'bounds': [0, np.infty],\n",
    "        'discrete': True,\n",
    "        'apply_func': (lambda x: np.log(x+1))\n",
    "    },\n",
    "    'dur_walking': {\n",
    "        'type': 'continuous',\n",
    "        'bounds': [0, np.infty],\n",
    "        'enforce_bounds': True,\n",
    "        'discrete': False,\n",
    "        'apply_func': (lambda x: np.log(x+1))\n",
    "    },\n",
    "    'dur_cycling': {\n",
    "        'type': 'continuous',\n",
    "        'bounds': [0, np.infty],\n",
    "        'enforce_bounds': True,\n",
    "        'discrete': False,\n",
    "        'apply_func': (lambda x: np.log(x+1))\n",
    "    },\n",
    "    'dur_pt': {\n",
    "        'type': 'continuous',\n",
    "        'bounds': [0, np.infty],\n",
    "        'enforce_bounds': True,\n",
    "        'discrete': False,\n",
    "        'apply_func': (lambda x: np.log(x+1))\n",
    "    },\n",
    "    'dur_driving': {\n",
    "        'type': 'continuous',\n",
    "        'bounds': [0, np.infty],\n",
    "        'enforce_bounds': True,\n",
    "        'discrete': False,\n",
    "        'apply_func': (lambda x: np.log(x+1))\n",
    "    },\n",
    "    'driving_traffic_percent': {\n",
    "        'type': 'continuous',\n",
    "        'bounds': [0, np.infty],\n",
    "        'discrete': False,\n",
    "    },\n",
    "}\n",
    "\n",
    "# Add the other variables as categorical\n",
    "for c in df.columns:\n",
    "    if c not in data_info.keys():\n",
    "        data_info[c] = {'type': 'categorical'}"
   ],
   "metadata": {
    "collapsed": false,
    "pycharm": {
     "name": "#%%\n"
    }
   }
  },
  {
   "cell_type": "code",
   "execution_count": 7,
   "outputs": [
    {
     "data": {
      "text/plain": "Index(['travel_mode', 'purpose', 'faretype', 'day_of_week',\n       'start_time_linear', 'age', 'female', 'driving_license', 'distance',\n       'dur_walking', 'dur_cycling', 'dur_driving', 'driving_traffic_percent',\n       'hh_vehicles', 'hh_income', 'hh_people', 'dur_pt', 'hh_region'],\n      dtype='object')"
     },
     "execution_count": 7,
     "metadata": {},
     "output_type": "execute_result"
    }
   ],
   "source": [
    "df.columns"
   ],
   "metadata": {
    "collapsed": false,
    "pycharm": {
     "name": "#%%\n"
    }
   }
  },
  {
   "cell_type": "code",
   "execution_count": 8,
   "outputs": [],
   "source": [
    "# personalised graph\n",
    "graph = nx.DiGraph()\n",
    "\n",
    "graph.add_edges_from([\n",
    "    ('hh_region', 'hh_people'),\n",
    "    ('hh_region', 'distance'),\n",
    "    ('hh_region', 'hh_income'),\n",
    "    ('hh_region', 'travel_mode'),\n",
    "    ('hh_income', 'hh_vehicles'),\n",
    "    ('hh_people', 'hh_vehicles'),\n",
    "    ('age', 'hh_people'),\n",
    "    ('age', 'faretype'),\n",
    "    ('age', 'driving_license'),\n",
    "    ('age', 'purpose'),\n",
    "    ('age', 'travel_mode'),\n",
    "    ('female', 'driving_license'),\n",
    "    ('female', 'hh_people'),\n",
    "    ('driving_license', 'travel_mode'),\n",
    "    ('hh_vehicles', 'driving_license'),\n",
    "    ('hh_vehicles', 'travel_mode'),\n",
    "    ('faretype', 'travel_mode'),\n",
    "    ('day_of_week', 'purpose'),\n",
    "    ('day_of_week', 'start_time_linear'),\n",
    "    ('day_of_week', 'driving_traffic_percent'),\n",
    "    ('purpose', 'start_time_linear'),\n",
    "    ('purpose', 'travel_mode'),\n",
    "    ('purpose', 'distance'),\n",
    "    ('start_time_linear', 'driving_traffic_percent'),\n",
    "    ('driving_traffic_percent', 'dur_driving'),\n",
    "    ('distance', 'driving_traffic_percent'),\n",
    "    ('distance', 'dur_walking'),\n",
    "    ('distance', 'dur_cycling'),\n",
    "    ('distance', 'dur_pt'),\n",
    "    ('distance', 'dur_driving'),\n",
    "    ('distance', 'travel_mode')\n",
    "])"
   ],
   "metadata": {
    "collapsed": false,
    "pycharm": {
     "name": "#%%\n"
    }
   }
  },
  {
   "cell_type": "code",
   "execution_count": 9,
   "outputs": [],
   "source": [
    "name = 'DATGAN'"
   ],
   "metadata": {
    "collapsed": false,
    "pycharm": {
     "name": "#%%\n"
    }
   }
  },
  {
   "cell_type": "code",
   "execution_count": 10,
   "outputs": [],
   "source": [
    "output_folder = '../output/{}/'.format(name)"
   ],
   "metadata": {
    "collapsed": false,
    "pycharm": {
     "name": "#%%\n"
    }
   }
  },
  {
   "cell_type": "code",
   "execution_count": 11,
   "outputs": [],
   "source": [
    "datgan = DATGAN(output=output_folder,\n",
    "                loss_function='WGGP',\n",
    "                batch_size=1101,\n",
    "                num_epochs=1000)"
   ],
   "metadata": {
    "collapsed": false,
    "pycharm": {
     "name": "#%%\n"
    }
   }
  },
  {
   "cell_type": "code",
   "execution_count": 12,
   "outputs": [
    {
     "name": "stdout",
     "output_type": "stream",
     "text": [
      "Preprocessed data have been loaded!\n",
      "Start training DATGAN with the WGGP loss (12/05/2022 16:17:22).\n",
      "Restored models from epoch 1000.\n"
     ]
    },
    {
     "name": "stderr",
     "output_type": "stream",
     "text": [
      "Training DATGAN: 0it [00:00, ?it/s]"
     ]
    },
    {
     "name": "stdout",
     "output_type": "stream",
     "text": [
      "DATGAN has finished training (12/05/2022 16:17:22) - Training time: 00 second\n"
     ]
    },
    {
     "name": "stderr",
     "output_type": "stream",
     "text": [
      "\n"
     ]
    }
   ],
   "source": [
    "datgan.fit(df, data_info, graph, preprocessed_data_path='../output/encoded_LPMC')"
   ],
   "metadata": {
    "collapsed": false,
    "pycharm": {
     "name": "#%%\n"
    }
   }
  },
  {
   "cell_type": "code",
   "execution_count": 15,
   "outputs": [
    {
     "name": "stderr",
     "output_type": "stream",
     "text": [
      "\n",
      "Sampling from DATGAN:   0%|          | 0/16904 [00:00<?, ?it/s]\u001B[A\n",
      "Sampling from DATGAN:   7%|▋         | 1100/16904 [00:02<00:33, 469.94it/s]\u001B[A\n",
      "Sampling from DATGAN:  13%|█▎        | 2201/16904 [00:03<00:21, 696.17it/s]\u001B[A\n",
      "Sampling from DATGAN:  20%|█▉        | 3301/16904 [00:04<00:16, 804.23it/s]\u001B[A\n",
      "Sampling from DATGAN:  26%|██▌       | 4401/16904 [00:05<00:14, 860.60it/s]\u001B[A\n",
      "Sampling from DATGAN:  33%|███▎      | 5500/16904 [00:06<00:12, 901.30it/s]\u001B[A\n",
      "Sampling from DATGAN:  39%|███▉      | 6601/16904 [00:07<00:10, 938.35it/s]\u001B[A\n",
      "Sampling from DATGAN:  46%|████▌     | 7702/16904 [00:08<00:09, 974.41it/s]\u001B[A\n",
      "Sampling from DATGAN:  52%|█████▏    | 8802/16904 [00:09<00:08, 997.13it/s]\u001B[A\n",
      "Sampling from DATGAN:  59%|█████▊    | 9901/16904 [00:11<00:06, 1004.73it/s]\u001B[A\n",
      "Sampling from DATGAN:  65%|██████▌   | 11000/16904 [00:12<00:05, 1003.93it/s]\u001B[A\n",
      "Sampling from DATGAN:  72%|███████▏  | 12100/16904 [00:13<00:04, 1013.35it/s]\u001B[A\n",
      "Sampling from DATGAN:  78%|███████▊  | 13201/16904 [00:14<00:03, 1020.29it/s]\u001B[A\n",
      "Sampling from DATGAN:  85%|████████▍ | 14302/16904 [00:15<00:02, 1021.05it/s]\u001B[A\n",
      "Sampling from DATGAN:  91%|█████████ | 15402/16904 [00:16<00:01, 1023.67it/s]\u001B[A\n",
      "Sampling from DATGAN:  98%|█████████▊| 16503/16904 [00:17<00:00, 1020.05it/s]\u001B[A\n",
      "Sampling from DATGAN: 100%|██████████| 16904/16904 [00:18<00:00, 900.03it/s] \u001B[A\n",
      "\n",
      "Sampling from DATGAN:   0%|          | 0/16904 [00:00<?, ?it/s]\u001B[A\n",
      "Sampling from DATGAN:   7%|▋         | 1099/16904 [00:01<00:14, 1059.65it/s]\u001B[A\n",
      "Sampling from DATGAN:  13%|█▎        | 2199/16904 [00:02<00:14, 1009.39it/s]\u001B[A\n",
      "Sampling from DATGAN:  20%|█▉        | 3299/16904 [00:03<00:13, 1003.38it/s]\u001B[A\n",
      "Sampling from DATGAN:  26%|██▌       | 4400/16904 [00:04<00:12, 969.33it/s] \u001B[A\n",
      "Sampling from DATGAN:  33%|███▎      | 5501/16904 [00:05<00:11, 980.45it/s]\u001B[A\n",
      "Sampling from DATGAN:  39%|███▉      | 6602/16904 [00:06<00:10, 974.74it/s]\u001B[A\n",
      "Sampling from DATGAN:  46%|████▌     | 7702/16904 [00:07<00:09, 983.67it/s]\u001B[A\n",
      "Sampling from DATGAN:  52%|█████▏    | 8802/16904 [00:08<00:08, 1006.01it/s]\u001B[A\n",
      "Sampling from DATGAN:  59%|█████▊    | 9903/16904 [00:09<00:06, 1012.55it/s]\u001B[A\n",
      "Sampling from DATGAN:  65%|██████▌   | 11004/16904 [00:10<00:05, 1016.16it/s]\u001B[A\n",
      "Sampling from DATGAN:  72%|███████▏  | 12105/16904 [00:12<00:04, 1021.09it/s]\u001B[A\n",
      "Sampling from DATGAN:  78%|███████▊  | 13206/16904 [00:13<00:03, 978.62it/s] \u001B[A\n",
      "Sampling from DATGAN:  85%|████████▍ | 14304/16904 [00:14<00:02, 994.45it/s]\u001B[A\n",
      "Sampling from DATGAN:  91%|█████████ | 15405/16904 [00:15<00:01, 1008.26it/s]\u001B[A\n",
      "Sampling from DATGAN:  98%|█████████▊| 16506/16904 [00:16<00:00, 1013.19it/s]\u001B[A\n",
      "Sampling from DATGAN: 100%|██████████| 16904/16904 [00:17<00:00, 957.62it/s] \u001B[A\n",
      "\n",
      "Sampling from DATGAN:   0%|          | 0/16904 [00:00<?, ?it/s]\u001B[A\n",
      "Sampling from DATGAN:   7%|▋         | 1100/16904 [00:01<00:14, 1062.64it/s]\u001B[A\n",
      "Sampling from DATGAN:  13%|█▎        | 2201/16904 [00:02<00:14, 1038.03it/s]\u001B[A\n",
      "Sampling from DATGAN:  20%|█▉        | 3302/16904 [00:03<00:13, 1036.13it/s]\u001B[A\n",
      "Sampling from DATGAN:  26%|██▌       | 4402/16904 [00:04<00:13, 947.94it/s] \u001B[A\n",
      "Sampling from DATGAN:  33%|███▎      | 5503/16904 [00:05<00:11, 962.41it/s]\u001B[A\n",
      "Sampling from DATGAN:  39%|███▉      | 6602/16904 [00:06<00:10, 978.48it/s]\u001B[A\n",
      "Sampling from DATGAN:  46%|████▌     | 7702/16904 [00:07<00:09, 996.22it/s]\u001B[A\n",
      "Sampling from DATGAN:  52%|█████▏    | 8803/16904 [00:08<00:08, 1003.86it/s]\u001B[A\n",
      "Sampling from DATGAN:  59%|█████▊    | 9903/16904 [00:09<00:06, 1011.33it/s]\u001B[A\n",
      "Sampling from DATGAN:  65%|██████▌   | 11004/16904 [00:10<00:05, 1010.72it/s]\u001B[A\n",
      "Sampling from DATGAN:  72%|███████▏  | 12105/16904 [00:12<00:04, 1030.23it/s]\u001B[A\n",
      "Sampling from DATGAN:  78%|███████▊  | 13205/16904 [00:13<00:03, 1018.67it/s]\u001B[A\n",
      "Sampling from DATGAN:  85%|████████▍ | 14306/16904 [00:14<00:02, 1019.81it/s]\u001B[A\n",
      "Sampling from DATGAN:  91%|█████████ | 15407/16904 [00:15<00:01, 1030.68it/s]\u001B[A\n",
      "Sampling from DATGAN:  98%|█████████▊| 16507/16904 [00:16<00:00, 1034.26it/s]\u001B[A\n",
      "Sampling from DATGAN: 100%|██████████| 16904/16904 [00:17<00:00, 974.33it/s] \u001B[A\n",
      "\n",
      "Sampling from DATGAN:   0%|          | 0/16904 [00:00<?, ?it/s]\u001B[A\n",
      "Sampling from DATGAN:   7%|▋         | 1101/16904 [00:01<00:15, 1035.33it/s]\u001B[A\n",
      "Sampling from DATGAN:  13%|█▎        | 2201/16904 [00:02<00:14, 1025.77it/s]\u001B[A\n",
      "Sampling from DATGAN:  20%|█▉        | 3301/16904 [00:03<00:13, 1034.20it/s]\u001B[A\n",
      "Sampling from DATGAN:  26%|██▌       | 4402/16904 [00:04<00:12, 1038.13it/s]\u001B[A\n",
      "Sampling from DATGAN:  33%|███▎      | 5503/16904 [00:05<00:10, 1041.33it/s]\u001B[A\n",
      "Sampling from DATGAN:  39%|███▉      | 6604/16904 [00:06<00:09, 1032.71it/s]\u001B[A\n",
      "Sampling from DATGAN:  46%|████▌     | 7704/16904 [00:07<00:08, 1035.15it/s]\u001B[A\n",
      "Sampling from DATGAN:  52%|█████▏    | 8805/16904 [00:08<00:07, 1034.90it/s]\u001B[A\n",
      "Sampling from DATGAN:  59%|█████▊    | 9906/16904 [00:09<00:06, 1039.43it/s]\u001B[A\n",
      "Sampling from DATGAN:  65%|██████▌   | 11007/16904 [00:10<00:05, 1039.81it/s]\u001B[A\n",
      "Sampling from DATGAN:  72%|███████▏  | 12107/16904 [00:11<00:04, 994.71it/s] \u001B[A\n",
      "Sampling from DATGAN:  78%|███████▊  | 13206/16904 [00:12<00:03, 993.96it/s]\u001B[A\n",
      "Sampling from DATGAN:  85%|████████▍ | 14306/16904 [00:13<00:02, 1009.20it/s]\u001B[A\n",
      "Sampling from DATGAN:  91%|█████████ | 15406/16904 [00:15<00:01, 956.80it/s] \u001B[A\n",
      "Sampling from DATGAN:  98%|█████████▊| 16506/16904 [00:16<00:00, 901.46it/s]\u001B[A\n",
      "Sampling from DATGAN: 100%|██████████| 16904/16904 [00:18<00:00, 928.95it/s]\u001B[A\n",
      "\n",
      "Sampling from DATGAN:   0%|          | 0/16904 [00:00<?, ?it/s]\u001B[A\n",
      "Sampling from DATGAN:   7%|▋         | 1101/16904 [00:01<00:16, 936.21it/s]\u001B[A\n",
      "Sampling from DATGAN:  13%|█▎        | 2202/16904 [00:02<00:15, 962.97it/s]\u001B[A\n",
      "Sampling from DATGAN:  20%|█▉        | 3303/16904 [00:03<00:13, 991.07it/s]\u001B[A\n",
      "Sampling from DATGAN:  26%|██▌       | 4404/16904 [00:04<00:12, 1013.53it/s]\u001B[A\n",
      "Sampling from DATGAN:  33%|███▎      | 5505/16904 [00:05<00:11, 1024.01it/s]\u001B[A\n",
      "Sampling from DATGAN:  39%|███▉      | 6606/16904 [00:06<00:09, 1030.40it/s]\u001B[A\n",
      "Sampling from DATGAN:  46%|████▌     | 7707/16904 [00:07<00:08, 1034.13it/s]\u001B[A\n",
      "Sampling from DATGAN:  52%|█████▏    | 8807/16904 [00:08<00:07, 1033.29it/s]\u001B[A\n",
      "Sampling from DATGAN:  59%|█████▊    | 9907/16904 [00:09<00:06, 1027.20it/s]\u001B[A\n",
      "Sampling from DATGAN:  65%|██████▌   | 11008/16904 [00:10<00:05, 1031.16it/s]\u001B[A\n",
      "Sampling from DATGAN:  72%|███████▏  | 12109/16904 [00:11<00:04, 1039.39it/s]\u001B[A\n",
      "Sampling from DATGAN:  78%|███████▊  | 13210/16904 [00:12<00:03, 1039.70it/s]\u001B[A\n",
      "Sampling from DATGAN:  85%|████████▍ | 14310/16904 [00:13<00:02, 1043.11it/s]\u001B[A\n",
      "Sampling from DATGAN:  91%|█████████ | 15410/16904 [00:14<00:01, 1048.48it/s]\u001B[A\n",
      "Sampling from DATGAN:  98%|█████████▊| 16511/16904 [00:16<00:00, 1045.78it/s]\u001B[A\n",
      "Sampling from DATGAN: 100%|██████████| 16904/16904 [00:17<00:00, 989.84it/s] \u001B[A\n"
     ]
    }
   ],
   "source": [
    "for i in range(5):\n",
    "    samp = datgan.sample(len(df))\n",
    "    samp.to_csv('../../data/synthetic/test/DATGAN_{:02d}.csv'.format(i+1), index=False)"
   ],
   "metadata": {
    "collapsed": false,
    "pycharm": {
     "name": "#%%\n"
    }
   }
  },
  {
   "cell_type": "markdown",
   "source": [
    "# Regions"
   ],
   "metadata": {
    "collapsed": false,
    "pycharm": {
     "name": "#%% md\n"
    }
   }
  },
  {
   "cell_type": "code",
   "execution_count": 12,
   "outputs": [],
   "source": [
    "nbrs = {}\n",
    "dct = {}\n",
    "\n",
    "for r in df.hh_region.unique():\n",
    "    tmp = pd.read_csv('../../data/nomis/{}.csv'.format(r))\n",
    "\n",
    "    nbrs[r] = len(tmp)\n",
    "    dct[r] = []"
   ],
   "metadata": {
    "collapsed": false,
    "pycharm": {
     "name": "#%%\n"
    }
   }
  },
  {
   "cell_type": "code",
   "execution_count": 12,
   "outputs": [
    {
     "name": "stdout",
     "output_type": "stream",
     "text": [
      "Pass 1 - Remaining regions: 5\n"
     ]
    },
    {
     "name": "stderr",
     "output_type": "stream",
     "text": [
      "Sampling from DATGAN: 100%|██████████| 100000/100000 [01:38<00:00, 1013.39it/s]\n"
     ]
    },
    {
     "name": "stdout",
     "output_type": "stream",
     "text": [
      "Pass 2 - Remaining regions: 5\n"
     ]
    },
    {
     "name": "stderr",
     "output_type": "stream",
     "text": [
      "Sampling from DATGAN: 100%|██████████| 100000/100000 [01:35<00:00, 1045.48it/s]\n"
     ]
    },
    {
     "name": "stdout",
     "output_type": "stream",
     "text": [
      "Pass 3 - Remaining regions: 5\n"
     ]
    },
    {
     "name": "stderr",
     "output_type": "stream",
     "text": [
      "Sampling from DATGAN: 100%|██████████| 100000/100000 [01:36<00:00, 1036.20it/s]\n"
     ]
    },
    {
     "name": "stdout",
     "output_type": "stream",
     "text": [
      "Pass 4 - Remaining regions: 5\n"
     ]
    },
    {
     "name": "stderr",
     "output_type": "stream",
     "text": [
      "Sampling from DATGAN: 100%|██████████| 100000/100000 [01:36<00:00, 1034.61it/s]\n"
     ]
    },
    {
     "name": "stdout",
     "output_type": "stream",
     "text": [
      "Pass 5 - Remaining regions: 5\n"
     ]
    },
    {
     "name": "stderr",
     "output_type": "stream",
     "text": [
      "Sampling from DATGAN: 100%|██████████| 100000/100000 [01:36<00:00, 1033.30it/s]\n"
     ]
    },
    {
     "name": "stdout",
     "output_type": "stream",
     "text": [
      "Pass 6 - Remaining regions: 5\n"
     ]
    },
    {
     "name": "stderr",
     "output_type": "stream",
     "text": [
      "Sampling from DATGAN: 100%|██████████| 100000/100000 [01:36<00:00, 1032.58it/s]\n"
     ]
    },
    {
     "name": "stdout",
     "output_type": "stream",
     "text": [
      "Pass 7 - Remaining regions: 5\n"
     ]
    },
    {
     "name": "stderr",
     "output_type": "stream",
     "text": [
      "Sampling from DATGAN: 100%|██████████| 100000/100000 [01:35<00:00, 1042.89it/s]\n"
     ]
    },
    {
     "name": "stdout",
     "output_type": "stream",
     "text": [
      "Pass 8 - Remaining regions: 5\n"
     ]
    },
    {
     "name": "stderr",
     "output_type": "stream",
     "text": [
      "Sampling from DATGAN: 100%|██████████| 100000/100000 [01:36<00:00, 1040.92it/s]\n"
     ]
    },
    {
     "name": "stdout",
     "output_type": "stream",
     "text": [
      "Pass 9 - Remaining regions: 5\n"
     ]
    },
    {
     "name": "stderr",
     "output_type": "stream",
     "text": [
      "Sampling from DATGAN: 100%|██████████| 100000/100000 [01:36<00:00, 1039.19it/s]\n"
     ]
    },
    {
     "name": "stdout",
     "output_type": "stream",
     "text": [
      "Pass 10 - Remaining regions: 5\n"
     ]
    },
    {
     "name": "stderr",
     "output_type": "stream",
     "text": [
      "Sampling from DATGAN: 100%|██████████| 100000/100000 [01:35<00:00, 1044.16it/s]\n"
     ]
    },
    {
     "name": "stdout",
     "output_type": "stream",
     "text": [
      "Pass 11 - Remaining regions: 5\n"
     ]
    },
    {
     "name": "stderr",
     "output_type": "stream",
     "text": [
      "Sampling from DATGAN: 100%|██████████| 100000/100000 [01:33<00:00, 1065.33it/s]\n"
     ]
    },
    {
     "name": "stdout",
     "output_type": "stream",
     "text": [
      "Pass 12 - Remaining regions: 5\n"
     ]
    },
    {
     "name": "stderr",
     "output_type": "stream",
     "text": [
      "Sampling from DATGAN: 100%|██████████| 100000/100000 [01:34<00:00, 1061.59it/s]\n"
     ]
    },
    {
     "name": "stdout",
     "output_type": "stream",
     "text": [
      "Pass 13 - Remaining regions: 5\n"
     ]
    },
    {
     "name": "stderr",
     "output_type": "stream",
     "text": [
      "Sampling from DATGAN: 100%|██████████| 100000/100000 [01:34<00:00, 1053.49it/s]\n"
     ]
    },
    {
     "name": "stdout",
     "output_type": "stream",
     "text": [
      "Pass 14 - Remaining regions: 5\n"
     ]
    },
    {
     "name": "stderr",
     "output_type": "stream",
     "text": [
      "Sampling from DATGAN: 100%|██████████| 100000/100000 [01:34<00:00, 1055.08it/s]\n"
     ]
    },
    {
     "name": "stdout",
     "output_type": "stream",
     "text": [
      "Pass 15 - Remaining regions: 5\n"
     ]
    },
    {
     "name": "stderr",
     "output_type": "stream",
     "text": [
      "Sampling from DATGAN: 100%|██████████| 100000/100000 [01:34<00:00, 1054.23it/s]\n"
     ]
    },
    {
     "name": "stdout",
     "output_type": "stream",
     "text": [
      "Pass 16 - Remaining regions: 5\n"
     ]
    },
    {
     "name": "stderr",
     "output_type": "stream",
     "text": [
      "Sampling from DATGAN: 100%|██████████| 100000/100000 [01:35<00:00, 1051.97it/s]\n"
     ]
    },
    {
     "name": "stdout",
     "output_type": "stream",
     "text": [
      "Pass 17 - Remaining regions: 5\n"
     ]
    },
    {
     "name": "stderr",
     "output_type": "stream",
     "text": [
      "Sampling from DATGAN: 100%|██████████| 100000/100000 [01:35<00:00, 1049.38it/s]\n"
     ]
    },
    {
     "name": "stdout",
     "output_type": "stream",
     "text": [
      "Pass 18 - Remaining regions: 5\n"
     ]
    },
    {
     "name": "stderr",
     "output_type": "stream",
     "text": [
      "Sampling from DATGAN: 100%|██████████| 100000/100000 [01:35<00:00, 1052.37it/s]\n"
     ]
    },
    {
     "name": "stdout",
     "output_type": "stream",
     "text": [
      "Pass 19 - Remaining regions: 5\n"
     ]
    },
    {
     "name": "stderr",
     "output_type": "stream",
     "text": [
      "Sampling from DATGAN: 100%|██████████| 100000/100000 [01:35<00:00, 1049.81it/s]\n"
     ]
    },
    {
     "name": "stdout",
     "output_type": "stream",
     "text": [
      "Pass 20 - Remaining regions: 5\n"
     ]
    },
    {
     "name": "stderr",
     "output_type": "stream",
     "text": [
      "Sampling from DATGAN: 100%|██████████| 100000/100000 [01:35<00:00, 1047.57it/s]\n"
     ]
    },
    {
     "name": "stdout",
     "output_type": "stream",
     "text": [
      "Pass 21 - Remaining regions: 5\n"
     ]
    },
    {
     "name": "stderr",
     "output_type": "stream",
     "text": [
      "Sampling from DATGAN: 100%|██████████| 100000/100000 [01:35<00:00, 1049.09it/s]\n"
     ]
    },
    {
     "name": "stdout",
     "output_type": "stream",
     "text": [
      "Pass 22 - Remaining regions: 5\n"
     ]
    },
    {
     "name": "stderr",
     "output_type": "stream",
     "text": [
      "Sampling from DATGAN: 100%|██████████| 100000/100000 [01:35<00:00, 1046.14it/s]\n"
     ]
    },
    {
     "name": "stdout",
     "output_type": "stream",
     "text": [
      "Pass 23 - Remaining regions: 5\n"
     ]
    },
    {
     "name": "stderr",
     "output_type": "stream",
     "text": [
      "Sampling from DATGAN: 100%|██████████| 100000/100000 [01:35<00:00, 1047.73it/s]\n"
     ]
    },
    {
     "name": "stdout",
     "output_type": "stream",
     "text": [
      "Pass 24 - Remaining regions: 5\n"
     ]
    },
    {
     "name": "stderr",
     "output_type": "stream",
     "text": [
      "Sampling from DATGAN: 100%|██████████| 100000/100000 [01:35<00:00, 1050.25it/s]\n"
     ]
    },
    {
     "name": "stdout",
     "output_type": "stream",
     "text": [
      "Pass 25 - Remaining regions: 5\n"
     ]
    },
    {
     "name": "stderr",
     "output_type": "stream",
     "text": [
      "Sampling from DATGAN: 100%|██████████| 100000/100000 [01:35<00:00, 1050.55it/s]\n"
     ]
    },
    {
     "name": "stdout",
     "output_type": "stream",
     "text": [
      "Pass 26 - Remaining regions: 5\n"
     ]
    },
    {
     "name": "stderr",
     "output_type": "stream",
     "text": [
      "Sampling from DATGAN: 100%|██████████| 100000/100000 [01:34<00:00, 1053.54it/s]\n"
     ]
    },
    {
     "name": "stdout",
     "output_type": "stream",
     "text": [
      "Pass 27 - Remaining regions: 5\n"
     ]
    },
    {
     "name": "stderr",
     "output_type": "stream",
     "text": [
      "Sampling from DATGAN: 100%|██████████| 100000/100000 [01:35<00:00, 1050.88it/s]\n"
     ]
    },
    {
     "name": "stdout",
     "output_type": "stream",
     "text": [
      "Pass 28 - Remaining regions: 5\n"
     ]
    },
    {
     "name": "stderr",
     "output_type": "stream",
     "text": [
      "Sampling from DATGAN: 100%|██████████| 100000/100000 [01:35<00:00, 1047.61it/s]\n"
     ]
    },
    {
     "name": "stdout",
     "output_type": "stream",
     "text": [
      "Pass 29 - Remaining regions: 5\n"
     ]
    },
    {
     "name": "stderr",
     "output_type": "stream",
     "text": [
      "Sampling from DATGAN: 100%|██████████| 100000/100000 [01:35<00:00, 1043.84it/s]\n"
     ]
    },
    {
     "name": "stdout",
     "output_type": "stream",
     "text": [
      "Pass 30 - Remaining regions: 5\n"
     ]
    },
    {
     "name": "stderr",
     "output_type": "stream",
     "text": [
      "Sampling from DATGAN: 100%|██████████| 100000/100000 [01:36<00:00, 1041.63it/s]\n"
     ]
    },
    {
     "name": "stdout",
     "output_type": "stream",
     "text": [
      "Pass 31 - Remaining regions: 5\n"
     ]
    },
    {
     "name": "stderr",
     "output_type": "stream",
     "text": [
      "Sampling from DATGAN: 100%|██████████| 100000/100000 [01:36<00:00, 1041.49it/s]\n"
     ]
    },
    {
     "name": "stdout",
     "output_type": "stream",
     "text": [
      "Pass 32 - Remaining regions: 5\n"
     ]
    },
    {
     "name": "stderr",
     "output_type": "stream",
     "text": [
      "Sampling from DATGAN: 100%|██████████| 100000/100000 [01:35<00:00, 1045.70it/s]\n"
     ]
    },
    {
     "name": "stdout",
     "output_type": "stream",
     "text": [
      "Pass 33 - Remaining regions: 5\n"
     ]
    },
    {
     "name": "stderr",
     "output_type": "stream",
     "text": [
      "Sampling from DATGAN: 100%|██████████| 100000/100000 [01:35<00:00, 1047.26it/s]\n"
     ]
    },
    {
     "name": "stdout",
     "output_type": "stream",
     "text": [
      "Pass 34 - Remaining regions: 5\n"
     ]
    },
    {
     "name": "stderr",
     "output_type": "stream",
     "text": [
      "Sampling from DATGAN: 100%|██████████| 100000/100000 [01:35<00:00, 1045.27it/s]\n"
     ]
    },
    {
     "name": "stdout",
     "output_type": "stream",
     "text": [
      "Pass 35 - Remaining regions: 5\n"
     ]
    },
    {
     "name": "stderr",
     "output_type": "stream",
     "text": [
      "Sampling from DATGAN: 100%|██████████| 100000/100000 [01:35<00:00, 1051.33it/s]\n"
     ]
    },
    {
     "name": "stdout",
     "output_type": "stream",
     "text": [
      "Pass 36 - Remaining regions: 5\n"
     ]
    },
    {
     "name": "stderr",
     "output_type": "stream",
     "text": [
      "Sampling from DATGAN: 100%|██████████| 100000/100000 [01:34<00:00, 1058.64it/s]\n"
     ]
    },
    {
     "name": "stdout",
     "output_type": "stream",
     "text": [
      "Pass 37 - Remaining regions: 5\n"
     ]
    },
    {
     "name": "stderr",
     "output_type": "stream",
     "text": [
      "Sampling from DATGAN: 100%|██████████| 100000/100000 [01:35<00:00, 1050.27it/s]\n"
     ]
    },
    {
     "name": "stdout",
     "output_type": "stream",
     "text": [
      "Pass 38 - Remaining regions: 5\n"
     ]
    },
    {
     "name": "stderr",
     "output_type": "stream",
     "text": [
      "Sampling from DATGAN: 100%|██████████| 100000/100000 [01:34<00:00, 1054.20it/s]\n"
     ]
    },
    {
     "name": "stdout",
     "output_type": "stream",
     "text": [
      "Pass 39 - Remaining regions: 5\n"
     ]
    },
    {
     "name": "stderr",
     "output_type": "stream",
     "text": [
      "Sampling from DATGAN: 100%|██████████| 100000/100000 [01:34<00:00, 1053.55it/s]\n"
     ]
    },
    {
     "name": "stdout",
     "output_type": "stream",
     "text": [
      "Pass 40 - Remaining regions: 5\n"
     ]
    },
    {
     "name": "stderr",
     "output_type": "stream",
     "text": [
      "Sampling from DATGAN: 100%|██████████| 100000/100000 [01:34<00:00, 1054.69it/s]\n"
     ]
    },
    {
     "name": "stdout",
     "output_type": "stream",
     "text": [
      "Pass 41 - Remaining regions: 5\n"
     ]
    },
    {
     "name": "stderr",
     "output_type": "stream",
     "text": [
      "Sampling from DATGAN: 100%|██████████| 100000/100000 [01:34<00:00, 1054.83it/s]\n"
     ]
    },
    {
     "name": "stdout",
     "output_type": "stream",
     "text": [
      "Pass 42 - Remaining regions: 5\n"
     ]
    },
    {
     "name": "stderr",
     "output_type": "stream",
     "text": [
      "Sampling from DATGAN: 100%|██████████| 100000/100000 [01:34<00:00, 1055.80it/s]\n"
     ]
    },
    {
     "name": "stdout",
     "output_type": "stream",
     "text": [
      "Pass 43 - Remaining regions: 5\n"
     ]
    },
    {
     "name": "stderr",
     "output_type": "stream",
     "text": [
      "Sampling from DATGAN: 100%|██████████| 100000/100000 [01:34<00:00, 1059.80it/s]\n"
     ]
    },
    {
     "name": "stdout",
     "output_type": "stream",
     "text": [
      "Pass 44 - Remaining regions: 5\n"
     ]
    },
    {
     "name": "stderr",
     "output_type": "stream",
     "text": [
      "Sampling from DATGAN: 100%|██████████| 100000/100000 [01:34<00:00, 1062.18it/s]\n"
     ]
    },
    {
     "name": "stdout",
     "output_type": "stream",
     "text": [
      "Pass 45 - Remaining regions: 5\n"
     ]
    },
    {
     "name": "stderr",
     "output_type": "stream",
     "text": [
      "Sampling from DATGAN: 100%|██████████| 100000/100000 [01:33<00:00, 1064.23it/s]\n"
     ]
    },
    {
     "name": "stdout",
     "output_type": "stream",
     "text": [
      "Pass 46 - Remaining regions: 5\n"
     ]
    },
    {
     "name": "stderr",
     "output_type": "stream",
     "text": [
      "Sampling from DATGAN: 100%|██████████| 100000/100000 [01:34<00:00, 1060.33it/s]\n"
     ]
    },
    {
     "name": "stdout",
     "output_type": "stream",
     "text": [
      "Pass 47 - Remaining regions: 5\n"
     ]
    },
    {
     "name": "stderr",
     "output_type": "stream",
     "text": [
      "Sampling from DATGAN: 100%|██████████| 100000/100000 [01:34<00:00, 1061.23it/s]\n"
     ]
    },
    {
     "name": "stdout",
     "output_type": "stream",
     "text": [
      "Pass 48 - Remaining regions: 5\n"
     ]
    },
    {
     "name": "stderr",
     "output_type": "stream",
     "text": [
      "Sampling from DATGAN: 100%|██████████| 100000/100000 [01:34<00:00, 1061.12it/s]\n"
     ]
    },
    {
     "name": "stdout",
     "output_type": "stream",
     "text": [
      "Pass 49 - Remaining regions: 5\n"
     ]
    },
    {
     "name": "stderr",
     "output_type": "stream",
     "text": [
      "Sampling from DATGAN: 100%|██████████| 100000/100000 [01:34<00:00, 1062.98it/s]\n"
     ]
    },
    {
     "name": "stdout",
     "output_type": "stream",
     "text": [
      "Pass 50 - Remaining regions: 5\n"
     ]
    },
    {
     "name": "stderr",
     "output_type": "stream",
     "text": [
      "Sampling from DATGAN: 100%|██████████| 100000/100000 [01:34<00:00, 1062.09it/s]\n"
     ]
    },
    {
     "name": "stdout",
     "output_type": "stream",
     "text": [
      "Pass 51 - Remaining regions: 5\n"
     ]
    },
    {
     "name": "stderr",
     "output_type": "stream",
     "text": [
      "Sampling from DATGAN: 100%|██████████| 100000/100000 [01:34<00:00, 1063.60it/s]\n"
     ]
    },
    {
     "name": "stdout",
     "output_type": "stream",
     "text": [
      "Pass 52 - Remaining regions: 5\n"
     ]
    },
    {
     "name": "stderr",
     "output_type": "stream",
     "text": [
      "Sampling from DATGAN: 100%|██████████| 100000/100000 [01:34<00:00, 1060.17it/s]\n"
     ]
    },
    {
     "name": "stdout",
     "output_type": "stream",
     "text": [
      "Pass 53 - Remaining regions: 5\n"
     ]
    },
    {
     "name": "stderr",
     "output_type": "stream",
     "text": [
      "Sampling from DATGAN: 100%|██████████| 100000/100000 [01:34<00:00, 1061.29it/s]\n"
     ]
    },
    {
     "name": "stdout",
     "output_type": "stream",
     "text": [
      "Pass 54 - Remaining regions: 5\n"
     ]
    },
    {
     "name": "stderr",
     "output_type": "stream",
     "text": [
      "Sampling from DATGAN: 100%|██████████| 100000/100000 [01:34<00:00, 1063.67it/s]\n"
     ]
    },
    {
     "name": "stdout",
     "output_type": "stream",
     "text": [
      "Pass 55 - Remaining regions: 5\n"
     ]
    },
    {
     "name": "stderr",
     "output_type": "stream",
     "text": [
      "Sampling from DATGAN: 100%|██████████| 100000/100000 [01:34<00:00, 1063.65it/s]\n"
     ]
    },
    {
     "name": "stdout",
     "output_type": "stream",
     "text": [
      "Pass 56 - Remaining regions: 5\n"
     ]
    },
    {
     "name": "stderr",
     "output_type": "stream",
     "text": [
      "Sampling from DATGAN: 100%|██████████| 100000/100000 [01:33<00:00, 1064.27it/s]\n"
     ]
    },
    {
     "name": "stdout",
     "output_type": "stream",
     "text": [
      "Pass 57 - Remaining regions: 5\n"
     ]
    },
    {
     "name": "stderr",
     "output_type": "stream",
     "text": [
      "Sampling from DATGAN: 100%|██████████| 100000/100000 [01:34<00:00, 1058.85it/s]\n"
     ]
    },
    {
     "name": "stdout",
     "output_type": "stream",
     "text": [
      "Pass 58 - Remaining regions: 5\n"
     ]
    },
    {
     "name": "stderr",
     "output_type": "stream",
     "text": [
      "Sampling from DATGAN: 100%|██████████| 100000/100000 [01:34<00:00, 1060.77it/s]\n"
     ]
    },
    {
     "name": "stdout",
     "output_type": "stream",
     "text": [
      "Pass 59 - Remaining regions: 5\n"
     ]
    },
    {
     "name": "stderr",
     "output_type": "stream",
     "text": [
      "Sampling from DATGAN: 100%|██████████| 100000/100000 [01:34<00:00, 1062.54it/s]\n"
     ]
    },
    {
     "name": "stdout",
     "output_type": "stream",
     "text": [
      "Pass 60 - Remaining regions: 5\n"
     ]
    },
    {
     "name": "stderr",
     "output_type": "stream",
     "text": [
      "Sampling from DATGAN: 100%|██████████| 100000/100000 [01:34<00:00, 1063.43it/s]\n"
     ]
    },
    {
     "name": "stdout",
     "output_type": "stream",
     "text": [
      "Pass 61 - Remaining regions: 5\n"
     ]
    },
    {
     "name": "stderr",
     "output_type": "stream",
     "text": [
      "Sampling from DATGAN: 100%|██████████| 100000/100000 [01:34<00:00, 1062.30it/s]\n"
     ]
    },
    {
     "name": "stdout",
     "output_type": "stream",
     "text": [
      "Pass 62 - Remaining regions: 5\n"
     ]
    },
    {
     "name": "stderr",
     "output_type": "stream",
     "text": [
      "Sampling from DATGAN: 100%|██████████| 100000/100000 [01:34<00:00, 1061.79it/s]\n"
     ]
    },
    {
     "name": "stdout",
     "output_type": "stream",
     "text": [
      "Pass 63 - Remaining regions: 5\n"
     ]
    },
    {
     "name": "stderr",
     "output_type": "stream",
     "text": [
      "Sampling from DATGAN: 100%|██████████| 100000/100000 [01:34<00:00, 1060.72it/s]\n"
     ]
    },
    {
     "name": "stdout",
     "output_type": "stream",
     "text": [
      "Pass 64 - Remaining regions: 5\n"
     ]
    },
    {
     "name": "stderr",
     "output_type": "stream",
     "text": [
      "Sampling from DATGAN: 100%|██████████| 100000/100000 [01:34<00:00, 1060.07it/s]\n"
     ]
    },
    {
     "name": "stdout",
     "output_type": "stream",
     "text": [
      "Pass 65 - Remaining regions: 5\n"
     ]
    },
    {
     "name": "stderr",
     "output_type": "stream",
     "text": [
      "Sampling from DATGAN: 100%|██████████| 100000/100000 [01:34<00:00, 1058.75it/s]\n"
     ]
    },
    {
     "name": "stdout",
     "output_type": "stream",
     "text": [
      "Pass 66 - Remaining regions: 5\n"
     ]
    },
    {
     "name": "stderr",
     "output_type": "stream",
     "text": [
      "Sampling from DATGAN: 100%|██████████| 100000/100000 [01:34<00:00, 1057.07it/s]\n"
     ]
    },
    {
     "name": "stdout",
     "output_type": "stream",
     "text": [
      "Pass 67 - Remaining regions: 5\n"
     ]
    },
    {
     "name": "stderr",
     "output_type": "stream",
     "text": [
      "Sampling from DATGAN: 100%|██████████| 100000/100000 [01:34<00:00, 1056.60it/s]\n"
     ]
    },
    {
     "name": "stdout",
     "output_type": "stream",
     "text": [
      "Pass 68 - Remaining regions: 5\n"
     ]
    },
    {
     "name": "stderr",
     "output_type": "stream",
     "text": [
      "Sampling from DATGAN: 100%|██████████| 100000/100000 [01:34<00:00, 1058.08it/s]\n"
     ]
    },
    {
     "name": "stdout",
     "output_type": "stream",
     "text": [
      "Pass 69 - Remaining regions: 3\n"
     ]
    },
    {
     "name": "stderr",
     "output_type": "stream",
     "text": [
      "Sampling from DATGAN: 100%|██████████| 100000/100000 [01:34<00:00, 1057.22it/s]\n"
     ]
    },
    {
     "name": "stdout",
     "output_type": "stream",
     "text": [
      "Pass 70 - Remaining regions: 3\n"
     ]
    },
    {
     "name": "stderr",
     "output_type": "stream",
     "text": [
      "Sampling from DATGAN: 100%|██████████| 100000/100000 [01:34<00:00, 1058.34it/s]\n"
     ]
    },
    {
     "name": "stdout",
     "output_type": "stream",
     "text": [
      "Pass 71 - Remaining regions: 3\n"
     ]
    },
    {
     "name": "stderr",
     "output_type": "stream",
     "text": [
      "Sampling from DATGAN: 100%|██████████| 100000/100000 [01:34<00:00, 1058.05it/s]\n"
     ]
    },
    {
     "name": "stdout",
     "output_type": "stream",
     "text": [
      "Pass 72 - Remaining regions: 3\n"
     ]
    },
    {
     "name": "stderr",
     "output_type": "stream",
     "text": [
      "Sampling from DATGAN: 100%|██████████| 100000/100000 [01:34<00:00, 1054.95it/s]\n"
     ]
    },
    {
     "name": "stdout",
     "output_type": "stream",
     "text": [
      "Pass 73 - Remaining regions: 3\n"
     ]
    },
    {
     "name": "stderr",
     "output_type": "stream",
     "text": [
      "Sampling from DATGAN: 100%|██████████| 100000/100000 [01:34<00:00, 1056.03it/s]\n"
     ]
    },
    {
     "name": "stdout",
     "output_type": "stream",
     "text": [
      "Pass 74 - Remaining regions: 3\n"
     ]
    },
    {
     "name": "stderr",
     "output_type": "stream",
     "text": [
      "Sampling from DATGAN: 100%|██████████| 100000/100000 [01:35<00:00, 1052.60it/s]\n"
     ]
    },
    {
     "name": "stdout",
     "output_type": "stream",
     "text": [
      "Pass 75 - Remaining regions: 3\n"
     ]
    },
    {
     "name": "stderr",
     "output_type": "stream",
     "text": [
      "Sampling from DATGAN: 100%|██████████| 100000/100000 [01:34<00:00, 1059.19it/s]\n"
     ]
    },
    {
     "name": "stdout",
     "output_type": "stream",
     "text": [
      "Pass 76 - Remaining regions: 3\n"
     ]
    },
    {
     "name": "stderr",
     "output_type": "stream",
     "text": [
      "Sampling from DATGAN: 100%|██████████| 100000/100000 [01:34<00:00, 1061.23it/s]\n"
     ]
    },
    {
     "name": "stdout",
     "output_type": "stream",
     "text": [
      "Pass 77 - Remaining regions: 3\n"
     ]
    },
    {
     "name": "stderr",
     "output_type": "stream",
     "text": [
      "Sampling from DATGAN: 100%|██████████| 100000/100000 [01:34<00:00, 1061.54it/s]\n"
     ]
    },
    {
     "name": "stdout",
     "output_type": "stream",
     "text": [
      "Pass 78 - Remaining regions: 3\n"
     ]
    },
    {
     "name": "stderr",
     "output_type": "stream",
     "text": [
      "Sampling from DATGAN: 100%|██████████| 100000/100000 [01:33<00:00, 1064.23it/s]\n"
     ]
    },
    {
     "name": "stdout",
     "output_type": "stream",
     "text": [
      "Pass 79 - Remaining regions: 2\n"
     ]
    },
    {
     "name": "stderr",
     "output_type": "stream",
     "text": [
      "Sampling from DATGAN: 100%|██████████| 100000/100000 [01:34<00:00, 1061.78it/s]\n"
     ]
    },
    {
     "name": "stdout",
     "output_type": "stream",
     "text": [
      "Pass 80 - Remaining regions: 2\n"
     ]
    },
    {
     "name": "stderr",
     "output_type": "stream",
     "text": [
      "Sampling from DATGAN: 100%|██████████| 100000/100000 [01:34<00:00, 1060.93it/s]\n"
     ]
    },
    {
     "name": "stdout",
     "output_type": "stream",
     "text": [
      "Pass 81 - Remaining regions: 2\n"
     ]
    },
    {
     "name": "stderr",
     "output_type": "stream",
     "text": [
      "Sampling from DATGAN: 100%|██████████| 100000/100000 [01:34<00:00, 1061.61it/s]\n"
     ]
    },
    {
     "name": "stdout",
     "output_type": "stream",
     "text": [
      "Pass 82 - Remaining regions: 2\n"
     ]
    },
    {
     "name": "stderr",
     "output_type": "stream",
     "text": [
      "Sampling from DATGAN: 100%|██████████| 100000/100000 [01:34<00:00, 1061.19it/s]\n"
     ]
    },
    {
     "name": "stdout",
     "output_type": "stream",
     "text": [
      "Pass 83 - Remaining regions: 1\n"
     ]
    },
    {
     "name": "stderr",
     "output_type": "stream",
     "text": [
      "Sampling from DATGAN: 100%|██████████| 100000/100000 [01:34<00:00, 1062.20it/s]\n"
     ]
    },
    {
     "name": "stdout",
     "output_type": "stream",
     "text": [
      "Pass 84 - Remaining regions: 1\n"
     ]
    },
    {
     "name": "stderr",
     "output_type": "stream",
     "text": [
      "Sampling from DATGAN: 100%|██████████| 100000/100000 [01:34<00:00, 1062.39it/s]\n"
     ]
    },
    {
     "name": "stdout",
     "output_type": "stream",
     "text": [
      "Pass 85 - Remaining regions: 1\n"
     ]
    },
    {
     "name": "stderr",
     "output_type": "stream",
     "text": [
      "Sampling from DATGAN: 100%|██████████| 100000/100000 [01:34<00:00, 1062.39it/s]\n"
     ]
    }
   ],
   "source": [
    "remaining_regions = set(df.hh_region.unique())\n",
    "\n",
    "count = 1\n",
    "while remaining_regions:\n",
    "\n",
    "    print(\"Pass {} - Remaining regions: {}\".format(count, len(remaining_regions)))\n",
    "\n",
    "    samp = datgan.sample(100000)\n",
    "\n",
    "    region_to_remove = []\n",
    "\n",
    "    for r in remaining_regions:\n",
    "        tmp = samp[samp.hh_region == r]\n",
    "\n",
    "        if len(tmp) > nbrs[r]:\n",
    "            tmp = tmp.sample(nbrs[r], replace=False)\n",
    "\n",
    "        nbrs[r] -= len(tmp)\n",
    "        dct[r].append(tmp)\n",
    "\n",
    "        if nbrs[r] == 0:\n",
    "            region_to_remove.append(r)\n",
    "\n",
    "\n",
    "    for r in region_to_remove:\n",
    "        remaining_regions.remove(r)\n",
    "\n",
    "    count += 1"
   ],
   "metadata": {
    "collapsed": false,
    "pycharm": {
     "name": "#%%\n"
    }
   }
  },
  {
   "cell_type": "code",
   "execution_count": 13,
   "outputs": [],
   "source": [
    "for r in dct.keys():\n",
    "    tmp = pd.concat(dct[r])\n",
    "    tmp.to_csv('../../data/synthetic/DATGAN/{}.csv'.format(r), index=False)"
   ],
   "metadata": {
    "collapsed": false,
    "pycharm": {
     "name": "#%%\n"
    }
   }
  }
 ],
 "metadata": {
  "kernelspec": {
   "display_name": "Python 3",
   "language": "python",
   "name": "python3"
  },
  "language_info": {
   "codemirror_mode": {
    "name": "ipython",
    "version": 2
   },
   "file_extension": ".py",
   "mimetype": "text/x-python",
   "name": "python",
   "nbconvert_exporter": "python",
   "pygments_lexer": "ipython2",
   "version": "2.7.6"
  }
 },
 "nbformat": 4,
 "nbformat_minor": 0
}