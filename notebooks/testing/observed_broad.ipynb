{
 "cells": [
  {
   "cell_type": "code",
   "execution_count": 1,
   "metadata": {
    "collapsed": true
   },
   "outputs": [],
   "source": [
    "import os\n",
    "import pickle\n",
    "import numpy as np\n",
    "import pandas as pd\n",
    "import networkx as nx\n",
    "import datgan\n",
    "\n",
    "from sklearn.preprocessing import OrdinalEncoder\n",
    "\n",
    "from datgan import stats_assessment\n",
    "from datgan import ml_assessment, transform_results\n",
    "\n",
    "# For the Python notebook\n",
    "%matplotlib inline\n",
    "%reload_ext autoreload\n",
    "%autoreload 2"
   ]
  },
  {
   "cell_type": "code",
   "execution_count": 2,
   "outputs": [],
   "source": [
    "df_orig = pd.read_csv('../../data/LPMC/trips.csv', index_col=False)\n",
    "\n",
    "continuous_columns = ['start_time_linear', 'age', 'distance', 'driving_traffic_percent']\n",
    "\n",
    "cond_inputs = [\"age\", \"female\", \"hh_regions\", 'dur_walking', 'dur_cycling', 'dur_pt','dur_driving']\n",
    "\n",
    "synth_files = []\n",
    "\n",
    "for i in range(1):\n",
    "    synth_files.append('../../data/synthetic/test/DATGAN_{:02d}.csv'.format(i+1))\n",
    "\n",
    "    synth_files.append('../../data/synthetic/test/ciDATGAN_{:02d}.csv'.format(i+1))\n",
    "\n",
    "synth_files.append('../../data/LPMC/trips_biased.csv')\n",
    "synth_files.append('../../data/LPMC/trips_small_biased.csv')\n",
    "len_df = len(df_orig)"
   ],
   "metadata": {
    "collapsed": false,
    "pycharm": {
     "name": "#%%\n"
    }
   }
  },
  {
   "cell_type": "code",
   "execution_count": 3,
   "outputs": [],
   "source": [
    "results_path = './results/'\n",
    "\n",
    "if not os.path.exists(results_path):\n",
    "    os.makedirs(results_path)"
   ],
   "metadata": {
    "collapsed": false,
    "pycharm": {
     "name": "#%%\n"
    }
   }
  },
  {
   "cell_type": "code",
   "execution_count": 4,
   "outputs": [],
   "source": [
    "stats_str = ['mae', 'rmse', 'r2', 'srmse', 'corr']"
   ],
   "metadata": {
    "collapsed": false,
    "pycharm": {
     "name": "#%%\n"
    }
   }
  },
  {
   "cell_type": "markdown",
   "source": [
    "# First level"
   ],
   "metadata": {
    "collapsed": false,
    "pycharm": {
     "name": "#%% md\n"
    }
   }
  },
  {
   "cell_type": "code",
   "execution_count": 10,
   "outputs": [
    {
     "name": "stdout",
     "output_type": "stream",
     "text": [
      "No previous results found, starting fresh\n"
     ]
    }
   ],
   "source": [
    "pickle_name = 'stats_first_level.pickle'\n",
    "aggregation_level = 1\n",
    "\n",
    "first_lvl_stats = {}\n",
    "\n",
    "try:\n",
    "    first_lvl_stats = pickle.load(open(results_path + pickle_name, 'rb'))\n",
    "    print('Found previous pickle file, using that')\n",
    "except:\n",
    "    print('No previous results found, starting fresh')"
   ],
   "metadata": {
    "collapsed": false,
    "pycharm": {
     "name": "#%%\n"
    }
   }
  },
  {
   "cell_type": "code",
   "execution_count": 11,
   "outputs": [
    {
     "name": "stdout",
     "output_type": "stream",
     "text": [
      "Preparing stats for file \u001B[1mDATGAN_01\u001B[0m (1/4)\n",
      "Preparing stats for file \u001B[1mciDATGAN_01\u001B[0m (2/4)\n",
      "Preparing stats for file \u001B[1mtrips_biased\u001B[0m (3/4)\n",
      "Preparing stats for file \u001B[1mtrips_small_biased\u001B[0m (4/4)\n",
      "\u001B[1mFINISHED!\u001B[0m\n"
     ]
    }
   ],
   "source": [
    "for i, f in enumerate(synth_files):\n",
    "\n",
    "    file_name = f.split('/')[-1].split('.')[0]\n",
    "\n",
    "    if file_name in first_lvl_stats:\n",
    "        print(\"Results for file \\033[1m{}\\033[0m ({}/{}) already exists!\".format(file_name, i+1, len(synth_files)))\n",
    "    else:\n",
    "        print(\"Preparing stats for file \\033[1m{}\\033[0m ({}/{})\".format(file_name, i+1, len(synth_files)))\n",
    "\n",
    "        first_lvl_stats[file_name] = {}\n",
    "\n",
    "        df_synth = pd.read_csv(f, index_col=False)\n",
    "        df_synth = df_synth.sample(len_df).reset_index(drop=True)\n",
    "\n",
    "        stats = stats_assessment(df_orig, df_synth, continuous_columns, aggregation_level, ignore_cols=cond_inputs)\n",
    "\n",
    "        first_lvl_stats[file_name] = stats\n",
    "\n",
    "    pickle.dump(first_lvl_stats, open(results_path + pickle_name, 'wb'))\n",
    "\n",
    "print(\"\\033[1mFINISHED!\\033[0m\")"
   ],
   "metadata": {
    "collapsed": false,
    "pycharm": {
     "name": "#%%\n"
    }
   }
  },
  {
   "cell_type": "code",
   "execution_count": 12,
   "outputs": [],
   "source": [
    "res = {}\n",
    "\n",
    "for test in ['all', 'cont', 'cat']:\n",
    "\n",
    "    res[test] = {}\n",
    "\n",
    "    if test == 'all':\n",
    "        cols = df_orig.columns\n",
    "    elif test == 'cont':\n",
    "        cols = continuous_columns\n",
    "    elif test == 'cat':\n",
    "        cols = set(df_orig.columns) - set(continuous_columns)\n",
    "\n",
    "    cols = set(cols) - set(cond_inputs)\n",
    "\n",
    "    for s in stats_str:\n",
    "        res[test][s] = {}\n",
    "\n",
    "    for m in first_lvl_stats.keys():\n",
    "        for s in stats_str:\n",
    "            res[test][s][m] = []\n",
    "\n",
    "            for c in cols:\n",
    "                res[test][s][m].append(first_lvl_stats[m][c][s])"
   ],
   "metadata": {
    "collapsed": false,
    "pycharm": {
     "name": "#%%\n"
    }
   }
  },
  {
   "cell_type": "code",
   "execution_count": 13,
   "outputs": [],
   "source": [
    "avg = {}\n",
    "\n",
    "for test in ['all', 'cont', 'cat']:\n",
    "\n",
    "    avg[test] = {}\n",
    "\n",
    "    for s in stats_str:\n",
    "        avg[test][s] = {}\n",
    "\n",
    "        for m in first_lvl_stats.keys():\n",
    "            avg[test][s][m] = {\n",
    "                'mean': np.mean(res[test][s][m]),\n",
    "                'std': np.std(res[test][s][m])\n",
    "            }"
   ],
   "metadata": {
    "collapsed": false,
    "pycharm": {
     "name": "#%%\n"
    }
   }
  },
  {
   "cell_type": "code",
   "execution_count": 14,
   "outputs": [
    {
     "name": "stdout",
     "output_type": "stream",
     "text": [
      "Ranking on all columns based on SRMSE:\n",
      "   1. DATGAN_01       - 5.47e-02 ± 4.35e-02\n",
      "   2. ciDATGAN_01     - 5.64e-02 ± 4.54e-02\n",
      "   3. trips_small_biased - 6.39e-02 ± 6.83e-02\n",
      "   4. trips_biased    - 8.84e-02 ± 1.01e-01\n",
      "\n",
      "Ranking on continuous columns based on SRMSE:\n",
      "   1. trips_small_biased - 4.28e-02 ± 2.63e-02\n",
      "   2. trips_biased    - 5.14e-02 ± 9.66e-03\n",
      "   3. ciDATGAN_01     - 1.25e-01 ± 1.80e-02\n",
      "   4. DATGAN_01       - 1.26e-01 ± 5.14e-03\n",
      "\n",
      "Ranking on categorical columns based on SRMSE:\n",
      "   1. DATGAN_01       - 3.09e-02 ± 1.57e-02\n",
      "   2. ciDATGAN_01     - 3.33e-02 ± 2.27e-02\n",
      "   3. trips_small_biased - 7.10e-02 ± 7.60e-02\n",
      "   4. trips_biased    - 1.01e-01 ± 1.14e-01\n",
      "\n"
     ]
    }
   ],
   "source": [
    "for test in ['all', 'cont', 'cat']:\n",
    "\n",
    "    if test == 'all':\n",
    "        str_ = 'on all columns'\n",
    "    elif test == 'cont':\n",
    "        str_ = 'on continuous columns'\n",
    "    elif test == 'cat':\n",
    "        str_ = 'on categorical columns'\n",
    "\n",
    "    for s in ['srmse']:#stats:\n",
    "        print('Ranking {} based on {}:'.format(str_, s.upper()))\n",
    "\n",
    "        if s in ['r2', 'corr']:\n",
    "            sorted_dct = {k: v for k, v in sorted(avg[test][s].items(), key=lambda item: item[1]['mean'])[::-1]}\n",
    "        else:\n",
    "            sorted_dct = {k: v for k, v in sorted(avg[test][s].items(), key=lambda item: item[1]['mean'])}\n",
    "\n",
    "        for i, item in enumerate(sorted_dct):\n",
    "            print('  {:>2}. {:<15} - {:.2e} ± {:.2e}'.format(i+1, item, sorted_dct[item]['mean'], sorted_dct[item]['std']))\n",
    "        print()"
   ],
   "metadata": {
    "collapsed": false,
    "pycharm": {
     "name": "#%%\n"
    }
   }
  },
  {
   "cell_type": "markdown",
   "source": [
    "# Second level"
   ],
   "metadata": {
    "collapsed": false,
    "pycharm": {
     "name": "#%% md\n"
    }
   }
  },
  {
   "cell_type": "code",
   "execution_count": 15,
   "outputs": [
    {
     "name": "stdout",
     "output_type": "stream",
     "text": [
      "No previous results found, starting fresh\n"
     ]
    }
   ],
   "source": [
    "pickle_name = 'stats_second_level.pickle'\n",
    "aggregation_level = 2\n",
    "\n",
    "second_lvl_stats = {}\n",
    "\n",
    "try:\n",
    "    second_lvl_stats = pickle.load(open(results_path + pickle_name, 'rb'))\n",
    "    print('Found previous pickel file, using that')\n",
    "except:\n",
    "    print('No previous results found, starting fresh')"
   ],
   "metadata": {
    "collapsed": false,
    "pycharm": {
     "name": "#%%\n"
    }
   }
  },
  {
   "cell_type": "code",
   "execution_count": 16,
   "outputs": [
    {
     "name": "stdout",
     "output_type": "stream",
     "text": [
      "Preparing stats for file \u001B[1mDATGAN_01\u001B[0m (1/4)\n",
      "Preparing stats for file \u001B[1mciDATGAN_01\u001B[0m (2/4)\n",
      "Preparing stats for file \u001B[1mtrips_biased\u001B[0m (3/4)\n",
      "Preparing stats for file \u001B[1mtrips_small_biased\u001B[0m (4/4)\n",
      "\u001B[1mFINISHED!\u001B[0m\n"
     ]
    }
   ],
   "source": [
    "for i, f in enumerate(synth_files):\n",
    "\n",
    "    file_name = f.split('/')[-1].split('.')[0]\n",
    "\n",
    "    if file_name in second_lvl_stats:\n",
    "        print(\"Results for file \\033[1m{}\\033[0m ({}/{}) already exists!\".format(file_name, i+1, len(synth_files)))\n",
    "    else:\n",
    "        print(\"Preparing stats for file \\033[1m{}\\033[0m ({}/{})\".format(file_name, i+1, len(synth_files)))\n",
    "\n",
    "        second_lvl_stats[file_name] = {}\n",
    "\n",
    "        df_synth = pd.read_csv(f, index_col=False)\n",
    "        df_synth = df_synth.sample(len_df).reset_index(drop=True)\n",
    "\n",
    "        stats = stats_assessment(df_orig, df_synth, continuous_columns, aggregation_level, ignore_cols=cond_inputs)\n",
    "\n",
    "        second_lvl_stats[file_name] = stats\n",
    "\n",
    "    pickle.dump(second_lvl_stats, open(results_path + pickle_name, 'wb'))\n",
    "\n",
    "print(\"\\033[1mFINISHED!\\033[0m\")"
   ],
   "metadata": {
    "collapsed": false,
    "pycharm": {
     "name": "#%%\n"
    }
   }
  },
  {
   "cell_type": "code",
   "execution_count": 17,
   "outputs": [],
   "source": [
    "res = {}\n",
    "\n",
    "for s in stats_str:\n",
    "    res[s] = {}\n",
    "\n",
    "for m in second_lvl_stats.keys():\n",
    "\n",
    "    for s in stats_str:\n",
    "        res[s][m] = []\n",
    "\n",
    "        for c in second_lvl_stats[m].keys():\n",
    "            res[s][m].append(second_lvl_stats[m][c][s])"
   ],
   "metadata": {
    "collapsed": false,
    "pycharm": {
     "name": "#%%\n"
    }
   }
  },
  {
   "cell_type": "code",
   "execution_count": 18,
   "outputs": [],
   "source": [
    "avg = {}\n",
    "\n",
    "for s in stats_str:\n",
    "    avg[s] = {}\n",
    "\n",
    "    for m in first_lvl_stats.keys():\n",
    "        avg[s][m] = {\n",
    "            'mean': np.mean(res[s][m]),\n",
    "            'std': np.std(res[s][m])\n",
    "        }"
   ],
   "metadata": {
    "collapsed": false,
    "pycharm": {
     "name": "#%%\n"
    }
   }
  },
  {
   "cell_type": "code",
   "execution_count": 19,
   "outputs": [
    {
     "name": "stdout",
     "output_type": "stream",
     "text": [
      "Ranking based on SRMSE for aggregation level 2:\n",
      "   1. ciDATGAN_01     - 1.49e-01 ± 7.36e-02\n",
      "   2. trips_small_biased - 1.51e-01 ± 1.08e-01\n",
      "   3. DATGAN_01       - 1.64e-01 ± 7.11e-02\n",
      "   4. trips_biased    - 2.03e-01 ± 1.66e-01\n",
      "\n"
     ]
    }
   ],
   "source": [
    "for s in ['srmse']:#stats:\n",
    "    print('Ranking based on {} for aggregation level {}:'.format(s.upper(), aggregation_level))\n",
    "\n",
    "    if s in ['r2', 'corr']:\n",
    "        sorted_dct = {k: v for k, v in sorted(avg[s].items(), key=lambda item: item[1]['mean'])[::-1]}\n",
    "    else:\n",
    "        sorted_dct = {k: v for k, v in sorted(avg[s].items(), key=lambda item: item[1]['mean'])}\n",
    "\n",
    "    for i, item in enumerate(sorted_dct):\n",
    "        print('  {:>2}. {:<15} - {:.2e} ± {:.2e}'.format(i+1, item, sorted_dct[item]['mean'], sorted_dct[item]['std']))\n",
    "    print()"
   ],
   "metadata": {
    "collapsed": false,
    "pycharm": {
     "name": "#%%\n"
    }
   }
  },
  {
   "cell_type": "markdown",
   "source": [
    "# ML efficacy"
   ],
   "metadata": {
    "collapsed": false,
    "pycharm": {
     "name": "#%% md\n"
    }
   }
  },
  {
   "cell_type": "code",
   "execution_count": 85,
   "outputs": [],
   "source": [
    "def check_low_appearing_vars(df):\n",
    "\n",
    "    for c in df.columns:\n",
    "        val = df[c].value_counts()\n",
    "        if len(val) < 20:\n",
    "            val = val/len(df)\n",
    "            if any(val < 0.01) and c != 'choice':\n",
    "                print('Variable {}: '.format(c))\n",
    "                for idx, v in zip(val.index, val):\n",
    "                    if v < 0.01:\n",
    "                        print('  {} - {:.2f}% ({:d})'.format(idx, 100*v, int(v*len(df))))\n",
    "                print()\n",
    "\n",
    "def replace_low_appearing_values(df):\n",
    "\n",
    "    dct_ = {}\n",
    "    for i in df['hh_vehicles'].unique():\n",
    "        if i >= 3:\n",
    "            dct_[i] = '3+'\n",
    "        else:\n",
    "            dct_[i] = str(i)\n",
    "    df['hh_vehicles'].replace(dct_, inplace=True)\n",
    "\n",
    "    dct_ = {}\n",
    "    for i in df['hh_people'].unique():\n",
    "        if i >= 6:\n",
    "            dct_[i] = '6+'\n",
    "        else:\n",
    "            dct_[i] = str(i)\n",
    "    df['hh_people'].replace(dct_, inplace=True)"
   ],
   "metadata": {
    "collapsed": false,
    "pycharm": {
     "name": "#%%\n"
    }
   }
  },
  {
   "cell_type": "code",
   "execution_count": 86,
   "outputs": [
    {
     "name": "stdout",
     "output_type": "stream",
     "text": [
      "Variable hh_vehicles: \n",
      "  4 - 0.52% (88)\n",
      "  5 - 0.12% (21)\n",
      "  6 - 0.02% (3)\n",
      "  8 - 0.02% (3)\n",
      "  7 - 0.01% (2)\n",
      "\n",
      "Variable hh_people: \n",
      "  7 - 0.70% (118)\n",
      "  8 - 0.18% (31)\n",
      "  9 - 0.08% (13)\n",
      "  10 - 0.03% (5)\n",
      "  11 - 0.02% (3)\n",
      "\n"
     ]
    }
   ],
   "source": [
    "check_low_appearing_vars(df_orig)"
   ],
   "metadata": {
    "collapsed": false,
    "pycharm": {
     "name": "#%%\n"
    }
   }
  },
  {
   "cell_type": "code",
   "execution_count": 87,
   "outputs": [],
   "source": [
    "replace_low_appearing_values(df_orig)"
   ],
   "metadata": {
    "collapsed": false,
    "pycharm": {
     "name": "#%%\n"
    }
   }
  },
  {
   "cell_type": "code",
   "execution_count": 88,
   "outputs": [],
   "source": [
    "check_low_appearing_vars(df_orig)"
   ],
   "metadata": {
    "collapsed": false,
    "pycharm": {
     "name": "#%%\n"
    }
   }
  },
  {
   "cell_type": "code",
   "execution_count": 89,
   "outputs": [],
   "source": [
    "categorical_columns = list(set(df_orig.columns) - set(continuous_columns))"
   ],
   "metadata": {
    "collapsed": false,
    "pycharm": {
     "name": "#%%\n"
    }
   }
  },
  {
   "cell_type": "code",
   "execution_count": 90,
   "outputs": [],
   "source": [
    "enc = OrdinalEncoder()\n",
    "df_orig[categorical_columns] = enc.fit_transform(df_orig[categorical_columns])"
   ],
   "metadata": {
    "collapsed": false,
    "pycharm": {
     "name": "#%%\n"
    }
   }
  },
  {
   "cell_type": "code",
   "execution_count": null,
   "outputs": [],
   "source": [
    "pickle_name = 'ml_efficacy.pickle'\n",
    "\n",
    "cv_modelscores = {}\n",
    "\n",
    "try:\n",
    "    cv_modelscores = pickle.load(open(results_path + pickle_name, 'rb'))\n",
    "    print('Found previous pickel file, using that')\n",
    "except:\n",
    "    print('No previous results found, starting fresh')"
   ],
   "metadata": {
    "collapsed": false,
    "pycharm": {
     "name": "#%%\n"
    }
   }
  },
  {
   "cell_type": "code",
   "execution_count": null,
   "outputs": [],
   "source": [
    "for i, f in enumerate(synth_files):\n",
    "\n",
    "    file_name = f.split('/')[-1].split('.')[0]\n",
    "\n",
    "    if file_name in cv_modelscores:\n",
    "        print(\"Results for file \\033[1m{}\\033[0m ({}/{}) already exists!\".format(file_name, i+1, len(synth_files)))\n",
    "    else:\n",
    "        print(\"Preparing stats for file \\033[1m{}\\033[0m ({}/{})\".format(file_name, i+1, len(synth_files)))\n",
    "\n",
    "        cv_modelscores[file_name] = {}\n",
    "\n",
    "        # Load the synthetic dataset\n",
    "        df_synth = pd.read_csv(f, index_col=False)\n",
    "        df_synth = df_synth.sample(len_df).reset_index(drop=True)\n",
    "\n",
    "        # Replace the values rarely appearing\n",
    "        replace_low_appearing_values(df_synth)\n",
    "\n",
    "        # Encode the synthetic dataset\n",
    "        df_synth[categorical_columns] = enc.transform(df_synth[categorical_columns])\n",
    "\n",
    "        res = ml_assessment(df_orig, df_synth, continuous_columns, categorical_columns, ignore_cols=cond_inputs)\n",
    "\n",
    "        cv_modelscores[file_name] = res\n",
    "\n",
    "    pickle.dump(cv_modelscores, open(results_path + pickle_name, 'wb'))\n",
    "\n",
    "print(\"\\033[1mFINISHED!\\033[0m\")"
   ],
   "metadata": {
    "collapsed": false,
    "pycharm": {
     "name": "#%%\n"
    }
   }
  },
  {
   "cell_type": "code",
   "execution_count": 93,
   "outputs": [
    {
     "name": "stdout",
     "output_type": "stream",
     "text": [
      "Preparing stats for file \u001B[1moriginal\u001B[0m\n",
      "    Column: dur_driving (2/18)     -- Fold 1/5"
     ]
    },
    {
     "name": "stderr",
     "output_type": "stream",
     "text": [
      "C:\\Users\\glede\\AppData\\Roaming\\Python\\Python39\\site-packages\\sklearn\\model_selection\\_split.py:676: UserWarning: The least populated class in y has only 1 members, which is less than n_splits=5.\n",
      "  warnings.warn(\n",
      "C:\\Users\\glede\\AppData\\Roaming\\Python\\Python39\\site-packages\\sklearn\\model_selection\\_split.py:676: UserWarning: The least populated class in y has only 1 members, which is less than n_splits=5.\n",
      "  warnings.warn(\n"
     ]
    },
    {
     "name": "stdout",
     "output_type": "stream",
     "text": [
      "  -- Fold 3/5"
     ]
    },
    {
     "name": "stderr",
     "output_type": "stream",
     "text": [
      "C:\\Users\\glede\\AppData\\Roaming\\Python\\Python39\\site-packages\\sklearn\\model_selection\\_split.py:676: UserWarning: The least populated class in y has only 1 members, which is less than n_splits=5.\n",
      "  warnings.warn(\n",
      "C:\\Users\\glede\\AppData\\Roaming\\Python\\Python39\\site-packages\\sklearn\\model_selection\\_split.py:676: UserWarning: The least populated class in y has only 1 members, which is less than n_splits=5.\n",
      "  warnings.warn(\n"
     ]
    },
    {
     "name": "stdout",
     "output_type": "stream",
     "text": [
      " -- Fold 4/5"
     ]
    },
    {
     "name": "stderr",
     "output_type": "stream",
     "text": [
      "C:\\Users\\glede\\AppData\\Roaming\\Python\\Python39\\site-packages\\sklearn\\model_selection\\_split.py:676: UserWarning: The least populated class in y has only 1 members, which is less than n_splits=5.\n",
      "  warnings.warn(\n"
     ]
    },
    {
     "name": "stdout",
     "output_type": "stream",
     "text": [
      " \r"
     ]
    },
    {
     "name": "stderr",
     "output_type": "stream",
     "text": [
      "\n",
      "KeyboardInterrupt\n",
      "\n"
     ]
    }
   ],
   "source": [
    "if 'original' in cv_modelscores:\n",
    "    print(\"Results for file \\033[1m{}\\033[0m already exists!\".format('original'))\n",
    "else:\n",
    "    print(\"Preparing stats for file \\033[1m{}\\033[0m\".format('original'))\n",
    "\n",
    "    res = ml_assessment(df_orig, df_orig, continuous_columns, categorical_columns)\n",
    "    cv_modelscores['original'] = res\n",
    "    pickle.dump(cv_modelscores, open(results_path + pickle_name, 'wb'))\n",
    "    print(\"\\033[1mFINISHED!\\033[0m\")"
   ],
   "metadata": {
    "collapsed": false,
    "pycharm": {
     "name": "#%%\n"
    }
   }
  },
  {
   "cell_type": "code",
   "execution_count": 70,
   "outputs": [],
   "source": [
    "cont_sorted, cat_sorted = transform_results(cv_modelscores, continuous_columns, categorical_columns, ignore_cols=cond_inputs)"
   ],
   "metadata": {
    "collapsed": false,
    "pycharm": {
     "name": "#%%\n"
    }
   }
  },
  {
   "cell_type": "code",
   "execution_count": 71,
   "outputs": [
    {
     "name": "stdout",
     "output_type": "stream",
     "text": [
      "   | categorical                    | continuous                    \n",
      "-----------------------------------------------------------\n",
      " 1 | original    : -1.461           | trips_biased: 4.870           \n",
      " 2 | trips_biased: -0.322           | original    : 5.277           \n",
      " 3 | ciDATGAN_01 : 1.250            | DATGAN_01   : 12.906          \n",
      " 4 | DATGAN_01   : 1.474            | ciDATGAN_01 : 17.522          \n"
     ]
    }
   ],
   "source": [
    "i=1\n",
    "print('   | {:<30} | {:<30}'.format('categorical', 'continuous'))\n",
    "print('-----------------------------------------------------------')\n",
    "for a, b in zip(cat_sorted, cont_sorted):\n",
    "    print('{:>2} | {:<30} | {:<30}'.format(i, '{:<12}: {:.3f}'.format(a[0], a[1]), '{:<12}: {:.3f}'.format(b[0], b[1])))\n",
    "    i+=1"
   ],
   "metadata": {
    "collapsed": false,
    "pycharm": {
     "name": "#%%\n"
    }
   }
  }
 ],
 "metadata": {
  "kernelspec": {
   "name": "dev",
   "language": "python",
   "display_name": "dev"
  },
  "language_info": {
   "codemirror_mode": {
    "name": "ipython",
    "version": 2
   },
   "file_extension": ".py",
   "mimetype": "text/x-python",
   "name": "python",
   "nbconvert_exporter": "python",
   "pygments_lexer": "ipython2",
   "version": "2.7.6"
  }
 },
 "nbformat": 4,
 "nbformat_minor": 0
}