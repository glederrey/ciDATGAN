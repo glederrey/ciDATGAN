{
 "cells": [
  {
   "cell_type": "code",
   "execution_count": 1,
   "metadata": {
    "collapsed": true
   },
   "outputs": [],
   "source": [
    "import os\n",
    "import pickle\n",
    "import numpy as np\n",
    "import pandas as pd\n",
    "import networkx as nx\n",
    "import datgan\n",
    "\n",
    "from sklearn.preprocessing import OrdinalEncoder\n",
    "\n",
    "from datgan import stats_assessment\n",
    "from datgan import ml_assessment, transform_results\n",
    "\n",
    "# For the Python notebook\n",
    "%matplotlib inline\n",
    "%reload_ext autoreload\n",
    "%autoreload 2"
   ]
  },
  {
   "cell_type": "code",
   "execution_count": 2,
   "outputs": [],
   "source": [
    "df_orig = pd.read_csv('../../data/LPMC/trips_regions.csv', index_col=False)\n",
    "\n",
    "continuous_columns = ['start_time_linear', 'age', 'distance', 'dur_walking', 'dur_cycling', 'dur_pt','dur_driving', 'driving_traffic_percent']\n",
    "\n",
    "cond_inputs = [\"age\", \"female\", \"hh_regions\"]\n",
    "\n",
    "synth_files = []\n",
    "\n",
    "for i in range(5):\n",
    "    synth_files.append('../../data/synthetic/regions/test/DATGAN_{:02d}.csv'.format(i+1))\n",
    "\n",
    "    synth_files.append('../../data/synthetic/regions/test/ciDATGAN_{:02d}.csv'.format(i+1))\n",
    "\n",
    "    synth_files.append('../../data/synthetic/regions/test/ciDATGAN_ALL_{:02d}.csv'.format(i+1))\n",
    "\n",
    "\n",
    "len_df = len(df_orig)"
   ],
   "metadata": {
    "collapsed": false,
    "pycharm": {
     "name": "#%%\n"
    }
   }
  },
  {
   "cell_type": "code",
   "execution_count": 3,
   "outputs": [],
   "source": [
    "results_path = './results/'\n",
    "\n",
    "if not os.path.exists(results_path):\n",
    "    os.makedirs(results_path)"
   ],
   "metadata": {
    "collapsed": false,
    "pycharm": {
     "name": "#%%\n"
    }
   }
  },
  {
   "cell_type": "code",
   "execution_count": 4,
   "outputs": [],
   "source": [
    "stats_str = ['mae', 'rmse', 'r2', 'srmse', 'corr']"
   ],
   "metadata": {
    "collapsed": false,
    "pycharm": {
     "name": "#%%\n"
    }
   }
  },
  {
   "cell_type": "markdown",
   "source": [
    "# First level"
   ],
   "metadata": {
    "collapsed": false,
    "pycharm": {
     "name": "#%% md\n"
    }
   }
  },
  {
   "cell_type": "code",
   "execution_count": 5,
   "outputs": [
    {
     "name": "stdout",
     "output_type": "stream",
     "text": [
      "Found previous pickle file, using that\n"
     ]
    }
   ],
   "source": [
    "pickle_name = 'stats_first_level.pickle'\n",
    "aggregation_level = 1\n",
    "\n",
    "first_lvl_stats = {}\n",
    "\n",
    "try:\n",
    "    first_lvl_stats = pickle.load(open(results_path + pickle_name, 'rb'))\n",
    "    print('Found previous pickle file, using that')\n",
    "except:\n",
    "    print('No previous results found, starting fresh')"
   ],
   "metadata": {
    "collapsed": false,
    "pycharm": {
     "name": "#%%\n"
    }
   }
  },
  {
   "cell_type": "code",
   "execution_count": 6,
   "outputs": [
    {
     "name": "stdout",
     "output_type": "stream",
     "text": [
      "Results for file \u001B[1mDATGAN_01\u001B[0m (1/20) already exists!\n",
      "Results for file \u001B[1mciDATGAN_01\u001B[0m (2/20) already exists!\n",
      "Results for file \u001B[1mciDATGAN_ALL_01\u001B[0m (3/20) already exists!\n",
      "Preparing stats for file \u001B[1mciDATGAN_ALL2_01\u001B[0m (4/20)\n",
      "Results for file \u001B[1mDATGAN_02\u001B[0m (5/20) already exists!\n",
      "Results for file \u001B[1mciDATGAN_02\u001B[0m (6/20) already exists!\n",
      "Results for file \u001B[1mciDATGAN_ALL_02\u001B[0m (7/20) already exists!\n",
      "Preparing stats for file \u001B[1mciDATGAN_ALL2_02\u001B[0m (8/20)\n",
      "Results for file \u001B[1mDATGAN_03\u001B[0m (9/20) already exists!\n",
      "Results for file \u001B[1mciDATGAN_03\u001B[0m (10/20) already exists!\n",
      "Results for file \u001B[1mciDATGAN_ALL_03\u001B[0m (11/20) already exists!\n",
      "Preparing stats for file \u001B[1mciDATGAN_ALL2_03\u001B[0m (12/20)\n",
      "Results for file \u001B[1mDATGAN_04\u001B[0m (13/20) already exists!\n",
      "Results for file \u001B[1mciDATGAN_04\u001B[0m (14/20) already exists!\n",
      "Results for file \u001B[1mciDATGAN_ALL_04\u001B[0m (15/20) already exists!\n",
      "Preparing stats for file \u001B[1mciDATGAN_ALL2_04\u001B[0m (16/20)\n",
      "Results for file \u001B[1mDATGAN_05\u001B[0m (17/20) already exists!\n",
      "Results for file \u001B[1mciDATGAN_05\u001B[0m (18/20) already exists!\n",
      "Results for file \u001B[1mciDATGAN_ALL_05\u001B[0m (19/20) already exists!\n",
      "Preparing stats for file \u001B[1mciDATGAN_ALL2_05\u001B[0m (20/20)\n",
      "\u001B[1mFINISHED!\u001B[0m\n"
     ]
    }
   ],
   "source": [
    "for i, f in enumerate(synth_files):\n",
    "\n",
    "    file_name = f.split('/')[-1].split('.')[0]\n",
    "\n",
    "    if file_name in first_lvl_stats:\n",
    "        print(\"Results for file \\033[1m{}\\033[0m ({}/{}) already exists!\".format(file_name, i+1, len(synth_files)))\n",
    "    else:\n",
    "        print(\"Preparing stats for file \\033[1m{}\\033[0m ({}/{})\".format(file_name, i+1, len(synth_files)))\n",
    "\n",
    "        first_lvl_stats[file_name] = {}\n",
    "\n",
    "        df_synth = pd.read_csv(f, index_col=False)\n",
    "        df_synth = df_synth.sample(len_df).reset_index(drop=True)\n",
    "\n",
    "        stats = stats_assessment(df_orig, df_synth, continuous_columns, aggregation_level, ignore_cols=cond_inputs)\n",
    "\n",
    "        first_lvl_stats[file_name] = stats\n",
    "\n",
    "    pickle.dump(first_lvl_stats, open(results_path + pickle_name, 'wb'))\n",
    "\n",
    "print(\"\\033[1mFINISHED!\\033[0m\")"
   ],
   "metadata": {
    "collapsed": false,
    "pycharm": {
     "name": "#%%\n"
    }
   }
  },
  {
   "cell_type": "code",
   "execution_count": 7,
   "outputs": [],
   "source": [
    "res = {}\n",
    "\n",
    "for test in ['all', 'cont', 'cat']:\n",
    "\n",
    "    res[test] = {}\n",
    "\n",
    "    if test == 'all':\n",
    "        cols = df_orig.columns\n",
    "    elif test == 'cont':\n",
    "        cols = continuous_columns\n",
    "    elif test == 'cat':\n",
    "        cols = set(df_orig.columns) - set(continuous_columns)\n",
    "\n",
    "    cols = set(cols) - set(cond_inputs)\n",
    "\n",
    "    for s in stats_str:\n",
    "        res[test][s] = {}\n",
    "\n",
    "    for m in first_lvl_stats.keys():\n",
    "        for s in stats_str:\n",
    "            res[test][s][m] = []\n",
    "\n",
    "            for c in cols:\n",
    "                res[test][s][m].append(first_lvl_stats[m][c][s])"
   ],
   "metadata": {
    "collapsed": false,
    "pycharm": {
     "name": "#%%\n"
    }
   }
  },
  {
   "cell_type": "code",
   "execution_count": 8,
   "outputs": [],
   "source": [
    "avg = {}\n",
    "\n",
    "for test in ['all', 'cont', 'cat']:\n",
    "\n",
    "    avg[test] = {}\n",
    "\n",
    "    for s in stats_str:\n",
    "        avg[test][s] = {}\n",
    "\n",
    "        for m in first_lvl_stats.keys():\n",
    "            avg[test][s][m] = {\n",
    "                'mean': np.mean(res[test][s][m]),\n",
    "                'std': np.std(res[test][s][m])\n",
    "            }"
   ],
   "metadata": {
    "collapsed": false,
    "pycharm": {
     "name": "#%%\n"
    }
   }
  },
  {
   "cell_type": "code",
   "execution_count": 9,
   "outputs": [
    {
     "name": "stdout",
     "output_type": "stream",
     "text": [
      "Ranking on all columns based on SRMSE:\n",
      "   1. ciDATGAN_01     - 6.06e-02 ± 3.96e-02\n",
      "   2. ciDATGAN_05     - 6.08e-02 ± 3.90e-02\n",
      "   3. ciDATGAN_04     - 6.28e-02 ± 4.16e-02\n",
      "   4. DATGAN_04       - 6.32e-02 ± 4.18e-02\n",
      "   5. DATGAN_03       - 6.32e-02 ± 4.53e-02\n",
      "   6. ciDATGAN_02     - 6.34e-02 ± 4.30e-02\n",
      "   7. DATGAN_01       - 6.36e-02 ± 4.50e-02\n",
      "   8. DATGAN_05       - 6.47e-02 ± 4.47e-02\n",
      "   9. ciDATGAN_03     - 6.58e-02 ± 4.11e-02\n",
      "  10. DATGAN_02       - 6.83e-02 ± 4.86e-02\n",
      "  11. ciDATGAN_ALL2_05 - 7.48e-02 ± 8.29e-02\n",
      "  12. ciDATGAN_ALL2_03 - 7.50e-02 ± 8.44e-02\n",
      "  13. ciDATGAN_ALL2_02 - 7.53e-02 ± 7.97e-02\n",
      "  14. ciDATGAN_ALL2_04 - 7.61e-02 ± 8.69e-02\n",
      "  15. ciDATGAN_ALL2_01 - 7.94e-02 ± 8.39e-02\n",
      "  16. ciDATGAN_ALL_03 - 9.54e-02 ± 9.70e-02\n",
      "  17. ciDATGAN_ALL_02 - 9.54e-02 ± 9.61e-02\n",
      "  18. ciDATGAN_ALL_05 - 9.70e-02 ± 9.74e-02\n",
      "  19. ciDATGAN_ALL_01 - 9.70e-02 ± 9.73e-02\n",
      "  20. ciDATGAN_ALL_04 - 9.87e-02 ± 9.96e-02\n",
      "\n",
      "Ranking on continuous columns based on SRMSE:\n",
      "   1. ciDATGAN_01     - 9.46e-02 ± 2.91e-02\n",
      "   2. ciDATGAN_05     - 9.46e-02 ± 2.97e-02\n",
      "   3. ciDATGAN_04     - 1.00e-01 ± 2.89e-02\n",
      "   4. ciDATGAN_03     - 1.02e-01 ± 2.77e-02\n",
      "   5. ciDATGAN_02     - 1.04e-01 ± 2.68e-02\n",
      "   6. DATGAN_04       - 1.06e-01 ± 2.55e-02\n",
      "   7. DATGAN_03       - 1.10e-01 ± 2.57e-02\n",
      "   8. DATGAN_01       - 1.10e-01 ± 2.63e-02\n",
      "   9. DATGAN_05       - 1.13e-01 ± 1.80e-02\n",
      "  10. DATGAN_02       - 1.19e-01 ± 2.94e-02\n",
      "  11. ciDATGAN_ALL2_05 - 1.26e-01 ± 1.04e-01\n",
      "  12. ciDATGAN_ALL2_02 - 1.27e-01 ± 9.81e-02\n",
      "  13. ciDATGAN_ALL2_04 - 1.29e-01 ± 1.10e-01\n",
      "  14. ciDATGAN_ALL2_03 - 1.31e-01 ± 1.03e-01\n",
      "  15. ciDATGAN_ALL2_01 - 1.34e-01 ± 1.03e-01\n",
      "  16. ciDATGAN_ALL_02 - 1.67e-01 ± 1.06e-01\n",
      "  17. ciDATGAN_ALL_03 - 1.67e-01 ± 1.08e-01\n",
      "  18. ciDATGAN_ALL_05 - 1.68e-01 ± 1.08e-01\n",
      "  19. ciDATGAN_ALL_01 - 1.70e-01 ± 1.07e-01\n",
      "  20. ciDATGAN_ALL_04 - 1.75e-01 ± 1.07e-01\n",
      "\n",
      "Ranking on categorical columns based on SRMSE:\n",
      "   1. DATGAN_03       - 2.66e-02 ± 8.91e-03\n",
      "   2. DATGAN_05       - 2.69e-02 ± 5.85e-03\n",
      "   3. DATGAN_01       - 2.74e-02 ± 7.02e-03\n",
      "   4. DATGAN_02       - 2.92e-02 ± 6.55e-03\n",
      "   5. DATGAN_04       - 3.00e-02 ± 8.91e-03\n",
      "   6. ciDATGAN_ALL2_03 - 3.17e-02 ± 1.27e-02\n",
      "   7. ciDATGAN_02     - 3.20e-02 ± 2.17e-02\n",
      "   8. ciDATGAN_04     - 3.36e-02 ± 2.19e-02\n",
      "   9. ciDATGAN_01     - 3.42e-02 ± 2.32e-02\n",
      "  10. ciDATGAN_05     - 3.46e-02 ± 2.11e-02\n",
      "  11. ciDATGAN_ALL2_04 - 3.48e-02 ± 1.16e-02\n",
      "  12. ciDATGAN_ALL2_05 - 3.51e-02 ± 1.66e-02\n",
      "  13. ciDATGAN_ALL2_02 - 3.54e-02 ± 1.35e-02\n",
      "  14. ciDATGAN_ALL2_01 - 3.70e-02 ± 1.21e-02\n",
      "  15. ciDATGAN_03     - 3.78e-02 ± 2.46e-02\n",
      "  16. ciDATGAN_ALL_04 - 3.90e-02 ± 2.59e-02\n",
      "  17. ciDATGAN_ALL_03 - 3.93e-02 ± 2.28e-02\n",
      "  18. ciDATGAN_ALL_02 - 3.94e-02 ± 2.26e-02\n",
      "  19. ciDATGAN_ALL_01 - 4.04e-02 ± 2.54e-02\n",
      "  20. ciDATGAN_ALL_05 - 4.15e-02 ± 2.57e-02\n",
      "\n"
     ]
    }
   ],
   "source": [
    "for test in ['all', 'cont', 'cat']:\n",
    "\n",
    "    if test == 'all':\n",
    "        str_ = 'on all columns'\n",
    "    elif test == 'cont':\n",
    "        str_ = 'on continuous columns'\n",
    "    elif test == 'cat':\n",
    "        str_ = 'on categorical columns'\n",
    "\n",
    "    for s in ['srmse']:#stats:\n",
    "        print('Ranking {} based on {}:'.format(str_, s.upper()))\n",
    "\n",
    "        if s in ['r2', 'corr']:\n",
    "            sorted_dct = {k: v for k, v in sorted(avg[test][s].items(), key=lambda item: item[1]['mean'])[::-1]}\n",
    "        else:\n",
    "            sorted_dct = {k: v for k, v in sorted(avg[test][s].items(), key=lambda item: item[1]['mean'])}\n",
    "\n",
    "        for i, item in enumerate(sorted_dct):\n",
    "            print('  {:>2}. {:<15} - {:.2e} ± {:.2e}'.format(i+1, item, sorted_dct[item]['mean'], sorted_dct[item]['std']))\n",
    "        print()"
   ],
   "metadata": {
    "collapsed": false,
    "pycharm": {
     "name": "#%%\n"
    }
   }
  },
  {
   "cell_type": "markdown",
   "source": [
    "# Second level"
   ],
   "metadata": {
    "collapsed": false,
    "pycharm": {
     "name": "#%% md\n"
    }
   }
  },
  {
   "cell_type": "code",
   "execution_count": 10,
   "outputs": [
    {
     "name": "stdout",
     "output_type": "stream",
     "text": [
      "Found previous pickel file, using that\n"
     ]
    }
   ],
   "source": [
    "pickle_name = 'stats_second_level.pickle'\n",
    "aggregation_level = 2\n",
    "\n",
    "second_lvl_stats = {}\n",
    "\n",
    "try:\n",
    "    second_lvl_stats = pickle.load(open(results_path + pickle_name, 'rb'))\n",
    "    print('Found previous pickel file, using that')\n",
    "except:\n",
    "    print('No previous results found, starting fresh')"
   ],
   "metadata": {
    "collapsed": false,
    "pycharm": {
     "name": "#%%\n"
    }
   }
  },
  {
   "cell_type": "code",
   "execution_count": 11,
   "outputs": [
    {
     "name": "stdout",
     "output_type": "stream",
     "text": [
      "Results for file \u001B[1mDATGAN_01\u001B[0m (1/20) already exists!\n",
      "Results for file \u001B[1mciDATGAN_01\u001B[0m (2/20) already exists!\n",
      "Results for file \u001B[1mciDATGAN_ALL_01\u001B[0m (3/20) already exists!\n",
      "Preparing stats for file \u001B[1mciDATGAN_ALL2_01\u001B[0m (4/20)\n",
      "Results for file \u001B[1mDATGAN_02\u001B[0m (5/20) already exists!\n",
      "Results for file \u001B[1mciDATGAN_02\u001B[0m (6/20) already exists!\n",
      "Results for file \u001B[1mciDATGAN_ALL_02\u001B[0m (7/20) already exists!\n",
      "Preparing stats for file \u001B[1mciDATGAN_ALL2_02\u001B[0m (8/20)\n",
      "Results for file \u001B[1mDATGAN_03\u001B[0m (9/20) already exists!\n",
      "Results for file \u001B[1mciDATGAN_03\u001B[0m (10/20) already exists!\n",
      "Results for file \u001B[1mciDATGAN_ALL_03\u001B[0m (11/20) already exists!\n",
      "Preparing stats for file \u001B[1mciDATGAN_ALL2_03\u001B[0m (12/20)\n",
      "Results for file \u001B[1mDATGAN_04\u001B[0m (13/20) already exists!\n",
      "Results for file \u001B[1mciDATGAN_04\u001B[0m (14/20) already exists!\n",
      "Results for file \u001B[1mciDATGAN_ALL_04\u001B[0m (15/20) already exists!\n",
      "Preparing stats for file \u001B[1mciDATGAN_ALL2_04\u001B[0m (16/20)\n",
      "Results for file \u001B[1mDATGAN_05\u001B[0m (17/20) already exists!\n",
      "Results for file \u001B[1mciDATGAN_05\u001B[0m (18/20) already exists!\n",
      "Results for file \u001B[1mciDATGAN_ALL_05\u001B[0m (19/20) already exists!\n",
      "Preparing stats for file \u001B[1mciDATGAN_ALL2_05\u001B[0m (20/20)\n",
      "\u001B[1mFINISHED!\u001B[0m\n"
     ]
    }
   ],
   "source": [
    "for i, f in enumerate(synth_files):\n",
    "\n",
    "    file_name = f.split('/')[-1].split('.')[0]\n",
    "\n",
    "    if file_name in second_lvl_stats:\n",
    "        print(\"Results for file \\033[1m{}\\033[0m ({}/{}) already exists!\".format(file_name, i+1, len(synth_files)))\n",
    "    else:\n",
    "        print(\"Preparing stats for file \\033[1m{}\\033[0m ({}/{})\".format(file_name, i+1, len(synth_files)))\n",
    "\n",
    "        second_lvl_stats[file_name] = {}\n",
    "\n",
    "        df_synth = pd.read_csv(f, index_col=False)\n",
    "        df_synth = df_synth.sample(len_df).reset_index(drop=True)\n",
    "\n",
    "        stats = stats_assessment(df_orig, df_synth, continuous_columns, aggregation_level, ignore_cols=cond_inputs)\n",
    "\n",
    "        second_lvl_stats[file_name] = stats\n",
    "\n",
    "    pickle.dump(second_lvl_stats, open(results_path + pickle_name, 'wb'))\n",
    "\n",
    "print(\"\\033[1mFINISHED!\\033[0m\")"
   ],
   "metadata": {
    "collapsed": false,
    "pycharm": {
     "name": "#%%\n"
    }
   }
  },
  {
   "cell_type": "code",
   "execution_count": 12,
   "outputs": [],
   "source": [
    "res = {}\n",
    "\n",
    "for s in stats_str:\n",
    "    res[s] = {}\n",
    "\n",
    "for m in second_lvl_stats.keys():\n",
    "\n",
    "    for s in stats_str:\n",
    "        res[s][m] = []\n",
    "\n",
    "        for c in second_lvl_stats[m].keys():\n",
    "            res[s][m].append(second_lvl_stats[m][c][s])"
   ],
   "metadata": {
    "collapsed": false,
    "pycharm": {
     "name": "#%%\n"
    }
   }
  },
  {
   "cell_type": "code",
   "execution_count": 13,
   "outputs": [],
   "source": [
    "avg = {}\n",
    "\n",
    "for s in stats_str:\n",
    "    avg[s] = {}\n",
    "\n",
    "    for m in first_lvl_stats.keys():\n",
    "        avg[s][m] = {\n",
    "            'mean': np.mean(res[s][m]),\n",
    "            'std': np.std(res[s][m])\n",
    "        }"
   ],
   "metadata": {
    "collapsed": false,
    "pycharm": {
     "name": "#%%\n"
    }
   }
  },
  {
   "cell_type": "code",
   "execution_count": 14,
   "outputs": [
    {
     "name": "stdout",
     "output_type": "stream",
     "text": [
      "Ranking based on SRMSE for aggregation level 2:\n",
      "   1. ciDATGAN_05     - 1.53e-01 ± 6.62e-02\n",
      "   2. ciDATGAN_01     - 1.53e-01 ± 6.45e-02\n",
      "   3. ciDATGAN_04     - 1.56e-01 ± 6.55e-02\n",
      "   4. ciDATGAN_02     - 1.58e-01 ± 6.67e-02\n",
      "   5. ciDATGAN_03     - 1.60e-01 ± 6.52e-02\n",
      "   6. DATGAN_04       - 1.70e-01 ± 6.54e-02\n",
      "   7. DATGAN_01       - 1.73e-01 ± 6.97e-02\n",
      "   8. DATGAN_05       - 1.76e-01 ± 6.57e-02\n",
      "   9. DATGAN_03       - 1.76e-01 ± 7.15e-02\n",
      "  10. DATGAN_02       - 1.81e-01 ± 7.28e-02\n",
      "  11. ciDATGAN_ALL2_02 - 2.08e-01 ± 1.29e-01\n",
      "  12. ciDATGAN_ALL2_03 - 2.10e-01 ± 1.38e-01\n",
      "  13. ciDATGAN_ALL2_05 - 2.10e-01 ± 1.35e-01\n",
      "  14. ciDATGAN_ALL2_04 - 2.10e-01 ± 1.41e-01\n",
      "  15. ciDATGAN_ALL2_01 - 2.16e-01 ± 1.37e-01\n",
      "  16. ciDATGAN_ALL_03 - 2.25e-01 ± 1.76e-01\n",
      "  17. ciDATGAN_ALL_02 - 2.27e-01 ± 1.73e-01\n",
      "  18. ciDATGAN_ALL_05 - 2.30e-01 ± 1.75e-01\n",
      "  19. ciDATGAN_ALL_01 - 2.31e-01 ± 1.74e-01\n",
      "  20. ciDATGAN_ALL_04 - 2.33e-01 ± 1.79e-01\n",
      "\n"
     ]
    }
   ],
   "source": [
    "for s in ['srmse']:#stats:\n",
    "    print('Ranking based on {} for aggregation level {}:'.format(s.upper(), aggregation_level))\n",
    "\n",
    "    if s in ['r2', 'corr']:\n",
    "        sorted_dct = {k: v for k, v in sorted(avg[s].items(), key=lambda item: item[1]['mean'])[::-1]}\n",
    "    else:\n",
    "        sorted_dct = {k: v for k, v in sorted(avg[s].items(), key=lambda item: item[1]['mean'])}\n",
    "\n",
    "    for i, item in enumerate(sorted_dct):\n",
    "        print('  {:>2}. {:<15} - {:.2e} ± {:.2e}'.format(i+1, item, sorted_dct[item]['mean'], sorted_dct[item]['std']))\n",
    "    print()"
   ],
   "metadata": {
    "collapsed": false,
    "pycharm": {
     "name": "#%%\n"
    }
   }
  },
  {
   "cell_type": "markdown",
   "source": [
    "# ML efficacy"
   ],
   "metadata": {
    "collapsed": false,
    "pycharm": {
     "name": "#%% md\n"
    }
   }
  },
  {
   "cell_type": "code",
   "execution_count": 15,
   "outputs": [],
   "source": [
    "def check_low_appearing_vars(df):\n",
    "\n",
    "    for c in df.columns:\n",
    "        val = df[c].value_counts()\n",
    "        if len(val) < 20:\n",
    "            val = val/len(df)\n",
    "            if any(val < 0.01) and c != 'choice':\n",
    "                print('Variable {}: '.format(c))\n",
    "                for idx, v in zip(val.index, val):\n",
    "                    if v < 0.01:\n",
    "                        print('  {} - {:.2f}% ({:d})'.format(idx, 100*v, int(v*len(df))))\n",
    "                print()\n",
    "\n",
    "def replace_low_appearing_values(df):\n",
    "\n",
    "    dct_ = {}\n",
    "    for i in df['hh_vehicles'].unique():\n",
    "        if i >= 3:\n",
    "            dct_[i] = '3+'\n",
    "        else:\n",
    "            dct_[i] = str(i)\n",
    "    df['hh_vehicles'].replace(dct_, inplace=True)\n",
    "\n",
    "    dct_ = {}\n",
    "    for i in df['hh_people'].unique():\n",
    "        if i >= 6:\n",
    "            dct_[i] = '6+'\n",
    "        else:\n",
    "            dct_[i] = str(i)\n",
    "    df['hh_people'].replace(dct_, inplace=True)"
   ],
   "metadata": {
    "collapsed": false,
    "pycharm": {
     "name": "#%%\n"
    }
   }
  },
  {
   "cell_type": "code",
   "execution_count": 16,
   "outputs": [
    {
     "name": "stdout",
     "output_type": "stream",
     "text": [
      "Variable hh_vehicles: \n",
      "  4 - 0.52% (88)\n",
      "  5 - 0.12% (21)\n",
      "  6 - 0.02% (3)\n",
      "  8 - 0.02% (3)\n",
      "  7 - 0.01% (2)\n",
      "\n",
      "Variable hh_people: \n",
      "  7 - 0.70% (118)\n",
      "  8 - 0.18% (31)\n",
      "  9 - 0.08% (13)\n",
      "  10 - 0.03% (5)\n",
      "  11 - 0.02% (3)\n",
      "\n"
     ]
    }
   ],
   "source": [
    "check_low_appearing_vars(df_orig)"
   ],
   "metadata": {
    "collapsed": false,
    "pycharm": {
     "name": "#%%\n"
    }
   }
  },
  {
   "cell_type": "code",
   "execution_count": 17,
   "outputs": [],
   "source": [
    "replace_low_appearing_values(df_orig)"
   ],
   "metadata": {
    "collapsed": false,
    "pycharm": {
     "name": "#%%\n"
    }
   }
  },
  {
   "cell_type": "code",
   "execution_count": 18,
   "outputs": [],
   "source": [
    "check_low_appearing_vars(df_orig)"
   ],
   "metadata": {
    "collapsed": false,
    "pycharm": {
     "name": "#%%\n"
    }
   }
  },
  {
   "cell_type": "code",
   "execution_count": 19,
   "outputs": [],
   "source": [
    "categorical_columns = list(set(df_orig.columns) - set(continuous_columns))"
   ],
   "metadata": {
    "collapsed": false,
    "pycharm": {
     "name": "#%%\n"
    }
   }
  },
  {
   "cell_type": "code",
   "execution_count": 20,
   "outputs": [],
   "source": [
    "enc = OrdinalEncoder()\n",
    "df_orig[categorical_columns] = enc.fit_transform(df_orig[categorical_columns])"
   ],
   "metadata": {
    "collapsed": false,
    "pycharm": {
     "name": "#%%\n"
    }
   }
  },
  {
   "cell_type": "code",
   "execution_count": 21,
   "outputs": [
    {
     "name": "stdout",
     "output_type": "stream",
     "text": [
      "Found previous pickel file, using that\n"
     ]
    }
   ],
   "source": [
    "pickle_name = 'ml_efficacy.pickle'\n",
    "\n",
    "cv_modelscores = {}\n",
    "\n",
    "try:\n",
    "    cv_modelscores = pickle.load(open(results_path + pickle_name, 'rb'))\n",
    "    print('Found previous pickel file, using that')\n",
    "except:\n",
    "    print('No previous results found, starting fresh')"
   ],
   "metadata": {
    "collapsed": false,
    "pycharm": {
     "name": "#%%\n"
    }
   }
  },
  {
   "cell_type": "code",
   "execution_count": 22,
   "outputs": [
    {
     "name": "stdout",
     "output_type": "stream",
     "text": [
      "Results for file \u001B[1mDATGAN_01\u001B[0m (1/20) already exists!\n",
      "Results for file \u001B[1mciDATGAN_01\u001B[0m (2/20) already exists!\n",
      "Preparing stats for file \u001B[1mciDATGAN_ALL_01\u001B[0m (3/20)\n",
      "Preparing stats for file \u001B[1mciDATGAN_ALL2_01\u001B[0m (4/20)\n",
      "Results for file \u001B[1mDATGAN_02\u001B[0m (5/20) already exists!\n",
      "Results for file \u001B[1mciDATGAN_02\u001B[0m (6/20) already exists!\n",
      "Preparing stats for file \u001B[1mciDATGAN_ALL_02\u001B[0m (7/20)\n",
      "Preparing stats for file \u001B[1mciDATGAN_ALL2_02\u001B[0m (8/20)\n",
      "Results for file \u001B[1mDATGAN_03\u001B[0m (9/20) already exists!\n",
      "Results for file \u001B[1mciDATGAN_03\u001B[0m (10/20) already exists!\n",
      "Preparing stats for file \u001B[1mciDATGAN_ALL_03\u001B[0m (11/20)\n",
      "Preparing stats for file \u001B[1mciDATGAN_ALL2_03\u001B[0m (12/20)\n",
      "Results for file \u001B[1mDATGAN_04\u001B[0m (13/20) already exists!\n",
      "Results for file \u001B[1mciDATGAN_04\u001B[0m (14/20) already exists!\n",
      "Preparing stats for file \u001B[1mciDATGAN_ALL_04\u001B[0m (15/20)\n",
      "Preparing stats for file \u001B[1mciDATGAN_ALL2_04\u001B[0m (16/20)\n",
      "Results for file \u001B[1mDATGAN_05\u001B[0m (17/20) already exists!\n",
      "Results for file \u001B[1mciDATGAN_05\u001B[0m (18/20) already exists!\n",
      "Preparing stats for file \u001B[1mciDATGAN_ALL_05\u001B[0m (19/20)\n",
      "Preparing stats for file \u001B[1mciDATGAN_ALL2_05\u001B[0m (20/20)\n",
      "                               \r          \u001B[1mFINISHED!\u001B[0m\n"
     ]
    }
   ],
   "source": [
    "for i, f in enumerate(synth_files):\n",
    "\n",
    "    file_name = f.split('/')[-1].split('.')[0]\n",
    "\n",
    "    if file_name in cv_modelscores:\n",
    "        print(\"Results for file \\033[1m{}\\033[0m ({}/{}) already exists!\".format(file_name, i+1, len(synth_files)))\n",
    "    else:\n",
    "        print(\"Preparing stats for file \\033[1m{}\\033[0m ({}/{})\".format(file_name, i+1, len(synth_files)))\n",
    "\n",
    "        cv_modelscores[file_name] = {}\n",
    "\n",
    "        # Load the synthetic dataset\n",
    "        df_synth = pd.read_csv(f, index_col=False)\n",
    "        df_synth = df_synth.sample(len_df).reset_index(drop=True)\n",
    "\n",
    "        # Replace the values rarely appearing\n",
    "        replace_low_appearing_values(df_synth)\n",
    "\n",
    "        # Encode the synthetic dataset\n",
    "        df_synth[categorical_columns] = enc.transform(df_synth[categorical_columns])\n",
    "\n",
    "        res = ml_assessment(df_orig, df_synth, continuous_columns, categorical_columns, ignore_cols=cond_inputs)\n",
    "\n",
    "        cv_modelscores[file_name] = res\n",
    "\n",
    "    pickle.dump(cv_modelscores, open(results_path + pickle_name, 'wb'))\n",
    "\n",
    "print(\"\\033[1mFINISHED!\\033[0m\")"
   ],
   "metadata": {
    "collapsed": false,
    "pycharm": {
     "name": "#%%\n"
    }
   }
  },
  {
   "cell_type": "code",
   "execution_count": 23,
   "outputs": [
    {
     "name": "stdout",
     "output_type": "stream",
     "text": [
      "Results for file \u001B[1moriginal\u001B[0m already exists!\n"
     ]
    }
   ],
   "source": [
    "if 'original' in cv_modelscores:\n",
    "    print(\"Results for file \\033[1m{}\\033[0m already exists!\".format('original'))\n",
    "else:\n",
    "    print(\"Preparing stats for file \\033[1m{}\\033[0m\".format('original'))\n",
    "\n",
    "    res = ml_assessment(df_orig, df_orig, continuous_columns, categorical_columns, ignore_cols=cond_inputs)\n",
    "    cv_modelscores['original'] = res\n",
    "    pickle.dump(cv_modelscores, open(results_path + pickle_name, 'wb'))\n",
    "    print(\"\\033[1mFINISHED!\\033[0m\")"
   ],
   "metadata": {
    "collapsed": false,
    "pycharm": {
     "name": "#%%\n"
    }
   }
  },
  {
   "cell_type": "code",
   "execution_count": 24,
   "outputs": [],
   "source": [
    "cont_sorted, cat_sorted = transform_results(cv_modelscores, continuous_columns, categorical_columns, ignore_cols=cond_inputs)"
   ],
   "metadata": {
    "collapsed": false,
    "pycharm": {
     "name": "#%%\n"
    }
   }
  },
  {
   "cell_type": "code",
   "execution_count": 25,
   "outputs": [
    {
     "name": "stdout",
     "output_type": "stream",
     "text": [
      "   | categorical                    | continuous                    \n",
      "-----------------------------------------------------------\n",
      " 1 | original    : -1.536           | original    : 5.385           \n",
      " 2 | ciDATGAN_ALL_04: 0.557         | ciDATGAN_ALL_03: 11.584       \n",
      " 3 | ciDATGAN_ALL_01: 0.568         | ciDATGAN_ALL_04: 11.689       \n",
      " 4 | ciDATGAN_ALL_02: 0.575         | ciDATGAN_ALL_02: 11.780       \n",
      " 5 | ciDATGAN_ALL_05: 0.594         | ciDATGAN_ALL_05: 11.801       \n",
      " 6 | ciDATGAN_ALL_03: 0.605         | ciDATGAN_ALL_01: 11.922       \n",
      " 7 | ciDATGAN_05 : 0.641            | DATGAN_02   : 12.649          \n",
      " 8 | ciDATGAN_04 : 0.645            | DATGAN_03   : 12.712          \n",
      " 9 | ciDATGAN_01 : 0.654            | DATGAN_01   : 12.898          \n",
      "10 | ciDATGAN_03 : 0.654            | DATGAN_04   : 12.949          \n",
      "11 | ciDATGAN_02 : 0.664            | DATGAN_05   : 12.971          \n",
      "12 | ciDATGAN_ALL2_03: 0.771        | ciDATGAN_ALL2_04: 14.463      \n",
      "13 | ciDATGAN_ALL2_02: 0.786        | ciDATGAN_ALL2_02: 14.580      \n",
      "14 | ciDATGAN_ALL2_04: 0.792        | ciDATGAN_ALL2_03: 14.708      \n",
      "15 | ciDATGAN_ALL2_05: 0.806        | ciDATGAN_ALL2_01: 15.221      \n",
      "16 | ciDATGAN_ALL2_01: 0.818        | ciDATGAN_ALL2_05: 15.255      \n",
      "17 | DATGAN_04   : 0.874            | ciDATGAN_02 : 16.476          \n",
      "18 | DATGAN_05   : 0.878            | ciDATGAN_05 : 17.244          \n",
      "19 | DATGAN_02   : 0.879            | ciDATGAN_03 : 17.264          \n",
      "20 | DATGAN_01   : 0.887            | ciDATGAN_04 : 17.267          \n",
      "21 | DATGAN_03   : 0.899            | ciDATGAN_01 : 17.698          \n"
     ]
    }
   ],
   "source": [
    "i=1\n",
    "print('   | {:<30} | {:<30}'.format('categorical', 'continuous'))\n",
    "print('-----------------------------------------------------------')\n",
    "for a, b in zip(cat_sorted, cont_sorted):\n",
    "    print('{:>2} | {:<30} | {:<30}'.format(i, '{:<12}: {:.3f}'.format(a[0], a[1]), '{:<12}: {:.3f}'.format(b[0], b[1])))\n",
    "    i+=1"
   ],
   "metadata": {
    "collapsed": false,
    "pycharm": {
     "name": "#%%\n"
    }
   }
  },
  {
   "cell_type": "code",
   "execution_count": 25,
   "outputs": [],
   "source": [],
   "metadata": {
    "collapsed": false,
    "pycharm": {
     "name": "#%%\n"
    }
   }
  },
  {
   "cell_type": "code",
   "execution_count": 25,
   "outputs": [],
   "source": [],
   "metadata": {
    "collapsed": false,
    "pycharm": {
     "name": "#%%\n"
    }
   }
  },
  {
   "cell_type": "code",
   "execution_count": null,
   "outputs": [],
   "source": [],
   "metadata": {
    "collapsed": false,
    "pycharm": {
     "name": "#%%\n"
    }
   }
  }
 ],
 "metadata": {
  "kernelspec": {
   "name": "dev",
   "language": "python",
   "display_name": "dev"
  },
  "language_info": {
   "codemirror_mode": {
    "name": "ipython",
    "version": 2
   },
   "file_extension": ".py",
   "mimetype": "text/x-python",
   "name": "python",
   "nbconvert_exporter": "python",
   "pygments_lexer": "ipython2",
   "version": "2.7.6"
  }
 },
 "nbformat": 4,
 "nbformat_minor": 0
}