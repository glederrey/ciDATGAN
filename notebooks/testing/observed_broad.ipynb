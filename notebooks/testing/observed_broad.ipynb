{
 "cells": [
  {
   "cell_type": "code",
   "execution_count": 1,
   "metadata": {
    "collapsed": true
   },
   "outputs": [],
   "source": [
    "import os\n",
    "import pickle\n",
    "import numpy as np\n",
    "import pandas as pd\n",
    "import networkx as nx\n",
    "import datgan\n",
    "\n",
    "from sklearn.preprocessing import OrdinalEncoder\n",
    "\n",
    "from datgan import stats_assessment\n",
    "from datgan import ml_assessment, transform_results\n",
    "\n",
    "# For the Python notebook\n",
    "%matplotlib inline\n",
    "%reload_ext autoreload\n",
    "%autoreload 2"
   ]
  },
  {
   "cell_type": "code",
   "execution_count": 2,
   "outputs": [],
   "source": [
    "df_orig = pd.read_csv('../../data/LPMC/trips.csv', index_col=False)\n",
    "\n",
    "continuous_columns = ['start_time_linear', 'age', 'distance', 'driving_traffic_percent']\n",
    "\n",
    "cond_inputs = [\"age\", \"female\", \"hh_regions\", 'dur_walking', 'dur_cycling', 'dur_pt','dur_driving']\n",
    "\n",
    "synth_files = []\n",
    "\n",
    "for i in range(5):\n",
    "    synth_files.append('../../data/synthetic/bias/DATGAN_1_{}.csv'.format(i+1))\n",
    "    synth_files.append('../../data/synthetic/bias/DATGAN_2_{}.csv'.format(i+1))\n",
    "    synth_files.append('../../data/synthetic/bias/DATGAN_3_{}.csv'.format(i+1))\n",
    "    synth_files.append('../../data/synthetic/bias/DATGAN_4_{}.csv'.format(i+1))\n",
    "    synth_files.append('../../data/synthetic/bias/DATGAN_5_{}.csv'.format(i+1))\n",
    "\n",
    "    synth_files.append('../../data/synthetic/bias/ciDATGAN_1_{}.csv'.format(i+1))\n",
    "    synth_files.append('../../data/synthetic/bias/ciDATGAN_2_{}.csv'.format(i+1))\n",
    "    synth_files.append('../../data/synthetic/bias/ciDATGAN_3_{}.csv'.format(i+1))\n",
    "    synth_files.append('../../data/synthetic/bias/ciDATGAN_4_{}.csv'.format(i+1))\n",
    "    synth_files.append('../../data/synthetic/bias/ciDATGAN_5_{}.csv'.format(i+1))\n",
    "\n",
    "synth_files.append('../../data/LPMC/trips_bias.csv')\n",
    "len_df = len(df_orig)"
   ],
   "metadata": {
    "collapsed": false,
    "pycharm": {
     "name": "#%%\n"
    }
   }
  },
  {
   "cell_type": "code",
   "execution_count": 3,
   "outputs": [],
   "source": [
    "results_path = './results/'\n",
    "\n",
    "if not os.path.exists(results_path):\n",
    "    os.makedirs(results_path)"
   ],
   "metadata": {
    "collapsed": false,
    "pycharm": {
     "name": "#%%\n"
    }
   }
  },
  {
   "cell_type": "code",
   "execution_count": 4,
   "outputs": [],
   "source": [
    "stats_str = ['mae', 'rmse', 'r2', 'srmse', 'corr']"
   ],
   "metadata": {
    "collapsed": false,
    "pycharm": {
     "name": "#%%\n"
    }
   }
  },
  {
   "cell_type": "markdown",
   "source": [
    "# First level"
   ],
   "metadata": {
    "collapsed": false,
    "pycharm": {
     "name": "#%% md\n"
    }
   }
  },
  {
   "cell_type": "code",
   "execution_count": 5,
   "outputs": [
    {
     "name": "stdout",
     "output_type": "stream",
     "text": [
      "No previous results found, starting fresh\n"
     ]
    }
   ],
   "source": [
    "pickle_name = 'stats_first_level.pickle'\n",
    "aggregation_level = 1\n",
    "\n",
    "first_lvl_stats = {}\n",
    "\n",
    "try:\n",
    "    first_lvl_stats = pickle.load(open(results_path + pickle_name, 'rb'))\n",
    "    print('Found previous pickle file, using that')\n",
    "except:\n",
    "    print('No previous results found, starting fresh')"
   ],
   "metadata": {
    "collapsed": false,
    "pycharm": {
     "name": "#%%\n"
    }
   }
  },
  {
   "cell_type": "code",
   "execution_count": 6,
   "outputs": [
    {
     "name": "stdout",
     "output_type": "stream",
     "text": [
      "Preparing stats for file \u001B[1mDATGAN_1_1\u001B[0m (1/51)\n",
      "Preparing stats for file \u001B[1mDATGAN_2_1\u001B[0m (2/51)\n",
      "Preparing stats for file \u001B[1mDATGAN_3_1\u001B[0m (3/51)\n",
      "Preparing stats for file \u001B[1mDATGAN_4_1\u001B[0m (4/51)\n",
      "Preparing stats for file \u001B[1mDATGAN_5_1\u001B[0m (5/51)\n",
      "Preparing stats for file \u001B[1mciDATGAN_1_1\u001B[0m (6/51)\n",
      "Preparing stats for file \u001B[1mciDATGAN_2_1\u001B[0m (7/51)\n",
      "Preparing stats for file \u001B[1mciDATGAN_3_1\u001B[0m (8/51)\n",
      "Preparing stats for file \u001B[1mciDATGAN_4_1\u001B[0m (9/51)\n",
      "Preparing stats for file \u001B[1mciDATGAN_5_1\u001B[0m (10/51)\n",
      "Preparing stats for file \u001B[1mDATGAN_1_2\u001B[0m (11/51)\n",
      "Preparing stats for file \u001B[1mDATGAN_2_2\u001B[0m (12/51)\n",
      "Preparing stats for file \u001B[1mDATGAN_3_2\u001B[0m (13/51)\n",
      "Preparing stats for file \u001B[1mDATGAN_4_2\u001B[0m (14/51)\n",
      "Preparing stats for file \u001B[1mDATGAN_5_2\u001B[0m (15/51)\n",
      "Preparing stats for file \u001B[1mciDATGAN_1_2\u001B[0m (16/51)\n",
      "Preparing stats for file \u001B[1mciDATGAN_2_2\u001B[0m (17/51)\n",
      "Preparing stats for file \u001B[1mciDATGAN_3_2\u001B[0m (18/51)\n",
      "Preparing stats for file \u001B[1mciDATGAN_4_2\u001B[0m (19/51)\n",
      "Preparing stats for file \u001B[1mciDATGAN_5_2\u001B[0m (20/51)\n",
      "Preparing stats for file \u001B[1mDATGAN_1_3\u001B[0m (21/51)\n",
      "Preparing stats for file \u001B[1mDATGAN_2_3\u001B[0m (22/51)\n",
      "Preparing stats for file \u001B[1mDATGAN_3_3\u001B[0m (23/51)\n",
      "Preparing stats for file \u001B[1mDATGAN_4_3\u001B[0m (24/51)\n",
      "Preparing stats for file \u001B[1mDATGAN_5_3\u001B[0m (25/51)\n",
      "Preparing stats for file \u001B[1mciDATGAN_1_3\u001B[0m (26/51)\n",
      "Preparing stats for file \u001B[1mciDATGAN_2_3\u001B[0m (27/51)\n",
      "Preparing stats for file \u001B[1mciDATGAN_3_3\u001B[0m (28/51)\n",
      "Preparing stats for file \u001B[1mciDATGAN_4_3\u001B[0m (29/51)\n",
      "Preparing stats for file \u001B[1mciDATGAN_5_3\u001B[0m (30/51)\n",
      "Preparing stats for file \u001B[1mDATGAN_1_4\u001B[0m (31/51)\n",
      "Preparing stats for file \u001B[1mDATGAN_2_4\u001B[0m (32/51)\n",
      "Preparing stats for file \u001B[1mDATGAN_3_4\u001B[0m (33/51)\n",
      "Preparing stats for file \u001B[1mDATGAN_4_4\u001B[0m (34/51)\n",
      "Preparing stats for file \u001B[1mDATGAN_5_4\u001B[0m (35/51)\n",
      "Preparing stats for file \u001B[1mciDATGAN_1_4\u001B[0m (36/51)\n",
      "Preparing stats for file \u001B[1mciDATGAN_2_4\u001B[0m (37/51)\n",
      "Preparing stats for file \u001B[1mciDATGAN_3_4\u001B[0m (38/51)\n",
      "Preparing stats for file \u001B[1mciDATGAN_4_4\u001B[0m (39/51)\n",
      "Preparing stats for file \u001B[1mciDATGAN_5_4\u001B[0m (40/51)\n",
      "Preparing stats for file \u001B[1mDATGAN_1_5\u001B[0m (41/51)\n",
      "Preparing stats for file \u001B[1mDATGAN_2_5\u001B[0m (42/51)\n",
      "Preparing stats for file \u001B[1mDATGAN_3_5\u001B[0m (43/51)\n",
      "Preparing stats for file \u001B[1mDATGAN_4_5\u001B[0m (44/51)\n",
      "Preparing stats for file \u001B[1mDATGAN_5_5\u001B[0m (45/51)\n",
      "Preparing stats for file \u001B[1mciDATGAN_1_5\u001B[0m (46/51)\n",
      "Preparing stats for file \u001B[1mciDATGAN_2_5\u001B[0m (47/51)\n",
      "Preparing stats for file \u001B[1mciDATGAN_3_5\u001B[0m (48/51)\n",
      "Preparing stats for file \u001B[1mciDATGAN_4_5\u001B[0m (49/51)\n",
      "Preparing stats for file \u001B[1mciDATGAN_5_5\u001B[0m (50/51)\n",
      "Preparing stats for file \u001B[1mtrips_bias\u001B[0m (51/51)\n",
      "\u001B[1mFINISHED!\u001B[0m\n"
     ]
    }
   ],
   "source": [
    "for i, f in enumerate(synth_files):\n",
    "\n",
    "    file_name = f.split('/')[-1].split('.')[0]\n",
    "\n",
    "    if file_name in first_lvl_stats:\n",
    "        print(\"Results for file \\033[1m{}\\033[0m ({}/{}) already exists!\".format(file_name, i+1, len(synth_files)))\n",
    "    else:\n",
    "        print(\"Preparing stats for file \\033[1m{}\\033[0m ({}/{})\".format(file_name, i+1, len(synth_files)))\n",
    "\n",
    "        first_lvl_stats[file_name] = {}\n",
    "\n",
    "        df_synth = pd.read_csv(f, index_col=False)\n",
    "\n",
    "        repl = False\n",
    "        if len(df_synth) < len_df:\n",
    "            repl = True\n",
    "\n",
    "        df_synth = df_synth.sample(len_df, replace=repl).reset_index(drop=True)\n",
    "\n",
    "        stats = stats_assessment(df_orig, df_synth, continuous_columns, aggregation_level, ignore_cols=cond_inputs)\n",
    "\n",
    "        first_lvl_stats[file_name] = stats\n",
    "\n",
    "    pickle.dump(first_lvl_stats, open(results_path + pickle_name, 'wb'))\n",
    "\n",
    "print(\"\\033[1mFINISHED!\\033[0m\")"
   ],
   "metadata": {
    "collapsed": false,
    "pycharm": {
     "name": "#%%\n"
    }
   }
  },
  {
   "cell_type": "code",
   "execution_count": 7,
   "outputs": [],
   "source": [
    "res = {}\n",
    "\n",
    "for test in ['all', 'cont', 'cat']:\n",
    "\n",
    "    res[test] = {}\n",
    "\n",
    "    if test == 'all':\n",
    "        cols = df_orig.columns\n",
    "    elif test == 'cont':\n",
    "        cols = continuous_columns\n",
    "    elif test == 'cat':\n",
    "        cols = set(df_orig.columns) - set(continuous_columns)\n",
    "\n",
    "    cols = set(cols) - set(cond_inputs)\n",
    "\n",
    "    for s in stats_str:\n",
    "        res[test][s] = {}\n",
    "\n",
    "    for m in first_lvl_stats.keys():\n",
    "        for s in stats_str:\n",
    "            res[test][s][m] = []\n",
    "\n",
    "            for c in cols:\n",
    "                res[test][s][m].append(first_lvl_stats[m][c][s])"
   ],
   "metadata": {
    "collapsed": false,
    "pycharm": {
     "name": "#%%\n"
    }
   }
  },
  {
   "cell_type": "code",
   "execution_count": 8,
   "outputs": [],
   "source": [
    "avg = {}\n",
    "\n",
    "for test in ['all', 'cont', 'cat']:\n",
    "\n",
    "    avg[test] = {}\n",
    "\n",
    "    for s in stats_str:\n",
    "        avg[test][s] = {}\n",
    "\n",
    "        for m in first_lvl_stats.keys():\n",
    "            avg[test][s][m] = {\n",
    "                'mean': np.mean(res[test][s][m]),\n",
    "                'std': np.std(res[test][s][m])\n",
    "            }"
   ],
   "metadata": {
    "collapsed": false,
    "pycharm": {
     "name": "#%%\n"
    }
   }
  },
  {
   "cell_type": "code",
   "execution_count": 9,
   "outputs": [
    {
     "name": "stdout",
     "output_type": "stream",
     "text": [
      "Ranking on all columns based on SRMSE:\n",
      "   1. ciDATGAN_2_3    - 6.96e-02 ± 4.11e-02\n",
      "   2. ciDATGAN_2_4    - 7.11e-02 ± 3.78e-02\n",
      "   3. ciDATGAN_2_5    - 7.11e-02 ± 4.42e-02\n",
      "   4. ciDATGAN_2_1    - 7.11e-02 ± 4.02e-02\n",
      "   5. ciDATGAN_2_2    - 7.13e-02 ± 4.14e-02\n",
      "   6. ciDATGAN_5_5    - 7.34e-02 ± 4.95e-02\n",
      "   7. ciDATGAN_5_2    - 7.43e-02 ± 5.12e-02\n",
      "   8. ciDATGAN_5_4    - 7.44e-02 ± 4.68e-02\n",
      "   9. ciDATGAN_5_1    - 7.53e-02 ± 4.80e-02\n",
      "  10. ciDATGAN_5_3    - 7.64e-02 ± 4.97e-02\n",
      "  11. trips_bias      - 8.26e-02 ± 1.05e-01\n",
      "  12. ciDATGAN_3_5    - 8.70e-02 ± 6.71e-02\n",
      "  13. ciDATGAN_3_2    - 9.18e-02 ± 7.11e-02\n",
      "  14. ciDATGAN_1_1    - 9.42e-02 ± 6.49e-02\n",
      "  15. ciDATGAN_3_3    - 9.45e-02 ± 6.73e-02\n",
      "  16. ciDATGAN_1_2    - 9.50e-02 ± 6.49e-02\n",
      "  17. ciDATGAN_3_1    - 9.54e-02 ± 6.44e-02\n",
      "  18. ciDATGAN_3_4    - 9.55e-02 ± 6.62e-02\n",
      "  19. ciDATGAN_1_5    - 9.62e-02 ± 6.78e-02\n",
      "  20. ciDATGAN_1_3    - 9.68e-02 ± 6.84e-02\n",
      "  21. ciDATGAN_1_4    - 1.00e-01 ± 6.60e-02\n",
      "  22. DATGAN_3_2      - 1.16e-01 ± 9.81e-02\n",
      "  23. ciDATGAN_4_1    - 1.17e-01 ± 1.09e-01\n",
      "  24. DATGAN_3_1      - 1.17e-01 ± 9.30e-02\n",
      "  25. DATGAN_3_4      - 1.18e-01 ± 9.54e-02\n",
      "  26. ciDATGAN_4_2    - 1.18e-01 ± 1.06e-01\n",
      "  27. ciDATGAN_4_5    - 1.19e-01 ± 1.05e-01\n",
      "  28. ciDATGAN_4_4    - 1.20e-01 ± 1.07e-01\n",
      "  29. DATGAN_2_1      - 1.20e-01 ± 8.46e-02\n",
      "  30. ciDATGAN_4_3    - 1.20e-01 ± 1.07e-01\n",
      "  31. DATGAN_3_5      - 1.20e-01 ± 9.49e-02\n",
      "  32. DATGAN_2_4      - 1.22e-01 ± 8.20e-02\n",
      "  33. DATGAN_3_3      - 1.24e-01 ± 9.63e-02\n",
      "  34. DATGAN_2_5      - 1.24e-01 ± 8.72e-02\n",
      "  35. DATGAN_2_3      - 1.25e-01 ± 7.96e-02\n",
      "  36. DATGAN_2_2      - 1.29e-01 ± 8.37e-02\n",
      "  37. DATGAN_1_2      - 1.36e-01 ± 1.30e-01\n",
      "  38. DATGAN_1_1      - 1.37e-01 ± 1.28e-01\n",
      "  39. DATGAN_1_4      - 1.39e-01 ± 1.27e-01\n",
      "  40. DATGAN_1_5      - 1.40e-01 ± 1.27e-01\n",
      "  41. DATGAN_4_3      - 1.42e-01 ± 1.02e-01\n",
      "  42. DATGAN_1_3      - 1.43e-01 ± 1.27e-01\n",
      "  43. DATGAN_4_5      - 1.45e-01 ± 1.04e-01\n",
      "  44. DATGAN_4_2      - 1.47e-01 ± 1.06e-01\n",
      "  45. DATGAN_4_1      - 1.48e-01 ± 1.04e-01\n",
      "  46. DATGAN_4_4      - 1.50e-01 ± 1.06e-01\n",
      "  47. DATGAN_5_5      - 1.55e-01 ± 1.33e-01\n",
      "  48. DATGAN_5_3      - 1.56e-01 ± 1.36e-01\n",
      "  49. DATGAN_5_1      - 1.59e-01 ± 1.39e-01\n",
      "  50. DATGAN_5_2      - 1.60e-01 ± 1.38e-01\n",
      "  51. DATGAN_5_4      - 1.61e-01 ± 1.33e-01\n",
      "\n",
      "Ranking on continuous columns based on SRMSE:\n",
      "   1. trips_bias      - 4.20e-02 ± 6.93e-03\n",
      "   2. ciDATGAN_2_1    - 1.18e-01 ± 4.38e-02\n",
      "   3. ciDATGAN_2_4    - 1.20e-01 ± 3.73e-02\n",
      "   4. ciDATGAN_2_3    - 1.21e-01 ± 3.92e-02\n",
      "   5. ciDATGAN_5_2    - 1.21e-01 ± 6.61e-02\n",
      "   6. ciDATGAN_2_2    - 1.25e-01 ± 4.02e-02\n",
      "   7. ciDATGAN_5_4    - 1.26e-01 ± 5.93e-02\n",
      "   8. ciDATGAN_2_5    - 1.27e-01 ± 4.67e-02\n",
      "   9. ciDATGAN_5_3    - 1.27e-01 ± 6.67e-02\n",
      "  10. ciDATGAN_5_5    - 1.30e-01 ± 6.18e-02\n",
      "  11. ciDATGAN_5_1    - 1.31e-01 ± 5.76e-02\n",
      "  12. DATGAN_2_3      - 1.55e-01 ± 6.29e-02\n",
      "  13. DATGAN_2_4      - 1.60e-01 ± 6.82e-02\n",
      "  14. DATGAN_2_5      - 1.60e-01 ± 7.52e-02\n",
      "  15. DATGAN_2_2      - 1.65e-01 ± 6.76e-02\n",
      "  16. DATGAN_2_1      - 1.68e-01 ± 6.05e-02\n",
      "  17. DATGAN_3_1      - 1.76e-01 ± 2.90e-02\n",
      "  18. ciDATGAN_1_1    - 1.82e-01 ± 4.55e-02\n",
      "  19. DATGAN_3_4      - 1.83e-01 ± 3.96e-02\n",
      "  20. ciDATGAN_1_2    - 1.84e-01 ± 4.21e-02\n",
      "  21. ciDATGAN_3_1    - 1.85e-01 ± 5.28e-02\n",
      "  22. ciDATGAN_3_5    - 1.85e-01 ± 5.02e-02\n",
      "  23. DATGAN_3_2      - 1.86e-01 ± 3.38e-02\n",
      "  24. DATGAN_3_5      - 1.86e-01 ± 3.76e-02\n",
      "  25. ciDATGAN_1_3    - 1.90e-01 ± 5.16e-02\n",
      "  26. ciDATGAN_3_2    - 1.91e-01 ± 6.86e-02\n",
      "  27. ciDATGAN_3_3    - 1.92e-01 ± 5.39e-02\n",
      "  28. ciDATGAN_3_4    - 1.92e-01 ± 4.84e-02\n",
      "  29. ciDATGAN_1_5    - 1.93e-01 ± 4.29e-02\n",
      "  30. DATGAN_3_3      - 1.95e-01 ± 3.39e-02\n",
      "  31. ciDATGAN_1_4    - 1.96e-01 ± 3.18e-02\n",
      "  32. DATGAN_1_1      - 2.44e-01 ± 1.38e-01\n",
      "  33. DATGAN_1_4      - 2.44e-01 ± 1.39e-01\n",
      "  34. DATGAN_1_3      - 2.44e-01 ± 1.41e-01\n",
      "  35. DATGAN_1_2      - 2.45e-01 ± 1.40e-01\n",
      "  36. DATGAN_4_3      - 2.46e-01 ± 5.91e-02\n",
      "  37. DATGAN_1_5      - 2.47e-01 ± 1.37e-01\n",
      "  38. DATGAN_4_5      - 2.49e-01 ± 6.58e-02\n",
      "  39. DATGAN_4_1      - 2.49e-01 ± 6.10e-02\n",
      "  40. DATGAN_4_2      - 2.58e-01 ± 6.40e-02\n",
      "  41. DATGAN_4_4      - 2.60e-01 ± 6.48e-02\n",
      "  42. ciDATGAN_4_5    - 2.72e-01 ± 8.64e-02\n",
      "  43. ciDATGAN_4_4    - 2.76e-01 ± 9.52e-02\n",
      "  44. ciDATGAN_4_1    - 2.79e-01 ± 9.23e-02\n",
      "  45. ciDATGAN_4_3    - 2.80e-01 ± 8.51e-02\n",
      "  46. ciDATGAN_4_2    - 2.80e-01 ± 8.51e-02\n",
      "  47. DATGAN_5_5      - 3.05e-01 ± 7.02e-02\n",
      "  48. DATGAN_5_3      - 3.14e-01 ± 7.56e-02\n",
      "  49. DATGAN_5_4      - 3.14e-01 ± 7.88e-02\n",
      "  50. DATGAN_5_2      - 3.19e-01 ± 7.34e-02\n",
      "  51. DATGAN_5_1      - 3.24e-01 ± 8.28e-02\n",
      "\n",
      "Ranking on categorical columns based on SRMSE:\n",
      "   1. ciDATGAN_2_5    - 5.23e-02 ± 2.19e-02\n",
      "   2. ciDATGAN_2_3    - 5.26e-02 ± 2.41e-02\n",
      "   3. ciDATGAN_2_2    - 5.33e-02 ± 2.11e-02\n",
      "   4. ciDATGAN_3_5    - 5.43e-02 ± 2.98e-02\n",
      "   5. ciDATGAN_5_5    - 5.44e-02 ± 2.37e-02\n",
      "   6. ciDATGAN_2_4    - 5.46e-02 ± 1.90e-02\n",
      "   7. ciDATGAN_2_1    - 5.56e-02 ± 2.35e-02\n",
      "   8. ciDATGAN_5_1    - 5.66e-02 ± 2.38e-02\n",
      "   9. ciDATGAN_5_4    - 5.72e-02 ± 2.39e-02\n",
      "  10. ciDATGAN_5_2    - 5.87e-02 ± 3.25e-02\n",
      "  11. ciDATGAN_3_2    - 5.88e-02 ± 2.88e-02\n",
      "  12. ciDATGAN_5_3    - 5.94e-02 ± 2.56e-02\n",
      "  13. ciDATGAN_3_3    - 6.19e-02 ± 2.87e-02\n",
      "  14. ciDATGAN_4_1    - 6.31e-02 ± 3.74e-02\n",
      "  15. ciDATGAN_3_4    - 6.32e-02 ± 2.97e-02\n",
      "  16. ciDATGAN_1_5    - 6.41e-02 ± 3.72e-02\n",
      "  17. ciDATGAN_4_2    - 6.47e-02 ± 3.30e-02\n",
      "  18. ciDATGAN_1_1    - 6.48e-02 ± 3.82e-02\n",
      "  19. ciDATGAN_1_2    - 6.53e-02 ± 3.89e-02\n",
      "  20. ciDATGAN_3_1    - 6.56e-02 ± 3.23e-02\n",
      "  21. ciDATGAN_1_3    - 6.57e-02 ± 3.83e-02\n",
      "  22. ciDATGAN_4_3    - 6.69e-02 ± 3.90e-02\n",
      "  23. ciDATGAN_4_4    - 6.75e-02 ± 3.86e-02\n",
      "  24. ciDATGAN_4_5    - 6.82e-02 ± 4.24e-02\n",
      "  25. ciDATGAN_1_4    - 6.85e-02 ± 3.78e-02\n",
      "  26. DATGAN_3_2      - 9.27e-02 ± 1.01e-01\n",
      "  27. trips_bias      - 9.62e-02 ± 1.18e-01\n",
      "  28. DATGAN_3_4      - 9.66e-02 ± 9.88e-02\n",
      "  29. DATGAN_3_1      - 9.77e-02 ± 9.86e-02\n",
      "  30. DATGAN_3_5      - 9.84e-02 ± 9.81e-02\n",
      "  31. DATGAN_1_2      - 9.90e-02 ± 1.03e-01\n",
      "  32. DATGAN_3_3      - 1.00e-01 ± 9.86e-02\n",
      "  33. DATGAN_1_1      - 1.02e-01 ± 1.03e-01\n",
      "  34. DATGAN_5_3      - 1.03e-01 ± 1.08e-01\n",
      "  35. DATGAN_2_1      - 1.04e-01 ± 8.54e-02\n",
      "  36. DATGAN_5_1      - 1.04e-01 ± 1.07e-01\n",
      "  37. DATGAN_1_4      - 1.04e-01 ± 1.01e-01\n",
      "  38. DATGAN_5_5      - 1.04e-01 ± 1.09e-01\n",
      "  39. DATGAN_1_5      - 1.05e-01 ± 1.01e-01\n",
      "  40. DATGAN_5_2      - 1.07e-01 ± 1.10e-01\n",
      "  41. DATGAN_4_3      - 1.07e-01 ± 8.84e-02\n",
      "  42. DATGAN_1_3      - 1.09e-01 ± 1.01e-01\n",
      "  43. DATGAN_2_4      - 1.09e-01 ± 8.24e-02\n",
      "  44. DATGAN_4_2      - 1.10e-01 ± 9.01e-02\n",
      "  45. DATGAN_5_4      - 1.10e-01 ± 1.05e-01\n",
      "  46. DATGAN_4_5      - 1.10e-01 ± 9.12e-02\n",
      "  47. DATGAN_2_5      - 1.12e-01 ± 8.77e-02\n",
      "  48. DATGAN_4_4      - 1.13e-01 ± 9.09e-02\n",
      "  49. DATGAN_4_1      - 1.14e-01 ± 9.23e-02\n",
      "  50. DATGAN_2_3      - 1.16e-01 ± 8.21e-02\n",
      "  51. DATGAN_2_2      - 1.16e-01 ± 8.50e-02\n",
      "\n"
     ]
    }
   ],
   "source": [
    "for test in ['all', 'cont', 'cat']:\n",
    "\n",
    "    if test == 'all':\n",
    "        str_ = 'on all columns'\n",
    "    elif test == 'cont':\n",
    "        str_ = 'on continuous columns'\n",
    "    elif test == 'cat':\n",
    "        str_ = 'on categorical columns'\n",
    "\n",
    "    for s in ['srmse']:#stats:\n",
    "        print('Ranking {} based on {}:'.format(str_, s.upper()))\n",
    "\n",
    "        if s in ['r2', 'corr']:\n",
    "            sorted_dct = {k: v for k, v in sorted(avg[test][s].items(), key=lambda item: item[1]['mean'])[::-1]}\n",
    "        else:\n",
    "            sorted_dct = {k: v for k, v in sorted(avg[test][s].items(), key=lambda item: item[1]['mean'])}\n",
    "\n",
    "        for i, item in enumerate(sorted_dct):\n",
    "            print('  {:>2}. {:<15} - {:.2e} ± {:.2e}'.format(i+1, item, sorted_dct[item]['mean'], sorted_dct[item]['std']))\n",
    "        print()"
   ],
   "metadata": {
    "collapsed": false,
    "pycharm": {
     "name": "#%%\n"
    }
   }
  },
  {
   "cell_type": "markdown",
   "source": [
    "# Second level"
   ],
   "metadata": {
    "collapsed": false,
    "pycharm": {
     "name": "#%% md\n"
    }
   }
  },
  {
   "cell_type": "code",
   "execution_count": 10,
   "outputs": [
    {
     "name": "stdout",
     "output_type": "stream",
     "text": [
      "No previous results found, starting fresh\n"
     ]
    }
   ],
   "source": [
    "pickle_name = 'stats_second_level.pickle'\n",
    "aggregation_level = 2\n",
    "\n",
    "second_lvl_stats = {}\n",
    "\n",
    "try:\n",
    "    second_lvl_stats = pickle.load(open(results_path + pickle_name, 'rb'))\n",
    "    print('Found previous pickel file, using that')\n",
    "except:\n",
    "    print('No previous results found, starting fresh')"
   ],
   "metadata": {
    "collapsed": false,
    "pycharm": {
     "name": "#%%\n"
    }
   }
  },
  {
   "cell_type": "code",
   "execution_count": 11,
   "outputs": [
    {
     "name": "stdout",
     "output_type": "stream",
     "text": [
      "Preparing stats for file \u001B[1mDATGAN_1_1\u001B[0m (1/51)\n",
      "Preparing stats for file \u001B[1mDATGAN_2_1\u001B[0m (2/51)\n",
      "Preparing stats for file \u001B[1mDATGAN_3_1\u001B[0m (3/51)\n",
      "Preparing stats for file \u001B[1mDATGAN_4_1\u001B[0m (4/51)\n",
      "Preparing stats for file \u001B[1mDATGAN_5_1\u001B[0m (5/51)\n",
      "Preparing stats for file \u001B[1mciDATGAN_1_1\u001B[0m (6/51)\n",
      "Preparing stats for file \u001B[1mciDATGAN_2_1\u001B[0m (7/51)\n",
      "Preparing stats for file \u001B[1mciDATGAN_3_1\u001B[0m (8/51)\n",
      "Preparing stats for file \u001B[1mciDATGAN_4_1\u001B[0m (9/51)\n",
      "Preparing stats for file \u001B[1mciDATGAN_5_1\u001B[0m (10/51)\n",
      "Preparing stats for file \u001B[1mDATGAN_1_2\u001B[0m (11/51)\n",
      "Preparing stats for file \u001B[1mDATGAN_2_2\u001B[0m (12/51)\n",
      "Preparing stats for file \u001B[1mDATGAN_3_2\u001B[0m (13/51)\n",
      "Preparing stats for file \u001B[1mDATGAN_4_2\u001B[0m (14/51)\n",
      "Preparing stats for file \u001B[1mDATGAN_5_2\u001B[0m (15/51)\n",
      "Preparing stats for file \u001B[1mciDATGAN_1_2\u001B[0m (16/51)\n",
      "Preparing stats for file \u001B[1mciDATGAN_2_2\u001B[0m (17/51)\n",
      "Preparing stats for file \u001B[1mciDATGAN_3_2\u001B[0m (18/51)\n",
      "Preparing stats for file \u001B[1mciDATGAN_4_2\u001B[0m (19/51)\n",
      "Preparing stats for file \u001B[1mciDATGAN_5_2\u001B[0m (20/51)\n",
      "Preparing stats for file \u001B[1mDATGAN_1_3\u001B[0m (21/51)\n",
      "Preparing stats for file \u001B[1mDATGAN_2_3\u001B[0m (22/51)\n",
      "Preparing stats for file \u001B[1mDATGAN_3_3\u001B[0m (23/51)\n",
      "Preparing stats for file \u001B[1mDATGAN_4_3\u001B[0m (24/51)\n",
      "Preparing stats for file \u001B[1mDATGAN_5_3\u001B[0m (25/51)\n",
      "Preparing stats for file \u001B[1mciDATGAN_1_3\u001B[0m (26/51)\n",
      "Preparing stats for file \u001B[1mciDATGAN_2_3\u001B[0m (27/51)\n",
      "Preparing stats for file \u001B[1mciDATGAN_3_3\u001B[0m (28/51)\n",
      "Preparing stats for file \u001B[1mciDATGAN_4_3\u001B[0m (29/51)\n",
      "Preparing stats for file \u001B[1mciDATGAN_5_3\u001B[0m (30/51)\n",
      "Preparing stats for file \u001B[1mDATGAN_1_4\u001B[0m (31/51)\n",
      "Preparing stats for file \u001B[1mDATGAN_2_4\u001B[0m (32/51)\n",
      "Preparing stats for file \u001B[1mDATGAN_3_4\u001B[0m (33/51)\n",
      "Preparing stats for file \u001B[1mDATGAN_4_4\u001B[0m (34/51)\n",
      "Preparing stats for file \u001B[1mDATGAN_5_4\u001B[0m (35/51)\n",
      "Preparing stats for file \u001B[1mciDATGAN_1_4\u001B[0m (36/51)\n",
      "Preparing stats for file \u001B[1mciDATGAN_2_4\u001B[0m (37/51)\n",
      "Preparing stats for file \u001B[1mciDATGAN_3_4\u001B[0m (38/51)\n",
      "Preparing stats for file \u001B[1mciDATGAN_4_4\u001B[0m (39/51)\n",
      "Preparing stats for file \u001B[1mciDATGAN_5_4\u001B[0m (40/51)\n",
      "Preparing stats for file \u001B[1mDATGAN_1_5\u001B[0m (41/51)\n",
      "Preparing stats for file \u001B[1mDATGAN_2_5\u001B[0m (42/51)\n",
      "Preparing stats for file \u001B[1mDATGAN_3_5\u001B[0m (43/51)\n",
      "Preparing stats for file \u001B[1mDATGAN_4_5\u001B[0m (44/51)\n",
      "Preparing stats for file \u001B[1mDATGAN_5_5\u001B[0m (45/51)\n",
      "Preparing stats for file \u001B[1mciDATGAN_1_5\u001B[0m (46/51)\n",
      "Preparing stats for file \u001B[1mciDATGAN_2_5\u001B[0m (47/51)\n",
      "Preparing stats for file \u001B[1mciDATGAN_3_5\u001B[0m (48/51)\n",
      "Preparing stats for file \u001B[1mciDATGAN_4_5\u001B[0m (49/51)\n",
      "Preparing stats for file \u001B[1mciDATGAN_5_5\u001B[0m (50/51)\n",
      "Preparing stats for file \u001B[1mtrips_bias\u001B[0m (51/51)\n",
      "\u001B[1mFINISHED!\u001B[0m\n"
     ]
    }
   ],
   "source": [
    "for i, f in enumerate(synth_files):\n",
    "\n",
    "    file_name = f.split('/')[-1].split('.')[0]\n",
    "\n",
    "    if file_name in second_lvl_stats:\n",
    "        print(\"Results for file \\033[1m{}\\033[0m ({}/{}) already exists!\".format(file_name, i+1, len(synth_files)))\n",
    "    else:\n",
    "        print(\"Preparing stats for file \\033[1m{}\\033[0m ({}/{})\".format(file_name, i+1, len(synth_files)))\n",
    "\n",
    "        second_lvl_stats[file_name] = {}\n",
    "\n",
    "        df_synth = pd.read_csv(f, index_col=False)\n",
    "\n",
    "        repl = False\n",
    "        if len(df_synth) < len_df:\n",
    "            repl = True\n",
    "\n",
    "        df_synth = df_synth.sample(len_df, replace=repl).reset_index(drop=True)\n",
    "\n",
    "        stats = stats_assessment(df_orig, df_synth, continuous_columns, aggregation_level, ignore_cols=cond_inputs)\n",
    "\n",
    "        second_lvl_stats[file_name] = stats\n",
    "\n",
    "    pickle.dump(second_lvl_stats, open(results_path + pickle_name, 'wb'))\n",
    "\n",
    "print(\"\\033[1mFINISHED!\\033[0m\")"
   ],
   "metadata": {
    "collapsed": false,
    "pycharm": {
     "name": "#%%\n"
    }
   }
  },
  {
   "cell_type": "code",
   "execution_count": 12,
   "outputs": [],
   "source": [
    "res = {}\n",
    "\n",
    "for s in stats_str:\n",
    "    res[s] = {}\n",
    "\n",
    "for m in second_lvl_stats.keys():\n",
    "\n",
    "    for s in stats_str:\n",
    "        res[s][m] = []\n",
    "\n",
    "        for c in second_lvl_stats[m].keys():\n",
    "            res[s][m].append(second_lvl_stats[m][c][s])"
   ],
   "metadata": {
    "collapsed": false,
    "pycharm": {
     "name": "#%%\n"
    }
   }
  },
  {
   "cell_type": "code",
   "execution_count": 13,
   "outputs": [],
   "source": [
    "avg = {}\n",
    "\n",
    "for s in stats_str:\n",
    "    avg[s] = {}\n",
    "\n",
    "    for m in first_lvl_stats.keys():\n",
    "        avg[s][m] = {\n",
    "            'mean': np.mean(res[s][m]),\n",
    "            'std': np.std(res[s][m])\n",
    "        }"
   ],
   "metadata": {
    "collapsed": false,
    "pycharm": {
     "name": "#%%\n"
    }
   }
  },
  {
   "cell_type": "code",
   "execution_count": 14,
   "outputs": [
    {
     "name": "stdout",
     "output_type": "stream",
     "text": [
      "Ranking based on SRMSE for aggregation level 2:\n",
      "   1. ciDATGAN_2_4    - 1.84e-01 ± 7.23e-02\n",
      "   2. ciDATGAN_2_3    - 1.86e-01 ± 7.63e-02\n",
      "   3. ciDATGAN_2_1    - 1.86e-01 ± 7.50e-02\n",
      "   4. ciDATGAN_2_2    - 1.86e-01 ± 7.75e-02\n",
      "   5. ciDATGAN_2_5    - 1.86e-01 ± 7.80e-02\n",
      "   6. ciDATGAN_5_2    - 1.90e-01 ± 8.54e-02\n",
      "   7. ciDATGAN_5_5    - 1.93e-01 ± 8.57e-02\n",
      "   8. ciDATGAN_5_1    - 1.95e-01 ± 8.52e-02\n",
      "   9. ciDATGAN_5_4    - 1.96e-01 ± 8.47e-02\n",
      "  10. ciDATGAN_5_3    - 1.98e-01 ± 8.74e-02\n",
      "  11. trips_bias      - 2.01e-01 ± 1.69e-01\n",
      "  12. ciDATGAN_3_5    - 2.07e-01 ± 1.00e-01\n",
      "  13. ciDATGAN_3_3    - 2.18e-01 ± 1.03e-01\n",
      "  14. ciDATGAN_3_2    - 2.18e-01 ± 1.11e-01\n",
      "  15. ciDATGAN_3_1    - 2.20e-01 ± 9.94e-02\n",
      "  16. ciDATGAN_3_4    - 2.20e-01 ± 1.05e-01\n",
      "  17. ciDATGAN_1_1    - 2.40e-01 ± 1.07e-01\n",
      "  18. ciDATGAN_1_2    - 2.43e-01 ± 1.06e-01\n",
      "  19. ciDATGAN_1_5    - 2.45e-01 ± 1.08e-01\n",
      "  20. ciDATGAN_1_3    - 2.45e-01 ± 1.12e-01\n",
      "  21. ciDATGAN_1_4    - 2.51e-01 ± 1.07e-01\n",
      "  22. DATGAN_3_4      - 2.92e-01 ± 1.43e-01\n",
      "  23. DATGAN_3_1      - 2.93e-01 ± 1.39e-01\n",
      "  24. ciDATGAN_4_1    - 2.93e-01 ± 1.58e-01\n",
      "  25. ciDATGAN_4_5    - 2.93e-01 ± 1.50e-01\n",
      "  26. ciDATGAN_4_2    - 2.94e-01 ± 1.54e-01\n",
      "  27. DATGAN_3_2      - 2.94e-01 ± 1.39e-01\n",
      "  28. DATGAN_3_5      - 2.96e-01 ± 1.39e-01\n",
      "  29. ciDATGAN_4_4    - 2.97e-01 ± 1.54e-01\n",
      "  30. ciDATGAN_4_3    - 3.00e-01 ± 1.52e-01\n",
      "  31. DATGAN_2_1      - 3.00e-01 ± 1.36e-01\n",
      "  32. DATGAN_2_4      - 3.02e-01 ± 1.31e-01\n",
      "  33. DATGAN_3_3      - 3.03e-01 ± 1.43e-01\n",
      "  34. DATGAN_2_3      - 3.06e-01 ± 1.36e-01\n",
      "  35. DATGAN_2_5      - 3.08e-01 ± 1.38e-01\n",
      "  36. DATGAN_2_2      - 3.13e-01 ± 1.36e-01\n",
      "  37. DATGAN_4_3      - 3.35e-01 ± 1.44e-01\n",
      "  38. DATGAN_4_5      - 3.39e-01 ± 1.50e-01\n",
      "  39. DATGAN_1_2      - 3.43e-01 ± 1.85e-01\n",
      "  40. DATGAN_4_1      - 3.44e-01 ± 1.52e-01\n",
      "  41. DATGAN_1_1      - 3.45e-01 ± 1.86e-01\n",
      "  42. DATGAN_4_2      - 3.46e-01 ± 1.51e-01\n",
      "  43. DATGAN_1_5      - 3.47e-01 ± 1.83e-01\n",
      "  44. DATGAN_1_4      - 3.47e-01 ± 1.84e-01\n",
      "  45. DATGAN_1_3      - 3.49e-01 ± 1.88e-01\n",
      "  46. DATGAN_4_4      - 3.49e-01 ± 1.51e-01\n",
      "  47. DATGAN_5_5      - 3.67e-01 ± 1.85e-01\n",
      "  48. DATGAN_5_3      - 3.70e-01 ± 1.89e-01\n",
      "  49. DATGAN_5_4      - 3.73e-01 ± 1.88e-01\n",
      "  50. DATGAN_5_1      - 3.75e-01 ± 1.91e-01\n",
      "  51. DATGAN_5_2      - 3.76e-01 ± 1.90e-01\n",
      "\n"
     ]
    }
   ],
   "source": [
    "for s in ['srmse']:#stats:\n",
    "    print('Ranking based on {} for aggregation level {}:'.format(s.upper(), aggregation_level))\n",
    "\n",
    "    if s in ['r2', 'corr']:\n",
    "        sorted_dct = {k: v for k, v in sorted(avg[s].items(), key=lambda item: item[1]['mean'])[::-1]}\n",
    "    else:\n",
    "        sorted_dct = {k: v for k, v in sorted(avg[s].items(), key=lambda item: item[1]['mean'])}\n",
    "\n",
    "    for i, item in enumerate(sorted_dct):\n",
    "        print('  {:>2}. {:<15} - {:.2e} ± {:.2e}'.format(i+1, item, sorted_dct[item]['mean'], sorted_dct[item]['std']))\n",
    "    print()"
   ],
   "metadata": {
    "collapsed": false,
    "pycharm": {
     "name": "#%%\n"
    }
   }
  },
  {
   "cell_type": "markdown",
   "source": [
    "# ML efficacy"
   ],
   "metadata": {
    "collapsed": false,
    "pycharm": {
     "name": "#%% md\n"
    }
   }
  },
  {
   "cell_type": "code",
   "execution_count": 85,
   "outputs": [],
   "source": [
    "def check_low_appearing_vars(df):\n",
    "\n",
    "    for c in df.columns:\n",
    "        val = df[c].value_counts()\n",
    "        if len(val) < 20:\n",
    "            val = val/len(df)\n",
    "            if any(val < 0.01) and c != 'choice':\n",
    "                print('Variable {}: '.format(c))\n",
    "                for idx, v in zip(val.index, val):\n",
    "                    if v < 0.01:\n",
    "                        print('  {} - {:.2f}% ({:d})'.format(idx, 100*v, int(v*len(df))))\n",
    "                print()\n",
    "\n",
    "def replace_low_appearing_values(df):\n",
    "\n",
    "    dct_ = {}\n",
    "    for i in df['hh_vehicles'].unique():\n",
    "        if i >= 3:\n",
    "            dct_[i] = '3+'\n",
    "        else:\n",
    "            dct_[i] = str(i)\n",
    "    df['hh_vehicles'].replace(dct_, inplace=True)\n",
    "\n",
    "    dct_ = {}\n",
    "    for i in df['hh_people'].unique():\n",
    "        if i >= 6:\n",
    "            dct_[i] = '6+'\n",
    "        else:\n",
    "            dct_[i] = str(i)\n",
    "    df['hh_people'].replace(dct_, inplace=True)"
   ],
   "metadata": {
    "collapsed": false,
    "pycharm": {
     "name": "#%%\n"
    }
   }
  },
  {
   "cell_type": "code",
   "execution_count": 86,
   "outputs": [
    {
     "name": "stdout",
     "output_type": "stream",
     "text": [
      "Variable hh_vehicles: \n",
      "  4 - 0.52% (88)\n",
      "  5 - 0.12% (21)\n",
      "  6 - 0.02% (3)\n",
      "  8 - 0.02% (3)\n",
      "  7 - 0.01% (2)\n",
      "\n",
      "Variable hh_people: \n",
      "  7 - 0.70% (118)\n",
      "  8 - 0.18% (31)\n",
      "  9 - 0.08% (13)\n",
      "  10 - 0.03% (5)\n",
      "  11 - 0.02% (3)\n",
      "\n"
     ]
    }
   ],
   "source": [
    "check_low_appearing_vars(df_orig)"
   ],
   "metadata": {
    "collapsed": false,
    "pycharm": {
     "name": "#%%\n"
    }
   }
  },
  {
   "cell_type": "code",
   "execution_count": 87,
   "outputs": [],
   "source": [
    "replace_low_appearing_values(df_orig)"
   ],
   "metadata": {
    "collapsed": false,
    "pycharm": {
     "name": "#%%\n"
    }
   }
  },
  {
   "cell_type": "code",
   "execution_count": 88,
   "outputs": [],
   "source": [
    "check_low_appearing_vars(df_orig)"
   ],
   "metadata": {
    "collapsed": false,
    "pycharm": {
     "name": "#%%\n"
    }
   }
  },
  {
   "cell_type": "code",
   "execution_count": 89,
   "outputs": [],
   "source": [
    "categorical_columns = list(set(df_orig.columns) - set(continuous_columns))"
   ],
   "metadata": {
    "collapsed": false,
    "pycharm": {
     "name": "#%%\n"
    }
   }
  },
  {
   "cell_type": "code",
   "execution_count": 90,
   "outputs": [],
   "source": [
    "enc = OrdinalEncoder()\n",
    "df_orig[categorical_columns] = enc.fit_transform(df_orig[categorical_columns])"
   ],
   "metadata": {
    "collapsed": false,
    "pycharm": {
     "name": "#%%\n"
    }
   }
  },
  {
   "cell_type": "code",
   "execution_count": null,
   "outputs": [],
   "source": [
    "pickle_name = 'ml_efficacy.pickle'\n",
    "\n",
    "cv_modelscores = {}\n",
    "\n",
    "try:\n",
    "    cv_modelscores = pickle.load(open(results_path + pickle_name, 'rb'))\n",
    "    print('Found previous pickel file, using that')\n",
    "except:\n",
    "    print('No previous results found, starting fresh')"
   ],
   "metadata": {
    "collapsed": false,
    "pycharm": {
     "name": "#%%\n"
    }
   }
  },
  {
   "cell_type": "code",
   "execution_count": null,
   "outputs": [],
   "source": [
    "for i, f in enumerate(synth_files):\n",
    "\n",
    "    file_name = f.split('/')[-1].split('.')[0]\n",
    "\n",
    "    if file_name in cv_modelscores:\n",
    "        print(\"Results for file \\033[1m{}\\033[0m ({}/{}) already exists!\".format(file_name, i+1, len(synth_files)))\n",
    "    else:\n",
    "        print(\"Preparing stats for file \\033[1m{}\\033[0m ({}/{})\".format(file_name, i+1, len(synth_files)))\n",
    "\n",
    "        cv_modelscores[file_name] = {}\n",
    "\n",
    "        # Load the synthetic dataset\n",
    "        df_synth = pd.read_csv(f, index_col=False)\n",
    "        df_synth = df_synth.sample(len_df).reset_index(drop=True)\n",
    "\n",
    "        # Replace the values rarely appearing\n",
    "        replace_low_appearing_values(df_synth)\n",
    "\n",
    "        # Encode the synthetic dataset\n",
    "        df_synth[categorical_columns] = enc.transform(df_synth[categorical_columns])\n",
    "\n",
    "        res = ml_assessment(df_orig, df_synth, continuous_columns, categorical_columns, ignore_cols=cond_inputs)\n",
    "\n",
    "        cv_modelscores[file_name] = res\n",
    "\n",
    "    pickle.dump(cv_modelscores, open(results_path + pickle_name, 'wb'))\n",
    "\n",
    "print(\"\\033[1mFINISHED!\\033[0m\")"
   ],
   "metadata": {
    "collapsed": false,
    "pycharm": {
     "name": "#%%\n"
    }
   }
  },
  {
   "cell_type": "code",
   "execution_count": 93,
   "outputs": [
    {
     "name": "stdout",
     "output_type": "stream",
     "text": [
      "Preparing stats for file \u001B[1moriginal\u001B[0m\n",
      "    Column: dur_driving (2/18)     -- Fold 1/5"
     ]
    },
    {
     "name": "stderr",
     "output_type": "stream",
     "text": [
      "C:\\Users\\glede\\AppData\\Roaming\\Python\\Python39\\site-packages\\sklearn\\model_selection\\_split.py:676: UserWarning: The least populated class in y has only 1 members, which is less than n_splits=5.\n",
      "  warnings.warn(\n",
      "C:\\Users\\glede\\AppData\\Roaming\\Python\\Python39\\site-packages\\sklearn\\model_selection\\_split.py:676: UserWarning: The least populated class in y has only 1 members, which is less than n_splits=5.\n",
      "  warnings.warn(\n"
     ]
    },
    {
     "name": "stdout",
     "output_type": "stream",
     "text": [
      "  -- Fold 3/5"
     ]
    },
    {
     "name": "stderr",
     "output_type": "stream",
     "text": [
      "C:\\Users\\glede\\AppData\\Roaming\\Python\\Python39\\site-packages\\sklearn\\model_selection\\_split.py:676: UserWarning: The least populated class in y has only 1 members, which is less than n_splits=5.\n",
      "  warnings.warn(\n",
      "C:\\Users\\glede\\AppData\\Roaming\\Python\\Python39\\site-packages\\sklearn\\model_selection\\_split.py:676: UserWarning: The least populated class in y has only 1 members, which is less than n_splits=5.\n",
      "  warnings.warn(\n"
     ]
    },
    {
     "name": "stdout",
     "output_type": "stream",
     "text": [
      " -- Fold 4/5"
     ]
    },
    {
     "name": "stderr",
     "output_type": "stream",
     "text": [
      "C:\\Users\\glede\\AppData\\Roaming\\Python\\Python39\\site-packages\\sklearn\\model_selection\\_split.py:676: UserWarning: The least populated class in y has only 1 members, which is less than n_splits=5.\n",
      "  warnings.warn(\n"
     ]
    },
    {
     "name": "stdout",
     "output_type": "stream",
     "text": [
      " \r"
     ]
    },
    {
     "name": "stderr",
     "output_type": "stream",
     "text": [
      "\n",
      "KeyboardInterrupt\n",
      "\n"
     ]
    }
   ],
   "source": [
    "if 'original' in cv_modelscores:\n",
    "    print(\"Results for file \\033[1m{}\\033[0m already exists!\".format('original'))\n",
    "else:\n",
    "    print(\"Preparing stats for file \\033[1m{}\\033[0m\".format('original'))\n",
    "\n",
    "    res = ml_assessment(df_orig, df_orig, continuous_columns, categorical_columns)\n",
    "    cv_modelscores['original'] = res\n",
    "    pickle.dump(cv_modelscores, open(results_path + pickle_name, 'wb'))\n",
    "    print(\"\\033[1mFINISHED!\\033[0m\")"
   ],
   "metadata": {
    "collapsed": false,
    "pycharm": {
     "name": "#%%\n"
    }
   }
  },
  {
   "cell_type": "code",
   "execution_count": 70,
   "outputs": [],
   "source": [
    "cont_sorted, cat_sorted = transform_results(cv_modelscores, continuous_columns, categorical_columns, ignore_cols=cond_inputs)"
   ],
   "metadata": {
    "collapsed": false,
    "pycharm": {
     "name": "#%%\n"
    }
   }
  },
  {
   "cell_type": "code",
   "execution_count": 71,
   "outputs": [
    {
     "name": "stdout",
     "output_type": "stream",
     "text": [
      "   | categorical                    | continuous                    \n",
      "-----------------------------------------------------------\n",
      " 1 | original    : -1.461           | trips_biased: 4.870           \n",
      " 2 | trips_biased: -0.322           | original    : 5.277           \n",
      " 3 | ciDATGAN_01 : 1.250            | DATGAN_01   : 12.906          \n",
      " 4 | DATGAN_01   : 1.474            | ciDATGAN_01 : 17.522          \n"
     ]
    }
   ],
   "source": [
    "i=1\n",
    "print('   | {:<30} | {:<30}'.format('categorical', 'continuous'))\n",
    "print('-----------------------------------------------------------')\n",
    "for a, b in zip(cat_sorted, cont_sorted):\n",
    "    print('{:>2} | {:<30} | {:<30}'.format(i, '{:<12}: {:.3f}'.format(a[0], a[1]), '{:<12}: {:.3f}'.format(b[0], b[1])))\n",
    "    i+=1"
   ],
   "metadata": {
    "collapsed": false,
    "pycharm": {
     "name": "#%%\n"
    }
   }
  }
 ],
 "metadata": {
  "kernelspec": {
   "name": "dev",
   "language": "python",
   "display_name": "dev"
  },
  "language_info": {
   "codemirror_mode": {
    "name": "ipython",
    "version": 2
   },
   "file_extension": ".py",
   "mimetype": "text/x-python",
   "name": "python",
   "nbconvert_exporter": "python",
   "pygments_lexer": "ipython2",
   "version": "2.7.6"
  }
 },
 "nbformat": 4,
 "nbformat_minor": 0
}