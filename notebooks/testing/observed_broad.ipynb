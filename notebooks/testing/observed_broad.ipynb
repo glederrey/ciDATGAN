{
 "cells": [
  {
   "cell_type": "code",
   "execution_count": 1,
   "metadata": {
    "collapsed": true
   },
   "outputs": [],
   "source": [
    "import os\n",
    "import pickle\n",
    "import numpy as np\n",
    "import pandas as pd\n",
    "import networkx as nx\n",
    "import datgan\n",
    "\n",
    "from sklearn.preprocessing import OrdinalEncoder\n",
    "\n",
    "from datgan import stats_assessment\n",
    "from datgan import ml_assessment, transform_results\n",
    "\n",
    "# For the Python notebook\n",
    "%matplotlib inline\n",
    "%reload_ext autoreload\n",
    "%autoreload 2"
   ]
  },
  {
   "cell_type": "code",
   "execution_count": 8,
   "outputs": [],
   "source": [
    "df_orig = pd.read_csv('../../data/LPMC/trips.csv', index_col=False)\n",
    "\n",
    "continuous_columns = ['start_time_linear', 'age', 'distance', 'dur_walking',\n",
    "                      'dur_cycling', 'dur_pt_access', 'dur_pt_rail', 'dur_pt_bus',\n",
    "                      'dur_pt_int', 'dur_driving', 'cost_transit',\n",
    "                      'cost_driving_fuel', 'driving_traffic_percent']\n",
    "\n",
    "cond_inputs = [\"age\", \"female\", \"hh_borough\"]\n",
    "\n",
    "synth_files = []\n",
    "\n",
    "for i in range(5):\n",
    "    synth_files.append('../../data/synthetic/test/DATGAN_{:02d}.csv'.format(i+1))\n",
    "    synth_files.append('../../data/synthetic/test/DATGAN2_{:02d}.csv'.format(i+1))\n",
    "    synth_files.append('../../data/synthetic/test/ciDATGAN_{:02d}.csv'.format(i+1))\n",
    "    synth_files.append('../../data/synthetic/test/ciDATGAN2_{:02d}.csv'.format(i+1))\n",
    "\n",
    "\n",
    "len_df = len(df_orig)"
   ],
   "metadata": {
    "collapsed": false,
    "pycharm": {
     "name": "#%%\n"
    }
   }
  },
  {
   "cell_type": "code",
   "execution_count": 9,
   "outputs": [],
   "source": [
    "results_path = './results/'\n",
    "\n",
    "if not os.path.exists(results_path):\n",
    "    os.makedirs(results_path)"
   ],
   "metadata": {
    "collapsed": false,
    "pycharm": {
     "name": "#%%\n"
    }
   }
  },
  {
   "cell_type": "code",
   "execution_count": 10,
   "outputs": [],
   "source": [
    "stats_str = ['mae', 'rmse', 'r2', 'srmse', 'corr']"
   ],
   "metadata": {
    "collapsed": false,
    "pycharm": {
     "name": "#%%\n"
    }
   }
  },
  {
   "cell_type": "markdown",
   "source": [
    "# First level"
   ],
   "metadata": {
    "collapsed": false,
    "pycharm": {
     "name": "#%% md\n"
    }
   }
  },
  {
   "cell_type": "code",
   "execution_count": 11,
   "outputs": [
    {
     "name": "stdout",
     "output_type": "stream",
     "text": [
      "Found previous pickle file, using that\n"
     ]
    }
   ],
   "source": [
    "pickle_name = 'stats_first_level.pickle'\n",
    "aggregation_level = 1\n",
    "\n",
    "first_lvl_stats = {}\n",
    "\n",
    "try:\n",
    "    first_lvl_stats = pickle.load(open(results_path + pickle_name, 'rb'))\n",
    "    print('Found previous pickle file, using that')\n",
    "except:\n",
    "    print('No previous results found, starting fresh')"
   ],
   "metadata": {
    "collapsed": false,
    "pycharm": {
     "name": "#%%\n"
    }
   }
  },
  {
   "cell_type": "code",
   "execution_count": 12,
   "outputs": [
    {
     "name": "stdout",
     "output_type": "stream",
     "text": [
      "Results for file \u001B[1mDATGAN_01\u001B[0m (1/20) already exists!\n",
      "Results for file \u001B[1mDATGAN2_01\u001B[0m (2/20) already exists!\n",
      "Preparing stats for file \u001B[1mciDATGAN_01\u001B[0m (3/20)\n",
      "Preparing stats for file \u001B[1mciDATGAN2_01\u001B[0m (4/20)\n",
      "Preparing stats for file \u001B[1mDATGAN_02\u001B[0m (5/20)\n",
      "Preparing stats for file \u001B[1mDATGAN2_02\u001B[0m (6/20)\n",
      "Preparing stats for file \u001B[1mciDATGAN_02\u001B[0m (7/20)\n",
      "Preparing stats for file \u001B[1mciDATGAN2_02\u001B[0m (8/20)\n",
      "Preparing stats for file \u001B[1mDATGAN_03\u001B[0m (9/20)\n",
      "Preparing stats for file \u001B[1mDATGAN2_03\u001B[0m (10/20)\n",
      "Preparing stats for file \u001B[1mciDATGAN_03\u001B[0m (11/20)\n",
      "Preparing stats for file \u001B[1mciDATGAN2_03\u001B[0m (12/20)\n",
      "Preparing stats for file \u001B[1mDATGAN_04\u001B[0m (13/20)\n",
      "Preparing stats for file \u001B[1mDATGAN2_04\u001B[0m (14/20)\n",
      "Preparing stats for file \u001B[1mciDATGAN_04\u001B[0m (15/20)\n",
      "Preparing stats for file \u001B[1mciDATGAN2_04\u001B[0m (16/20)\n",
      "Preparing stats for file \u001B[1mDATGAN_05\u001B[0m (17/20)\n",
      "Preparing stats for file \u001B[1mDATGAN2_05\u001B[0m (18/20)\n",
      "Preparing stats for file \u001B[1mciDATGAN_05\u001B[0m (19/20)\n",
      "Preparing stats for file \u001B[1mciDATGAN2_05\u001B[0m (20/20)\n",
      "\u001B[1mFINISHED!\u001B[0m\n"
     ]
    }
   ],
   "source": [
    "for i, f in enumerate(synth_files):\n",
    "\n",
    "    file_name = f.split('/')[-1].split('.')[0]\n",
    "\n",
    "    if file_name in first_lvl_stats:\n",
    "        print(\"Results for file \\033[1m{}\\033[0m ({}/{}) already exists!\".format(file_name, i+1, len(synth_files)))\n",
    "    else:\n",
    "        print(\"Preparing stats for file \\033[1m{}\\033[0m ({}/{})\".format(file_name, i+1, len(synth_files)))\n",
    "\n",
    "        first_lvl_stats[file_name] = {}\n",
    "\n",
    "        df_synth = pd.read_csv(f, index_col=False)\n",
    "        df_synth = df_synth.sample(len_df).reset_index(drop=True)\n",
    "\n",
    "        stats = stats_assessment(df_orig, df_synth, continuous_columns, aggregation_level, ignore_cols=cond_inputs)\n",
    "\n",
    "        first_lvl_stats[file_name] = stats\n",
    "\n",
    "    pickle.dump(first_lvl_stats, open(results_path + pickle_name, 'wb'))\n",
    "\n",
    "print(\"\\033[1mFINISHED!\\033[0m\")"
   ],
   "metadata": {
    "collapsed": false,
    "pycharm": {
     "name": "#%%\n"
    }
   }
  },
  {
   "cell_type": "code",
   "execution_count": 13,
   "outputs": [],
   "source": [
    "res = {}\n",
    "\n",
    "for test in ['all', 'cont', 'cat']:\n",
    "\n",
    "    res[test] = {}\n",
    "\n",
    "    if test == 'all':\n",
    "        cols = df_orig.columns\n",
    "    elif test == 'cont':\n",
    "        cols = continuous_columns\n",
    "    elif test == 'cat':\n",
    "        cols = set(df_orig.columns) - set(continuous_columns)\n",
    "\n",
    "    cols = set(cols) - set(cond_inputs)\n",
    "\n",
    "    for s in stats_str:\n",
    "        res[test][s] = {}\n",
    "\n",
    "    for m in first_lvl_stats.keys():\n",
    "        for s in stats_str:\n",
    "            res[test][s][m] = []\n",
    "\n",
    "            for c in cols:\n",
    "                res[test][s][m].append(first_lvl_stats[m][c][s])"
   ],
   "metadata": {
    "collapsed": false,
    "pycharm": {
     "name": "#%%\n"
    }
   }
  },
  {
   "cell_type": "code",
   "execution_count": 14,
   "outputs": [],
   "source": [
    "avg = {}\n",
    "\n",
    "for test in ['all', 'cont', 'cat']:\n",
    "\n",
    "    avg[test] = {}\n",
    "\n",
    "    for s in stats_str:\n",
    "        avg[test][s] = {}\n",
    "\n",
    "        for m in first_lvl_stats.keys():\n",
    "            avg[test][s][m] = {\n",
    "                'mean': np.mean(res[test][s][m]),\n",
    "                'std': np.std(res[test][s][m])\n",
    "            }"
   ],
   "metadata": {
    "collapsed": false,
    "pycharm": {
     "name": "#%%\n"
    }
   }
  },
  {
   "cell_type": "code",
   "execution_count": 15,
   "outputs": [
    {
     "name": "stdout",
     "output_type": "stream",
     "text": [
      "Ranking on all columns based on SRMSE:\n",
      "   1. ciDATGAN2_02    - 6.36e-02 ± 6.59e-02\n",
      "   2. ciDATGAN2_01    - 6.69e-02 ± 6.18e-02\n",
      "   3. ciDATGAN_03     - 6.77e-02 ± 5.76e-02\n",
      "   4. ciDATGAN_02     - 7.00e-02 ± 6.02e-02\n",
      "   5. ciDATGAN_01     - 7.02e-02 ± 6.02e-02\n",
      "   6. ciDATGAN_04     - 7.12e-02 ± 5.87e-02\n",
      "   7. ciDATGAN2_05    - 7.13e-02 ± 6.69e-02\n",
      "   8. ciDATGAN2_03    - 7.23e-02 ± 6.56e-02\n",
      "   9. ciDATGAN_05     - 7.26e-02 ± 5.62e-02\n",
      "  10. ciDATGAN2_04    - 7.29e-02 ± 6.79e-02\n",
      "  11. DATGAN_02       - 9.39e-02 ± 1.04e-01\n",
      "  12. DATGAN_03       - 9.45e-02 ± 1.01e-01\n",
      "  13. DATGAN_01       - 9.66e-02 ± 1.04e-01\n",
      "  14. DATGAN_05       - 9.68e-02 ± 1.04e-01\n",
      "  15. DATGAN_04       - 1.00e-01 ± 1.07e-01\n",
      "  16. DATGAN2_05      - 1.07e-01 ± 6.79e-02\n",
      "  17. DATGAN2_04      - 1.08e-01 ± 7.31e-02\n",
      "  18. DATGAN2_02      - 1.08e-01 ± 7.08e-02\n",
      "  19. DATGAN2_03      - 1.10e-01 ± 6.76e-02\n",
      "  20. DATGAN2_01      - 1.13e-01 ± 7.37e-02\n",
      "\n",
      "Ranking on continuous columns based on SRMSE:\n",
      "   1. ciDATGAN2_02    - 1.02e-01 ± 7.93e-02\n",
      "   2. ciDATGAN2_01    - 1.06e-01 ± 7.16e-02\n",
      "   3. ciDATGAN_03     - 1.09e-01 ± 6.25e-02\n",
      "   4. ciDATGAN_01     - 1.11e-01 ± 6.75e-02\n",
      "   5. ciDATGAN_05     - 1.12e-01 ± 6.07e-02\n",
      "   6. ciDATGAN_02     - 1.13e-01 ± 6.48e-02\n",
      "   7. ciDATGAN_04     - 1.13e-01 ± 6.33e-02\n",
      "   8. ciDATGAN2_05    - 1.16e-01 ± 7.55e-02\n",
      "   9. ciDATGAN2_03    - 1.18e-01 ± 7.23e-02\n",
      "  10. ciDATGAN2_04    - 1.22e-01 ± 7.31e-02\n",
      "  11. DATGAN2_05      - 1.65e-01 ± 5.61e-02\n",
      "  12. DATGAN2_03      - 1.69e-01 ± 5.31e-02\n",
      "  13. DATGAN2_02      - 1.69e-01 ± 5.76e-02\n",
      "  14. DATGAN2_04      - 1.71e-01 ± 5.82e-02\n",
      "  15. DATGAN_02       - 1.72e-01 ± 1.14e-01\n",
      "  16. DATGAN2_01      - 1.75e-01 ± 6.23e-02\n",
      "  17. DATGAN_03       - 1.75e-01 ± 1.05e-01\n",
      "  18. DATGAN_05       - 1.76e-01 ± 1.13e-01\n",
      "  19. DATGAN_01       - 1.77e-01 ± 1.12e-01\n",
      "  20. DATGAN_04       - 1.82e-01 ± 1.15e-01\n",
      "\n",
      "Ranking on categorical columns based on SRMSE:\n",
      "   1. DATGAN_03       - 3.00e-02 ± 1.60e-02\n",
      "   2. DATGAN_02       - 3.13e-02 ± 1.68e-02\n",
      "   3. DATGAN_01       - 3.25e-02 ± 1.74e-02\n",
      "   4. ciDATGAN2_02    - 3.26e-02 ± 2.48e-02\n",
      "   5. ciDATGAN2_04    - 3.32e-02 ± 2.21e-02\n",
      "   6. DATGAN_05       - 3.37e-02 ± 1.86e-02\n",
      "   7. ciDATGAN_03     - 3.45e-02 ± 1.88e-02\n",
      "   8. DATGAN_04       - 3.46e-02 ± 1.91e-02\n",
      "   9. ciDATGAN2_01    - 3.55e-02 ± 2.38e-02\n",
      "  10. ciDATGAN2_03    - 3.57e-02 ± 2.30e-02\n",
      "  11. ciDATGAN_02     - 3.58e-02 ± 2.28e-02\n",
      "  12. ciDATGAN2_05    - 3.58e-02 ± 2.58e-02\n",
      "  13. ciDATGAN_04     - 3.75e-02 ± 2.07e-02\n",
      "  14. ciDATGAN_01     - 3.76e-02 ± 2.19e-02\n",
      "  15. ciDATGAN_05     - 4.08e-02 ± 2.13e-02\n",
      "  16. DATGAN2_04      - 5.73e-02 ± 3.35e-02\n",
      "  17. DATGAN2_02      - 5.93e-02 ± 3.12e-02\n",
      "  18. DATGAN2_05      - 6.11e-02 ± 3.13e-02\n",
      "  19. DATGAN2_01      - 6.30e-02 ± 3.31e-02\n",
      "  20. DATGAN2_03      - 6.32e-02 ± 3.14e-02\n",
      "\n"
     ]
    }
   ],
   "source": [
    "for test in ['all', 'cont', 'cat']:\n",
    "\n",
    "    if test == 'all':\n",
    "        str_ = 'on all columns'\n",
    "    elif test == 'cont':\n",
    "        str_ = 'on continuous columns'\n",
    "    elif test == 'cat':\n",
    "        str_ = 'on categorical columns'\n",
    "\n",
    "    for s in ['srmse']:#stats:\n",
    "        print('Ranking {} based on {}:'.format(str_, s.upper()))\n",
    "\n",
    "        if s in ['r2', 'corr']:\n",
    "            sorted_dct = {k: v for k, v in sorted(avg[test][s].items(), key=lambda item: item[1]['mean'])[::-1]}\n",
    "        else:\n",
    "            sorted_dct = {k: v for k, v in sorted(avg[test][s].items(), key=lambda item: item[1]['mean'])}\n",
    "\n",
    "        for i, item in enumerate(sorted_dct):\n",
    "            print('  {:>2}. {:<15} - {:.2e} ± {:.2e}'.format(i+1, item, sorted_dct[item]['mean'], sorted_dct[item]['std']))\n",
    "        print()"
   ],
   "metadata": {
    "collapsed": false,
    "pycharm": {
     "name": "#%%\n"
    }
   }
  },
  {
   "cell_type": "markdown",
   "source": [
    "# Second level"
   ],
   "metadata": {
    "collapsed": false,
    "pycharm": {
     "name": "#%% md\n"
    }
   }
  },
  {
   "cell_type": "code",
   "execution_count": 16,
   "outputs": [
    {
     "name": "stdout",
     "output_type": "stream",
     "text": [
      "No previous results found, starting fresh\n"
     ]
    }
   ],
   "source": [
    "pickle_name = 'stats_second_level.pickle'\n",
    "aggregation_level = 2\n",
    "\n",
    "second_lvl_stats = {}\n",
    "\n",
    "try:\n",
    "    second_lvl_stats = pickle.load(open(results_path + pickle_name, 'rb'))\n",
    "    print('Found previous pickel file, using that')\n",
    "except:\n",
    "    print('No previous results found, starting fresh')"
   ],
   "metadata": {
    "collapsed": false,
    "pycharm": {
     "name": "#%%\n"
    }
   }
  },
  {
   "cell_type": "code",
   "execution_count": 17,
   "outputs": [
    {
     "name": "stdout",
     "output_type": "stream",
     "text": [
      "Preparing stats for file \u001B[1mDATGAN_01\u001B[0m (1/20)\n",
      "Preparing stats for file \u001B[1mDATGAN2_01\u001B[0m (2/20)\n",
      "Preparing stats for file \u001B[1mciDATGAN_01\u001B[0m (3/20)\n",
      "Preparing stats for file \u001B[1mciDATGAN2_01\u001B[0m (4/20)\n",
      "Preparing stats for file \u001B[1mDATGAN_02\u001B[0m (5/20)\n",
      "Preparing stats for file \u001B[1mDATGAN2_02\u001B[0m (6/20)\n",
      "Preparing stats for file \u001B[1mciDATGAN_02\u001B[0m (7/20)\n",
      "Preparing stats for file \u001B[1mciDATGAN2_02\u001B[0m (8/20)\n",
      "Preparing stats for file \u001B[1mDATGAN_03\u001B[0m (9/20)\n",
      "Preparing stats for file \u001B[1mDATGAN2_03\u001B[0m (10/20)\n",
      "Preparing stats for file \u001B[1mciDATGAN_03\u001B[0m (11/20)\n",
      "Preparing stats for file \u001B[1mciDATGAN2_03\u001B[0m (12/20)\n",
      "Preparing stats for file \u001B[1mDATGAN_04\u001B[0m (13/20)\n",
      "Preparing stats for file \u001B[1mDATGAN2_04\u001B[0m (14/20)\n",
      "Preparing stats for file \u001B[1mciDATGAN_04\u001B[0m (15/20)\n",
      "Preparing stats for file \u001B[1mciDATGAN2_04\u001B[0m (16/20)\n",
      "Preparing stats for file \u001B[1mDATGAN_05\u001B[0m (17/20)\n",
      "Preparing stats for file \u001B[1mDATGAN2_05\u001B[0m (18/20)\n",
      "Preparing stats for file \u001B[1mciDATGAN_05\u001B[0m (19/20)\n",
      "Preparing stats for file \u001B[1mciDATGAN2_05\u001B[0m (20/20)\n",
      "\u001B[1mFINISHED!\u001B[0m\n"
     ]
    }
   ],
   "source": [
    "for i, f in enumerate(synth_files):\n",
    "\n",
    "    file_name = f.split('/')[-1].split('.')[0]\n",
    "\n",
    "    if file_name in second_lvl_stats:\n",
    "        print(\"Results for file \\033[1m{}\\033[0m ({}/{}) already exists!\".format(file_name, i+1, len(synth_files)))\n",
    "    else:\n",
    "        print(\"Preparing stats for file \\033[1m{}\\033[0m ({}/{})\".format(file_name, i+1, len(synth_files)))\n",
    "\n",
    "        second_lvl_stats[file_name] = {}\n",
    "\n",
    "        df_synth = pd.read_csv(f, index_col=False)\n",
    "        df_synth = df_synth.sample(len_df).reset_index(drop=True)\n",
    "\n",
    "        stats = stats_assessment(df_orig, df_synth, continuous_columns, aggregation_level, ignore_cols=cond_inputs)\n",
    "\n",
    "        second_lvl_stats[file_name] = stats\n",
    "\n",
    "    pickle.dump(second_lvl_stats, open(results_path + pickle_name, 'wb'))\n",
    "\n",
    "print(\"\\033[1mFINISHED!\\033[0m\")"
   ],
   "metadata": {
    "collapsed": false,
    "pycharm": {
     "name": "#%%\n"
    }
   }
  },
  {
   "cell_type": "code",
   "execution_count": 18,
   "outputs": [],
   "source": [
    "res = {}\n",
    "\n",
    "for s in stats_str:\n",
    "    res[s] = {}\n",
    "\n",
    "for m in second_lvl_stats.keys():\n",
    "\n",
    "    for s in stats_str:\n",
    "        res[s][m] = []\n",
    "\n",
    "        for c in second_lvl_stats[m].keys():\n",
    "            res[s][m].append(second_lvl_stats[m][c][s])"
   ],
   "metadata": {
    "collapsed": false,
    "pycharm": {
     "name": "#%%\n"
    }
   }
  },
  {
   "cell_type": "code",
   "execution_count": 19,
   "outputs": [],
   "source": [
    "avg = {}\n",
    "\n",
    "for s in stats_str:\n",
    "    avg[s] = {}\n",
    "\n",
    "    for m in first_lvl_stats.keys():\n",
    "        avg[s][m] = {\n",
    "            'mean': np.mean(res[s][m]),\n",
    "            'std': np.std(res[s][m])\n",
    "        }"
   ],
   "metadata": {
    "collapsed": false,
    "pycharm": {
     "name": "#%%\n"
    }
   }
  },
  {
   "cell_type": "code",
   "execution_count": 20,
   "outputs": [
    {
     "name": "stdout",
     "output_type": "stream",
     "text": [
      "Ranking based on SRMSE for aggregation level 2:\n",
      "   1. ciDATGAN2_02    - 2.06e-01 ± 1.33e-01\n",
      "   2. ciDATGAN2_01    - 2.10e-01 ± 1.30e-01\n",
      "   3. ciDATGAN2_03    - 2.21e-01 ± 1.34e-01\n",
      "   4. ciDATGAN2_05    - 2.23e-01 ± 1.37e-01\n",
      "   5. ciDATGAN2_04    - 2.26e-01 ± 1.39e-01\n",
      "   6. ciDATGAN_03     - 2.26e-01 ± 1.34e-01\n",
      "   7. ciDATGAN_01     - 2.29e-01 ± 1.31e-01\n",
      "   8. ciDATGAN_04     - 2.30e-01 ± 1.32e-01\n",
      "   9. ciDATGAN_05     - 2.31e-01 ± 1.28e-01\n",
      "  10. ciDATGAN_02     - 2.33e-01 ± 1.38e-01\n",
      "  11. DATGAN2_05      - 2.75e-01 ± 1.27e-01\n",
      "  12. DATGAN2_04      - 2.76e-01 ± 1.29e-01\n",
      "  13. DATGAN2_02      - 2.78e-01 ± 1.30e-01\n",
      "  14. DATGAN2_03      - 2.80e-01 ± 1.28e-01\n",
      "  15. DATGAN2_01      - 2.86e-01 ± 1.36e-01\n",
      "  16. DATGAN_03       - 3.03e-01 ± 2.10e-01\n",
      "  17. DATGAN_02       - 3.05e-01 ± 2.14e-01\n",
      "  18. DATGAN_01       - 3.08e-01 ± 2.14e-01\n",
      "  19. DATGAN_05       - 3.08e-01 ± 2.14e-01\n",
      "  20. DATGAN_04       - 3.14e-01 ± 2.18e-01\n",
      "\n"
     ]
    }
   ],
   "source": [
    "for s in ['srmse']:#stats:\n",
    "    print('Ranking based on {} for aggregation level {}:'.format(s.upper(), aggregation_level))\n",
    "\n",
    "    if s in ['r2', 'corr']:\n",
    "        sorted_dct = {k: v for k, v in sorted(avg[s].items(), key=lambda item: item[1]['mean'])[::-1]}\n",
    "    else:\n",
    "        sorted_dct = {k: v for k, v in sorted(avg[s].items(), key=lambda item: item[1]['mean'])}\n",
    "\n",
    "    for i, item in enumerate(sorted_dct):\n",
    "        print('  {:>2}. {:<15} - {:.2e} ± {:.2e}'.format(i+1, item, sorted_dct[item]['mean'], sorted_dct[item]['std']))\n",
    "    print()"
   ],
   "metadata": {
    "collapsed": false,
    "pycharm": {
     "name": "#%%\n"
    }
   }
  },
  {
   "cell_type": "markdown",
   "source": [
    "# ML efficacy"
   ],
   "metadata": {
    "collapsed": false,
    "pycharm": {
     "name": "#%% md\n"
    }
   }
  },
  {
   "cell_type": "code",
   "execution_count": 21,
   "outputs": [],
   "source": [
    "def check_low_appearing_vars(df):\n",
    "\n",
    "    for c in df.columns:\n",
    "        val = df[c].value_counts()\n",
    "        if len(val) < 20:\n",
    "            val = val/len(df)\n",
    "            if any(val < 0.01) and c != 'choice':\n",
    "                print('Variable {}: '.format(c))\n",
    "                for idx, v in zip(val.index, val):\n",
    "                    if v < 0.01:\n",
    "                        print('  {} - {:.2f}% ({:d})'.format(idx, 100*v, int(v*len(df))))\n",
    "                print()\n",
    "\n",
    "def replace_low_appearing_values(df):\n",
    "\n",
    "    dct_ = {}\n",
    "    for i in df['pt_n_interchanges'].unique():\n",
    "        if i >= 2:\n",
    "            dct_[i] = '2+'\n",
    "        else:\n",
    "            dct_[i] = str(i)\n",
    "    df['pt_n_interchanges'].replace(dct_, inplace=True)\n",
    "\n",
    "    dct_ = {\n",
    "        'Diesel_LGV': 'LGV',\n",
    "        'Petrol_LGV': 'LGV',\n",
    "        'Hybrid_Car': 'Average_Car'\n",
    "    }\n",
    "    df['fueltype'].replace(dct_, inplace=True)\n",
    "\n",
    "    dct_ = {}\n",
    "    for i in df['hh_vehicles'].unique():\n",
    "        if i >= 3:\n",
    "            dct_[i] = '3+'\n",
    "        else:\n",
    "            dct_[i] = str(i)\n",
    "    df['hh_vehicles'].replace(dct_, inplace=True)\n",
    "\n",
    "    dct_ = {}\n",
    "    for i in df['hh_people'].unique():\n",
    "        if i >= 6:\n",
    "            dct_[i] = '6+'\n",
    "        else:\n",
    "            dct_[i] = str(i)\n",
    "    df['hh_people'].replace(dct_, inplace=True)"
   ],
   "metadata": {
    "collapsed": false,
    "pycharm": {
     "name": "#%%\n"
    }
   }
  },
  {
   "cell_type": "code",
   "execution_count": 22,
   "outputs": [
    {
     "name": "stdout",
     "output_type": "stream",
     "text": [
      "Variable fueltype: \n",
      "  Hybrid_Car - 0.51% (87)\n",
      "  Petrol_LGV - 0.18% (31)\n",
      "\n",
      "Variable pt_n_interchanges: \n",
      "  3 - 0.77% (131)\n",
      "  4 - 0.04% (6)\n",
      "\n",
      "Variable hh_vehicles: \n",
      "  4 - 0.52% (88)\n",
      "  5 - 0.12% (21)\n",
      "  8 - 0.02% (3)\n",
      "  6 - 0.02% (3)\n",
      "  7 - 0.01% (2)\n",
      "\n",
      "Variable hh_people: \n",
      "  7 - 0.70% (118)\n",
      "  8 - 0.18% (31)\n",
      "  9 - 0.08% (13)\n",
      "  10 - 0.03% (5)\n",
      "  11 - 0.02% (3)\n",
      "\n"
     ]
    }
   ],
   "source": [
    "check_low_appearing_vars(df_orig)"
   ],
   "metadata": {
    "collapsed": false,
    "pycharm": {
     "name": "#%%\n"
    }
   }
  },
  {
   "cell_type": "code",
   "execution_count": 23,
   "outputs": [],
   "source": [
    "replace_low_appearing_values(df_orig)"
   ],
   "metadata": {
    "collapsed": false,
    "pycharm": {
     "name": "#%%\n"
    }
   }
  },
  {
   "cell_type": "code",
   "execution_count": 24,
   "outputs": [],
   "source": [
    "check_low_appearing_vars(df_orig)"
   ],
   "metadata": {
    "collapsed": false,
    "pycharm": {
     "name": "#%%\n"
    }
   }
  },
  {
   "cell_type": "code",
   "execution_count": 25,
   "outputs": [],
   "source": [
    "categorical_columns = list(set(df_orig.columns) - set(continuous_columns))"
   ],
   "metadata": {
    "collapsed": false,
    "pycharm": {
     "name": "#%%\n"
    }
   }
  },
  {
   "cell_type": "code",
   "execution_count": 26,
   "outputs": [],
   "source": [
    "enc = OrdinalEncoder()\n",
    "df_orig[categorical_columns] = enc.fit_transform(df_orig[categorical_columns])"
   ],
   "metadata": {
    "collapsed": false,
    "pycharm": {
     "name": "#%%\n"
    }
   }
  },
  {
   "cell_type": "code",
   "execution_count": 27,
   "outputs": [
    {
     "name": "stdout",
     "output_type": "stream",
     "text": [
      "No previous results found, starting fresh\n"
     ]
    }
   ],
   "source": [
    "pickle_name = 'ml_efficacy.pickle'\n",
    "\n",
    "cv_modelscores = {}\n",
    "\n",
    "try:\n",
    "    cv_modelscores = pickle.load(open(results_path + pickle_name, 'rb'))\n",
    "    print('Found previous pickel file, using that')\n",
    "except:\n",
    "    print('No previous results found, starting fresh')"
   ],
   "metadata": {
    "collapsed": false,
    "pycharm": {
     "name": "#%%\n"
    }
   }
  },
  {
   "cell_type": "code",
   "execution_count": 28,
   "outputs": [
    {
     "name": "stdout",
     "output_type": "stream",
     "text": [
      "Preparing stats for file \u001B[1mDATGAN_01\u001B[0m (1/20)\n",
      "Preparing stats for file \u001B[1mDATGAN2_01\u001B[0m (2/20)\n",
      "Preparing stats for file \u001B[1mciDATGAN_01\u001B[0m (3/20)mn: travel_mode (25/27)\n",
      "                             \r                 Column: travel_month (20/27)Preparing stats for file \u001B[1mciDATGAN2_01\u001B[0m (4/20)\n",
      "Preparing stats for file \u001B[1mDATGAN_02\u001B[0m (5/20)\n",
      "Preparing stats for file \u001B[1mDATGAN2_02\u001B[0m (6/20)\n",
      "Preparing stats for file \u001B[1mciDATGAN_02\u001B[0m (7/20)\n",
      "                             \r             Preparing stats for file \u001B[1mciDATGAN2_02\u001B[0m (8/20)\n",
      "Preparing stats for file \u001B[1mDATGAN_03\u001B[0m (9/20)\n",
      "Preparing stats for file \u001B[1mDATGAN2_03\u001B[0m (10/20)\n",
      "Preparing stats for file \u001B[1mciDATGAN_03\u001B[0m (11/20)\n",
      "                             \r             Preparing stats for file \u001B[1mciDATGAN2_03\u001B[0m (12/20)\n",
      "Preparing stats for file \u001B[1mDATGAN_04\u001B[0m (13/20)\n",
      "Preparing stats for file \u001B[1mDATGAN2_04\u001B[0m (14/20)\n",
      "Preparing stats for file \u001B[1mciDATGAN_04\u001B[0m (15/20)\n",
      "Preparing stats for file \u001B[1mciDATGAN2_04\u001B[0m (16/20)\n",
      "Preparing stats for file \u001B[1mDATGAN_05\u001B[0m (17/20)umn: driving_license (16/27)\n",
      "Preparing stats for file \u001B[1mDATGAN2_05\u001B[0m (18/20)mn: day_of_week (22/27)\n",
      "Preparing stats for file \u001B[1mciDATGAN_05\u001B[0m (19/20)\n",
      "                             \r             Preparing stats for file \u001B[1mciDATGAN2_05\u001B[0m (20/20)\n",
      "\u001B[1mFINISHED!\u001B[0m                          \n"
     ]
    }
   ],
   "source": [
    "for i, f in enumerate(synth_files):\n",
    "\n",
    "    file_name = f.split('/')[-1].split('.')[0]\n",
    "\n",
    "    if file_name in cv_modelscores:\n",
    "        print(\"Results for file \\033[1m{}\\033[0m ({}/{}) already exists!\".format(file_name, i+1, len(synth_files)))\n",
    "    else:\n",
    "        print(\"Preparing stats for file \\033[1m{}\\033[0m ({}/{})\".format(file_name, i+1, len(synth_files)))\n",
    "\n",
    "        cv_modelscores[file_name] = {}\n",
    "\n",
    "        # Load the synthetic dataset\n",
    "        df_synth = pd.read_csv(f, index_col=False)\n",
    "        df_synth = df_synth.sample(len_df).reset_index(drop=True)\n",
    "\n",
    "        # Replace the values rarely appearing\n",
    "        replace_low_appearing_values(df_synth)\n",
    "\n",
    "        # Encode the synthetic dataset\n",
    "        df_synth[categorical_columns] = enc.transform(df_synth[categorical_columns])\n",
    "\n",
    "        res = ml_assessment(df_orig, df_synth, continuous_columns, categorical_columns, ignore_cols=cond_inputs)\n",
    "\n",
    "        cv_modelscores[file_name] = res\n",
    "\n",
    "    pickle.dump(cv_modelscores, open(results_path + pickle_name, 'wb'))\n",
    "\n",
    "print(\"\\033[1mFINISHED!\\033[0m\")"
   ],
   "metadata": {
    "collapsed": false,
    "pycharm": {
     "name": "#%%\n"
    }
   }
  },
  {
   "cell_type": "code",
   "execution_count": 29,
   "outputs": [
    {
     "name": "stdout",
     "output_type": "stream",
     "text": [
      "Preparing stats for file \u001B[1moriginal\u001B[0m\n",
      "\u001B[1mFINISHED!\u001B[0m                          \n"
     ]
    }
   ],
   "source": [
    "if 'original' in cv_modelscores:\n",
    "    print(\"Results for file \\033[1m{}\\033[0m already exists!\".format('original'))\n",
    "else:\n",
    "    print(\"Preparing stats for file \\033[1m{}\\033[0m\".format('original'))\n",
    "\n",
    "    res = ml_assessment(df_orig, df_orig, continuous_columns, categorical_columns, ignore_cols=cond_inputs)\n",
    "    cv_modelscores['original'] = res\n",
    "    pickle.dump(cv_modelscores, open(results_path + pickle_name, 'wb'))\n",
    "    print(\"\\033[1mFINISHED!\\033[0m\")"
   ],
   "metadata": {
    "collapsed": false,
    "pycharm": {
     "name": "#%%\n"
    }
   }
  },
  {
   "cell_type": "code",
   "execution_count": 30,
   "outputs": [],
   "source": [
    "cont_sorted, cat_sorted = transform_results(cv_modelscores, continuous_columns, categorical_columns, ignore_cols=cond_inputs)"
   ],
   "metadata": {
    "collapsed": false,
    "pycharm": {
     "name": "#%%\n"
    }
   }
  },
  {
   "cell_type": "code",
   "execution_count": 31,
   "outputs": [
    {
     "name": "stdout",
     "output_type": "stream",
     "text": [
      "   | categorical                    | continuous                    \n",
      "-----------------------------------------------------------\n",
      " 1 | original    : -4.149           | original    : 8.462           \n",
      " 2 | ciDATGAN2_03: 5.248            | ciDATGAN2_02: 22.955          \n",
      " 3 | ciDATGAN2_02: 5.293            | ciDATGAN2_05: 23.143          \n",
      " 4 | ciDATGAN2_04: 5.307            | ciDATGAN2_04: 23.316          \n",
      " 5 | ciDATGAN2_01: 5.323            | ciDATGAN2_03: 23.369          \n",
      " 6 | ciDATGAN2_05: 5.337            | ciDATGAN2_01: 23.372          \n",
      " 7 | ciDATGAN_04 : 5.432            | ciDATGAN_05 : 26.525          \n",
      " 8 | ciDATGAN_02 : 5.467            | ciDATGAN_04 : 27.023          \n",
      " 9 | DATGAN2_02  : 5.469            | ciDATGAN_01 : 27.029          \n",
      "10 | ciDATGAN_01 : 5.488            | ciDATGAN_02 : 27.143          \n",
      "11 | DATGAN2_04  : 5.491            | ciDATGAN_03 : 27.917          \n",
      "12 | DATGAN2_01  : 5.506            | DATGAN_02   : 41.189          \n",
      "13 | ciDATGAN_03 : 5.509            | DATGAN_01   : 41.635          \n",
      "14 | DATGAN2_03  : 5.527            | DATGAN_03   : 42.500          \n",
      "15 | DATGAN2_05  : 5.533            | DATGAN_04   : 45.320          \n",
      "16 | ciDATGAN_05 : 5.535            | DATGAN_05   : 45.738          \n",
      "17 | DATGAN_02   : 5.880            | DATGAN2_01  : 79.766          \n",
      "18 | DATGAN_05   : 5.883            | DATGAN2_05  : 80.249          \n",
      "19 | DATGAN_04   : 5.897            | DATGAN2_04  : 81.653          \n",
      "20 | DATGAN_01   : 5.904            | DATGAN2_03  : 82.786          \n",
      "21 | DATGAN_03   : 5.933            | DATGAN2_02  : 86.688          \n"
     ]
    }
   ],
   "source": [
    "i=1\n",
    "print('   | {:<30} | {:<30}'.format('categorical', 'continuous'))\n",
    "print('-----------------------------------------------------------')\n",
    "for a, b in zip(cat_sorted, cont_sorted):\n",
    "    print('{:>2} | {:<30} | {:<30}'.format(i, '{:<12}: {:.3f}'.format(a[0], a[1]), '{:<12}: {:.3f}'.format(b[0], b[1])))\n",
    "    i+=1"
   ],
   "metadata": {
    "collapsed": false,
    "pycharm": {
     "name": "#%%\n"
    }
   }
  },
  {
   "cell_type": "code",
   "execution_count": null,
   "outputs": [],
   "source": [],
   "metadata": {
    "collapsed": false,
    "pycharm": {
     "name": "#%%\n"
    }
   }
  }
 ],
 "metadata": {
  "kernelspec": {
   "name": "dev",
   "language": "python",
   "display_name": "dev"
  },
  "language_info": {
   "codemirror_mode": {
    "name": "ipython",
    "version": 2
   },
   "file_extension": ".py",
   "mimetype": "text/x-python",
   "name": "python",
   "nbconvert_exporter": "python",
   "pygments_lexer": "ipython2",
   "version": "2.7.6"
  }
 },
 "nbformat": 4,
 "nbformat_minor": 0
}