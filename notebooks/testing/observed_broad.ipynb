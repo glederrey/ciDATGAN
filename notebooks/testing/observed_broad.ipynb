{
 "cells": [
  {
   "cell_type": "code",
   "execution_count": 1,
   "metadata": {
    "collapsed": true
   },
   "outputs": [],
   "source": [
    "import os\n",
    "import pickle\n",
    "import numpy as np\n",
    "import pandas as pd\n",
    "import networkx as nx\n",
    "import datgan\n",
    "\n",
    "from sklearn.preprocessing import OrdinalEncoder\n",
    "\n",
    "from datgan import stats_assessment\n",
    "from datgan import ml_assessment, transform_results\n",
    "\n",
    "# For the Python notebook\n",
    "%matplotlib inline\n",
    "%reload_ext autoreload\n",
    "%autoreload 2"
   ]
  },
  {
   "cell_type": "code",
   "execution_count": 50,
   "outputs": [],
   "source": [
    "df_orig = pd.read_csv('../../data/LPMC/trips.csv', index_col=False)\n",
    "\n",
    "continuous_columns = ['start_time_linear', 'age', 'distance', 'dur_walking', 'dur_cycling', 'dur_pt','dur_driving', 'driving_traffic_percent']\n",
    "\n",
    "cond_inputs = [\"age\", \"female\", \"hh_borough\"]\n",
    "\n",
    "synth_files = []\n",
    "\n",
    "for i in range(5):\n",
    "    synth_files.append('../../data/synthetic/test/DATGAN_{:02d}.csv'.format(i+1))\n",
    "    synth_files.append('../../data/synthetic/test/DATGAN2_{:02d}.csv'.format(i+1))\n",
    "\n",
    "    synth_files.append('../../data/synthetic/test/ciDATGAN_{:02d}.csv'.format(i+1))\n",
    "    synth_files.append('../../data/synthetic/test/ciDATGAN2_{:02d}.csv'.format(i+1))\n",
    "    synth_files.append('../../data/synthetic/test/ciDATGAN3_{:02d}.csv'.format(i+1))\n",
    "\n",
    "len_df = len(df_orig)"
   ],
   "metadata": {
    "collapsed": false,
    "pycharm": {
     "name": "#%%\n"
    }
   }
  },
  {
   "cell_type": "code",
   "execution_count": 51,
   "outputs": [],
   "source": [
    "results_path = './results/'\n",
    "\n",
    "if not os.path.exists(results_path):\n",
    "    os.makedirs(results_path)"
   ],
   "metadata": {
    "collapsed": false,
    "pycharm": {
     "name": "#%%\n"
    }
   }
  },
  {
   "cell_type": "code",
   "execution_count": 52,
   "outputs": [],
   "source": [
    "stats_str = ['mae', 'rmse', 'r2', 'srmse', 'corr']"
   ],
   "metadata": {
    "collapsed": false,
    "pycharm": {
     "name": "#%%\n"
    }
   }
  },
  {
   "cell_type": "markdown",
   "source": [
    "# First level"
   ],
   "metadata": {
    "collapsed": false,
    "pycharm": {
     "name": "#%% md\n"
    }
   }
  },
  {
   "cell_type": "code",
   "execution_count": 53,
   "outputs": [
    {
     "name": "stdout",
     "output_type": "stream",
     "text": [
      "Found previous pickle file, using that\n"
     ]
    }
   ],
   "source": [
    "pickle_name = 'stats_first_level.pickle'\n",
    "aggregation_level = 1\n",
    "\n",
    "first_lvl_stats = {}\n",
    "\n",
    "try:\n",
    "    first_lvl_stats = pickle.load(open(results_path + pickle_name, 'rb'))\n",
    "    print('Found previous pickle file, using that')\n",
    "except:\n",
    "    print('No previous results found, starting fresh')"
   ],
   "metadata": {
    "collapsed": false,
    "pycharm": {
     "name": "#%%\n"
    }
   }
  },
  {
   "cell_type": "code",
   "execution_count": 54,
   "outputs": [
    {
     "name": "stdout",
     "output_type": "stream",
     "text": [
      "Results for file \u001B[1mDATGAN_01\u001B[0m (1/25) already exists!\n",
      "Results for file \u001B[1mDATGAN2_01\u001B[0m (2/25) already exists!\n",
      "Results for file \u001B[1mciDATGAN_01\u001B[0m (3/25) already exists!\n",
      "Results for file \u001B[1mciDATGAN2_01\u001B[0m (4/25) already exists!\n",
      "Preparing stats for file \u001B[1mciDATGAN3_01\u001B[0m (5/25)\n",
      "Results for file \u001B[1mDATGAN_02\u001B[0m (6/25) already exists!\n",
      "Results for file \u001B[1mDATGAN2_02\u001B[0m (7/25) already exists!\n",
      "Results for file \u001B[1mciDATGAN_02\u001B[0m (8/25) already exists!\n",
      "Results for file \u001B[1mciDATGAN2_02\u001B[0m (9/25) already exists!\n",
      "Preparing stats for file \u001B[1mciDATGAN3_02\u001B[0m (10/25)\n",
      "Results for file \u001B[1mDATGAN_03\u001B[0m (11/25) already exists!\n",
      "Results for file \u001B[1mDATGAN2_03\u001B[0m (12/25) already exists!\n",
      "Results for file \u001B[1mciDATGAN_03\u001B[0m (13/25) already exists!\n",
      "Results for file \u001B[1mciDATGAN2_03\u001B[0m (14/25) already exists!\n",
      "Preparing stats for file \u001B[1mciDATGAN3_03\u001B[0m (15/25)\n",
      "Results for file \u001B[1mDATGAN_04\u001B[0m (16/25) already exists!\n",
      "Results for file \u001B[1mDATGAN2_04\u001B[0m (17/25) already exists!\n",
      "Results for file \u001B[1mciDATGAN_04\u001B[0m (18/25) already exists!\n",
      "Results for file \u001B[1mciDATGAN2_04\u001B[0m (19/25) already exists!\n",
      "Preparing stats for file \u001B[1mciDATGAN3_04\u001B[0m (20/25)\n",
      "Results for file \u001B[1mDATGAN_05\u001B[0m (21/25) already exists!\n",
      "Results for file \u001B[1mDATGAN2_05\u001B[0m (22/25) already exists!\n",
      "Results for file \u001B[1mciDATGAN_05\u001B[0m (23/25) already exists!\n",
      "Results for file \u001B[1mciDATGAN2_05\u001B[0m (24/25) already exists!\n",
      "Preparing stats for file \u001B[1mciDATGAN3_05\u001B[0m (25/25)\n",
      "\u001B[1mFINISHED!\u001B[0m\n"
     ]
    }
   ],
   "source": [
    "for i, f in enumerate(synth_files):\n",
    "\n",
    "    file_name = f.split('/')[-1].split('.')[0]\n",
    "\n",
    "    if file_name in first_lvl_stats:\n",
    "        print(\"Results for file \\033[1m{}\\033[0m ({}/{}) already exists!\".format(file_name, i+1, len(synth_files)))\n",
    "    else:\n",
    "        print(\"Preparing stats for file \\033[1m{}\\033[0m ({}/{})\".format(file_name, i+1, len(synth_files)))\n",
    "\n",
    "        first_lvl_stats[file_name] = {}\n",
    "\n",
    "        df_synth = pd.read_csv(f, index_col=False)\n",
    "        df_synth = df_synth.sample(len_df).reset_index(drop=True)\n",
    "\n",
    "        stats = stats_assessment(df_orig, df_synth, continuous_columns, aggregation_level, ignore_cols=cond_inputs)\n",
    "\n",
    "        first_lvl_stats[file_name] = stats\n",
    "\n",
    "    pickle.dump(first_lvl_stats, open(results_path + pickle_name, 'wb'))\n",
    "\n",
    "print(\"\\033[1mFINISHED!\\033[0m\")"
   ],
   "metadata": {
    "collapsed": false,
    "pycharm": {
     "name": "#%%\n"
    }
   }
  },
  {
   "cell_type": "code",
   "execution_count": 55,
   "outputs": [],
   "source": [
    "res = {}\n",
    "\n",
    "for test in ['all', 'cont', 'cat']:\n",
    "\n",
    "    res[test] = {}\n",
    "\n",
    "    if test == 'all':\n",
    "        cols = df_orig.columns\n",
    "    elif test == 'cont':\n",
    "        cols = continuous_columns\n",
    "    elif test == 'cat':\n",
    "        cols = set(df_orig.columns) - set(continuous_columns)\n",
    "\n",
    "    cols = set(cols) - set(cond_inputs)\n",
    "\n",
    "    for s in stats_str:\n",
    "        res[test][s] = {}\n",
    "\n",
    "    for m in first_lvl_stats.keys():\n",
    "        for s in stats_str:\n",
    "            res[test][s][m] = []\n",
    "\n",
    "            for c in cols:\n",
    "                res[test][s][m].append(first_lvl_stats[m][c][s])"
   ],
   "metadata": {
    "collapsed": false,
    "pycharm": {
     "name": "#%%\n"
    }
   }
  },
  {
   "cell_type": "code",
   "execution_count": 56,
   "outputs": [],
   "source": [
    "avg = {}\n",
    "\n",
    "for test in ['all', 'cont', 'cat']:\n",
    "\n",
    "    avg[test] = {}\n",
    "\n",
    "    for s in stats_str:\n",
    "        avg[test][s] = {}\n",
    "\n",
    "        for m in first_lvl_stats.keys():\n",
    "            avg[test][s][m] = {\n",
    "                'mean': np.mean(res[test][s][m]),\n",
    "                'std': np.std(res[test][s][m])\n",
    "            }"
   ],
   "metadata": {
    "collapsed": false,
    "pycharm": {
     "name": "#%%\n"
    }
   }
  },
  {
   "cell_type": "code",
   "execution_count": 57,
   "outputs": [
    {
     "name": "stdout",
     "output_type": "stream",
     "text": [
      "Ranking on all columns based on SRMSE:\n",
      "   1. DATGAN2_05      - 8.04e-02 ± 6.79e-02\n",
      "   2. DATGAN2_02      - 8.36e-02 ± 7.23e-02\n",
      "   3. DATGAN2_04      - 8.41e-02 ± 7.46e-02\n",
      "   4. DATGAN2_03      - 8.43e-02 ± 7.50e-02\n",
      "   5. DATGAN2_01      - 8.52e-02 ± 7.44e-02\n",
      "   6. ciDATGAN_03     - 8.78e-02 ± 8.02e-02\n",
      "   7. DATGAN_02       - 9.13e-02 ± 5.36e-02\n",
      "   8. DATGAN_01       - 9.49e-02 ± 5.42e-02\n",
      "   9. ciDATGAN_05     - 9.53e-02 ± 8.10e-02\n",
      "  10. ciDATGAN3_04    - 9.54e-02 ± 8.29e-02\n",
      "  11. ciDATGAN_01     - 9.65e-02 ± 8.09e-02\n",
      "  12. ciDATGAN_04     - 9.69e-02 ± 8.03e-02\n",
      "  13. ciDATGAN_02     - 9.72e-02 ± 8.12e-02\n",
      "  14. DATGAN_04       - 9.83e-02 ± 5.50e-02\n",
      "  15. ciDATGAN3_03    - 9.83e-02 ± 8.74e-02\n",
      "  16. ciDATGAN3_01    - 9.83e-02 ± 8.93e-02\n",
      "  17. DATGAN_05       - 9.93e-02 ± 5.73e-02\n",
      "  18. DATGAN_03       - 9.93e-02 ± 5.83e-02\n",
      "  19. ciDATGAN3_05    - 9.96e-02 ± 8.60e-02\n",
      "  20. ciDATGAN3_02    - 1.03e-01 ± 9.15e-02\n",
      "  21. ciDATGAN2_02    - 1.17e-01 ± 1.17e-01\n",
      "  22. ciDATGAN2_03    - 1.17e-01 ± 1.16e-01\n",
      "  23. ciDATGAN2_01    - 1.19e-01 ± 1.18e-01\n",
      "  24. ciDATGAN2_05    - 1.22e-01 ± 1.21e-01\n",
      "  25. ciDATGAN2_04    - 1.24e-01 ± 1.19e-01\n",
      "\n",
      "Ranking on continuous columns based on SRMSE:\n",
      "   1. DATGAN_02       - 1.27e-01 ± 3.24e-02\n",
      "   2. DATGAN2_05      - 1.28e-01 ± 7.32e-02\n",
      "   3. DATGAN2_02      - 1.35e-01 ± 7.74e-02\n",
      "   4. DATGAN_01       - 1.35e-01 ± 2.91e-02\n",
      "   5. DATGAN_05       - 1.39e-01 ± 3.42e-02\n",
      "   6. DATGAN2_01      - 1.40e-01 ± 7.67e-02\n",
      "   7. DATGAN_04       - 1.40e-01 ± 3.23e-02\n",
      "   8. DATGAN2_04      - 1.41e-01 ± 7.38e-02\n",
      "   9. DATGAN_03       - 1.42e-01 ± 3.43e-02\n",
      "  10. DATGAN2_03      - 1.43e-01 ± 7.27e-02\n",
      "  11. ciDATGAN_03     - 1.59e-01 ± 6.43e-02\n",
      "  12. ciDATGAN3_04    - 1.68e-01 ± 6.71e-02\n",
      "  13. ciDATGAN_05     - 1.70e-01 ± 5.71e-02\n",
      "  14. ciDATGAN_04     - 1.71e-01 ± 5.84e-02\n",
      "  15. ciDATGAN_01     - 1.72e-01 ± 5.65e-02\n",
      "  16. ciDATGAN_02     - 1.73e-01 ± 5.77e-02\n",
      "  17. ciDATGAN3_05    - 1.75e-01 ± 6.85e-02\n",
      "  18. ciDATGAN3_01    - 1.76e-01 ± 7.31e-02\n",
      "  19. ciDATGAN3_03    - 1.77e-01 ± 6.61e-02\n",
      "  20. ciDATGAN3_02    - 1.84e-01 ± 7.37e-02\n",
      "  21. ciDATGAN2_03    - 2.08e-01 ± 1.14e-01\n",
      "  22. ciDATGAN2_02    - 2.11e-01 ± 1.10e-01\n",
      "  23. ciDATGAN2_01    - 2.14e-01 ± 1.13e-01\n",
      "  24. ciDATGAN2_04    - 2.19e-01 ± 1.14e-01\n",
      "  25. ciDATGAN2_05    - 2.20e-01 ± 1.14e-01\n",
      "\n",
      "Ranking on categorical columns based on SRMSE:\n",
      "   1. ciDATGAN_03     - 2.58e-02 ± 1.43e-02\n",
      "   2. ciDATGAN_05     - 2.95e-02 ± 1.37e-02\n",
      "   3. ciDATGAN3_03    - 2.98e-02 ± 2.14e-02\n",
      "   4. ciDATGAN3_01    - 2.99e-02 ± 1.60e-02\n",
      "   5. ciDATGAN_01     - 3.06e-02 ± 1.31e-02\n",
      "   6. ciDATGAN_02     - 3.14e-02 ± 1.28e-02\n",
      "   7. ciDATGAN3_04    - 3.20e-02 ± 1.85e-02\n",
      "   8. ciDATGAN_04     - 3.23e-02 ± 1.27e-02\n",
      "   9. ciDATGAN3_02    - 3.30e-02 ± 1.87e-02\n",
      "  10. DATGAN2_03      - 3.31e-02 ± 1.79e-02\n",
      "  11. ciDATGAN3_05    - 3.32e-02 ± 1.86e-02\n",
      "  12. ciDATGAN2_02    - 3.40e-02 ± 1.52e-02\n",
      "  13. DATGAN2_04      - 3.40e-02 ± 1.71e-02\n",
      "  14. ciDATGAN2_01    - 3.64e-02 ± 1.77e-02\n",
      "  15. ciDATGAN2_05    - 3.66e-02 ± 1.45e-02\n",
      "  16. DATGAN2_01      - 3.72e-02 ± 1.73e-02\n",
      "  17. ciDATGAN2_03    - 3.77e-02 ± 2.04e-02\n",
      "  18. DATGAN2_05      - 3.88e-02 ± 1.61e-02\n",
      "  19. DATGAN2_02      - 3.91e-02 ± 1.76e-02\n",
      "  20. ciDATGAN2_04    - 4.17e-02 ± 2.07e-02\n",
      "  21. DATGAN_01       - 5.99e-02 ± 4.63e-02\n",
      "  22. DATGAN_02       - 6.01e-02 ± 4.88e-02\n",
      "  23. DATGAN_04       - 6.14e-02 ± 4.31e-02\n",
      "  24. DATGAN_03       - 6.21e-02 ± 4.86e-02\n",
      "  25. DATGAN_05       - 6.42e-02 ± 5.01e-02\n",
      "\n"
     ]
    }
   ],
   "source": [
    "for test in ['all', 'cont', 'cat']:\n",
    "\n",
    "    if test == 'all':\n",
    "        str_ = 'on all columns'\n",
    "    elif test == 'cont':\n",
    "        str_ = 'on continuous columns'\n",
    "    elif test == 'cat':\n",
    "        str_ = 'on categorical columns'\n",
    "\n",
    "    for s in ['srmse']:#stats:\n",
    "        print('Ranking {} based on {}:'.format(str_, s.upper()))\n",
    "\n",
    "        if s in ['r2', 'corr']:\n",
    "            sorted_dct = {k: v for k, v in sorted(avg[test][s].items(), key=lambda item: item[1]['mean'])[::-1]}\n",
    "        else:\n",
    "            sorted_dct = {k: v for k, v in sorted(avg[test][s].items(), key=lambda item: item[1]['mean'])}\n",
    "\n",
    "        for i, item in enumerate(sorted_dct):\n",
    "            print('  {:>2}. {:<15} - {:.2e} ± {:.2e}'.format(i+1, item, sorted_dct[item]['mean'], sorted_dct[item]['std']))\n",
    "        print()"
   ],
   "metadata": {
    "collapsed": false,
    "pycharm": {
     "name": "#%%\n"
    }
   }
  },
  {
   "cell_type": "markdown",
   "source": [
    "# Second level"
   ],
   "metadata": {
    "collapsed": false,
    "pycharm": {
     "name": "#%% md\n"
    }
   }
  },
  {
   "cell_type": "code",
   "execution_count": 58,
   "outputs": [
    {
     "name": "stdout",
     "output_type": "stream",
     "text": [
      "Found previous pickel file, using that\n"
     ]
    }
   ],
   "source": [
    "pickle_name = 'stats_second_level.pickle'\n",
    "aggregation_level = 2\n",
    "\n",
    "second_lvl_stats = {}\n",
    "\n",
    "try:\n",
    "    second_lvl_stats = pickle.load(open(results_path + pickle_name, 'rb'))\n",
    "    print('Found previous pickel file, using that')\n",
    "except:\n",
    "    print('No previous results found, starting fresh')"
   ],
   "metadata": {
    "collapsed": false,
    "pycharm": {
     "name": "#%%\n"
    }
   }
  },
  {
   "cell_type": "code",
   "execution_count": 59,
   "outputs": [
    {
     "name": "stdout",
     "output_type": "stream",
     "text": [
      "Results for file \u001B[1mDATGAN_01\u001B[0m (1/25) already exists!\n",
      "Results for file \u001B[1mDATGAN2_01\u001B[0m (2/25) already exists!\n",
      "Results for file \u001B[1mciDATGAN_01\u001B[0m (3/25) already exists!\n",
      "Results for file \u001B[1mciDATGAN2_01\u001B[0m (4/25) already exists!\n",
      "Preparing stats for file \u001B[1mciDATGAN3_01\u001B[0m (5/25)\n",
      "Results for file \u001B[1mDATGAN_02\u001B[0m (6/25) already exists!\n",
      "Results for file \u001B[1mDATGAN2_02\u001B[0m (7/25) already exists!\n",
      "Results for file \u001B[1mciDATGAN_02\u001B[0m (8/25) already exists!\n",
      "Results for file \u001B[1mciDATGAN2_02\u001B[0m (9/25) already exists!\n",
      "Preparing stats for file \u001B[1mciDATGAN3_02\u001B[0m (10/25)\n",
      "Results for file \u001B[1mDATGAN_03\u001B[0m (11/25) already exists!\n",
      "Results for file \u001B[1mDATGAN2_03\u001B[0m (12/25) already exists!\n",
      "Results for file \u001B[1mciDATGAN_03\u001B[0m (13/25) already exists!\n",
      "Results for file \u001B[1mciDATGAN2_03\u001B[0m (14/25) already exists!\n",
      "Preparing stats for file \u001B[1mciDATGAN3_03\u001B[0m (15/25)\n",
      "Results for file \u001B[1mDATGAN_04\u001B[0m (16/25) already exists!\n",
      "Results for file \u001B[1mDATGAN2_04\u001B[0m (17/25) already exists!\n",
      "Results for file \u001B[1mciDATGAN_04\u001B[0m (18/25) already exists!\n",
      "Results for file \u001B[1mciDATGAN2_04\u001B[0m (19/25) already exists!\n",
      "Preparing stats for file \u001B[1mciDATGAN3_04\u001B[0m (20/25)\n",
      "Results for file \u001B[1mDATGAN_05\u001B[0m (21/25) already exists!\n",
      "Results for file \u001B[1mDATGAN2_05\u001B[0m (22/25) already exists!\n",
      "Results for file \u001B[1mciDATGAN_05\u001B[0m (23/25) already exists!\n",
      "Results for file \u001B[1mciDATGAN2_05\u001B[0m (24/25) already exists!\n",
      "Preparing stats for file \u001B[1mciDATGAN3_05\u001B[0m (25/25)\n",
      "\u001B[1mFINISHED!\u001B[0m\n"
     ]
    }
   ],
   "source": [
    "for i, f in enumerate(synth_files):\n",
    "\n",
    "    file_name = f.split('/')[-1].split('.')[0]\n",
    "\n",
    "    if file_name in second_lvl_stats:\n",
    "        print(\"Results for file \\033[1m{}\\033[0m ({}/{}) already exists!\".format(file_name, i+1, len(synth_files)))\n",
    "    else:\n",
    "        print(\"Preparing stats for file \\033[1m{}\\033[0m ({}/{})\".format(file_name, i+1, len(synth_files)))\n",
    "\n",
    "        second_lvl_stats[file_name] = {}\n",
    "\n",
    "        df_synth = pd.read_csv(f, index_col=False)\n",
    "        df_synth = df_synth.sample(len_df).reset_index(drop=True)\n",
    "\n",
    "        stats = stats_assessment(df_orig, df_synth, continuous_columns, aggregation_level, ignore_cols=cond_inputs)\n",
    "\n",
    "        second_lvl_stats[file_name] = stats\n",
    "\n",
    "    pickle.dump(second_lvl_stats, open(results_path + pickle_name, 'wb'))\n",
    "\n",
    "print(\"\\033[1mFINISHED!\\033[0m\")"
   ],
   "metadata": {
    "collapsed": false,
    "pycharm": {
     "name": "#%%\n"
    }
   }
  },
  {
   "cell_type": "code",
   "execution_count": 60,
   "outputs": [],
   "source": [
    "res = {}\n",
    "\n",
    "for s in stats_str:\n",
    "    res[s] = {}\n",
    "\n",
    "for m in second_lvl_stats.keys():\n",
    "\n",
    "    for s in stats_str:\n",
    "        res[s][m] = []\n",
    "\n",
    "        for c in second_lvl_stats[m].keys():\n",
    "            res[s][m].append(second_lvl_stats[m][c][s])"
   ],
   "metadata": {
    "collapsed": false,
    "pycharm": {
     "name": "#%%\n"
    }
   }
  },
  {
   "cell_type": "code",
   "execution_count": 61,
   "outputs": [],
   "source": [
    "avg = {}\n",
    "\n",
    "for s in stats_str:\n",
    "    avg[s] = {}\n",
    "\n",
    "    for m in first_lvl_stats.keys():\n",
    "        avg[s][m] = {\n",
    "            'mean': np.mean(res[s][m]),\n",
    "            'std': np.std(res[s][m])\n",
    "        }"
   ],
   "metadata": {
    "collapsed": false,
    "pycharm": {
     "name": "#%%\n"
    }
   }
  },
  {
   "cell_type": "code",
   "execution_count": 62,
   "outputs": [
    {
     "name": "stdout",
     "output_type": "stream",
     "text": [
      "Ranking based on SRMSE for aggregation level 2:\n",
      "   1. DATGAN_02       - 2.63e-01 ± 1.18e-01\n",
      "   2. ciDATGAN_03     - 2.64e-01 ± 1.76e-01\n",
      "   3. DATGAN_01       - 2.66e-01 ± 1.20e-01\n",
      "   4. ciDATGAN_01     - 2.69e-01 ± 1.66e-01\n",
      "   5. DATGAN2_05      - 2.69e-01 ± 1.56e-01\n",
      "   6. DATGAN2_03      - 2.71e-01 ± 1.54e-01\n",
      "   7. ciDATGAN_05     - 2.71e-01 ± 1.72e-01\n",
      "   8. DATGAN_04       - 2.72e-01 ± 1.17e-01\n",
      "   9. ciDATGAN_04     - 2.74e-01 ± 1.68e-01\n",
      "  10. ciDATGAN_02     - 2.74e-01 ± 1.71e-01\n",
      "  11. DATGAN_03       - 2.74e-01 ± 1.22e-01\n",
      "  12. DATGAN2_01      - 2.74e-01 ± 1.61e-01\n",
      "  13. DATGAN2_02      - 2.76e-01 ± 1.57e-01\n",
      "  14. DATGAN_05       - 2.76e-01 ± 1.21e-01\n",
      "  15. DATGAN2_04      - 2.83e-01 ± 1.70e-01\n",
      "  16. ciDATGAN3_04    - 2.83e-01 ± 1.80e-01\n",
      "  17. ciDATGAN3_01    - 2.86e-01 ± 1.82e-01\n",
      "  18. ciDATGAN3_05    - 2.90e-01 ± 1.84e-01\n",
      "  19. ciDATGAN3_03    - 2.91e-01 ± 1.86e-01\n",
      "  20. ciDATGAN3_02    - 2.99e-01 ± 1.92e-01\n",
      "  21. ciDATGAN2_02    - 3.14e-01 ± 2.18e-01\n",
      "  22. ciDATGAN2_03    - 3.15e-01 ± 2.22e-01\n",
      "  23. ciDATGAN2_01    - 3.17e-01 ± 2.17e-01\n",
      "  24. ciDATGAN2_05    - 3.19e-01 ± 2.22e-01\n",
      "  25. ciDATGAN2_04    - 3.25e-01 ± 2.21e-01\n",
      "\n"
     ]
    }
   ],
   "source": [
    "for s in ['srmse']:#stats:\n",
    "    print('Ranking based on {} for aggregation level {}:'.format(s.upper(), aggregation_level))\n",
    "\n",
    "    if s in ['r2', 'corr']:\n",
    "        sorted_dct = {k: v for k, v in sorted(avg[s].items(), key=lambda item: item[1]['mean'])[::-1]}\n",
    "    else:\n",
    "        sorted_dct = {k: v for k, v in sorted(avg[s].items(), key=lambda item: item[1]['mean'])}\n",
    "\n",
    "    for i, item in enumerate(sorted_dct):\n",
    "        print('  {:>2}. {:<15} - {:.2e} ± {:.2e}'.format(i+1, item, sorted_dct[item]['mean'], sorted_dct[item]['std']))\n",
    "    print()"
   ],
   "metadata": {
    "collapsed": false,
    "pycharm": {
     "name": "#%%\n"
    }
   }
  },
  {
   "cell_type": "markdown",
   "source": [
    "# ML efficacy"
   ],
   "metadata": {
    "collapsed": false,
    "pycharm": {
     "name": "#%% md\n"
    }
   }
  },
  {
   "cell_type": "code",
   "execution_count": 63,
   "outputs": [],
   "source": [
    "def check_low_appearing_vars(df):\n",
    "\n",
    "    for c in df.columns:\n",
    "        val = df[c].value_counts()\n",
    "        if len(val) < 20:\n",
    "            val = val/len(df)\n",
    "            if any(val < 0.01) and c != 'choice':\n",
    "                print('Variable {}: '.format(c))\n",
    "                for idx, v in zip(val.index, val):\n",
    "                    if v < 0.01:\n",
    "                        print('  {} - {:.2f}% ({:d})'.format(idx, 100*v, int(v*len(df))))\n",
    "                print()\n",
    "\n",
    "def replace_low_appearing_values(df):\n",
    "\n",
    "    dct_ = {}\n",
    "    for i in df['hh_vehicles'].unique():\n",
    "        if i >= 3:\n",
    "            dct_[i] = '3+'\n",
    "        else:\n",
    "            dct_[i] = str(i)\n",
    "    df['hh_vehicles'].replace(dct_, inplace=True)\n",
    "\n",
    "    dct_ = {}\n",
    "    for i in df['hh_people'].unique():\n",
    "        if i >= 6:\n",
    "            dct_[i] = '6+'\n",
    "        else:\n",
    "            dct_[i] = str(i)\n",
    "    df['hh_people'].replace(dct_, inplace=True)"
   ],
   "metadata": {
    "collapsed": false,
    "pycharm": {
     "name": "#%%\n"
    }
   }
  },
  {
   "cell_type": "code",
   "execution_count": 64,
   "outputs": [
    {
     "name": "stdout",
     "output_type": "stream",
     "text": [
      "Variable hh_vehicles: \n",
      "  4 - 0.52% (88)\n",
      "  5 - 0.12% (21)\n",
      "  6 - 0.02% (3)\n",
      "  8 - 0.02% (3)\n",
      "  7 - 0.01% (2)\n",
      "\n",
      "Variable hh_people: \n",
      "  7 - 0.70% (118)\n",
      "  8 - 0.18% (31)\n",
      "  9 - 0.08% (13)\n",
      "  10 - 0.03% (5)\n",
      "  11 - 0.02% (3)\n",
      "\n"
     ]
    }
   ],
   "source": [
    "check_low_appearing_vars(df_orig)"
   ],
   "metadata": {
    "collapsed": false,
    "pycharm": {
     "name": "#%%\n"
    }
   }
  },
  {
   "cell_type": "code",
   "execution_count": 65,
   "outputs": [],
   "source": [
    "replace_low_appearing_values(df_orig)"
   ],
   "metadata": {
    "collapsed": false,
    "pycharm": {
     "name": "#%%\n"
    }
   }
  },
  {
   "cell_type": "code",
   "execution_count": 66,
   "outputs": [],
   "source": [
    "check_low_appearing_vars(df_orig)"
   ],
   "metadata": {
    "collapsed": false,
    "pycharm": {
     "name": "#%%\n"
    }
   }
  },
  {
   "cell_type": "code",
   "execution_count": 67,
   "outputs": [],
   "source": [
    "categorical_columns = list(set(df_orig.columns) - set(continuous_columns))"
   ],
   "metadata": {
    "collapsed": false,
    "pycharm": {
     "name": "#%%\n"
    }
   }
  },
  {
   "cell_type": "code",
   "execution_count": 68,
   "outputs": [],
   "source": [
    "enc = OrdinalEncoder()\n",
    "df_orig[categorical_columns] = enc.fit_transform(df_orig[categorical_columns])"
   ],
   "metadata": {
    "collapsed": false,
    "pycharm": {
     "name": "#%%\n"
    }
   }
  },
  {
   "cell_type": "code",
   "execution_count": 69,
   "outputs": [
    {
     "name": "stdout",
     "output_type": "stream",
     "text": [
      "Found previous pickel file, using that\n"
     ]
    }
   ],
   "source": [
    "pickle_name = 'ml_efficacy.pickle'\n",
    "\n",
    "cv_modelscores = {}\n",
    "\n",
    "try:\n",
    "    cv_modelscores = pickle.load(open(results_path + pickle_name, 'rb'))\n",
    "    print('Found previous pickel file, using that')\n",
    "except:\n",
    "    print('No previous results found, starting fresh')"
   ],
   "metadata": {
    "collapsed": false,
    "pycharm": {
     "name": "#%%\n"
    }
   }
  },
  {
   "cell_type": "code",
   "execution_count": 70,
   "outputs": [
    {
     "name": "stdout",
     "output_type": "stream",
     "text": [
      "Results for file \u001B[1mDATGAN_01\u001B[0m (1/25) already exists!\n",
      "Results for file \u001B[1mDATGAN2_01\u001B[0m (2/25) already exists!\n",
      "Results for file \u001B[1mciDATGAN_01\u001B[0m (3/25) already exists!\n",
      "Results for file \u001B[1mciDATGAN2_01\u001B[0m (4/25) already exists!\n",
      "Preparing stats for file \u001B[1mciDATGAN3_01\u001B[0m (5/25)\n",
      "Results for file \u001B[1mDATGAN_02\u001B[0m (6/25) already exists!\n",
      "Results for file \u001B[1mDATGAN2_02\u001B[0m (7/25) already exists!\n",
      "Results for file \u001B[1mciDATGAN_02\u001B[0m (8/25) already exists!\n",
      "Results for file \u001B[1mciDATGAN2_02\u001B[0m (9/25) already exists!\n",
      "Preparing stats for file \u001B[1mciDATGAN3_02\u001B[0m (10/25)\n",
      "Results for file \u001B[1mDATGAN_03\u001B[0m (11/25) already exists!\n",
      "Results for file \u001B[1mDATGAN2_03\u001B[0m (12/25) already exists!\n",
      "Results for file \u001B[1mciDATGAN_03\u001B[0m (13/25) already exists!\n",
      "Results for file \u001B[1mciDATGAN2_03\u001B[0m (14/25) already exists!\n",
      "Preparing stats for file \u001B[1mciDATGAN3_03\u001B[0m (15/25)\n",
      "Results for file \u001B[1mDATGAN_04\u001B[0m (16/25) already exists!\n",
      "Results for file \u001B[1mDATGAN2_04\u001B[0m (17/25) already exists!\n",
      "Results for file \u001B[1mciDATGAN_04\u001B[0m (18/25) already exists!\n",
      "Results for file \u001B[1mciDATGAN2_04\u001B[0m (19/25) already exists!\n",
      "Preparing stats for file \u001B[1mciDATGAN3_04\u001B[0m (20/25)\n",
      "Results for file \u001B[1mDATGAN_05\u001B[0m (21/25) already exists!\n",
      "Results for file \u001B[1mDATGAN2_05\u001B[0m (22/25) already exists!\n",
      "Results for file \u001B[1mciDATGAN_05\u001B[0m (23/25) already exists!\n",
      "Results for file \u001B[1mciDATGAN2_05\u001B[0m (24/25) already exists!\n",
      "Preparing stats for file \u001B[1mciDATGAN3_05\u001B[0m (25/25)\n",
      "\u001B[1mFINISHED!\u001B[0m                          \n"
     ]
    }
   ],
   "source": [
    "for i, f in enumerate(synth_files):\n",
    "\n",
    "    file_name = f.split('/')[-1].split('.')[0]\n",
    "\n",
    "    if file_name in cv_modelscores:\n",
    "        print(\"Results for file \\033[1m{}\\033[0m ({}/{}) already exists!\".format(file_name, i+1, len(synth_files)))\n",
    "    else:\n",
    "        print(\"Preparing stats for file \\033[1m{}\\033[0m ({}/{})\".format(file_name, i+1, len(synth_files)))\n",
    "\n",
    "        cv_modelscores[file_name] = {}\n",
    "\n",
    "        # Load the synthetic dataset\n",
    "        df_synth = pd.read_csv(f, index_col=False)\n",
    "        df_synth = df_synth.sample(len_df).reset_index(drop=True)\n",
    "\n",
    "        # Replace the values rarely appearing\n",
    "        replace_low_appearing_values(df_synth)\n",
    "\n",
    "        # Encode the synthetic dataset\n",
    "        df_synth[categorical_columns] = enc.transform(df_synth[categorical_columns])\n",
    "\n",
    "        res = ml_assessment(df_orig, df_synth, continuous_columns, categorical_columns, ignore_cols=cond_inputs)\n",
    "\n",
    "        cv_modelscores[file_name] = res\n",
    "\n",
    "    pickle.dump(cv_modelscores, open(results_path + pickle_name, 'wb'))\n",
    "\n",
    "print(\"\\033[1mFINISHED!\\033[0m\")"
   ],
   "metadata": {
    "collapsed": false,
    "pycharm": {
     "name": "#%%\n"
    }
   }
  },
  {
   "cell_type": "code",
   "execution_count": 71,
   "outputs": [
    {
     "name": "stdout",
     "output_type": "stream",
     "text": [
      "Results for file \u001B[1moriginal\u001B[0m already exists!\n"
     ]
    }
   ],
   "source": [
    "if 'original' in cv_modelscores:\n",
    "    print(\"Results for file \\033[1m{}\\033[0m already exists!\".format('original'))\n",
    "else:\n",
    "    print(\"Preparing stats for file \\033[1m{}\\033[0m\".format('original'))\n",
    "\n",
    "    res = ml_assessment(df_orig, df_orig, continuous_columns, categorical_columns, ignore_cols=cond_inputs)\n",
    "    cv_modelscores['original'] = res\n",
    "    pickle.dump(cv_modelscores, open(results_path + pickle_name, 'wb'))\n",
    "    print(\"\\033[1mFINISHED!\\033[0m\")"
   ],
   "metadata": {
    "collapsed": false,
    "pycharm": {
     "name": "#%%\n"
    }
   }
  },
  {
   "cell_type": "code",
   "execution_count": 72,
   "outputs": [],
   "source": [
    "cont_sorted, cat_sorted = transform_results(cv_modelscores, continuous_columns, categorical_columns, ignore_cols=cond_inputs)"
   ],
   "metadata": {
    "collapsed": false,
    "pycharm": {
     "name": "#%%\n"
    }
   }
  },
  {
   "cell_type": "code",
   "execution_count": 73,
   "outputs": [
    {
     "name": "stdout",
     "output_type": "stream",
     "text": [
      "   | categorical                    | continuous                    \n",
      "-----------------------------------------------------------\n",
      " 1 | original    : -1.274           | original    : 5.381           \n",
      " 2 | ciDATGAN2_01: 0.603            | DATGAN_03   : 13.130          \n",
      " 3 | ciDATGAN3_05: 0.611            | DATGAN_04   : 13.208          \n",
      " 4 | ciDATGAN3_02: 0.615            | DATGAN2_01  : 13.220          \n",
      " 5 | ciDATGAN3_03: 0.621            | DATGAN_02   : 13.284          \n",
      " 6 | ciDATGAN2_03: 0.623            | DATGAN2_03  : 13.332          \n",
      " 7 | ciDATGAN2_04: 0.623            | DATGAN2_05  : 13.454          \n",
      " 8 | ciDATGAN3_01: 0.624            | DATGAN_01   : 13.468          \n",
      " 9 | ciDATGAN3_04: 0.631            | DATGAN_05   : 13.546          \n",
      "10 | ciDATGAN2_02: 0.633            | DATGAN2_02  : 13.796          \n",
      "11 | ciDATGAN2_05: 0.635            | DATGAN2_04  : 13.803          \n",
      "12 | ciDATGAN_05 : 0.650            | ciDATGAN_05 : 17.163          \n",
      "13 | ciDATGAN_04 : 0.650            | ciDATGAN_01 : 17.484          \n",
      "14 | ciDATGAN_03 : 0.674            | ciDATGAN_02 : 17.500          \n",
      "15 | ciDATGAN_02 : 0.674            | ciDATGAN_03 : 17.500          \n",
      "16 | ciDATGAN_01 : 0.688            | ciDATGAN_04 : 17.875          \n",
      "17 | DATGAN2_05  : 0.901            | ciDATGAN2_04: 18.176          \n",
      "18 | DATGAN_03   : 0.903            | ciDATGAN2_02: 18.777          \n",
      "19 | DATGAN_04   : 0.905            | ciDATGAN2_01: 18.955          \n",
      "20 | DATGAN_01   : 0.906            | ciDATGAN2_03: 18.995          \n",
      "21 | DATGAN_02   : 0.909            | ciDATGAN2_05: 19.130          \n",
      "22 | DATGAN_05   : 0.914            | ciDATGAN3_03: 22.443          \n",
      "23 | DATGAN2_03  : 0.915            | ciDATGAN3_02: 22.509          \n",
      "24 | DATGAN2_01  : 0.930            | ciDATGAN3_05: 22.519          \n",
      "25 | DATGAN2_04  : 0.938            | ciDATGAN3_04: 22.610          \n",
      "26 | DATGAN2_02  : 0.975            | ciDATGAN3_01: 22.632          \n"
     ]
    }
   ],
   "source": [
    "i=1\n",
    "print('   | {:<30} | {:<30}'.format('categorical', 'continuous'))\n",
    "print('-----------------------------------------------------------')\n",
    "for a, b in zip(cat_sorted, cont_sorted):\n",
    "    print('{:>2} | {:<30} | {:<30}'.format(i, '{:<12}: {:.3f}'.format(a[0], a[1]), '{:<12}: {:.3f}'.format(b[0], b[1])))\n",
    "    i+=1"
   ],
   "metadata": {
    "collapsed": false,
    "pycharm": {
     "name": "#%%\n"
    }
   }
  },
  {
   "cell_type": "code",
   "execution_count": null,
   "outputs": [],
   "source": [],
   "metadata": {
    "collapsed": false,
    "pycharm": {
     "name": "#%%\n"
    }
   }
  }
 ],
 "metadata": {
  "kernelspec": {
   "name": "dev",
   "language": "python",
   "display_name": "dev"
  },
  "language_info": {
   "codemirror_mode": {
    "name": "ipython",
    "version": 2
   },
   "file_extension": ".py",
   "mimetype": "text/x-python",
   "name": "python",
   "nbconvert_exporter": "python",
   "pygments_lexer": "ipython2",
   "version": "2.7.6"
  }
 },
 "nbformat": 4,
 "nbformat_minor": 0
}