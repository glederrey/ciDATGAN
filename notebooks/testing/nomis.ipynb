{
 "cells": [
  {
   "cell_type": "code",
   "execution_count": 2,
   "metadata": {
    "collapsed": true
   },
   "outputs": [],
   "source": [
    "import matplotlib.colors\n",
    "import pandas\n",
    "import pandas as pd\n",
    "import numpy as np\n",
    "import matplotlib.pyplot as plt\n",
    "import random\n",
    "from tqdm import tqdm\n",
    "\n",
    "import seaborn as sns\n",
    "sns.set_style(\"whitegrid\")\n",
    "\n",
    "import urllib3\n",
    "import os\n",
    "import matplotlib\n",
    "\n",
    "# For the Python notebook\n",
    "%matplotlib inline\n",
    "%reload_ext autoreload\n",
    "%autoreload 2"
   ]
  },
  {
   "cell_type": "code",
   "execution_count": 3,
   "outputs": [],
   "source": [
    "http = urllib3.PoolManager()"
   ],
   "metadata": {
    "collapsed": false,
    "pycharm": {
     "name": "#%%\n"
    }
   }
  },
  {
   "cell_type": "code",
   "execution_count": 4,
   "outputs": [],
   "source": [
    "regions = {\n",
    "    'Camden': 1946157246,\n",
    "    'City of London': 1946157247,\n",
    "    'Hackney': 1946157248,\n",
    "    'Haringey': 1946157250,\n",
    "    'Islington': 1946157251,\n",
    "    'Kensington and Chelsea': 1946157252,\n",
    "    'Lambeth': 1946157253,\n",
    "    'Lewisham': 1946157254,\n",
    "    'Newham': 1946157255,\n",
    "    'Southwark': 1946157256,\n",
    "    'Tower Hamlets': 1946157257,\n",
    "    'Wandsworth': 1946157258,\n",
    "    'Westminster': 1946157259,\n",
    "    'Barking and Dagenham': 1946157260,\n",
    "    'Barnet': 1946157261,\n",
    "    'Bexley': 1946157262,\n",
    "    'Brent': 1946157263,\n",
    "    'Bromley': 1946157264,\n",
    "    'Croydon': 1946157265,\n",
    "    'Ealing': 1946157266,\n",
    "    'Enfield': 1946157267,\n",
    "    'Greenwich': 1946157268,\n",
    "    'Harrow': 1946157269,\n",
    "    'Havering': 1946157270,\n",
    "    'Hillingdon': 1946157271,\n",
    "    'Hounslow': 1946157272,\n",
    "    'Kingston upon Thames': 1946157273,\n",
    "    'Merton': 1946157274,\n",
    "    'Redbridge': 1946157275,\n",
    "    'Richmond upon Thames': 1946157276,\n",
    "    'Sutton': 1946157277,\n",
    "    'Waltham Forest': 1946157278,\n",
    "    'Hammersmith & Fulham': 1946157249,\n",
    "}"
   ],
   "metadata": {
    "collapsed": false,
    "pycharm": {
     "name": "#%%\n"
    }
   }
  },
  {
   "cell_type": "code",
   "execution_count": 5,
   "outputs": [],
   "source": [
    "def compute_stats(freq_list_orig, freq_list_synth):\n",
    "    \"\"\"\n",
    "    Compute different statistics (MAE, RMSE, SMRSE, R^2, and Pearson's correlation) on two frequency lists.\n",
    "\n",
    "    Parameters\n",
    "    ----------\n",
    "    freq_list_orig: numpy.ndarray\n",
    "        Frequency list for the original data\n",
    "    freq_list_synth: numpy.ndarray\n",
    "        Frequency list for the synthetic data\n",
    "\n",
    "    Returns\n",
    "    -------\n",
    "    stat: dict\n",
    "        Dictionary of the stats between the two lists\n",
    "    \"\"\"\n",
    "\n",
    "    freq_list_orig, freq_list_synth = np.array(freq_list_orig), np.array(freq_list_synth)\n",
    "    corr_mat = np.corrcoef(freq_list_orig, freq_list_synth)\n",
    "    corr = corr_mat[0, 1]\n",
    "    if np.isnan(corr): corr = 0.0\n",
    "    # MAE\n",
    "    mae = np.absolute(freq_list_orig - freq_list_synth).mean()\n",
    "    # RMSE\n",
    "    rmse = np.linalg.norm(freq_list_orig - freq_list_synth) / np.sqrt(len(freq_list_orig))\n",
    "    # SRMSE\n",
    "    freq_list_orig_avg = freq_list_orig.mean()\n",
    "    srmse = rmse / freq_list_orig_avg\n",
    "    # r-square\n",
    "    u = np.sum((freq_list_synth - freq_list_orig) ** 2)\n",
    "    v = np.sum((freq_list_orig - freq_list_orig_avg) ** 2)\n",
    "    r2 = 1.0 - u / v\n",
    "    stat = {'mae': mae, 'rmse': rmse, 'r2': r2, 'srmse': srmse, 'corr': corr}\n",
    "\n",
    "    return stat\n",
    "\n",
    "stats_str = ['mae', 'rmse', 'r2', 'srmse', 'corr']\n",
    "labels = ['NOMIS', 'LPMC', 'DATGAN', 'ciDATGAN']\n",
    "colrs = ['black', 'lightgrey', 'darkgrey', 'red']\n",
    "\n",
    "colors = [matplotlib.colors.to_rgba(c) for c in colrs]"
   ],
   "metadata": {
    "collapsed": false,
    "pycharm": {
     "name": "#%%\n"
    }
   }
  },
  {
   "cell_type": "markdown",
   "source": [
    "# Age"
   ],
   "metadata": {
    "collapsed": false,
    "pycharm": {
     "name": "#%% md\n"
    }
   }
  },
  {
   "cell_type": "code",
   "execution_count": 6,
   "outputs": [],
   "source": [
    "bins = [-np.inf, 16, 30, 45, 65, np.inf]\n",
    "bin_labels = ['child', 'young', 'adult', 'old', 'senior']\n",
    "\n",
    "if not os.path.exists('../../figures/age/'):\n",
    "    os.makedirs('../../figures/age/')"
   ],
   "metadata": {
    "collapsed": false,
    "pycharm": {
     "name": "#%%\n"
    }
   }
  },
  {
   "cell_type": "code",
   "execution_count": 7,
   "outputs": [
    {
     "name": "stderr",
     "output_type": "stream",
     "text": [
      "100%|██████████| 33/33 [02:13<00:00,  4.03s/it]\n"
     ]
    }
   ],
   "source": [
    "res = {\n",
    "    'ciDATGAN': {},\n",
    "    'LPMC': {},\n",
    "    'DATGAN': {}\n",
    "}\n",
    "\n",
    "for s in stats_str:\n",
    "    res['ciDATGAN'][s] = []\n",
    "    res['LPMC'][s] = []\n",
    "    res['DATGAN'][s] = []\n",
    "\n",
    "for r in tqdm(regions):\n",
    "\n",
    "    # Nomis data\n",
    "    response = http.request(\"GET\", \"https://www.nomisweb.co.uk/api/v01/dataset/NM_503_1.data.csv?geography={}&rows=c_age&cols=rural_urban&measures=20100\".format(regions[r]))\n",
    "\n",
    "    with open('tmp.txt', 'w') as f:\n",
    "        f.write(response.data.decode('utf-8'))\n",
    "\n",
    "    df = pd.read_csv('tmp.txt')\n",
    "\n",
    "    df = df.sort_values('C_AGE')\n",
    "    df = df.iloc[1:, :]\n",
    "    df.index = list(range(len(df)))\n",
    "\n",
    "    df = df['GROUP 1: OBS_VALUE']\n",
    "\n",
    "    dct = {'age': [df.iloc[:17].sum(), df.iloc[17:31].sum(), df.iloc[31:46].sum(), df.iloc[46:66].sum(), df.iloc[66:].sum()]}\n",
    "\n",
    "    nomis = pd.DataFrame(dct, index=bin_labels)\n",
    "    nomis = nomis['age']\n",
    "    nomis /= nomis.sum()\n",
    "\n",
    "    # Oversampled LPMC data\n",
    "    lpmc = pd.read_csv('../../data/synthetic/LPMC/{}.csv'.format(r))\n",
    "    lpmc['age'] = pd.cut(lpmc['age'], bins=bins, labels=bin_labels)\n",
    "    lpmc = lpmc['age'].value_counts()\n",
    "    lpmc = lpmc.sort_index()\n",
    "    lpmc /= lpmc.sum()\n",
    "\n",
    "    # Rejection sampling DATGAN\n",
    "    datgan = pd.read_csv('../../data/synthetic/DATGAN/{}.csv'.format(r))\n",
    "    datgan['age'] = pd.cut(datgan['age'], bins=bins, labels=bin_labels)\n",
    "    datgan = datgan['age'].value_counts()\n",
    "    datgan = datgan.sort_index()\n",
    "    datgan /= datgan.sum()\n",
    "\n",
    "    # ciDATGAN\n",
    "    cidatgan = pd.read_csv('../../data/synthetic/ciDATGAN/{}.csv'.format(r))\n",
    "    cidatgan['age'] = pd.cut(cidatgan['age'], bins=bins, labels=bin_labels)\n",
    "    cidatgan = cidatgan['age'].value_counts()\n",
    "    cidatgan = cidatgan.sort_index()\n",
    "    cidatgan /= cidatgan.sum()\n",
    "\n",
    "    # Histogram\n",
    "    probs = [nomis, lpmc, datgan, cidatgan]\n",
    "\n",
    "    dct = {}\n",
    "    for l in labels:\n",
    "        dct[l] = []\n",
    "\n",
    "    idx = probs[0].index\n",
    "\n",
    "    for i in idx:\n",
    "        for j, l in enumerate(labels):\n",
    "            try:\n",
    "                val = probs[j].loc[i]\n",
    "            except:\n",
    "                val = 0\n",
    "            dct[l].append(val)\n",
    "\n",
    "    tmp_df = pd.DataFrame(dct, index=idx)\n",
    "\n",
    "    tmp_df.plot(figsize=(10,7), kind='bar', color=colors)\n",
    "\n",
    "    plt.legend()\n",
    "    plt.xticks(rotation=45)\n",
    "    plt.title('Age distribution for {}'.format(r))\n",
    "\n",
    "    plt.savefig('../../figures/age/{}.png'.format(r), bbox_inches='tight')\n",
    "    plt.close()\n",
    "\n",
    "    # Compute the stats\n",
    "    res1 = compute_stats(nomis, lpmc)\n",
    "    res2 = compute_stats(nomis, datgan)\n",
    "    res3 = compute_stats(nomis, cidatgan)\n",
    "    for s in stats_str:\n",
    "        res['LPMC'][s].append(res1[s])\n",
    "        res['DATGAN'][s].append(res2[s])\n",
    "        res['ciDATGAN'][s].append(res3[s])"
   ],
   "metadata": {
    "collapsed": false,
    "pycharm": {
     "name": "#%%\n"
    }
   }
  },
  {
   "cell_type": "code",
   "execution_count": 8,
   "outputs": [],
   "source": [
    "for s in stats_str:\n",
    "    tmp = [res['LPMC'][s], res['DATGAN'][s], res['ciDATGAN'][s]]\n",
    "    df = pd.DataFrame(tmp, index=['LPMC', 'DATGAN', 'ciDATGAN'])\n",
    "\n",
    "    plt.figure(figsize=(10,7))\n",
    "\n",
    "    sns.violinplot(data=df.T, palette=colors[1:])\n",
    "\n",
    "    plt.xticks([0,1,2], ['LPMC', 'DATGAN', 'ciDATGAN'])\n",
    "\n",
    "    plt.savefig('../../figures/age/age_{}.png'.format(s), bbox_inches='tight')\n",
    "    plt.savefig('../../figures/age/age_{}.pdf'.format(s), bbox_inches='tight')\n",
    "    plt.close()"
   ],
   "metadata": {
    "collapsed": false,
    "pycharm": {
     "name": "#%%\n"
    }
   }
  },
  {
   "cell_type": "markdown",
   "source": [
    "## Number of people in household"
   ],
   "metadata": {
    "collapsed": false,
    "pycharm": {
     "name": "#%% md\n"
    }
   }
  },
  {
   "cell_type": "code",
   "execution_count": 11,
   "outputs": [],
   "source": [
    "if not os.path.exists('../../figures/hh_people/'):\n",
    "    os.makedirs('../../figures/hh_people/')"
   ],
   "metadata": {
    "collapsed": false,
    "pycharm": {
     "name": "#%%\n"
    }
   }
  },
  {
   "cell_type": "code",
   "execution_count": 12,
   "outputs": [
    {
     "name": "stderr",
     "output_type": "stream",
     "text": [
      "100%|██████████| 33/33 [01:35<00:00,  2.89s/it]\n"
     ]
    }
   ],
   "source": [
    "res = {\n",
    "    'ciDATGAN': {},\n",
    "    'LPMC': {},\n",
    "    'DATGAN': {}\n",
    "}\n",
    "\n",
    "for s in stats_str:\n",
    "    res['ciDATGAN'][s] = []\n",
    "    res['LPMC'][s] = []\n",
    "    res['DATGAN'][s] = []\n",
    "\n",
    "for r in tqdm(regions):\n",
    "\n",
    "    # Nomis data\n",
    "    url = 'https://www.nomisweb.co.uk/api/v01/dataset/NM_538_1.data.csv?geography={}&rows=cell&cols=rural_urban&measures=20100'.format(regions[r])\n",
    "    response = http.request('GET', url)\n",
    "\n",
    "    with open('tmp.txt', 'w') as f:\n",
    "        f.write(response.data.decode('utf-8'))\n",
    "\n",
    "    df = pd.read_csv('tmp.txt')\n",
    "\n",
    "    nomis = list(df['GROUP 1: OBS_VALUE'].iloc[1:])\n",
    "    nomis = np.array(nomis)\n",
    "    nomis = nomis/sum(nomis)\n",
    "\n",
    "    # Oversampled LPMC data\n",
    "    lpmc = pd.read_csv('../../data/synthetic/LPMC/{}.csv'.format(r))\n",
    "    tmp = lpmc['hh_people'].value_counts().sort_index(ascending=True)\n",
    "    lpmc = np.zeros(len(nomis))\n",
    "    for i in tmp.index:\n",
    "        if i-1 >= len(lpmc):\n",
    "            lpmc[len(lpmc)-1] += tmp[i]\n",
    "        else:\n",
    "            lpmc[i-1] = tmp[i]\n",
    "    lpmc /= lpmc.sum()\n",
    "\n",
    "    # Rejection sampling DATGAN\n",
    "    datgan = pd.read_csv('../../data/synthetic/DATGAN/{}.csv'.format(r))\n",
    "    tmp = datgan['hh_people'].value_counts().sort_index(ascending=True)\n",
    "    datgan = np.zeros(len(nomis))\n",
    "    for i in tmp.index:\n",
    "        if i-1 >= len(datgan):\n",
    "            datgan[len(datgan)-1] += tmp[i]\n",
    "        else:\n",
    "            datgan[i-1] = tmp[i]\n",
    "    datgan /= datgan.sum()\n",
    "\n",
    "    # ciDATGAN\n",
    "    cidatgan = pd.read_csv('../../data/synthetic/ciDATGAN/{}.csv'.format(r))\n",
    "    tmp = cidatgan['hh_people'].value_counts().sort_index(ascending=True)\n",
    "    cidatgan = np.zeros(len(nomis))\n",
    "    for i in tmp.index:\n",
    "        if i-1 >= len(cidatgan):\n",
    "            cidatgan[len(cidatgan)-1] += tmp[i]\n",
    "        else:\n",
    "            cidatgan[i-1] = tmp[i]\n",
    "    cidatgan /= cidatgan.sum()\n",
    "\n",
    "    # Histogram\n",
    "    probs = [nomis, lpmc, datgan, cidatgan]\n",
    "\n",
    "    dct = {}\n",
    "    for l in labels:\n",
    "        dct[l] = []\n",
    "\n",
    "    idx = range(1, len(nomis)+1)\n",
    "\n",
    "    for i in idx:\n",
    "        for j, l in enumerate(labels):\n",
    "            try:\n",
    "                val = probs[j][i-1]\n",
    "            except:\n",
    "                val = 0\n",
    "            dct[l].append(val)\n",
    "\n",
    "    tmp_df = pd.DataFrame(dct, index=idx)\n",
    "\n",
    "    tmp_df.plot(figsize=(10,7), kind='bar', color=colors)\n",
    "\n",
    "    plt.legend()\n",
    "    plt.xticks(rotation=45)\n",
    "    plt.title('Distribution of people per household for {}'.format(r))\n",
    "\n",
    "    plt.savefig('../../figures/hh_people/{}.png'.format(r), bbox_inches='tight')\n",
    "    plt.close()\n",
    "\n",
    "    # Compute the stats\n",
    "    res1 = compute_stats(nomis, lpmc)\n",
    "    res2 = compute_stats(nomis, datgan)\n",
    "    res3 = compute_stats(nomis, cidatgan)\n",
    "    for s in stats_str:\n",
    "        res['LPMC'][s].append(res1[s])\n",
    "        res['DATGAN'][s].append(res2[s])\n",
    "        res['ciDATGAN'][s].append(res3[s])"
   ],
   "metadata": {
    "collapsed": false,
    "pycharm": {
     "name": "#%%\n"
    }
   }
  },
  {
   "cell_type": "code",
   "execution_count": 13,
   "outputs": [],
   "source": [
    "for s in stats_str:\n",
    "    tmp = [res['LPMC'][s], res['DATGAN'][s], res['ciDATGAN'][s]]\n",
    "    df = pd.DataFrame(tmp, index=['LPMC', 'DATGAN', 'ciDATGAN'])\n",
    "\n",
    "    plt.figure(figsize=(10,7))\n",
    "\n",
    "    sns.violinplot(data=df.T, palette=colors[1:])\n",
    "\n",
    "    plt.xticks([0,1,2], ['LPMC', 'DATGAN', 'ciDATGAN'])\n",
    "\n",
    "    plt.savefig('../../figures/hh_people/hh_people_{}.png'.format(s), bbox_inches='tight')\n",
    "    plt.savefig('../../figures/hh_people/hh_people_{}.pdf'.format(s), bbox_inches='tight')\n",
    "    plt.close()"
   ],
   "metadata": {
    "collapsed": false,
    "pycharm": {
     "name": "#%%\n"
    }
   }
  },
  {
   "cell_type": "markdown",
   "source": [
    "## Distance travelled to work"
   ],
   "metadata": {
    "collapsed": false,
    "pycharm": {
     "name": "#%% md\n"
    }
   }
  },
  {
   "cell_type": "code",
   "execution_count": 14,
   "outputs": [],
   "source": [
    "bins = [-np.inf, 2000, 5000, 10000, 20000, 30000, 40000, 60000, np.inf]\n",
    "bin_labels = ['<2km', '2-5km', '5-10km', '10-20km', '20-30km', '30-40km', '40-60km', '>60km']\n",
    "\n",
    "if not os.path.exists('../../figures/dist_work/'):\n",
    "    os.makedirs('../../figures/dist_work/')"
   ],
   "metadata": {
    "collapsed": false,
    "pycharm": {
     "name": "#%%\n"
    }
   }
  },
  {
   "cell_type": "code",
   "execution_count": 15,
   "outputs": [
    {
     "name": "stderr",
     "output_type": "stream",
     "text": [
      "100%|██████████| 33/33 [01:36<00:00,  2.93s/it]\n"
     ]
    }
   ],
   "source": [
    "res = {\n",
    "    'ciDATGAN': {},\n",
    "    'LPMC': {},\n",
    "    'DATGAN': {}\n",
    "}\n",
    "\n",
    "for s in stats_str:\n",
    "    res['ciDATGAN'][s] = []\n",
    "    res['LPMC'][s] = []\n",
    "    res['DATGAN'][s] = []\n",
    "\n",
    "for r in tqdm(regions):\n",
    "\n",
    "    # Get the data\n",
    "    url = 'https://www.nomisweb.co.uk/api/v01/dataset/NM_153_1.data.csv?geography={}&rows=cell&cols=rural_urban&measures=20100'.format(regions[r])\n",
    "    response = http.request('GET', url)\n",
    "\n",
    "    with open('tmp.txt', 'w') as f:\n",
    "        f.write(response.data.decode('utf-8'))\n",
    "\n",
    "    df = pd.read_csv('tmp.txt')\n",
    "    df = df.sort_values('CELL')\n",
    "    df.index = df['CELL']\n",
    "\n",
    "    nomis = list(df['GROUP 1: OBS_VALUE'].iloc[1:9])\n",
    "    nomis = pd.Series(nomis, index=bin_labels)\n",
    "    nomis /= nomis.sum()\n",
    "\n",
    "    # Oversampled LPMC data\n",
    "    lpmc = pd.read_csv('../../data/synthetic/LPMC/{}.csv'.format(r))\n",
    "    lpmc['distance'] = pd.cut(lpmc['distance'], bins=bins, labels=bin_labels)\n",
    "    lpmc = lpmc[lpmc['purpose'] == 'HBW']\n",
    "    lpmc = lpmc[((lpmc['age'] >= 16) & (lpmc['age'] <= 74))]\n",
    "    lpmc = lpmc['distance'].value_counts()\n",
    "    lpmc = lpmc\n",
    "    lpmc = lpmc.sort_index()\n",
    "    lpmc /= lpmc.sum()\n",
    "\n",
    "    # Rejection sampling DATGAN\n",
    "    datgan = pd.read_csv('../../data/synthetic/DATGAN/{}.csv'.format(r))\n",
    "    datgan['distance'] = pd.cut(datgan['distance'], bins=bins, labels=bin_labels)\n",
    "    datgan = datgan[datgan['purpose'] == 'HBW']\n",
    "    datgan = datgan[((datgan['age'] >= 16) & (datgan['age'] <= 74))]\n",
    "    datgan = datgan['distance'].value_counts()\n",
    "    datgan = datgan\n",
    "    datgan = datgan.sort_index()\n",
    "    datgan /= datgan.sum()\n",
    "\n",
    "    # ciDATGAN\n",
    "    cidatgan = pd.read_csv('../../data/synthetic/ciDATGAN/{}.csv'.format(r))\n",
    "    cidatgan['distance'] = pd.cut(cidatgan['distance'], bins=bins, labels=bin_labels)\n",
    "    cidatgan = cidatgan[cidatgan['purpose'] == 'HBW']\n",
    "    cidatgan = cidatgan[((cidatgan['age'] >= 16) & (cidatgan['age'] <= 74))]\n",
    "    cidatgan = cidatgan['distance'].value_counts()\n",
    "    cidatgan = cidatgan\n",
    "    cidatgan = cidatgan.sort_index()\n",
    "    cidatgan /= cidatgan.sum()\n",
    "\n",
    "    # Histogram\n",
    "    probs = [nomis, lpmc, datgan, cidatgan]\n",
    "\n",
    "    dct = {}\n",
    "    for l in labels:\n",
    "        dct[l] = []\n",
    "\n",
    "    idx = probs[0].index\n",
    "\n",
    "    for i in idx:\n",
    "        for j, l in enumerate(labels):\n",
    "            try:\n",
    "                val = probs[j].loc[i]\n",
    "            except:\n",
    "                val = 0\n",
    "            dct[l].append(val)\n",
    "\n",
    "    tmp_df = pd.DataFrame(dct, index=idx)\n",
    "\n",
    "    tmp_df.plot(figsize=(10,7), kind='bar', color=colors)\n",
    "\n",
    "    plt.legend()\n",
    "    plt.xticks(rotation=45)\n",
    "    plt.title('Distribution for the distance to work for {}'.format(r))\n",
    "\n",
    "    plt.savefig('../../figures/dist_work/{}.png'.format(r), bbox_inches='tight')\n",
    "    plt.close()\n",
    "\n",
    "    # Compute the stats\n",
    "    res1 = compute_stats(nomis, lpmc)\n",
    "    res2 = compute_stats(nomis, datgan)\n",
    "    res3 = compute_stats(nomis, cidatgan)\n",
    "    for s in stats_str:\n",
    "        res['LPMC'][s].append(res1[s])\n",
    "        res['DATGAN'][s].append(res2[s])\n",
    "        res['ciDATGAN'][s].append(res3[s])"
   ],
   "metadata": {
    "collapsed": false,
    "pycharm": {
     "name": "#%%\n"
    }
   }
  },
  {
   "cell_type": "code",
   "execution_count": 16,
   "outputs": [],
   "source": [
    "for s in stats_str:\n",
    "    tmp = [res['LPMC'][s], res['DATGAN'][s], res['ciDATGAN'][s]]\n",
    "    df = pd.DataFrame(tmp, index=['LPMC', 'DATGAN', 'ciDATGAN'])\n",
    "\n",
    "    plt.figure(figsize=(10,7))\n",
    "\n",
    "    sns.violinplot(data=df.T, palette=colors[1:])\n",
    "\n",
    "    plt.xticks([0,1,2], ['LPMC', 'DATGAN', 'ciDATGAN'])\n",
    "\n",
    "    plt.savefig('../../figures/dist_work/dist_work_{}.png'.format(s), bbox_inches='tight')\n",
    "    plt.savefig('../../figures/dist_work/dist_work_{}.pdf'.format(s), bbox_inches='tight')\n",
    "    plt.close()"
   ],
   "metadata": {
    "collapsed": false,
    "pycharm": {
     "name": "#%%\n"
    }
   }
  },
  {
   "cell_type": "markdown",
   "source": [
    "## Method of travel to work"
   ],
   "metadata": {
    "collapsed": false,
    "pycharm": {
     "name": "#%% md\n"
    }
   }
  },
  {
   "cell_type": "code",
   "execution_count": 17,
   "outputs": [],
   "source": [
    "order = ['pt', 'drive', 'walk', 'cycle']\n",
    "\n",
    "if not os.path.exists('../../figures/mode_work/'):\n",
    "    os.makedirs('../../figures/mode_work/')"
   ],
   "metadata": {
    "collapsed": false,
    "pycharm": {
     "name": "#%%\n"
    }
   }
  },
  {
   "cell_type": "code",
   "execution_count": 18,
   "outputs": [
    {
     "name": "stderr",
     "output_type": "stream",
     "text": [
      "100%|██████████| 33/33 [01:38<00:00,  2.99s/it]\n"
     ]
    }
   ],
   "source": [
    "res = {\n",
    "    'ciDATGAN': {},\n",
    "    'LPMC': {},\n",
    "    'DATGAN': {}\n",
    "}\n",
    "\n",
    "for s in stats_str:\n",
    "    res['ciDATGAN'][s] = []\n",
    "    res['LPMC'][s] = []\n",
    "    res['DATGAN'][s] = []\n",
    "\n",
    "for r in tqdm(regions):\n",
    "\n",
    "    # Get the data\n",
    "    url = 'https://www.nomisweb.co.uk/api/v01/dataset/NM_568_1.data.csv?geography={}&rows=cell&cols=rural_urban&measures=20100'.format(regions[r])\n",
    "    response = http.request('GET', url)\n",
    "\n",
    "    with open('tmp.txt', 'w') as f:\n",
    "        f.write(response.data.decode('utf-8'))\n",
    "\n",
    "    df = pd.read_csv('tmp.txt')\n",
    "    df = df.sort_values('CELL')\n",
    "    df.index = df['CELL']\n",
    "\n",
    "    values = df['GROUP 1: OBS_VALUE']\n",
    "    drive = np.sum(values[6:9])\n",
    "    pt = np.sum(values[2:6])\n",
    "    walk = values[10]\n",
    "    cycle = values[9]\n",
    "\n",
    "    nomis = pd.Series([pt, drive, walk, cycle], index=order)\n",
    "    nomis = nomis.sort_index()\n",
    "    nomis /= nomis.sum()\n",
    "\n",
    "    # Oversampled LPMC data\n",
    "    lpmc = pd.read_csv('../../data/synthetic/LPMC/{}.csv'.format(r))\n",
    "    lpmc = lpmc[lpmc['purpose'] == 'HBW']\n",
    "    lpmc = lpmc[((lpmc['age'] >= 16) & (lpmc['age'] <= 74))]\n",
    "    lpmc = lpmc['travel_mode'].value_counts()\n",
    "    for i in order:\n",
    "        if i not in lpmc.index:\n",
    "            lpmc[i] = 0\n",
    "\n",
    "    lpmc = lpmc.sort_index()\n",
    "    lpmc /= lpmc.sum()\n",
    "\n",
    "    # Rejection sampling DATGAN\n",
    "    datgan = pd.read_csv('../../data/synthetic/DATGAN/{}.csv'.format(r))\n",
    "    datgan = datgan[datgan['purpose'] == 'HBW']\n",
    "    datgan = datgan[((datgan['age'] >= 16) & (datgan['age'] <= 74))]\n",
    "    datgan = datgan['travel_mode'].value_counts()\n",
    "    datgan = datgan.sort_index()\n",
    "    datgan /= datgan.sum()\n",
    "\n",
    "    # ciDATGAN\n",
    "    cidatgan = pd.read_csv('../../data/synthetic/ciDATGAN/{}.csv'.format(r))\n",
    "    cidatgan = cidatgan[cidatgan['purpose'] == 'HBW']\n",
    "    cidatgan = cidatgan[((cidatgan['age'] >= 16) & (cidatgan['age'] <= 74))]\n",
    "    cidatgan = cidatgan['travel_mode'].value_counts()\n",
    "    cidatgan = cidatgan.sort_index()\n",
    "    cidatgan /= cidatgan.sum()\n",
    "\n",
    "    # Histogram\n",
    "    probs = [nomis, lpmc, datgan, cidatgan]\n",
    "\n",
    "    dct = {}\n",
    "    for l in labels:\n",
    "        dct[l] = []\n",
    "\n",
    "    idx = probs[0].index\n",
    "\n",
    "    for i in idx:\n",
    "        for j, l in enumerate(labels):\n",
    "            try:\n",
    "                val = probs[j].loc[i]\n",
    "            except:\n",
    "                val = 0\n",
    "            dct[l].append(val)\n",
    "\n",
    "    tmp_df = pd.DataFrame(dct, index=idx)\n",
    "\n",
    "    tmp_df.plot(figsize=(10,7), kind='bar', color=colors)\n",
    "\n",
    "    plt.legend()\n",
    "    plt.xticks(rotation=45)\n",
    "    plt.title('Distribution for model to work for {}'.format(r))\n",
    "\n",
    "    plt.savefig('../../figures/mode_work/{}.png'.format(r), bbox_inches='tight')\n",
    "    plt.close()\n",
    "\n",
    "    # Compute the stats\n",
    "    res1 = compute_stats(nomis, lpmc)\n",
    "    res2 = compute_stats(nomis, datgan)\n",
    "    res3 = compute_stats(nomis, cidatgan)\n",
    "    for s in stats_str:\n",
    "        res['LPMC'][s].append(res1[s])\n",
    "        res['DATGAN'][s].append(res2[s])\n",
    "        res['ciDATGAN'][s].append(res3[s])"
   ],
   "metadata": {
    "collapsed": false,
    "pycharm": {
     "name": "#%%\n"
    }
   }
  },
  {
   "cell_type": "code",
   "execution_count": 19,
   "outputs": [],
   "source": [
    "for s in stats_str:\n",
    "    tmp = [res['LPMC'][s], res['DATGAN'][s], res['ciDATGAN'][s]]\n",
    "    df = pd.DataFrame(tmp, index=['LPMC', 'DATGAN', 'ciDATGAN'])\n",
    "\n",
    "    plt.figure(figsize=(10,7))\n",
    "\n",
    "    sns.violinplot(data=df.T, palette=colors[1:])\n",
    "\n",
    "    plt.xticks([0,1,2], ['LPMC', 'DATGAN', 'ciDATGAN'])\n",
    "\n",
    "    plt.savefig('../../figures/mode_work/mode_work_{}.png'.format(s), bbox_inches='tight')\n",
    "    plt.savefig('../../figures/mode_work/mode_work_{}.pdf'.format(s), bbox_inches='tight')\n",
    "\n",
    "    plt.close()"
   ],
   "metadata": {
    "collapsed": false,
    "pycharm": {
     "name": "#%%\n"
    }
   }
  },
  {
   "cell_type": "markdown",
   "source": [
    "## Number of cars in the household"
   ],
   "metadata": {
    "collapsed": false,
    "pycharm": {
     "name": "#%% md\n"
    }
   }
  },
  {
   "cell_type": "code",
   "execution_count": 20,
   "outputs": [],
   "source": [
    "if not os.path.exists('../../figures/hh_vehicles/'):\n",
    "    os.makedirs('../../figures/hh_vehicles/')"
   ],
   "metadata": {
    "collapsed": false,
    "pycharm": {
     "name": "#%%\n"
    }
   }
  },
  {
   "cell_type": "code",
   "execution_count": 21,
   "outputs": [
    {
     "name": "stderr",
     "output_type": "stream",
     "text": [
      "100%|██████████| 33/33 [01:34<00:00,  2.86s/it]\n"
     ]
    }
   ],
   "source": [
    "res = {\n",
    "    'ciDATGAN': {},\n",
    "    'LPMC': {},\n",
    "    'DATGAN': {}\n",
    "}\n",
    "\n",
    "for s in stats_str:\n",
    "    res['ciDATGAN'][s] = []\n",
    "    res['LPMC'][s] = []\n",
    "    res['DATGAN'][s] = []\n",
    "\n",
    "for r in tqdm(regions):\n",
    "\n",
    "    # Get the data\n",
    "    url = 'https://www.nomisweb.co.uk/api/v01/dataset/NM_621_1.data.csv?geography={}&rows=cell&cols=rural_urban&measures=20100'.format(regions[r])\n",
    "    response = http.request('GET', url)\n",
    "\n",
    "    with open('tmp.txt', 'w') as f:\n",
    "        f.write(response.data.decode('utf-8'))\n",
    "\n",
    "    df = pd.read_csv('tmp.txt')\n",
    "\n",
    "    nomis = df['GROUP 1: OBS_VALUE'].iloc[1:6]\n",
    "    nomis = np.array(nomis)\n",
    "    nomis = nomis/nomis.sum()\n",
    "\n",
    "    # Oversampled LPMC data\n",
    "    lpmc = pd.read_csv('../../data/synthetic/LPMC/{}.csv'.format(r))\n",
    "    tmp = lpmc['hh_vehicles'].value_counts().sort_index(ascending=True)\n",
    "    lpmc = np.zeros(len(nomis))\n",
    "    for i in tmp.index:\n",
    "        if i-1 >= len(lpmc):\n",
    "            lpmc[len(lpmc)-1] += tmp[i]\n",
    "        else:\n",
    "            lpmc[i-1] = tmp[i]\n",
    "    lpmc /= lpmc.sum()\n",
    "\n",
    "    # Rejection sampling DATGAN\n",
    "    datgan = pd.read_csv('../../data/synthetic/DATGAN/{}.csv'.format(r))\n",
    "    tmp = datgan['hh_vehicles'].value_counts().sort_index(ascending=True)\n",
    "    datgan = np.zeros(len(nomis))\n",
    "    for i in tmp.index:\n",
    "        if i-1 >= len(datgan):\n",
    "            datgan[len(datgan)-1] += tmp[i]\n",
    "        else:\n",
    "            datgan[i-1] = tmp[i]\n",
    "    datgan /= datgan.sum()\n",
    "\n",
    "    # ciDATGAN\n",
    "    cidatgan = pd.read_csv('../../data/synthetic/ciDATGAN/{}.csv'.format(r))\n",
    "    tmp = cidatgan['hh_vehicles'].value_counts().sort_index(ascending=True)\n",
    "    cidatgan = np.zeros(len(nomis))\n",
    "    for i in tmp.index:\n",
    "        if i-1 >= len(cidatgan):\n",
    "            cidatgan[len(cidatgan)-1] += tmp[i]\n",
    "        else:\n",
    "            cidatgan[i-1] = tmp[i]\n",
    "    cidatgan /= cidatgan.sum()\n",
    "\n",
    "    # Histogram\n",
    "    probs = [nomis, lpmc, datgan, cidatgan]\n",
    "\n",
    "    dct = {}\n",
    "    for l in labels:\n",
    "        dct[l] = []\n",
    "\n",
    "    idx = range(1, len(nomis)+1)\n",
    "\n",
    "    for i in idx:\n",
    "        for j, l in enumerate(labels):\n",
    "            try:\n",
    "                val = probs[j][i-1]\n",
    "            except:\n",
    "                val = 0\n",
    "            dct[l].append(val)\n",
    "\n",
    "    tmp_df = pd.DataFrame(dct, index=idx)\n",
    "\n",
    "    tmp_df.plot(figsize=(10,7), kind='bar', color=colors)\n",
    "\n",
    "    plt.legend()\n",
    "    plt.xticks(rotation=45)\n",
    "    plt.title('Distribution of vehicles per household for {}'.format(r))\n",
    "\n",
    "    plt.savefig('../../figures/hh_vehicles/{}.png'.format(r), bbox_inches='tight')\n",
    "    plt.close()\n",
    "\n",
    "    # Compute the stats\n",
    "    res1 = compute_stats(nomis, lpmc)\n",
    "    res2 = compute_stats(nomis, datgan)\n",
    "    res3 = compute_stats(nomis, cidatgan)\n",
    "    for s in stats_str:\n",
    "        res['LPMC'][s].append(res1[s])\n",
    "        res['DATGAN'][s].append(res2[s])\n",
    "        res['ciDATGAN'][s].append(res3[s])"
   ],
   "metadata": {
    "collapsed": false,
    "pycharm": {
     "name": "#%%\n"
    }
   }
  },
  {
   "cell_type": "code",
   "execution_count": 22,
   "outputs": [],
   "source": [
    "for s in stats_str:\n",
    "    tmp = [res['LPMC'][s], res['DATGAN'][s], res['ciDATGAN'][s]]\n",
    "    df = pd.DataFrame(tmp, index=['LPMC', 'DATGAN', 'ciDATGAN'])\n",
    "\n",
    "    plt.figure(figsize=(10,7))\n",
    "\n",
    "    sns.violinplot(data=df.T, palette=colors[1:])\n",
    "\n",
    "    plt.xticks([0,1,2], ['LPMC', 'DATGAN', 'ciDATGAN'])\n",
    "\n",
    "    plt.savefig('../../figures/hh_vehicles/hh_vehicles_{}.png'.format(s), bbox_inches='tight')\n",
    "    plt.savefig('../../figures/hh_vehicles/hh_vehicles_{}.pdf'.format(s), bbox_inches='tight')\n",
    "\n",
    "    plt.close()"
   ],
   "metadata": {
    "collapsed": false,
    "pycharm": {
     "name": "#%%\n"
    }
   }
  },
  {
   "cell_type": "code",
   "execution_count": null,
   "outputs": [],
   "source": [],
   "metadata": {
    "collapsed": false,
    "pycharm": {
     "name": "#%%\n"
    }
   }
  }
 ],
 "metadata": {
  "kernelspec": {
   "name": "dev",
   "language": "python",
   "display_name": "dev"
  },
  "language_info": {
   "codemirror_mode": {
    "name": "ipython",
    "version": 2
   },
   "file_extension": ".py",
   "mimetype": "text/x-python",
   "name": "python",
   "nbconvert_exporter": "python",
   "pygments_lexer": "ipython2",
   "version": "2.7.6"
  }
 },
 "nbformat": 4,
 "nbformat_minor": 0
}