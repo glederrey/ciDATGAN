{
 "cells": [
  {
   "cell_type": "code",
   "execution_count": 13,
   "metadata": {
    "collapsed": true
   },
   "outputs": [],
   "source": [
    "import pandas\n",
    "import pandas as pd\n",
    "import numpy as np\n",
    "import matplotlib.pyplot as plt\n",
    "import random\n",
    "from tqdm import tqdm\n",
    "\n",
    "import seaborn as sns\n",
    "sns.set_style(\"whitegrid\")\n",
    "\n",
    "import urllib3\n",
    "\n",
    "# For the Python notebook\n",
    "%matplotlib inline\n",
    "%reload_ext autoreload\n",
    "%autoreload 2"
   ]
  },
  {
   "cell_type": "code",
   "execution_count": 2,
   "outputs": [],
   "source": [
    "http = urllib3.PoolManager()"
   ],
   "metadata": {
    "collapsed": false,
    "pycharm": {
     "name": "#%%\n"
    }
   }
  },
  {
   "cell_type": "code",
   "execution_count": 3,
   "outputs": [],
   "source": [
    "regions = {\n",
    "    'Camden': 1946157246,\n",
    "    'City of London': 1946157247,\n",
    "    'Hackney': 1946157248,\n",
    "    'Haringey': 1946157250,\n",
    "    'Islington': 1946157251,\n",
    "    'Kensington and Chelsea': 1946157252,\n",
    "    'Lambeth': 1946157253,\n",
    "    'Lewisham': 1946157254,\n",
    "    'Newham': 1946157255,\n",
    "    'Southwark': 1946157256,\n",
    "    'Tower Hamlets': 1946157257,\n",
    "    'Wandsworth': 1946157258,\n",
    "    'Westminster': 1946157259,\n",
    "    'Barking and Dagenham': 1946157260,\n",
    "    'Barnet': 1946157261,\n",
    "    'Bexley': 1946157262,\n",
    "    'Brent': 1946157263,\n",
    "    'Bromley': 1946157264,\n",
    "    'Croydon': 1946157265,\n",
    "    'Ealing': 1946157266,\n",
    "    'Enfield': 1946157267,\n",
    "    'Greenwich': 1946157268,\n",
    "    'Harrow': 1946157269,\n",
    "    'Havering': 1946157270,\n",
    "    'Hillingdon': 1946157271,\n",
    "    'Hounslow': 1946157272,\n",
    "    'Kingston upon Thames': 1946157273,\n",
    "    'Merton': 1946157274,\n",
    "    'Redbridge': 1946157275,\n",
    "    'Richmond upon Thames': 1946157276,\n",
    "    'Sutton': 1946157277,\n",
    "    'Waltham Forest': 1946157278,\n",
    "    'Hammersmith & Fulham': 1946157249,\n",
    "}"
   ],
   "metadata": {
    "collapsed": false,
    "pycharm": {
     "name": "#%%\n"
    }
   }
  },
  {
   "cell_type": "code",
   "execution_count": 4,
   "outputs": [],
   "source": [
    "def compute_stats(freq_list_orig, freq_list_synth):\n",
    "    \"\"\"\n",
    "    Compute different statistics (MAE, RMSE, SMRSE, R^2, and Pearson's correlation) on two frequency lists.\n",
    "\n",
    "    Parameters\n",
    "    ----------\n",
    "    freq_list_orig: numpy.ndarray\n",
    "        Frequency list for the original data\n",
    "    freq_list_synth: numpy.ndarray\n",
    "        Frequency list for the synthetic data\n",
    "\n",
    "    Returns\n",
    "    -------\n",
    "    stat: dict\n",
    "        Dictionary of the stats between the two lists\n",
    "    \"\"\"\n",
    "\n",
    "    freq_list_orig, freq_list_synth = np.array(freq_list_orig), np.array(freq_list_synth)\n",
    "    corr_mat = np.corrcoef(freq_list_orig, freq_list_synth)\n",
    "    corr = corr_mat[0, 1]\n",
    "    if np.isnan(corr): corr = 0.0\n",
    "    # MAE\n",
    "    mae = np.absolute(freq_list_orig - freq_list_synth).mean()\n",
    "    # RMSE\n",
    "    rmse = np.linalg.norm(freq_list_orig - freq_list_synth) / np.sqrt(len(freq_list_orig))\n",
    "    # SRMSE\n",
    "    freq_list_orig_avg = freq_list_orig.mean()\n",
    "    srmse = rmse / freq_list_orig_avg\n",
    "    # r-square\n",
    "    u = np.sum((freq_list_synth - freq_list_orig) ** 2)\n",
    "    v = np.sum((freq_list_orig - freq_list_orig_avg) ** 2)\n",
    "    r2 = 1.0 - u / v\n",
    "    stat = {'mae': mae, 'rmse': rmse, 'r2': r2, 'srmse': srmse, 'corr': corr}\n",
    "\n",
    "    return stat"
   ],
   "metadata": {
    "collapsed": false,
    "pycharm": {
     "name": "#%%\n"
    }
   }
  },
  {
   "cell_type": "markdown",
   "source": [
    "# Testing against nomis\n",
    "\n",
    "Here, we want to test the generated data against the data recorded in the nomis database.\n",
    "\n",
    "We test on the following variables:\n",
    "* Distance travelled to work (QS702EW - NM_153_1)\n",
    "* Method of travel to work (QS701EW - NM_568_1)\n",
    "* Number of people in household (QS406EW - NM_538_1)"
   ],
   "metadata": {
    "collapsed": false,
    "pycharm": {
     "name": "#%% md\n"
    }
   }
  },
  {
   "cell_type": "code",
   "execution_count": 14,
   "outputs": [
    {
     "data": {
      "text/plain": "Croydon                   808\nLambeth                   758\nWandsworth                748\nBromley                   695\nBarnet                    669\nEaling                    654\nBrent                     640\nLewisham                  605\nSouthwark                 590\nHaringey                  565\nHillingdon                531\nEnfield                   529\nHammersmith & Fulham      527\nGreenwich                 521\nWaltham Forest            515\nMerton                    505\nCamden                    499\nRedbridge                 490\nHackney                   476\nRichmond upon Thames      469\nNewham                    466\nHounslow                  464\nIslington                 450\nTower Hamlets             445\nKensington and Chelsea    438\nHavering                  428\nHarrow                    428\nSutton                    417\nBexley                    413\nKingston upon Thames      358\nBarking and Dagenham      316\nWestminster               307\nCity of London            180\nSpelthorne                141\nEpping Forest             125\nElmbridge                  86\nThree Rivers               61\nEpsom and Ewell            56\nTandridge                  42\nHertsmere                  34\nReigate and Banstead       34\nDartford                   32\nWatford                    30\nThurrock                   21\nSevenoaks                  16\nSouth Bucks                15\nRunnymede                  11\nWoking                      4\nMole Valley                 4\nName: hh_borough, dtype: int64"
     },
     "execution_count": 14,
     "metadata": {},
     "output_type": "execute_result"
    }
   ],
   "source": [
    "lpmc = pd.read_csv('../../data/LPMC/trips.csv')\n",
    "lpmc.hh_borough.value_counts()"
   ],
   "metadata": {
    "collapsed": false,
    "pycharm": {
     "name": "#%%\n"
    }
   }
  },
  {
   "cell_type": "markdown",
   "source": [
    "## Number of people in household"
   ],
   "metadata": {
    "collapsed": false,
    "pycharm": {
     "name": "#%% md\n"
    }
   }
  },
  {
   "cell_type": "code",
   "execution_count": 244,
   "outputs": [],
   "source": [
    "lpmc = pd.read_csv('../../data/LPMC/trips.csv')\n",
    "stats_str = ['mae', 'rmse', 'r2', 'srmse', 'corr']"
   ],
   "metadata": {
    "collapsed": false,
    "pycharm": {
     "name": "#%%\n"
    }
   }
  },
  {
   "cell_type": "code",
   "execution_count": 241,
   "outputs": [
    {
     "name": "stderr",
     "output_type": "stream",
     "text": [
      "100%|██████████| 49/49 [00:51<00:00,  1.06s/it]\n"
     ]
    }
   ],
   "source": [
    "res = {\n",
    "    'synth': {},\n",
    "    'lpmc': {},\n",
    "    'spec': {}\n",
    "}\n",
    "\n",
    "for i in res:\n",
    "    for s in stats_str:\n",
    "        res[i][s] = []\n",
    "\n",
    "    res[i]['count'] = []\n",
    "\n",
    "for r in tqdm(regions):\n",
    "\n",
    "    # Get the data\n",
    "    url = 'https://www.nomisweb.co.uk/api/v01/dataset/NM_538_1.data.csv?geography={}&rows=cell&cols=rural_urban&measures=20100'.format(regions[r])\n",
    "    response = http.request('GET', url)\n",
    "\n",
    "    with open('tmp.txt', 'w') as f:\n",
    "        f.write(response.data.decode('utf-8'))\n",
    "\n",
    "    df = pd.read_csv('tmp.txt')\n",
    "\n",
    "    nomis = list(df['GROUP 1: OBS_VALUE'].iloc[1:])\n",
    "\n",
    "    tmp = list(lpmc['hh_people'].value_counts().sort_index(ascending=True))\n",
    "    tmp[7] = sum(tmp[7:])\n",
    "    orig = tmp[:8]\n",
    "\n",
    "    synth = pd.read_csv('../../data/synthetic/LPMC_cond_{}.csv'.format(r))\n",
    "    tmp = list(synth['hh_people'].value_counts().sort_index(ascending=True))\n",
    "    tmp[len(nomis)-1] = sum(tmp[len(nomis)-1:])\n",
    "    synth = tmp[:len(nomis)]\n",
    "\n",
    "    spec = lpmc[lpmc['hh_borough'] == r]\n",
    "    tmp = spec['hh_people'].value_counts().sort_index(ascending=True)\n",
    "    spec = np.zeros(len(nomis))\n",
    "    for i in tmp.index:\n",
    "        if i-1 >= len(spec):\n",
    "            spec[len(spec)-1] += tmp[i]\n",
    "        else:\n",
    "            spec[i-1] = tmp[i]\n",
    "\n",
    "    res['lpmc']['count'].append(sum(orig)/sum(nomis)*100)\n",
    "    res['spec']['count'].append(sum(spec)/sum(nomis)*100)\n",
    "    res['synth']['count'].append(sum(synth)/sum(nomis)*100)\n",
    "\n",
    "    nomis = np.array(nomis)/sum(nomis)\n",
    "    synth = np.array(synth)/sum(synth)\n",
    "    spec = np.array(spec)/sum(spec)\n",
    "    orig = np.array(orig)/sum(orig)\n",
    "\n",
    "    res1 = compute_stats(nomis, orig)\n",
    "    res2 = compute_stats(nomis, spec)\n",
    "    res3 = compute_stats(nomis, synth)\n",
    "    for s in stats_str:\n",
    "        res['lpmc'][s].append(res1[s])\n",
    "        res['spec'][s].append(res2[s])\n",
    "        res['synth'][s].append(res3[s])"
   ],
   "metadata": {
    "collapsed": false,
    "pycharm": {
     "name": "#%%\n"
    }
   }
  },
  {
   "cell_type": "code",
   "execution_count": 245,
   "outputs": [],
   "source": [
    "dct = {}\n",
    "\n",
    "stats_str.append('count')\n",
    "\n",
    "for s in stats_str:\n",
    "    dct[s] = {\n",
    "        'lpmc': np.array(res['lpmc'][s]).mean(),\n",
    "        'spec': np.array(res['spec'][s]).mean(),\n",
    "        'synth': np.array(res['synth'][s]).mean()\n",
    "    }\n",
    "\n",
    "df = pd.DataFrame(dct, index=['lpmc', 'spec', 'synth'])"
   ],
   "metadata": {
    "collapsed": false,
    "pycharm": {
     "name": "#%%\n"
    }
   }
  },
  {
   "cell_type": "code",
   "execution_count": 246,
   "outputs": [
    {
     "data": {
      "text/plain": "            mae      rmse        r2     srmse      corr       count\nlpmc   0.016119  0.023466  0.948883  0.187727  0.979826   34.662938\nspec   0.030330  0.043993  0.804613  0.351944  0.914905    0.454787\nsynth  0.026882  0.037038  0.899499  0.296302  0.956574  247.527703",
      "text/html": "<div>\n<style scoped>\n    .dataframe tbody tr th:only-of-type {\n        vertical-align: middle;\n    }\n\n    .dataframe tbody tr th {\n        vertical-align: top;\n    }\n\n    .dataframe thead th {\n        text-align: right;\n    }\n</style>\n<table border=\"1\" class=\"dataframe\">\n  <thead>\n    <tr style=\"text-align: right;\">\n      <th></th>\n      <th>mae</th>\n      <th>rmse</th>\n      <th>r2</th>\n      <th>srmse</th>\n      <th>corr</th>\n      <th>count</th>\n    </tr>\n  </thead>\n  <tbody>\n    <tr>\n      <th>lpmc</th>\n      <td>0.016119</td>\n      <td>0.023466</td>\n      <td>0.948883</td>\n      <td>0.187727</td>\n      <td>0.979826</td>\n      <td>34.662938</td>\n    </tr>\n    <tr>\n      <th>spec</th>\n      <td>0.030330</td>\n      <td>0.043993</td>\n      <td>0.804613</td>\n      <td>0.351944</td>\n      <td>0.914905</td>\n      <td>0.454787</td>\n    </tr>\n    <tr>\n      <th>synth</th>\n      <td>0.026882</td>\n      <td>0.037038</td>\n      <td>0.899499</td>\n      <td>0.296302</td>\n      <td>0.956574</td>\n      <td>247.527703</td>\n    </tr>\n  </tbody>\n</table>\n</div>"
     },
     "execution_count": 246,
     "metadata": {},
     "output_type": "execute_result"
    }
   ],
   "source": [
    "df"
   ],
   "metadata": {
    "collapsed": false,
    "pycharm": {
     "name": "#%%\n"
    }
   }
  },
  {
   "cell_type": "markdown",
   "source": [
    "## Distance travelled to work"
   ],
   "metadata": {
    "collapsed": false,
    "pycharm": {
     "name": "#%% md\n"
    }
   }
  },
  {
   "cell_type": "code",
   "execution_count": 258,
   "outputs": [],
   "source": [
    "lpmc = pd.read_csv('../../data/LPMC/trips.csv')\n",
    "stats_str = ['mae', 'rmse', 'r2', 'srmse', 'corr']\n",
    "\n",
    "bins = [-np.inf, 2000, 5000, 10000, 20000, 30000, 40000, 60000, np.inf]\n",
    "bin_labels = ['<2km', '2-5km', '5-10km', '10-20km', '20-30km', '30-40km', '40-60km', '>60km']\n",
    "\n",
    "lpmc['distance'] = pd.cut(lpmc['distance'], bins=bins, labels=bin_labels)\n",
    "lpmc = lpmc[lpmc['purpose'] == 'HBW']\n",
    "lpmc = lpmc[((lpmc['age'] >= 16) & (lpmc['age'] <= 74))]"
   ],
   "metadata": {
    "collapsed": false,
    "pycharm": {
     "name": "#%%\n"
    }
   }
  },
  {
   "cell_type": "code",
   "execution_count": 259,
   "outputs": [
    {
     "name": "stderr",
     "output_type": "stream",
     "text": [
      "100%|██████████| 49/49 [00:55<00:00,  1.13s/it]\n"
     ]
    }
   ],
   "source": [
    "res = {\n",
    "    'synth': {},\n",
    "    'lpmc': {},\n",
    "    'spec': {}\n",
    "}\n",
    "\n",
    "for i in res:\n",
    "    for s in stats_str:\n",
    "        res[i][s] = []\n",
    "    res[i]['count'] = []\n",
    "\n",
    "for r in tqdm(regions):\n",
    "\n",
    "    # Get the data\n",
    "    url = 'https://www.nomisweb.co.uk/api/v01/dataset/NM_153_1.data.csv?geography={}&rows=cell&cols=rural_urban&measures=20100'.format(regions[r])\n",
    "    response = http.request('GET', url)\n",
    "\n",
    "    with open('tmp.txt', 'w') as f:\n",
    "        f.write(response.data.decode('utf-8'))\n",
    "\n",
    "    df = pd.read_csv('tmp.txt')\n",
    "    df = df.sort_values('CELL')\n",
    "    df.index = df['CELL']\n",
    "\n",
    "    nomis = list(df['GROUP 1: OBS_VALUE'].iloc[1:9])\n",
    "\n",
    "    orig = list(lpmc['distance'].value_counts())\n",
    "\n",
    "    synth = pd.read_csv('../../data/synthetic/LPMC_cond_{}.csv'.format(r))\n",
    "    synth['distance'] = pd.cut(synth['distance'], bins=bins, labels=bin_labels)\n",
    "\n",
    "    synth = synth[synth['purpose'] == 'HBW']\n",
    "    synth = synth[((synth['age'] >= 16) & (synth['age'] <= 74))]\n",
    "    tmp = synth['distance'].value_counts()\n",
    "\n",
    "    synth = np.zeros(len(bin_labels))\n",
    "    for i, o in enumerate(bin_labels):\n",
    "        if o in tmp.index:\n",
    "            synth[i] = tmp[o]\n",
    "\n",
    "    spec = lpmc[lpmc['hh_borough'] == r]\n",
    "    tmp = spec['distance'].value_counts()\n",
    "\n",
    "    spec = np.zeros(len(bin_labels))\n",
    "    for i, o in enumerate(bin_labels):\n",
    "        if o in tmp.index:\n",
    "            spec[i] = tmp[o]\n",
    "\n",
    "    res['lpmc']['count'].append(sum(orig)/sum(nomis)*100)\n",
    "    res['spec']['count'].append(sum(spec)/sum(nomis)*100)\n",
    "    res['synth']['count'].append(sum(synth)/sum(nomis)*100)\n",
    "\n",
    "    nomis = np.array(nomis)/sum(nomis)\n",
    "    synth = np.array(synth)/sum(synth)\n",
    "    orig = np.array(orig)/sum(orig)\n",
    "\n",
    "    if sum(spec) > 0:\n",
    "        spec = np.array(spec)/sum(spec)\n",
    "        res2 = compute_stats(nomis, spec)\n",
    "\n",
    "    res1 = compute_stats(nomis, orig)\n",
    "    res3 = compute_stats(nomis, synth)\n",
    "    for s in stats_str:\n",
    "        res['lpmc'][s].append(res1[s])\n",
    "        if sum(spec) > 0:\n",
    "            res['spec'][s].append(res2[s])\n",
    "        res['synth'][s].append(res3[s])"
   ],
   "metadata": {
    "collapsed": false,
    "pycharm": {
     "name": "#%%\n"
    }
   }
  },
  {
   "cell_type": "code",
   "execution_count": 260,
   "outputs": [],
   "source": [
    "dct = {}\n",
    "\n",
    "stats_str.append('count')\n",
    "\n",
    "for s in stats_str:\n",
    "    dct[s] = {\n",
    "        'lpmc': np.array(res['lpmc'][s]).mean(),\n",
    "        'spec': np.array(res['spec'][s]).mean(),\n",
    "        'synth': np.array(res['synth'][s]).mean()\n",
    "    }\n",
    "\n",
    "df = pd.DataFrame(dct, index=['lpmc', 'spec', 'synth'])"
   ],
   "metadata": {
    "collapsed": false,
    "pycharm": {
     "name": "#%%\n"
    }
   }
  },
  {
   "cell_type": "code",
   "execution_count": 261,
   "outputs": [
    {
     "data": {
      "text/plain": "            mae      rmse        r2     srmse      corr      count\nlpmc   0.068422  0.092779  0.090982  0.742228  0.700115   7.468569\nspec   0.053864  0.073514 -0.791099  0.588111  0.858448   0.094354\nsynth  0.051299  0.071228  0.377545  0.569822  0.829818  42.060229",
      "text/html": "<div>\n<style scoped>\n    .dataframe tbody tr th:only-of-type {\n        vertical-align: middle;\n    }\n\n    .dataframe tbody tr th {\n        vertical-align: top;\n    }\n\n    .dataframe thead th {\n        text-align: right;\n    }\n</style>\n<table border=\"1\" class=\"dataframe\">\n  <thead>\n    <tr style=\"text-align: right;\">\n      <th></th>\n      <th>mae</th>\n      <th>rmse</th>\n      <th>r2</th>\n      <th>srmse</th>\n      <th>corr</th>\n      <th>count</th>\n    </tr>\n  </thead>\n  <tbody>\n    <tr>\n      <th>lpmc</th>\n      <td>0.068422</td>\n      <td>0.092779</td>\n      <td>0.090982</td>\n      <td>0.742228</td>\n      <td>0.700115</td>\n      <td>7.468569</td>\n    </tr>\n    <tr>\n      <th>spec</th>\n      <td>0.053864</td>\n      <td>0.073514</td>\n      <td>-0.791099</td>\n      <td>0.588111</td>\n      <td>0.858448</td>\n      <td>0.094354</td>\n    </tr>\n    <tr>\n      <th>synth</th>\n      <td>0.051299</td>\n      <td>0.071228</td>\n      <td>0.377545</td>\n      <td>0.569822</td>\n      <td>0.829818</td>\n      <td>42.060229</td>\n    </tr>\n  </tbody>\n</table>\n</div>"
     },
     "execution_count": 261,
     "metadata": {},
     "output_type": "execute_result"
    }
   ],
   "source": [
    "df"
   ],
   "metadata": {
    "collapsed": false,
    "pycharm": {
     "name": "#%%\n"
    }
   }
  },
  {
   "cell_type": "markdown",
   "source": [
    "## Method of travel to work"
   ],
   "metadata": {
    "collapsed": false,
    "pycharm": {
     "name": "#%% md\n"
    }
   }
  },
  {
   "cell_type": "code",
   "execution_count": 262,
   "outputs": [],
   "source": [
    "lpmc = pd.read_csv('../../data/LPMC/trips.csv')\n",
    "lpmc = lpmc[lpmc['purpose'] == 'HBW']\n",
    "lpmc = lpmc[((lpmc['age'] >= 16) & (lpmc['age'] <= 74))]\n",
    "\n",
    "order = ['pt', 'drive', 'walk', 'cycle']\n",
    "\n",
    "stats_str = ['mae', 'rmse', 'r2', 'srmse', 'corr']"
   ],
   "metadata": {
    "collapsed": false,
    "pycharm": {
     "name": "#%%\n"
    }
   }
  },
  {
   "cell_type": "code",
   "execution_count": 263,
   "outputs": [
    {
     "name": "stderr",
     "output_type": "stream",
     "text": [
      "100%|██████████| 49/49 [01:04<00:00,  1.32s/it]\n"
     ]
    }
   ],
   "source": [
    "res = {\n",
    "    'synth': {},\n",
    "    'lpmc': {},\n",
    "    'spec': {}\n",
    "}\n",
    "\n",
    "for i in res:\n",
    "    for s in stats_str:\n",
    "        res[i][s] = []\n",
    "    res[i]['count'] = []\n",
    "\n",
    "for r in tqdm(regions):\n",
    "\n",
    "    # Get the data\n",
    "    url = 'https://www.nomisweb.co.uk/api/v01/dataset/NM_568_1.data.csv?geography={}&rows=cell&cols=rural_urban&measures=20100'.format(regions[r])\n",
    "    response = http.request('GET', url)\n",
    "\n",
    "    with open('tmp.txt', 'w') as f:\n",
    "        f.write(response.data.decode('utf-8'))\n",
    "\n",
    "    df = pd.read_csv('tmp.txt')\n",
    "    df = df.sort_values('CELL')\n",
    "    df.index = df['CELL']\n",
    "\n",
    "    values = df['GROUP 1: OBS_VALUE']\n",
    "    drive = np.sum(values[6:9])\n",
    "    pt = np.sum(values[2:6])\n",
    "    walk = values[10]\n",
    "    cycle = values[9]\n",
    "\n",
    "    nomis = [pt, drive, walk, cycle]\n",
    "\n",
    "    orig = list(lpmc['travel_mode'].value_counts())\n",
    "\n",
    "    synth = pd.read_csv('../../data/synthetic/LPMC_cond_{}.csv'.format(r))\n",
    "\n",
    "    synth = synth[synth['purpose'] == 'HBW']\n",
    "    synth = synth[((synth['age'] >= 16) & (synth['age'] <= 74))]\n",
    "    tmp = synth['travel_mode'].value_counts()\n",
    "\n",
    "    synth = np.zeros(len(order))\n",
    "    for i, o in enumerate(order):\n",
    "        synth[i] = tmp[o]\n",
    "\n",
    "    spec = lpmc[lpmc['hh_borough'] == r]\n",
    "    tmp = spec['travel_mode'].value_counts()\n",
    "\n",
    "    spec = np.zeros(len(order))\n",
    "    for i, o in enumerate(order):\n",
    "        if o in tmp.index:\n",
    "            spec[i] = tmp[o]\n",
    "\n",
    "    res['lpmc']['count'].append(sum(orig)/sum(nomis)*100)\n",
    "    res['spec']['count'].append(sum(spec)/sum(nomis)*100)\n",
    "    res['synth']['count'].append(sum(synth)/sum(nomis)*100)\n",
    "\n",
    "    nomis = np.array(nomis)/sum(nomis)\n",
    "    synth = np.array(synth)/sum(synth)\n",
    "    orig = np.array(orig)/sum(orig)\n",
    "\n",
    "    if sum(spec) > 0:\n",
    "        spec = np.array(spec)/sum(spec)\n",
    "        res2 = compute_stats(nomis, spec)\n",
    "\n",
    "    res1 = compute_stats(nomis, orig)\n",
    "    res3 = compute_stats(nomis, synth)\n",
    "    for s in stats_str:\n",
    "        res['lpmc'][s].append(res1[s])\n",
    "        if sum(spec) > 0:\n",
    "            res['spec'][s].append(res2[s])\n",
    "        res['synth'][s].append(res3[s])"
   ],
   "metadata": {
    "collapsed": false,
    "pycharm": {
     "name": "#%%\n"
    }
   }
  },
  {
   "cell_type": "code",
   "execution_count": 266,
   "outputs": [],
   "source": [
    "dct = {}\n",
    "\n",
    "stats_str.append('count')\n",
    "\n",
    "for s in stats_str:\n",
    "    dct[s] = {\n",
    "        'lpmc': np.array(res['lpmc'][s]).mean(),\n",
    "        'spec': np.array(res['spec'][s]).mean(),\n",
    "        'synth': np.array(res['synth'][s]).mean()\n",
    "    }\n",
    "\n",
    "df = pd.DataFrame(dct, index=['lpmc', 'spec', 'synth'])"
   ],
   "metadata": {
    "collapsed": false,
    "pycharm": {
     "name": "#%%\n"
    }
   }
  },
  {
   "cell_type": "code",
   "execution_count": 267,
   "outputs": [
    {
     "data": {
      "text/plain": "            mae      rmse        r2     srmse      corr      count\nlpmc   0.119683  0.154335  0.454048  0.617340  0.693390   6.410999\nspec   0.076303  0.093179  0.712300  0.372714  0.888302   0.080608\nsynth  0.127243  0.161286  0.397791  0.645142  0.655271  35.629151",
      "text/html": "<div>\n<style scoped>\n    .dataframe tbody tr th:only-of-type {\n        vertical-align: middle;\n    }\n\n    .dataframe tbody tr th {\n        vertical-align: top;\n    }\n\n    .dataframe thead th {\n        text-align: right;\n    }\n</style>\n<table border=\"1\" class=\"dataframe\">\n  <thead>\n    <tr style=\"text-align: right;\">\n      <th></th>\n      <th>mae</th>\n      <th>rmse</th>\n      <th>r2</th>\n      <th>srmse</th>\n      <th>corr</th>\n      <th>count</th>\n    </tr>\n  </thead>\n  <tbody>\n    <tr>\n      <th>lpmc</th>\n      <td>0.119683</td>\n      <td>0.154335</td>\n      <td>0.454048</td>\n      <td>0.617340</td>\n      <td>0.693390</td>\n      <td>6.410999</td>\n    </tr>\n    <tr>\n      <th>spec</th>\n      <td>0.076303</td>\n      <td>0.093179</td>\n      <td>0.712300</td>\n      <td>0.372714</td>\n      <td>0.888302</td>\n      <td>0.080608</td>\n    </tr>\n    <tr>\n      <th>synth</th>\n      <td>0.127243</td>\n      <td>0.161286</td>\n      <td>0.397791</td>\n      <td>0.645142</td>\n      <td>0.655271</td>\n      <td>35.629151</td>\n    </tr>\n  </tbody>\n</table>\n</div>"
     },
     "execution_count": 267,
     "metadata": {},
     "output_type": "execute_result"
    }
   ],
   "source": [
    "df"
   ],
   "metadata": {
    "collapsed": false,
    "pycharm": {
     "name": "#%%\n"
    }
   }
  },
  {
   "cell_type": "markdown",
   "source": [
    "## Number of cars in the household"
   ],
   "metadata": {
    "collapsed": false,
    "pycharm": {
     "name": "#%% md\n"
    }
   }
  },
  {
   "cell_type": "code",
   "execution_count": 283,
   "outputs": [],
   "source": [
    "lpmc = pd.read_csv('../../data/LPMC/trips.csv')\n",
    "\n",
    "stats_str = ['mae', 'rmse', 'r2', 'srmse', 'corr']"
   ],
   "metadata": {
    "collapsed": false,
    "pycharm": {
     "name": "#%%\n"
    }
   }
  },
  {
   "cell_type": "code",
   "execution_count": 284,
   "outputs": [
    {
     "name": "stderr",
     "output_type": "stream",
     "text": [
      "100%|██████████| 49/49 [00:51<00:00,  1.05s/it]\n"
     ]
    }
   ],
   "source": [
    "res = {\n",
    "    'synth': {},\n",
    "    'lpmc': {},\n",
    "    'spec': {}\n",
    "}\n",
    "\n",
    "for i in res:\n",
    "    for s in stats_str:\n",
    "        res[i][s] = []\n",
    "\n",
    "    res[i]['count'] = []\n",
    "\n",
    "for r in tqdm(regions):\n",
    "\n",
    "    # Get the data\n",
    "    url = 'https://www.nomisweb.co.uk/api/v01/dataset/NM_621_1.data.csv?geography={}&rows=cell&cols=rural_urban&measures=20100'.format(regions[r])\n",
    "    response = http.request('GET', url)\n",
    "\n",
    "    with open('tmp.txt', 'w') as f:\n",
    "        f.write(response.data.decode('utf-8'))\n",
    "\n",
    "    df = pd.read_csv('tmp.txt')\n",
    "\n",
    "    nomis = list(df['GROUP 1: OBS_VALUE'].iloc[1:6])\n",
    "\n",
    "    tmp = list(lpmc['hh_vehicles'].value_counts().sort_index(ascending=True))\n",
    "    tmp[4] = sum(tmp[4:])\n",
    "    orig = tmp[:5]\n",
    "\n",
    "    synth = pd.read_csv('../../data/synthetic/LPMC_cond_{}.csv'.format(r))\n",
    "    tmp = list(synth['hh_vehicles'].value_counts().sort_index(ascending=True))\n",
    "    tmp[len(nomis)-1] = sum(tmp[len(nomis)-1:])\n",
    "    synth = tmp[:len(nomis)]\n",
    "\n",
    "    spec = lpmc[lpmc['hh_borough'] == r]\n",
    "    tmp = spec['hh_vehicles'].value_counts().sort_index(ascending=True)\n",
    "    spec = np.zeros(len(nomis))\n",
    "    for i in tmp.index:\n",
    "        if i-1 >= len(spec):\n",
    "            spec[len(spec)-1] += tmp[i]\n",
    "        else:\n",
    "            spec[i-1] = tmp[i]\n",
    "\n",
    "    res['lpmc']['count'].append(sum(orig)/sum(nomis)*100)\n",
    "    res['spec']['count'].append(sum(spec)/sum(nomis)*100)\n",
    "    res['synth']['count'].append(sum(synth)/sum(nomis)*100)\n",
    "\n",
    "    nomis = np.array(nomis)/sum(nomis)\n",
    "    synth = np.array(synth)/sum(synth)\n",
    "    spec = np.array(spec)/sum(spec)\n",
    "    orig = np.array(orig)/sum(orig)\n",
    "\n",
    "    res1 = compute_stats(nomis, orig)\n",
    "    res2 = compute_stats(nomis, spec)\n",
    "    res3 = compute_stats(nomis, synth)\n",
    "    for s in stats_str:\n",
    "        res['lpmc'][s].append(res1[s])\n",
    "        res['spec'][s].append(res2[s])\n",
    "        res['synth'][s].append(res3[s])"
   ],
   "metadata": {
    "collapsed": false,
    "pycharm": {
     "name": "#%%\n"
    }
   }
  },
  {
   "cell_type": "code",
   "execution_count": 285,
   "outputs": [],
   "source": [
    "dct = {}\n",
    "\n",
    "stats_str.append('count')\n",
    "\n",
    "for s in stats_str:\n",
    "    dct[s] = {\n",
    "        'lpmc': np.array(res['lpmc'][s]).mean(),\n",
    "        'spec': np.array(res['spec'][s]).mean(),\n",
    "        'synth': np.array(res['synth'][s]).mean()\n",
    "    }\n",
    "\n",
    "df = pd.DataFrame(dct, index=['lpmc', 'spec', 'synth'])"
   ],
   "metadata": {
    "collapsed": false,
    "pycharm": {
     "name": "#%%\n"
    }
   }
  },
  {
   "cell_type": "code",
   "execution_count": 286,
   "outputs": [
    {
     "data": {
      "text/plain": "            mae      rmse        r2     srmse      corr       count\nlpmc   0.069463  0.091656  0.625632  0.458279  0.845011   34.662938\nspec   0.162456  0.212049 -0.514296  1.060245  0.444313    0.410636\nsynth  0.066459  0.087525  0.662086  0.437624  0.858153  247.527703",
      "text/html": "<div>\n<style scoped>\n    .dataframe tbody tr th:only-of-type {\n        vertical-align: middle;\n    }\n\n    .dataframe tbody tr th {\n        vertical-align: top;\n    }\n\n    .dataframe thead th {\n        text-align: right;\n    }\n</style>\n<table border=\"1\" class=\"dataframe\">\n  <thead>\n    <tr style=\"text-align: right;\">\n      <th></th>\n      <th>mae</th>\n      <th>rmse</th>\n      <th>r2</th>\n      <th>srmse</th>\n      <th>corr</th>\n      <th>count</th>\n    </tr>\n  </thead>\n  <tbody>\n    <tr>\n      <th>lpmc</th>\n      <td>0.069463</td>\n      <td>0.091656</td>\n      <td>0.625632</td>\n      <td>0.458279</td>\n      <td>0.845011</td>\n      <td>34.662938</td>\n    </tr>\n    <tr>\n      <th>spec</th>\n      <td>0.162456</td>\n      <td>0.212049</td>\n      <td>-0.514296</td>\n      <td>1.060245</td>\n      <td>0.444313</td>\n      <td>0.410636</td>\n    </tr>\n    <tr>\n      <th>synth</th>\n      <td>0.066459</td>\n      <td>0.087525</td>\n      <td>0.662086</td>\n      <td>0.437624</td>\n      <td>0.858153</td>\n      <td>247.527703</td>\n    </tr>\n  </tbody>\n</table>\n</div>"
     },
     "execution_count": 286,
     "metadata": {},
     "output_type": "execute_result"
    }
   ],
   "source": [
    "df"
   ],
   "metadata": {
    "collapsed": false,
    "pycharm": {
     "name": "#%%\n"
    }
   }
  },
  {
   "cell_type": "code",
   "execution_count": null,
   "outputs": [],
   "source": [],
   "metadata": {
    "collapsed": false,
    "pycharm": {
     "name": "#%%\n"
    }
   }
  }
 ],
 "metadata": {
  "kernelspec": {
   "name": "dev",
   "language": "python",
   "display_name": "dev"
  },
  "language_info": {
   "codemirror_mode": {
    "name": "ipython",
    "version": 2
   },
   "file_extension": ".py",
   "mimetype": "text/x-python",
   "name": "python",
   "nbconvert_exporter": "python",
   "pygments_lexer": "ipython2",
   "version": "2.7.6"
  }
 },
 "nbformat": 4,
 "nbformat_minor": 0
}