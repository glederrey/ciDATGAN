{
 "cells": [
  {
   "cell_type": "code",
   "execution_count": 1,
   "metadata": {
    "collapsed": true
   },
   "outputs": [],
   "source": [
    "import matplotlib.colors\n",
    "import pandas\n",
    "import pandas as pd\n",
    "import numpy as np\n",
    "import matplotlib.pyplot as plt\n",
    "import random\n",
    "from tqdm import tqdm\n",
    "\n",
    "import seaborn as sns\n",
    "sns.set_style(\"whitegrid\")\n",
    "\n",
    "import urllib3\n",
    "import os\n",
    "import matplotlib\n",
    "\n",
    "from sklearn.preprocessing import LabelEncoder\n",
    "\n",
    "# For the Python notebook\n",
    "%matplotlib inline\n",
    "%reload_ext autoreload\n",
    "%autoreload 2"
   ]
  },
  {
   "cell_type": "code",
   "execution_count": 35,
   "outputs": [
    {
     "name": "stdout",
     "output_type": "stream",
     "text": [
      "Collecting urllib3==1.24\n",
      "  Using cached urllib3-1.24-py2.py3-none-any.whl (117 kB)\n",
      "Installing collected packages: urllib3\n",
      "  Attempting uninstall: urllib3\n",
      "    Found existing installation: urllib3 1.26.9\n",
      "    Uninstalling urllib3-1.26.9:\n",
      "      Successfully uninstalled urllib3-1.26.9\n",
      "Successfully installed urllib3-1.24\n"
     ]
    },
    {
     "name": "stderr",
     "output_type": "stream",
     "text": [
      "ERROR: pip's dependency resolver does not currently take into account all the packages that are installed. This behaviour is the source of the following dependency conflicts.\n",
      "twine 3.8.0 requires urllib3>=1.26.0, but you have urllib3 1.24 which is incompatible.\n"
     ]
    }
   ],
   "source": [
    "!pip install --upgrade --force urllib3==1.24"
   ],
   "metadata": {
    "collapsed": false,
    "pycharm": {
     "name": "#%%\n"
    }
   }
  },
  {
   "cell_type": "code",
   "execution_count": 29,
   "outputs": [],
   "source": [
    "# Check correlations between borough and the different stuff below\n",
    "df = pd.read_csv('../../data/LPMC/trips.csv')\n",
    "\n",
    "for c in df.columns:\n",
    "\n",
    "    if df[c].dtype == 'object':\n",
    "        # Change to numerical\n",
    "        lbl = LabelEncoder()\n",
    "        df[c] = lbl.fit_transform(df[c])"
   ],
   "metadata": {
    "collapsed": false,
    "pycharm": {
     "name": "#%%\n"
    }
   }
  },
  {
   "cell_type": "code",
   "execution_count": 30,
   "outputs": [
    {
     "data": {
      "text/plain": "-0.04244889152136924"
     },
     "execution_count": 30,
     "metadata": {},
     "output_type": "execute_result"
    }
   ],
   "source": [
    "df['hh_borough'].corr(df['age'])"
   ],
   "metadata": {
    "collapsed": false,
    "pycharm": {
     "name": "#%%\n"
    }
   }
  },
  {
   "cell_type": "code",
   "execution_count": 31,
   "outputs": [
    {
     "data": {
      "text/plain": "0.014023573969732632"
     },
     "execution_count": 31,
     "metadata": {},
     "output_type": "execute_result"
    }
   ],
   "source": [
    "df['hh_borough'].corr(df['hh_income'])"
   ],
   "metadata": {
    "collapsed": false,
    "pycharm": {
     "name": "#%%\n"
    }
   }
  },
  {
   "cell_type": "code",
   "execution_count": 32,
   "outputs": [
    {
     "data": {
      "text/plain": "-0.09863736077428918"
     },
     "execution_count": 32,
     "metadata": {},
     "output_type": "execute_result"
    }
   ],
   "source": [
    "df['hh_borough'].corr(df['hh_vehicles'])"
   ],
   "metadata": {
    "collapsed": false,
    "pycharm": {
     "name": "#%%\n"
    }
   }
  },
  {
   "cell_type": "code",
   "execution_count": 33,
   "outputs": [
    {
     "data": {
      "text/plain": "-0.04005688927724681"
     },
     "execution_count": 33,
     "metadata": {},
     "output_type": "execute_result"
    }
   ],
   "source": [
    "df['hh_borough'].corr(df['distance'])"
   ],
   "metadata": {
    "collapsed": false,
    "pycharm": {
     "name": "#%%\n"
    }
   }
  },
  {
   "cell_type": "code",
   "execution_count": 34,
   "outputs": [
    {
     "data": {
      "text/plain": "0.05255486567358189"
     },
     "execution_count": 34,
     "metadata": {},
     "output_type": "execute_result"
    }
   ],
   "source": [
    "df['hh_borough'].corr(df['travel_mode'])"
   ],
   "metadata": {
    "collapsed": false,
    "pycharm": {
     "name": "#%%\n"
    }
   }
  },
  {
   "cell_type": "code",
   "execution_count": 2,
   "outputs": [],
   "source": [
    "http = urllib3.PoolManager()"
   ],
   "metadata": {
    "collapsed": false,
    "pycharm": {
     "name": "#%%\n"
    }
   }
  },
  {
   "cell_type": "code",
   "execution_count": 3,
   "outputs": [],
   "source": [
    "regions = {\n",
    "    'Camden': 1946157246,\n",
    "    'City of London': 1946157247,\n",
    "    'Hackney': 1946157248,\n",
    "    'Haringey': 1946157250,\n",
    "    'Islington': 1946157251,\n",
    "    'Kensington and Chelsea': 1946157252,\n",
    "    'Lambeth': 1946157253,\n",
    "    'Lewisham': 1946157254,\n",
    "    'Newham': 1946157255,\n",
    "    'Southwark': 1946157256,\n",
    "    'Tower Hamlets': 1946157257,\n",
    "    'Wandsworth': 1946157258,\n",
    "    'Westminster': 1946157259,\n",
    "    'Barking and Dagenham': 1946157260,\n",
    "    'Barnet': 1946157261,\n",
    "    'Bexley': 1946157262,\n",
    "    'Brent': 1946157263,\n",
    "    'Bromley': 1946157264,\n",
    "    'Croydon': 1946157265,\n",
    "    'Ealing': 1946157266,\n",
    "    'Enfield': 1946157267,\n",
    "    'Greenwich': 1946157268,\n",
    "    'Harrow': 1946157269,\n",
    "    'Havering': 1946157270,\n",
    "    'Hillingdon': 1946157271,\n",
    "    'Hounslow': 1946157272,\n",
    "    'Kingston upon Thames': 1946157273,\n",
    "    'Merton': 1946157274,\n",
    "    'Redbridge': 1946157275,\n",
    "    'Richmond upon Thames': 1946157276,\n",
    "    'Sutton': 1946157277,\n",
    "    'Waltham Forest': 1946157278,\n",
    "    'Hammersmith & Fulham': 1946157249,\n",
    "}"
   ],
   "metadata": {
    "collapsed": false,
    "pycharm": {
     "name": "#%%\n"
    }
   }
  },
  {
   "cell_type": "code",
   "execution_count": 4,
   "outputs": [],
   "source": [
    "def compute_stats(freq_list_orig, freq_list_synth):\n",
    "    \"\"\"\n",
    "    Compute different statistics (MAE, RMSE, SMRSE, R^2, and Pearson's correlation) on two frequency lists.\n",
    "\n",
    "    Parameters\n",
    "    ----------\n",
    "    freq_list_orig: numpy.ndarray\n",
    "        Frequency list for the original data\n",
    "    freq_list_synth: numpy.ndarray\n",
    "        Frequency list for the synthetic data\n",
    "\n",
    "    Returns\n",
    "    -------\n",
    "    stat: dict\n",
    "        Dictionary of the stats between the two lists\n",
    "    \"\"\"\n",
    "\n",
    "    freq_list_orig, freq_list_synth = np.array(freq_list_orig), np.array(freq_list_synth)\n",
    "    corr_mat = np.corrcoef(freq_list_orig, freq_list_synth)\n",
    "    corr = corr_mat[0, 1]\n",
    "    if np.isnan(corr): corr = 0.0\n",
    "    # MAE\n",
    "    mae = np.absolute(freq_list_orig - freq_list_synth).mean()\n",
    "    # RMSE\n",
    "    rmse = np.linalg.norm(freq_list_orig - freq_list_synth) / np.sqrt(len(freq_list_orig))\n",
    "    # SRMSE\n",
    "    freq_list_orig_avg = freq_list_orig.mean()\n",
    "    srmse = rmse / freq_list_orig_avg\n",
    "    # r-square\n",
    "    u = np.sum((freq_list_synth - freq_list_orig) ** 2)\n",
    "    v = np.sum((freq_list_orig - freq_list_orig_avg) ** 2)\n",
    "    r2 = 1.0 - u / v\n",
    "    stat = {'mae': mae, 'rmse': rmse, 'r2': r2, 'srmse': srmse, 'corr': corr}\n",
    "\n",
    "    return stat\n",
    "\n",
    "stats_str = ['mae', 'rmse', 'r2', 'srmse', 'corr']\n",
    "labels = ['NOMIS', 'LPMC', 'DATGAN', 'ciDATGAN']\n",
    "colrs = ['black', 'lightgrey', 'darkgrey', 'red']\n",
    "\n",
    "colors = [matplotlib.colors.to_rgba(c) for c in colrs]"
   ],
   "metadata": {
    "collapsed": false,
    "pycharm": {
     "name": "#%%\n"
    }
   }
  },
  {
   "cell_type": "markdown",
   "source": [
    "# Age"
   ],
   "metadata": {
    "collapsed": false,
    "pycharm": {
     "name": "#%% md\n"
    }
   }
  },
  {
   "cell_type": "code",
   "execution_count": 5,
   "outputs": [],
   "source": [
    "bins = [-np.inf, 16, 30, 45, 65, np.inf]\n",
    "bin_labels = ['child', 'young', 'adult', 'old', 'senior']\n",
    "\n",
    "if not os.path.exists('../../figures/age/'):\n",
    "    os.makedirs('../../figures/age/')"
   ],
   "metadata": {
    "collapsed": false,
    "pycharm": {
     "name": "#%%\n"
    }
   }
  },
  {
   "cell_type": "code",
   "execution_count": 6,
   "outputs": [
    {
     "name": "stderr",
     "output_type": "stream",
     "text": [
      "  0%|          | 0/33 [00:00<?, ?it/s]D:\\Users\\glede\\anaconda3\\envs\\dev\\lib\\site-packages\\urllib3\\connectionpool.py:842: InsecureRequestWarning: Unverified HTTPS request is being made. Adding certificate verification is strongly advised. See: https://urllib3.readthedocs.io/en/latest/advanced-usage.html#ssl-warnings\n",
      "  warnings.warn((\n",
      "  3%|▎         | 1/33 [00:02<01:21,  2.56s/it]D:\\Users\\glede\\anaconda3\\envs\\dev\\lib\\site-packages\\urllib3\\connectionpool.py:842: InsecureRequestWarning: Unverified HTTPS request is being made. Adding certificate verification is strongly advised. See: https://urllib3.readthedocs.io/en/latest/advanced-usage.html#ssl-warnings\n",
      "  warnings.warn((\n",
      "  6%|▌         | 2/33 [00:03<00:54,  1.74s/it]D:\\Users\\glede\\anaconda3\\envs\\dev\\lib\\site-packages\\urllib3\\connectionpool.py:842: InsecureRequestWarning: Unverified HTTPS request is being made. Adding certificate verification is strongly advised. See: https://urllib3.readthedocs.io/en/latest/advanced-usage.html#ssl-warnings\n",
      "  warnings.warn((\n",
      "  9%|▉         | 3/33 [00:06<01:09,  2.31s/it]D:\\Users\\glede\\anaconda3\\envs\\dev\\lib\\site-packages\\urllib3\\connectionpool.py:842: InsecureRequestWarning: Unverified HTTPS request is being made. Adding certificate verification is strongly advised. See: https://urllib3.readthedocs.io/en/latest/advanced-usage.html#ssl-warnings\n",
      "  warnings.warn((\n",
      " 12%|█▏        | 4/33 [00:09<01:14,  2.56s/it]D:\\Users\\glede\\anaconda3\\envs\\dev\\lib\\site-packages\\urllib3\\connectionpool.py:842: InsecureRequestWarning: Unverified HTTPS request is being made. Adding certificate verification is strongly advised. See: https://urllib3.readthedocs.io/en/latest/advanced-usage.html#ssl-warnings\n",
      "  warnings.warn((\n",
      " 15%|█▌        | 5/33 [00:12<01:12,  2.58s/it]D:\\Users\\glede\\anaconda3\\envs\\dev\\lib\\site-packages\\urllib3\\connectionpool.py:842: InsecureRequestWarning: Unverified HTTPS request is being made. Adding certificate verification is strongly advised. See: https://urllib3.readthedocs.io/en/latest/advanced-usage.html#ssl-warnings\n",
      "  warnings.warn((\n",
      " 18%|█▊        | 6/33 [00:14<01:05,  2.44s/it]D:\\Users\\glede\\anaconda3\\envs\\dev\\lib\\site-packages\\urllib3\\connectionpool.py:842: InsecureRequestWarning: Unverified HTTPS request is being made. Adding certificate verification is strongly advised. See: https://urllib3.readthedocs.io/en/latest/advanced-usage.html#ssl-warnings\n",
      "  warnings.warn((\n",
      " 21%|██        | 7/33 [00:17<01:09,  2.66s/it]D:\\Users\\glede\\anaconda3\\envs\\dev\\lib\\site-packages\\urllib3\\connectionpool.py:842: InsecureRequestWarning: Unverified HTTPS request is being made. Adding certificate verification is strongly advised. See: https://urllib3.readthedocs.io/en/latest/advanced-usage.html#ssl-warnings\n",
      "  warnings.warn((\n",
      " 24%|██▍       | 8/33 [00:20<01:07,  2.71s/it]D:\\Users\\glede\\anaconda3\\envs\\dev\\lib\\site-packages\\urllib3\\connectionpool.py:842: InsecureRequestWarning: Unverified HTTPS request is being made. Adding certificate verification is strongly advised. See: https://urllib3.readthedocs.io/en/latest/advanced-usage.html#ssl-warnings\n",
      "  warnings.warn((\n",
      " 27%|██▋       | 9/33 [00:23<01:07,  2.81s/it]D:\\Users\\glede\\anaconda3\\envs\\dev\\lib\\site-packages\\urllib3\\connectionpool.py:842: InsecureRequestWarning: Unverified HTTPS request is being made. Adding certificate verification is strongly advised. See: https://urllib3.readthedocs.io/en/latest/advanced-usage.html#ssl-warnings\n",
      "  warnings.warn((\n",
      " 30%|███       | 10/33 [00:26<01:04,  2.82s/it]D:\\Users\\glede\\anaconda3\\envs\\dev\\lib\\site-packages\\urllib3\\connectionpool.py:842: InsecureRequestWarning: Unverified HTTPS request is being made. Adding certificate verification is strongly advised. See: https://urllib3.readthedocs.io/en/latest/advanced-usage.html#ssl-warnings\n",
      "  warnings.warn((\n",
      " 33%|███▎      | 11/33 [00:29<01:01,  2.81s/it]D:\\Users\\glede\\anaconda3\\envs\\dev\\lib\\site-packages\\urllib3\\connectionpool.py:842: InsecureRequestWarning: Unverified HTTPS request is being made. Adding certificate verification is strongly advised. See: https://urllib3.readthedocs.io/en/latest/advanced-usage.html#ssl-warnings\n",
      "  warnings.warn((\n",
      " 36%|███▋      | 12/33 [00:31<00:59,  2.83s/it]D:\\Users\\glede\\anaconda3\\envs\\dev\\lib\\site-packages\\urllib3\\connectionpool.py:842: InsecureRequestWarning: Unverified HTTPS request is being made. Adding certificate verification is strongly advised. See: https://urllib3.readthedocs.io/en/latest/advanced-usage.html#ssl-warnings\n",
      "  warnings.warn((\n",
      " 39%|███▉      | 13/33 [00:34<00:54,  2.73s/it]D:\\Users\\glede\\anaconda3\\envs\\dev\\lib\\site-packages\\urllib3\\connectionpool.py:842: InsecureRequestWarning: Unverified HTTPS request is being made. Adding certificate verification is strongly advised. See: https://urllib3.readthedocs.io/en/latest/advanced-usage.html#ssl-warnings\n",
      "  warnings.warn((\n",
      " 42%|████▏     | 14/33 [00:36<00:50,  2.65s/it]D:\\Users\\glede\\anaconda3\\envs\\dev\\lib\\site-packages\\urllib3\\connectionpool.py:842: InsecureRequestWarning: Unverified HTTPS request is being made. Adding certificate verification is strongly advised. See: https://urllib3.readthedocs.io/en/latest/advanced-usage.html#ssl-warnings\n",
      "  warnings.warn((\n",
      " 45%|████▌     | 15/33 [00:40<00:53,  2.95s/it]D:\\Users\\glede\\anaconda3\\envs\\dev\\lib\\site-packages\\urllib3\\connectionpool.py:842: InsecureRequestWarning: Unverified HTTPS request is being made. Adding certificate verification is strongly advised. See: https://urllib3.readthedocs.io/en/latest/advanced-usage.html#ssl-warnings\n",
      "  warnings.warn((\n",
      " 48%|████▊     | 16/33 [00:42<00:47,  2.80s/it]D:\\Users\\glede\\anaconda3\\envs\\dev\\lib\\site-packages\\urllib3\\connectionpool.py:842: InsecureRequestWarning: Unverified HTTPS request is being made. Adding certificate verification is strongly advised. See: https://urllib3.readthedocs.io/en/latest/advanced-usage.html#ssl-warnings\n",
      "  warnings.warn((\n",
      " 52%|█████▏    | 17/33 [00:45<00:44,  2.80s/it]D:\\Users\\glede\\anaconda3\\envs\\dev\\lib\\site-packages\\urllib3\\connectionpool.py:842: InsecureRequestWarning: Unverified HTTPS request is being made. Adding certificate verification is strongly advised. See: https://urllib3.readthedocs.io/en/latest/advanced-usage.html#ssl-warnings\n",
      "  warnings.warn((\n",
      " 55%|█████▍    | 18/33 [00:48<00:42,  2.83s/it]D:\\Users\\glede\\anaconda3\\envs\\dev\\lib\\site-packages\\urllib3\\connectionpool.py:842: InsecureRequestWarning: Unverified HTTPS request is being made. Adding certificate verification is strongly advised. See: https://urllib3.readthedocs.io/en/latest/advanced-usage.html#ssl-warnings\n",
      "  warnings.warn((\n",
      " 58%|█████▊    | 19/33 [00:51<00:40,  2.86s/it]D:\\Users\\glede\\anaconda3\\envs\\dev\\lib\\site-packages\\urllib3\\connectionpool.py:842: InsecureRequestWarning: Unverified HTTPS request is being made. Adding certificate verification is strongly advised. See: https://urllib3.readthedocs.io/en/latest/advanced-usage.html#ssl-warnings\n",
      "  warnings.warn((\n",
      " 61%|██████    | 20/33 [00:54<00:37,  2.90s/it]D:\\Users\\glede\\anaconda3\\envs\\dev\\lib\\site-packages\\urllib3\\connectionpool.py:842: InsecureRequestWarning: Unverified HTTPS request is being made. Adding certificate verification is strongly advised. See: https://urllib3.readthedocs.io/en/latest/advanced-usage.html#ssl-warnings\n",
      "  warnings.warn((\n",
      " 64%|██████▎   | 21/33 [00:57<00:33,  2.81s/it]D:\\Users\\glede\\anaconda3\\envs\\dev\\lib\\site-packages\\urllib3\\connectionpool.py:842: InsecureRequestWarning: Unverified HTTPS request is being made. Adding certificate verification is strongly advised. See: https://urllib3.readthedocs.io/en/latest/advanced-usage.html#ssl-warnings\n",
      "  warnings.warn((\n",
      " 67%|██████▋   | 22/33 [00:59<00:28,  2.63s/it]D:\\Users\\glede\\anaconda3\\envs\\dev\\lib\\site-packages\\urllib3\\connectionpool.py:842: InsecureRequestWarning: Unverified HTTPS request is being made. Adding certificate verification is strongly advised. See: https://urllib3.readthedocs.io/en/latest/advanced-usage.html#ssl-warnings\n",
      "  warnings.warn((\n",
      " 70%|██████▉   | 23/33 [01:01<00:24,  2.47s/it]D:\\Users\\glede\\anaconda3\\envs\\dev\\lib\\site-packages\\urllib3\\connectionpool.py:842: InsecureRequestWarning: Unverified HTTPS request is being made. Adding certificate verification is strongly advised. See: https://urllib3.readthedocs.io/en/latest/advanced-usage.html#ssl-warnings\n",
      "  warnings.warn((\n",
      " 73%|███████▎  | 24/33 [01:03<00:21,  2.41s/it]D:\\Users\\glede\\anaconda3\\envs\\dev\\lib\\site-packages\\urllib3\\connectionpool.py:842: InsecureRequestWarning: Unverified HTTPS request is being made. Adding certificate verification is strongly advised. See: https://urllib3.readthedocs.io/en/latest/advanced-usage.html#ssl-warnings\n",
      "  warnings.warn((\n",
      " 76%|███████▌  | 25/33 [01:06<00:19,  2.45s/it]D:\\Users\\glede\\anaconda3\\envs\\dev\\lib\\site-packages\\urllib3\\connectionpool.py:842: InsecureRequestWarning: Unverified HTTPS request is being made. Adding certificate verification is strongly advised. See: https://urllib3.readthedocs.io/en/latest/advanced-usage.html#ssl-warnings\n",
      "  warnings.warn((\n",
      " 79%|███████▉  | 26/33 [01:08<00:17,  2.46s/it]D:\\Users\\glede\\anaconda3\\envs\\dev\\lib\\site-packages\\urllib3\\connectionpool.py:842: InsecureRequestWarning: Unverified HTTPS request is being made. Adding certificate verification is strongly advised. See: https://urllib3.readthedocs.io/en/latest/advanced-usage.html#ssl-warnings\n",
      "  warnings.warn((\n",
      " 82%|████████▏ | 27/33 [01:10<00:13,  2.24s/it]D:\\Users\\glede\\anaconda3\\envs\\dev\\lib\\site-packages\\urllib3\\connectionpool.py:842: InsecureRequestWarning: Unverified HTTPS request is being made. Adding certificate verification is strongly advised. See: https://urllib3.readthedocs.io/en/latest/advanced-usage.html#ssl-warnings\n",
      "  warnings.warn((\n",
      " 85%|████████▍ | 28/33 [01:12<00:10,  2.18s/it]D:\\Users\\glede\\anaconda3\\envs\\dev\\lib\\site-packages\\urllib3\\connectionpool.py:842: InsecureRequestWarning: Unverified HTTPS request is being made. Adding certificate verification is strongly advised. See: https://urllib3.readthedocs.io/en/latest/advanced-usage.html#ssl-warnings\n",
      "  warnings.warn((\n",
      " 88%|████████▊ | 29/33 [01:14<00:08,  2.19s/it]D:\\Users\\glede\\anaconda3\\envs\\dev\\lib\\site-packages\\urllib3\\connectionpool.py:842: InsecureRequestWarning: Unverified HTTPS request is being made. Adding certificate verification is strongly advised. See: https://urllib3.readthedocs.io/en/latest/advanced-usage.html#ssl-warnings\n",
      "  warnings.warn((\n",
      " 91%|█████████ | 30/33 [01:16<00:06,  2.06s/it]D:\\Users\\glede\\anaconda3\\envs\\dev\\lib\\site-packages\\urllib3\\connectionpool.py:842: InsecureRequestWarning: Unverified HTTPS request is being made. Adding certificate verification is strongly advised. See: https://urllib3.readthedocs.io/en/latest/advanced-usage.html#ssl-warnings\n",
      "  warnings.warn((\n",
      " 94%|█████████▍| 31/33 [01:18<00:04,  2.02s/it]D:\\Users\\glede\\anaconda3\\envs\\dev\\lib\\site-packages\\urllib3\\connectionpool.py:842: InsecureRequestWarning: Unverified HTTPS request is being made. Adding certificate verification is strongly advised. See: https://urllib3.readthedocs.io/en/latest/advanced-usage.html#ssl-warnings\n",
      "  warnings.warn((\n",
      " 97%|█████████▋| 32/33 [01:20<00:02,  2.11s/it]D:\\Users\\glede\\anaconda3\\envs\\dev\\lib\\site-packages\\urllib3\\connectionpool.py:842: InsecureRequestWarning: Unverified HTTPS request is being made. Adding certificate verification is strongly advised. See: https://urllib3.readthedocs.io/en/latest/advanced-usage.html#ssl-warnings\n",
      "  warnings.warn((\n",
      "100%|██████████| 33/33 [01:22<00:00,  2.51s/it]\n"
     ]
    }
   ],
   "source": [
    "res = {\n",
    "    'ciDATGAN': {},\n",
    "    'LPMC': {},\n",
    "    'DATGAN': {}\n",
    "}\n",
    "\n",
    "for s in stats_str:\n",
    "    res['ciDATGAN'][s] = []\n",
    "    res['LPMC'][s] = []\n",
    "    res['DATGAN'][s] = []\n",
    "\n",
    "for r in tqdm(regions):\n",
    "\n",
    "    # Nomis data\n",
    "    response = http.request(\"GET\", \"https://www.nomisweb.co.uk/api/v01/dataset/NM_503_1.data.csv?geography={}&rows=c_age&cols=rural_urban&measures=20100\".format(regions[r]))\n",
    "\n",
    "    with open('tmp.txt', 'w') as f:\n",
    "        f.write(response.data.decode('utf-8'))\n",
    "\n",
    "    df = pd.read_csv('tmp.txt')\n",
    "\n",
    "    df = df.sort_values('C_AGE')\n",
    "    df = df.iloc[1:, :]\n",
    "    df.index = list(range(len(df)))\n",
    "\n",
    "    df = df['GROUP 1: OBS_VALUE']\n",
    "\n",
    "    dct = {'age': [df.iloc[:17].sum(), df.iloc[17:31].sum(), df.iloc[31:46].sum(), df.iloc[46:66].sum(), df.iloc[66:].sum()]}\n",
    "\n",
    "    nomis = pd.DataFrame(dct, index=bin_labels)\n",
    "    nomis = nomis['age']\n",
    "    nomis /= nomis.sum()\n",
    "\n",
    "    # Oversampled LPMC data\n",
    "    lpmc = pd.read_csv('../../data/synthetic/LPMC/{}.csv'.format(r))\n",
    "    lpmc['age'] = pd.cut(lpmc['age'], bins=bins, labels=bin_labels)\n",
    "    lpmc = lpmc['age'].value_counts()\n",
    "    lpmc = lpmc.sort_index()\n",
    "    lpmc /= lpmc.sum()\n",
    "\n",
    "    # Rejection sampling DATGAN\n",
    "    datgan = pd.read_csv('../../data/synthetic/DATGAN/{}.csv'.format(r))\n",
    "    datgan['age'] = pd.cut(datgan['age'], bins=bins, labels=bin_labels)\n",
    "    datgan = datgan['age'].value_counts()\n",
    "    datgan = datgan.sort_index()\n",
    "    datgan /= datgan.sum()\n",
    "\n",
    "    # ciDATGAN\n",
    "    cidatgan = pd.read_csv('../../data/synthetic/ciDATGAN/{}.csv'.format(r))\n",
    "    cidatgan['age'] = pd.cut(cidatgan['age'], bins=bins, labels=bin_labels)\n",
    "    cidatgan = cidatgan['age'].value_counts()\n",
    "    cidatgan = cidatgan.sort_index()\n",
    "    cidatgan /= cidatgan.sum()\n",
    "\n",
    "    # Histogram\n",
    "    probs = [nomis, lpmc, datgan, cidatgan]\n",
    "\n",
    "    dct = {}\n",
    "    for l in labels:\n",
    "        dct[l] = []\n",
    "\n",
    "    idx = probs[0].index\n",
    "\n",
    "    for i in idx:\n",
    "        for j, l in enumerate(labels):\n",
    "            try:\n",
    "                val = probs[j].loc[i]\n",
    "            except:\n",
    "                val = 0\n",
    "            dct[l].append(val)\n",
    "\n",
    "    tmp_df = pd.DataFrame(dct, index=idx)\n",
    "\n",
    "    tmp_df.plot(figsize=(10,7), kind='bar', color=colors)\n",
    "\n",
    "    plt.legend()\n",
    "    plt.xticks(rotation=45)\n",
    "    plt.title('Age distribution for {}'.format(r))\n",
    "\n",
    "    plt.savefig('../../figures/age/{}.png'.format(r), bbox_inches='tight')\n",
    "    plt.close()\n",
    "\n",
    "    # Compute the stats\n",
    "    res1 = compute_stats(nomis, lpmc)\n",
    "    res2 = compute_stats(nomis, datgan)\n",
    "    res3 = compute_stats(nomis, cidatgan)\n",
    "    for s in stats_str:\n",
    "        res['LPMC'][s].append(res1[s])\n",
    "        res['DATGAN'][s].append(res2[s])\n",
    "        res['ciDATGAN'][s].append(res3[s])"
   ],
   "metadata": {
    "collapsed": false,
    "pycharm": {
     "name": "#%%\n"
    }
   }
  },
  {
   "cell_type": "code",
   "execution_count": 7,
   "outputs": [],
   "source": [
    "for s in stats_str:\n",
    "    tmp = [res['LPMC'][s], res['DATGAN'][s], res['ciDATGAN'][s]]\n",
    "    df = pd.DataFrame(tmp, index=['LPMC', 'DATGAN', 'ciDATGAN'])\n",
    "\n",
    "    plt.figure(figsize=(10,7))\n",
    "\n",
    "    sns.violinplot(data=df.T, palette=colors[1:])\n",
    "\n",
    "    plt.xticks([0,1,2], ['LPMC', 'DATGAN', 'ciDATGAN'])\n",
    "\n",
    "    plt.ylabel('{}'.format(s.upper()))\n",
    "\n",
    "    plt.savefig('../../figures/age/age_{}.png'.format(s), bbox_inches='tight')\n",
    "    plt.savefig('../../figures/age/age_{}.pdf'.format(s), bbox_inches='tight')\n",
    "    plt.close()"
   ],
   "metadata": {
    "collapsed": false,
    "pycharm": {
     "name": "#%%\n"
    }
   }
  },
  {
   "cell_type": "markdown",
   "source": [
    "## Number of people in household"
   ],
   "metadata": {
    "collapsed": false,
    "pycharm": {
     "name": "#%% md\n"
    }
   }
  },
  {
   "cell_type": "code",
   "execution_count": 8,
   "outputs": [],
   "source": [
    "if not os.path.exists('../../figures/hh_people/'):\n",
    "    os.makedirs('../../figures/hh_people/')"
   ],
   "metadata": {
    "collapsed": false,
    "pycharm": {
     "name": "#%%\n"
    }
   }
  },
  {
   "cell_type": "code",
   "execution_count": 9,
   "outputs": [
    {
     "name": "stderr",
     "output_type": "stream",
     "text": [
      "  0%|          | 0/33 [00:00<?, ?it/s]D:\\Users\\glede\\anaconda3\\envs\\dev\\lib\\site-packages\\urllib3\\connectionpool.py:842: InsecureRequestWarning: Unverified HTTPS request is being made. Adding certificate verification is strongly advised. See: https://urllib3.readthedocs.io/en/latest/advanced-usage.html#ssl-warnings\n",
      "  warnings.warn((\n",
      "  3%|▎         | 1/33 [00:01<00:50,  1.58s/it]D:\\Users\\glede\\anaconda3\\envs\\dev\\lib\\site-packages\\urllib3\\connectionpool.py:842: InsecureRequestWarning: Unverified HTTPS request is being made. Adding certificate verification is strongly advised. See: https://urllib3.readthedocs.io/en/latest/advanced-usage.html#ssl-warnings\n",
      "  warnings.warn((\n",
      "  6%|▌         | 2/33 [00:01<00:27,  1.12it/s]D:\\Users\\glede\\anaconda3\\envs\\dev\\lib\\site-packages\\urllib3\\connectionpool.py:842: InsecureRequestWarning: Unverified HTTPS request is being made. Adding certificate verification is strongly advised. See: https://urllib3.readthedocs.io/en/latest/advanced-usage.html#ssl-warnings\n",
      "  warnings.warn((\n",
      "  9%|▉         | 3/33 [00:03<00:38,  1.28s/it]D:\\Users\\glede\\anaconda3\\envs\\dev\\lib\\site-packages\\urllib3\\connectionpool.py:842: InsecureRequestWarning: Unverified HTTPS request is being made. Adding certificate verification is strongly advised. See: https://urllib3.readthedocs.io/en/latest/advanced-usage.html#ssl-warnings\n",
      "  warnings.warn((\n",
      " 12%|█▏        | 4/33 [00:05<00:42,  1.45s/it]D:\\Users\\glede\\anaconda3\\envs\\dev\\lib\\site-packages\\urllib3\\connectionpool.py:842: InsecureRequestWarning: Unverified HTTPS request is being made. Adding certificate verification is strongly advised. See: https://urllib3.readthedocs.io/en/latest/advanced-usage.html#ssl-warnings\n",
      "  warnings.warn((\n",
      " 15%|█▌        | 5/33 [00:06<00:40,  1.45s/it]D:\\Users\\glede\\anaconda3\\envs\\dev\\lib\\site-packages\\urllib3\\connectionpool.py:842: InsecureRequestWarning: Unverified HTTPS request is being made. Adding certificate verification is strongly advised. See: https://urllib3.readthedocs.io/en/latest/advanced-usage.html#ssl-warnings\n",
      "  warnings.warn((\n",
      " 18%|█▊        | 6/33 [00:08<00:37,  1.39s/it]D:\\Users\\glede\\anaconda3\\envs\\dev\\lib\\site-packages\\urllib3\\connectionpool.py:842: InsecureRequestWarning: Unverified HTTPS request is being made. Adding certificate verification is strongly advised. See: https://urllib3.readthedocs.io/en/latest/advanced-usage.html#ssl-warnings\n",
      "  warnings.warn((\n",
      " 21%|██        | 7/33 [00:10<00:40,  1.56s/it]D:\\Users\\glede\\anaconda3\\envs\\dev\\lib\\site-packages\\urllib3\\connectionpool.py:842: InsecureRequestWarning: Unverified HTTPS request is being made. Adding certificate verification is strongly advised. See: https://urllib3.readthedocs.io/en/latest/advanced-usage.html#ssl-warnings\n",
      "  warnings.warn((\n",
      " 24%|██▍       | 8/33 [00:11<00:41,  1.65s/it]D:\\Users\\glede\\anaconda3\\envs\\dev\\lib\\site-packages\\urllib3\\connectionpool.py:842: InsecureRequestWarning: Unverified HTTPS request is being made. Adding certificate verification is strongly advised. See: https://urllib3.readthedocs.io/en/latest/advanced-usage.html#ssl-warnings\n",
      "  warnings.warn((\n",
      " 27%|██▋       | 9/33 [00:13<00:42,  1.75s/it]D:\\Users\\glede\\anaconda3\\envs\\dev\\lib\\site-packages\\urllib3\\connectionpool.py:842: InsecureRequestWarning: Unverified HTTPS request is being made. Adding certificate verification is strongly advised. See: https://urllib3.readthedocs.io/en/latest/advanced-usage.html#ssl-warnings\n",
      "  warnings.warn((\n",
      " 30%|███       | 10/33 [00:15<00:41,  1.80s/it]D:\\Users\\glede\\anaconda3\\envs\\dev\\lib\\site-packages\\urllib3\\connectionpool.py:842: InsecureRequestWarning: Unverified HTTPS request is being made. Adding certificate verification is strongly advised. See: https://urllib3.readthedocs.io/en/latest/advanced-usage.html#ssl-warnings\n",
      "  warnings.warn((\n",
      " 33%|███▎      | 11/33 [00:17<00:39,  1.79s/it]D:\\Users\\glede\\anaconda3\\envs\\dev\\lib\\site-packages\\urllib3\\connectionpool.py:842: InsecureRequestWarning: Unverified HTTPS request is being made. Adding certificate verification is strongly advised. See: https://urllib3.readthedocs.io/en/latest/advanced-usage.html#ssl-warnings\n",
      "  warnings.warn((\n",
      " 36%|███▋      | 12/33 [00:19<00:39,  1.87s/it]D:\\Users\\glede\\anaconda3\\envs\\dev\\lib\\site-packages\\urllib3\\connectionpool.py:842: InsecureRequestWarning: Unverified HTTPS request is being made. Adding certificate verification is strongly advised. See: https://urllib3.readthedocs.io/en/latest/advanced-usage.html#ssl-warnings\n",
      "  warnings.warn((\n",
      " 39%|███▉      | 13/33 [00:21<00:35,  1.78s/it]D:\\Users\\glede\\anaconda3\\envs\\dev\\lib\\site-packages\\urllib3\\connectionpool.py:842: InsecureRequestWarning: Unverified HTTPS request is being made. Adding certificate verification is strongly advised. See: https://urllib3.readthedocs.io/en/latest/advanced-usage.html#ssl-warnings\n",
      "  warnings.warn((\n",
      " 42%|████▏     | 14/33 [00:22<00:32,  1.69s/it]D:\\Users\\glede\\anaconda3\\envs\\dev\\lib\\site-packages\\urllib3\\connectionpool.py:842: InsecureRequestWarning: Unverified HTTPS request is being made. Adding certificate verification is strongly advised. See: https://urllib3.readthedocs.io/en/latest/advanced-usage.html#ssl-warnings\n",
      "  warnings.warn((\n",
      " 45%|████▌     | 15/33 [00:24<00:33,  1.87s/it]D:\\Users\\glede\\anaconda3\\envs\\dev\\lib\\site-packages\\urllib3\\connectionpool.py:842: InsecureRequestWarning: Unverified HTTPS request is being made. Adding certificate verification is strongly advised. See: https://urllib3.readthedocs.io/en/latest/advanced-usage.html#ssl-warnings\n",
      "  warnings.warn((\n",
      " 48%|████▊     | 16/33 [00:26<00:30,  1.80s/it]D:\\Users\\glede\\anaconda3\\envs\\dev\\lib\\site-packages\\urllib3\\connectionpool.py:842: InsecureRequestWarning: Unverified HTTPS request is being made. Adding certificate verification is strongly advised. See: https://urllib3.readthedocs.io/en/latest/advanced-usage.html#ssl-warnings\n",
      "  warnings.warn((\n",
      " 52%|█████▏    | 17/33 [00:28<00:30,  1.91s/it]D:\\Users\\glede\\anaconda3\\envs\\dev\\lib\\site-packages\\urllib3\\connectionpool.py:842: InsecureRequestWarning: Unverified HTTPS request is being made. Adding certificate verification is strongly advised. See: https://urllib3.readthedocs.io/en/latest/advanced-usage.html#ssl-warnings\n",
      "  warnings.warn((\n",
      " 55%|█████▍    | 18/33 [00:30<00:29,  1.97s/it]D:\\Users\\glede\\anaconda3\\envs\\dev\\lib\\site-packages\\urllib3\\connectionpool.py:842: InsecureRequestWarning: Unverified HTTPS request is being made. Adding certificate verification is strongly advised. See: https://urllib3.readthedocs.io/en/latest/advanced-usage.html#ssl-warnings\n",
      "  warnings.warn((\n",
      " 58%|█████▊    | 19/33 [00:33<00:29,  2.07s/it]D:\\Users\\glede\\anaconda3\\envs\\dev\\lib\\site-packages\\urllib3\\connectionpool.py:842: InsecureRequestWarning: Unverified HTTPS request is being made. Adding certificate verification is strongly advised. See: https://urllib3.readthedocs.io/en/latest/advanced-usage.html#ssl-warnings\n",
      "  warnings.warn((\n",
      " 61%|██████    | 20/33 [00:35<00:27,  2.12s/it]D:\\Users\\glede\\anaconda3\\envs\\dev\\lib\\site-packages\\urllib3\\connectionpool.py:842: InsecureRequestWarning: Unverified HTTPS request is being made. Adding certificate verification is strongly advised. See: https://urllib3.readthedocs.io/en/latest/advanced-usage.html#ssl-warnings\n",
      "  warnings.warn((\n",
      " 64%|██████▎   | 21/33 [00:37<00:24,  2.08s/it]D:\\Users\\glede\\anaconda3\\envs\\dev\\lib\\site-packages\\urllib3\\connectionpool.py:842: InsecureRequestWarning: Unverified HTTPS request is being made. Adding certificate verification is strongly advised. See: https://urllib3.readthedocs.io/en/latest/advanced-usage.html#ssl-warnings\n",
      "  warnings.warn((\n",
      " 67%|██████▋   | 22/33 [00:39<00:21,  1.99s/it]D:\\Users\\glede\\anaconda3\\envs\\dev\\lib\\site-packages\\urllib3\\connectionpool.py:842: InsecureRequestWarning: Unverified HTTPS request is being made. Adding certificate verification is strongly advised. See: https://urllib3.readthedocs.io/en/latest/advanced-usage.html#ssl-warnings\n",
      "  warnings.warn((\n",
      " 70%|██████▉   | 23/33 [00:40<00:19,  1.90s/it]D:\\Users\\glede\\anaconda3\\envs\\dev\\lib\\site-packages\\urllib3\\connectionpool.py:842: InsecureRequestWarning: Unverified HTTPS request is being made. Adding certificate verification is strongly advised. See: https://urllib3.readthedocs.io/en/latest/advanced-usage.html#ssl-warnings\n",
      "  warnings.warn((\n",
      " 73%|███████▎  | 24/33 [00:42<00:16,  1.82s/it]D:\\Users\\glede\\anaconda3\\envs\\dev\\lib\\site-packages\\urllib3\\connectionpool.py:842: InsecureRequestWarning: Unverified HTTPS request is being made. Adding certificate verification is strongly advised. See: https://urllib3.readthedocs.io/en/latest/advanced-usage.html#ssl-warnings\n",
      "  warnings.warn((\n",
      " 76%|███████▌  | 25/33 [00:44<00:14,  1.82s/it]D:\\Users\\glede\\anaconda3\\envs\\dev\\lib\\site-packages\\urllib3\\connectionpool.py:842: InsecureRequestWarning: Unverified HTTPS request is being made. Adding certificate verification is strongly advised. See: https://urllib3.readthedocs.io/en/latest/advanced-usage.html#ssl-warnings\n",
      "  warnings.warn((\n",
      " 79%|███████▉  | 26/33 [00:46<00:12,  1.81s/it]D:\\Users\\glede\\anaconda3\\envs\\dev\\lib\\site-packages\\urllib3\\connectionpool.py:842: InsecureRequestWarning: Unverified HTTPS request is being made. Adding certificate verification is strongly advised. See: https://urllib3.readthedocs.io/en/latest/advanced-usage.html#ssl-warnings\n",
      "  warnings.warn((\n",
      " 82%|████████▏ | 27/33 [00:47<00:09,  1.65s/it]D:\\Users\\glede\\anaconda3\\envs\\dev\\lib\\site-packages\\urllib3\\connectionpool.py:842: InsecureRequestWarning: Unverified HTTPS request is being made. Adding certificate verification is strongly advised. See: https://urllib3.readthedocs.io/en/latest/advanced-usage.html#ssl-warnings\n",
      "  warnings.warn((\n",
      " 85%|████████▍ | 28/33 [00:48<00:08,  1.60s/it]D:\\Users\\glede\\anaconda3\\envs\\dev\\lib\\site-packages\\urllib3\\connectionpool.py:842: InsecureRequestWarning: Unverified HTTPS request is being made. Adding certificate verification is strongly advised. See: https://urllib3.readthedocs.io/en/latest/advanced-usage.html#ssl-warnings\n",
      "  warnings.warn((\n",
      " 88%|████████▊ | 29/33 [00:50<00:06,  1.75s/it]D:\\Users\\glede\\anaconda3\\envs\\dev\\lib\\site-packages\\urllib3\\connectionpool.py:842: InsecureRequestWarning: Unverified HTTPS request is being made. Adding certificate verification is strongly advised. See: https://urllib3.readthedocs.io/en/latest/advanced-usage.html#ssl-warnings\n",
      "  warnings.warn((\n",
      " 91%|█████████ | 30/33 [00:52<00:04,  1.65s/it]D:\\Users\\glede\\anaconda3\\envs\\dev\\lib\\site-packages\\urllib3\\connectionpool.py:842: InsecureRequestWarning: Unverified HTTPS request is being made. Adding certificate verification is strongly advised. See: https://urllib3.readthedocs.io/en/latest/advanced-usage.html#ssl-warnings\n",
      "  warnings.warn((\n",
      " 94%|█████████▍| 31/33 [00:53<00:03,  1.58s/it]D:\\Users\\glede\\anaconda3\\envs\\dev\\lib\\site-packages\\urllib3\\connectionpool.py:842: InsecureRequestWarning: Unverified HTTPS request is being made. Adding certificate verification is strongly advised. See: https://urllib3.readthedocs.io/en/latest/advanced-usage.html#ssl-warnings\n",
      "  warnings.warn((\n",
      " 97%|█████████▋| 32/33 [00:55<00:01,  1.65s/it]D:\\Users\\glede\\anaconda3\\envs\\dev\\lib\\site-packages\\urllib3\\connectionpool.py:842: InsecureRequestWarning: Unverified HTTPS request is being made. Adding certificate verification is strongly advised. See: https://urllib3.readthedocs.io/en/latest/advanced-usage.html#ssl-warnings\n",
      "  warnings.warn((\n",
      "100%|██████████| 33/33 [00:57<00:00,  1.73s/it]\n"
     ]
    }
   ],
   "source": [
    "res = {\n",
    "    'ciDATGAN': {},\n",
    "    'LPMC': {},\n",
    "    'DATGAN': {}\n",
    "}\n",
    "\n",
    "for s in stats_str:\n",
    "    res['ciDATGAN'][s] = []\n",
    "    res['LPMC'][s] = []\n",
    "    res['DATGAN'][s] = []\n",
    "\n",
    "for r in tqdm(regions):\n",
    "\n",
    "    # Nomis data\n",
    "    url = 'https://www.nomisweb.co.uk/api/v01/dataset/NM_538_1.data.csv?geography={}&rows=cell&cols=rural_urban&measures=20100'.format(regions[r])\n",
    "    response = http.request('GET', url)\n",
    "\n",
    "    with open('tmp.txt', 'w') as f:\n",
    "        f.write(response.data.decode('utf-8'))\n",
    "\n",
    "    df = pd.read_csv('tmp.txt')\n",
    "\n",
    "    nomis = list(df['GROUP 1: OBS_VALUE'].iloc[1:])\n",
    "    nomis = np.array(nomis)\n",
    "    nomis = nomis/sum(nomis)\n",
    "\n",
    "    # Oversampled LPMC data\n",
    "    lpmc = pd.read_csv('../../data/synthetic/LPMC/{}.csv'.format(r))\n",
    "    tmp = lpmc['hh_people'].value_counts().sort_index(ascending=True)\n",
    "    lpmc = np.zeros(len(nomis))\n",
    "    for i in tmp.index:\n",
    "        if i-1 >= len(lpmc):\n",
    "            lpmc[len(lpmc)-1] += tmp[i]\n",
    "        else:\n",
    "            lpmc[i-1] = tmp[i]\n",
    "    lpmc /= lpmc.sum()\n",
    "\n",
    "    # Rejection sampling DATGAN\n",
    "    datgan = pd.read_csv('../../data/synthetic/DATGAN/{}.csv'.format(r))\n",
    "    tmp = datgan['hh_people'].value_counts().sort_index(ascending=True)\n",
    "    datgan = np.zeros(len(nomis))\n",
    "    for i in tmp.index:\n",
    "        if i-1 >= len(datgan):\n",
    "            datgan[len(datgan)-1] += tmp[i]\n",
    "        else:\n",
    "            datgan[i-1] = tmp[i]\n",
    "    datgan /= datgan.sum()\n",
    "\n",
    "    # ciDATGAN\n",
    "    cidatgan = pd.read_csv('../../data/synthetic/ciDATGAN/{}.csv'.format(r))\n",
    "    tmp = cidatgan['hh_people'].value_counts().sort_index(ascending=True)\n",
    "    cidatgan = np.zeros(len(nomis))\n",
    "    for i in tmp.index:\n",
    "        if i-1 >= len(cidatgan):\n",
    "            cidatgan[len(cidatgan)-1] += tmp[i]\n",
    "        else:\n",
    "            cidatgan[i-1] = tmp[i]\n",
    "    cidatgan /= cidatgan.sum()\n",
    "\n",
    "    # Histogram\n",
    "    probs = [nomis, lpmc, datgan, cidatgan]\n",
    "\n",
    "    dct = {}\n",
    "    for l in labels:\n",
    "        dct[l] = []\n",
    "\n",
    "    idx = range(1, len(nomis)+1)\n",
    "\n",
    "    for i in idx:\n",
    "        for j, l in enumerate(labels):\n",
    "            try:\n",
    "                val = probs[j][i-1]\n",
    "            except:\n",
    "                val = 0\n",
    "            dct[l].append(val)\n",
    "\n",
    "    tmp_df = pd.DataFrame(dct, index=idx)\n",
    "\n",
    "    tmp_df.plot(figsize=(10,7), kind='bar', color=colors)\n",
    "\n",
    "    plt.legend()\n",
    "    plt.xticks(rotation=45)\n",
    "    plt.title('Distribution of people per household for {}'.format(r))\n",
    "\n",
    "    plt.savefig('../../figures/hh_people/{}.png'.format(r), bbox_inches='tight')\n",
    "    plt.close()\n",
    "\n",
    "    # Compute the stats\n",
    "    res1 = compute_stats(nomis, lpmc)\n",
    "    res2 = compute_stats(nomis, datgan)\n",
    "    res3 = compute_stats(nomis, cidatgan)\n",
    "    for s in stats_str:\n",
    "        res['LPMC'][s].append(res1[s])\n",
    "        res['DATGAN'][s].append(res2[s])\n",
    "        res['ciDATGAN'][s].append(res3[s])"
   ],
   "metadata": {
    "collapsed": false,
    "pycharm": {
     "name": "#%%\n"
    }
   }
  },
  {
   "cell_type": "code",
   "execution_count": 10,
   "outputs": [],
   "source": [
    "for s in stats_str:\n",
    "    tmp = [res['LPMC'][s], res['DATGAN'][s], res['ciDATGAN'][s]]\n",
    "    df = pd.DataFrame(tmp, index=['LPMC', 'DATGAN', 'ciDATGAN'])\n",
    "\n",
    "    plt.figure(figsize=(10,7))\n",
    "\n",
    "    sns.violinplot(data=df.T, palette=colors[1:])\n",
    "\n",
    "    plt.xticks([0,1,2], ['LPMC', 'DATGAN', 'ciDATGAN'])\n",
    "\n",
    "    plt.ylabel('{}'.format(s.upper()))\n",
    "\n",
    "    plt.savefig('../../figures/hh_people/hh_people_{}.png'.format(s), bbox_inches='tight')\n",
    "    plt.savefig('../../figures/hh_people/hh_people_{}.pdf'.format(s), bbox_inches='tight')\n",
    "    plt.close()"
   ],
   "metadata": {
    "collapsed": false,
    "pycharm": {
     "name": "#%%\n"
    }
   }
  },
  {
   "cell_type": "markdown",
   "source": [
    "## Distance travelled to work"
   ],
   "metadata": {
    "collapsed": false,
    "pycharm": {
     "name": "#%% md\n"
    }
   }
  },
  {
   "cell_type": "code",
   "execution_count": 11,
   "outputs": [],
   "source": [
    "bins = [-np.inf, 2000, 5000, 10000, 20000, 30000, 40000, 60000, np.inf]\n",
    "bin_labels = ['<2km', '2-5km', '5-10km', '10-20km', '20-30km', '30-40km', '40-60km', '>60km']\n",
    "\n",
    "if not os.path.exists('../../figures/dist_work/'):\n",
    "    os.makedirs('../../figures/dist_work/')"
   ],
   "metadata": {
    "collapsed": false,
    "pycharm": {
     "name": "#%%\n"
    }
   }
  },
  {
   "cell_type": "code",
   "execution_count": 12,
   "outputs": [
    {
     "name": "stderr",
     "output_type": "stream",
     "text": [
      "  0%|          | 0/33 [00:00<?, ?it/s]D:\\Users\\glede\\anaconda3\\envs\\dev\\lib\\site-packages\\urllib3\\connectionpool.py:842: InsecureRequestWarning: Unverified HTTPS request is being made. Adding certificate verification is strongly advised. See: https://urllib3.readthedocs.io/en/latest/advanced-usage.html#ssl-warnings\n",
      "  warnings.warn((\n",
      "  3%|▎         | 1/33 [00:01<00:54,  1.69s/it]D:\\Users\\glede\\anaconda3\\envs\\dev\\lib\\site-packages\\urllib3\\connectionpool.py:842: InsecureRequestWarning: Unverified HTTPS request is being made. Adding certificate verification is strongly advised. See: https://urllib3.readthedocs.io/en/latest/advanced-usage.html#ssl-warnings\n",
      "  warnings.warn((\n",
      "  6%|▌         | 2/33 [00:02<00:30,  1.01it/s]D:\\Users\\glede\\anaconda3\\envs\\dev\\lib\\site-packages\\urllib3\\connectionpool.py:842: InsecureRequestWarning: Unverified HTTPS request is being made. Adding certificate verification is strongly advised. See: https://urllib3.readthedocs.io/en/latest/advanced-usage.html#ssl-warnings\n",
      "  warnings.warn((\n",
      "  9%|▉         | 3/33 [00:04<00:40,  1.36s/it]D:\\Users\\glede\\anaconda3\\envs\\dev\\lib\\site-packages\\urllib3\\connectionpool.py:842: InsecureRequestWarning: Unverified HTTPS request is being made. Adding certificate verification is strongly advised. See: https://urllib3.readthedocs.io/en/latest/advanced-usage.html#ssl-warnings\n",
      "  warnings.warn((\n",
      " 12%|█▏        | 4/33 [00:06<00:47,  1.63s/it]D:\\Users\\glede\\anaconda3\\envs\\dev\\lib\\site-packages\\urllib3\\connectionpool.py:842: InsecureRequestWarning: Unverified HTTPS request is being made. Adding certificate verification is strongly advised. See: https://urllib3.readthedocs.io/en/latest/advanced-usage.html#ssl-warnings\n",
      "  warnings.warn((\n",
      " 15%|█▌        | 5/33 [00:07<00:45,  1.63s/it]D:\\Users\\glede\\anaconda3\\envs\\dev\\lib\\site-packages\\urllib3\\connectionpool.py:842: InsecureRequestWarning: Unverified HTTPS request is being made. Adding certificate verification is strongly advised. See: https://urllib3.readthedocs.io/en/latest/advanced-usage.html#ssl-warnings\n",
      "  warnings.warn((\n",
      " 18%|█▊        | 6/33 [00:09<00:41,  1.53s/it]D:\\Users\\glede\\anaconda3\\envs\\dev\\lib\\site-packages\\urllib3\\connectionpool.py:842: InsecureRequestWarning: Unverified HTTPS request is being made. Adding certificate verification is strongly advised. See: https://urllib3.readthedocs.io/en/latest/advanced-usage.html#ssl-warnings\n",
      "  warnings.warn((\n",
      " 21%|██        | 7/33 [00:11<00:44,  1.71s/it]D:\\Users\\glede\\anaconda3\\envs\\dev\\lib\\site-packages\\urllib3\\connectionpool.py:842: InsecureRequestWarning: Unverified HTTPS request is being made. Adding certificate verification is strongly advised. See: https://urllib3.readthedocs.io/en/latest/advanced-usage.html#ssl-warnings\n",
      "  warnings.warn((\n",
      " 24%|██▍       | 8/33 [00:13<00:44,  1.78s/it]D:\\Users\\glede\\anaconda3\\envs\\dev\\lib\\site-packages\\urllib3\\connectionpool.py:842: InsecureRequestWarning: Unverified HTTPS request is being made. Adding certificate verification is strongly advised. See: https://urllib3.readthedocs.io/en/latest/advanced-usage.html#ssl-warnings\n",
      "  warnings.warn((\n",
      " 27%|██▋       | 9/33 [00:15<00:45,  1.90s/it]D:\\Users\\glede\\anaconda3\\envs\\dev\\lib\\site-packages\\urllib3\\connectionpool.py:842: InsecureRequestWarning: Unverified HTTPS request is being made. Adding certificate verification is strongly advised. See: https://urllib3.readthedocs.io/en/latest/advanced-usage.html#ssl-warnings\n",
      "  warnings.warn((\n",
      " 30%|███       | 10/33 [00:17<00:44,  1.94s/it]D:\\Users\\glede\\anaconda3\\envs\\dev\\lib\\site-packages\\urllib3\\connectionpool.py:842: InsecureRequestWarning: Unverified HTTPS request is being made. Adding certificate verification is strongly advised. See: https://urllib3.readthedocs.io/en/latest/advanced-usage.html#ssl-warnings\n",
      "  warnings.warn((\n",
      " 33%|███▎      | 11/33 [00:19<00:42,  1.92s/it]D:\\Users\\glede\\anaconda3\\envs\\dev\\lib\\site-packages\\urllib3\\connectionpool.py:842: InsecureRequestWarning: Unverified HTTPS request is being made. Adding certificate verification is strongly advised. See: https://urllib3.readthedocs.io/en/latest/advanced-usage.html#ssl-warnings\n",
      "  warnings.warn((\n",
      " 36%|███▋      | 12/33 [00:21<00:41,  1.98s/it]D:\\Users\\glede\\anaconda3\\envs\\dev\\lib\\site-packages\\urllib3\\connectionpool.py:842: InsecureRequestWarning: Unverified HTTPS request is being made. Adding certificate verification is strongly advised. See: https://urllib3.readthedocs.io/en/latest/advanced-usage.html#ssl-warnings\n",
      "  warnings.warn((\n",
      " 39%|███▉      | 13/33 [00:22<00:37,  1.87s/it]D:\\Users\\glede\\anaconda3\\envs\\dev\\lib\\site-packages\\urllib3\\connectionpool.py:842: InsecureRequestWarning: Unverified HTTPS request is being made. Adding certificate verification is strongly advised. See: https://urllib3.readthedocs.io/en/latest/advanced-usage.html#ssl-warnings\n",
      "  warnings.warn((\n",
      " 42%|████▏     | 14/33 [00:24<00:33,  1.76s/it]D:\\Users\\glede\\anaconda3\\envs\\dev\\lib\\site-packages\\urllib3\\connectionpool.py:842: InsecureRequestWarning: Unverified HTTPS request is being made. Adding certificate verification is strongly advised. See: https://urllib3.readthedocs.io/en/latest/advanced-usage.html#ssl-warnings\n",
      "  warnings.warn((\n",
      " 45%|████▌     | 15/33 [00:26<00:35,  1.95s/it]D:\\Users\\glede\\anaconda3\\envs\\dev\\lib\\site-packages\\urllib3\\connectionpool.py:842: InsecureRequestWarning: Unverified HTTPS request is being made. Adding certificate verification is strongly advised. See: https://urllib3.readthedocs.io/en/latest/advanced-usage.html#ssl-warnings\n",
      "  warnings.warn((\n",
      " 48%|████▊     | 16/33 [00:28<00:32,  1.88s/it]D:\\Users\\glede\\anaconda3\\envs\\dev\\lib\\site-packages\\urllib3\\connectionpool.py:842: InsecureRequestWarning: Unverified HTTPS request is being made. Adding certificate verification is strongly advised. See: https://urllib3.readthedocs.io/en/latest/advanced-usage.html#ssl-warnings\n",
      "  warnings.warn((\n",
      " 52%|█████▏    | 17/33 [00:30<00:31,  1.96s/it]D:\\Users\\glede\\anaconda3\\envs\\dev\\lib\\site-packages\\urllib3\\connectionpool.py:842: InsecureRequestWarning: Unverified HTTPS request is being made. Adding certificate verification is strongly advised. See: https://urllib3.readthedocs.io/en/latest/advanced-usage.html#ssl-warnings\n",
      "  warnings.warn((\n",
      " 55%|█████▍    | 18/33 [00:32<00:30,  2.01s/it]D:\\Users\\glede\\anaconda3\\envs\\dev\\lib\\site-packages\\urllib3\\connectionpool.py:842: InsecureRequestWarning: Unverified HTTPS request is being made. Adding certificate verification is strongly advised. See: https://urllib3.readthedocs.io/en/latest/advanced-usage.html#ssl-warnings\n",
      "  warnings.warn((\n",
      " 58%|█████▊    | 19/33 [00:35<00:29,  2.12s/it]D:\\Users\\glede\\anaconda3\\envs\\dev\\lib\\site-packages\\urllib3\\connectionpool.py:842: InsecureRequestWarning: Unverified HTTPS request is being made. Adding certificate verification is strongly advised. See: https://urllib3.readthedocs.io/en/latest/advanced-usage.html#ssl-warnings\n",
      "  warnings.warn((\n",
      " 61%|██████    | 20/33 [00:37<00:28,  2.18s/it]D:\\Users\\glede\\anaconda3\\envs\\dev\\lib\\site-packages\\urllib3\\connectionpool.py:842: InsecureRequestWarning: Unverified HTTPS request is being made. Adding certificate verification is strongly advised. See: https://urllib3.readthedocs.io/en/latest/advanced-usage.html#ssl-warnings\n",
      "  warnings.warn((\n",
      " 64%|██████▎   | 21/33 [00:39<00:26,  2.17s/it]D:\\Users\\glede\\anaconda3\\envs\\dev\\lib\\site-packages\\urllib3\\connectionpool.py:842: InsecureRequestWarning: Unverified HTTPS request is being made. Adding certificate verification is strongly advised. See: https://urllib3.readthedocs.io/en/latest/advanced-usage.html#ssl-warnings\n",
      "  warnings.warn((\n",
      " 67%|██████▋   | 22/33 [00:41<00:22,  2.07s/it]D:\\Users\\glede\\anaconda3\\envs\\dev\\lib\\site-packages\\urllib3\\connectionpool.py:842: InsecureRequestWarning: Unverified HTTPS request is being made. Adding certificate verification is strongly advised. See: https://urllib3.readthedocs.io/en/latest/advanced-usage.html#ssl-warnings\n",
      "  warnings.warn((\n",
      " 70%|██████▉   | 23/33 [00:43<00:19,  1.97s/it]D:\\Users\\glede\\anaconda3\\envs\\dev\\lib\\site-packages\\urllib3\\connectionpool.py:842: InsecureRequestWarning: Unverified HTTPS request is being made. Adding certificate verification is strongly advised. See: https://urllib3.readthedocs.io/en/latest/advanced-usage.html#ssl-warnings\n",
      "  warnings.warn((\n",
      " 73%|███████▎  | 24/33 [00:44<00:17,  1.91s/it]D:\\Users\\glede\\anaconda3\\envs\\dev\\lib\\site-packages\\urllib3\\connectionpool.py:842: InsecureRequestWarning: Unverified HTTPS request is being made. Adding certificate verification is strongly advised. See: https://urllib3.readthedocs.io/en/latest/advanced-usage.html#ssl-warnings\n",
      "  warnings.warn((\n",
      " 76%|███████▌  | 25/33 [00:46<00:15,  1.95s/it]D:\\Users\\glede\\anaconda3\\envs\\dev\\lib\\site-packages\\urllib3\\connectionpool.py:842: InsecureRequestWarning: Unverified HTTPS request is being made. Adding certificate verification is strongly advised. See: https://urllib3.readthedocs.io/en/latest/advanced-usage.html#ssl-warnings\n",
      "  warnings.warn((\n",
      " 79%|███████▉  | 26/33 [00:48<00:13,  1.93s/it]D:\\Users\\glede\\anaconda3\\envs\\dev\\lib\\site-packages\\urllib3\\connectionpool.py:842: InsecureRequestWarning: Unverified HTTPS request is being made. Adding certificate verification is strongly advised. See: https://urllib3.readthedocs.io/en/latest/advanced-usage.html#ssl-warnings\n",
      "  warnings.warn((\n",
      " 82%|████████▏ | 27/33 [00:50<00:10,  1.75s/it]D:\\Users\\glede\\anaconda3\\envs\\dev\\lib\\site-packages\\urllib3\\connectionpool.py:842: InsecureRequestWarning: Unverified HTTPS request is being made. Adding certificate verification is strongly advised. See: https://urllib3.readthedocs.io/en/latest/advanced-usage.html#ssl-warnings\n",
      "  warnings.warn((\n",
      " 85%|████████▍ | 28/33 [00:52<00:10,  2.00s/it]D:\\Users\\glede\\anaconda3\\envs\\dev\\lib\\site-packages\\urllib3\\connectionpool.py:842: InsecureRequestWarning: Unverified HTTPS request is being made. Adding certificate verification is strongly advised. See: https://urllib3.readthedocs.io/en/latest/advanced-usage.html#ssl-warnings\n",
      "  warnings.warn((\n",
      " 88%|████████▊ | 29/33 [00:54<00:08,  2.01s/it]D:\\Users\\glede\\anaconda3\\envs\\dev\\lib\\site-packages\\urllib3\\connectionpool.py:842: InsecureRequestWarning: Unverified HTTPS request is being made. Adding certificate verification is strongly advised. See: https://urllib3.readthedocs.io/en/latest/advanced-usage.html#ssl-warnings\n",
      "  warnings.warn((\n",
      " 91%|█████████ | 30/33 [00:56<00:05,  1.88s/it]D:\\Users\\glede\\anaconda3\\envs\\dev\\lib\\site-packages\\urllib3\\connectionpool.py:842: InsecureRequestWarning: Unverified HTTPS request is being made. Adding certificate verification is strongly advised. See: https://urllib3.readthedocs.io/en/latest/advanced-usage.html#ssl-warnings\n",
      "  warnings.warn((\n",
      " 94%|█████████▍| 31/33 [00:57<00:03,  1.78s/it]D:\\Users\\glede\\anaconda3\\envs\\dev\\lib\\site-packages\\urllib3\\connectionpool.py:842: InsecureRequestWarning: Unverified HTTPS request is being made. Adding certificate verification is strongly advised. See: https://urllib3.readthedocs.io/en/latest/advanced-usage.html#ssl-warnings\n",
      "  warnings.warn((\n",
      " 97%|█████████▋| 32/33 [00:59<00:01,  1.82s/it]D:\\Users\\glede\\anaconda3\\envs\\dev\\lib\\site-packages\\urllib3\\connectionpool.py:842: InsecureRequestWarning: Unverified HTTPS request is being made. Adding certificate verification is strongly advised. See: https://urllib3.readthedocs.io/en/latest/advanced-usage.html#ssl-warnings\n",
      "  warnings.warn((\n",
      "100%|██████████| 33/33 [01:01<00:00,  1.86s/it]\n"
     ]
    }
   ],
   "source": [
    "res = {\n",
    "    'ciDATGAN': {},\n",
    "    'LPMC': {},\n",
    "    'DATGAN': {}\n",
    "}\n",
    "\n",
    "for s in stats_str:\n",
    "    res['ciDATGAN'][s] = []\n",
    "    res['LPMC'][s] = []\n",
    "    res['DATGAN'][s] = []\n",
    "\n",
    "for r in tqdm(regions):\n",
    "\n",
    "    # Get the data\n",
    "    url = 'https://www.nomisweb.co.uk/api/v01/dataset/NM_153_1.data.csv?geography={}&rows=cell&cols=rural_urban&measures=20100'.format(regions[r])\n",
    "    response = http.request('GET', url)\n",
    "\n",
    "    with open('tmp.txt', 'w') as f:\n",
    "        f.write(response.data.decode('utf-8'))\n",
    "\n",
    "    df = pd.read_csv('tmp.txt')\n",
    "    df = df.sort_values('CELL')\n",
    "    df.index = df['CELL']\n",
    "\n",
    "    nomis = list(df['GROUP 1: OBS_VALUE'].iloc[1:9])\n",
    "    nomis = pd.Series(nomis, index=bin_labels)\n",
    "    nomis /= nomis.sum()\n",
    "\n",
    "    # Oversampled LPMC data\n",
    "    lpmc = pd.read_csv('../../data/synthetic/LPMC/{}.csv'.format(r))\n",
    "    lpmc['distance'] = pd.cut(lpmc['distance'], bins=bins, labels=bin_labels)\n",
    "    lpmc = lpmc[lpmc['purpose'] == 'HBW']\n",
    "    lpmc = lpmc[((lpmc['age'] >= 16) & (lpmc['age'] <= 74))]\n",
    "    lpmc = lpmc['distance'].value_counts()\n",
    "    lpmc = lpmc\n",
    "    lpmc = lpmc.sort_index()\n",
    "    lpmc /= lpmc.sum()\n",
    "\n",
    "    # Rejection sampling DATGAN\n",
    "    datgan = pd.read_csv('../../data/synthetic/DATGAN/{}.csv'.format(r))\n",
    "    datgan['distance'] = pd.cut(datgan['distance'], bins=bins, labels=bin_labels)\n",
    "    datgan = datgan[datgan['purpose'] == 'HBW']\n",
    "    datgan = datgan[((datgan['age'] >= 16) & (datgan['age'] <= 74))]\n",
    "    datgan = datgan['distance'].value_counts()\n",
    "    datgan = datgan\n",
    "    datgan = datgan.sort_index()\n",
    "    datgan /= datgan.sum()\n",
    "\n",
    "    # ciDATGAN\n",
    "    cidatgan = pd.read_csv('../../data/synthetic/ciDATGAN/{}.csv'.format(r))\n",
    "    cidatgan['distance'] = pd.cut(cidatgan['distance'], bins=bins, labels=bin_labels)\n",
    "    cidatgan = cidatgan[cidatgan['purpose'] == 'HBW']\n",
    "    cidatgan = cidatgan[((cidatgan['age'] >= 16) & (cidatgan['age'] <= 74))]\n",
    "    cidatgan = cidatgan['distance'].value_counts()\n",
    "    cidatgan = cidatgan\n",
    "    cidatgan = cidatgan.sort_index()\n",
    "    cidatgan /= cidatgan.sum()\n",
    "\n",
    "    # Histogram\n",
    "    probs = [nomis, lpmc, datgan, cidatgan]\n",
    "\n",
    "    dct = {}\n",
    "    for l in labels:\n",
    "        dct[l] = []\n",
    "\n",
    "    idx = probs[0].index\n",
    "\n",
    "    for i in idx:\n",
    "        for j, l in enumerate(labels):\n",
    "            try:\n",
    "                val = probs[j].loc[i]\n",
    "            except:\n",
    "                val = 0\n",
    "            dct[l].append(val)\n",
    "\n",
    "    tmp_df = pd.DataFrame(dct, index=idx)\n",
    "\n",
    "    tmp_df.plot(figsize=(10,7), kind='bar', color=colors)\n",
    "\n",
    "    plt.legend()\n",
    "    plt.xticks(rotation=45)\n",
    "    plt.title('Distribution for the distance to work for {}'.format(r))\n",
    "\n",
    "    plt.savefig('../../figures/dist_work/{}.png'.format(r), bbox_inches='tight')\n",
    "    plt.close()\n",
    "\n",
    "    # Compute the stats\n",
    "    res1 = compute_stats(nomis, lpmc)\n",
    "    res2 = compute_stats(nomis, datgan)\n",
    "    res3 = compute_stats(nomis, cidatgan)\n",
    "    for s in stats_str:\n",
    "        res['LPMC'][s].append(res1[s])\n",
    "        res['DATGAN'][s].append(res2[s])\n",
    "        res['ciDATGAN'][s].append(res3[s])"
   ],
   "metadata": {
    "collapsed": false,
    "pycharm": {
     "name": "#%%\n"
    }
   }
  },
  {
   "cell_type": "code",
   "execution_count": 13,
   "outputs": [],
   "source": [
    "for s in stats_str:\n",
    "    tmp = [res['LPMC'][s], res['DATGAN'][s], res['ciDATGAN'][s]]\n",
    "    df = pd.DataFrame(tmp, index=['LPMC', 'DATGAN', 'ciDATGAN'])\n",
    "\n",
    "    plt.figure(figsize=(10,7))\n",
    "\n",
    "    sns.violinplot(data=df.T, palette=colors[1:])\n",
    "\n",
    "    plt.xticks([0,1,2], ['LPMC', 'DATGAN', 'ciDATGAN'])\n",
    "\n",
    "    plt.ylabel('{}'.format(s.upper()))\n",
    "\n",
    "    plt.savefig('../../figures/dist_work/dist_work_{}.png'.format(s), bbox_inches='tight')\n",
    "    plt.savefig('../../figures/dist_work/dist_work_{}.pdf'.format(s), bbox_inches='tight')\n",
    "    plt.close()"
   ],
   "metadata": {
    "collapsed": false,
    "pycharm": {
     "name": "#%%\n"
    }
   }
  },
  {
   "cell_type": "markdown",
   "source": [
    "## Method of travel to work"
   ],
   "metadata": {
    "collapsed": false,
    "pycharm": {
     "name": "#%% md\n"
    }
   }
  },
  {
   "cell_type": "code",
   "execution_count": 14,
   "outputs": [],
   "source": [
    "order = ['pt', 'drive', 'walk', 'cycle']\n",
    "\n",
    "if not os.path.exists('../../figures/mode_work/'):\n",
    "    os.makedirs('../../figures/mode_work/')"
   ],
   "metadata": {
    "collapsed": false,
    "pycharm": {
     "name": "#%%\n"
    }
   }
  },
  {
   "cell_type": "code",
   "execution_count": 15,
   "outputs": [
    {
     "name": "stderr",
     "output_type": "stream",
     "text": [
      "  0%|          | 0/33 [00:00<?, ?it/s]D:\\Users\\glede\\anaconda3\\envs\\dev\\lib\\site-packages\\urllib3\\connectionpool.py:842: InsecureRequestWarning: Unverified HTTPS request is being made. Adding certificate verification is strongly advised. See: https://urllib3.readthedocs.io/en/latest/advanced-usage.html#ssl-warnings\n",
      "  warnings.warn((\n",
      "  3%|▎         | 1/33 [00:01<00:53,  1.68s/it]D:\\Users\\glede\\anaconda3\\envs\\dev\\lib\\site-packages\\urllib3\\connectionpool.py:842: InsecureRequestWarning: Unverified HTTPS request is being made. Adding certificate verification is strongly advised. See: https://urllib3.readthedocs.io/en/latest/advanced-usage.html#ssl-warnings\n",
      "  warnings.warn((\n",
      "  6%|▌         | 2/33 [00:02<00:30,  1.00it/s]D:\\Users\\glede\\anaconda3\\envs\\dev\\lib\\site-packages\\urllib3\\connectionpool.py:842: InsecureRequestWarning: Unverified HTTPS request is being made. Adding certificate verification is strongly advised. See: https://urllib3.readthedocs.io/en/latest/advanced-usage.html#ssl-warnings\n",
      "  warnings.warn((\n",
      "  9%|▉         | 3/33 [00:04<00:42,  1.41s/it]D:\\Users\\glede\\anaconda3\\envs\\dev\\lib\\site-packages\\urllib3\\connectionpool.py:842: InsecureRequestWarning: Unverified HTTPS request is being made. Adding certificate verification is strongly advised. See: https://urllib3.readthedocs.io/en/latest/advanced-usage.html#ssl-warnings\n",
      "  warnings.warn((\n",
      " 12%|█▏        | 4/33 [00:05<00:46,  1.59s/it]D:\\Users\\glede\\anaconda3\\envs\\dev\\lib\\site-packages\\urllib3\\connectionpool.py:842: InsecureRequestWarning: Unverified HTTPS request is being made. Adding certificate verification is strongly advised. See: https://urllib3.readthedocs.io/en/latest/advanced-usage.html#ssl-warnings\n",
      "  warnings.warn((\n",
      " 15%|█▌        | 5/33 [00:07<00:46,  1.66s/it]D:\\Users\\glede\\anaconda3\\envs\\dev\\lib\\site-packages\\urllib3\\connectionpool.py:842: InsecureRequestWarning: Unverified HTTPS request is being made. Adding certificate verification is strongly advised. See: https://urllib3.readthedocs.io/en/latest/advanced-usage.html#ssl-warnings\n",
      "  warnings.warn((\n",
      " 18%|█▊        | 6/33 [00:09<00:42,  1.58s/it]D:\\Users\\glede\\anaconda3\\envs\\dev\\lib\\site-packages\\urllib3\\connectionpool.py:842: InsecureRequestWarning: Unverified HTTPS request is being made. Adding certificate verification is strongly advised. See: https://urllib3.readthedocs.io/en/latest/advanced-usage.html#ssl-warnings\n",
      "  warnings.warn((\n",
      " 21%|██        | 7/33 [00:11<00:45,  1.74s/it]D:\\Users\\glede\\anaconda3\\envs\\dev\\lib\\site-packages\\urllib3\\connectionpool.py:842: InsecureRequestWarning: Unverified HTTPS request is being made. Adding certificate verification is strongly advised. See: https://urllib3.readthedocs.io/en/latest/advanced-usage.html#ssl-warnings\n",
      "  warnings.warn((\n",
      " 24%|██▍       | 8/33 [00:13<00:45,  1.80s/it]D:\\Users\\glede\\anaconda3\\envs\\dev\\lib\\site-packages\\urllib3\\connectionpool.py:842: InsecureRequestWarning: Unverified HTTPS request is being made. Adding certificate verification is strongly advised. See: https://urllib3.readthedocs.io/en/latest/advanced-usage.html#ssl-warnings\n",
      "  warnings.warn((\n",
      " 27%|██▋       | 9/33 [00:15<00:45,  1.90s/it]D:\\Users\\glede\\anaconda3\\envs\\dev\\lib\\site-packages\\urllib3\\connectionpool.py:842: InsecureRequestWarning: Unverified HTTPS request is being made. Adding certificate verification is strongly advised. See: https://urllib3.readthedocs.io/en/latest/advanced-usage.html#ssl-warnings\n",
      "  warnings.warn((\n",
      " 30%|███       | 10/33 [00:17<00:44,  1.94s/it]D:\\Users\\glede\\anaconda3\\envs\\dev\\lib\\site-packages\\urllib3\\connectionpool.py:842: InsecureRequestWarning: Unverified HTTPS request is being made. Adding certificate verification is strongly advised. See: https://urllib3.readthedocs.io/en/latest/advanced-usage.html#ssl-warnings\n",
      "  warnings.warn((\n",
      " 33%|███▎      | 11/33 [00:19<00:42,  1.91s/it]D:\\Users\\glede\\anaconda3\\envs\\dev\\lib\\site-packages\\urllib3\\connectionpool.py:842: InsecureRequestWarning: Unverified HTTPS request is being made. Adding certificate verification is strongly advised. See: https://urllib3.readthedocs.io/en/latest/advanced-usage.html#ssl-warnings\n",
      "  warnings.warn((\n",
      " 36%|███▋      | 12/33 [00:21<00:41,  1.98s/it]D:\\Users\\glede\\anaconda3\\envs\\dev\\lib\\site-packages\\urllib3\\connectionpool.py:842: InsecureRequestWarning: Unverified HTTPS request is being made. Adding certificate verification is strongly advised. See: https://urllib3.readthedocs.io/en/latest/advanced-usage.html#ssl-warnings\n",
      "  warnings.warn((\n",
      " 39%|███▉      | 13/33 [00:22<00:37,  1.89s/it]D:\\Users\\glede\\anaconda3\\envs\\dev\\lib\\site-packages\\urllib3\\connectionpool.py:842: InsecureRequestWarning: Unverified HTTPS request is being made. Adding certificate verification is strongly advised. See: https://urllib3.readthedocs.io/en/latest/advanced-usage.html#ssl-warnings\n",
      "  warnings.warn((\n",
      " 42%|████▏     | 14/33 [00:24<00:33,  1.78s/it]D:\\Users\\glede\\anaconda3\\envs\\dev\\lib\\site-packages\\urllib3\\connectionpool.py:842: InsecureRequestWarning: Unverified HTTPS request is being made. Adding certificate verification is strongly advised. See: https://urllib3.readthedocs.io/en/latest/advanced-usage.html#ssl-warnings\n",
      "  warnings.warn((\n",
      " 45%|████▌     | 15/33 [00:26<00:34,  1.94s/it]D:\\Users\\glede\\anaconda3\\envs\\dev\\lib\\site-packages\\urllib3\\connectionpool.py:842: InsecureRequestWarning: Unverified HTTPS request is being made. Adding certificate verification is strongly advised. See: https://urllib3.readthedocs.io/en/latest/advanced-usage.html#ssl-warnings\n",
      "  warnings.warn((\n",
      " 48%|████▊     | 16/33 [00:28<00:31,  1.87s/it]D:\\Users\\glede\\anaconda3\\envs\\dev\\lib\\site-packages\\urllib3\\connectionpool.py:842: InsecureRequestWarning: Unverified HTTPS request is being made. Adding certificate verification is strongly advised. See: https://urllib3.readthedocs.io/en/latest/advanced-usage.html#ssl-warnings\n",
      "  warnings.warn((\n",
      " 52%|█████▏    | 17/33 [00:30<00:31,  1.95s/it]D:\\Users\\glede\\anaconda3\\envs\\dev\\lib\\site-packages\\urllib3\\connectionpool.py:842: InsecureRequestWarning: Unverified HTTPS request is being made. Adding certificate verification is strongly advised. See: https://urllib3.readthedocs.io/en/latest/advanced-usage.html#ssl-warnings\n",
      "  warnings.warn((\n",
      " 55%|█████▍    | 18/33 [00:32<00:29,  1.99s/it]D:\\Users\\glede\\anaconda3\\envs\\dev\\lib\\site-packages\\urllib3\\connectionpool.py:842: InsecureRequestWarning: Unverified HTTPS request is being made. Adding certificate verification is strongly advised. See: https://urllib3.readthedocs.io/en/latest/advanced-usage.html#ssl-warnings\n",
      "  warnings.warn((\n",
      " 58%|█████▊    | 19/33 [00:35<00:29,  2.13s/it]D:\\Users\\glede\\anaconda3\\envs\\dev\\lib\\site-packages\\urllib3\\connectionpool.py:842: InsecureRequestWarning: Unverified HTTPS request is being made. Adding certificate verification is strongly advised. See: https://urllib3.readthedocs.io/en/latest/advanced-usage.html#ssl-warnings\n",
      "  warnings.warn((\n",
      " 61%|██████    | 20/33 [00:37<00:28,  2.16s/it]D:\\Users\\glede\\anaconda3\\envs\\dev\\lib\\site-packages\\urllib3\\connectionpool.py:842: InsecureRequestWarning: Unverified HTTPS request is being made. Adding certificate verification is strongly advised. See: https://urllib3.readthedocs.io/en/latest/advanced-usage.html#ssl-warnings\n",
      "  warnings.warn((\n",
      " 64%|██████▎   | 21/33 [00:39<00:25,  2.15s/it]D:\\Users\\glede\\anaconda3\\envs\\dev\\lib\\site-packages\\urllib3\\connectionpool.py:842: InsecureRequestWarning: Unverified HTTPS request is being made. Adding certificate verification is strongly advised. See: https://urllib3.readthedocs.io/en/latest/advanced-usage.html#ssl-warnings\n",
      "  warnings.warn((\n",
      " 67%|██████▋   | 22/33 [00:41<00:22,  2.05s/it]D:\\Users\\glede\\anaconda3\\envs\\dev\\lib\\site-packages\\urllib3\\connectionpool.py:842: InsecureRequestWarning: Unverified HTTPS request is being made. Adding certificate verification is strongly advised. See: https://urllib3.readthedocs.io/en/latest/advanced-usage.html#ssl-warnings\n",
      "  warnings.warn((\n",
      " 70%|██████▉   | 23/33 [00:43<00:19,  1.95s/it]D:\\Users\\glede\\anaconda3\\envs\\dev\\lib\\site-packages\\urllib3\\connectionpool.py:842: InsecureRequestWarning: Unverified HTTPS request is being made. Adding certificate verification is strongly advised. See: https://urllib3.readthedocs.io/en/latest/advanced-usage.html#ssl-warnings\n",
      "  warnings.warn((\n",
      " 73%|███████▎  | 24/33 [00:44<00:16,  1.88s/it]D:\\Users\\glede\\anaconda3\\envs\\dev\\lib\\site-packages\\urllib3\\connectionpool.py:842: InsecureRequestWarning: Unverified HTTPS request is being made. Adding certificate verification is strongly advised. See: https://urllib3.readthedocs.io/en/latest/advanced-usage.html#ssl-warnings\n",
      "  warnings.warn((\n",
      " 76%|███████▌  | 25/33 [00:46<00:15,  1.91s/it]D:\\Users\\glede\\anaconda3\\envs\\dev\\lib\\site-packages\\urllib3\\connectionpool.py:842: InsecureRequestWarning: Unverified HTTPS request is being made. Adding certificate verification is strongly advised. See: https://urllib3.readthedocs.io/en/latest/advanced-usage.html#ssl-warnings\n",
      "  warnings.warn((\n",
      " 79%|███████▉  | 26/33 [00:48<00:13,  1.88s/it]D:\\Users\\glede\\anaconda3\\envs\\dev\\lib\\site-packages\\urllib3\\connectionpool.py:842: InsecureRequestWarning: Unverified HTTPS request is being made. Adding certificate verification is strongly advised. See: https://urllib3.readthedocs.io/en/latest/advanced-usage.html#ssl-warnings\n",
      "  warnings.warn((\n",
      " 82%|████████▏ | 27/33 [00:49<00:10,  1.73s/it]D:\\Users\\glede\\anaconda3\\envs\\dev\\lib\\site-packages\\urllib3\\connectionpool.py:842: InsecureRequestWarning: Unverified HTTPS request is being made. Adding certificate verification is strongly advised. See: https://urllib3.readthedocs.io/en/latest/advanced-usage.html#ssl-warnings\n",
      "  warnings.warn((\n",
      " 85%|████████▍ | 28/33 [00:51<00:08,  1.65s/it]D:\\Users\\glede\\anaconda3\\envs\\dev\\lib\\site-packages\\urllib3\\connectionpool.py:842: InsecureRequestWarning: Unverified HTTPS request is being made. Adding certificate verification is strongly advised. See: https://urllib3.readthedocs.io/en/latest/advanced-usage.html#ssl-warnings\n",
      "  warnings.warn((\n",
      " 88%|████████▊ | 29/33 [00:53<00:06,  1.73s/it]D:\\Users\\glede\\anaconda3\\envs\\dev\\lib\\site-packages\\urllib3\\connectionpool.py:842: InsecureRequestWarning: Unverified HTTPS request is being made. Adding certificate verification is strongly advised. See: https://urllib3.readthedocs.io/en/latest/advanced-usage.html#ssl-warnings\n",
      "  warnings.warn((\n",
      " 91%|█████████ | 30/33 [00:54<00:04,  1.66s/it]D:\\Users\\glede\\anaconda3\\envs\\dev\\lib\\site-packages\\urllib3\\connectionpool.py:842: InsecureRequestWarning: Unverified HTTPS request is being made. Adding certificate verification is strongly advised. See: https://urllib3.readthedocs.io/en/latest/advanced-usage.html#ssl-warnings\n",
      "  warnings.warn((\n",
      " 94%|█████████▍| 31/33 [00:56<00:03,  1.62s/it]D:\\Users\\glede\\anaconda3\\envs\\dev\\lib\\site-packages\\urllib3\\connectionpool.py:842: InsecureRequestWarning: Unverified HTTPS request is being made. Adding certificate verification is strongly advised. See: https://urllib3.readthedocs.io/en/latest/advanced-usage.html#ssl-warnings\n",
      "  warnings.warn((\n",
      " 97%|█████████▋| 32/33 [00:58<00:01,  1.73s/it]D:\\Users\\glede\\anaconda3\\envs\\dev\\lib\\site-packages\\urllib3\\connectionpool.py:842: InsecureRequestWarning: Unverified HTTPS request is being made. Adding certificate verification is strongly advised. See: https://urllib3.readthedocs.io/en/latest/advanced-usage.html#ssl-warnings\n",
      "  warnings.warn((\n",
      "100%|██████████| 33/33 [01:00<00:00,  1.82s/it]\n"
     ]
    }
   ],
   "source": [
    "res = {\n",
    "    'ciDATGAN': {},\n",
    "    'LPMC': {},\n",
    "    'DATGAN': {}\n",
    "}\n",
    "\n",
    "for s in stats_str:\n",
    "    res['ciDATGAN'][s] = []\n",
    "    res['LPMC'][s] = []\n",
    "    res['DATGAN'][s] = []\n",
    "\n",
    "for r in tqdm(regions):\n",
    "\n",
    "    # Get the data\n",
    "    url = 'https://www.nomisweb.co.uk/api/v01/dataset/NM_568_1.data.csv?geography={}&rows=cell&cols=rural_urban&measures=20100'.format(regions[r])\n",
    "    response = http.request('GET', url)\n",
    "\n",
    "    with open('tmp.txt', 'w') as f:\n",
    "        f.write(response.data.decode('utf-8'))\n",
    "\n",
    "    df = pd.read_csv('tmp.txt')\n",
    "    df = df.sort_values('CELL')\n",
    "    df.index = df['CELL']\n",
    "\n",
    "    values = df['GROUP 1: OBS_VALUE']\n",
    "    drive = np.sum(values[6:9])\n",
    "    pt = np.sum(values[2:6])\n",
    "    walk = values[10]\n",
    "    cycle = values[9]\n",
    "\n",
    "    nomis = pd.Series([pt, drive, walk, cycle], index=order)\n",
    "    nomis = nomis.sort_index()\n",
    "    nomis /= nomis.sum()\n",
    "\n",
    "    # Oversampled LPMC data\n",
    "    lpmc = pd.read_csv('../../data/synthetic/LPMC/{}.csv'.format(r))\n",
    "    lpmc = lpmc[lpmc['purpose'] == 'HBW']\n",
    "    lpmc = lpmc[((lpmc['age'] >= 16) & (lpmc['age'] <= 74))]\n",
    "    lpmc = lpmc['travel_mode'].value_counts()\n",
    "    for i in order:\n",
    "        if i not in lpmc.index:\n",
    "            lpmc[i] = 0\n",
    "\n",
    "    lpmc = lpmc.sort_index()\n",
    "    lpmc /= lpmc.sum()\n",
    "\n",
    "    # Rejection sampling DATGAN\n",
    "    datgan = pd.read_csv('../../data/synthetic/DATGAN/{}.csv'.format(r))\n",
    "    datgan = datgan[datgan['purpose'] == 'HBW']\n",
    "    datgan = datgan[((datgan['age'] >= 16) & (datgan['age'] <= 74))]\n",
    "    datgan = datgan['travel_mode'].value_counts()\n",
    "    datgan = datgan.sort_index()\n",
    "    datgan /= datgan.sum()\n",
    "\n",
    "    # ciDATGAN\n",
    "    cidatgan = pd.read_csv('../../data/synthetic/ciDATGAN/{}.csv'.format(r))\n",
    "    cidatgan = cidatgan[cidatgan['purpose'] == 'HBW']\n",
    "    cidatgan = cidatgan[((cidatgan['age'] >= 16) & (cidatgan['age'] <= 74))]\n",
    "    cidatgan = cidatgan['travel_mode'].value_counts()\n",
    "    cidatgan = cidatgan.sort_index()\n",
    "    cidatgan /= cidatgan.sum()\n",
    "\n",
    "    # Histogram\n",
    "    probs = [nomis, lpmc, datgan, cidatgan]\n",
    "\n",
    "    dct = {}\n",
    "    for l in labels:\n",
    "        dct[l] = []\n",
    "\n",
    "    idx = probs[0].index\n",
    "\n",
    "    for i in idx:\n",
    "        for j, l in enumerate(labels):\n",
    "            try:\n",
    "                val = probs[j].loc[i]\n",
    "            except:\n",
    "                val = 0\n",
    "            dct[l].append(val)\n",
    "\n",
    "    tmp_df = pd.DataFrame(dct, index=idx)\n",
    "\n",
    "    tmp_df.plot(figsize=(10,7), kind='bar', color=colors)\n",
    "\n",
    "    plt.legend()\n",
    "    plt.xticks(rotation=45)\n",
    "    plt.title('Distribution for model to work for {}'.format(r))\n",
    "\n",
    "    plt.savefig('../../figures/mode_work/{}.png'.format(r), bbox_inches='tight')\n",
    "    plt.close()\n",
    "\n",
    "    # Compute the stats\n",
    "    res1 = compute_stats(nomis, lpmc)\n",
    "    res2 = compute_stats(nomis, datgan)\n",
    "    res3 = compute_stats(nomis, cidatgan)\n",
    "    for s in stats_str:\n",
    "        res['LPMC'][s].append(res1[s])\n",
    "        res['DATGAN'][s].append(res2[s])\n",
    "        res['ciDATGAN'][s].append(res3[s])"
   ],
   "metadata": {
    "collapsed": false,
    "pycharm": {
     "name": "#%%\n"
    }
   }
  },
  {
   "cell_type": "code",
   "execution_count": 16,
   "outputs": [],
   "source": [
    "for s in stats_str:\n",
    "    tmp = [res['LPMC'][s], res['DATGAN'][s], res['ciDATGAN'][s]]\n",
    "    df = pd.DataFrame(tmp, index=['LPMC', 'DATGAN', 'ciDATGAN'])\n",
    "\n",
    "    plt.figure(figsize=(10,7))\n",
    "\n",
    "    sns.violinplot(data=df.T, palette=colors[1:])\n",
    "\n",
    "    plt.xticks([0,1,2], ['LPMC', 'DATGAN', 'ciDATGAN'])\n",
    "\n",
    "    plt.ylabel('{}'.format(s.upper()))\n",
    "\n",
    "    plt.savefig('../../figures/mode_work/mode_work_{}.png'.format(s), bbox_inches='tight')\n",
    "    plt.savefig('../../figures/mode_work/mode_work_{}.pdf'.format(s), bbox_inches='tight')\n",
    "\n",
    "    plt.close()"
   ],
   "metadata": {
    "collapsed": false,
    "pycharm": {
     "name": "#%%\n"
    }
   }
  },
  {
   "cell_type": "markdown",
   "source": [
    "## Number of cars in the household"
   ],
   "metadata": {
    "collapsed": false,
    "pycharm": {
     "name": "#%% md\n"
    }
   }
  },
  {
   "cell_type": "code",
   "execution_count": 17,
   "outputs": [],
   "source": [
    "if not os.path.exists('../../figures/hh_vehicles/'):\n",
    "    os.makedirs('../../figures/hh_vehicles/')"
   ],
   "metadata": {
    "collapsed": false,
    "pycharm": {
     "name": "#%%\n"
    }
   }
  },
  {
   "cell_type": "code",
   "execution_count": 18,
   "outputs": [
    {
     "name": "stderr",
     "output_type": "stream",
     "text": [
      "  0%|          | 0/33 [00:00<?, ?it/s]D:\\Users\\glede\\anaconda3\\envs\\dev\\lib\\site-packages\\urllib3\\connectionpool.py:842: InsecureRequestWarning: Unverified HTTPS request is being made. Adding certificate verification is strongly advised. See: https://urllib3.readthedocs.io/en/latest/advanced-usage.html#ssl-warnings\n",
      "  warnings.warn((\n",
      "  3%|▎         | 1/33 [00:01<00:50,  1.56s/it]D:\\Users\\glede\\anaconda3\\envs\\dev\\lib\\site-packages\\urllib3\\connectionpool.py:842: InsecureRequestWarning: Unverified HTTPS request is being made. Adding certificate verification is strongly advised. See: https://urllib3.readthedocs.io/en/latest/advanced-usage.html#ssl-warnings\n",
      "  warnings.warn((\n",
      "  6%|▌         | 2/33 [00:02<00:29,  1.06it/s]D:\\Users\\glede\\anaconda3\\envs\\dev\\lib\\site-packages\\urllib3\\connectionpool.py:842: InsecureRequestWarning: Unverified HTTPS request is being made. Adding certificate verification is strongly advised. See: https://urllib3.readthedocs.io/en/latest/advanced-usage.html#ssl-warnings\n",
      "  warnings.warn((\n",
      "  9%|▉         | 3/33 [00:03<00:37,  1.26s/it]D:\\Users\\glede\\anaconda3\\envs\\dev\\lib\\site-packages\\urllib3\\connectionpool.py:842: InsecureRequestWarning: Unverified HTTPS request is being made. Adding certificate verification is strongly advised. See: https://urllib3.readthedocs.io/en/latest/advanced-usage.html#ssl-warnings\n",
      "  warnings.warn((\n",
      " 12%|█▏        | 4/33 [00:05<00:41,  1.43s/it]D:\\Users\\glede\\anaconda3\\envs\\dev\\lib\\site-packages\\urllib3\\connectionpool.py:842: InsecureRequestWarning: Unverified HTTPS request is being made. Adding certificate verification is strongly advised. See: https://urllib3.readthedocs.io/en/latest/advanced-usage.html#ssl-warnings\n",
      "  warnings.warn((\n",
      " 15%|█▌        | 5/33 [00:06<00:40,  1.43s/it]D:\\Users\\glede\\anaconda3\\envs\\dev\\lib\\site-packages\\urllib3\\connectionpool.py:842: InsecureRequestWarning: Unverified HTTPS request is being made. Adding certificate verification is strongly advised. See: https://urllib3.readthedocs.io/en/latest/advanced-usage.html#ssl-warnings\n",
      "  warnings.warn((\n",
      " 18%|█▊        | 6/33 [00:08<00:37,  1.38s/it]D:\\Users\\glede\\anaconda3\\envs\\dev\\lib\\site-packages\\urllib3\\connectionpool.py:842: InsecureRequestWarning: Unverified HTTPS request is being made. Adding certificate verification is strongly advised. See: https://urllib3.readthedocs.io/en/latest/advanced-usage.html#ssl-warnings\n",
      "  warnings.warn((\n",
      " 21%|██        | 7/33 [00:10<00:40,  1.55s/it]D:\\Users\\glede\\anaconda3\\envs\\dev\\lib\\site-packages\\urllib3\\connectionpool.py:842: InsecureRequestWarning: Unverified HTTPS request is being made. Adding certificate verification is strongly advised. See: https://urllib3.readthedocs.io/en/latest/advanced-usage.html#ssl-warnings\n",
      "  warnings.warn((\n",
      " 24%|██▍       | 8/33 [00:11<00:40,  1.63s/it]D:\\Users\\glede\\anaconda3\\envs\\dev\\lib\\site-packages\\urllib3\\connectionpool.py:842: InsecureRequestWarning: Unverified HTTPS request is being made. Adding certificate verification is strongly advised. See: https://urllib3.readthedocs.io/en/latest/advanced-usage.html#ssl-warnings\n",
      "  warnings.warn((\n",
      " 27%|██▋       | 9/33 [00:13<00:41,  1.75s/it]D:\\Users\\glede\\anaconda3\\envs\\dev\\lib\\site-packages\\urllib3\\connectionpool.py:842: InsecureRequestWarning: Unverified HTTPS request is being made. Adding certificate verification is strongly advised. See: https://urllib3.readthedocs.io/en/latest/advanced-usage.html#ssl-warnings\n",
      "  warnings.warn((\n",
      " 30%|███       | 10/33 [00:15<00:41,  1.79s/it]D:\\Users\\glede\\anaconda3\\envs\\dev\\lib\\site-packages\\urllib3\\connectionpool.py:842: InsecureRequestWarning: Unverified HTTPS request is being made. Adding certificate verification is strongly advised. See: https://urllib3.readthedocs.io/en/latest/advanced-usage.html#ssl-warnings\n",
      "  warnings.warn((\n",
      " 33%|███▎      | 11/33 [00:17<00:38,  1.76s/it]D:\\Users\\glede\\anaconda3\\envs\\dev\\lib\\site-packages\\urllib3\\connectionpool.py:842: InsecureRequestWarning: Unverified HTTPS request is being made. Adding certificate verification is strongly advised. See: https://urllib3.readthedocs.io/en/latest/advanced-usage.html#ssl-warnings\n",
      "  warnings.warn((\n",
      " 36%|███▋      | 12/33 [00:19<00:39,  1.88s/it]D:\\Users\\glede\\anaconda3\\envs\\dev\\lib\\site-packages\\urllib3\\connectionpool.py:842: InsecureRequestWarning: Unverified HTTPS request is being made. Adding certificate verification is strongly advised. See: https://urllib3.readthedocs.io/en/latest/advanced-usage.html#ssl-warnings\n",
      "  warnings.warn((\n",
      " 39%|███▉      | 13/33 [00:21<00:35,  1.77s/it]D:\\Users\\glede\\anaconda3\\envs\\dev\\lib\\site-packages\\urllib3\\connectionpool.py:842: InsecureRequestWarning: Unverified HTTPS request is being made. Adding certificate verification is strongly advised. See: https://urllib3.readthedocs.io/en/latest/advanced-usage.html#ssl-warnings\n",
      "  warnings.warn((\n",
      " 42%|████▏     | 14/33 [00:22<00:31,  1.66s/it]D:\\Users\\glede\\anaconda3\\envs\\dev\\lib\\site-packages\\urllib3\\connectionpool.py:842: InsecureRequestWarning: Unverified HTTPS request is being made. Adding certificate verification is strongly advised. See: https://urllib3.readthedocs.io/en/latest/advanced-usage.html#ssl-warnings\n",
      "  warnings.warn((\n",
      " 45%|████▌     | 15/33 [00:24<00:34,  1.90s/it]D:\\Users\\glede\\anaconda3\\envs\\dev\\lib\\site-packages\\urllib3\\connectionpool.py:842: InsecureRequestWarning: Unverified HTTPS request is being made. Adding certificate verification is strongly advised. See: https://urllib3.readthedocs.io/en/latest/advanced-usage.html#ssl-warnings\n",
      "  warnings.warn((\n",
      " 48%|████▊     | 16/33 [00:26<00:30,  1.79s/it]D:\\Users\\glede\\anaconda3\\envs\\dev\\lib\\site-packages\\urllib3\\connectionpool.py:842: InsecureRequestWarning: Unverified HTTPS request is being made. Adding certificate verification is strongly advised. See: https://urllib3.readthedocs.io/en/latest/advanced-usage.html#ssl-warnings\n",
      "  warnings.warn((\n",
      " 52%|█████▏    | 17/33 [00:28<00:29,  1.84s/it]D:\\Users\\glede\\anaconda3\\envs\\dev\\lib\\site-packages\\urllib3\\connectionpool.py:842: InsecureRequestWarning: Unverified HTTPS request is being made. Adding certificate verification is strongly advised. See: https://urllib3.readthedocs.io/en/latest/advanced-usage.html#ssl-warnings\n",
      "  warnings.warn((\n",
      " 55%|█████▍    | 18/33 [00:30<00:27,  1.86s/it]D:\\Users\\glede\\anaconda3\\envs\\dev\\lib\\site-packages\\urllib3\\connectionpool.py:842: InsecureRequestWarning: Unverified HTTPS request is being made. Adding certificate verification is strongly advised. See: https://urllib3.readthedocs.io/en/latest/advanced-usage.html#ssl-warnings\n",
      "  warnings.warn((\n",
      " 58%|█████▊    | 19/33 [00:32<00:27,  1.99s/it]D:\\Users\\glede\\anaconda3\\envs\\dev\\lib\\site-packages\\urllib3\\connectionpool.py:842: InsecureRequestWarning: Unverified HTTPS request is being made. Adding certificate verification is strongly advised. See: https://urllib3.readthedocs.io/en/latest/advanced-usage.html#ssl-warnings\n",
      "  warnings.warn((\n",
      " 61%|██████    | 20/33 [00:34<00:26,  2.03s/it]D:\\Users\\glede\\anaconda3\\envs\\dev\\lib\\site-packages\\urllib3\\connectionpool.py:842: InsecureRequestWarning: Unverified HTTPS request is being made. Adding certificate verification is strongly advised. See: https://urllib3.readthedocs.io/en/latest/advanced-usage.html#ssl-warnings\n",
      "  warnings.warn((\n",
      " 64%|██████▎   | 21/33 [00:36<00:24,  2.01s/it]D:\\Users\\glede\\anaconda3\\envs\\dev\\lib\\site-packages\\urllib3\\connectionpool.py:842: InsecureRequestWarning: Unverified HTTPS request is being made. Adding certificate verification is strongly advised. See: https://urllib3.readthedocs.io/en/latest/advanced-usage.html#ssl-warnings\n",
      "  warnings.warn((\n",
      " 67%|██████▋   | 22/33 [00:38<00:21,  1.91s/it]D:\\Users\\glede\\anaconda3\\envs\\dev\\lib\\site-packages\\urllib3\\connectionpool.py:842: InsecureRequestWarning: Unverified HTTPS request is being made. Adding certificate verification is strongly advised. See: https://urllib3.readthedocs.io/en/latest/advanced-usage.html#ssl-warnings\n",
      "  warnings.warn((\n",
      " 70%|██████▉   | 23/33 [00:39<00:18,  1.82s/it]D:\\Users\\glede\\anaconda3\\envs\\dev\\lib\\site-packages\\urllib3\\connectionpool.py:842: InsecureRequestWarning: Unverified HTTPS request is being made. Adding certificate verification is strongly advised. See: https://urllib3.readthedocs.io/en/latest/advanced-usage.html#ssl-warnings\n",
      "  warnings.warn((\n",
      " 73%|███████▎  | 24/33 [00:41<00:15,  1.75s/it]D:\\Users\\glede\\anaconda3\\envs\\dev\\lib\\site-packages\\urllib3\\connectionpool.py:842: InsecureRequestWarning: Unverified HTTPS request is being made. Adding certificate verification is strongly advised. See: https://urllib3.readthedocs.io/en/latest/advanced-usage.html#ssl-warnings\n",
      "  warnings.warn((\n",
      " 76%|███████▌  | 25/33 [00:43<00:14,  1.78s/it]D:\\Users\\glede\\anaconda3\\envs\\dev\\lib\\site-packages\\urllib3\\connectionpool.py:842: InsecureRequestWarning: Unverified HTTPS request is being made. Adding certificate verification is strongly advised. See: https://urllib3.readthedocs.io/en/latest/advanced-usage.html#ssl-warnings\n",
      "  warnings.warn((\n",
      " 79%|███████▉  | 26/33 [00:45<00:12,  1.74s/it]D:\\Users\\glede\\anaconda3\\envs\\dev\\lib\\site-packages\\urllib3\\connectionpool.py:842: InsecureRequestWarning: Unverified HTTPS request is being made. Adding certificate verification is strongly advised. See: https://urllib3.readthedocs.io/en/latest/advanced-usage.html#ssl-warnings\n",
      "  warnings.warn((\n",
      " 82%|████████▏ | 27/33 [00:46<00:09,  1.59s/it]D:\\Users\\glede\\anaconda3\\envs\\dev\\lib\\site-packages\\urllib3\\connectionpool.py:842: InsecureRequestWarning: Unverified HTTPS request is being made. Adding certificate verification is strongly advised. See: https://urllib3.readthedocs.io/en/latest/advanced-usage.html#ssl-warnings\n",
      "  warnings.warn((\n",
      " 85%|████████▍ | 28/33 [00:47<00:07,  1.56s/it]D:\\Users\\glede\\anaconda3\\envs\\dev\\lib\\site-packages\\urllib3\\connectionpool.py:842: InsecureRequestWarning: Unverified HTTPS request is being made. Adding certificate verification is strongly advised. See: https://urllib3.readthedocs.io/en/latest/advanced-usage.html#ssl-warnings\n",
      "  warnings.warn((\n",
      " 88%|████████▊ | 29/33 [00:49<00:06,  1.63s/it]D:\\Users\\glede\\anaconda3\\envs\\dev\\lib\\site-packages\\urllib3\\connectionpool.py:842: InsecureRequestWarning: Unverified HTTPS request is being made. Adding certificate verification is strongly advised. See: https://urllib3.readthedocs.io/en/latest/advanced-usage.html#ssl-warnings\n",
      "  warnings.warn((\n",
      " 91%|█████████ | 30/33 [00:51<00:04,  1.57s/it]D:\\Users\\glede\\anaconda3\\envs\\dev\\lib\\site-packages\\urllib3\\connectionpool.py:842: InsecureRequestWarning: Unverified HTTPS request is being made. Adding certificate verification is strongly advised. See: https://urllib3.readthedocs.io/en/latest/advanced-usage.html#ssl-warnings\n",
      "  warnings.warn((\n",
      " 94%|█████████▍| 31/33 [00:52<00:03,  1.50s/it]D:\\Users\\glede\\anaconda3\\envs\\dev\\lib\\site-packages\\urllib3\\connectionpool.py:842: InsecureRequestWarning: Unverified HTTPS request is being made. Adding certificate verification is strongly advised. See: https://urllib3.readthedocs.io/en/latest/advanced-usage.html#ssl-warnings\n",
      "  warnings.warn((\n",
      " 97%|█████████▋| 32/33 [00:54<00:01,  1.58s/it]D:\\Users\\glede\\anaconda3\\envs\\dev\\lib\\site-packages\\urllib3\\connectionpool.py:842: InsecureRequestWarning: Unverified HTTPS request is being made. Adding certificate verification is strongly advised. See: https://urllib3.readthedocs.io/en/latest/advanced-usage.html#ssl-warnings\n",
      "  warnings.warn((\n",
      "100%|██████████| 33/33 [00:55<00:00,  1.68s/it]\n"
     ]
    }
   ],
   "source": [
    "res = {\n",
    "    'ciDATGAN': {},\n",
    "    'LPMC': {},\n",
    "    'DATGAN': {}\n",
    "}\n",
    "\n",
    "for s in stats_str:\n",
    "    res['ciDATGAN'][s] = []\n",
    "    res['LPMC'][s] = []\n",
    "    res['DATGAN'][s] = []\n",
    "\n",
    "for r in tqdm(regions):\n",
    "\n",
    "    # Get the data\n",
    "    url = 'https://www.nomisweb.co.uk/api/v01/dataset/NM_621_1.data.csv?geography={}&rows=cell&cols=rural_urban&measures=20100'.format(regions[r])\n",
    "    response = http.request('GET', url)\n",
    "\n",
    "    with open('tmp.txt', 'w') as f:\n",
    "        f.write(response.data.decode('utf-8'))\n",
    "\n",
    "    df = pd.read_csv('tmp.txt')\n",
    "\n",
    "    nomis = df['GROUP 1: OBS_VALUE'].iloc[1:6]\n",
    "    nomis = np.array(nomis)\n",
    "    nomis = nomis/nomis.sum()\n",
    "\n",
    "    # Oversampled LPMC data\n",
    "    lpmc = pd.read_csv('../../data/synthetic/LPMC/{}.csv'.format(r))\n",
    "    tmp = lpmc['hh_vehicles'].value_counts().sort_index(ascending=True)\n",
    "    lpmc = np.zeros(len(nomis))\n",
    "    for i in tmp.index:\n",
    "        if i-1 >= len(lpmc):\n",
    "            lpmc[len(lpmc)-1] += tmp[i]\n",
    "        else:\n",
    "            lpmc[i-1] = tmp[i]\n",
    "    lpmc /= lpmc.sum()\n",
    "\n",
    "    # Rejection sampling DATGAN\n",
    "    datgan = pd.read_csv('../../data/synthetic/DATGAN/{}.csv'.format(r))\n",
    "    tmp = datgan['hh_vehicles'].value_counts().sort_index(ascending=True)\n",
    "    datgan = np.zeros(len(nomis))\n",
    "    for i in tmp.index:\n",
    "        if i-1 >= len(datgan):\n",
    "            datgan[len(datgan)-1] += tmp[i]\n",
    "        else:\n",
    "            datgan[i-1] = tmp[i]\n",
    "    datgan /= datgan.sum()\n",
    "\n",
    "    # ciDATGAN\n",
    "    cidatgan = pd.read_csv('../../data/synthetic/ciDATGAN/{}.csv'.format(r))\n",
    "    tmp = cidatgan['hh_vehicles'].value_counts().sort_index(ascending=True)\n",
    "    cidatgan = np.zeros(len(nomis))\n",
    "    for i in tmp.index:\n",
    "        if i-1 >= len(cidatgan):\n",
    "            cidatgan[len(cidatgan)-1] += tmp[i]\n",
    "        else:\n",
    "            cidatgan[i-1] = tmp[i]\n",
    "    cidatgan /= cidatgan.sum()\n",
    "\n",
    "    # Histogram\n",
    "    probs = [nomis, lpmc, datgan, cidatgan]\n",
    "\n",
    "    dct = {}\n",
    "    for l in labels:\n",
    "        dct[l] = []\n",
    "\n",
    "    idx = range(1, len(nomis)+1)\n",
    "\n",
    "    for i in idx:\n",
    "        for j, l in enumerate(labels):\n",
    "            try:\n",
    "                val = probs[j][i-1]\n",
    "            except:\n",
    "                val = 0\n",
    "            dct[l].append(val)\n",
    "\n",
    "    tmp_df = pd.DataFrame(dct, index=idx)\n",
    "\n",
    "    tmp_df.plot(figsize=(10,7), kind='bar', color=colors)\n",
    "\n",
    "    plt.legend()\n",
    "    plt.xticks(rotation=45)\n",
    "    plt.title('Distribution of vehicles per household for {}'.format(r))\n",
    "\n",
    "    plt.savefig('../../figures/hh_vehicles/{}.png'.format(r), bbox_inches='tight')\n",
    "    plt.close()\n",
    "\n",
    "    # Compute the stats\n",
    "    res1 = compute_stats(nomis, lpmc)\n",
    "    res2 = compute_stats(nomis, datgan)\n",
    "    res3 = compute_stats(nomis, cidatgan)\n",
    "    for s in stats_str:\n",
    "        res['LPMC'][s].append(res1[s])\n",
    "        res['DATGAN'][s].append(res2[s])\n",
    "        res['ciDATGAN'][s].append(res3[s])"
   ],
   "metadata": {
    "collapsed": false,
    "pycharm": {
     "name": "#%%\n"
    }
   }
  },
  {
   "cell_type": "code",
   "execution_count": 19,
   "outputs": [],
   "source": [
    "for s in stats_str:\n",
    "    tmp = [res['LPMC'][s], res['DATGAN'][s], res['ciDATGAN'][s]]\n",
    "    df = pd.DataFrame(tmp, index=['LPMC', 'DATGAN', 'ciDATGAN'])\n",
    "\n",
    "    plt.figure(figsize=(10,7))\n",
    "\n",
    "    sns.violinplot(data=df.T, palette=colors[1:])\n",
    "\n",
    "    plt.xticks([0,1,2], ['LPMC', 'DATGAN', 'ciDATGAN'])\n",
    "\n",
    "    plt.ylabel('{}'.format(s.upper()))\n",
    "\n",
    "    plt.savefig('../../figures/hh_vehicles/hh_vehicles_{}.png'.format(s), bbox_inches='tight')\n",
    "    plt.savefig('../../figures/hh_vehicles/hh_vehicles_{}.pdf'.format(s), bbox_inches='tight')\n",
    "\n",
    "    plt.close()"
   ],
   "metadata": {
    "collapsed": false,
    "pycharm": {
     "name": "#%%\n"
    }
   }
  },
  {
   "cell_type": "code",
   "execution_count": null,
   "outputs": [],
   "source": [],
   "metadata": {
    "collapsed": false,
    "pycharm": {
     "name": "#%%\n"
    }
   }
  }
 ],
 "metadata": {
  "kernelspec": {
   "name": "dev",
   "language": "python",
   "display_name": "dev"
  },
  "language_info": {
   "codemirror_mode": {
    "name": "ipython",
    "version": 2
   },
   "file_extension": ".py",
   "mimetype": "text/x-python",
   "name": "python",
   "nbconvert_exporter": "python",
   "pygments_lexer": "ipython2",
   "version": "2.7.6"
  }
 },
 "nbformat": 4,
 "nbformat_minor": 0
}