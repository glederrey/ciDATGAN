{
 "cells": [
  {
   "cell_type": "code",
   "execution_count": 1,
   "metadata": {
    "collapsed": true
   },
   "outputs": [],
   "source": [
    "import os\n",
    "import pickle\n",
    "import numpy as np\n",
    "import pandas as pd\n",
    "import matplotlib.pyplot as plt\n",
    "\n",
    "import seaborn as sns\n",
    "sns.set_style(\"whitegrid\")\n",
    "\n",
    "from sklearn.preprocessing import OrdinalEncoder\n",
    "\n",
    "from datgan import stats_assessment\n",
    "from datgan import ml_assessment, transform_results\n",
    "\n",
    "\n",
    "# For the Python notebook\n",
    "%matplotlib inline\n",
    "%reload_ext autoreload\n",
    "%autoreload 2"
   ]
  },
  {
   "cell_type": "code",
   "execution_count": 2,
   "outputs": [],
   "source": [
    "df_orig = pd.read_csv('../../data/LPMC/trips.csv', index_col=False)\n",
    "\n",
    "continuous_columns = ['start_time_linear', 'age', 'distance', 'dur_walking', 'dur_cycling', 'dur_pt','dur_driving', 'driving_traffic_percent']\n",
    "\n",
    "cond_inputs = [\"age\", \"female\", \"hh_borough\"]\n",
    "\n",
    "synth_files = []\n",
    "\n",
    "for i in range(5):\n",
    "    synth_files.append('../../data/synthetic/test/ciDATGAN_{:02d}.csv'.format(i+1))\n",
    "    synth_files.append('../../data/synthetic/test/DATGAN_{:02d}.csv'.format(i+1))\n",
    "\n",
    "len_df = len(df_orig)"
   ],
   "metadata": {
    "collapsed": false,
    "pycharm": {
     "name": "#%%\n"
    }
   }
  },
  {
   "cell_type": "code",
   "execution_count": 3,
   "outputs": [],
   "source": [
    "results_path = './results/'\n",
    "\n",
    "if not os.path.exists(results_path):\n",
    "    os.makedirs(results_path)"
   ],
   "metadata": {
    "collapsed": false,
    "pycharm": {
     "name": "#%%\n"
    }
   }
  },
  {
   "cell_type": "code",
   "execution_count": 4,
   "outputs": [],
   "source": [
    "stats_str = ['mae', 'rmse', 'r2', 'srmse', 'corr']\n",
    "colors = [(0.6627450980392157, 0.6627450980392157, 0.6627450980392157, 1.0), (1.0, 0.0, 0.0, 0.0)]"
   ],
   "metadata": {
    "collapsed": false,
    "pycharm": {
     "name": "#%%\n"
    }
   }
  },
  {
   "cell_type": "markdown",
   "source": [
    "# First level"
   ],
   "metadata": {
    "collapsed": false,
    "pycharm": {
     "name": "#%% md\n"
    }
   }
  },
  {
   "cell_type": "code",
   "execution_count": 5,
   "outputs": [
    {
     "name": "stdout",
     "output_type": "stream",
     "text": [
      "No previous results found, starting fresh\n"
     ]
    }
   ],
   "source": [
    "pickle_name = 'res_lvl1.pickle'\n",
    "aggregation_level = 1\n",
    "\n",
    "first_lvl_stats = {}\n",
    "\n",
    "try:\n",
    "    first_lvl_stats = pickle.load(open(results_path + pickle_name, 'rb'))\n",
    "    print('Found previous pickle file, using that')\n",
    "except:\n",
    "    print('No previous results found, starting fresh')"
   ],
   "metadata": {
    "collapsed": false,
    "pycharm": {
     "name": "#%%\n"
    }
   }
  },
  {
   "cell_type": "code",
   "execution_count": 6,
   "outputs": [
    {
     "name": "stdout",
     "output_type": "stream",
     "text": [
      "Preparing stats for file \u001B[1mciDATGAN_01\u001B[0m (1/10)\n",
      "Preparing stats for file \u001B[1mDATGAN_01\u001B[0m (2/10)\n",
      "Preparing stats for file \u001B[1mciDATGAN_02\u001B[0m (3/10)\n",
      "Preparing stats for file \u001B[1mDATGAN_02\u001B[0m (4/10)\n",
      "Preparing stats for file \u001B[1mciDATGAN_03\u001B[0m (5/10)\n",
      "Preparing stats for file \u001B[1mDATGAN_03\u001B[0m (6/10)\n",
      "Preparing stats for file \u001B[1mciDATGAN_04\u001B[0m (7/10)\n",
      "Preparing stats for file \u001B[1mDATGAN_04\u001B[0m (8/10)\n",
      "Preparing stats for file \u001B[1mciDATGAN_05\u001B[0m (9/10)\n",
      "Preparing stats for file \u001B[1mDATGAN_05\u001B[0m (10/10)\n",
      "\u001B[1mFINISHED!\u001B[0m\n"
     ]
    }
   ],
   "source": [
    "for i, f in enumerate(synth_files):\n",
    "\n",
    "    file_name = f.split('/')[-1].split('.')[0]\n",
    "\n",
    "    if file_name in first_lvl_stats:\n",
    "        print(\"Results for file \\033[1m{}\\033[0m ({}/{}) already exists!\".format(file_name, i+1, len(synth_files)))\n",
    "    else:\n",
    "        print(\"Preparing stats for file \\033[1m{}\\033[0m ({}/{})\".format(file_name, i+1, len(synth_files)))\n",
    "\n",
    "        first_lvl_stats[file_name] = {}\n",
    "\n",
    "        df_synth = pd.read_csv(f, index_col=False)\n",
    "        df_synth = df_synth.sample(len_df).reset_index(drop=True)\n",
    "\n",
    "        stats = stats_assessment(df_orig, df_synth, continuous_columns, aggregation_level, ignore_cols=cond_inputs)\n",
    "\n",
    "        first_lvl_stats[file_name] = stats\n",
    "\n",
    "    pickle.dump(first_lvl_stats, open(results_path + pickle_name, 'wb'))\n",
    "\n",
    "print(\"\\033[1mFINISHED!\\033[0m\")"
   ],
   "metadata": {
    "collapsed": false,
    "pycharm": {
     "name": "#%%\n"
    }
   }
  },
  {
   "cell_type": "code",
   "execution_count": 7,
   "outputs": [],
   "source": [
    "res = {}\n",
    "\n",
    "for test in ['all', 'cont', 'cat']:\n",
    "\n",
    "    res[test] = {}\n",
    "\n",
    "    if test == 'all':\n",
    "        cols = df_orig.columns\n",
    "    elif test == 'cont':\n",
    "        cols = continuous_columns\n",
    "    elif test == 'cat':\n",
    "        cols = set(df_orig.columns) - set(continuous_columns)\n",
    "\n",
    "    cols = set(cols) - set(cond_inputs)\n",
    "\n",
    "    for s in stats_str:\n",
    "        res[test][s] = {}\n",
    "\n",
    "    for m in first_lvl_stats.keys():\n",
    "        for s in stats_str:\n",
    "            res[test][s][m] = []\n",
    "\n",
    "            for c in cols:\n",
    "                res[test][s][m].append(first_lvl_stats[m][c][s])"
   ],
   "metadata": {
    "collapsed": false,
    "pycharm": {
     "name": "#%%\n"
    }
   }
  },
  {
   "cell_type": "code",
   "execution_count": 8,
   "outputs": [],
   "source": [
    "sts = 'srmse'\n",
    "\n",
    "res_DATGAN = []\n",
    "res_ciDATGAN = []\n",
    "\n",
    "for i in range(5):\n",
    "    res_DATGAN.append(res['all'][sts]['DATGAN_{:02d}'.format(i+1)])\n",
    "    res_ciDATGAN.append(res['all'][sts]['ciDATGAN_{:02d}'.format(i+1)])\n",
    "\n",
    "res_DATGAN = np.array(res_DATGAN).flatten()\n",
    "res_ciDATGAN = np.array(res_ciDATGAN).flatten()\n",
    "\n",
    "tmp = [res_DATGAN, res_ciDATGAN]\n",
    "df = pd.DataFrame(tmp, index=['DATGAN', 'ciDATGAN'])\n",
    "\n",
    "plt.figure(figsize=(10,7))\n",
    "\n",
    "sns.violinplot(data=df.T, palette=colors)\n",
    "\n",
    "plt.xticks([0,1], ['DATGAN', 'ciDATGAN'])\n",
    "plt.ylabel(sts.upper())\n",
    "\n",
    "plt.savefig('../../figures/obs/lvl1.png'.format(s), bbox_inches='tight')\n",
    "plt.savefig('../../figures/obs/lvl1.pdf'.format(s), bbox_inches='tight')\n",
    "plt.close()"
   ],
   "metadata": {
    "collapsed": false,
    "pycharm": {
     "name": "#%%\n"
    }
   }
  },
  {
   "cell_type": "markdown",
   "source": [
    "# Second level"
   ],
   "metadata": {
    "collapsed": false,
    "pycharm": {
     "name": "#%% md\n"
    }
   }
  },
  {
   "cell_type": "code",
   "execution_count": 9,
   "outputs": [
    {
     "name": "stdout",
     "output_type": "stream",
     "text": [
      "No previous results found, starting fresh\n"
     ]
    }
   ],
   "source": [
    "pickle_name = 'res_lvl2.pickle'\n",
    "aggregation_level = 2\n",
    "\n",
    "second_lvl_stats = {}\n",
    "\n",
    "try:\n",
    "    second_lvl_stats = pickle.load(open(results_path + pickle_name, 'rb'))\n",
    "    print('Found previous pickel file, using that')\n",
    "except:\n",
    "    print('No previous results found, starting fresh')"
   ],
   "metadata": {
    "collapsed": false,
    "pycharm": {
     "name": "#%%\n"
    }
   }
  },
  {
   "cell_type": "code",
   "execution_count": 10,
   "outputs": [
    {
     "name": "stdout",
     "output_type": "stream",
     "text": [
      "Preparing stats for file \u001B[1mciDATGAN_01\u001B[0m (1/10)\n",
      "Preparing stats for file \u001B[1mDATGAN_01\u001B[0m (2/10)\n",
      "Preparing stats for file \u001B[1mciDATGAN_02\u001B[0m (3/10)\n",
      "Preparing stats for file \u001B[1mDATGAN_02\u001B[0m (4/10)\n",
      "Preparing stats for file \u001B[1mciDATGAN_03\u001B[0m (5/10)\n",
      "Preparing stats for file \u001B[1mDATGAN_03\u001B[0m (6/10)\n",
      "Preparing stats for file \u001B[1mciDATGAN_04\u001B[0m (7/10)\n",
      "Preparing stats for file \u001B[1mDATGAN_04\u001B[0m (8/10)\n",
      "Preparing stats for file \u001B[1mciDATGAN_05\u001B[0m (9/10)\n",
      "Preparing stats for file \u001B[1mDATGAN_05\u001B[0m (10/10)\n",
      "\u001B[1mFINISHED!\u001B[0m\n"
     ]
    }
   ],
   "source": [
    "for i, f in enumerate(synth_files):\n",
    "\n",
    "    file_name = f.split('/')[-1].split('.')[0]\n",
    "\n",
    "    if file_name in second_lvl_stats:\n",
    "        print(\"Results for file \\033[1m{}\\033[0m ({}/{}) already exists!\".format(file_name, i+1, len(synth_files)))\n",
    "    else:\n",
    "        print(\"Preparing stats for file \\033[1m{}\\033[0m ({}/{})\".format(file_name, i+1, len(synth_files)))\n",
    "\n",
    "        second_lvl_stats[file_name] = {}\n",
    "\n",
    "        df_synth = pd.read_csv(f, index_col=False)\n",
    "        df_synth = df_synth.sample(len_df).reset_index(drop=True)\n",
    "\n",
    "        stats = stats_assessment(df_orig, df_synth, continuous_columns, aggregation_level, ignore_cols=cond_inputs)\n",
    "\n",
    "        second_lvl_stats[file_name] = stats\n",
    "\n",
    "    pickle.dump(second_lvl_stats, open(results_path + pickle_name, 'wb'))\n",
    "\n",
    "print(\"\\033[1mFINISHED!\\033[0m\")"
   ],
   "metadata": {
    "collapsed": false,
    "pycharm": {
     "name": "#%%\n"
    }
   }
  },
  {
   "cell_type": "code",
   "execution_count": 11,
   "outputs": [],
   "source": [
    "res = {}\n",
    "\n",
    "for s in stats_str:\n",
    "    res[s] = {}\n",
    "\n",
    "for m in second_lvl_stats.keys():\n",
    "\n",
    "    for s in stats_str:\n",
    "        res[s][m] = []\n",
    "\n",
    "        for c in second_lvl_stats[m].keys():\n",
    "            res[s][m].append(second_lvl_stats[m][c][s])"
   ],
   "metadata": {
    "collapsed": false,
    "pycharm": {
     "name": "#%%\n"
    }
   }
  },
  {
   "cell_type": "code",
   "execution_count": 12,
   "outputs": [],
   "source": [
    "sts = 'srmse'\n",
    "\n",
    "res_DATGAN = []\n",
    "res_ciDATGAN = []\n",
    "\n",
    "for i in range(5):\n",
    "    res_DATGAN.append(res[sts]['DATGAN_{:02d}'.format(i+1)])\n",
    "    res_ciDATGAN.append(res[sts]['ciDATGAN_{:02d}'.format(i+1)])\n",
    "\n",
    "res_DATGAN = np.array(res_DATGAN).flatten()\n",
    "res_ciDATGAN = np.array(res_ciDATGAN).flatten()\n",
    "\n",
    "tmp = [res_DATGAN, res_ciDATGAN]\n",
    "df = pd.DataFrame(tmp, index=['DATGAN', 'ciDATGAN'])\n",
    "\n",
    "plt.figure(figsize=(10,7))\n",
    "\n",
    "sns.violinplot(data=df.T, palette=colors)\n",
    "\n",
    "plt.xticks([0,1], ['DATGAN', 'ciDATGAN'])\n",
    "plt.ylabel(sts.upper())\n",
    "\n",
    "plt.savefig('../../figures/obs/lvl2.png'.format(s), bbox_inches='tight')\n",
    "plt.savefig('../../figures/obs/lvl2.pdf'.format(s), bbox_inches='tight')\n",
    "plt.close()"
   ],
   "metadata": {
    "collapsed": false,
    "pycharm": {
     "name": "#%%\n"
    }
   }
  },
  {
   "cell_type": "markdown",
   "source": [
    "# Machine Learning efficacy"
   ],
   "metadata": {
    "collapsed": false,
    "pycharm": {
     "name": "#%% md\n"
    }
   }
  },
  {
   "cell_type": "code",
   "execution_count": 13,
   "outputs": [],
   "source": [
    "def check_low_appearing_vars(df):\n",
    "\n",
    "    for c in df.columns:\n",
    "        val = df[c].value_counts()\n",
    "        if len(val) < 20:\n",
    "            val = val/len(df)\n",
    "            if any(val < 0.01) and c != 'choice':\n",
    "                print('Variable {}: '.format(c))\n",
    "                for idx, v in zip(val.index, val):\n",
    "                    if v < 0.01:\n",
    "                        print('  {} - {:.2f}% ({:d})'.format(idx, 100*v, int(v*len(df))))\n",
    "                print()\n",
    "\n",
    "def replace_low_appearing_values(df):\n",
    "\n",
    "    dct_ = {}\n",
    "    for i in df['hh_vehicles'].unique():\n",
    "        if i >= 3:\n",
    "            dct_[i] = '3+'\n",
    "        else:\n",
    "            dct_[i] = str(i)\n",
    "    df['hh_vehicles'].replace(dct_, inplace=True)\n",
    "\n",
    "    dct_ = {}\n",
    "    for i in df['hh_people'].unique():\n",
    "        if i >= 6:\n",
    "            dct_[i] = '6+'\n",
    "        else:\n",
    "            dct_[i] = str(i)\n",
    "    df['hh_people'].replace(dct_, inplace=True)"
   ],
   "metadata": {
    "collapsed": false,
    "pycharm": {
     "name": "#%%\n"
    }
   }
  },
  {
   "cell_type": "code",
   "execution_count": 14,
   "outputs": [
    {
     "name": "stdout",
     "output_type": "stream",
     "text": [
      "Variable hh_vehicles: \n",
      "  4 - 0.52% (88)\n",
      "  5 - 0.12% (21)\n",
      "  6 - 0.02% (3)\n",
      "  8 - 0.02% (3)\n",
      "  7 - 0.01% (2)\n",
      "\n",
      "Variable hh_people: \n",
      "  7 - 0.70% (118)\n",
      "  8 - 0.18% (31)\n",
      "  9 - 0.08% (13)\n",
      "  10 - 0.03% (5)\n",
      "  11 - 0.02% (3)\n",
      "\n"
     ]
    }
   ],
   "source": [
    "check_low_appearing_vars(df_orig)"
   ],
   "metadata": {
    "collapsed": false,
    "pycharm": {
     "name": "#%%\n"
    }
   }
  },
  {
   "cell_type": "code",
   "execution_count": 15,
   "outputs": [],
   "source": [
    "replace_low_appearing_values(df_orig)"
   ],
   "metadata": {
    "collapsed": false,
    "pycharm": {
     "name": "#%%\n"
    }
   }
  },
  {
   "cell_type": "code",
   "execution_count": 16,
   "outputs": [],
   "source": [
    "check_low_appearing_vars(df_orig)"
   ],
   "metadata": {
    "collapsed": false,
    "pycharm": {
     "name": "#%%\n"
    }
   }
  },
  {
   "cell_type": "code",
   "execution_count": 17,
   "outputs": [],
   "source": [
    "categorical_columns = list(set(df_orig.columns) - set(continuous_columns))"
   ],
   "metadata": {
    "collapsed": false,
    "pycharm": {
     "name": "#%%\n"
    }
   }
  },
  {
   "cell_type": "code",
   "execution_count": 18,
   "outputs": [],
   "source": [
    "enc = OrdinalEncoder()\n",
    "df_orig[categorical_columns] = enc.fit_transform(df_orig[categorical_columns])"
   ],
   "metadata": {
    "collapsed": false,
    "pycharm": {
     "name": "#%%\n"
    }
   }
  },
  {
   "cell_type": "code",
   "execution_count": 19,
   "outputs": [
    {
     "name": "stdout",
     "output_type": "stream",
     "text": [
      "No previous results found, starting fresh\n"
     ]
    }
   ],
   "source": [
    "pickle_name = 'ml.pickle'\n",
    "\n",
    "cv_modelscores = {}\n",
    "\n",
    "try:\n",
    "    cv_modelscores = pickle.load(open(results_path + pickle_name, 'rb'))\n",
    "    print('Found previous pickel file, using that')\n",
    "except:\n",
    "    print('No previous results found, starting fresh')"
   ],
   "metadata": {
    "collapsed": false,
    "pycharm": {
     "name": "#%%\n"
    }
   }
  },
  {
   "cell_type": "code",
   "execution_count": 20,
   "outputs": [
    {
     "name": "stdout",
     "output_type": "stream",
     "text": [
      "Preparing stats for file \u001B[1mciDATGAN_01\u001B[0m (1/10)\n",
      "Preparing stats for file \u001B[1mDATGAN_01\u001B[0m (2/10)\n",
      "Preparing stats for file \u001B[1mciDATGAN_02\u001B[0m (3/10)\n",
      "Preparing stats for file \u001B[1mDATGAN_02\u001B[0m (4/10)\n",
      "Preparing stats for file \u001B[1mciDATGAN_03\u001B[0m (5/10)\n",
      "Preparing stats for file \u001B[1mDATGAN_03\u001B[0m (6/10)\n",
      "Preparing stats for file \u001B[1mciDATGAN_04\u001B[0m (7/10)\n",
      "Preparing stats for file \u001B[1mDATGAN_04\u001B[0m (8/10)\n",
      "Preparing stats for file \u001B[1mciDATGAN_05\u001B[0m (9/10)\n",
      "Preparing stats for file \u001B[1mDATGAN_05\u001B[0m (10/10)\n",
      "\u001B[1mFINISHED!\u001B[0m                         \n"
     ]
    }
   ],
   "source": [
    "for i, f in enumerate(synth_files):\n",
    "\n",
    "    file_name = f.split('/')[-1].split('.')[0]\n",
    "\n",
    "    if file_name in cv_modelscores:\n",
    "        print(\"Results for file \\033[1m{}\\033[0m ({}/{}) already exists!\".format(file_name, i+1, len(synth_files)))\n",
    "    else:\n",
    "        print(\"Preparing stats for file \\033[1m{}\\033[0m ({}/{})\".format(file_name, i+1, len(synth_files)))\n",
    "\n",
    "        cv_modelscores[file_name] = {}\n",
    "\n",
    "        # Load the synthetic dataset\n",
    "        df_synth = pd.read_csv(f, index_col=False)\n",
    "        df_synth = df_synth.sample(len_df).reset_index(drop=True)\n",
    "\n",
    "        # Replace the values rarely appearing\n",
    "        replace_low_appearing_values(df_synth)\n",
    "\n",
    "        # Encode the synthetic dataset\n",
    "        df_synth[categorical_columns] = enc.transform(df_synth[categorical_columns])\n",
    "\n",
    "        res = ml_assessment(df_orig, df_synth, continuous_columns, categorical_columns, ignore_cols=cond_inputs)\n",
    "\n",
    "        cv_modelscores[file_name] = res\n",
    "\n",
    "    pickle.dump(cv_modelscores, open(results_path + pickle_name, 'wb'))\n",
    "\n",
    "print(\"\\033[1mFINISHED!\\033[0m\")"
   ],
   "metadata": {
    "collapsed": false,
    "pycharm": {
     "name": "#%%\n"
    }
   }
  },
  {
   "cell_type": "code",
   "execution_count": 21,
   "outputs": [
    {
     "name": "stdout",
     "output_type": "stream",
     "text": [
      "Preparing stats for file \u001B[1moriginal\u001B[0m\n",
      "\u001B[1mFINISHED!\u001B[0m                         \n"
     ]
    }
   ],
   "source": [
    "if 'original' in cv_modelscores:\n",
    "    print(\"Results for file \\033[1m{}\\033[0m already exists!\".format('original'))\n",
    "else:\n",
    "    print(\"Preparing stats for file \\033[1m{}\\033[0m\".format('original'))\n",
    "\n",
    "    res = ml_assessment(df_orig, df_orig, continuous_columns, categorical_columns, ignore_cols=cond_inputs)\n",
    "    cv_modelscores['original'] = res\n",
    "    pickle.dump(cv_modelscores, open(results_path + pickle_name, 'wb'))\n",
    "    print(\"\\033[1mFINISHED!\\033[0m\")"
   ],
   "metadata": {
    "collapsed": false,
    "pycharm": {
     "name": "#%%\n"
    }
   }
  },
  {
   "cell_type": "code",
   "execution_count": 22,
   "outputs": [],
   "source": [
    "res_ml = {\n",
    "    'DATGAN': {'continuous': [], 'categorical': []},\n",
    "    'ciDATGAN': {'continuous': [], 'categorical': []}\n",
    "}\n",
    "\n",
    "continuous_columns = list(set(continuous_columns) - set(cond_inputs))\n",
    "categorical_columns = list(set(categorical_columns) - set(cond_inputs))\n",
    "\n",
    "ori_scores = {col: cv_modelscores['original'][col]['test_log_loss'] for col in categorical_columns}\n",
    "ori_scores.update({col: cv_modelscores['original'][col]['test_l2'] for col in continuous_columns})\n",
    "\n",
    "for i in range(5):\n",
    "\n",
    "    for f in ['DATGAN', 'ciDATGAN']:\n",
    "\n",
    "        name = '{}_{:02d}'.format(f, i+1)\n",
    "\n",
    "        external = {}\n",
    "\n",
    "        for col in categorical_columns:\n",
    "            res_ml[f]['categorical'].append(cv_modelscores[name][col]['original_log_loss'] - ori_scores[col])\n",
    "\n",
    "        for col in continuous_columns:\n",
    "            res_ml[f]['continuous'].append(cv_modelscores[name][col]['original_l2']/ori_scores[col])"
   ],
   "metadata": {
    "collapsed": false,
    "pycharm": {
     "name": "#%%\n"
    }
   }
  },
  {
   "cell_type": "code",
   "execution_count": 23,
   "outputs": [],
   "source": [
    "for c in ['continuous', 'categorical']:\n",
    "\n",
    "    tmp = [res_ml['DATGAN'][c], res_ml['ciDATGAN'][c]]\n",
    "    df = pd.DataFrame(tmp, index=['DATGAN', 'ciDATGAN'])\n",
    "\n",
    "    plt.figure(figsize=(10,7))\n",
    "\n",
    "    sns.violinplot(data=df.T, palette=colors)\n",
    "\n",
    "    plt.xticks([0,1], ['DATGAN', 'ciDATGAN'])\n",
    "    if c == 'continuous':\n",
    "        plt.ylabel('Relative L2 error')\n",
    "    else:\n",
    "        plt.ylabel('Relative log loss')\n",
    "\n",
    "    plt.savefig('../../figures/obs/ml_{}.png'.format(c[:3]), bbox_inches='tight')\n",
    "    plt.savefig('../../figures/obs/ml_{}.pdf'.format(c[:3]), bbox_inches='tight')\n",
    "    plt.close()"
   ],
   "metadata": {
    "collapsed": false,
    "pycharm": {
     "name": "#%%\n"
    }
   }
  }
 ],
 "metadata": {
  "kernelspec": {
   "name": "dev",
   "language": "python",
   "display_name": "dev"
  },
  "language_info": {
   "codemirror_mode": {
    "name": "ipython",
    "version": 2
   },
   "file_extension": ".py",
   "mimetype": "text/x-python",
   "name": "python",
   "nbconvert_exporter": "python",
   "pygments_lexer": "ipython2",
   "version": "2.7.6"
  }
 },
 "nbformat": 4,
 "nbformat_minor": 0
}