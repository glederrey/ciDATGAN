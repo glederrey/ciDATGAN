{
 "cells": [
  {
   "cell_type": "code",
   "execution_count": 1,
   "metadata": {
    "collapsed": true
   },
   "outputs": [],
   "source": [
    "import os\n",
    "import pickle\n",
    "import numpy as np\n",
    "import pandas as pd\n",
    "import matplotlib.pyplot as plt\n",
    "\n",
    "import seaborn as sns\n",
    "sns.set_style(\"whitegrid\")\n",
    "\n",
    "from sklearn.preprocessing import OrdinalEncoder\n",
    "\n",
    "from datgan import stats_assessment\n",
    "from datgan import ml_assessment, transform_results\n",
    "\n",
    "\n",
    "# For the Python notebook\n",
    "%matplotlib inline\n",
    "%reload_ext autoreload\n",
    "%autoreload 2"
   ]
  },
  {
   "cell_type": "code",
   "execution_count": 2,
   "outputs": [],
   "source": [
    "df_orig = pd.read_csv('../../data/LPMC/trips.csv', index_col=False)\n",
    "\n",
    "continuous_columns = ['start_time_linear', 'age', 'distance', 'dur_walking', 'dur_cycling', 'dur_pt','dur_driving', 'driving_traffic_percent']\n",
    "\n",
    "cond_inputs = [\"age\", \"female\", \"hh_region\"]\n",
    "\n",
    "synth_files = []\n",
    "\n",
    "for i in range(5):\n",
    "    for j in range(5):\n",
    "        synth_files.append('../../data/synthetic/normal/ciDATGAN_{}_{}.csv'.format(i+1, j+1))\n",
    "        synth_files.append('../../data/synthetic/normal/DATGAN_{}_{}.csv'.format(i+1, j+1))\n",
    "\n",
    "len_df = len(df_orig)"
   ],
   "metadata": {
    "collapsed": false,
    "pycharm": {
     "name": "#%%\n"
    }
   }
  },
  {
   "cell_type": "code",
   "execution_count": 3,
   "outputs": [],
   "source": [
    "results_path = './results/'\n",
    "\n",
    "if not os.path.exists(results_path):\n",
    "    os.makedirs(results_path)"
   ],
   "metadata": {
    "collapsed": false,
    "pycharm": {
     "name": "#%%\n"
    }
   }
  },
  {
   "cell_type": "code",
   "execution_count": 4,
   "outputs": [],
   "source": [
    "stats_str = ['mae', 'rmse', 'r2', 'srmse', 'corr']\n",
    "colors = [(0.6627450980392157, 0.6627450980392157, 0.6627450980392157, 1.0), (1.0, 0.0, 0.0, 0.0)]"
   ],
   "metadata": {
    "collapsed": false,
    "pycharm": {
     "name": "#%%\n"
    }
   }
  },
  {
   "cell_type": "markdown",
   "source": [
    "# First level"
   ],
   "metadata": {
    "collapsed": false,
    "pycharm": {
     "name": "#%% md\n"
    }
   }
  },
  {
   "cell_type": "code",
   "execution_count": 5,
   "outputs": [
    {
     "name": "stdout",
     "output_type": "stream",
     "text": [
      "Found previous pickle file, using that\n"
     ]
    }
   ],
   "source": [
    "pickle_name = 'res_lvl1.pickle'\n",
    "aggregation_level = 1\n",
    "\n",
    "first_lvl_stats = {}\n",
    "\n",
    "try:\n",
    "    first_lvl_stats = pickle.load(open(results_path + pickle_name, 'rb'))\n",
    "    print('Found previous pickle file, using that')\n",
    "except:\n",
    "    print('No previous results found, starting fresh')"
   ],
   "metadata": {
    "collapsed": false,
    "pycharm": {
     "name": "#%%\n"
    }
   }
  },
  {
   "cell_type": "code",
   "execution_count": 6,
   "outputs": [
    {
     "name": "stdout",
     "output_type": "stream",
     "text": [
      "Results for file \u001B[1mciDATGAN_1_1\u001B[0m (1/50) already exists!\n",
      "Results for file \u001B[1mDATGAN_1_1\u001B[0m (2/50) already exists!\n",
      "Results for file \u001B[1mciDATGAN_1_2\u001B[0m (3/50) already exists!\n",
      "Results for file \u001B[1mDATGAN_1_2\u001B[0m (4/50) already exists!\n",
      "Results for file \u001B[1mciDATGAN_1_3\u001B[0m (5/50) already exists!\n",
      "Results for file \u001B[1mDATGAN_1_3\u001B[0m (6/50) already exists!\n",
      "Results for file \u001B[1mciDATGAN_1_4\u001B[0m (7/50) already exists!\n",
      "Results for file \u001B[1mDATGAN_1_4\u001B[0m (8/50) already exists!\n",
      "Results for file \u001B[1mciDATGAN_1_5\u001B[0m (9/50) already exists!\n",
      "Results for file \u001B[1mDATGAN_1_5\u001B[0m (10/50) already exists!\n",
      "Results for file \u001B[1mciDATGAN_2_1\u001B[0m (11/50) already exists!\n",
      "Results for file \u001B[1mDATGAN_2_1\u001B[0m (12/50) already exists!\n",
      "Results for file \u001B[1mciDATGAN_2_2\u001B[0m (13/50) already exists!\n",
      "Results for file \u001B[1mDATGAN_2_2\u001B[0m (14/50) already exists!\n",
      "Results for file \u001B[1mciDATGAN_2_3\u001B[0m (15/50) already exists!\n",
      "Results for file \u001B[1mDATGAN_2_3\u001B[0m (16/50) already exists!\n",
      "Results for file \u001B[1mciDATGAN_2_4\u001B[0m (17/50) already exists!\n",
      "Results for file \u001B[1mDATGAN_2_4\u001B[0m (18/50) already exists!\n",
      "Results for file \u001B[1mciDATGAN_2_5\u001B[0m (19/50) already exists!\n",
      "Results for file \u001B[1mDATGAN_2_5\u001B[0m (20/50) already exists!\n",
      "Results for file \u001B[1mciDATGAN_3_1\u001B[0m (21/50) already exists!\n",
      "Results for file \u001B[1mDATGAN_3_1\u001B[0m (22/50) already exists!\n",
      "Results for file \u001B[1mciDATGAN_3_2\u001B[0m (23/50) already exists!\n",
      "Results for file \u001B[1mDATGAN_3_2\u001B[0m (24/50) already exists!\n",
      "Results for file \u001B[1mciDATGAN_3_3\u001B[0m (25/50) already exists!\n",
      "Results for file \u001B[1mDATGAN_3_3\u001B[0m (26/50) already exists!\n",
      "Results for file \u001B[1mciDATGAN_3_4\u001B[0m (27/50) already exists!\n",
      "Results for file \u001B[1mDATGAN_3_4\u001B[0m (28/50) already exists!\n",
      "Results for file \u001B[1mciDATGAN_3_5\u001B[0m (29/50) already exists!\n",
      "Results for file \u001B[1mDATGAN_3_5\u001B[0m (30/50) already exists!\n",
      "Results for file \u001B[1mciDATGAN_4_1\u001B[0m (31/50) already exists!\n",
      "Results for file \u001B[1mDATGAN_4_1\u001B[0m (32/50) already exists!\n",
      "Results for file \u001B[1mciDATGAN_4_2\u001B[0m (33/50) already exists!\n",
      "Results for file \u001B[1mDATGAN_4_2\u001B[0m (34/50) already exists!\n",
      "Results for file \u001B[1mciDATGAN_4_3\u001B[0m (35/50) already exists!\n",
      "Results for file \u001B[1mDATGAN_4_3\u001B[0m (36/50) already exists!\n",
      "Results for file \u001B[1mciDATGAN_4_4\u001B[0m (37/50) already exists!\n",
      "Results for file \u001B[1mDATGAN_4_4\u001B[0m (38/50) already exists!\n",
      "Results for file \u001B[1mciDATGAN_4_5\u001B[0m (39/50) already exists!\n",
      "Results for file \u001B[1mDATGAN_4_5\u001B[0m (40/50) already exists!\n",
      "Results for file \u001B[1mciDATGAN_5_1\u001B[0m (41/50) already exists!\n",
      "Results for file \u001B[1mDATGAN_5_1\u001B[0m (42/50) already exists!\n",
      "Results for file \u001B[1mciDATGAN_5_2\u001B[0m (43/50) already exists!\n",
      "Results for file \u001B[1mDATGAN_5_2\u001B[0m (44/50) already exists!\n",
      "Results for file \u001B[1mciDATGAN_5_3\u001B[0m (45/50) already exists!\n",
      "Results for file \u001B[1mDATGAN_5_3\u001B[0m (46/50) already exists!\n",
      "Results for file \u001B[1mciDATGAN_5_4\u001B[0m (47/50) already exists!\n",
      "Results for file \u001B[1mDATGAN_5_4\u001B[0m (48/50) already exists!\n",
      "Results for file \u001B[1mciDATGAN_5_5\u001B[0m (49/50) already exists!\n",
      "Results for file \u001B[1mDATGAN_5_5\u001B[0m (50/50) already exists!\n",
      "\u001B[1mFINISHED!\u001B[0m\n"
     ]
    }
   ],
   "source": [
    "for i, f in enumerate(synth_files):\n",
    "\n",
    "    file_name = f.split('/')[-1].split('.')[0]\n",
    "\n",
    "    if file_name in first_lvl_stats:\n",
    "        print(\"Results for file \\033[1m{}\\033[0m ({}/{}) already exists!\".format(file_name, i+1, len(synth_files)))\n",
    "    else:\n",
    "        print(\"Preparing stats for file \\033[1m{}\\033[0m ({}/{})\".format(file_name, i+1, len(synth_files)))\n",
    "\n",
    "        first_lvl_stats[file_name] = {}\n",
    "\n",
    "        df_synth = pd.read_csv(f, index_col=False)\n",
    "        df_synth = df_synth.sample(len_df).reset_index(drop=True)\n",
    "\n",
    "        stats = stats_assessment(df_orig, df_synth, continuous_columns, aggregation_level, ignore_cols=cond_inputs)\n",
    "\n",
    "        first_lvl_stats[file_name] = stats\n",
    "\n",
    "    pickle.dump(first_lvl_stats, open(results_path + pickle_name, 'wb'))\n",
    "\n",
    "print(\"\\033[1mFINISHED!\\033[0m\")"
   ],
   "metadata": {
    "collapsed": false,
    "pycharm": {
     "name": "#%%\n"
    }
   }
  },
  {
   "cell_type": "code",
   "execution_count": 7,
   "outputs": [],
   "source": [
    "res = {}\n",
    "\n",
    "for test in ['all', 'cont', 'cat']:\n",
    "\n",
    "    res[test] = {}\n",
    "\n",
    "    if test == 'all':\n",
    "        cols = df_orig.columns\n",
    "    elif test == 'cont':\n",
    "        cols = continuous_columns\n",
    "    elif test == 'cat':\n",
    "        cols = set(df_orig.columns) - set(continuous_columns)\n",
    "\n",
    "    cols = set(cols) - set(cond_inputs)\n",
    "\n",
    "    for s in stats_str:\n",
    "        res[test][s] = {}\n",
    "\n",
    "    for m in first_lvl_stats.keys():\n",
    "        for s in stats_str:\n",
    "            res[test][s][m] = []\n",
    "\n",
    "            for c in cols:\n",
    "                res[test][s][m].append(first_lvl_stats[m][c][s])"
   ],
   "metadata": {
    "collapsed": false,
    "pycharm": {
     "name": "#%%\n"
    }
   }
  },
  {
   "cell_type": "code",
   "execution_count": 8,
   "outputs": [],
   "source": [
    "avg = {}\n",
    "\n",
    "for test in ['all', 'cont', 'cat']:\n",
    "\n",
    "    avg[test] = {}\n",
    "\n",
    "    for s in stats_str:\n",
    "        avg[test][s] = {}\n",
    "\n",
    "        for m in first_lvl_stats.keys():\n",
    "            avg[test][s][m] = {\n",
    "                'mean': np.mean(res[test][s][m]),\n",
    "                'std': np.std(res[test][s][m])\n",
    "            }"
   ],
   "metadata": {
    "collapsed": false,
    "pycharm": {
     "name": "#%%\n"
    }
   }
  },
  {
   "cell_type": "code",
   "execution_count": 9,
   "outputs": [],
   "source": [
    "sts = 'srmse'\n",
    "\n",
    "res_DATGAN = []\n",
    "res_ciDATGAN = []\n",
    "\n",
    "for i in range(5):\n",
    "    for j in range(5):\n",
    "        res_DATGAN.append(avg['all'][sts]['DATGAN_{}_{}'.format(i+1, j+1)]['mean'])\n",
    "        res_ciDATGAN.append(avg['all'][sts]['ciDATGAN_{}_{}'.format(i+1, j+1)]['mean'])\n",
    "\n",
    "tmp = [res_DATGAN, res_ciDATGAN]\n",
    "df = pd.DataFrame(tmp, index=['DATGAN', 'ciDATGAN'])\n",
    "\n",
    "plt.figure(figsize=(10,7))\n",
    "\n",
    "sns.boxplot(data=df.T, palette=colors,showmeans=True,\n",
    "            meanprops={\"marker\":\"o\",\n",
    "                       \"markerfacecolor\":\"white\",\n",
    "                       \"markeredgecolor\":\"black\",\n",
    "                      \"markersize\":\"10\"})\n",
    "\n",
    "plt.xticks([0,1], ['DATGAN', 'ciDATGAN'])\n",
    "plt.ylabel(sts.upper())\n",
    "\n",
    "plt.savefig('../../figures/obs/lvl1.png', bbox_inches='tight')\n",
    "plt.savefig('../../figures/obs/lvl1.pdf', bbox_inches='tight')\n",
    "plt.close()"
   ],
   "metadata": {
    "collapsed": false,
    "pycharm": {
     "name": "#%%\n"
    }
   }
  },
  {
   "cell_type": "markdown",
   "source": [
    "# Second level"
   ],
   "metadata": {
    "collapsed": false,
    "pycharm": {
     "name": "#%% md\n"
    }
   }
  },
  {
   "cell_type": "code",
   "execution_count": 13,
   "outputs": [
    {
     "name": "stdout",
     "output_type": "stream",
     "text": [
      "Found previous pickel file, using that\n"
     ]
    }
   ],
   "source": [
    "pickle_name = 'res_lvl2.pickle'\n",
    "aggregation_level = 2\n",
    "\n",
    "second_lvl_stats = {}\n",
    "\n",
    "try:\n",
    "    second_lvl_stats = pickle.load(open(results_path + pickle_name, 'rb'))\n",
    "    print('Found previous pickel file, using that')\n",
    "except:\n",
    "    print('No previous results found, starting fresh')"
   ],
   "metadata": {
    "collapsed": false,
    "pycharm": {
     "name": "#%%\n"
    }
   }
  },
  {
   "cell_type": "code",
   "execution_count": 14,
   "outputs": [
    {
     "name": "stdout",
     "output_type": "stream",
     "text": [
      "Results for file \u001B[1mciDATGAN_1_1\u001B[0m (1/50) already exists!\n",
      "Results for file \u001B[1mDATGAN_1_1\u001B[0m (2/50) already exists!\n",
      "Results for file \u001B[1mciDATGAN_1_2\u001B[0m (3/50) already exists!\n",
      "Results for file \u001B[1mDATGAN_1_2\u001B[0m (4/50) already exists!\n",
      "Results for file \u001B[1mciDATGAN_1_3\u001B[0m (5/50) already exists!\n",
      "Results for file \u001B[1mDATGAN_1_3\u001B[0m (6/50) already exists!\n",
      "Results for file \u001B[1mciDATGAN_1_4\u001B[0m (7/50) already exists!\n",
      "Results for file \u001B[1mDATGAN_1_4\u001B[0m (8/50) already exists!\n",
      "Results for file \u001B[1mciDATGAN_1_5\u001B[0m (9/50) already exists!\n",
      "Results for file \u001B[1mDATGAN_1_5\u001B[0m (10/50) already exists!\n",
      "Results for file \u001B[1mciDATGAN_2_1\u001B[0m (11/50) already exists!\n",
      "Results for file \u001B[1mDATGAN_2_1\u001B[0m (12/50) already exists!\n",
      "Results for file \u001B[1mciDATGAN_2_2\u001B[0m (13/50) already exists!\n",
      "Results for file \u001B[1mDATGAN_2_2\u001B[0m (14/50) already exists!\n",
      "Results for file \u001B[1mciDATGAN_2_3\u001B[0m (15/50) already exists!\n",
      "Results for file \u001B[1mDATGAN_2_3\u001B[0m (16/50) already exists!\n",
      "Results for file \u001B[1mciDATGAN_2_4\u001B[0m (17/50) already exists!\n",
      "Results for file \u001B[1mDATGAN_2_4\u001B[0m (18/50) already exists!\n",
      "Results for file \u001B[1mciDATGAN_2_5\u001B[0m (19/50) already exists!\n",
      "Results for file \u001B[1mDATGAN_2_5\u001B[0m (20/50) already exists!\n",
      "Results for file \u001B[1mciDATGAN_3_1\u001B[0m (21/50) already exists!\n",
      "Results for file \u001B[1mDATGAN_3_1\u001B[0m (22/50) already exists!\n",
      "Results for file \u001B[1mciDATGAN_3_2\u001B[0m (23/50) already exists!\n",
      "Results for file \u001B[1mDATGAN_3_2\u001B[0m (24/50) already exists!\n",
      "Results for file \u001B[1mciDATGAN_3_3\u001B[0m (25/50) already exists!\n",
      "Results for file \u001B[1mDATGAN_3_3\u001B[0m (26/50) already exists!\n",
      "Results for file \u001B[1mciDATGAN_3_4\u001B[0m (27/50) already exists!\n",
      "Results for file \u001B[1mDATGAN_3_4\u001B[0m (28/50) already exists!\n",
      "Results for file \u001B[1mciDATGAN_3_5\u001B[0m (29/50) already exists!\n",
      "Results for file \u001B[1mDATGAN_3_5\u001B[0m (30/50) already exists!\n",
      "Results for file \u001B[1mciDATGAN_4_1\u001B[0m (31/50) already exists!\n",
      "Results for file \u001B[1mDATGAN_4_1\u001B[0m (32/50) already exists!\n",
      "Results for file \u001B[1mciDATGAN_4_2\u001B[0m (33/50) already exists!\n",
      "Results for file \u001B[1mDATGAN_4_2\u001B[0m (34/50) already exists!\n",
      "Results for file \u001B[1mciDATGAN_4_3\u001B[0m (35/50) already exists!\n",
      "Results for file \u001B[1mDATGAN_4_3\u001B[0m (36/50) already exists!\n",
      "Results for file \u001B[1mciDATGAN_4_4\u001B[0m (37/50) already exists!\n",
      "Results for file \u001B[1mDATGAN_4_4\u001B[0m (38/50) already exists!\n",
      "Results for file \u001B[1mciDATGAN_4_5\u001B[0m (39/50) already exists!\n",
      "Results for file \u001B[1mDATGAN_4_5\u001B[0m (40/50) already exists!\n",
      "Results for file \u001B[1mciDATGAN_5_1\u001B[0m (41/50) already exists!\n",
      "Results for file \u001B[1mDATGAN_5_1\u001B[0m (42/50) already exists!\n",
      "Results for file \u001B[1mciDATGAN_5_2\u001B[0m (43/50) already exists!\n",
      "Results for file \u001B[1mDATGAN_5_2\u001B[0m (44/50) already exists!\n",
      "Results for file \u001B[1mciDATGAN_5_3\u001B[0m (45/50) already exists!\n",
      "Results for file \u001B[1mDATGAN_5_3\u001B[0m (46/50) already exists!\n",
      "Results for file \u001B[1mciDATGAN_5_4\u001B[0m (47/50) already exists!\n",
      "Results for file \u001B[1mDATGAN_5_4\u001B[0m (48/50) already exists!\n",
      "Results for file \u001B[1mciDATGAN_5_5\u001B[0m (49/50) already exists!\n",
      "Results for file \u001B[1mDATGAN_5_5\u001B[0m (50/50) already exists!\n",
      "\u001B[1mFINISHED!\u001B[0m\n"
     ]
    }
   ],
   "source": [
    "for i, f in enumerate(synth_files):\n",
    "\n",
    "    file_name = f.split('/')[-1].split('.')[0]\n",
    "\n",
    "    if file_name in second_lvl_stats:\n",
    "        print(\"Results for file \\033[1m{}\\033[0m ({}/{}) already exists!\".format(file_name, i+1, len(synth_files)))\n",
    "    else:\n",
    "        print(\"Preparing stats for file \\033[1m{}\\033[0m ({}/{})\".format(file_name, i+1, len(synth_files)))\n",
    "\n",
    "        second_lvl_stats[file_name] = {}\n",
    "\n",
    "        df_synth = pd.read_csv(f, index_col=False)\n",
    "        df_synth = df_synth.sample(len_df).reset_index(drop=True)\n",
    "\n",
    "        stats = stats_assessment(df_orig, df_synth, continuous_columns, aggregation_level, ignore_cols=cond_inputs)\n",
    "\n",
    "        second_lvl_stats[file_name] = stats\n",
    "\n",
    "    pickle.dump(second_lvl_stats, open(results_path + pickle_name, 'wb'))\n",
    "\n",
    "print(\"\\033[1mFINISHED!\\033[0m\")"
   ],
   "metadata": {
    "collapsed": false,
    "pycharm": {
     "name": "#%%\n"
    }
   }
  },
  {
   "cell_type": "code",
   "execution_count": 15,
   "outputs": [],
   "source": [
    "res = {}\n",
    "\n",
    "for s in stats_str:\n",
    "    res[s] = {}\n",
    "\n",
    "for m in second_lvl_stats.keys():\n",
    "\n",
    "    for s in stats_str:\n",
    "        res[s][m] = []\n",
    "\n",
    "        for c in second_lvl_stats[m].keys():\n",
    "            res[s][m].append(second_lvl_stats[m][c][s])"
   ],
   "metadata": {
    "collapsed": false,
    "pycharm": {
     "name": "#%%\n"
    }
   }
  },
  {
   "cell_type": "code",
   "execution_count": 16,
   "outputs": [],
   "source": [
    "avg = {}\n",
    "\n",
    "for s in stats_str:\n",
    "    avg[s] = {}\n",
    "\n",
    "    for m in second_lvl_stats.keys():\n",
    "        avg[s][m] = {\n",
    "            'mean': np.mean(res[s][m]),\n",
    "            'std': np.std(res[s][m])\n",
    "        }"
   ],
   "metadata": {
    "collapsed": false,
    "pycharm": {
     "name": "#%%\n"
    }
   }
  },
  {
   "cell_type": "code",
   "execution_count": 17,
   "outputs": [],
   "source": [
    "sts = 'srmse'\n",
    "\n",
    "res_DATGAN = []\n",
    "res_ciDATGAN = []\n",
    "\n",
    "for i in range(5):\n",
    "    for j in range(5):\n",
    "        res_DATGAN.append(avg[sts]['DATGAN_{}_{}'.format(i+1, j+1)]['mean'])\n",
    "        res_ciDATGAN.append(avg[sts]['ciDATGAN_{}_{}'.format(i+1, j+1)]['mean'])\n",
    "\n",
    "res_DATGAN = np.array(res_DATGAN).flatten()\n",
    "res_ciDATGAN = np.array(res_ciDATGAN).flatten()\n",
    "\n",
    "tmp = [res_DATGAN, res_ciDATGAN]\n",
    "df = pd.DataFrame(tmp, index=['DATGAN', 'ciDATGAN'])\n",
    "\n",
    "plt.figure(figsize=(10,7))\n",
    "\n",
    "sns.boxplot(data=df.T, palette=colors,showmeans=True,\n",
    "            meanprops={\"marker\":\"o\",\n",
    "                       \"markerfacecolor\":\"white\",\n",
    "                       \"markeredgecolor\":\"black\",\n",
    "                      \"markersize\":\"10\"})\n",
    "\n",
    "plt.xticks([0,1], ['DATGAN', 'ciDATGAN'])\n",
    "plt.ylabel(sts.upper())\n",
    "\n",
    "plt.savefig('../../figures/obs/lvl2.png'.format(s), bbox_inches='tight')\n",
    "plt.savefig('../../figures/obs/lvl2.pdf'.format(s), bbox_inches='tight')\n",
    "plt.close()"
   ],
   "metadata": {
    "collapsed": false,
    "pycharm": {
     "name": "#%%\n"
    }
   }
  },
  {
   "cell_type": "code",
   "execution_count": 18,
   "outputs": [
    {
     "data": {
      "text/plain": "array([[0.23917134, 0.59076536],\n       [0.23315717, 0.57176915],\n       [0.24441854, 0.5777694 ],\n       [0.2387281 , 0.56953828],\n       [0.2421738 , 0.58401001],\n       [0.3327894 , 0.21820049],\n       [0.32634526, 0.21978411],\n       [0.33711431, 0.21657678],\n       [0.33841542, 0.21036147],\n       [0.34479171, 0.21609694],\n       [0.3078515 , 0.29974097],\n       [0.3094804 , 0.29360482],\n       [0.30333814, 0.29405283],\n       [0.30730208, 0.28902295],\n       [0.31019236, 0.29404801],\n       [0.71911791, 0.21366172],\n       [0.71572995, 0.21525457],\n       [0.7140543 , 0.22208573],\n       [0.7177552 , 0.22477665],\n       [0.7151661 , 0.21503084],\n       [0.3211193 , 0.1592682 ],\n       [0.32236086, 0.16411326],\n       [0.32839416, 0.17047965],\n       [0.32446947, 0.16313566],\n       [0.32404635, 0.16843899]])"
     },
     "execution_count": 18,
     "metadata": {},
     "output_type": "execute_result"
    }
   ],
   "source": [
    "np.array(tmp).T"
   ],
   "metadata": {
    "collapsed": false,
    "pycharm": {
     "name": "#%%\n"
    }
   }
  },
  {
   "cell_type": "markdown",
   "source": [
    "# Machine Learning efficacy"
   ],
   "metadata": {
    "collapsed": false,
    "pycharm": {
     "name": "#%% md\n"
    }
   }
  },
  {
   "cell_type": "code",
   "execution_count": 19,
   "outputs": [],
   "source": [
    "def check_low_appearing_vars(df):\n",
    "\n",
    "    for c in df.columns:\n",
    "        val = df[c].value_counts()\n",
    "        if len(val) < 20:\n",
    "            val = val/len(df)\n",
    "            if any(val < 0.01) and c != 'choice':\n",
    "                print('Variable {}: '.format(c))\n",
    "                for idx, v in zip(val.index, val):\n",
    "                    if v < 0.01:\n",
    "                        print('  {} - {:.2f}% ({:d})'.format(idx, 100*v, int(v*len(df))))\n",
    "                print()\n",
    "\n",
    "def replace_low_appearing_values(df):\n",
    "\n",
    "    dct_ = {}\n",
    "    for i in df['hh_vehicles'].unique():\n",
    "        if i >= 3:\n",
    "            dct_[i] = '3+'\n",
    "        else:\n",
    "            dct_[i] = str(i)\n",
    "    df['hh_vehicles'].replace(dct_, inplace=True)\n",
    "\n",
    "    dct_ = {}\n",
    "    for i in df['hh_people'].unique():\n",
    "        if i >= 6:\n",
    "            dct_[i] = '6+'\n",
    "        else:\n",
    "            dct_[i] = str(i)\n",
    "    df['hh_people'].replace(dct_, inplace=True)"
   ],
   "metadata": {
    "collapsed": false,
    "pycharm": {
     "name": "#%%\n"
    }
   }
  },
  {
   "cell_type": "code",
   "execution_count": 20,
   "outputs": [
    {
     "name": "stdout",
     "output_type": "stream",
     "text": [
      "Variable hh_vehicles: \n",
      "  4 - 0.52% (88)\n",
      "  5 - 0.12% (21)\n",
      "  6 - 0.02% (3)\n",
      "  8 - 0.02% (3)\n",
      "  7 - 0.01% (2)\n",
      "\n",
      "Variable hh_people: \n",
      "  7 - 0.70% (118)\n",
      "  8 - 0.18% (31)\n",
      "  9 - 0.08% (13)\n",
      "  10 - 0.03% (5)\n",
      "  11 - 0.02% (3)\n",
      "\n"
     ]
    }
   ],
   "source": [
    "check_low_appearing_vars(df_orig)"
   ],
   "metadata": {
    "collapsed": false,
    "pycharm": {
     "name": "#%%\n"
    }
   }
  },
  {
   "cell_type": "code",
   "execution_count": 21,
   "outputs": [],
   "source": [
    "replace_low_appearing_values(df_orig)"
   ],
   "metadata": {
    "collapsed": false,
    "pycharm": {
     "name": "#%%\n"
    }
   }
  },
  {
   "cell_type": "code",
   "execution_count": 22,
   "outputs": [],
   "source": [
    "check_low_appearing_vars(df_orig)"
   ],
   "metadata": {
    "collapsed": false,
    "pycharm": {
     "name": "#%%\n"
    }
   }
  },
  {
   "cell_type": "code",
   "execution_count": 23,
   "outputs": [],
   "source": [
    "categorical_columns = list(set(df_orig.columns) - set(continuous_columns))"
   ],
   "metadata": {
    "collapsed": false,
    "pycharm": {
     "name": "#%%\n"
    }
   }
  },
  {
   "cell_type": "code",
   "execution_count": 24,
   "outputs": [],
   "source": [
    "enc = OrdinalEncoder()\n",
    "df_orig[categorical_columns] = enc.fit_transform(df_orig[categorical_columns])"
   ],
   "metadata": {
    "collapsed": false,
    "pycharm": {
     "name": "#%%\n"
    }
   }
  },
  {
   "cell_type": "code",
   "execution_count": 25,
   "outputs": [
    {
     "name": "stdout",
     "output_type": "stream",
     "text": [
      "Found previous pickel file, using that\n"
     ]
    }
   ],
   "source": [
    "pickle_name = 'ml.pickle'\n",
    "\n",
    "cv_modelscores = {}\n",
    "\n",
    "try:\n",
    "    cv_modelscores = pickle.load(open(results_path + pickle_name, 'rb'))\n",
    "    print('Found previous pickel file, using that')\n",
    "except:\n",
    "    print('No previous results found, starting fresh')"
   ],
   "metadata": {
    "collapsed": false,
    "pycharm": {
     "name": "#%%\n"
    }
   }
  },
  {
   "cell_type": "code",
   "execution_count": 26,
   "outputs": [
    {
     "name": "stdout",
     "output_type": "stream",
     "text": [
      "Results for file \u001B[1mciDATGAN_1_1\u001B[0m (1/50) already exists!\n",
      "Results for file \u001B[1mDATGAN_1_1\u001B[0m (2/50) already exists!\n",
      "Results for file \u001B[1mciDATGAN_1_2\u001B[0m (3/50) already exists!\n",
      "Results for file \u001B[1mDATGAN_1_2\u001B[0m (4/50) already exists!\n",
      "Results for file \u001B[1mciDATGAN_1_3\u001B[0m (5/50) already exists!\n",
      "Results for file \u001B[1mDATGAN_1_3\u001B[0m (6/50) already exists!\n",
      "Results for file \u001B[1mciDATGAN_1_4\u001B[0m (7/50) already exists!\n",
      "Results for file \u001B[1mDATGAN_1_4\u001B[0m (8/50) already exists!\n",
      "Results for file \u001B[1mciDATGAN_1_5\u001B[0m (9/50) already exists!\n",
      "Results for file \u001B[1mDATGAN_1_5\u001B[0m (10/50) already exists!\n",
      "Results for file \u001B[1mciDATGAN_2_1\u001B[0m (11/50) already exists!\n",
      "Results for file \u001B[1mDATGAN_2_1\u001B[0m (12/50) already exists!\n",
      "Results for file \u001B[1mciDATGAN_2_2\u001B[0m (13/50) already exists!\n",
      "Results for file \u001B[1mDATGAN_2_2\u001B[0m (14/50) already exists!\n",
      "Results for file \u001B[1mciDATGAN_2_3\u001B[0m (15/50) already exists!\n",
      "Results for file \u001B[1mDATGAN_2_3\u001B[0m (16/50) already exists!\n",
      "Results for file \u001B[1mciDATGAN_2_4\u001B[0m (17/50) already exists!\n",
      "Results for file \u001B[1mDATGAN_2_4\u001B[0m (18/50) already exists!\n",
      "Results for file \u001B[1mciDATGAN_2_5\u001B[0m (19/50) already exists!\n",
      "Results for file \u001B[1mDATGAN_2_5\u001B[0m (20/50) already exists!\n",
      "Results for file \u001B[1mciDATGAN_3_1\u001B[0m (21/50) already exists!\n",
      "Results for file \u001B[1mDATGAN_3_1\u001B[0m (22/50) already exists!\n",
      "Results for file \u001B[1mciDATGAN_3_2\u001B[0m (23/50) already exists!\n",
      "Results for file \u001B[1mDATGAN_3_2\u001B[0m (24/50) already exists!\n",
      "Results for file \u001B[1mciDATGAN_3_3\u001B[0m (25/50) already exists!\n",
      "Results for file \u001B[1mDATGAN_3_3\u001B[0m (26/50) already exists!\n",
      "Results for file \u001B[1mciDATGAN_3_4\u001B[0m (27/50) already exists!\n",
      "Results for file \u001B[1mDATGAN_3_4\u001B[0m (28/50) already exists!\n",
      "Results for file \u001B[1mciDATGAN_3_5\u001B[0m (29/50) already exists!\n",
      "Results for file \u001B[1mDATGAN_3_5\u001B[0m (30/50) already exists!\n",
      "Results for file \u001B[1mciDATGAN_4_1\u001B[0m (31/50) already exists!\n",
      "Results for file \u001B[1mDATGAN_4_1\u001B[0m (32/50) already exists!\n",
      "Results for file \u001B[1mciDATGAN_4_2\u001B[0m (33/50) already exists!\n",
      "Results for file \u001B[1mDATGAN_4_2\u001B[0m (34/50) already exists!\n",
      "Results for file \u001B[1mciDATGAN_4_3\u001B[0m (35/50) already exists!\n",
      "Results for file \u001B[1mDATGAN_4_3\u001B[0m (36/50) already exists!\n",
      "Results for file \u001B[1mciDATGAN_4_4\u001B[0m (37/50) already exists!\n",
      "Results for file \u001B[1mDATGAN_4_4\u001B[0m (38/50) already exists!\n",
      "Results for file \u001B[1mciDATGAN_4_5\u001B[0m (39/50) already exists!\n",
      "Results for file \u001B[1mDATGAN_4_5\u001B[0m (40/50) already exists!\n",
      "Results for file \u001B[1mciDATGAN_5_1\u001B[0m (41/50) already exists!\n",
      "Results for file \u001B[1mDATGAN_5_1\u001B[0m (42/50) already exists!\n",
      "Results for file \u001B[1mciDATGAN_5_2\u001B[0m (43/50) already exists!\n",
      "Results for file \u001B[1mDATGAN_5_2\u001B[0m (44/50) already exists!\n",
      "Results for file \u001B[1mciDATGAN_5_3\u001B[0m (45/50) already exists!\n",
      "Results for file \u001B[1mDATGAN_5_3\u001B[0m (46/50) already exists!\n",
      "Results for file \u001B[1mciDATGAN_5_4\u001B[0m (47/50) already exists!\n",
      "Results for file \u001B[1mDATGAN_5_4\u001B[0m (48/50) already exists!\n",
      "Results for file \u001B[1mciDATGAN_5_5\u001B[0m (49/50) already exists!\n",
      "Results for file \u001B[1mDATGAN_5_5\u001B[0m (50/50) already exists!\n",
      "\u001B[1mFINISHED!\u001B[0m\n"
     ]
    }
   ],
   "source": [
    "for i, f in enumerate(synth_files):\n",
    "\n",
    "    file_name = f.split('/')[-1].split('.')[0]\n",
    "\n",
    "    if file_name in cv_modelscores:\n",
    "        print(\"Results for file \\033[1m{}\\033[0m ({}/{}) already exists!\".format(file_name, i+1, len(synth_files)))\n",
    "    else:\n",
    "        print(\"Preparing stats for file \\033[1m{}\\033[0m ({}/{})\".format(file_name, i+1, len(synth_files)))\n",
    "\n",
    "        cv_modelscores[file_name] = {}\n",
    "\n",
    "        # Load the synthetic dataset\n",
    "        df_synth = pd.read_csv(f, index_col=False)\n",
    "        df_synth = df_synth.sample(len_df).reset_index(drop=True)\n",
    "\n",
    "        # Replace the values rarely appearing\n",
    "        replace_low_appearing_values(df_synth)\n",
    "\n",
    "        # Encode the synthetic dataset\n",
    "        df_synth[categorical_columns] = enc.transform(df_synth[categorical_columns])\n",
    "\n",
    "        res = ml_assessment(df_orig, df_synth, continuous_columns, categorical_columns, ignore_cols=cond_inputs)\n",
    "\n",
    "        cv_modelscores[file_name] = res\n",
    "\n",
    "    pickle.dump(cv_modelscores, open(results_path + pickle_name, 'wb'))\n",
    "\n",
    "print(\"\\033[1mFINISHED!\\033[0m\")"
   ],
   "metadata": {
    "collapsed": false,
    "pycharm": {
     "name": "#%%\n"
    }
   }
  },
  {
   "cell_type": "code",
   "execution_count": 27,
   "outputs": [
    {
     "name": "stdout",
     "output_type": "stream",
     "text": [
      "Results for file \u001B[1moriginal\u001B[0m already exists!\n"
     ]
    }
   ],
   "source": [
    "if 'original' in cv_modelscores:\n",
    "    print(\"Results for file \\033[1m{}\\033[0m already exists!\".format('original'))\n",
    "else:\n",
    "    print(\"Preparing stats for file \\033[1m{}\\033[0m\".format('original'))\n",
    "\n",
    "    res = ml_assessment(df_orig, df_orig, continuous_columns, categorical_columns, ignore_cols=cond_inputs)\n",
    "    cv_modelscores['original'] = res\n",
    "    pickle.dump(cv_modelscores, open(results_path + pickle_name, 'wb'))\n",
    "    print(\"\\033[1mFINISHED!\\033[0m\")"
   ],
   "metadata": {
    "collapsed": false,
    "pycharm": {
     "name": "#%%\n"
    }
   }
  },
  {
   "cell_type": "code",
   "execution_count": 28,
   "outputs": [],
   "source": [
    "res_ml = {\n",
    "    'DATGAN': {'continuous': [], 'categorical': []},\n",
    "    'ciDATGAN': {'continuous': [], 'categorical': []}\n",
    "}\n",
    "\n",
    "continuous_columns = list(set(continuous_columns) - set(cond_inputs))\n",
    "categorical_columns = list(set(categorical_columns) - set(cond_inputs))\n",
    "\n",
    "ori_scores = {col: cv_modelscores['original'][col]['test_log_loss'] for col in categorical_columns}\n",
    "ori_scores.update({col: cv_modelscores['original'][col]['test_l2'] for col in continuous_columns})\n",
    "\n",
    "res = {}\n",
    "\n",
    "for c in ['continuous', 'categorical']:\n",
    "    res[c] = {}\n",
    "\n",
    "for m in cv_modelscores.keys():\n",
    "\n",
    "    res['continuous'][m] = []\n",
    "    for col in continuous_columns:\n",
    "        res['continuous'][m].append(cv_modelscores[m][col]['original_l2']/ori_scores[col])\n",
    "\n",
    "    res['categorical'][m] = []\n",
    "    for col in categorical_columns:\n",
    "        res['categorical'][m].append(cv_modelscores[m][col]['original_log_loss'] - ori_scores[col])"
   ],
   "metadata": {
    "collapsed": false,
    "pycharm": {
     "name": "#%%\n"
    }
   }
  },
  {
   "cell_type": "code",
   "execution_count": 29,
   "outputs": [],
   "source": [
    "avg = {}\n",
    "\n",
    "for c in ['continuous', 'categorical']:\n",
    "    avg[c] = {}\n",
    "    for f in res[c].keys():\n",
    "        avg[c][f] = {\n",
    "            'mean': np.mean(res[c][f]),\n",
    "            'std': np.std(res[c][f])\n",
    "        }"
   ],
   "metadata": {
    "collapsed": false,
    "pycharm": {
     "name": "#%%\n"
    }
   }
  },
  {
   "cell_type": "code",
   "execution_count": 36,
   "outputs": [
    {
     "ename": "NameError",
     "evalue": "name 'asd' is not defined",
     "output_type": "error",
     "traceback": [
      "\u001B[1;31m---------------------------------------------------------------------------\u001B[0m",
      "\u001B[1;31mNameError\u001B[0m                                 Traceback (most recent call last)",
      "Input \u001B[1;32mIn [36]\u001B[0m, in \u001B[0;36m<module>\u001B[1;34m\u001B[0m\n\u001B[0;32m     14\u001B[0m tmp \u001B[38;5;241m=\u001B[39m [res_DATGAN, res_ciDATGAN]\n\u001B[0;32m     15\u001B[0m \u001B[38;5;28;01mif\u001B[39;00m c \u001B[38;5;241m==\u001B[39m \u001B[38;5;124m'\u001B[39m\u001B[38;5;124mcontinuous\u001B[39m\u001B[38;5;124m'\u001B[39m:\n\u001B[1;32m---> 16\u001B[0m     \u001B[43masd\u001B[49m\n\u001B[0;32m     17\u001B[0m df \u001B[38;5;241m=\u001B[39m pd\u001B[38;5;241m.\u001B[39mDataFrame(tmp, index\u001B[38;5;241m=\u001B[39m[\u001B[38;5;124m'\u001B[39m\u001B[38;5;124mDATGAN\u001B[39m\u001B[38;5;124m'\u001B[39m, \u001B[38;5;124m'\u001B[39m\u001B[38;5;124mciDATGAN\u001B[39m\u001B[38;5;124m'\u001B[39m])\n\u001B[0;32m     19\u001B[0m plt\u001B[38;5;241m.\u001B[39mfigure(figsize\u001B[38;5;241m=\u001B[39m(\u001B[38;5;241m10\u001B[39m,\u001B[38;5;241m7\u001B[39m))\n",
      "\u001B[1;31mNameError\u001B[0m: name 'asd' is not defined"
     ]
    }
   ],
   "source": [
    "for c in ['continuous', 'categorical']:\n",
    "\n",
    "    res_DATGAN = []\n",
    "    res_ciDATGAN = []\n",
    "\n",
    "    for i in range(5):\n",
    "        for j in range(5):\n",
    "            res_DATGAN.append(avg[c]['DATGAN_{}_{}'.format(i+1, j+1)]['mean'])\n",
    "            res_ciDATGAN.append(avg[c]['ciDATGAN_{}_{}'.format(i+1, j+1)]['mean'])\n",
    "\n",
    "    res_DATGAN = np.array(res_DATGAN).flatten()\n",
    "    res_ciDATGAN = np.array(res_ciDATGAN).flatten()\n",
    "\n",
    "    tmp = [res_DATGAN, res_ciDATGAN]\n",
    "    if c == 'continuous':\n",
    "        asd\n",
    "    df = pd.DataFrame(tmp, index=['DATGAN', 'ciDATGAN'])\n",
    "\n",
    "    plt.figure(figsize=(10,7))\n",
    "\n",
    "    sns.boxplot(data=df.T, palette=colors,showmeans=True,\n",
    "                meanprops={\"marker\":\"o\",\n",
    "                           \"markerfacecolor\":\"white\",\n",
    "                           \"markeredgecolor\":\"black\",\n",
    "                          \"markersize\":\"10\"})\n",
    "\n",
    "    plt.xticks([0,1], ['DATGAN', 'ciDATGAN'])\n",
    "    if c == 'continuous':\n",
    "        plt.ylabel('Relative L2 error')\n",
    "    else:\n",
    "        plt.ylabel('Relative log loss')\n",
    "\n",
    "    plt.savefig('../../figures/obs/ml_{}.png'.format(c[:3]), bbox_inches='tight')\n",
    "    plt.savefig('../../figures/obs/ml_{}.pdf'.format(c[:3]), bbox_inches='tight')\n",
    "    plt.close()"
   ],
   "metadata": {
    "collapsed": false,
    "pycharm": {
     "name": "#%%\n"
    }
   }
  },
  {
   "cell_type": "code",
   "execution_count": 37,
   "outputs": [
    {
     "data": {
      "text/plain": "array([[ 3.52615053, 31.92131158],\n       [ 3.43620027, 31.89304331],\n       [ 3.40609433, 30.76174734],\n       [ 3.4355164 , 29.57631637],\n       [ 3.4686816 , 29.84276936],\n       [ 1.94883469,  2.098249  ],\n       [ 1.93052831,  2.14000911],\n       [ 2.00456957,  2.21374015],\n       [ 2.04202917,  2.13649921],\n       [ 1.97597557,  2.16419369],\n       [ 1.94094653,  2.0083097 ],\n       [ 1.89879212,  2.09196255],\n       [ 1.88891674,  2.05077059],\n       [ 1.8994391 ,  2.0911643 ],\n       [ 1.94516559,  1.94542904],\n       [59.07286594,  3.03472235],\n       [67.55554776,  2.89163275],\n       [66.29067453,  2.86322168],\n       [58.22084244,  2.90305487],\n       [70.60128724,  3.05808533],\n       [ 4.01421206,  1.83924008],\n       [ 3.57948425,  1.70365025],\n       [ 3.91149708,  1.72463   ],\n       [ 3.83067509,  1.7092307 ],\n       [ 3.65697663,  1.73625814]])"
     },
     "execution_count": 37,
     "metadata": {},
     "output_type": "execute_result"
    }
   ],
   "source": [
    "np.array(tmp).T"
   ],
   "metadata": {
    "collapsed": false,
    "pycharm": {
     "name": "#%%\n"
    }
   }
  },
  {
   "cell_type": "code",
   "execution_count": null,
   "outputs": [],
   "source": [],
   "metadata": {
    "collapsed": false,
    "pycharm": {
     "name": "#%%\n"
    }
   }
  }
 ],
 "metadata": {
  "kernelspec": {
   "name": "dev",
   "language": "python",
   "display_name": "dev"
  },
  "language_info": {
   "codemirror_mode": {
    "name": "ipython",
    "version": 2
   },
   "file_extension": ".py",
   "mimetype": "text/x-python",
   "name": "python",
   "nbconvert_exporter": "python",
   "pygments_lexer": "ipython2",
   "version": "2.7.6"
  }
 },
 "nbformat": 4,
 "nbformat_minor": 0
}