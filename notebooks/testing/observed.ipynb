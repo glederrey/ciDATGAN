{
 "cells": [
  {
   "cell_type": "code",
   "execution_count": 1,
   "metadata": {
    "collapsed": true
   },
   "outputs": [],
   "source": [
    "import os\n",
    "import pickle\n",
    "import numpy as np\n",
    "import pandas as pd\n",
    "import networkx as nx\n",
    "import datgan\n",
    "\n",
    "from sklearn.preprocessing import OrdinalEncoder\n",
    "\n",
    "from datgan import stats_assessment\n",
    "from datgan import ml_assessment, transform_results\n",
    "\n",
    "# For the Python notebook\n",
    "%matplotlib inline\n",
    "%reload_ext autoreload\n",
    "%autoreload 2"
   ]
  },
  {
   "cell_type": "code",
   "execution_count": 2,
   "outputs": [],
   "source": [
    "df_orig = pd.read_csv('../../data/LPMC/trips.csv', index_col=False)\n",
    "\n",
    "continuous_columns = ['start_time_linear', 'age', 'distance', 'dur_walking',\n",
    "                      'dur_cycling', 'dur_pt_access', 'dur_pt_rail', 'dur_pt_bus',\n",
    "                      'dur_pt_int', 'dur_driving', 'cost_transit',\n",
    "                      'cost_driving_fuel', 'driving_traffic_percent']\n",
    "\n",
    "cond_inputs = [\"age\", \"female\", \"hh_borough\"]\n",
    "\n",
    "synth_files = []\n",
    "\n",
    "for i in range(5):\n",
    "    synth_files.append('../../data/synthetic/test/DATGAN_{:02d}.csv'.format(i+1))\n",
    "    synth_files.append('../../data/synthetic/test/ciDATGAN_{:02d}.csv'.format(i+1))\n",
    "\n",
    "len_df = len(df_orig)"
   ],
   "metadata": {
    "collapsed": false,
    "pycharm": {
     "name": "#%%\n"
    }
   }
  },
  {
   "cell_type": "code",
   "execution_count": 3,
   "outputs": [],
   "source": [
    "results_path = './results/'\n",
    "\n",
    "if not os.path.exists(results_path):\n",
    "    os.makedirs(results_path)"
   ],
   "metadata": {
    "collapsed": false,
    "pycharm": {
     "name": "#%%\n"
    }
   }
  },
  {
   "cell_type": "code",
   "execution_count": 4,
   "outputs": [],
   "source": [
    "stats_str = ['mae', 'rmse', 'r2', 'srmse', 'corr']"
   ],
   "metadata": {
    "collapsed": false,
    "pycharm": {
     "name": "#%%\n"
    }
   }
  },
  {
   "cell_type": "markdown",
   "source": [
    "# First level"
   ],
   "metadata": {
    "collapsed": false,
    "pycharm": {
     "name": "#%% md\n"
    }
   }
  },
  {
   "cell_type": "code",
   "execution_count": 5,
   "outputs": [
    {
     "name": "stdout",
     "output_type": "stream",
     "text": [
      "No previous results found, starting fresh\n"
     ]
    }
   ],
   "source": [
    "pickle_name = 'stats_first_level.pickle'\n",
    "aggregation_level = 1\n",
    "\n",
    "first_lvl_stats = {}\n",
    "\n",
    "try:\n",
    "    first_lvl_stats = pickle.load(open(results_path + pickle_name, 'rb'))\n",
    "    print('Found previous pickle file, using that')\n",
    "except:\n",
    "    print('No previous results found, starting fresh')"
   ],
   "metadata": {
    "collapsed": false,
    "pycharm": {
     "name": "#%%\n"
    }
   }
  },
  {
   "cell_type": "code",
   "execution_count": 6,
   "outputs": [
    {
     "name": "stdout",
     "output_type": "stream",
     "text": [
      "Preparing stats for file \u001B[1mDATGAN_01\u001B[0m (1/15)\n",
      "Preparing stats for file \u001B[1mciDATGAN_01\u001B[0m (2/15)\n",
      "Preparing stats for file \u001B[1mciDATGAN_rnd_01\u001B[0m (3/15)\n",
      "Preparing stats for file \u001B[1mDATGAN_02\u001B[0m (4/15)\n",
      "Preparing stats for file \u001B[1mciDATGAN_02\u001B[0m (5/15)\n",
      "Preparing stats for file \u001B[1mciDATGAN_rnd_02\u001B[0m (6/15)\n",
      "Preparing stats for file \u001B[1mDATGAN_03\u001B[0m (7/15)\n",
      "Preparing stats for file \u001B[1mciDATGAN_03\u001B[0m (8/15)\n",
      "Preparing stats for file \u001B[1mciDATGAN_rnd_03\u001B[0m (9/15)\n",
      "Preparing stats for file \u001B[1mDATGAN_04\u001B[0m (10/15)\n",
      "Preparing stats for file \u001B[1mciDATGAN_04\u001B[0m (11/15)\n",
      "Preparing stats for file \u001B[1mciDATGAN_rnd_04\u001B[0m (12/15)\n",
      "Preparing stats for file \u001B[1mDATGAN_05\u001B[0m (13/15)\n",
      "Preparing stats for file \u001B[1mciDATGAN_05\u001B[0m (14/15)\n",
      "Preparing stats for file \u001B[1mciDATGAN_rnd_05\u001B[0m (15/15)\n",
      "\u001B[1mFINISHED!\u001B[0m\n"
     ]
    }
   ],
   "source": [
    "for i, f in enumerate(synth_files):\n",
    "\n",
    "    file_name = f.split('/')[-1].split('.')[0]\n",
    "\n",
    "    if file_name in first_lvl_stats:\n",
    "        print(\"Results for file \\033[1m{}\\033[0m ({}/{}) already exists!\".format(file_name, i+1, len(synth_files)))\n",
    "    else:\n",
    "        print(\"Preparing stats for file \\033[1m{}\\033[0m ({}/{})\".format(file_name, i+1, len(synth_files)))\n",
    "\n",
    "        first_lvl_stats[file_name] = {}\n",
    "\n",
    "        df_synth = pd.read_csv(f, index_col=False)\n",
    "        df_synth = df_synth.sample(len_df).reset_index(drop=True)\n",
    "\n",
    "        stats = stats_assessment(df_orig, df_synth, continuous_columns, aggregation_level, ignore_cols=cond_inputs)\n",
    "\n",
    "        first_lvl_stats[file_name] = stats\n",
    "\n",
    "    pickle.dump(first_lvl_stats, open(results_path + pickle_name, 'wb'))\n",
    "\n",
    "print(\"\\033[1mFINISHED!\\033[0m\")"
   ],
   "metadata": {
    "collapsed": false,
    "pycharm": {
     "name": "#%%\n"
    }
   }
  },
  {
   "cell_type": "code",
   "execution_count": 7,
   "outputs": [],
   "source": [
    "res = {}\n",
    "\n",
    "for test in ['all', 'cont', 'cat']:\n",
    "\n",
    "    res[test] = {}\n",
    "\n",
    "    if test == 'all':\n",
    "        cols = df_orig.columns\n",
    "    elif test == 'cont':\n",
    "        cols = continuous_columns\n",
    "    elif test == 'cat':\n",
    "        cols = set(df_orig.columns) - set(continuous_columns)\n",
    "\n",
    "    cols = set(cols) - set(cond_inputs)\n",
    "\n",
    "    for s in stats_str:\n",
    "        res[test][s] = {}\n",
    "\n",
    "    for m in first_lvl_stats.keys():\n",
    "        for s in stats_str:\n",
    "            res[test][s][m] = []\n",
    "\n",
    "            for c in cols:\n",
    "                res[test][s][m].append(first_lvl_stats[m][c][s])"
   ],
   "metadata": {
    "collapsed": false,
    "pycharm": {
     "name": "#%%\n"
    }
   }
  },
  {
   "cell_type": "code",
   "execution_count": 8,
   "outputs": [],
   "source": [
    "avg = {}\n",
    "\n",
    "for test in ['all', 'cont', 'cat']:\n",
    "\n",
    "    avg[test] = {}\n",
    "\n",
    "    for s in stats_str:\n",
    "        avg[test][s] = {}\n",
    "\n",
    "        for m in first_lvl_stats.keys():\n",
    "            avg[test][s][m] = {\n",
    "                'mean': np.mean(res[test][s][m]),\n",
    "                'std': np.std(res[test][s][m])\n",
    "            }"
   ],
   "metadata": {
    "collapsed": false,
    "pycharm": {
     "name": "#%%\n"
    }
   }
  },
  {
   "cell_type": "code",
   "execution_count": 9,
   "outputs": [
    {
     "name": "stdout",
     "output_type": "stream",
     "text": [
      "Ranking on all columns based on SRMSE:\n",
      "   1. DATGAN_04       - 6.25e-02 ± 4.68e-02\n",
      "   2. DATGAN_01       - 6.36e-02 ± 4.75e-02\n",
      "   3. DATGAN_05       - 6.53e-02 ± 4.93e-02\n",
      "   4. DATGAN_03       - 6.53e-02 ± 4.54e-02\n",
      "   5. DATGAN_02       - 6.67e-02 ± 4.53e-02\n",
      "   6. ciDATGAN_02     - 7.23e-02 ± 7.78e-02\n",
      "   7. ciDATGAN_rnd_02 - 7.39e-02 ± 7.65e-02\n",
      "   8. ciDATGAN_03     - 7.43e-02 ± 7.82e-02\n",
      "   9. ciDATGAN_05     - 7.47e-02 ± 7.44e-02\n",
      "  10. ciDATGAN_01     - 7.55e-02 ± 7.57e-02\n",
      "  11. ciDATGAN_rnd_01 - 7.63e-02 ± 7.72e-02\n",
      "  12. ciDATGAN_rnd_03 - 7.64e-02 ± 7.39e-02\n",
      "  13. ciDATGAN_04     - 7.65e-02 ± 7.55e-02\n",
      "  14. ciDATGAN_rnd_04 - 7.85e-02 ± 7.50e-02\n",
      "  15. ciDATGAN_rnd_05 - 7.90e-02 ± 7.15e-02\n",
      "\n",
      "Ranking on continuous columns based on SRMSE:\n",
      "   1. DATGAN_04       - 9.35e-02 ± 4.85e-02\n",
      "   2. DATGAN_01       - 9.47e-02 ± 5.06e-02\n",
      "   3. DATGAN_03       - 9.83e-02 ± 4.52e-02\n",
      "   4. DATGAN_02       - 9.90e-02 ± 4.61e-02\n",
      "   5. DATGAN_05       - 1.01e-01 ± 4.85e-02\n",
      "   6. ciDATGAN_05     - 1.19e-01 ± 9.10e-02\n",
      "   7. ciDATGAN_rnd_02 - 1.19e-01 ± 9.38e-02\n",
      "   8. ciDATGAN_02     - 1.20e-01 ± 9.35e-02\n",
      "   9. ciDATGAN_03     - 1.22e-01 ± 9.45e-02\n",
      "  10. ciDATGAN_04     - 1.23e-01 ± 9.00e-02\n",
      "  11. ciDATGAN_rnd_01 - 1.23e-01 ± 9.31e-02\n",
      "  12. ciDATGAN_01     - 1.24e-01 ± 8.87e-02\n",
      "  13. ciDATGAN_rnd_03 - 1.25e-01 ± 8.60e-02\n",
      "  14. ciDATGAN_rnd_04 - 1.25e-01 ± 8.93e-02\n",
      "  15. ciDATGAN_rnd_05 - 1.25e-01 ± 8.27e-02\n",
      "\n",
      "Ranking on categorical columns based on SRMSE:\n",
      "   1. ciDATGAN_02     - 3.43e-02 ± 2.53e-02\n",
      "   2. ciDATGAN_03     - 3.59e-02 ± 2.39e-02\n",
      "   3. ciDATGAN_01     - 3.68e-02 ± 2.55e-02\n",
      "   4. DATGAN_05       - 3.71e-02 ± 2.67e-02\n",
      "   5. ciDATGAN_rnd_03 - 3.76e-02 ± 2.29e-02\n",
      "   6. ciDATGAN_rnd_02 - 3.76e-02 ± 2.26e-02\n",
      "   7. DATGAN_04       - 3.77e-02 ± 2.60e-02\n",
      "   8. DATGAN_01       - 3.88e-02 ± 2.50e-02\n",
      "   9. ciDATGAN_rnd_01 - 3.90e-02 ± 2.59e-02\n",
      "  10. DATGAN_03       - 3.90e-02 ± 2.27e-02\n",
      "  11. ciDATGAN_05     - 3.92e-02 ± 2.24e-02\n",
      "  12. ciDATGAN_04     - 3.96e-02 ± 2.68e-02\n",
      "  13. DATGAN_02       - 4.09e-02 ± 2.22e-02\n",
      "  14. ciDATGAN_rnd_04 - 4.12e-02 ± 2.47e-02\n",
      "  15. ciDATGAN_rnd_05 - 4.19e-02 ± 2.50e-02\n",
      "\n"
     ]
    }
   ],
   "source": [
    "for test in ['all', 'cont', 'cat']:\n",
    "\n",
    "    if test == 'all':\n",
    "        str_ = 'on all columns'\n",
    "    elif test == 'cont':\n",
    "        str_ = 'on continuous columns'\n",
    "    elif test == 'cat':\n",
    "        str_ = 'on categorical columns'\n",
    "\n",
    "    for s in ['srmse']:#stats:\n",
    "        print('Ranking {} based on {}:'.format(str_, s.upper()))\n",
    "\n",
    "        if s in ['r2', 'corr']:\n",
    "            sorted_dct = {k: v for k, v in sorted(avg[test][s].items(), key=lambda item: item[1]['mean'])[::-1]}\n",
    "        else:\n",
    "            sorted_dct = {k: v for k, v in sorted(avg[test][s].items(), key=lambda item: item[1]['mean'])}\n",
    "\n",
    "        for i, item in enumerate(sorted_dct):\n",
    "            print('  {:>2}. {:<15} - {:.2e} ± {:.2e}'.format(i+1, item, sorted_dct[item]['mean'], sorted_dct[item]['std']))\n",
    "        print()"
   ],
   "metadata": {
    "collapsed": false,
    "pycharm": {
     "name": "#%%\n"
    }
   }
  },
  {
   "cell_type": "markdown",
   "source": [
    "# Second level"
   ],
   "metadata": {
    "collapsed": false,
    "pycharm": {
     "name": "#%% md\n"
    }
   }
  },
  {
   "cell_type": "code",
   "execution_count": 10,
   "outputs": [
    {
     "name": "stdout",
     "output_type": "stream",
     "text": [
      "No previous results found, starting fresh\n"
     ]
    }
   ],
   "source": [
    "pickle_name = 'stats_second_level.pickle'\n",
    "aggregation_level = 2\n",
    "\n",
    "second_lvl_stats = {}\n",
    "\n",
    "try:\n",
    "    second_lvl_stats = pickle.load(open(results_path + pickle_name, 'rb'))\n",
    "    print('Found previous pickel file, using that')\n",
    "except:\n",
    "    print('No previous results found, starting fresh')"
   ],
   "metadata": {
    "collapsed": false,
    "pycharm": {
     "name": "#%%\n"
    }
   }
  },
  {
   "cell_type": "code",
   "execution_count": 11,
   "outputs": [
    {
     "name": "stdout",
     "output_type": "stream",
     "text": [
      "Preparing stats for file \u001B[1mDATGAN\u001B[0m (1/2)\n",
      "Preparing stats for file \u001B[1mciDATGAN\u001B[0m (2/2)\n",
      "\u001B[1mFINISHED!\u001B[0m\n"
     ]
    }
   ],
   "source": [
    "for i, f in enumerate(synth_files):\n",
    "\n",
    "    file_name = f.split('/')[-1].split('.')[0]\n",
    "\n",
    "    if file_name in second_lvl_stats:\n",
    "        print(\"Results for file \\033[1m{}\\033[0m ({}/{}) already exists!\".format(file_name, i+1, len(synth_files)))\n",
    "    else:\n",
    "        print(\"Preparing stats for file \\033[1m{}\\033[0m ({}/{})\".format(file_name, i+1, len(synth_files)))\n",
    "\n",
    "        second_lvl_stats[file_name] = {}\n",
    "\n",
    "        df_synth = pd.read_csv(f, index_col=False)\n",
    "        df_synth = df_synth.sample(len_df).reset_index(drop=True)\n",
    "\n",
    "        stats = stats_assessment(df_orig, df_synth, continuous_columns, aggregation_level, ignore_cols=cond_inputs)\n",
    "\n",
    "        second_lvl_stats[file_name] = stats\n",
    "\n",
    "    pickle.dump(second_lvl_stats, open(results_path + pickle_name, 'wb'))\n",
    "\n",
    "print(\"\\033[1mFINISHED!\\033[0m\")"
   ],
   "metadata": {
    "collapsed": false,
    "pycharm": {
     "name": "#%%\n"
    }
   }
  },
  {
   "cell_type": "code",
   "execution_count": 12,
   "outputs": [],
   "source": [
    "res = {}\n",
    "\n",
    "for s in stats_str:\n",
    "    res[s] = {}\n",
    "\n",
    "for m in second_lvl_stats.keys():\n",
    "\n",
    "    for s in stats_str:\n",
    "        res[s][m] = []\n",
    "\n",
    "        for c in second_lvl_stats[m].keys():\n",
    "            res[s][m].append(second_lvl_stats[m][c][s])"
   ],
   "metadata": {
    "collapsed": false,
    "pycharm": {
     "name": "#%%\n"
    }
   }
  },
  {
   "cell_type": "code",
   "execution_count": 13,
   "outputs": [],
   "source": [
    "avg = {}\n",
    "\n",
    "for s in stats_str:\n",
    "    avg[s] = {}\n",
    "\n",
    "    for m in first_lvl_stats.keys():\n",
    "        avg[s][m] = {\n",
    "            'mean': np.mean(res[s][m]),\n",
    "            'std': np.std(res[s][m])\n",
    "        }"
   ],
   "metadata": {
    "collapsed": false,
    "pycharm": {
     "name": "#%%\n"
    }
   }
  },
  {
   "cell_type": "code",
   "execution_count": 14,
   "outputs": [
    {
     "name": "stdout",
     "output_type": "stream",
     "text": [
      "Ranking based on SRMSE for aggregation level 2:\n",
      "   1. DATGAN          - 1.90e-01 ± 8.58e-02\n",
      "   2. ciDATGAN        - 2.47e-01 ± 1.61e-01\n",
      "\n"
     ]
    }
   ],
   "source": [
    "for s in ['srmse']:#stats:\n",
    "    print('Ranking based on {} for aggregation level {}:'.format(s.upper(), aggregation_level))\n",
    "\n",
    "    if s in ['r2', 'corr']:\n",
    "        sorted_dct = {k: v for k, v in sorted(avg[s].items(), key=lambda item: item[1]['mean'])[::-1]}\n",
    "    else:\n",
    "        sorted_dct = {k: v for k, v in sorted(avg[s].items(), key=lambda item: item[1]['mean'])}\n",
    "\n",
    "    for i, item in enumerate(sorted_dct):\n",
    "        print('  {:>2}. {:<15} - {:.2e} ± {:.2e}'.format(i+1, item, sorted_dct[item]['mean'], sorted_dct[item]['std']))\n",
    "    print()"
   ],
   "metadata": {
    "collapsed": false,
    "pycharm": {
     "name": "#%%\n"
    }
   }
  },
  {
   "cell_type": "markdown",
   "source": [
    "# ML efficacy"
   ],
   "metadata": {
    "collapsed": false,
    "pycharm": {
     "name": "#%% md\n"
    }
   }
  },
  {
   "cell_type": "code",
   "execution_count": 18,
   "outputs": [],
   "source": [
    "def check_low_appearing_vars(df):\n",
    "\n",
    "    for c in df.columns:\n",
    "        val = df[c].value_counts()\n",
    "        if len(val) < 20:\n",
    "            val = val/len(df)\n",
    "            if any(val < 0.01) and c != 'choice':\n",
    "                print('Variable {}: '.format(c))\n",
    "                for idx, v in zip(val.index, val):\n",
    "                    if v < 0.01:\n",
    "                        print('  {} - {:.2f}% ({:d})'.format(idx, 100*v, int(v*len(df))))\n",
    "                print()\n",
    "\n",
    "def replace_low_appearing_values(df):\n",
    "\n",
    "    dct_ = {}\n",
    "    for i in df['pt_n_interchanges'].unique():\n",
    "        if i >= 2:\n",
    "            dct_[i] = '2+'\n",
    "        else:\n",
    "            dct_[i] = str(i)\n",
    "    df['pt_n_interchanges'].replace(dct_, inplace=True)\n",
    "\n",
    "    dct_ = {\n",
    "        'Diesel_LGV': 'LGV',\n",
    "        'Petrol_LGV': 'LGV',\n",
    "        'Hybrid_Car': 'Average_Car'\n",
    "    }\n",
    "    df['fueltype'].replace(dct_, inplace=True)\n",
    "\n",
    "    dct_ = {}\n",
    "    for i in df['hh_vehicles'].unique():\n",
    "        if i >= 3:\n",
    "            dct_[i] = '3+'\n",
    "        else:\n",
    "            dct_[i] = str(i)\n",
    "    df['hh_vehicles'].replace(dct_, inplace=True)\n",
    "\n",
    "    dct_ = {}\n",
    "    for i in df['hh_people'].unique():\n",
    "        if i >= 6:\n",
    "            dct_[i] = '6+'\n",
    "        else:\n",
    "            dct_[i] = str(i)\n",
    "    df['hh_people'].replace(dct_, inplace=True)"
   ],
   "metadata": {
    "collapsed": false,
    "pycharm": {
     "name": "#%%\n"
    }
   }
  },
  {
   "cell_type": "code",
   "execution_count": 16,
   "outputs": [
    {
     "name": "stdout",
     "output_type": "stream",
     "text": [
      "Variable fueltype: \n",
      "  Hybrid_Car - 0.51% (87)\n",
      "  Petrol_LGV - 0.18% (31)\n",
      "\n",
      "Variable pt_n_interchanges: \n",
      "  3 - 0.77% (131)\n",
      "  4 - 0.04% (6)\n",
      "\n",
      "Variable hh_vehicles: \n",
      "  4 - 0.52% (88)\n",
      "  5 - 0.12% (21)\n",
      "  8 - 0.02% (3)\n",
      "  6 - 0.02% (3)\n",
      "  7 - 0.01% (2)\n",
      "\n",
      "Variable hh_people: \n",
      "  7 - 0.70% (118)\n",
      "  8 - 0.18% (31)\n",
      "  9 - 0.08% (13)\n",
      "  10 - 0.03% (5)\n",
      "  11 - 0.02% (3)\n",
      "\n"
     ]
    }
   ],
   "source": [
    "check_low_appearing_vars(df_orig)"
   ],
   "metadata": {
    "collapsed": false,
    "pycharm": {
     "name": "#%%\n"
    }
   }
  },
  {
   "cell_type": "code",
   "execution_count": 19,
   "outputs": [],
   "source": [
    "replace_low_appearing_values(df_orig)"
   ],
   "metadata": {
    "collapsed": false,
    "pycharm": {
     "name": "#%%\n"
    }
   }
  },
  {
   "cell_type": "code",
   "execution_count": 20,
   "outputs": [],
   "source": [
    "check_low_appearing_vars(df_orig)"
   ],
   "metadata": {
    "collapsed": false,
    "pycharm": {
     "name": "#%%\n"
    }
   }
  },
  {
   "cell_type": "code",
   "execution_count": 21,
   "outputs": [],
   "source": [
    "categorical_columns = list(set(df_orig.columns) - set(continuous_columns))"
   ],
   "metadata": {
    "collapsed": false,
    "pycharm": {
     "name": "#%%\n"
    }
   }
  },
  {
   "cell_type": "code",
   "execution_count": 22,
   "outputs": [],
   "source": [
    "enc = OrdinalEncoder()\n",
    "df_orig[categorical_columns] = enc.fit_transform(df_orig[categorical_columns])"
   ],
   "metadata": {
    "collapsed": false,
    "pycharm": {
     "name": "#%%\n"
    }
   }
  },
  {
   "cell_type": "code",
   "execution_count": 23,
   "outputs": [
    {
     "name": "stdout",
     "output_type": "stream",
     "text": [
      "No previous results found, starting fresh\n"
     ]
    }
   ],
   "source": [
    "pickle_name = 'ml_efficacy.pickle'\n",
    "\n",
    "cv_modelscores = {}\n",
    "\n",
    "try:\n",
    "    cv_modelscores = pickle.load(open(results_path + pickle_name, 'rb'))\n",
    "    print('Found previous pickel file, using that')\n",
    "except:\n",
    "    print('No previous results found, starting fresh')"
   ],
   "metadata": {
    "collapsed": false,
    "pycharm": {
     "name": "#%%\n"
    }
   }
  },
  {
   "cell_type": "code",
   "execution_count": 24,
   "outputs": [
    {
     "name": "stdout",
     "output_type": "stream",
     "text": [
      "Preparing stats for file \u001B[1mDATGAN\u001B[0m (1/2)\n",
      "Preparing stats for file \u001B[1mciDATGAN\u001B[0m (2/2)\n",
      "\u001B[1mFINISHED!\u001B[0m                          \n"
     ]
    }
   ],
   "source": [
    "for i, f in enumerate(synth_files):\n",
    "\n",
    "    file_name = f.split('/')[-1].split('.')[0]\n",
    "\n",
    "    if file_name in cv_modelscores:\n",
    "        print(\"Results for file \\033[1m{}\\033[0m ({}/{}) already exists!\".format(file_name, i+1, len(synth_files)))\n",
    "    else:\n",
    "        print(\"Preparing stats for file \\033[1m{}\\033[0m ({}/{})\".format(file_name, i+1, len(synth_files)))\n",
    "\n",
    "        cv_modelscores[file_name] = {}\n",
    "\n",
    "        # Load the synthetic dataset\n",
    "        df_synth = pd.read_csv(f, index_col=False)\n",
    "        df_synth = df_synth.sample(len_df).reset_index(drop=True)\n",
    "\n",
    "        # Replace the values rarely appearing\n",
    "        replace_low_appearing_values(df_synth)\n",
    "\n",
    "        # Encode the synthetic dataset\n",
    "        df_synth[categorical_columns] = enc.transform(df_synth[categorical_columns])\n",
    "\n",
    "        res = ml_assessment(df_orig, df_synth, continuous_columns, categorical_columns, ignore_cols=cond_inputs)\n",
    "\n",
    "        cv_modelscores[file_name] = res\n",
    "\n",
    "    pickle.dump(cv_modelscores, open(results_path + pickle_name, 'wb'))\n",
    "\n",
    "print(\"\\033[1mFINISHED!\\033[0m\")"
   ],
   "metadata": {
    "collapsed": false,
    "pycharm": {
     "name": "#%%\n"
    }
   }
  },
  {
   "cell_type": "code",
   "execution_count": 25,
   "outputs": [
    {
     "name": "stdout",
     "output_type": "stream",
     "text": [
      "Preparing stats for file \u001B[1moriginal\u001B[0m\n",
      "\u001B[1mFINISHED!\u001B[0m                          \n"
     ]
    }
   ],
   "source": [
    "if 'original' in cv_modelscores:\n",
    "    print(\"Results for file \\033[1m{}\\033[0m already exists!\".format('original'))\n",
    "else:\n",
    "    print(\"Preparing stats for file \\033[1m{}\\033[0m\".format('original'))\n",
    "\n",
    "    res = ml_assessment(df_orig, df_orig, continuous_columns, categorical_columns, ignore_cols=cond_inputs)\n",
    "    cv_modelscores['original'] = res\n",
    "    pickle.dump(cv_modelscores, open(results_path + pickle_name, 'wb'))\n",
    "    print(\"\\033[1mFINISHED!\\033[0m\")"
   ],
   "metadata": {
    "collapsed": false,
    "pycharm": {
     "name": "#%%\n"
    }
   }
  },
  {
   "cell_type": "code",
   "execution_count": 26,
   "outputs": [],
   "source": [
    "cont_sorted, cat_sorted = transform_results(cv_modelscores, continuous_columns, categorical_columns, ignore_cols=cond_inputs)"
   ],
   "metadata": {
    "collapsed": false,
    "pycharm": {
     "name": "#%%\n"
    }
   }
  },
  {
   "cell_type": "code",
   "execution_count": 27,
   "outputs": [
    {
     "name": "stdout",
     "output_type": "stream",
     "text": [
      "   | categorical                    | continuous                    \n",
      "-----------------------------------------------------------\n",
      " 1 | original    : -5.027           | original    : 8.078           \n",
      " 2 | DATGAN      : 3.866            | ciDATGAN    : 25.285          \n",
      " 3 | ciDATGAN    : 4.507            | DATGAN      : 27.256          \n"
     ]
    }
   ],
   "source": [
    "i=1\n",
    "print('   | {:<30} | {:<30}'.format('categorical', 'continuous'))\n",
    "print('-----------------------------------------------------------')\n",
    "for a, b in zip(cat_sorted, cont_sorted):\n",
    "    print('{:>2} | {:<30} | {:<30}'.format(i, '{:<12}: {:.3f}'.format(a[0], a[1]), '{:<12}: {:.3f}'.format(b[0], b[1])))\n",
    "    i+=1"
   ],
   "metadata": {
    "collapsed": false,
    "pycharm": {
     "name": "#%%\n"
    }
   }
  },
  {
   "cell_type": "code",
   "execution_count": null,
   "outputs": [],
   "source": [],
   "metadata": {
    "collapsed": false,
    "pycharm": {
     "name": "#%%\n"
    }
   }
  }
 ],
 "metadata": {
  "kernelspec": {
   "name": "dev",
   "language": "python",
   "display_name": "dev"
  },
  "language_info": {
   "codemirror_mode": {
    "name": "ipython",
    "version": 2
   },
   "file_extension": ".py",
   "mimetype": "text/x-python",
   "name": "python",
   "nbconvert_exporter": "python",
   "pygments_lexer": "ipython2",
   "version": "2.7.6"
  }
 },
 "nbformat": 4,
 "nbformat_minor": 0
}