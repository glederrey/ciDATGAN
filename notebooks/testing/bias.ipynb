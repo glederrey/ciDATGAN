{
 "cells": [
  {
   "cell_type": "code",
   "execution_count": 136,
   "metadata": {
    "collapsed": true
   },
   "outputs": [],
   "source": [
    "import os\n",
    "import pickle\n",
    "import numpy as np\n",
    "import pandas as pd\n",
    "import matplotlib.pyplot as plt\n",
    "\n",
    "import seaborn as sns\n",
    "sns.set_style(\"whitegrid\")\n",
    "\n",
    "from sklearn.preprocessing import OrdinalEncoder\n",
    "\n",
    "from datgan import stats_assessment\n",
    "from datgan import ml_assessment, transform_results\n",
    "\n",
    "\n",
    "# For the Python notebook\n",
    "%matplotlib inline\n",
    "%reload_ext autoreload\n",
    "%autoreload 2"
   ]
  },
  {
   "cell_type": "code",
   "execution_count": 176,
   "outputs": [],
   "source": [
    "tmp = pd.read_csv('../../data/LPMC/trips_bias.csv')"
   ],
   "metadata": {
    "collapsed": false,
    "pycharm": {
     "name": "#%%\n"
    }
   }
  },
  {
   "cell_type": "code",
   "execution_count": 177,
   "outputs": [
    {
     "data": {
      "text/plain": "8437"
     },
     "execution_count": 177,
     "metadata": {},
     "output_type": "execute_result"
    }
   ],
   "source": [
    "len(tmp)"
   ],
   "metadata": {
    "collapsed": false,
    "pycharm": {
     "name": "#%%\n"
    }
   }
  },
  {
   "cell_type": "code",
   "execution_count": 137,
   "outputs": [],
   "source": [
    "df_orig = pd.read_csv('../../data/LPMC/trips.csv', index_col=False)\n",
    "\n",
    "continuous_columns = ['start_time_linear', 'age', 'distance', 'dur_walking', 'dur_cycling', 'dur_pt','dur_driving', 'driving_traffic_percent']\n",
    "\n",
    "#to_check = list(set(df_orig.columns) - set(['age', 'female', 'hh_region']))\n",
    "to_check = ['distance', 'travel_mode', 'purpose', 'driving_license', 'faretype', 'hh_vehicles', 'hh_income', 'hh_people']\n",
    "\n",
    "cond_inputs = list(set(df_orig.columns) - set(to_check))\n",
    "\n",
    "synth_files = ['../../data/LPMC/trips_bias.csv']\n",
    "labels = ['bias']\n",
    "\n",
    "for i in range(5):\n",
    "    for j in range(5):\n",
    "        synth_files.append('../../data/synthetic/bias/ciDATGAN_{}_{}.csv'.format(i+1, j+1))\n",
    "        labels.append('ciDATGAN_{}_{}'.format(i+1, j+1))\n",
    "        synth_files.append('../../data/synthetic/bias/DATGAN_{}_{}.csv'.format(i+1, j+1))\n",
    "        labels.append('DATGAN_{}_{}'.format(i+1, j+1))\n",
    "\n",
    "        synth_files.append('../../data/synthetic/normal/DATGAN_{}_{}.csv'.format(i+1, j+1))\n",
    "        labels.append('normal_DATGAN_{}_{}'.format(i+1, j+1))\n",
    "\n",
    "len_df = len(df_orig)"
   ],
   "metadata": {
    "collapsed": false,
    "pycharm": {
     "name": "#%%\n"
    }
   }
  },
  {
   "cell_type": "code",
   "execution_count": 138,
   "outputs": [],
   "source": [
    "results_path = './results/'\n",
    "\n",
    "if not os.path.exists(results_path):\n",
    "    os.makedirs(results_path)"
   ],
   "metadata": {
    "collapsed": false,
    "pycharm": {
     "name": "#%%\n"
    }
   }
  },
  {
   "cell_type": "code",
   "execution_count": 139,
   "outputs": [],
   "source": [
    "stats_str = ['mae', 'rmse', 'r2', 'srmse', 'corr']\n",
    "colors = [(0.6627450980392157, 0.6627450980392157, 0.6627450980392157, 1.0), (1.0, 0.0, 0.0, 0.0), (0.6627450980392157, 0.6627450980392157, 0.6627450980392157, 1.0), (0.6627450980392157, 0.6627450980392157, 0.6627450980392157, 1.0)]"
   ],
   "metadata": {
    "collapsed": false,
    "pycharm": {
     "name": "#%%\n"
    }
   }
  },
  {
   "cell_type": "markdown",
   "source": [
    "# First level"
   ],
   "metadata": {
    "collapsed": false,
    "pycharm": {
     "name": "#%% md\n"
    }
   }
  },
  {
   "cell_type": "code",
   "execution_count": 140,
   "outputs": [
    {
     "name": "stdout",
     "output_type": "stream",
     "text": [
      "Found previous pickle file, using that\n"
     ]
    }
   ],
   "source": [
    "pickle_name = 'res_lvl1_bias.pickle'\n",
    "aggregation_level = 1\n",
    "\n",
    "first_lvl_stats = {}\n",
    "\n",
    "try:\n",
    "    first_lvl_stats = pickle.load(open(results_path + pickle_name, 'rb'))\n",
    "    print('Found previous pickle file, using that')\n",
    "except:\n",
    "    print('No previous results found, starting fresh')"
   ],
   "metadata": {
    "collapsed": false,
    "pycharm": {
     "name": "#%%\n"
    }
   }
  },
  {
   "cell_type": "code",
   "execution_count": 141,
   "outputs": [
    {
     "name": "stdout",
     "output_type": "stream",
     "text": [
      "Results for \u001B[1mbias\u001B[0m (1/76) already exists!\n",
      "Results for \u001B[1mciDATGAN_1_1\u001B[0m (2/76) already exists!\n",
      "Results for \u001B[1mDATGAN_1_1\u001B[0m (3/76) already exists!\n",
      "Results for \u001B[1mnormal_DATGAN_1_1\u001B[0m (4/76) already exists!\n",
      "Results for \u001B[1mciDATGAN_1_2\u001B[0m (5/76) already exists!\n",
      "Results for \u001B[1mDATGAN_1_2\u001B[0m (6/76) already exists!\n",
      "Results for \u001B[1mnormal_DATGAN_1_2\u001B[0m (7/76) already exists!\n",
      "Results for \u001B[1mciDATGAN_1_3\u001B[0m (8/76) already exists!\n",
      "Results for \u001B[1mDATGAN_1_3\u001B[0m (9/76) already exists!\n",
      "Results for \u001B[1mnormal_DATGAN_1_3\u001B[0m (10/76) already exists!\n",
      "Results for \u001B[1mciDATGAN_1_4\u001B[0m (11/76) already exists!\n",
      "Results for \u001B[1mDATGAN_1_4\u001B[0m (12/76) already exists!\n",
      "Results for \u001B[1mnormal_DATGAN_1_4\u001B[0m (13/76) already exists!\n",
      "Results for \u001B[1mciDATGAN_1_5\u001B[0m (14/76) already exists!\n",
      "Results for \u001B[1mDATGAN_1_5\u001B[0m (15/76) already exists!\n",
      "Results for \u001B[1mnormal_DATGAN_1_5\u001B[0m (16/76) already exists!\n",
      "Results for \u001B[1mciDATGAN_2_1\u001B[0m (17/76) already exists!\n",
      "Results for \u001B[1mDATGAN_2_1\u001B[0m (18/76) already exists!\n",
      "Results for \u001B[1mnormal_DATGAN_2_1\u001B[0m (19/76) already exists!\n",
      "Results for \u001B[1mciDATGAN_2_2\u001B[0m (20/76) already exists!\n",
      "Results for \u001B[1mDATGAN_2_2\u001B[0m (21/76) already exists!\n",
      "Results for \u001B[1mnormal_DATGAN_2_2\u001B[0m (22/76) already exists!\n",
      "Results for \u001B[1mciDATGAN_2_3\u001B[0m (23/76) already exists!\n",
      "Results for \u001B[1mDATGAN_2_3\u001B[0m (24/76) already exists!\n",
      "Results for \u001B[1mnormal_DATGAN_2_3\u001B[0m (25/76) already exists!\n",
      "Results for \u001B[1mciDATGAN_2_4\u001B[0m (26/76) already exists!\n",
      "Results for \u001B[1mDATGAN_2_4\u001B[0m (27/76) already exists!\n",
      "Results for \u001B[1mnormal_DATGAN_2_4\u001B[0m (28/76) already exists!\n",
      "Results for \u001B[1mciDATGAN_2_5\u001B[0m (29/76) already exists!\n",
      "Results for \u001B[1mDATGAN_2_5\u001B[0m (30/76) already exists!\n",
      "Results for \u001B[1mnormal_DATGAN_2_5\u001B[0m (31/76) already exists!\n",
      "Results for \u001B[1mciDATGAN_3_1\u001B[0m (32/76) already exists!\n",
      "Results for \u001B[1mDATGAN_3_1\u001B[0m (33/76) already exists!\n",
      "Results for \u001B[1mnormal_DATGAN_3_1\u001B[0m (34/76) already exists!\n",
      "Results for \u001B[1mciDATGAN_3_2\u001B[0m (35/76) already exists!\n",
      "Results for \u001B[1mDATGAN_3_2\u001B[0m (36/76) already exists!\n",
      "Results for \u001B[1mnormal_DATGAN_3_2\u001B[0m (37/76) already exists!\n",
      "Results for \u001B[1mciDATGAN_3_3\u001B[0m (38/76) already exists!\n",
      "Results for \u001B[1mDATGAN_3_3\u001B[0m (39/76) already exists!\n",
      "Results for \u001B[1mnormal_DATGAN_3_3\u001B[0m (40/76) already exists!\n",
      "Results for \u001B[1mciDATGAN_3_4\u001B[0m (41/76) already exists!\n",
      "Results for \u001B[1mDATGAN_3_4\u001B[0m (42/76) already exists!\n",
      "Results for \u001B[1mnormal_DATGAN_3_4\u001B[0m (43/76) already exists!\n",
      "Results for \u001B[1mciDATGAN_3_5\u001B[0m (44/76) already exists!\n",
      "Results for \u001B[1mDATGAN_3_5\u001B[0m (45/76) already exists!\n",
      "Results for \u001B[1mnormal_DATGAN_3_5\u001B[0m (46/76) already exists!\n",
      "Results for \u001B[1mciDATGAN_4_1\u001B[0m (47/76) already exists!\n",
      "Results for \u001B[1mDATGAN_4_1\u001B[0m (48/76) already exists!\n",
      "Results for \u001B[1mnormal_DATGAN_4_1\u001B[0m (49/76) already exists!\n",
      "Results for \u001B[1mciDATGAN_4_2\u001B[0m (50/76) already exists!\n",
      "Results for \u001B[1mDATGAN_4_2\u001B[0m (51/76) already exists!\n",
      "Results for \u001B[1mnormal_DATGAN_4_2\u001B[0m (52/76) already exists!\n",
      "Results for \u001B[1mciDATGAN_4_3\u001B[0m (53/76) already exists!\n",
      "Results for \u001B[1mDATGAN_4_3\u001B[0m (54/76) already exists!\n",
      "Results for \u001B[1mnormal_DATGAN_4_3\u001B[0m (55/76) already exists!\n",
      "Results for \u001B[1mciDATGAN_4_4\u001B[0m (56/76) already exists!\n",
      "Results for \u001B[1mDATGAN_4_4\u001B[0m (57/76) already exists!\n",
      "Results for \u001B[1mnormal_DATGAN_4_4\u001B[0m (58/76) already exists!\n",
      "Results for \u001B[1mciDATGAN_4_5\u001B[0m (59/76) already exists!\n",
      "Results for \u001B[1mDATGAN_4_5\u001B[0m (60/76) already exists!\n",
      "Results for \u001B[1mnormal_DATGAN_4_5\u001B[0m (61/76) already exists!\n",
      "Results for \u001B[1mciDATGAN_5_1\u001B[0m (62/76) already exists!\n",
      "Results for \u001B[1mDATGAN_5_1\u001B[0m (63/76) already exists!\n",
      "Results for \u001B[1mnormal_DATGAN_5_1\u001B[0m (64/76) already exists!\n",
      "Results for \u001B[1mciDATGAN_5_2\u001B[0m (65/76) already exists!\n",
      "Results for \u001B[1mDATGAN_5_2\u001B[0m (66/76) already exists!\n",
      "Results for \u001B[1mnormal_DATGAN_5_2\u001B[0m (67/76) already exists!\n",
      "Results for \u001B[1mciDATGAN_5_3\u001B[0m (68/76) already exists!\n",
      "Results for \u001B[1mDATGAN_5_3\u001B[0m (69/76) already exists!\n",
      "Results for \u001B[1mnormal_DATGAN_5_3\u001B[0m (70/76) already exists!\n",
      "Results for \u001B[1mciDATGAN_5_4\u001B[0m (71/76) already exists!\n",
      "Results for \u001B[1mDATGAN_5_4\u001B[0m (72/76) already exists!\n",
      "Results for \u001B[1mnormal_DATGAN_5_4\u001B[0m (73/76) already exists!\n",
      "Results for \u001B[1mciDATGAN_5_5\u001B[0m (74/76) already exists!\n",
      "Results for \u001B[1mDATGAN_5_5\u001B[0m (75/76) already exists!\n",
      "Results for \u001B[1mnormal_DATGAN_5_5\u001B[0m (76/76) already exists!\n",
      "\u001B[1mFINISHED!\u001B[0m\n"
     ]
    }
   ],
   "source": [
    "for i, (f, l) in enumerate(zip(synth_files, labels)):\n",
    "\n",
    "    file_name = f.split('/')[-1].split('.')[0]\n",
    "\n",
    "    if l in first_lvl_stats:\n",
    "        print(\"Results for \\033[1m{}\\033[0m ({}/{}) already exists!\".format(l, i+1, len(synth_files)))\n",
    "    else:\n",
    "        print(\"Preparing stats for \\033[1m{}\\033[0m ({}/{})\".format(l, i+1, len(synth_files)))\n",
    "\n",
    "        first_lvl_stats[l] = {}\n",
    "\n",
    "        df_synth = pd.read_csv(f, index_col=False)\n",
    "\n",
    "        repl = False\n",
    "        if len(df_synth) < len_df:\n",
    "            repl = True\n",
    "\n",
    "        df_synth = df_synth.sample(len_df, replace=repl).reset_index(drop=True)\n",
    "\n",
    "        stats = stats_assessment(df_orig, df_synth, continuous_columns, aggregation_level, ignore_cols=cond_inputs)\n",
    "\n",
    "        first_lvl_stats[l] = stats\n",
    "\n",
    "    pickle.dump(first_lvl_stats, open(results_path + pickle_name, 'wb'))\n",
    "\n",
    "print(\"\\033[1mFINISHED!\\033[0m\")"
   ],
   "metadata": {
    "collapsed": false,
    "pycharm": {
     "name": "#%%\n"
    }
   }
  },
  {
   "cell_type": "code",
   "execution_count": 142,
   "outputs": [],
   "source": [
    "res = {}\n",
    "\n",
    "for test in ['all', 'cont', 'cat']:\n",
    "\n",
    "    res[test] = {}\n",
    "\n",
    "    if test == 'all':\n",
    "        cols = df_orig.columns\n",
    "    elif test == 'cont':\n",
    "        cols = continuous_columns\n",
    "    elif test == 'cat':\n",
    "        cols = set(df_orig.columns) - set(continuous_columns)\n",
    "\n",
    "    cols = set(cols) - set(cond_inputs)\n",
    "\n",
    "    for s in stats_str:\n",
    "        res[test][s] = {}\n",
    "\n",
    "    for m in first_lvl_stats.keys():\n",
    "        for s in stats_str:\n",
    "            res[test][s][m] = []\n",
    "\n",
    "            for c in cols:\n",
    "                res[test][s][m].append(first_lvl_stats[m][c][s])"
   ],
   "metadata": {
    "collapsed": false,
    "pycharm": {
     "name": "#%%\n"
    }
   }
  },
  {
   "cell_type": "code",
   "execution_count": 143,
   "outputs": [],
   "source": [
    "avg = {}\n",
    "\n",
    "for test in ['all', 'cont', 'cat']:\n",
    "\n",
    "    avg[test] = {}\n",
    "\n",
    "    for s in stats_str:\n",
    "        avg[test][s] = {}\n",
    "\n",
    "        for m in first_lvl_stats.keys():\n",
    "            avg[test][s][m] = {\n",
    "                'mean': np.mean(res[test][s][m]),\n",
    "                'std': np.std(res[test][s][m])\n",
    "            }"
   ],
   "metadata": {
    "collapsed": false,
    "pycharm": {
     "name": "#%%\n"
    }
   }
  },
  {
   "cell_type": "code",
   "execution_count": 153,
   "outputs": [],
   "source": [
    "sts = 'srmse'\n",
    "\n",
    "res_DATGAN = []\n",
    "res_ciDATGAN = []\n",
    "res_normal = []\n",
    "\n",
    "for i in range(5):\n",
    "    for j in range(5):\n",
    "        res_DATGAN.append(avg['all'][sts]['DATGAN_{}_{}'.format(i+1, j+1)]['mean'])\n",
    "        res_ciDATGAN.append(avg['all'][sts]['ciDATGAN_{}_{}'.format(i+1, j+1)]['mean'])\n",
    "        res_normal.append(avg['all'][sts]['normal_DATGAN_{}_{}'.format(i+1, j+1)]['mean'])\n",
    "\n",
    "tmp = [res_DATGAN, res_ciDATGAN, res_normal]\n",
    "df = pd.DataFrame(tmp, index=['DATGAN', 'ciDATGAN', 'normal'])\n",
    "\n",
    "plt.figure(figsize=(10,7))\n",
    "\n",
    "sns.boxplot(data=df.T, palette=colors,showmeans=True,\n",
    "            meanprops={\"marker\":\"o\",\n",
    "                       \"markerfacecolor\":\"white\",\n",
    "                       \"markeredgecolor\":\"black\",\n",
    "                      \"markersize\":\"10\"})\n",
    "\n",
    "val = avg['all'][sts]['bias']['mean']\n",
    "\n",
    "plt.plot([-0.3, 2.3], [val, val], 'k--')\n",
    "\n",
    "plt.xticks([0,1,2], ['DATGAN', 'ciDATGAN', 'DATGAN - unbiased'])\n",
    "plt.ylabel(sts.upper())\n",
    "\n",
    "plt.savefig('../../figures/bias/lvl1.png', bbox_inches='tight')\n",
    "plt.savefig('../../figures/bias/lvl1.pdf', bbox_inches='tight')\n",
    "plt.close()"
   ],
   "metadata": {
    "collapsed": false,
    "pycharm": {
     "name": "#%%\n"
    }
   }
  },
  {
   "cell_type": "markdown",
   "source": [
    "# Second level"
   ],
   "metadata": {
    "collapsed": false,
    "pycharm": {
     "name": "#%% md\n"
    }
   }
  },
  {
   "cell_type": "code",
   "execution_count": 154,
   "outputs": [
    {
     "name": "stdout",
     "output_type": "stream",
     "text": [
      "Found previous pickel file, using that\n"
     ]
    }
   ],
   "source": [
    "pickle_name = 'res_lvl2_bias.pickle'\n",
    "aggregation_level = 2\n",
    "\n",
    "second_lvl_stats = {}\n",
    "\n",
    "try:\n",
    "    second_lvl_stats = pickle.load(open(results_path + pickle_name, 'rb'))\n",
    "    print('Found previous pickel file, using that')\n",
    "except:\n",
    "    print('No previous results found, starting fresh')"
   ],
   "metadata": {
    "collapsed": false,
    "pycharm": {
     "name": "#%%\n"
    }
   }
  },
  {
   "cell_type": "code",
   "execution_count": 155,
   "outputs": [
    {
     "name": "stdout",
     "output_type": "stream",
     "text": [
      "Results for \u001B[1mbias\u001B[0m (1/76) already exists!\n",
      "Results for \u001B[1mciDATGAN_1_1\u001B[0m (2/76) already exists!\n",
      "Results for \u001B[1mDATGAN_1_1\u001B[0m (3/76) already exists!\n",
      "Results for \u001B[1mnormal_DATGAN_1_1\u001B[0m (4/76) already exists!\n",
      "Results for \u001B[1mciDATGAN_1_2\u001B[0m (5/76) already exists!\n",
      "Results for \u001B[1mDATGAN_1_2\u001B[0m (6/76) already exists!\n",
      "Results for \u001B[1mnormal_DATGAN_1_2\u001B[0m (7/76) already exists!\n",
      "Results for \u001B[1mciDATGAN_1_3\u001B[0m (8/76) already exists!\n",
      "Results for \u001B[1mDATGAN_1_3\u001B[0m (9/76) already exists!\n",
      "Results for \u001B[1mnormal_DATGAN_1_3\u001B[0m (10/76) already exists!\n",
      "Results for \u001B[1mciDATGAN_1_4\u001B[0m (11/76) already exists!\n",
      "Results for \u001B[1mDATGAN_1_4\u001B[0m (12/76) already exists!\n",
      "Results for \u001B[1mnormal_DATGAN_1_4\u001B[0m (13/76) already exists!\n",
      "Results for \u001B[1mciDATGAN_1_5\u001B[0m (14/76) already exists!\n",
      "Results for \u001B[1mDATGAN_1_5\u001B[0m (15/76) already exists!\n",
      "Results for \u001B[1mnormal_DATGAN_1_5\u001B[0m (16/76) already exists!\n",
      "Results for \u001B[1mciDATGAN_2_1\u001B[0m (17/76) already exists!\n",
      "Results for \u001B[1mDATGAN_2_1\u001B[0m (18/76) already exists!\n",
      "Results for \u001B[1mnormal_DATGAN_2_1\u001B[0m (19/76) already exists!\n",
      "Results for \u001B[1mciDATGAN_2_2\u001B[0m (20/76) already exists!\n",
      "Results for \u001B[1mDATGAN_2_2\u001B[0m (21/76) already exists!\n",
      "Results for \u001B[1mnormal_DATGAN_2_2\u001B[0m (22/76) already exists!\n",
      "Results for \u001B[1mciDATGAN_2_3\u001B[0m (23/76) already exists!\n",
      "Results for \u001B[1mDATGAN_2_3\u001B[0m (24/76) already exists!\n",
      "Results for \u001B[1mnormal_DATGAN_2_3\u001B[0m (25/76) already exists!\n",
      "Results for \u001B[1mciDATGAN_2_4\u001B[0m (26/76) already exists!\n",
      "Results for \u001B[1mDATGAN_2_4\u001B[0m (27/76) already exists!\n",
      "Results for \u001B[1mnormal_DATGAN_2_4\u001B[0m (28/76) already exists!\n",
      "Results for \u001B[1mciDATGAN_2_5\u001B[0m (29/76) already exists!\n",
      "Results for \u001B[1mDATGAN_2_5\u001B[0m (30/76) already exists!\n",
      "Results for \u001B[1mnormal_DATGAN_2_5\u001B[0m (31/76) already exists!\n",
      "Results for \u001B[1mciDATGAN_3_1\u001B[0m (32/76) already exists!\n",
      "Results for \u001B[1mDATGAN_3_1\u001B[0m (33/76) already exists!\n",
      "Results for \u001B[1mnormal_DATGAN_3_1\u001B[0m (34/76) already exists!\n",
      "Results for \u001B[1mciDATGAN_3_2\u001B[0m (35/76) already exists!\n",
      "Results for \u001B[1mDATGAN_3_2\u001B[0m (36/76) already exists!\n",
      "Results for \u001B[1mnormal_DATGAN_3_2\u001B[0m (37/76) already exists!\n",
      "Results for \u001B[1mciDATGAN_3_3\u001B[0m (38/76) already exists!\n",
      "Results for \u001B[1mDATGAN_3_3\u001B[0m (39/76) already exists!\n",
      "Results for \u001B[1mnormal_DATGAN_3_3\u001B[0m (40/76) already exists!\n",
      "Results for \u001B[1mciDATGAN_3_4\u001B[0m (41/76) already exists!\n",
      "Results for \u001B[1mDATGAN_3_4\u001B[0m (42/76) already exists!\n",
      "Results for \u001B[1mnormal_DATGAN_3_4\u001B[0m (43/76) already exists!\n",
      "Results for \u001B[1mciDATGAN_3_5\u001B[0m (44/76) already exists!\n",
      "Results for \u001B[1mDATGAN_3_5\u001B[0m (45/76) already exists!\n",
      "Results for \u001B[1mnormal_DATGAN_3_5\u001B[0m (46/76) already exists!\n",
      "Results for \u001B[1mciDATGAN_4_1\u001B[0m (47/76) already exists!\n",
      "Results for \u001B[1mDATGAN_4_1\u001B[0m (48/76) already exists!\n",
      "Results for \u001B[1mnormal_DATGAN_4_1\u001B[0m (49/76) already exists!\n",
      "Results for \u001B[1mciDATGAN_4_2\u001B[0m (50/76) already exists!\n",
      "Results for \u001B[1mDATGAN_4_2\u001B[0m (51/76) already exists!\n",
      "Results for \u001B[1mnormal_DATGAN_4_2\u001B[0m (52/76) already exists!\n",
      "Results for \u001B[1mciDATGAN_4_3\u001B[0m (53/76) already exists!\n",
      "Results for \u001B[1mDATGAN_4_3\u001B[0m (54/76) already exists!\n",
      "Results for \u001B[1mnormal_DATGAN_4_3\u001B[0m (55/76) already exists!\n",
      "Results for \u001B[1mciDATGAN_4_4\u001B[0m (56/76) already exists!\n",
      "Results for \u001B[1mDATGAN_4_4\u001B[0m (57/76) already exists!\n",
      "Results for \u001B[1mnormal_DATGAN_4_4\u001B[0m (58/76) already exists!\n",
      "Results for \u001B[1mciDATGAN_4_5\u001B[0m (59/76) already exists!\n",
      "Results for \u001B[1mDATGAN_4_5\u001B[0m (60/76) already exists!\n",
      "Results for \u001B[1mnormal_DATGAN_4_5\u001B[0m (61/76) already exists!\n",
      "Results for \u001B[1mciDATGAN_5_1\u001B[0m (62/76) already exists!\n",
      "Results for \u001B[1mDATGAN_5_1\u001B[0m (63/76) already exists!\n",
      "Results for \u001B[1mnormal_DATGAN_5_1\u001B[0m (64/76) already exists!\n",
      "Results for \u001B[1mciDATGAN_5_2\u001B[0m (65/76) already exists!\n",
      "Results for \u001B[1mDATGAN_5_2\u001B[0m (66/76) already exists!\n",
      "Results for \u001B[1mnormal_DATGAN_5_2\u001B[0m (67/76) already exists!\n",
      "Results for \u001B[1mciDATGAN_5_3\u001B[0m (68/76) already exists!\n",
      "Results for \u001B[1mDATGAN_5_3\u001B[0m (69/76) already exists!\n",
      "Results for \u001B[1mnormal_DATGAN_5_3\u001B[0m (70/76) already exists!\n",
      "Results for \u001B[1mciDATGAN_5_4\u001B[0m (71/76) already exists!\n",
      "Results for \u001B[1mDATGAN_5_4\u001B[0m (72/76) already exists!\n",
      "Results for \u001B[1mnormal_DATGAN_5_4\u001B[0m (73/76) already exists!\n",
      "Results for \u001B[1mciDATGAN_5_5\u001B[0m (74/76) already exists!\n",
      "Results for \u001B[1mDATGAN_5_5\u001B[0m (75/76) already exists!\n",
      "Results for \u001B[1mnormal_DATGAN_5_5\u001B[0m (76/76) already exists!\n",
      "\u001B[1mFINISHED!\u001B[0m\n"
     ]
    }
   ],
   "source": [
    "for i, (f, l) in enumerate(zip(synth_files, labels)):\n",
    "\n",
    "    file_name = f.split('/')[-1].split('.')[0]\n",
    "\n",
    "    if l in second_lvl_stats:\n",
    "        print(\"Results for \\033[1m{}\\033[0m ({}/{}) already exists!\".format(l, i+1, len(synth_files)))\n",
    "    else:\n",
    "        print(\"Preparing stats for \\033[1m{}\\033[0m ({}/{})\".format(l, i+1, len(synth_files)))\n",
    "\n",
    "        second_lvl_stats[l] = {}\n",
    "\n",
    "        df_synth = pd.read_csv(f, index_col=False)\n",
    "\n",
    "        repl = False\n",
    "        if len(df_synth) < len_df:\n",
    "            repl = True\n",
    "\n",
    "        df_synth = df_synth.sample(len_df, replace=repl).reset_index(drop=True)\n",
    "\n",
    "        stats = stats_assessment(df_orig, df_synth, continuous_columns, aggregation_level, ignore_cols=cond_inputs)\n",
    "\n",
    "        second_lvl_stats[l] = stats\n",
    "\n",
    "    pickle.dump(second_lvl_stats, open(results_path + pickle_name, 'wb'))\n",
    "\n",
    "print(\"\\033[1mFINISHED!\\033[0m\")"
   ],
   "metadata": {
    "collapsed": false,
    "pycharm": {
     "name": "#%%\n"
    }
   }
  },
  {
   "cell_type": "code",
   "execution_count": 156,
   "outputs": [],
   "source": [
    "res = {}\n",
    "\n",
    "for s in stats_str:\n",
    "    res[s] = {}\n",
    "\n",
    "for m in second_lvl_stats.keys():\n",
    "\n",
    "    for s in stats_str:\n",
    "        res[s][m] = []\n",
    "\n",
    "        for c in second_lvl_stats[m].keys():\n",
    "            res[s][m].append(second_lvl_stats[m][c][s])"
   ],
   "metadata": {
    "collapsed": false,
    "pycharm": {
     "name": "#%%\n"
    }
   }
  },
  {
   "cell_type": "code",
   "execution_count": 157,
   "outputs": [],
   "source": [
    "avg = {}\n",
    "\n",
    "for s in stats_str:\n",
    "    avg[s] = {}\n",
    "\n",
    "    for m in second_lvl_stats.keys():\n",
    "        avg[s][m] = {\n",
    "            'mean': np.mean(res[s][m]),\n",
    "            'std': np.std(res[s][m])\n",
    "        }"
   ],
   "metadata": {
    "collapsed": false,
    "pycharm": {
     "name": "#%%\n"
    }
   }
  },
  {
   "cell_type": "code",
   "execution_count": 159,
   "outputs": [],
   "source": [
    "sts = 'srmse'\n",
    "\n",
    "res_DATGAN = []\n",
    "res_ciDATGAN = []\n",
    "res_normal = []\n",
    "\n",
    "for i in range(5):\n",
    "    for j in range(5):\n",
    "        res_DATGAN.append(avg[sts]['DATGAN_{}_{}'.format(i+1, j+1)]['mean'])\n",
    "        res_ciDATGAN.append(avg[sts]['ciDATGAN_{}_{}'.format(i+1, j+1)]['mean'])\n",
    "        res_normal.append(avg[sts]['normal_DATGAN_{}_{}'.format(i+1, j+1)]['mean'])\n",
    "\n",
    "tmp = [res_DATGAN, res_ciDATGAN, res_normal]\n",
    "df = pd.DataFrame(tmp, index=['DATGAN', 'ciDATGAN', 'normal'])\n",
    "\n",
    "plt.figure(figsize=(10,7))\n",
    "\n",
    "sns.boxplot(data=df.T, palette=colors,showmeans=True,\n",
    "            meanprops={\"marker\":\"o\",\n",
    "                       \"markerfacecolor\":\"white\",\n",
    "                       \"markeredgecolor\":\"black\",\n",
    "                      \"markersize\":\"10\"})\n",
    "\n",
    "val = avg[sts]['bias']['mean']\n",
    "\n",
    "plt.plot([-0.3, 2.3], [val, val], 'k--')\n",
    "\n",
    "plt.xticks([0,1,2], ['DATGAN', 'ciDATGAN', 'DATGAN - unbiased'])\n",
    "plt.ylabel(sts.upper())\n",
    "\n",
    "plt.savefig('../../figures/bias/lvl2.png'.format(s), bbox_inches='tight')\n",
    "plt.savefig('../../figures/bias/lvl2.pdf'.format(s), bbox_inches='tight')\n",
    "plt.close()"
   ],
   "metadata": {
    "collapsed": false,
    "pycharm": {
     "name": "#%%\n"
    }
   }
  },
  {
   "cell_type": "markdown",
   "source": [
    "# ML efficacy"
   ],
   "metadata": {
    "collapsed": false,
    "pycharm": {
     "name": "#%% md\n"
    }
   }
  },
  {
   "cell_type": "code",
   "execution_count": 160,
   "outputs": [],
   "source": [
    "def check_low_appearing_vars(df):\n",
    "\n",
    "    for c in df.columns:\n",
    "        val = df[c].value_counts()\n",
    "        if len(val) < 20:\n",
    "            val = val/len(df)\n",
    "            if any(val < 0.01) and c != 'choice':\n",
    "                print('Variable {}: '.format(c))\n",
    "                for idx, v in zip(val.index, val):\n",
    "                    if v < 0.01:\n",
    "                        print('  {} - {:.2f}% ({:d})'.format(idx, 100*v, int(v*len(df))))\n",
    "                print()\n",
    "\n",
    "def replace_low_appearing_values(df):\n",
    "\n",
    "    dct_ = {}\n",
    "    for i in df['hh_vehicles'].unique():\n",
    "        if i >= 3:\n",
    "            dct_[i] = '3+'\n",
    "        else:\n",
    "            dct_[i] = str(i)\n",
    "    df['hh_vehicles'].replace(dct_, inplace=True)\n",
    "\n",
    "    dct_ = {}\n",
    "    for i in df['hh_people'].unique():\n",
    "        if i >= 6:\n",
    "            dct_[i] = '6+'\n",
    "        else:\n",
    "            dct_[i] = str(i)\n",
    "    df['hh_people'].replace(dct_, inplace=True)"
   ],
   "metadata": {
    "collapsed": false,
    "pycharm": {
     "name": "#%%\n"
    }
   }
  },
  {
   "cell_type": "code",
   "execution_count": 161,
   "outputs": [
    {
     "name": "stdout",
     "output_type": "stream",
     "text": [
      "Variable hh_vehicles: \n",
      "  4 - 0.52% (88)\n",
      "  5 - 0.12% (21)\n",
      "  6 - 0.02% (3)\n",
      "  8 - 0.02% (3)\n",
      "  7 - 0.01% (2)\n",
      "\n",
      "Variable hh_people: \n",
      "  7 - 0.70% (118)\n",
      "  8 - 0.18% (31)\n",
      "  9 - 0.08% (13)\n",
      "  10 - 0.03% (5)\n",
      "  11 - 0.02% (3)\n",
      "\n"
     ]
    }
   ],
   "source": [
    "check_low_appearing_vars(df_orig)"
   ],
   "metadata": {
    "collapsed": false,
    "pycharm": {
     "name": "#%%\n"
    }
   }
  },
  {
   "cell_type": "code",
   "execution_count": 162,
   "outputs": [],
   "source": [
    "replace_low_appearing_values(df_orig)"
   ],
   "metadata": {
    "collapsed": false,
    "pycharm": {
     "name": "#%%\n"
    }
   }
  },
  {
   "cell_type": "code",
   "execution_count": 163,
   "outputs": [],
   "source": [
    "check_low_appearing_vars(df_orig)"
   ],
   "metadata": {
    "collapsed": false,
    "pycharm": {
     "name": "#%%\n"
    }
   }
  },
  {
   "cell_type": "code",
   "execution_count": 164,
   "outputs": [],
   "source": [
    "categorical_columns = list(set(df_orig.columns) - set(continuous_columns))"
   ],
   "metadata": {
    "collapsed": false,
    "pycharm": {
     "name": "#%%\n"
    }
   }
  },
  {
   "cell_type": "code",
   "execution_count": 165,
   "outputs": [],
   "source": [
    "enc = OrdinalEncoder()\n",
    "df_orig[categorical_columns] = enc.fit_transform(df_orig[categorical_columns])"
   ],
   "metadata": {
    "collapsed": false,
    "pycharm": {
     "name": "#%%\n"
    }
   }
  },
  {
   "cell_type": "code",
   "execution_count": 166,
   "outputs": [
    {
     "name": "stdout",
     "output_type": "stream",
     "text": [
      "No previous results found, starting fresh\n"
     ]
    }
   ],
   "source": [
    "pickle_name = 'ml_bias.pickle'\n",
    "\n",
    "cv_modelscores = {}\n",
    "\n",
    "try:\n",
    "    cv_modelscores = pickle.load(open(results_path + pickle_name, 'rb'))\n",
    "    print('Found previous pickel file, using that')\n",
    "except:\n",
    "    print('No previous results found, starting fresh')"
   ],
   "metadata": {
    "collapsed": false,
    "pycharm": {
     "name": "#%%\n"
    }
   }
  },
  {
   "cell_type": "code",
   "execution_count": 167,
   "outputs": [
    {
     "name": "stdout",
     "output_type": "stream",
     "text": [
      "Preparing stats for \u001B[1mbias\u001B[0m (1/76)\n",
      "Preparing stats for \u001B[1mciDATGAN_1_1\u001B[0m (2/76)\n",
      "Preparing stats for \u001B[1mDATGAN_1_1\u001B[0m (3/76)\n",
      "Preparing stats for \u001B[1mnormal_DATGAN_1_1\u001B[0m (4/76)e (8/8)\n",
      "                          \r      Preparing stats for \u001B[1mciDATGAN_1_2\u001B[0m (5/76)\n",
      "Preparing stats for \u001B[1mDATGAN_1_2\u001B[0m (6/76)\n",
      "Preparing stats for \u001B[1mnormal_DATGAN_1_2\u001B[0m (7/76)\n",
      "                          \r      Preparing stats for \u001B[1mciDATGAN_1_3\u001B[0m (8/76)\n",
      "                          \r      Preparing stats for \u001B[1mDATGAN_1_3\u001B[0m (9/76)\n",
      "Preparing stats for \u001B[1mnormal_DATGAN_1_3\u001B[0m (10/76)\n",
      "Preparing stats for \u001B[1mciDATGAN_1_4\u001B[0m (11/76)\n",
      "Preparing stats for \u001B[1mDATGAN_1_4\u001B[0m (12/76)\n",
      "Preparing stats for \u001B[1mnormal_DATGAN_1_4\u001B[0m (13/76)\n",
      "Preparing stats for \u001B[1mciDATGAN_1_5\u001B[0m (14/76)\n",
      "Preparing stats for \u001B[1mDATGAN_1_5\u001B[0m (15/76)\n",
      "Preparing stats for \u001B[1mnormal_DATGAN_1_5\u001B[0m (16/76)\n",
      "Preparing stats for \u001B[1mciDATGAN_2_1\u001B[0m (17/76)\n",
      "Preparing stats for \u001B[1mDATGAN_2_1\u001B[0m (18/76)\n",
      "Preparing stats for \u001B[1mnormal_DATGAN_2_1\u001B[0m (19/76)\n",
      "Preparing stats for \u001B[1mciDATGAN_2_2\u001B[0m (20/76)\n",
      "Preparing stats for \u001B[1mDATGAN_2_2\u001B[0m (21/76)\n",
      "Preparing stats for \u001B[1mnormal_DATGAN_2_2\u001B[0m (22/76)\n",
      "Preparing stats for \u001B[1mciDATGAN_2_3\u001B[0m (23/76)\n",
      "Preparing stats for \u001B[1mDATGAN_2_3\u001B[0m (24/76)\n",
      "Preparing stats for \u001B[1mnormal_DATGAN_2_3\u001B[0m (25/76)\n",
      "Preparing stats for \u001B[1mciDATGAN_2_4\u001B[0m (26/76)\n",
      "Preparing stats for \u001B[1mDATGAN_2_4\u001B[0m (27/76)\n",
      "Preparing stats for \u001B[1mnormal_DATGAN_2_4\u001B[0m (28/76)\n",
      "Preparing stats for \u001B[1mciDATGAN_2_5\u001B[0m (29/76)\n",
      "Preparing stats for \u001B[1mDATGAN_2_5\u001B[0m (30/76)\n",
      "Preparing stats for \u001B[1mnormal_DATGAN_2_5\u001B[0m (31/76)\n",
      "Preparing stats for \u001B[1mciDATGAN_3_1\u001B[0m (32/76)\n",
      "Preparing stats for \u001B[1mDATGAN_3_1\u001B[0m (33/76)\n",
      "Preparing stats for \u001B[1mnormal_DATGAN_3_1\u001B[0m (34/76)\n",
      "Preparing stats for \u001B[1mciDATGAN_3_2\u001B[0m (35/76)\n",
      "Preparing stats for \u001B[1mDATGAN_3_2\u001B[0m (36/76)\n",
      "Preparing stats for \u001B[1mnormal_DATGAN_3_2\u001B[0m (37/76)\n",
      "Preparing stats for \u001B[1mciDATGAN_3_3\u001B[0m (38/76)\n",
      "Preparing stats for \u001B[1mDATGAN_3_3\u001B[0m (39/76)\n",
      "Preparing stats for \u001B[1mnormal_DATGAN_3_3\u001B[0m (40/76)\n",
      "Preparing stats for \u001B[1mciDATGAN_3_4\u001B[0m (41/76)\n",
      "Preparing stats for \u001B[1mDATGAN_3_4\u001B[0m (42/76)\n",
      "Preparing stats for \u001B[1mnormal_DATGAN_3_4\u001B[0m (43/76)\n",
      "Preparing stats for \u001B[1mciDATGAN_3_5\u001B[0m (44/76)\n",
      "Preparing stats for \u001B[1mDATGAN_3_5\u001B[0m (45/76)\n",
      "Preparing stats for \u001B[1mnormal_DATGAN_3_5\u001B[0m (46/76)\n",
      "Preparing stats for \u001B[1mciDATGAN_4_1\u001B[0m (47/76)\n",
      "Preparing stats for \u001B[1mDATGAN_4_1\u001B[0m (48/76)\n",
      "Preparing stats for \u001B[1mnormal_DATGAN_4_1\u001B[0m (49/76)\n",
      "Preparing stats for \u001B[1mciDATGAN_4_2\u001B[0m (50/76)\n",
      "                          \r      Preparing stats for \u001B[1mDATGAN_4_2\u001B[0m (51/76)\n",
      "                          \r      Preparing stats for \u001B[1mnormal_DATGAN_4_2\u001B[0m (52/76)\n",
      "Preparing stats for \u001B[1mciDATGAN_4_3\u001B[0m (53/76)\n",
      "                          \r      Preparing stats for \u001B[1mDATGAN_4_3\u001B[0m (54/76)\n",
      "Preparing stats for \u001B[1mnormal_DATGAN_4_3\u001B[0m (55/76)\n",
      "Preparing stats for \u001B[1mciDATGAN_4_4\u001B[0m (56/76)\n",
      "Preparing stats for \u001B[1mDATGAN_4_4\u001B[0m (57/76)\n",
      "Preparing stats for \u001B[1mnormal_DATGAN_4_4\u001B[0m (58/76)\n",
      "Preparing stats for \u001B[1mciDATGAN_4_5\u001B[0m (59/76)\n",
      "                          \r      Preparing stats for \u001B[1mDATGAN_4_5\u001B[0m (60/76)\n",
      "Preparing stats for \u001B[1mnormal_DATGAN_4_5\u001B[0m (61/76)\n",
      "                          \r      Preparing stats for \u001B[1mciDATGAN_5_1\u001B[0m (62/76)\n",
      "                          \r      Preparing stats for \u001B[1mDATGAN_5_1\u001B[0m (63/76)\n",
      "Preparing stats for \u001B[1mnormal_DATGAN_5_1\u001B[0m (64/76)\n",
      "Preparing stats for \u001B[1mciDATGAN_5_2\u001B[0m (65/76)\n",
      "                          \r      Preparing stats for \u001B[1mDATGAN_5_2\u001B[0m (66/76)\n",
      "Preparing stats for \u001B[1mnormal_DATGAN_5_2\u001B[0m (67/76)\n",
      "                          \r      Preparing stats for \u001B[1mciDATGAN_5_3\u001B[0m (68/76)\n",
      "                          \r      Preparing stats for \u001B[1mDATGAN_5_3\u001B[0m (69/76)\n",
      "Preparing stats for \u001B[1mnormal_DATGAN_5_3\u001B[0m (70/76)\n",
      "Preparing stats for \u001B[1mciDATGAN_5_4\u001B[0m (71/76)\n",
      "Preparing stats for \u001B[1mDATGAN_5_4\u001B[0m (72/76)\n",
      "Preparing stats for \u001B[1mnormal_DATGAN_5_4\u001B[0m (73/76)\n",
      "                          \r      Preparing stats for \u001B[1mciDATGAN_5_5\u001B[0m (74/76)\n",
      "Preparing stats for \u001B[1mDATGAN_5_5\u001B[0m (75/76)\n",
      "Preparing stats for \u001B[1mnormal_DATGAN_5_5\u001B[0m (76/76)\n",
      "                          \r      \u001B[1mFINISHED!\u001B[0m\n"
     ]
    }
   ],
   "source": [
    "for i, (f, l) in enumerate(zip(synth_files, labels)):\n",
    "\n",
    "    if l in cv_modelscores:\n",
    "        print(\"Results for \\033[1m{}\\033[0m ({}/{}) already exists!\".format(l, i+1, len(synth_files)))\n",
    "    else:\n",
    "        print(\"Preparing stats for \\033[1m{}\\033[0m ({}/{})\".format(l, i+1, len(synth_files)))\n",
    "\n",
    "        cv_modelscores[l] = {}\n",
    "\n",
    "        # Load the synthetic dataset\n",
    "        df_synth = pd.read_csv(f, index_col=False)\n",
    "        repl = False\n",
    "        if len(df_synth) < len_df:\n",
    "            repl = True\n",
    "\n",
    "        df_synth = df_synth.sample(len_df, replace=repl).reset_index(drop=True)\n",
    "\n",
    "        # Replace the values rarely appearing\n",
    "        replace_low_appearing_values(df_synth)\n",
    "\n",
    "        # Encode the synthetic dataset\n",
    "        df_synth[categorical_columns] = enc.transform(df_synth[categorical_columns])\n",
    "\n",
    "        res = ml_assessment(df_orig, df_synth, continuous_columns, categorical_columns, ignore_cols=cond_inputs)\n",
    "\n",
    "        cv_modelscores[l] = res\n",
    "\n",
    "    pickle.dump(cv_modelscores, open(results_path + pickle_name, 'wb'))\n",
    "\n",
    "print(\"\\033[1mFINISHED!\\033[0m\")"
   ],
   "metadata": {
    "collapsed": false,
    "pycharm": {
     "name": "#%%\n"
    }
   }
  },
  {
   "cell_type": "code",
   "execution_count": 168,
   "outputs": [
    {
     "name": "stdout",
     "output_type": "stream",
     "text": [
      "Preparing stats for \u001B[1moriginal\u001B[0m\n",
      "                          \r               \u001B[1mFINISHED!\u001B[0m\n"
     ]
    }
   ],
   "source": [
    "if 'original' in cv_modelscores:\n",
    "    print(\"Results for \\033[1m{}\\033[0m already exists!\".format('original'))\n",
    "else:\n",
    "    print(\"Preparing stats for \\033[1m{}\\033[0m\".format('original'))\n",
    "\n",
    "    res = ml_assessment(df_orig, df_orig, continuous_columns, categorical_columns)\n",
    "    cv_modelscores['original'] = res\n",
    "    pickle.dump(cv_modelscores, open(results_path + pickle_name, 'wb'))\n",
    "    print(\"\\033[1mFINISHED!\\033[0m\")"
   ],
   "metadata": {
    "collapsed": false,
    "pycharm": {
     "name": "#%%\n"
    }
   }
  },
  {
   "cell_type": "code",
   "execution_count": 169,
   "outputs": [],
   "source": [
    "res_ml = {\n",
    "    'DATGAN': {'continuous': [], 'categorical': []},\n",
    "    'ciDATGAN': {'continuous': [], 'categorical': []}\n",
    "}\n",
    "\n",
    "continuous_columns = list(set(continuous_columns) - set(cond_inputs))\n",
    "categorical_columns = list(set(categorical_columns) - set(cond_inputs))\n",
    "\n",
    "ori_scores = {col: cv_modelscores['original'][col]['test_log_loss'] for col in categorical_columns}\n",
    "ori_scores.update({col: cv_modelscores['original'][col]['test_l2'] for col in continuous_columns})\n",
    "\n",
    "res = {}\n",
    "\n",
    "for c in ['continuous', 'categorical']:\n",
    "    res[c] = {}\n",
    "\n",
    "for m in cv_modelscores.keys():\n",
    "\n",
    "    res['continuous'][m] = []\n",
    "    for col in continuous_columns:\n",
    "        res['continuous'][m].append(cv_modelscores[m][col]['original_l2']/ori_scores[col])\n",
    "\n",
    "    res['categorical'][m] = []\n",
    "    for col in categorical_columns:\n",
    "        res['categorical'][m].append(cv_modelscores[m][col]['original_log_loss'] - ori_scores[col])"
   ],
   "metadata": {
    "collapsed": false,
    "pycharm": {
     "name": "#%%\n"
    }
   }
  },
  {
   "cell_type": "code",
   "execution_count": 170,
   "outputs": [],
   "source": [
    "avg = {}\n",
    "\n",
    "for c in ['continuous', 'categorical']:\n",
    "    avg[c] = {}\n",
    "    for f in res[c].keys():\n",
    "        avg[c][f] = {\n",
    "            'mean': np.mean(res[c][f]),\n",
    "            'std': np.std(res[c][f])\n",
    "        }"
   ],
   "metadata": {
    "collapsed": false,
    "pycharm": {
     "name": "#%%\n"
    }
   }
  },
  {
   "cell_type": "code",
   "execution_count": 175,
   "outputs": [],
   "source": [
    "for c in ['continuous', 'categorical']:\n",
    "\n",
    "    res_DATGAN = []\n",
    "    res_ciDATGAN = []\n",
    "    res_normal = []\n",
    "\n",
    "    for i in range(5):\n",
    "        for j in range(5):\n",
    "            res_DATGAN.append(avg[c]['DATGAN_{}_{}'.format(i+1, j+1)]['mean'])\n",
    "            res_ciDATGAN.append(avg[c]['ciDATGAN_{}_{}'.format(i+1, j+1)]['mean'])\n",
    "            res_normal.append(avg[c]['normal_DATGAN_{}_{}'.format(i+1, j+1)]['mean'])\n",
    "\n",
    "\n",
    "    res_DATGAN = np.array(res_DATGAN).flatten()\n",
    "    res_ciDATGAN = np.array(res_ciDATGAN).flatten()\n",
    "    res_normal = np.array(res_normal).flatten()\n",
    "\n",
    "    # Remove values that are too big\n",
    "    res_DATGAN = res_DATGAN[res_DATGAN < 120]\n",
    "    res_ciDATGAN = res_ciDATGAN[res_ciDATGAN < 120]\n",
    "    res_normal = res_normal[res_normal < 120]\n",
    "\n",
    "    tmp = [res_DATGAN, res_ciDATGAN, res_normal]\n",
    "    df = pd.DataFrame(tmp, index=['DATGAN', 'ciDATGAN', 'normal'])\n",
    "\n",
    "    plt.figure(figsize=(10,7))\n",
    "\n",
    "    sns.boxplot(data=df.T, palette=colors,showmeans=True,\n",
    "                meanprops={\"marker\":\"o\",\n",
    "                           \"markerfacecolor\":\"white\",\n",
    "                           \"markeredgecolor\":\"black\",\n",
    "                          \"markersize\":\"10\"})\n",
    "\n",
    "    val = avg[c]['bias']['mean']\n",
    "\n",
    "    plt.plot([-0.3, 2.3], [val, val], 'k--')\n",
    "\n",
    "    plt.xticks([0,1,2], ['DATGAN', 'ciDATGAN', 'DATGAN - unbiased'])\n",
    "    if c == 'continuous':\n",
    "        plt.ylabel('Relative L2 error')\n",
    "    else:\n",
    "        plt.ylabel('Relative log loss')\n",
    "\n",
    "    plt.savefig('../../figures/bias/ml_{}.png'.format(c[:3]), bbox_inches='tight')\n",
    "    plt.savefig('../../figures/bias/ml_{}.pdf'.format(c[:3]), bbox_inches='tight')\n",
    "    plt.close()"
   ],
   "metadata": {
    "collapsed": false,
    "pycharm": {
     "name": "#%%\n"
    }
   }
  },
  {
   "cell_type": "code",
   "execution_count": null,
   "outputs": [],
   "source": [],
   "metadata": {
    "collapsed": false,
    "pycharm": {
     "name": "#%%\n"
    }
   }
  }
 ],
 "metadata": {
  "kernelspec": {
   "display_name": "Python 3",
   "language": "python",
   "name": "python3"
  },
  "language_info": {
   "codemirror_mode": {
    "name": "ipython",
    "version": 2
   },
   "file_extension": ".py",
   "mimetype": "text/x-python",
   "name": "python",
   "nbconvert_exporter": "python",
   "pygments_lexer": "ipython2",
   "version": "2.7.6"
  }
 },
 "nbformat": 4,
 "nbformat_minor": 0
}