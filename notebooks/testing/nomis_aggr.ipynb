{
 "cells": [
  {
   "cell_type": "code",
   "execution_count": 1,
   "metadata": {
    "collapsed": true
   },
   "outputs": [],
   "source": [
    "import matplotlib.colors\n",
    "import pandas\n",
    "import pandas as pd\n",
    "import numpy as np\n",
    "import matplotlib.pyplot as plt\n",
    "import random\n",
    "from tqdm import tqdm\n",
    "\n",
    "import seaborn as sns\n",
    "sns.set_style(\"whitegrid\")\n",
    "\n",
    "import urllib3\n",
    "import os\n",
    "import matplotlib\n",
    "import pickle\n",
    "\n",
    "from sklearn.preprocessing import LabelEncoder\n",
    "\n",
    "# For the Python notebook\n",
    "%matplotlib inline\n",
    "%reload_ext autoreload\n",
    "%autoreload 2"
   ]
  },
  {
   "cell_type": "code",
   "execution_count": 2,
   "outputs": [],
   "source": [
    "lpmc = pd.read_csv('../../data/LPMC/trips.csv')\n",
    "\n",
    "files = ['../../data/synthetic/nomis/Central London.csv',\n",
    "         '../../data/synthetic/nomis/East London.csv',\n",
    "         '../../data/synthetic/nomis/North London.csv',\n",
    "         '../../data/synthetic/nomis/South London.csv',\n",
    "         '../../data/synthetic/nomis/West London.csv']\n",
    "\n",
    "colors = [(0.6627450980392157, 0.6627450980392157, 0.6627450980392157, 1.0), (1.0, 0.0, 0.0, 0.0)]\n",
    "sns.set_palette(colors)"
   ],
   "metadata": {
    "collapsed": false,
    "pycharm": {
     "name": "#%%\n"
    }
   }
  },
  {
   "cell_type": "code",
   "execution_count": 3,
   "outputs": [],
   "source": [
    "df = pd.concat([pd.read_csv(f) for f in files])"
   ],
   "metadata": {
    "collapsed": false,
    "pycharm": {
     "name": "#%%\n"
    }
   }
  },
  {
   "cell_type": "markdown",
   "source": [
    "# Age"
   ],
   "metadata": {
    "collapsed": false,
    "pycharm": {
     "name": "#%% md\n"
    }
   }
  },
  {
   "cell_type": "code",
   "execution_count": 6,
   "outputs": [
    {
     "data": {
      "text/plain": "<Figure size 720x504 with 1 Axes>",
      "image/png": "[encoded data removed]"
     },
     "metadata": {
      "needs_background": "light"
     },
     "output_type": "display_data"
    }
   ],
   "source": [
    "vals = [lpmc['age'], df['age']]\n",
    "weights = [np.ones_like(v)/len(v) for v in vals]\n",
    "\n",
    "plt.figure(figsize=(10,7))\n",
    "\n",
    "if len(vals) > 1:\n",
    "    bins = np.histogram(np.hstack((vals[0],vals[1])), bins=20)[1]\n",
    "else:\n",
    "    bins = np.histogram(vals[0], bins=20)[1]\n",
    "\n",
    "test = plt.hist(vals,\n",
    "         bins=bins, weights = weights,\n",
    "         label=['LPMC', 'NOMIS'])\n",
    "\n",
    "plt.legend()\n",
    "plt.ylabel('Percentage')\n",
    "plt.savefig('../../figures/nomis/age.png', bbox_inches='tight')\n",
    "plt.savefig('../../figures/nomis/age.pdf', bbox_inches='tight')"
   ],
   "metadata": {
    "collapsed": false,
    "pycharm": {
     "name": "#%%\n"
    }
   }
  },
  {
   "cell_type": "code",
   "execution_count": 7,
   "outputs": [
    {
     "data": {
      "text/plain": "array([  5.  ,   9.75,  14.5 ,  19.25,  24.  ,  28.75,  33.5 ,  38.25,\n        43.  ,  47.75,  52.5 ,  57.25,  62.  ,  66.75,  71.5 ,  76.25,\n        81.  ,  85.75,  90.5 ,  95.25, 100.  ])"
     },
     "execution_count": 7,
     "metadata": {},
     "output_type": "execute_result"
    }
   ],
   "source": [
    "test[1]"
   ],
   "metadata": {
    "collapsed": false,
    "pycharm": {
     "name": "#%%\n"
    }
   }
  },
  {
   "cell_type": "code",
   "execution_count": 8,
   "outputs": [
    {
     "name": "stdout",
     "output_type": "stream",
     "text": [
      "0.0 0.031353525792711834 0.06367457150372234 \n",
      "4.75 0.03306909607193376 0.060252984327234305 \n",
      "9.5 0.046202082347370776 0.06220406976845534 \n",
      "14.25 0.05188121154755976 0.06370754239456772 \n",
      "19.0 0.10186938002838986 0.1066054410409914 \n",
      "23.75 0.10902744912446138 0.10848201226877147 \n",
      "28.5 0.10482725982015495 0.08994947013137039 \n",
      "33.25 0.07193563653572715 0.06574118694675435 \n",
      "38.0 0.07388783719829206 0.07712445297988546 \n",
      "42.75 0.07353289162328025 0.06602565979363217 \n",
      "47.5 0.059275911026972494 0.053195631066774274 \n",
      "52.25 0.04229768102224085 0.03640790847699371 \n",
      "57.0 0.05821107430193706 0.041951238426161885 \n",
      "61.75 0.05436583057264244 0.030908759521599105 \n",
      "66.5 0.037979176526263814 0.026903060041526206 \n",
      "71.25 0.02218409843823821 0.01739662900334371 \n",
      "76.0 0.0187529578797907 0.015858998534270974 \n",
      "80.75 0.007335541883577434 0.009486912270824432 \n",
      "85.5 0.0020113582584002643 0.00318564748104877 \n",
      "90.25 0.0 0.0009378240214337197 \n",
      "\n"
     ]
    }
   ],
   "source": [
    "delta = test[1][1]-test[1][0]\n",
    "\n",
    "str_ = ''\n",
    "\n",
    "for i in range(len(test[0][0])):\n",
    "    str_ += '{} '.format(i*delta)\n",
    "\n",
    "    for m in range(2):\n",
    "        str_ += '{} '.format(test[0][m][i])\n",
    "    str_ += '\\n'\n",
    "\n",
    "print(str_)"
   ],
   "metadata": {
    "collapsed": false,
    "pycharm": {
     "name": "#%%\n"
    }
   }
  },
  {
   "cell_type": "markdown",
   "source": [
    "# Regions"
   ],
   "metadata": {
    "collapsed": false,
    "pycharm": {
     "name": "#%% md\n"
    }
   }
  },
  {
   "cell_type": "code",
   "execution_count": 11,
   "outputs": [
    {
     "data": {
      "text/plain": "<Figure size 720x504 with 1 Axes>",
      "image/png": "[encoded data removed]"
     },
     "metadata": {
      "needs_background": "light"
     },
     "output_type": "display_data"
    }
   ],
   "source": [
    "probs = [lpmc['hh_region'].value_counts(normalize=True), df['hh_region'].value_counts(normalize=True)]\n",
    "\n",
    "labels = ['LPMC', 'NOMIS']\n",
    "\n",
    "dct = {}\n",
    "for l in labels:\n",
    "    dct[l] = []\n",
    "\n",
    "idx = np.sort(probs[0].index)\n",
    "\n",
    "for i in idx:\n",
    "    for j, l in enumerate(labels):\n",
    "        try:\n",
    "            val = probs[j].loc[i]\n",
    "        except:\n",
    "            val = 0\n",
    "        dct[l].append(val)\n",
    "\n",
    "\n",
    "tmp_df = pd.DataFrame(dct, index=idx)\n",
    "\n",
    "test = tmp_df.plot(figsize=(10,7), kind='bar')\n",
    "\n",
    "plt.legend()\n",
    "plt.ylabel('Percentage')\n",
    "plt.xticks(rotation=0)\n",
    "plt.savefig('../../figures/nomis/region.png', bbox_inches='tight')\n",
    "plt.savefig('../../figures/nomis/region.pdf', bbox_inches='tight')"
   ],
   "metadata": {
    "collapsed": false,
    "pycharm": {
     "name": "#%%\n"
    }
   }
  },
  {
   "cell_type": "code",
   "execution_count": 17,
   "outputs": [
    {
     "data": {
      "text/plain": "                    LPMC     NOMIS\nCentral London  0.190606  0.173336\nEast London     0.247575  0.274000\nNorth London    0.104295  0.112749\nSouth London    0.208885  0.187457\nWest London     0.248639  0.252457",
      "text/html": "<div>\n<style scoped>\n    .dataframe tbody tr th:only-of-type {\n        vertical-align: middle;\n    }\n\n    .dataframe tbody tr th {\n        vertical-align: top;\n    }\n\n    .dataframe thead th {\n        text-align: right;\n    }\n</style>\n<table border=\"1\" class=\"dataframe\">\n  <thead>\n    <tr style=\"text-align: right;\">\n      <th></th>\n      <th>LPMC</th>\n      <th>NOMIS</th>\n    </tr>\n  </thead>\n  <tbody>\n    <tr>\n      <th>Central London</th>\n      <td>0.190606</td>\n      <td>0.173336</td>\n    </tr>\n    <tr>\n      <th>East London</th>\n      <td>0.247575</td>\n      <td>0.274000</td>\n    </tr>\n    <tr>\n      <th>North London</th>\n      <td>0.104295</td>\n      <td>0.112749</td>\n    </tr>\n    <tr>\n      <th>South London</th>\n      <td>0.208885</td>\n      <td>0.187457</td>\n    </tr>\n    <tr>\n      <th>West London</th>\n      <td>0.248639</td>\n      <td>0.252457</td>\n    </tr>\n  </tbody>\n</table>\n</div>"
     },
     "execution_count": 17,
     "metadata": {},
     "output_type": "execute_result"
    }
   ],
   "source": [
    "tmp_df"
   ],
   "metadata": {
    "collapsed": false,
    "pycharm": {
     "name": "#%%\n"
    }
   }
  },
  {
   "cell_type": "markdown",
   "source": [
    "# Purpose"
   ],
   "metadata": {
    "collapsed": false,
    "pycharm": {
     "name": "#%% md\n"
    }
   }
  },
  {
   "cell_type": "code",
   "execution_count": 18,
   "outputs": [
    {
     "data": {
      "text/plain": "<Figure size 720x504 with 1 Axes>",
      "image/png": "[encoded data removed]"
     },
     "metadata": {
      "needs_background": "light"
     },
     "output_type": "display_data"
    }
   ],
   "source": [
    "probs = [lpmc['purpose'].value_counts(normalize=True), df['purpose'].value_counts(normalize=True)]\n",
    "\n",
    "labels = ['LPMC', 'synthetic']\n",
    "\n",
    "dct = {}\n",
    "for l in labels:\n",
    "    dct[l] = []\n",
    "\n",
    "idx = np.sort(probs[0].index)\n",
    "\n",
    "for i in idx:\n",
    "    for j, l in enumerate(labels):\n",
    "        try:\n",
    "            val = probs[j].loc[i]\n",
    "        except:\n",
    "            val = 0\n",
    "        dct[l].append(val)\n",
    "\n",
    "\n",
    "tmp_df = pd.DataFrame(dct, index=idx)\n",
    "\n",
    "tmp_df.plot(figsize=(10,7), kind='bar')\n",
    "\n",
    "plt.legend()\n",
    "plt.ylabel('Percentage')\n",
    "plt.xticks(rotation=0)\n",
    "plt.savefig('../../figures/nomis/purpose.png', bbox_inches='tight')\n",
    "plt.savefig('../../figures/nomis/purpose.pdf', bbox_inches='tight')"
   ],
   "metadata": {
    "collapsed": false,
    "pycharm": {
     "name": "#%%\n"
    }
   }
  },
  {
   "cell_type": "code",
   "execution_count": 19,
   "outputs": [
    {
     "data": {
      "text/plain": "          LPMC  synthetic\nB     0.077792   0.076497\nHBE   0.080099   0.111798\nHBO   0.531235   0.489211\nHBW   0.204271   0.212485\nNHBO  0.106602   0.110008",
      "text/html": "<div>\n<style scoped>\n    .dataframe tbody tr th:only-of-type {\n        vertical-align: middle;\n    }\n\n    .dataframe tbody tr th {\n        vertical-align: top;\n    }\n\n    .dataframe thead th {\n        text-align: right;\n    }\n</style>\n<table border=\"1\" class=\"dataframe\">\n  <thead>\n    <tr style=\"text-align: right;\">\n      <th></th>\n      <th>LPMC</th>\n      <th>synthetic</th>\n    </tr>\n  </thead>\n  <tbody>\n    <tr>\n      <th>B</th>\n      <td>0.077792</td>\n      <td>0.076497</td>\n    </tr>\n    <tr>\n      <th>HBE</th>\n      <td>0.080099</td>\n      <td>0.111798</td>\n    </tr>\n    <tr>\n      <th>HBO</th>\n      <td>0.531235</td>\n      <td>0.489211</td>\n    </tr>\n    <tr>\n      <th>HBW</th>\n      <td>0.204271</td>\n      <td>0.212485</td>\n    </tr>\n    <tr>\n      <th>NHBO</th>\n      <td>0.106602</td>\n      <td>0.110008</td>\n    </tr>\n  </tbody>\n</table>\n</div>"
     },
     "execution_count": 19,
     "metadata": {},
     "output_type": "execute_result"
    }
   ],
   "source": [
    "tmp_df"
   ],
   "metadata": {
    "collapsed": false,
    "pycharm": {
     "name": "#%%\n"
    }
   }
  },
  {
   "cell_type": "markdown",
   "source": [
    "# Faretype"
   ],
   "metadata": {
    "collapsed": false,
    "pycharm": {
     "name": "#%% md\n"
    }
   }
  },
  {
   "cell_type": "code",
   "execution_count": 20,
   "outputs": [
    {
     "data": {
      "text/plain": "<Figure size 720x504 with 1 Axes>",
      "image/png": "[encoded data removed]"
     },
     "metadata": {
      "needs_background": "light"
     },
     "output_type": "display_data"
    }
   ],
   "source": [
    "col = 'faretype'\n",
    "\n",
    "probs = [lpmc[col].value_counts(normalize=True), df[col].value_counts(normalize=True)]\n",
    "\n",
    "labels = ['LPMC', 'synthetic']\n",
    "\n",
    "dct = {}\n",
    "for l in labels:\n",
    "    dct[l] = []\n",
    "\n",
    "idx = np.sort(probs[0].index)\n",
    "\n",
    "for i in idx:\n",
    "    for j, l in enumerate(labels):\n",
    "        try:\n",
    "            val = probs[j].loc[i]\n",
    "        except:\n",
    "            val = 0\n",
    "        dct[l].append(val)\n",
    "\n",
    "\n",
    "tmp_df = pd.DataFrame(dct, index=idx)\n",
    "\n",
    "tmp_df.plot(figsize=(10,7), kind='bar')\n",
    "\n",
    "plt.legend()\n",
    "plt.ylabel('Percentage')\n",
    "plt.xticks(rotation=0)\n",
    "plt.savefig('../../figures/nomis/faretype.png', bbox_inches='tight')\n",
    "plt.savefig('../../figures/nomis/faretype.pdf', bbox_inches='tight')"
   ],
   "metadata": {
    "collapsed": false,
    "pycharm": {
     "name": "#%%\n"
    }
   }
  },
  {
   "cell_type": "code",
   "execution_count": 21,
   "outputs": [
    {
     "data": {
      "text/plain": "           LPMC  synthetic\n16+    0.016150   0.027114\nchild  0.035376   0.062094\ndis    0.046735   0.052153\nfree   0.275142   0.254786\nfull   0.626597   0.603854",
      "text/html": "<div>\n<style scoped>\n    .dataframe tbody tr th:only-of-type {\n        vertical-align: middle;\n    }\n\n    .dataframe tbody tr th {\n        vertical-align: top;\n    }\n\n    .dataframe thead th {\n        text-align: right;\n    }\n</style>\n<table border=\"1\" class=\"dataframe\">\n  <thead>\n    <tr style=\"text-align: right;\">\n      <th></th>\n      <th>LPMC</th>\n      <th>synthetic</th>\n    </tr>\n  </thead>\n  <tbody>\n    <tr>\n      <th>16+</th>\n      <td>0.016150</td>\n      <td>0.027114</td>\n    </tr>\n    <tr>\n      <th>child</th>\n      <td>0.035376</td>\n      <td>0.062094</td>\n    </tr>\n    <tr>\n      <th>dis</th>\n      <td>0.046735</td>\n      <td>0.052153</td>\n    </tr>\n    <tr>\n      <th>free</th>\n      <td>0.275142</td>\n      <td>0.254786</td>\n    </tr>\n    <tr>\n      <th>full</th>\n      <td>0.626597</td>\n      <td>0.603854</td>\n    </tr>\n  </tbody>\n</table>\n</div>"
     },
     "execution_count": 21,
     "metadata": {},
     "output_type": "execute_result"
    }
   ],
   "source": [
    "tmp_df"
   ],
   "metadata": {
    "collapsed": false,
    "pycharm": {
     "name": "#%%\n"
    }
   }
  },
  {
   "cell_type": "markdown",
   "source": [
    "# distance"
   ],
   "metadata": {
    "collapsed": false,
    "pycharm": {
     "name": "#%% md\n"
    }
   }
  },
  {
   "cell_type": "code",
   "execution_count": 7,
   "outputs": [
    {
     "data": {
      "text/plain": "<Figure size 720x504 with 1 Axes>",
      "image/png": "[encoded data removed]"
     },
     "metadata": {
      "needs_background": "light"
     },
     "output_type": "display_data"
    }
   ],
   "source": [
    "vals = [lpmc['distance'][lpmc['distance']<=30000]/1000, df['distance'][df['distance']<=30000]/1000]\n",
    "weights = [np.ones_like(v)/len(v) for v in vals]\n",
    "\n",
    "plt.figure(figsize=(10,7))\n",
    "\n",
    "if len(vals) > 1:\n",
    "    bins = np.histogram(np.hstack((vals[0],vals[1])), bins=20)[1]\n",
    "else:\n",
    "    bins = np.histogram(vals[0], bins=20)[1]\n",
    "\n",
    "test = plt.hist(vals,\n",
    "         bins=bins, weights = weights,\n",
    "         label=['LPMC', 'NOMIS'])\n",
    "\n",
    "plt.legend()\n",
    "plt.ylabel('Percentage')\n",
    "plt.savefig('../../figures/nomis/distance.png', bbox_inches='tight')\n",
    "plt.savefig('../../figures/nomis/distance.pdf', bbox_inches='tight')"
   ],
   "metadata": {
    "collapsed": false,
    "pycharm": {
     "name": "#%%\n"
    }
   }
  },
  {
   "cell_type": "code",
   "execution_count": 8,
   "outputs": [
    {
     "name": "stdout",
     "output_type": "stream",
     "text": [
      "0.0 0.29166913375571146 0.27390211549158255 \n",
      "1.4582 0.19930132038599824 0.21833231651103135 \n",
      "2.9164 0.12972940967501578 0.14116645209175976 \n",
      "4.3746 0.0874533720173486 0.08630038380731597 \n",
      "5.8328 0.06465746935879801 0.0770649734925235 \n",
      "7.2909999999999995 0.05056545680623947 0.04315625854760652 \n",
      "8.7492 0.04026289300731012 0.02954890809636246 \n",
      "10.2074 0.03303925632070448 0.022449352095592734 \n",
      "11.6656 0.024216945941161527 0.020462262441422796 \n",
      "13.1238 0.01995381609332869 0.019414183760764536 \n",
      "14.581999999999999 0.014328853099660366 0.019279003108026105 \n",
      "16.0402 0.011901237491866667 0.02116124532909558 \n",
      "17.4984 0.00899994078986932 0.017056765059784262 \n",
      "18.956599999999998 0.008763100242767496 0.00840375256220005 \n",
      "20.4148 0.005032861625913765 0.0021016964710415253 \n",
      "21.872999999999998 0.0035526082065273634 0.0001965065099039931 \n",
      "23.3312 0.0025460358813446105 3.824623348025469e-06 \n",
      "24.7894 0.0016578838297127696 0.0 \n",
      "26.2476 0.0014802534193864014 0.0 \n",
      "27.7058 0.0008881520516317298 0.0 \n",
      "\n"
     ]
    }
   ],
   "source": [
    "delta = test[1][1]-test[1][0]\n",
    "\n",
    "str_ = ''\n",
    "\n",
    "for i in range(len(test[0][0])):\n",
    "    str_ += '{} '.format(i*delta)\n",
    "\n",
    "    for m in range(2):\n",
    "        str_ += '{} '.format(test[0][m][i])\n",
    "    str_ += '\\n'\n",
    "\n",
    "print(str_)"
   ],
   "metadata": {
    "collapsed": false,
    "pycharm": {
     "name": "#%%\n"
    }
   }
  },
  {
   "cell_type": "code",
   "execution_count": null,
   "outputs": [],
   "source": [],
   "metadata": {
    "collapsed": false,
    "pycharm": {
     "name": "#%%\n"
    }
   }
  }
 ],
 "metadata": {
  "kernelspec": {
   "display_name": "Python 3",
   "language": "python",
   "name": "python3"
  },
  "language_info": {
   "codemirror_mode": {
    "name": "ipython",
    "version": 2
   },
   "file_extension": ".py",
   "mimetype": "text/x-python",
   "name": "python",
   "nbconvert_exporter": "python",
   "pygments_lexer": "ipython2",
   "version": "2.7.6"
  }
 },
 "nbformat": 4,
 "nbformat_minor": 0
}