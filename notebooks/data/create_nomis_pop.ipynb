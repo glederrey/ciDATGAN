{
 "cells": [
  {
   "cell_type": "code",
   "execution_count": 30,
   "metadata": {
    "collapsed": true
   },
   "outputs": [],
   "source": [
    "import pandas as pd\n",
    "import numpy as np\n",
    "import matplotlib.pyplot as plt\n",
    "import random\n",
    "from tqdm import tqdm\n",
    "\n",
    "import seaborn as sns\n",
    "sns.set_style(\"whitegrid\")\n",
    "\n",
    "import random\n",
    "\n",
    "# For the Python notebook\n",
    "%matplotlib inline\n",
    "%reload_ext autoreload\n",
    "%autoreload 2"
   ]
  },
  {
   "cell_type": "code",
   "execution_count": 2,
   "outputs": [],
   "source": [
    "# Load the data\n",
    "\n",
    "lpmc = pd.read_csv('../../data/LPMC/trips.csv')"
   ],
   "metadata": {
    "collapsed": false,
    "pycharm": {
     "name": "#%%\n"
    }
   }
  },
  {
   "cell_type": "code",
   "execution_count": 33,
   "outputs": [],
   "source": [
    "distrib_borough = []\n",
    "tot = 0\n",
    "ages = {}\n",
    "\n",
    "age_males = {}\n",
    "\n",
    "regions = lpmc.hh_borough.unique()\n",
    "\n",
    "for r in regions:\n",
    "    df = pd.read_csv('../../data/nomis_tmp/{}_age.csv'.format(r))\n",
    "\n",
    "    val = np.sum(df).values[0]\n",
    "\n",
    "    distrib_borough.append(val)\n",
    "    tot += val\n",
    "\n",
    "    ages[r] = df.values/val\n",
    "\n",
    "    df = pd.read_csv('../../data/nomis_tmp/{}_age_sex.csv'.format(r))\n",
    "\n",
    "    age_males[r] = dict(df['Males'] / df['All'])\n",
    "\n",
    "distrib_borough /= tot"
   ],
   "metadata": {
    "collapsed": false,
    "pycharm": {
     "name": "#%%\n"
    }
   }
  },
  {
   "cell_type": "code",
   "execution_count": 54,
   "outputs": [
    {
     "name": "stderr",
     "output_type": "stream",
     "text": [
      "100%|██████████| 1000000/1000000 [02:28<00:00, 6715.05it/s]\n"
     ]
    }
   ],
   "source": [
    "pop_size = 1000000\n",
    "\n",
    "dct = {'age': [], 'female': [], 'hh_borough': []}\n",
    "\n",
    "random.seed(pop_size)\n",
    "\n",
    "for i in tqdm(range(pop_size)):\n",
    "\n",
    "    borough = random.choices(regions, weights=distrib_borough)[0]\n",
    "\n",
    "    age = random.choices(list(range(len(ages[borough]))), ages[borough])[0]\n",
    "\n",
    "    pr = random.random()\n",
    "\n",
    "    tmp_age = age if age <= 85 else 85\n",
    "\n",
    "    gender = 1 if pr > age_males[borough][tmp_age] else 0\n",
    "\n",
    "    dct['age'].append(age)\n",
    "    dct['female'].append(gender)\n",
    "    dct['hh_borough'].append(borough)\n",
    "\n",
    "df = pd.DataFrame(dct)\n",
    "df.to_csv('../../data/nomis/1M.csv', index=False)"
   ],
   "metadata": {
    "collapsed": false,
    "pycharm": {
     "name": "#%%\n"
    }
   }
  },
  {
   "cell_type": "code",
   "execution_count": null,
   "outputs": [],
   "source": [],
   "metadata": {
    "collapsed": false,
    "pycharm": {
     "name": "#%%\n"
    }
   }
  }
 ],
 "metadata": {
  "kernelspec": {
   "name": "dev",
   "language": "python",
   "display_name": "dev"
  },
  "language_info": {
   "codemirror_mode": {
    "name": "ipython",
    "version": 2
   },
   "file_extension": ".py",
   "mimetype": "text/x-python",
   "name": "python",
   "nbconvert_exporter": "python",
   "pygments_lexer": "ipython2",
   "version": "2.7.6"
  }
 },
 "nbformat": 4,
 "nbformat_minor": 0
}