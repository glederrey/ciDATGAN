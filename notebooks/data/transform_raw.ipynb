{
 "cells": [
  {
   "cell_type": "code",
   "execution_count": 1,
   "metadata": {
    "collapsed": true
   },
   "outputs": [],
   "source": [
    "import pandas as pd\n",
    "import numpy as np\n",
    "import matplotlib.pyplot as plt\n",
    "import random\n",
    "from tqdm import tqdm\n",
    "\n",
    "import seaborn as sns\n",
    "sns.set_style(\"whitegrid\")\n",
    "\n",
    "import sklearn\n",
    "\n",
    "# For the Python notebook\n",
    "%matplotlib inline\n",
    "%reload_ext autoreload\n",
    "%autoreload 2"
   ]
  },
  {
   "cell_type": "code",
   "execution_count": 24,
   "outputs": [],
   "source": [
    "# Load the data\n",
    "df = pd.read_csv('../../data/LTDS/data-1651152187921.csv')\n",
    "df = df.sort_values('ttid')\n",
    "df.index = list(range(len(df)))\n",
    "df['distance'] = np.round(df['distance'])\n",
    "df['distance'] = df['distance'].astype(int)\n",
    "df['traffic_percent'] = round(np.abs(df['traffic_percent']), 5)\n",
    "df['trans_dur'] = round(df['trans_dur']/3600, 5)\n",
    "df['trans_cost'] = df['trans_cost']/100\n",
    "tmp = np.floor(df['tstime']/100)\n",
    "df['tstime'] = round((df['tstime']- tmp*100)/60+tmp, 5)\n",
    "df['tmode'] = df['tmode'].replace({'cycling': 'cycle', 'driving': 'drive', 'walking': 'walk', 'transit': 'pt'})\n",
    "\n",
    "\n",
    "lpmc = pd.read_csv('../../data/LTDS/LPMC.csv')\n",
    "lpmc['dur_pt_total'] = round(lpmc['dur_pt_total'], 5)\n",
    "lpmc['driving_traffic_percent'] = round(lpmc['driving_traffic_percent'], 5)\n",
    "lpmc['start_time_linear'] = round(lpmc['start_time_linear'], 5)"
   ],
   "metadata": {
    "collapsed": false,
    "pycharm": {
     "name": "#%%\n"
    }
   }
  },
  {
   "cell_type": "code",
   "execution_count": 8,
   "outputs": [
    {
     "data": {
      "text/plain": "Index(['hid', 'pid', 'tid', 'hcvn', 'hhaboro', 'hincomei', 'ttid',\n       'survey_year', 'trans_cost', 'drive_cost', 'drive_cost_inc_con_charge',\n       'ubercost', 'cabcost', 'traffic_percent', 'payscale', 'bus_scale',\n       'walk_dur', 'cyc_dur', 'trans_dur', 'drive_best', 'distance',\n       'tdbmmode', 'tjpurpi', 'tmode', 'journey_purpose', 'pdlcar', 'hvehnan',\n       'h18resn', 'tmode_numeric', 'purpose_numeric', 'car_ownership',\n       'toland', 'tdland', 'topurpi', 'tdpurp', 'tstime', 'ppdlcar', 'pwkstat',\n       'pemplos', 'poccupa', 'psexi', 'pagei', 'pegroup', 'pdeng', 'pltpmd',\n       'pltdis', 'hhaboro-2', 'htdow', 'travel_month', 'hresnon', 'hcarnan',\n       'hincomei-2', 'hhose', 'hhosn', 'hhccz', 'vehicle_type', 'con_charge',\n       'avoidable_con_charge', 'walk_dist', 'cyc_dist', 'trans_dist',\n       'drive_dist', 'bank_holiday', 'drive_dur', 'drive_pessi', 'drive_opti',\n       'tolat', 'tolon', 'tdlat', 'tdlon', 'startpoint', 'endpoint',\n       'ori_borough_id', 'ori_borough', 'desti_borough_id', 'desti_borough'],\n      dtype='object')"
     },
     "execution_count": 8,
     "metadata": {},
     "output_type": "execute_result"
    }
   ],
   "source": [
    "df.columns"
   ],
   "metadata": {
    "collapsed": false,
    "pycharm": {
     "name": "#%%\n"
    }
   }
  },
  {
   "cell_type": "code",
   "execution_count": 26,
   "outputs": [
    {
     "name": "stderr",
     "output_type": "stream",
     "text": [
      "100%|██████████| 81086/81086 [15:40<00:00, 86.26it/s] \n"
     ]
    }
   ],
   "source": [
    "idx = []\n",
    "\n",
    "for i in tqdm(range(len(df))):\n",
    "    lpmc_row = lpmc.iloc[i]\n",
    "\n",
    "    tmp = df[((df['pagei'] == lpmc_row['age']) &\n",
    "              (df['distance'] == lpmc_row['distance']) &\n",
    "              (df['traffic_percent'] == lpmc_row['driving_traffic_percent']) &\n",
    "              (df['psexi'] == lpmc_row['female'] + 1) &\n",
    "              (df['pid'] == lpmc_row['person_n'] +1) &\n",
    "              (df['trans_dur'] == lpmc_row['dur_pt_total']) &\n",
    "              (df['trans_cost'] == lpmc_row['cost_transit']) &\n",
    "              (df['tstime'] == lpmc_row['start_time_linear']) &\n",
    "              (df['tmode'] == lpmc_row['travel_mode'])\n",
    "    )]\n",
    "\n",
    "    if len(tmp) > 1:\n",
    "        print(\"ERROR\")\n",
    "        asd\n",
    "\n",
    "    idx.append(tmp.index[0])"
   ],
   "metadata": {
    "collapsed": false,
    "pycharm": {
     "name": "#%%\n"
    }
   }
  },
  {
   "cell_type": "code",
   "execution_count": 27,
   "outputs": [],
   "source": [
    "df = pd.read_csv('../../data/LTDS/data-1651152187921.csv')\n",
    "df = df.sort_values('ttid')\n",
    "df.index = list(range(len(df)))"
   ],
   "metadata": {
    "collapsed": false,
    "pycharm": {
     "name": "#%%\n"
    }
   }
  },
  {
   "cell_type": "code",
   "execution_count": 29,
   "outputs": [],
   "source": [
    "df = df.reindex(idx)"
   ],
   "metadata": {
    "collapsed": false,
    "pycharm": {
     "name": "#%%\n"
    }
   }
  },
  {
   "cell_type": "code",
   "execution_count": 30,
   "outputs": [],
   "source": [
    "df.to_csv('../../data/LTDS/data-reindexed.csv', index=False)"
   ],
   "metadata": {
    "collapsed": false,
    "pycharm": {
     "name": "#%%\n"
    }
   }
  },
  {
   "cell_type": "code",
   "execution_count": 75,
   "outputs": [],
   "source": [
    "df = pd.read_csv('../../data/LTDS/data-reindexed.csv')\n",
    "lpmc = pd.read_csv('../../data/LTDS/LPMC.csv')"
   ],
   "metadata": {
    "collapsed": false,
    "pycharm": {
     "name": "#%%\n"
    }
   }
  },
  {
   "cell_type": "code",
   "execution_count": 76,
   "outputs": [
    {
     "data": {
      "text/plain": "Index(['hid', 'pid', 'tid', 'hcvn', 'hhaboro', 'hincomei', 'ttid',\n       'survey_year', 'trans_cost', 'drive_cost', 'drive_cost_inc_con_charge',\n       'ubercost', 'cabcost', 'traffic_percent', 'payscale', 'bus_scale',\n       'walk_dur', 'cyc_dur', 'trans_dur', 'drive_best', 'distance',\n       'tdbmmode', 'tjpurpi', 'tmode', 'journey_purpose', 'pdlcar', 'hvehnan',\n       'h18resn', 'tmode_numeric', 'purpose_numeric', 'car_ownership',\n       'toland', 'tdland', 'topurpi', 'tdpurp', 'tstime', 'ppdlcar', 'pwkstat',\n       'pemplos', 'poccupa', 'psexi', 'pagei', 'pegroup', 'pdeng', 'pltpmd',\n       'pltdis', 'hhaboro-2', 'htdow', 'travel_month', 'hresnon', 'hcarnan',\n       'hincomei-2', 'hhose', 'hhosn', 'hhccz', 'vehicle_type', 'con_charge',\n       'avoidable_con_charge', 'walk_dist', 'cyc_dist', 'trans_dist',\n       'drive_dist', 'bank_holiday', 'drive_dur', 'drive_pessi', 'drive_opti',\n       'tolat', 'tolon', 'tdlat', 'tdlon', 'startpoint', 'endpoint',\n       'ori_borough_id', 'ori_borough', 'desti_borough_id', 'desti_borough'],\n      dtype='object')"
     },
     "execution_count": 76,
     "metadata": {},
     "output_type": "execute_result"
    }
   ],
   "source": [
    "df.columns"
   ],
   "metadata": {
    "collapsed": false,
    "pycharm": {
     "name": "#%%\n"
    }
   }
  },
  {
   "cell_type": "code",
   "execution_count": 77,
   "outputs": [],
   "source": [
    "lpmc['hh_vehicles'] = df['hcvn']\n",
    "lpmc = lpmc.drop('car_ownership', axis=1)"
   ],
   "metadata": {
    "collapsed": false,
    "pycharm": {
     "name": "#%%\n"
    }
   }
  },
  {
   "cell_type": "code",
   "execution_count": 78,
   "outputs": [],
   "source": [
    "lpmc['hh_borough'] = df['hhaboro']\n",
    "lpmc['hh_income'] = df['hincomei']\n",
    "lpmc['hh_people'] = df['hresnon']"
   ],
   "metadata": {
    "collapsed": false,
    "pycharm": {
     "name": "#%%\n"
    }
   }
  },
  {
   "cell_type": "code",
   "execution_count": 79,
   "outputs": [],
   "source": [
    "df_borough = {\n",
    "1:\t'Camden',\n",
    "2:\t'City of London',\n",
    "3:\t'Hackney',\n",
    "4:\t'Hammersmith & Fulham',\n",
    "5:\t'Haringey',\n",
    "6:\t'Islington',\n",
    "7:\t'Kensington and Chelsea',\n",
    "8:\t'Lambeth',\n",
    "9:\t'Lewisham',\n",
    "10:\t'Newham',\n",
    "11:\t'Southwark',\n",
    "12:\t'Tower Hamlets',\n",
    "13:\t'Wandsworth',\n",
    "14:\t'Westminster',\n",
    "15:\t'Barking and Dagenham',\n",
    "16:\t'Barnet',\n",
    "17:\t'Bexley',\n",
    "18:\t'Brent',\n",
    "19:\t'Bromley',\n",
    "20:\t'Croydon',\n",
    "21:\t'Ealing',\n",
    "22:\t'Enfield',\n",
    "23:\t'Greenwich',\n",
    "24:\t'Harrow',\n",
    "25:\t'Havering',\n",
    "26:\t'Hillingdon',\n",
    "27:\t'Hounslow',\n",
    "28:\t'Kingston upon Thames',\n",
    "29:\t'Merton',\n",
    "30:\t'Redbridge',\n",
    "31:\t'Richmond upon Thames',\n",
    "32:\t'Sutton',\n",
    "33:\t'Waltham Forest',\n",
    "34:\t'Dartford',\n",
    "35:\t'Elmbridge',\n",
    "36:\t'Epping Forest',\n",
    "37:\t'Epsom and Ewell',\n",
    "38:\t'Hertsmere',\n",
    "39:\t'Mole Valley',\n",
    "40:\t'Reigate and Banstead',\n",
    "41:\t'Runnymede',\n",
    "42:\t'Sevenoaks',\n",
    "43:\t'South Bucks',\n",
    "44:\t'Spelthorne',\n",
    "45:\t'St Albans',\n",
    "46:\t'Tandridge',\n",
    "47:\t'Three Rivers',\n",
    "48:\t'Thurrock',\n",
    "49:\t'Watford',\n",
    "50:\t'Woking',\n",
    "}\n",
    "\n",
    "lpmc['hh_borough'] = lpmc['hh_borough'].replace(df_borough)"
   ],
   "metadata": {
    "collapsed": false,
    "pycharm": {
     "name": "#%%\n"
    }
   }
  },
  {
   "cell_type": "code",
   "execution_count": 80,
   "outputs": [
    {
     "data": {
      "text/plain": "array([ 9,  3,  7,  5,  2,  6, 10,  1,  8,  4])"
     },
     "execution_count": 80,
     "metadata": {},
     "output_type": "execute_result"
    }
   ],
   "source": [
    "lpmc['hh_income'].unique()"
   ],
   "metadata": {
    "collapsed": false,
    "pycharm": {
     "name": "#%%\n"
    }
   }
  },
  {
   "cell_type": "code",
   "execution_count": 81,
   "outputs": [],
   "source": [
    "dct_income = {\n",
    "    1: '<5k',\n",
    "    2: '5-10k',\n",
    "    3: '10-15k',\n",
    "    4: '15-20k',\n",
    "    5: '20-25k',\n",
    "    6: '25-35k',\n",
    "    7: '35-50k',\n",
    "    8: '50-75k',\n",
    "    9: '75-100k',\n",
    "    10: '>100k',\n",
    "}\n",
    "\n",
    "lpmc['hh_income'] = lpmc['hh_income'].replace(dct_income)"
   ],
   "metadata": {
    "collapsed": false,
    "pycharm": {
     "name": "#%%\n"
    }
   }
  },
  {
   "cell_type": "code",
   "execution_count": 82,
   "outputs": [],
   "source": [
    "lpmc.to_csv('../../data/LTDS/cleaned.csv', index=False)"
   ],
   "metadata": {
    "collapsed": false,
    "pycharm": {
     "name": "#%%\n"
    }
   }
  },
  {
   "cell_type": "code",
   "execution_count": 83,
   "outputs": [],
   "source": [
    "trips = lpmc.drop_duplicates(subset=['household_id'])"
   ],
   "metadata": {
    "collapsed": false,
    "pycharm": {
     "name": "#%%\n"
    }
   }
  },
  {
   "cell_type": "code",
   "execution_count": 84,
   "outputs": [],
   "source": [
    "lpmc.to_csv('../../data/LPMC/full.csv', index=False)"
   ],
   "metadata": {
    "collapsed": false,
    "pycharm": {
     "name": "#%%\n"
    }
   }
  },
  {
   "cell_type": "code",
   "execution_count": 85,
   "outputs": [],
   "source": [
    "rnd = sklearn.utils.shuffle(lpmc)"
   ],
   "metadata": {
    "collapsed": false,
    "pycharm": {
     "name": "#%%\n"
    }
   }
  },
  {
   "cell_type": "code",
   "execution_count": 86,
   "outputs": [],
   "source": [
    "trips = rnd.drop_duplicates(subset=['household_id'])"
   ],
   "metadata": {
    "collapsed": false,
    "pycharm": {
     "name": "#%%\n"
    }
   }
  },
  {
   "cell_type": "code",
   "execution_count": 87,
   "outputs": [
    {
     "data": {
      "text/plain": "Index(['trip_id', 'household_id', 'person_n', 'trip_n', 'travel_mode',\n       'purpose', 'fueltype', 'faretype', 'bus_scale', 'survey_year',\n       'travel_year', 'travel_month', 'travel_date', 'day_of_week',\n       'start_time_linear', 'age', 'female', 'driving_license', 'distance',\n       'dur_walking', 'dur_cycling', 'dur_pt_total', 'dur_pt_access',\n       'dur_pt_rail', 'dur_pt_bus', 'dur_pt_int_total', 'dur_pt_int_waiting',\n       'dur_pt_int_walking', 'pt_n_interchanges', 'dur_driving',\n       'cost_transit', 'cost_driving_total', 'cost_driving_fuel',\n       'cost_driving_con_charge', 'driving_traffic_percent', 'hh_vehicles',\n       'hh_borough', 'hh_income', 'hh_people'],\n      dtype='object')"
     },
     "execution_count": 87,
     "metadata": {},
     "output_type": "execute_result"
    }
   ],
   "source": [
    "trips.columns"
   ],
   "metadata": {
    "collapsed": false,
    "pycharm": {
     "name": "#%%\n"
    }
   }
  },
  {
   "cell_type": "code",
   "execution_count": 89,
   "outputs": [
    {
     "name": "stderr",
     "output_type": "stream",
     "text": [
      "<ipython-input-89-74ba99381198>:1: SettingWithCopyWarning: \n",
      "A value is trying to be set on a copy of a slice from a DataFrame.\n",
      "Try using .loc[row_indexer,col_indexer] = value instead\n",
      "\n",
      "See the caveats in the documentation: https://pandas.pydata.org/pandas-docs/stable/user_guide/indexing.html#returning-a-view-versus-a-copy\n",
      "  trips['dur_pt_int'] = trips['dur_pt_int_total']\n",
      "/home/gael/.local/lib/python3.8/site-packages/pandas/core/frame.py:4167: SettingWithCopyWarning: \n",
      "A value is trying to be set on a copy of a slice from a DataFrame\n",
      "\n",
      "See the caveats in the documentation: https://pandas.pydata.org/pandas-docs/stable/user_guide/indexing.html#returning-a-view-versus-a-copy\n",
      "  return super().drop(\n"
     ]
    }
   ],
   "source": [
    "trips['dur_pt_int'] = trips['dur_pt_int_total']\n",
    "trips.drop(['trip_id', 'household_id', 'person_n', 'trip_n', 'survey_year', 'cost_driving_total', 'dur_pt_total', 'dur_pt_int_waiting', 'dur_pt_int_walking', 'dur_pt_int_total'], axis=1, inplace=True)"
   ],
   "metadata": {
    "collapsed": false,
    "pycharm": {
     "name": "#%%\n"
    }
   }
  },
  {
   "cell_type": "code",
   "execution_count": 90,
   "outputs": [],
   "source": [
    "trips.to_csv('../../data/LPMC/trips.csv', index=False)"
   ],
   "metadata": {
    "collapsed": false,
    "pycharm": {
     "name": "#%%\n"
    }
   }
  },
  {
   "cell_type": "code",
   "execution_count": 91,
   "outputs": [],
   "source": [
    "lpmc['dur_pt_int'] = lpmc['dur_pt_int_total']\n",
    "lpmc.drop(['trip_id', 'household_id', 'person_n', 'trip_n', 'survey_year', 'cost_driving_total', 'dur_pt_total', 'dur_pt_int_waiting', 'dur_pt_int_walking', 'dur_pt_int_total'], axis=1, inplace=True)"
   ],
   "metadata": {
    "collapsed": false,
    "pycharm": {
     "name": "#%%\n"
    }
   }
  },
  {
   "cell_type": "code",
   "execution_count": 92,
   "outputs": [],
   "source": [
    "lpmc.to_csv('../../data/LPMC/full.csv', index=False)"
   ],
   "metadata": {
    "collapsed": false,
    "pycharm": {
     "name": "#%%\n"
    }
   }
  },
  {
   "cell_type": "code",
   "execution_count": 93,
   "outputs": [
    {
     "data": {
      "text/plain": "Index(['travel_mode', 'purpose', 'fueltype', 'faretype', 'bus_scale',\n       'travel_year', 'travel_month', 'travel_date', 'day_of_week',\n       'start_time_linear', 'age', 'female', 'driving_license', 'distance',\n       'dur_walking', 'dur_cycling', 'dur_pt_access', 'dur_pt_rail',\n       'dur_pt_bus', 'pt_n_interchanges', 'dur_driving', 'cost_transit',\n       'cost_driving_fuel', 'cost_driving_con_charge',\n       'driving_traffic_percent', 'hh_vehicles', 'hh_borough', 'hh_income',\n       'hh_people', 'dur_pt_int'],\n      dtype='object')"
     },
     "execution_count": 93,
     "metadata": {},
     "output_type": "execute_result"
    }
   ],
   "source": [
    "lpmc.columns"
   ],
   "metadata": {
    "collapsed": false,
    "pycharm": {
     "name": "#%%\n"
    }
   }
  },
  {
   "cell_type": "markdown",
   "source": [
    "## Remove the non borough data"
   ],
   "metadata": {
    "collapsed": false,
    "pycharm": {
     "name": "#%% md\n"
    }
   }
  },
  {
   "cell_type": "code",
   "execution_count": 2,
   "outputs": [],
   "source": [
    "lpmc = pd.read_csv('../../data/LPMC/full.csv')\n",
    "trips = pd.read_csv('../../data/LPMC/trips.csv')\n",
    "\n",
    "non_borough = ['Spelthorne', 'Epping Forest', 'Elmbridge', 'Three Rivers', 'Epsom and Ewell', 'Tandridge', 'Hertsmere', 'Reigate and Banstead', 'Dartford', 'Watford', 'Thurrock', 'Sevenoaks', 'South Bucks', 'Runnymede', 'Woking', 'Mole Valley']"
   ],
   "metadata": {
    "collapsed": false,
    "pycharm": {
     "name": "#%%\n"
    }
   }
  },
  {
   "cell_type": "code",
   "execution_count": 3,
   "outputs": [],
   "source": [
    "lpmc = lpmc[~lpmc['hh_borough'].isin(non_borough)]\n",
    "trips = trips[~trips['hh_borough'].isin(non_borough)]"
   ],
   "metadata": {
    "collapsed": false,
    "pycharm": {
     "name": "#%%\n"
    }
   }
  },
  {
   "cell_type": "code",
   "execution_count": 4,
   "outputs": [],
   "source": [
    "lpmc.to_csv('../../data/LPMC/full.csv', index=False)\n",
    "trips.to_csv('../../data/LPMC/trips.csv', index=False)"
   ],
   "metadata": {
    "collapsed": false,
    "pycharm": {
     "name": "#%%\n"
    }
   }
  }
 ],
 "metadata": {
  "kernelspec": {
   "name": "dev",
   "language": "python",
   "display_name": "dev"
  },
  "language_info": {
   "codemirror_mode": {
    "name": "ipython",
    "version": 2
   },
   "file_extension": ".py",
   "mimetype": "text/x-python",
   "name": "python",
   "nbconvert_exporter": "python",
   "pygments_lexer": "ipython2",
   "version": "2.7.6"
  }
 },
 "nbformat": 4,
 "nbformat_minor": 0
}