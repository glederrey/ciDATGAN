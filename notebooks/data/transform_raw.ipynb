{
 "cells": [
  {
   "cell_type": "code",
   "execution_count": 70,
   "metadata": {
    "collapsed": true
   },
   "outputs": [],
   "source": [
    "import pandas as pd\n",
    "import numpy as np\n",
    "import matplotlib.pyplot as plt\n",
    "import random\n",
    "from tqdm import tqdm\n",
    "\n",
    "import seaborn as sns\n",
    "sns.set_style(\"whitegrid\")\n",
    "\n",
    "# For the Python notebook\n",
    "%matplotlib inline\n",
    "%reload_ext autoreload\n",
    "%autoreload 2"
   ]
  },
  {
   "cell_type": "code",
   "execution_count": 120,
   "outputs": [],
   "source": [
    "# Load the data\n",
    "df = pd.read_csv('../../data/LTDS/data-1651152187921.csv')\n",
    "df = df.sort_values('ttid')\n",
    "df.index = list(range(len(df)))\n",
    "df['distance'] = np.round(df['distance'])\n",
    "df['distance'] = df['distance'].astype(int)\n",
    "df['traffic_percent'] = round(np.abs(df['traffic_percent']), 5)\n",
    "df['trans_dur'] = round(df['trans_dur']/3600, 5)\n",
    "lpmc = pd.read_csv('../../data/LTDS/LPMC.csv')\n",
    "lpmc['dur_pt_total'] = round(lpmc['dur_pt_total'], 5)\n",
    "lpmc['driving_traffic_percent'] = round(lpmc['driving_traffic_percent'], 5)"
   ],
   "metadata": {
    "collapsed": false,
    "pycharm": {
     "name": "#%%\n"
    }
   }
  },
  {
   "cell_type": "code",
   "execution_count": 121,
   "outputs": [
    {
     "data": {
      "text/plain": "Index(['hid', 'pid', 'tid', 'hcvn', 'hhaboro', 'hincomei', 'ttid',\n       'survey_year', 'trans_cost', 'drive_cost', 'drive_cost_inc_con_charge',\n       'ubercost', 'cabcost', 'traffic_percent', 'payscale', 'bus_scale',\n       'walk_dur', 'cyc_dur', 'trans_dur', 'drive_best', 'distance',\n       'tdbmmode', 'tjpurpi', 'tmode', 'journey_purpose', 'pdlcar', 'hvehnan',\n       'h18resn', 'tmode_numeric', 'purpose_numeric', 'car_ownership',\n       'toland', 'tdland', 'topurpi', 'tdpurp', 'tstime', 'ppdlcar', 'pwkstat',\n       'pemplos', 'poccupa', 'psexi', 'pagei', 'pegroup', 'pdeng', 'pltpmd',\n       'pltdis', 'hhaboro-2', 'htdow', 'travel_month', 'hresnon', 'hcarnan',\n       'hincomei-2', 'hhose', 'hhosn', 'hhccz', 'vehicle_type', 'con_charge',\n       'avoidable_con_charge', 'walk_dist', 'cyc_dist', 'trans_dist',\n       'drive_dist', 'bank_holiday', 'drive_dur', 'drive_pessi', 'drive_opti',\n       'tolat', 'tolon', 'tdlat', 'tdlon', 'startpoint', 'endpoint',\n       'ori_borough_id', 'ori_borough', 'desti_borough_id', 'desti_borough'],\n      dtype='object')"
     },
     "execution_count": 121,
     "metadata": {},
     "output_type": "execute_result"
    }
   ],
   "source": [
    "df.columns"
   ],
   "metadata": {
    "collapsed": false,
    "pycharm": {
     "name": "#%%\n"
    }
   }
  },
  {
   "cell_type": "code",
   "execution_count": 122,
   "outputs": [
    {
     "name": "stderr",
     "output_type": "stream",
     "text": [
      " 28%|██▊       | 23013/81086 [01:14<03:08, 307.86it/s]\n"
     ]
    },
    {
     "ename": "KeyboardInterrupt",
     "evalue": "",
     "output_type": "error",
     "traceback": [
      "\u001B[0;31m---------------------------------------------------------------------------\u001B[0m",
      "\u001B[0;31mKeyboardInterrupt\u001B[0m                         Traceback (most recent call last)",
      "\u001B[0;32m<ipython-input-122-6a4aa3b1989c>\u001B[0m in \u001B[0;36m<module>\u001B[0;34m\u001B[0m\n\u001B[1;32m      4\u001B[0m     \u001B[0mlpmc_row\u001B[0m \u001B[0;34m=\u001B[0m \u001B[0mlpmc\u001B[0m\u001B[0;34m.\u001B[0m\u001B[0miloc\u001B[0m\u001B[0;34m[\u001B[0m\u001B[0mi\u001B[0m\u001B[0;34m]\u001B[0m\u001B[0;34m\u001B[0m\u001B[0;34m\u001B[0m\u001B[0m\n\u001B[1;32m      5\u001B[0m \u001B[0;34m\u001B[0m\u001B[0m\n\u001B[0;32m----> 6\u001B[0;31m     tmp = df[((df['pagei'] == lpmc_row['age']) &\n\u001B[0m\u001B[1;32m      7\u001B[0m               \u001B[0;34m(\u001B[0m\u001B[0mdf\u001B[0m\u001B[0;34m[\u001B[0m\u001B[0;34m'distance'\u001B[0m\u001B[0;34m]\u001B[0m \u001B[0;34m==\u001B[0m \u001B[0mlpmc_row\u001B[0m\u001B[0;34m[\u001B[0m\u001B[0;34m'distance'\u001B[0m\u001B[0;34m]\u001B[0m\u001B[0;34m)\u001B[0m \u001B[0;34m&\u001B[0m\u001B[0;34m\u001B[0m\u001B[0;34m\u001B[0m\u001B[0m\n\u001B[1;32m      8\u001B[0m               \u001B[0;34m(\u001B[0m\u001B[0mdf\u001B[0m\u001B[0;34m[\u001B[0m\u001B[0;34m'traffic_percent'\u001B[0m\u001B[0;34m]\u001B[0m \u001B[0;34m==\u001B[0m \u001B[0mlpmc_row\u001B[0m\u001B[0;34m[\u001B[0m\u001B[0;34m'driving_traffic_percent'\u001B[0m\u001B[0;34m]\u001B[0m\u001B[0;34m)\u001B[0m \u001B[0;34m&\u001B[0m\u001B[0;34m\u001B[0m\u001B[0;34m\u001B[0m\u001B[0m\n",
      "\u001B[0;32m~/.local/lib/python3.8/site-packages/pandas/core/frame.py\u001B[0m in \u001B[0;36m__getitem__\u001B[0;34m(self, key)\u001B[0m\n\u001B[1;32m   2895\u001B[0m         \u001B[0;31m# Do we have a (boolean) 1d indexer?\u001B[0m\u001B[0;34m\u001B[0m\u001B[0;34m\u001B[0m\u001B[0;34m\u001B[0m\u001B[0m\n\u001B[1;32m   2896\u001B[0m         \u001B[0;32mif\u001B[0m \u001B[0mcom\u001B[0m\u001B[0;34m.\u001B[0m\u001B[0mis_bool_indexer\u001B[0m\u001B[0;34m(\u001B[0m\u001B[0mkey\u001B[0m\u001B[0;34m)\u001B[0m\u001B[0;34m:\u001B[0m\u001B[0;34m\u001B[0m\u001B[0;34m\u001B[0m\u001B[0m\n\u001B[0;32m-> 2897\u001B[0;31m             \u001B[0;32mreturn\u001B[0m \u001B[0mself\u001B[0m\u001B[0;34m.\u001B[0m\u001B[0m_getitem_bool_array\u001B[0m\u001B[0;34m(\u001B[0m\u001B[0mkey\u001B[0m\u001B[0;34m)\u001B[0m\u001B[0;34m\u001B[0m\u001B[0;34m\u001B[0m\u001B[0m\n\u001B[0m\u001B[1;32m   2898\u001B[0m \u001B[0;34m\u001B[0m\u001B[0m\n\u001B[1;32m   2899\u001B[0m         \u001B[0;31m# We are left with two options: a single key, and a collection of keys,\u001B[0m\u001B[0;34m\u001B[0m\u001B[0;34m\u001B[0m\u001B[0;34m\u001B[0m\u001B[0m\n",
      "\u001B[0;32m~/.local/lib/python3.8/site-packages/pandas/core/frame.py\u001B[0m in \u001B[0;36m_getitem_bool_array\u001B[0;34m(self, key)\u001B[0m\n\u001B[1;32m   2949\u001B[0m         \u001B[0mkey\u001B[0m \u001B[0;34m=\u001B[0m \u001B[0mcheck_bool_indexer\u001B[0m\u001B[0;34m(\u001B[0m\u001B[0mself\u001B[0m\u001B[0;34m.\u001B[0m\u001B[0mindex\u001B[0m\u001B[0;34m,\u001B[0m \u001B[0mkey\u001B[0m\u001B[0;34m)\u001B[0m\u001B[0;34m\u001B[0m\u001B[0;34m\u001B[0m\u001B[0m\n\u001B[1;32m   2950\u001B[0m         \u001B[0mindexer\u001B[0m \u001B[0;34m=\u001B[0m \u001B[0mkey\u001B[0m\u001B[0;34m.\u001B[0m\u001B[0mnonzero\u001B[0m\u001B[0;34m(\u001B[0m\u001B[0;34m)\u001B[0m\u001B[0;34m[\u001B[0m\u001B[0;36m0\u001B[0m\u001B[0;34m]\u001B[0m\u001B[0;34m\u001B[0m\u001B[0;34m\u001B[0m\u001B[0m\n\u001B[0;32m-> 2951\u001B[0;31m         \u001B[0;32mreturn\u001B[0m \u001B[0mself\u001B[0m\u001B[0;34m.\u001B[0m\u001B[0m_take_with_is_copy\u001B[0m\u001B[0;34m(\u001B[0m\u001B[0mindexer\u001B[0m\u001B[0;34m,\u001B[0m \u001B[0maxis\u001B[0m\u001B[0;34m=\u001B[0m\u001B[0;36m0\u001B[0m\u001B[0;34m)\u001B[0m\u001B[0;34m\u001B[0m\u001B[0;34m\u001B[0m\u001B[0m\n\u001B[0m\u001B[1;32m   2952\u001B[0m \u001B[0;34m\u001B[0m\u001B[0m\n\u001B[1;32m   2953\u001B[0m     \u001B[0;32mdef\u001B[0m \u001B[0m_getitem_multilevel\u001B[0m\u001B[0;34m(\u001B[0m\u001B[0mself\u001B[0m\u001B[0;34m,\u001B[0m \u001B[0mkey\u001B[0m\u001B[0;34m)\u001B[0m\u001B[0;34m:\u001B[0m\u001B[0;34m\u001B[0m\u001B[0;34m\u001B[0m\u001B[0m\n",
      "\u001B[0;32m~/.local/lib/python3.8/site-packages/pandas/core/generic.py\u001B[0m in \u001B[0;36m_take_with_is_copy\u001B[0;34m(self, indices, axis)\u001B[0m\n\u001B[1;32m   3361\u001B[0m         \u001B[0mSee\u001B[0m \u001B[0mthe\u001B[0m \u001B[0mdocstring\u001B[0m \u001B[0mof\u001B[0m\u001B[0;31m \u001B[0m\u001B[0;31m`\u001B[0m\u001B[0mtake\u001B[0m\u001B[0;31m`\u001B[0m \u001B[0;32mfor\u001B[0m \u001B[0mfull\u001B[0m \u001B[0mexplanation\u001B[0m \u001B[0mof\u001B[0m \u001B[0mthe\u001B[0m \u001B[0mparameters\u001B[0m\u001B[0;34m.\u001B[0m\u001B[0;34m\u001B[0m\u001B[0;34m\u001B[0m\u001B[0m\n\u001B[1;32m   3362\u001B[0m         \"\"\"\n\u001B[0;32m-> 3363\u001B[0;31m         \u001B[0mresult\u001B[0m \u001B[0;34m=\u001B[0m \u001B[0mself\u001B[0m\u001B[0;34m.\u001B[0m\u001B[0mtake\u001B[0m\u001B[0;34m(\u001B[0m\u001B[0mindices\u001B[0m\u001B[0;34m=\u001B[0m\u001B[0mindices\u001B[0m\u001B[0;34m,\u001B[0m \u001B[0maxis\u001B[0m\u001B[0;34m=\u001B[0m\u001B[0maxis\u001B[0m\u001B[0;34m)\u001B[0m\u001B[0;34m\u001B[0m\u001B[0;34m\u001B[0m\u001B[0m\n\u001B[0m\u001B[1;32m   3364\u001B[0m         \u001B[0;31m# Maybe set copy if we didn't actually change the index.\u001B[0m\u001B[0;34m\u001B[0m\u001B[0;34m\u001B[0m\u001B[0;34m\u001B[0m\u001B[0m\n\u001B[1;32m   3365\u001B[0m         \u001B[0;32mif\u001B[0m \u001B[0;32mnot\u001B[0m \u001B[0mresult\u001B[0m\u001B[0;34m.\u001B[0m\u001B[0m_get_axis\u001B[0m\u001B[0;34m(\u001B[0m\u001B[0maxis\u001B[0m\u001B[0;34m)\u001B[0m\u001B[0;34m.\u001B[0m\u001B[0mequals\u001B[0m\u001B[0;34m(\u001B[0m\u001B[0mself\u001B[0m\u001B[0;34m.\u001B[0m\u001B[0m_get_axis\u001B[0m\u001B[0;34m(\u001B[0m\u001B[0maxis\u001B[0m\u001B[0;34m)\u001B[0m\u001B[0;34m)\u001B[0m\u001B[0;34m:\u001B[0m\u001B[0;34m\u001B[0m\u001B[0;34m\u001B[0m\u001B[0m\n",
      "\u001B[0;32m~/.local/lib/python3.8/site-packages/pandas/core/generic.py\u001B[0m in \u001B[0;36mtake\u001B[0;34m(self, indices, axis, is_copy, **kwargs)\u001B[0m\n\u001B[1;32m   3348\u001B[0m         \u001B[0mself\u001B[0m\u001B[0;34m.\u001B[0m\u001B[0m_consolidate_inplace\u001B[0m\u001B[0;34m(\u001B[0m\u001B[0;34m)\u001B[0m\u001B[0;34m\u001B[0m\u001B[0;34m\u001B[0m\u001B[0m\n\u001B[1;32m   3349\u001B[0m \u001B[0;34m\u001B[0m\u001B[0m\n\u001B[0;32m-> 3350\u001B[0;31m         new_data = self._mgr.take(\n\u001B[0m\u001B[1;32m   3351\u001B[0m             \u001B[0mindices\u001B[0m\u001B[0;34m,\u001B[0m \u001B[0maxis\u001B[0m\u001B[0;34m=\u001B[0m\u001B[0mself\u001B[0m\u001B[0;34m.\u001B[0m\u001B[0m_get_block_manager_axis\u001B[0m\u001B[0;34m(\u001B[0m\u001B[0maxis\u001B[0m\u001B[0;34m)\u001B[0m\u001B[0;34m,\u001B[0m \u001B[0mverify\u001B[0m\u001B[0;34m=\u001B[0m\u001B[0;32mTrue\u001B[0m\u001B[0;34m\u001B[0m\u001B[0;34m\u001B[0m\u001B[0m\n\u001B[1;32m   3352\u001B[0m         )\n",
      "\u001B[0;32m~/.local/lib/python3.8/site-packages/pandas/core/internals/managers.py\u001B[0m in \u001B[0;36mtake\u001B[0;34m(self, indexer, axis, verify, convert)\u001B[0m\n\u001B[1;32m   1445\u001B[0m \u001B[0;34m\u001B[0m\u001B[0m\n\u001B[1;32m   1446\u001B[0m         \u001B[0mnew_labels\u001B[0m \u001B[0;34m=\u001B[0m \u001B[0mself\u001B[0m\u001B[0;34m.\u001B[0m\u001B[0maxes\u001B[0m\u001B[0;34m[\u001B[0m\u001B[0maxis\u001B[0m\u001B[0;34m]\u001B[0m\u001B[0;34m.\u001B[0m\u001B[0mtake\u001B[0m\u001B[0;34m(\u001B[0m\u001B[0mindexer\u001B[0m\u001B[0;34m)\u001B[0m\u001B[0;34m\u001B[0m\u001B[0;34m\u001B[0m\u001B[0m\n\u001B[0;32m-> 1447\u001B[0;31m         return self.reindex_indexer(\n\u001B[0m\u001B[1;32m   1448\u001B[0m             \u001B[0mnew_axis\u001B[0m\u001B[0;34m=\u001B[0m\u001B[0mnew_labels\u001B[0m\u001B[0;34m,\u001B[0m \u001B[0mindexer\u001B[0m\u001B[0;34m=\u001B[0m\u001B[0mindexer\u001B[0m\u001B[0;34m,\u001B[0m \u001B[0maxis\u001B[0m\u001B[0;34m=\u001B[0m\u001B[0maxis\u001B[0m\u001B[0;34m,\u001B[0m \u001B[0mallow_dups\u001B[0m\u001B[0;34m=\u001B[0m\u001B[0;32mTrue\u001B[0m\u001B[0;34m\u001B[0m\u001B[0;34m\u001B[0m\u001B[0m\n\u001B[1;32m   1449\u001B[0m         )\n",
      "\u001B[0;32m~/.local/lib/python3.8/site-packages/pandas/core/internals/managers.py\u001B[0m in \u001B[0;36mreindex_indexer\u001B[0;34m(self, new_axis, indexer, axis, fill_value, allow_dups, copy, consolidate)\u001B[0m\n\u001B[1;32m   1282\u001B[0m             \u001B[0mnew_blocks\u001B[0m \u001B[0;34m=\u001B[0m \u001B[0mself\u001B[0m\u001B[0;34m.\u001B[0m\u001B[0m_slice_take_blocks_ax0\u001B[0m\u001B[0;34m(\u001B[0m\u001B[0mindexer\u001B[0m\u001B[0;34m,\u001B[0m \u001B[0mfill_value\u001B[0m\u001B[0;34m=\u001B[0m\u001B[0mfill_value\u001B[0m\u001B[0;34m)\u001B[0m\u001B[0;34m\u001B[0m\u001B[0;34m\u001B[0m\u001B[0m\n\u001B[1;32m   1283\u001B[0m         \u001B[0;32melse\u001B[0m\u001B[0;34m:\u001B[0m\u001B[0;34m\u001B[0m\u001B[0;34m\u001B[0m\u001B[0m\n\u001B[0;32m-> 1284\u001B[0;31m             new_blocks = [\n\u001B[0m\u001B[1;32m   1285\u001B[0m                 blk.take_nd(\n\u001B[1;32m   1286\u001B[0m                     \u001B[0mindexer\u001B[0m\u001B[0;34m,\u001B[0m\u001B[0;34m\u001B[0m\u001B[0;34m\u001B[0m\u001B[0m\n",
      "\u001B[0;32m~/.local/lib/python3.8/site-packages/pandas/core/internals/managers.py\u001B[0m in \u001B[0;36m<listcomp>\u001B[0;34m(.0)\u001B[0m\n\u001B[1;32m   1283\u001B[0m         \u001B[0;32melse\u001B[0m\u001B[0;34m:\u001B[0m\u001B[0;34m\u001B[0m\u001B[0;34m\u001B[0m\u001B[0m\n\u001B[1;32m   1284\u001B[0m             new_blocks = [\n\u001B[0;32m-> 1285\u001B[0;31m                 blk.take_nd(\n\u001B[0m\u001B[1;32m   1286\u001B[0m                     \u001B[0mindexer\u001B[0m\u001B[0;34m,\u001B[0m\u001B[0;34m\u001B[0m\u001B[0;34m\u001B[0m\u001B[0m\n\u001B[1;32m   1287\u001B[0m                     \u001B[0maxis\u001B[0m\u001B[0;34m=\u001B[0m\u001B[0maxis\u001B[0m\u001B[0;34m,\u001B[0m\u001B[0;34m\u001B[0m\u001B[0;34m\u001B[0m\u001B[0m\n",
      "\u001B[0;32m~/.local/lib/python3.8/site-packages/pandas/core/internals/blocks.py\u001B[0m in \u001B[0;36mtake_nd\u001B[0;34m(self, indexer, axis, new_mgr_locs, fill_value)\u001B[0m\n\u001B[1;32m   1253\u001B[0m             \u001B[0mallow_fill\u001B[0m \u001B[0;34m=\u001B[0m \u001B[0;32mTrue\u001B[0m\u001B[0;34m\u001B[0m\u001B[0;34m\u001B[0m\u001B[0m\n\u001B[1;32m   1254\u001B[0m \u001B[0;34m\u001B[0m\u001B[0m\n\u001B[0;32m-> 1255\u001B[0;31m         new_values = algos.take_nd(\n\u001B[0m\u001B[1;32m   1256\u001B[0m             \u001B[0mvalues\u001B[0m\u001B[0;34m,\u001B[0m \u001B[0mindexer\u001B[0m\u001B[0;34m,\u001B[0m \u001B[0maxis\u001B[0m\u001B[0;34m=\u001B[0m\u001B[0maxis\u001B[0m\u001B[0;34m,\u001B[0m \u001B[0mallow_fill\u001B[0m\u001B[0;34m=\u001B[0m\u001B[0mallow_fill\u001B[0m\u001B[0;34m,\u001B[0m \u001B[0mfill_value\u001B[0m\u001B[0;34m=\u001B[0m\u001B[0mfill_value\u001B[0m\u001B[0;34m\u001B[0m\u001B[0;34m\u001B[0m\u001B[0m\n\u001B[1;32m   1257\u001B[0m         )\n",
      "\u001B[0;32m~/.local/lib/python3.8/site-packages/pandas/core/algorithms.py\u001B[0m in \u001B[0;36mtake_nd\u001B[0;34m(arr, indexer, axis, out, fill_value, allow_fill)\u001B[0m\n\u001B[1;32m   1706\u001B[0m             \u001B[0mout\u001B[0m \u001B[0;34m=\u001B[0m \u001B[0mnp\u001B[0m\u001B[0;34m.\u001B[0m\u001B[0mempty\u001B[0m\u001B[0;34m(\u001B[0m\u001B[0mout_shape\u001B[0m\u001B[0;34m,\u001B[0m \u001B[0mdtype\u001B[0m\u001B[0;34m=\u001B[0m\u001B[0mdtype\u001B[0m\u001B[0;34m,\u001B[0m \u001B[0morder\u001B[0m\u001B[0;34m=\u001B[0m\u001B[0;34m\"F\"\u001B[0m\u001B[0;34m)\u001B[0m\u001B[0;34m\u001B[0m\u001B[0;34m\u001B[0m\u001B[0m\n\u001B[1;32m   1707\u001B[0m         \u001B[0;32melse\u001B[0m\u001B[0;34m:\u001B[0m\u001B[0;34m\u001B[0m\u001B[0;34m\u001B[0m\u001B[0m\n\u001B[0;32m-> 1708\u001B[0;31m             \u001B[0mout\u001B[0m \u001B[0;34m=\u001B[0m \u001B[0mnp\u001B[0m\u001B[0;34m.\u001B[0m\u001B[0mempty\u001B[0m\u001B[0;34m(\u001B[0m\u001B[0mout_shape\u001B[0m\u001B[0;34m,\u001B[0m \u001B[0mdtype\u001B[0m\u001B[0;34m=\u001B[0m\u001B[0mdtype\u001B[0m\u001B[0;34m)\u001B[0m\u001B[0;34m\u001B[0m\u001B[0;34m\u001B[0m\u001B[0m\n\u001B[0m\u001B[1;32m   1709\u001B[0m \u001B[0;34m\u001B[0m\u001B[0m\n\u001B[1;32m   1710\u001B[0m     func = _get_take_nd_function(\n",
      "\u001B[0;31mKeyboardInterrupt\u001B[0m: "
     ]
    }
   ],
   "source": [
    "idx = []\n",
    "\n",
    "for i in tqdm(range(len(df))):\n",
    "    lpmc_row = lpmc.iloc[i]\n",
    "\n",
    "    tmp = df[((df['pagei'] == lpmc_row['age']) &\n",
    "              (df['distance'] == lpmc_row['distance']) &\n",
    "              (df['traffic_percent'] == lpmc_row['driving_traffic_percent']) &\n",
    "              (df['psexi'] == lpmc_row['female'] + 1) &\n",
    "              (df['pid'] == lpmc_row['person_n'] +1) &\n",
    "              (df['trans_dur'] == lpmc_row['dur_pt_total'])\n",
    "    )]\n",
    "\n",
    "    if len(tmp) > 1:\n",
    "        print(\"ERROR\")\n",
    "        asd\n",
    "\n",
    "    idx.append(tmp.index[0])"
   ],
   "metadata": {
    "collapsed": false,
    "pycharm": {
     "name": "#%%\n"
    }
   }
  },
  {
   "cell_type": "code",
   "execution_count": null,
   "outputs": [],
   "source": [
    "lpmc_row"
   ],
   "metadata": {
    "collapsed": false,
    "pycharm": {
     "name": "#%%\n"
    }
   }
  },
  {
   "cell_type": "code",
   "execution_count": 118,
   "outputs": [],
   "source": [
    "tmp = df[((df['pagei'] == lpmc_row['age']) &\n",
    "          (df['distance'] == lpmc_row['distance']) &\n",
    "          (df['traffic_percent'] == lpmc_row['driving_traffic_percent'])\n",
    "          )]"
   ],
   "metadata": {
    "collapsed": false,
    "pycharm": {
     "name": "#%%\n"
    }
   }
  },
  {
   "cell_type": "code",
   "execution_count": 119,
   "outputs": [
    {
     "data": {
      "text/plain": "             hid  pid  tid  hcvn  hhaboro  hincomei          ttid  \\\n14700  122822810    3    3     1       27         5  122822810303   \n14701  122822810    3    4     1       27         5  122822810304   \n\n       survey_year  trans_cost  drive_cost  ...      tolat     tolon  \\\n14700           12           0          31  ...  51.474561 -0.380415   \n14701           12           0          36  ...  51.467696 -0.363986   \n\n           tdlat     tdlon                                         startpoint  \\\n14700  51.467696 -0.363986  0101000020E6100000D509E27DB758D8BFFEA87B67BEBC...   \n14701  51.474561 -0.380415  0101000020E6100000FA2044518B4BD7BFEB9EBA78DDBB...   \n\n                                                endpoint  ori_borough_id  \\\n14700  0101000020E6100000FA2044518B4BD7BFEB9EBA78DDBB...               4   \n14701  0101000020E6100000D509E27DB758D8BFFEA87B67BEBC...               4   \n\n       ori_borough  desti_borough_id  desti_borough  \n14700     Hounslow                 4       Hounslow  \n14701     Hounslow                 4       Hounslow  \n\n[2 rows x 76 columns]",
      "text/html": "<div>\n<style scoped>\n    .dataframe tbody tr th:only-of-type {\n        vertical-align: middle;\n    }\n\n    .dataframe tbody tr th {\n        vertical-align: top;\n    }\n\n    .dataframe thead th {\n        text-align: right;\n    }\n</style>\n<table border=\"1\" class=\"dataframe\">\n  <thead>\n    <tr style=\"text-align: right;\">\n      <th></th>\n      <th>hid</th>\n      <th>pid</th>\n      <th>tid</th>\n      <th>hcvn</th>\n      <th>hhaboro</th>\n      <th>hincomei</th>\n      <th>ttid</th>\n      <th>survey_year</th>\n      <th>trans_cost</th>\n      <th>drive_cost</th>\n      <th>...</th>\n      <th>tolat</th>\n      <th>tolon</th>\n      <th>tdlat</th>\n      <th>tdlon</th>\n      <th>startpoint</th>\n      <th>endpoint</th>\n      <th>ori_borough_id</th>\n      <th>ori_borough</th>\n      <th>desti_borough_id</th>\n      <th>desti_borough</th>\n    </tr>\n  </thead>\n  <tbody>\n    <tr>\n      <th>14700</th>\n      <td>122822810</td>\n      <td>3</td>\n      <td>3</td>\n      <td>1</td>\n      <td>27</td>\n      <td>5</td>\n      <td>122822810303</td>\n      <td>12</td>\n      <td>0</td>\n      <td>31</td>\n      <td>...</td>\n      <td>51.474561</td>\n      <td>-0.380415</td>\n      <td>51.467696</td>\n      <td>-0.363986</td>\n      <td>0101000020E6100000D509E27DB758D8BFFEA87B67BEBC...</td>\n      <td>0101000020E6100000FA2044518B4BD7BFEB9EBA78DDBB...</td>\n      <td>4</td>\n      <td>Hounslow</td>\n      <td>4</td>\n      <td>Hounslow</td>\n    </tr>\n    <tr>\n      <th>14701</th>\n      <td>122822810</td>\n      <td>3</td>\n      <td>4</td>\n      <td>1</td>\n      <td>27</td>\n      <td>5</td>\n      <td>122822810304</td>\n      <td>12</td>\n      <td>0</td>\n      <td>36</td>\n      <td>...</td>\n      <td>51.467696</td>\n      <td>-0.363986</td>\n      <td>51.474561</td>\n      <td>-0.380415</td>\n      <td>0101000020E6100000FA2044518B4BD7BFEB9EBA78DDBB...</td>\n      <td>0101000020E6100000D509E27DB758D8BFFEA87B67BEBC...</td>\n      <td>4</td>\n      <td>Hounslow</td>\n      <td>4</td>\n      <td>Hounslow</td>\n    </tr>\n  </tbody>\n</table>\n<p>2 rows × 76 columns</p>\n</div>"
     },
     "execution_count": 119,
     "metadata": {},
     "output_type": "execute_result"
    }
   ],
   "source": [
    "tmp"
   ],
   "metadata": {
    "collapsed": false,
    "pycharm": {
     "name": "#%%\n"
    }
   }
  },
  {
   "cell_type": "code",
   "execution_count": 89,
   "outputs": [
    {
     "data": {
      "text/plain": "     trip_id  household_id  person_n  trip_n travel_mode purpose     fueltype  \\\n455      455           103         2       0          pt     HBO  Average_Car   \n456      456           103         2       1          pt     HBO  Average_Car   \n457      457           103         3       0          pt     HBO  Average_Car   \n458      458           103         3       1          pt     HBO  Average_Car   \n\n    faretype  bus_scale  survey_year  ...  dur_pt_int_total  \\\n455    child        0.0            1  ...          0.090833   \n456    child        0.0            1  ...          0.083333   \n457    child        0.0            1  ...          0.090833   \n458    child        0.0            1  ...          0.083333   \n\n     dur_pt_int_waiting  dur_pt_int_walking  pt_n_interchanges  dur_driving  \\\n455            0.090833                 0.0                  1     0.197222   \n456            0.083333                 0.0                  1     0.217778   \n457            0.090833                 0.0                  1     0.197222   \n458            0.083333                 0.0                  1     0.217778   \n\n     cost_transit  cost_driving_total  cost_driving_fuel  \\\n455           0.0                0.48               0.48   \n456           0.0                0.51               0.51   \n457           0.0                0.48               0.48   \n458           0.0                0.51               0.51   \n\n     cost_driving_con_charge  driving_traffic_percent  \n455                      0.0                 0.263380  \n456                      0.0                 0.195153  \n457                      0.0                 0.263380  \n458                      0.0                 0.195153  \n\n[4 rows x 36 columns]",
      "text/html": "<div>\n<style scoped>\n    .dataframe tbody tr th:only-of-type {\n        vertical-align: middle;\n    }\n\n    .dataframe tbody tr th {\n        vertical-align: top;\n    }\n\n    .dataframe thead th {\n        text-align: right;\n    }\n</style>\n<table border=\"1\" class=\"dataframe\">\n  <thead>\n    <tr style=\"text-align: right;\">\n      <th></th>\n      <th>trip_id</th>\n      <th>household_id</th>\n      <th>person_n</th>\n      <th>trip_n</th>\n      <th>travel_mode</th>\n      <th>purpose</th>\n      <th>fueltype</th>\n      <th>faretype</th>\n      <th>bus_scale</th>\n      <th>survey_year</th>\n      <th>...</th>\n      <th>dur_pt_int_total</th>\n      <th>dur_pt_int_waiting</th>\n      <th>dur_pt_int_walking</th>\n      <th>pt_n_interchanges</th>\n      <th>dur_driving</th>\n      <th>cost_transit</th>\n      <th>cost_driving_total</th>\n      <th>cost_driving_fuel</th>\n      <th>cost_driving_con_charge</th>\n      <th>driving_traffic_percent</th>\n    </tr>\n  </thead>\n  <tbody>\n    <tr>\n      <th>455</th>\n      <td>455</td>\n      <td>103</td>\n      <td>2</td>\n      <td>0</td>\n      <td>pt</td>\n      <td>HBO</td>\n      <td>Average_Car</td>\n      <td>child</td>\n      <td>0.0</td>\n      <td>1</td>\n      <td>...</td>\n      <td>0.090833</td>\n      <td>0.090833</td>\n      <td>0.0</td>\n      <td>1</td>\n      <td>0.197222</td>\n      <td>0.0</td>\n      <td>0.48</td>\n      <td>0.48</td>\n      <td>0.0</td>\n      <td>0.263380</td>\n    </tr>\n    <tr>\n      <th>456</th>\n      <td>456</td>\n      <td>103</td>\n      <td>2</td>\n      <td>1</td>\n      <td>pt</td>\n      <td>HBO</td>\n      <td>Average_Car</td>\n      <td>child</td>\n      <td>0.0</td>\n      <td>1</td>\n      <td>...</td>\n      <td>0.083333</td>\n      <td>0.083333</td>\n      <td>0.0</td>\n      <td>1</td>\n      <td>0.217778</td>\n      <td>0.0</td>\n      <td>0.51</td>\n      <td>0.51</td>\n      <td>0.0</td>\n      <td>0.195153</td>\n    </tr>\n    <tr>\n      <th>457</th>\n      <td>457</td>\n      <td>103</td>\n      <td>3</td>\n      <td>0</td>\n      <td>pt</td>\n      <td>HBO</td>\n      <td>Average_Car</td>\n      <td>child</td>\n      <td>0.0</td>\n      <td>1</td>\n      <td>...</td>\n      <td>0.090833</td>\n      <td>0.090833</td>\n      <td>0.0</td>\n      <td>1</td>\n      <td>0.197222</td>\n      <td>0.0</td>\n      <td>0.48</td>\n      <td>0.48</td>\n      <td>0.0</td>\n      <td>0.263380</td>\n    </tr>\n    <tr>\n      <th>458</th>\n      <td>458</td>\n      <td>103</td>\n      <td>3</td>\n      <td>1</td>\n      <td>pt</td>\n      <td>HBO</td>\n      <td>Average_Car</td>\n      <td>child</td>\n      <td>0.0</td>\n      <td>1</td>\n      <td>...</td>\n      <td>0.083333</td>\n      <td>0.083333</td>\n      <td>0.0</td>\n      <td>1</td>\n      <td>0.217778</td>\n      <td>0.0</td>\n      <td>0.51</td>\n      <td>0.51</td>\n      <td>0.0</td>\n      <td>0.195153</td>\n    </tr>\n  </tbody>\n</table>\n<p>4 rows × 36 columns</p>\n</div>"
     },
     "execution_count": 89,
     "metadata": {},
     "output_type": "execute_result"
    }
   ],
   "source": [
    "lpmc[lpmc['household_id'] == 103]"
   ],
   "metadata": {
    "collapsed": false,
    "pycharm": {
     "name": "#%%\n"
    }
   }
  },
  {
   "cell_type": "markdown",
   "source": [],
   "metadata": {
    "collapsed": false,
    "pycharm": {
     "name": "#%% md\n"
    }
   }
  }
 ],
 "metadata": {
  "kernelspec": {
   "name": "dev",
   "language": "python",
   "display_name": "dev"
  },
  "language_info": {
   "codemirror_mode": {
    "name": "ipython",
    "version": 2
   },
   "file_extension": ".py",
   "mimetype": "text/x-python",
   "name": "python",
   "nbconvert_exporter": "python",
   "pygments_lexer": "ipython2",
   "version": "2.7.6"
  }
 },
 "nbformat": 4,
 "nbformat_minor": 0
}