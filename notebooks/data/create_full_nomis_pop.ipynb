{
 "cells": [
  {
   "cell_type": "code",
   "execution_count": 2,
   "metadata": {
    "collapsed": true
   },
   "outputs": [],
   "source": [
    "import pandas as pd\n",
    "import numpy as np\n",
    "import matplotlib.pyplot as plt\n",
    "import random\n",
    "from tqdm import tqdm\n",
    "\n",
    "import seaborn as sns\n",
    "sns.set_style(\"whitegrid\")\n",
    "\n",
    "import random\n",
    "\n",
    "# For the Python notebook\n",
    "%matplotlib inline\n",
    "%reload_ext autoreload\n",
    "%autoreload 2"
   ]
  },
  {
   "cell_type": "code",
   "execution_count": 3,
   "outputs": [],
   "source": [
    "# Load the data\n",
    "\n",
    "lpmc = pd.read_csv('../../data/LPMC/trips.csv')"
   ],
   "metadata": {
    "collapsed": false,
    "pycharm": {
     "name": "#%%\n"
    }
   }
  },
  {
   "cell_type": "code",
   "execution_count": 5,
   "outputs": [
    {
     "name": "stderr",
     "output_type": "stream",
     "text": [
      "100%|██████████| 49/49 [00:30<00:00,  1.60it/s]\n"
     ]
    }
   ],
   "source": [
    "regions = lpmc.hh_borough.unique()\n",
    "\n",
    "for r in tqdm(regions):\n",
    "\n",
    "    dct = {'age': [], 'female': [], 'hh_borough': []}\n",
    "\n",
    "    df_age = pd.read_csv('../../data/nomis_tmp/{}_age.csv'.format(r))\n",
    "    df_age_sex = pd.read_csv('../../data/nomis_tmp/{}_age_sex.csv'.format(r))\n",
    "\n",
    "    proba = df_age_sex['Males'] / df_age_sex['All']\n",
    "\n",
    "    tmp_age = []\n",
    "    tmp_sex = []\n",
    "\n",
    "    for i in range(101):\n",
    "        tmp_age.append(i*np.ones(df_age.iloc[i].values[0]))\n",
    "\n",
    "        if i < 85:\n",
    "            tmp_sex.append(1*np.ones(df_age_sex['Females'].iloc[i]))\n",
    "            tmp_sex.append(0*np.ones(df_age_sex['Males'].iloc[i]))\n",
    "        elif i == 85:\n",
    "\n",
    "            females = df_age_sex['Females'].iloc[i]*[1]\n",
    "            males = df_age_sex['Males'].iloc[i]*[0]\n",
    "            tmp = np.concatenate((males, females))\n",
    "            random.shuffle(tmp)\n",
    "            tmp_sex.append(tmp)\n",
    "\n",
    "    dct['age'] = np.concatenate(tmp_age).ravel().tolist()\n",
    "\n",
    "    dct['female'] = np.concatenate(tmp_sex).ravel().astype(int).tolist()\n",
    "\n",
    "    dct['hh_borough'] = len(dct['female'])*[r]\n",
    "\n",
    "    df = pd.DataFrame(dct)\n",
    "\n",
    "    df.to_csv('../../data/nomis/{}.csv'.format(r), index=False)"
   ],
   "metadata": {
    "collapsed": false,
    "pycharm": {
     "name": "#%%\n"
    }
   }
  },
  {
   "cell_type": "code",
   "execution_count": 3,
   "outputs": [],
   "source": [
    "regions = {\n",
    "    'Central London': ['City of London', 'Camden', 'Kensington and Chelsea', 'Islington', 'Westminster', 'Southwark', 'Lambeth'],\n",
    "    'South London': ['Bromley', 'Croydon', 'Kingston upon Thames', 'Merton', 'Sutton', 'Wandsworth'],\n",
    "    'East London': ['Barking and Dagenham', 'Bexley', 'Greenwich', 'Hackney', 'Havering', 'Lewisham', 'Newham', 'Tower Hamlets', 'Waltham Forest'],\n",
    "    'North London': ['Barnet', 'Enfield', 'Haringey'],\n",
    "    'West London': ['Brent', 'Ealing', 'Hammersmith & Fulham', 'Harrow', 'Hillingdon', 'Hounslow', 'Redbridge', 'Richmond upon Thames']\n",
    "}"
   ],
   "metadata": {
    "collapsed": false,
    "pycharm": {
     "name": "#%%\n"
    }
   }
  },
  {
   "cell_type": "code",
   "execution_count": 4,
   "outputs": [
    {
     "name": "stdout",
     "output_type": "stream",
     "text": [
      "Central London has 1314313 rows\n",
      "South London has 1421383 rows\n",
      "East London has 2077591 rows\n",
      "North London has 854914 rows\n",
      "West London has 1914245 rows\n"
     ]
    }
   ],
   "source": [
    "for r in regions:\n",
    "    dfs = []\n",
    "    for s in regions[r]:\n",
    "        df = pd.read_csv('../../data/nomis/{}.csv'.format(s))\n",
    "        df = df[df['age'] >=5]\n",
    "        dfs.append(df)\n",
    "\n",
    "    df = pd.concat(dfs)\n",
    "    df['hh_region'] = r\n",
    "    df.drop(columns=['hh_borough'], inplace=True)\n",
    "\n",
    "    print('{} has {} rows'.format(r, len(df)))\n",
    "\n",
    "    df.to_csv('../../data/nomis/{}.csv'.format(r), index=False)"
   ],
   "metadata": {
    "collapsed": false,
    "pycharm": {
     "name": "#%%\n"
    }
   }
  },
  {
   "cell_type": "code",
   "execution_count": null,
   "outputs": [],
   "source": [],
   "metadata": {
    "collapsed": false,
    "pycharm": {
     "name": "#%%\n"
    }
   }
  }
 ],
 "metadata": {
  "kernelspec": {
   "display_name": "Python 3",
   "language": "python",
   "name": "python3"
  },
  "language_info": {
   "codemirror_mode": {
    "name": "ipython",
    "version": 2
   },
   "file_extension": ".py",
   "mimetype": "text/x-python",
   "name": "python",
   "nbconvert_exporter": "python",
   "pygments_lexer": "ipython2",
   "version": "2.7.6"
  }
 },
 "nbformat": 4,
 "nbformat_minor": 0
}