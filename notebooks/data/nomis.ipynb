{
 "cells": [
  {
   "cell_type": "code",
   "execution_count": 149,
   "metadata": {
    "collapsed": true
   },
   "outputs": [],
   "source": [
    "import pandas as pd\n",
    "import numpy as np\n",
    "import matplotlib.pyplot as plt\n",
    "import random\n",
    "from tqdm import tqdm\n",
    "import time\n",
    "\n",
    "\n",
    "import seaborn as sns\n",
    "sns.set_style(\"whitegrid\")\n",
    "\n",
    "import ukcensusapi.Nomisweb as census_api\n",
    "\n",
    "import urllib3\n",
    "import json\n",
    "\n",
    "# For the Python notebook\n",
    "%matplotlib inline\n",
    "%reload_ext autoreload\n",
    "%autoreload 2"
   ]
  },
  {
   "cell_type": "code",
   "execution_count": null,
   "outputs": [],
   "source": [
    "# Get all dataset on nomis: https://www.nomisweb.co.uk/api/v01/dataset/def.htm"
   ],
   "metadata": {
    "collapsed": false,
    "pycharm": {
     "name": "#%%\n"
    }
   }
  },
  {
   "cell_type": "code",
   "execution_count": 86,
   "outputs": [],
   "source": [
    "# Age and sex by region: NM_792_1\n",
    "# Age only: NM_503_1\n",
    "\n",
    "regions = {\n",
    "    'Camden': 1946157246,\n",
    "    'City of London': 1946157247,\n",
    "    'Hackney': 1946157248,\n",
    "    'Haringey': 1946157250,\n",
    "    'Islington': 1946157251,\n",
    "    'Kensington and Chelsea': 1946157252,\n",
    "    'Lambeth': 1946157253,\n",
    "    'Lewisham': 1946157254,\n",
    "    'Newham': 1946157255,\n",
    "    'Southwark': 1946157256,\n",
    "    'Tower Hamlets': 1946157257,\n",
    "    'Wandsworth': 1946157258,\n",
    "    'Westminster': 1946157259,\n",
    "    'Barking and Dagenham': 1946157260,\n",
    "    'Barnet': 1946157261,\n",
    "    'Bexley': 1946157262,\n",
    "    'Brent': 1946157263,\n",
    "    'Bromley': 1946157264,\n",
    "    'Croydon': 1946157265,\n",
    "    'Ealing': 1946157266,\n",
    "    'Enfield': 1946157267,\n",
    "    'Greenwich': 1946157268,\n",
    "    'Harrow': 1946157269,\n",
    "    'Havering': 1946157270,\n",
    "    'Hillingdon': 1946157271,\n",
    "    'Hounslow': 1946157272,\n",
    "    'Kingston upon Thames': 1946157273,\n",
    "    'Merton': 1946157274,\n",
    "    'Redbridge': 1946157275,\n",
    "    'Richmond upon Thames': 1946157276,\n",
    "    'Sutton': 1946157277,\n",
    "    'Waltham Forest': 1946157278,\n",
    "    'Dartford': 1946157313,\n",
    "    'Elmbridge': 1946157328,\n",
    "    'Epping Forest': 1946157216,\n",
    "    'Epsom and Ewell': 1946157329,\n",
    "    'Hammersmith & Fulham': 1946157249,\n",
    "    'Hertsmere': 1946157225,\n",
    "    'Mole Valley': 1946157331,\n",
    "    'Reigate and Banstead': 1946157332,\n",
    "    'Runnymede': 1946157333,\n",
    "    'Sevenoaks': 1946157317,\n",
    "    'South Bucks': 1946157293,\n",
    "    'Spelthorne': 1946157334,\n",
    "    'Tandridge': 1946157336,\n",
    "    'Three Rivers': 1946157229,\n",
    "    'Thurrock': 1946157204,\n",
    "    'Watford': 1946157230,\n",
    "    'Woking': 1946157338\n",
    "}\n"
   ],
   "metadata": {
    "collapsed": false,
    "pycharm": {
     "name": "#%%\n"
    }
   }
  },
  {
   "cell_type": "code",
   "execution_count": 66,
   "outputs": [],
   "source": [
    "http = urllib3.PoolManager()"
   ],
   "metadata": {
    "collapsed": false,
    "pycharm": {
     "name": "#%%\n"
    }
   }
  },
  {
   "cell_type": "code",
   "execution_count": 152,
   "outputs": [
    {
     "name": "stderr",
     "output_type": "stream",
     "text": [
      "100%|██████████| 49/49 [01:17<00:00,  1.58s/it]\n"
     ]
    }
   ],
   "source": [
    "for r in tqdm(regions):\n",
    "    # Deal with age and sex table\n",
    "    res = http.request(\"GET\", \"https://www.nomisweb.co.uk/api/v01/dataset/NM_792_1.data.csv?geography={}&rows=c_age&cols=c_sex\".format(regions[r]))\n",
    "\n",
    "    with open('tmp.txt', 'w') as f:\n",
    "        f.write(res.data.decode('utf-8'))\n",
    "\n",
    "    df = pd.read_csv('tmp.txt')\n",
    "    df = df.sort_values('C_AGE')\n",
    "    df = df.iloc[1:, :]\n",
    "    df.index = list(range(len(df)))\n",
    "\n",
    "    df = df[['GROUP 1: OBS_VALUE', 'GROUP 2: OBS_VALUE', 'GROUP 3: OBS_VALUE']]\n",
    "\n",
    "    df.rename(columns={'GROUP 1: OBS_VALUE': 'All', 'GROUP 2: OBS_VALUE': 'Males', 'GROUP 3: OBS_VALUE': 'Females'}, inplace=True)\n",
    "\n",
    "    df.to_csv('../../data/nomis_tmp/{}_age_sex.csv'.format(r), index=False)\n",
    "\n",
    "    # Deal with age table\n",
    "    res = http.request(\"GET\", \"https://www.nomisweb.co.uk/api/v01/dataset/NM_503_1.data.csv?geography={}&rows=c_age&cols=rural_urban&measures=20100\".format(regions[r]))\n",
    "\n",
    "    with open('tmp.txt', 'w') as f:\n",
    "        f.write(res.data.decode('utf-8'))\n",
    "\n",
    "    df = pd.read_csv('tmp.txt')\n",
    "\n",
    "    df = df.sort_values('C_AGE')\n",
    "    df = df.iloc[1:, :]\n",
    "    df.index = list(range(len(df)))\n",
    "\n",
    "    df = df['GROUP 1: OBS_VALUE']\n",
    "\n",
    "    df.rename('count', inplace=True)\n",
    "\n",
    "    df.to_csv('../../data/nomis_tmp/{}_age.csv'.format(r), index=False)\n",
    "\n",
    "    time.sleep(1)"
   ],
   "metadata": {
    "collapsed": false,
    "pycharm": {
     "name": "#%%\n"
    }
   }
  },
  {
   "cell_type": "code",
   "execution_count": null,
   "outputs": [],
   "source": [],
   "metadata": {
    "collapsed": false,
    "pycharm": {
     "name": "#%%\n"
    }
   }
  }
 ],
 "metadata": {
  "kernelspec": {
   "name": "dev",
   "language": "python",
   "display_name": "dev"
  },
  "language_info": {
   "codemirror_mode": {
    "name": "ipython",
    "version": 2
   },
   "file_extension": ".py",
   "mimetype": "text/x-python",
   "name": "python",
   "nbconvert_exporter": "python",
   "pygments_lexer": "ipython2",
   "version": "2.7.6"
  }
 },
 "nbformat": 4,
 "nbformat_minor": 0
}