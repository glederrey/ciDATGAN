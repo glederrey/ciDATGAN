{
 "cells": [
  {
   "cell_type": "code",
   "execution_count": 1,
   "metadata": {
    "collapsed": true
   },
   "outputs": [],
   "source": [
    "import chevron"
   ]
  },
  {
   "cell_type": "code",
   "execution_count": 2,
   "outputs": [],
   "source": [
    "with open('run.mustache', 'r') as f:\n",
    "    template = f.read()"
   ],
   "metadata": {
    "collapsed": false,
    "pycharm": {
     "name": "#%%\n"
    }
   }
  },
  {
   "cell_type": "code",
   "execution_count": 3,
   "outputs": [],
   "source": [
    "file_names = []\n",
    "\n",
    "for b in [0, 1, 2]:\n",
    "    for ci in [0, 1]:\n",
    "        for n in range(1,6):\n",
    "\n",
    "\n",
    "            dct_ = {\n",
    "                'bias': b,\n",
    "                'cond_inputs': ci,\n",
    "                'number': n,\n",
    "            }\n",
    "\n",
    "            ren = chevron.render(template, dct_)\n",
    "\n",
    "            file_name = 'scripts/run_{}_{}_{}.sh'.format(b, ci, n)\n",
    "\n",
    "            file_names.append('sbatch {}'.format(file_name))\n",
    "\n",
    "            with open(file_name, 'w') as f:\n",
    "                f.write(ren)\n",
    "\n",
    "with open('run_all.sh', 'w') as f:\n",
    "    f.write('\\n'.join(file_names))\n",
    "\n",
    "file_names = []"
   ],
   "metadata": {
    "collapsed": false,
    "pycharm": {
     "name": "#%%\n"
    }
   }
  },
  {
   "cell_type": "code",
   "execution_count": null,
   "outputs": [],
   "source": [],
   "metadata": {
    "collapsed": false,
    "pycharm": {
     "name": "#%%\n"
    }
   }
  }
 ],
 "metadata": {
  "kernelspec": {
   "display_name": "Python 3",
   "language": "python",
   "name": "python3"
  },
  "language_info": {
   "codemirror_mode": {
    "name": "ipython",
    "version": 2
   },
   "file_extension": ".py",
   "mimetype": "text/x-python",
   "name": "python",
   "nbconvert_exporter": "python",
   "pygments_lexer": "ipython2",
   "version": "2.7.6"
  }
 },
 "nbformat": 4,
 "nbformat_minor": 0
}